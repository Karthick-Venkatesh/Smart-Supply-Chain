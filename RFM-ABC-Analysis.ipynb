{
 "cells": [
  {
   "cell_type": "markdown",
   "id": "bd596675",
   "metadata": {
    "papermill": {
     "duration": 0.023131,
     "end_time": "2022-12-05T08:01:18.809458",
     "exception": false,
     "start_time": "2022-12-05T08:01:18.786327",
     "status": "completed"
    },
    "tags": []
   },
   "source": [
    "# Data Cleaning for Regression Models, RFM and ABC analysis on Data Co Supply Chain Data"
   ]
  },
  {
   "cell_type": "markdown",
   "id": "97caa621",
   "metadata": {
    "papermill": {
     "duration": 0.018399,
     "end_time": "2022-12-05T08:01:18.847557",
     "exception": false,
     "start_time": "2022-12-05T08:01:18.829158",
     "status": "completed"
    },
    "tags": []
   },
   "source": [
    "We will be performing RFM and ABC analysis on the Data Co Supply Chain Dataset. Recency, Frequency, And Monetary Analysis(RFM) and ABC are techniques in which we analyze historical data to give us an idea about important factors in our business and how we can better manage future running of business.\n",
    "\n",
    "Recency Frequency Monetary analysis helps demand side sector of an organization by segmenting customers and providing more insights to marketing department and sales department about the customers who buy products at the store.\n",
    "\n",
    "ABC analysis helps the supply side sector of an organization by segmenting products based on revenue they generate. It helps manage inventory more efficiently.\n",
    "\n",
    "We will also be performing some data cleaning so that if we wanted to use that data in regression, we could use it. "
   ]
  },
  {
   "cell_type": "markdown",
   "id": "c4003aa8",
   "metadata": {
    "papermill": {
     "duration": 0.018306,
     "end_time": "2022-12-05T08:01:18.884980",
     "exception": false,
     "start_time": "2022-12-05T08:01:18.866674",
     "status": "completed"
    },
    "tags": []
   },
   "source": [
    "## Needed Packages"
   ]
  },
  {
   "cell_type": "code",
   "execution_count": 1,
   "id": "d2820cbb",
   "metadata": {
    "execution": {
     "iopub.execute_input": "2022-12-05T08:01:18.924369Z",
     "iopub.status.busy": "2022-12-05T08:01:18.923535Z",
     "iopub.status.idle": "2022-12-05T08:01:21.115606Z",
     "shell.execute_reply": "2022-12-05T08:01:21.114196Z"
    },
    "papermill": {
     "duration": 2.215309,
     "end_time": "2022-12-05T08:01:21.118813",
     "exception": false,
     "start_time": "2022-12-05T08:01:18.903504",
     "status": "completed"
    },
    "tags": []
   },
   "outputs": [],
   "source": [
    "import pandas as pd\n",
    "import dateutil.parser\n",
    "import numpy as np\n",
    "import datetime\n",
    "from statsmodels.stats.outliers_influence import variance_inflation_factor\n",
    "import seaborn as sns;\n",
    "import matplotlib.pyplot as plt\n",
    "from plotly import graph_objects as go\n",
    "import plotly.express as px"
   ]
  },
  {
   "cell_type": "code",
   "execution_count": 2,
   "id": "0297957f",
   "metadata": {
    "execution": {
     "iopub.execute_input": "2022-12-05T08:01:21.158471Z",
     "iopub.status.busy": "2022-12-05T08:01:21.157563Z",
     "iopub.status.idle": "2022-12-05T08:01:24.297435Z",
     "shell.execute_reply": "2022-12-05T08:01:24.296270Z"
    },
    "papermill": {
     "duration": 3.162566,
     "end_time": "2022-12-05T08:01:24.300353",
     "exception": false,
     "start_time": "2022-12-05T08:01:21.137787",
     "status": "completed"
    },
    "tags": []
   },
   "outputs": [
    {
     "name": "stdout",
     "output_type": "stream",
     "text": [
      "<class 'pandas.core.frame.DataFrame'>\n",
      "RangeIndex: 180519 entries, 0 to 180518\n",
      "Data columns (total 53 columns):\n",
      " #   Column                         Non-Null Count   Dtype  \n",
      "---  ------                         --------------   -----  \n",
      " 0   Type                           180519 non-null  object \n",
      " 1   Days for shipping (real)       180519 non-null  int64  \n",
      " 2   Days for shipment (scheduled)  180519 non-null  int64  \n",
      " 3   Benefit per order              180519 non-null  float64\n",
      " 4   Sales per customer             180519 non-null  float64\n",
      " 5   Delivery Status                180519 non-null  object \n",
      " 6   Late_delivery_risk             180519 non-null  int64  \n",
      " 7   Category Id                    180519 non-null  int64  \n",
      " 8   Category Name                  180519 non-null  object \n",
      " 9   Customer City                  180519 non-null  object \n",
      " 10  Customer Country               180519 non-null  object \n",
      " 11  Customer Email                 180519 non-null  object \n",
      " 12  Customer Fname                 180519 non-null  object \n",
      " 13  Customer Id                    180519 non-null  int64  \n",
      " 14  Customer Lname                 180511 non-null  object \n",
      " 15  Customer Password              180519 non-null  object \n",
      " 16  Customer Segment               180519 non-null  object \n",
      " 17  Customer State                 180519 non-null  object \n",
      " 18  Customer Street                180519 non-null  object \n",
      " 19  Customer Zipcode               180516 non-null  float64\n",
      " 20  Department Id                  180519 non-null  int64  \n",
      " 21  Department Name                180519 non-null  object \n",
      " 22  Latitude                       180519 non-null  float64\n",
      " 23  Longitude                      180519 non-null  float64\n",
      " 24  Market                         180519 non-null  object \n",
      " 25  Order City                     180519 non-null  object \n",
      " 26  Order Country                  180519 non-null  object \n",
      " 27  Order Customer Id              180519 non-null  int64  \n",
      " 28  order date (DateOrders)        180519 non-null  object \n",
      " 29  Order Id                       180519 non-null  int64  \n",
      " 30  Order Item Cardprod Id         180519 non-null  int64  \n",
      " 31  Order Item Discount            180519 non-null  float64\n",
      " 32  Order Item Discount Rate       180519 non-null  float64\n",
      " 33  Order Item Id                  180519 non-null  int64  \n",
      " 34  Order Item Product Price       180519 non-null  float64\n",
      " 35  Order Item Profit Ratio        180519 non-null  float64\n",
      " 36  Order Item Quantity            180519 non-null  int64  \n",
      " 37  Sales                          180519 non-null  float64\n",
      " 38  Order Item Total               180519 non-null  float64\n",
      " 39  Order Profit Per Order         180519 non-null  float64\n",
      " 40  Order Region                   180519 non-null  object \n",
      " 41  Order State                    180519 non-null  object \n",
      " 42  Order Status                   180519 non-null  object \n",
      " 43  Order Zipcode                  24840 non-null   float64\n",
      " 44  Product Card Id                180519 non-null  int64  \n",
      " 45  Product Category Id            180519 non-null  int64  \n",
      " 46  Product Description            0 non-null       float64\n",
      " 47  Product Image                  180519 non-null  object \n",
      " 48  Product Name                   180519 non-null  object \n",
      " 49  Product Price                  180519 non-null  float64\n",
      " 50  Product Status                 180519 non-null  int64  \n",
      " 51  shipping date (DateOrders)     180519 non-null  object \n",
      " 52  Shipping Mode                  180519 non-null  object \n",
      "dtypes: float64(15), int64(14), object(24)\n",
      "memory usage: 73.0+ MB\n"
     ]
    }
   ],
   "source": [
    "dFppsc= pd.read_csv(\"../input/dataco-smart-supply-chain-for-big-data-analysis/DataCoSupplyChainDataset.csv\", encoding_errors=\"ignore\")\n",
    "dFppsc.info()"
   ]
  },
  {
   "cell_type": "markdown",
   "id": "19cec713",
   "metadata": {
    "papermill": {
     "duration": 0.018529,
     "end_time": "2022-12-05T08:01:24.338519",
     "exception": false,
     "start_time": "2022-12-05T08:01:24.319990",
     "status": "completed"
    },
    "tags": []
   },
   "source": [
    "We have added description of various columns in \"DescriptionDataCoSupplyChain.xlsx\" file. This will give you context of various datapoints present in the dataframe."
   ]
  },
  {
   "cell_type": "markdown",
   "id": "6c6acd12",
   "metadata": {
    "papermill": {
     "duration": 0.018508,
     "end_time": "2022-12-05T08:01:24.375556",
     "exception": false,
     "start_time": "2022-12-05T08:01:24.357048",
     "status": "completed"
    },
    "tags": []
   },
   "source": [
    "## Data Cleaning for Regression Models"
   ]
  },
  {
   "cell_type": "markdown",
   "id": "743c24e5",
   "metadata": {
    "papermill": {
     "duration": 0.01826,
     "end_time": "2022-12-05T08:01:24.412571",
     "exception": false,
     "start_time": "2022-12-05T08:01:24.394311",
     "status": "completed"
    },
    "tags": []
   },
   "source": [
    "**Looking for Missing values or null values.**"
   ]
  },
  {
   "cell_type": "markdown",
   "id": "9ba4a594",
   "metadata": {
    "papermill": {
     "duration": 0.018166,
     "end_time": "2022-12-05T08:01:24.449486",
     "exception": false,
     "start_time": "2022-12-05T08:01:24.431320",
     "status": "completed"
    },
    "tags": []
   },
   "source": [
    "From the above information we can see that \"Customer Zipcode\" is null at 3 places and \"Order Zipcode\" is null at 155679 places. \n",
    "But they are not so important when we have features Order State, Order Region, Order City, Order Country, Latitude, Langitude, Customer Street, Customer City, Customer State. \n",
    "\n",
    "Product Description is null for all the records and we will drop that column going forward.\n",
    "\n",
    "Customer LName is also null at 8 places. Again it will not matter much as we will be using Customer Id to identify all the purchases a particular customer has made at a store.\n",
    "\n",
    "All other columns are have 0 null values."
   ]
  },
  {
   "cell_type": "code",
   "execution_count": 3,
   "id": "a4acf6d5",
   "metadata": {
    "execution": {
     "iopub.execute_input": "2022-12-05T08:01:24.488185Z",
     "iopub.status.busy": "2022-12-05T08:01:24.487766Z",
     "iopub.status.idle": "2022-12-05T08:01:24.555373Z",
     "shell.execute_reply": "2022-12-05T08:01:24.554210Z"
    },
    "papermill": {
     "duration": 0.090009,
     "end_time": "2022-12-05T08:01:24.558028",
     "exception": false,
     "start_time": "2022-12-05T08:01:24.468019",
     "status": "completed"
    },
    "tags": []
   },
   "outputs": [],
   "source": [
    "dFppsc.drop(\"Product Description\",axis=1,inplace=True)"
   ]
  },
  {
   "cell_type": "markdown",
   "id": "e80852b9",
   "metadata": {
    "papermill": {
     "duration": 0.01924,
     "end_time": "2022-12-05T08:01:24.596174",
     "exception": false,
     "start_time": "2022-12-05T08:01:24.576934",
     "status": "completed"
    },
    "tags": []
   },
   "source": [
    "**Converting Date Columns to datetime objects**"
   ]
  },
  {
   "cell_type": "code",
   "execution_count": 4,
   "id": "b03fbdab",
   "metadata": {
    "execution": {
     "iopub.execute_input": "2022-12-05T08:01:24.636303Z",
     "iopub.status.busy": "2022-12-05T08:01:24.635891Z",
     "iopub.status.idle": "2022-12-05T08:02:00.669202Z",
     "shell.execute_reply": "2022-12-05T08:02:00.667889Z"
    },
    "papermill": {
     "duration": 36.05655,
     "end_time": "2022-12-05T08:02:00.672161",
     "exception": false,
     "start_time": "2022-12-05T08:01:24.615611",
     "status": "completed"
    },
    "tags": []
   },
   "outputs": [],
   "source": [
    "dFppsc[\"order date (DateOrders)\"]=pd.to_datetime(dFppsc[\"order date (DateOrders)\"])\n",
    "dFppsc[\"shipping date (DateOrders)\"]=pd.to_datetime(dFppsc[\"shipping date (DateOrders)\"])\n",
    "dFppsc=dFppsc.sort_values(by=\"order date (DateOrders)\")"
   ]
  },
  {
   "cell_type": "markdown",
   "id": "ecf828d4",
   "metadata": {
    "papermill": {
     "duration": 0.02156,
     "end_time": "2022-12-05T08:02:00.712893",
     "exception": false,
     "start_time": "2022-12-05T08:02:00.691333",
     "status": "completed"
    },
    "tags": []
   },
   "source": [
    "**Identifying duplicate columns with help of co-relation function.** \n",
    "\n",
    "After seeing the context of the columns in the attached description file it seems that many of the columns are having the same data. We will use co-relation to identify them."
   ]
  },
  {
   "cell_type": "code",
   "execution_count": 5,
   "id": "af84fe0d",
   "metadata": {
    "execution": {
     "iopub.execute_input": "2022-12-05T08:02:00.752952Z",
     "iopub.status.busy": "2022-12-05T08:02:00.752101Z",
     "iopub.status.idle": "2022-12-05T08:02:01.599717Z",
     "shell.execute_reply": "2022-12-05T08:02:01.598335Z"
    },
    "papermill": {
     "duration": 0.870742,
     "end_time": "2022-12-05T08:02:01.602635",
     "exception": false,
     "start_time": "2022-12-05T08:02:00.731893",
     "status": "completed"
    },
    "tags": []
   },
   "outputs": [
    {
     "name": "stdout",
     "output_type": "stream",
     "text": [
      "Customer Id          1.0\n",
      "Order Customer Id    1.0\n",
      "Name: Order Customer Id, dtype: float64\n",
      "Sales per customer    1.0\n",
      "Order Item Total      1.0\n",
      "Name: Order Item Total, dtype: float64\n",
      "Benefit per order         1.0\n",
      "Order Profit Per Order    1.0\n",
      "Name: Order Profit Per Order, dtype: float64\n",
      "Order Item Cardprod Id    1.0\n",
      "Product Card Id           1.0\n",
      "Name: Product Card Id, dtype: float64\n",
      "Category Id            1.0\n",
      "Product Category Id    1.0\n",
      "Name: Product Category Id, dtype: float64\n",
      "Order Item Product Price    1.0\n",
      "Product Price               1.0\n",
      "Name: Product Price, dtype: float64\n"
     ]
    }
   ],
   "source": [
    "m=dFppsc.corr()\n",
    "m[m==1].to_excel(\"corr1.xlsx\")\n",
    "matrix=m.abs()\n",
    "upper_tri = matrix.where(np.triu(np.ones(matrix.shape),k=1).astype(bool))\n",
    "co_col=[column for column in upper_tri.columns if any(upper_tri[column] ==1)]\n",
    "co_linear_col=[]\n",
    "for c in co_col:\n",
    "    co_linear_col.append([c,matrix[c][matrix[c]==1]])\n",
    "co_linear_col  \n",
    "for c in co_linear_col:\n",
    "    print(c[1])"
   ]
  },
  {
   "cell_type": "markdown",
   "id": "22f732a6",
   "metadata": {
    "papermill": {
     "duration": 0.019236,
     "end_time": "2022-12-05T08:02:01.641002",
     "exception": false,
     "start_time": "2022-12-05T08:02:01.621766",
     "status": "completed"
    },
    "tags": []
   },
   "source": [
    "We calculated the corelation between different columns and found out that several columns have correlation of 1. This is not possible unless they are duplicate columns or one columns is derived from another for e.g x=5y."
   ]
  },
  {
   "cell_type": "code",
   "execution_count": 6,
   "id": "0242cb59",
   "metadata": {
    "execution": {
     "iopub.execute_input": "2022-12-05T08:02:01.681898Z",
     "iopub.status.busy": "2022-12-05T08:02:01.681129Z",
     "iopub.status.idle": "2022-12-05T08:02:01.697972Z",
     "shell.execute_reply": "2022-12-05T08:02:01.697018Z"
    },
    "papermill": {
     "duration": 0.040226,
     "end_time": "2022-12-05T08:02:01.700135",
     "exception": false,
     "start_time": "2022-12-05T08:02:01.659909",
     "status": "completed"
    },
    "tags": []
   },
   "outputs": [
    {
     "name": "stdout",
     "output_type": "stream",
     "text": [
      "Length of the data frame where benefits per order and order profit per order are not equal :0\n",
      "Length of the data frame where sales per customer and Order Item Total are not equal :0\n",
      "Length of the data frame where Order Item Cardprod Id and Product Card Id are not equal :0\n",
      "Length of the data frame where Product Price and Order Item Product Price are not equal :0\n",
      "Length of the data frame where Category Id and Product Category Id are not equal :0\n",
      "Length of the data frame where Order Customer Id and Customer Id Product Price are not equal :0\n"
     ]
    }
   ],
   "source": [
    "print(\"Length of the data frame where benefits per order and order profit per order are not equal :\"+str(dFppsc[dFppsc[\"Benefit per order\"]!=dFppsc[\"Order Profit Per Order\"]].shape[0]))\n",
    "print(\"Length of the data frame where sales per customer and Order Item Total are not equal :\"+str(dFppsc[dFppsc[\"Sales per customer\"]!=dFppsc[\"Order Item Total\"]].shape[0]))\n",
    "print(\"Length of the data frame where Order Item Cardprod Id and Product Card Id are not equal :\"+str(dFppsc[dFppsc[\"Order Item Cardprod Id\"]!=dFppsc[\"Product Card Id\"]].shape[0]))\n",
    "print(\"Length of the data frame where Product Price and Order Item Product Price are not equal :\"+str(dFppsc[dFppsc[\"Product Price\"]!=dFppsc[\"Order Item Product Price\"]].shape[0]))\n",
    "print(\"Length of the data frame where Category Id and Product Category Id are not equal :\"+str(dFppsc[dFppsc[\"Product Category Id\"]!=dFppsc[\"Category Id\"]].shape[0]))\n",
    "print(\"Length of the data frame where Order Customer Id and Customer Id Product Price are not equal :\"+str(dFppsc[dFppsc[\"Order Customer Id\"]!=dFppsc[\"Customer Id\"]].shape[0]))"
   ]
  },
  {
   "cell_type": "markdown",
   "id": "ca86b60e",
   "metadata": {
    "papermill": {
     "duration": 0.018566,
     "end_time": "2022-12-05T08:02:01.737710",
     "exception": false,
     "start_time": "2022-12-05T08:02:01.719144",
     "status": "completed"
    },
    "tags": []
   },
   "source": [
    "After comparing the values in columns pairs having co-relation of 1, we can see that all values are equal for these pair of columns. We can drop one of the columns from each of the above pairs as they are duplicate columns of each other."
   ]
  },
  {
   "cell_type": "code",
   "execution_count": 7,
   "id": "ffe4d0ba",
   "metadata": {
    "execution": {
     "iopub.execute_input": "2022-12-05T08:02:01.778025Z",
     "iopub.status.busy": "2022-12-05T08:02:01.777349Z",
     "iopub.status.idle": "2022-12-05T08:02:01.847934Z",
     "shell.execute_reply": "2022-12-05T08:02:01.846848Z"
    },
    "papermill": {
     "duration": 0.093875,
     "end_time": "2022-12-05T08:02:01.850491",
     "exception": false,
     "start_time": "2022-12-05T08:02:01.756616",
     "status": "completed"
    },
    "tags": []
   },
   "outputs": [],
   "source": [
    "dFppsc.drop([\"Benefit per order\",\"Sales per customer\",\"Order Item Cardprod Id\",\"Order Item Product Price\",\"Product Category Id\",\"Order Customer Id\"],axis=1,inplace=True)"
   ]
  },
  {
   "cell_type": "markdown",
   "id": "d8f66a34",
   "metadata": {
    "papermill": {
     "duration": 0.019548,
     "end_time": "2022-12-05T08:02:01.890155",
     "exception": false,
     "start_time": "2022-12-05T08:02:01.870607",
     "status": "completed"
    },
    "tags": []
   },
   "source": [
    "**Using Variance Inflation Factor to find out multi-colinearity between three or more columns**\n",
    "\n",
    "Corelation helps us in finding relations between any two columns. But what if we want to find out if there is a relation between three or more columns. That's where Variance Inflaction Factor can help.\n",
    "\n",
    "**Variance Inflation Factor (VIF)** - VIF is the ratio of variance of coefficient estimate when fitting the full model divided by the variance of coefficient estimate if fit on its own. The minimum possible value is 1 which indicates no collinearity. If value exceeds 5, then collinearity should be addressed.\n",
    "\n",
    "We will take all the numeric columns and try to find variance_inflation_factor for them."
   ]
  },
  {
   "cell_type": "code",
   "execution_count": 8,
   "id": "632ba75e",
   "metadata": {
    "execution": {
     "iopub.execute_input": "2022-12-05T08:02:01.932678Z",
     "iopub.status.busy": "2022-12-05T08:02:01.931539Z",
     "iopub.status.idle": "2022-12-05T08:02:02.820380Z",
     "shell.execute_reply": "2022-12-05T08:02:02.819119Z"
    },
    "papermill": {
     "duration": 0.913403,
     "end_time": "2022-12-05T08:02:02.823474",
     "exception": false,
     "start_time": "2022-12-05T08:02:01.910071",
     "status": "completed"
    },
    "tags": []
   },
   "outputs": [
    {
     "data": {
      "text/html": [
       "<div>\n",
       "<style scoped>\n",
       "    .dataframe tbody tr th:only-of-type {\n",
       "        vertical-align: middle;\n",
       "    }\n",
       "\n",
       "    .dataframe tbody tr th {\n",
       "        vertical-align: top;\n",
       "    }\n",
       "\n",
       "    .dataframe thead th {\n",
       "        text-align: right;\n",
       "    }\n",
       "</style>\n",
       "<table border=\"1\" class=\"dataframe\">\n",
       "  <thead>\n",
       "    <tr style=\"text-align: right;\">\n",
       "      <th></th>\n",
       "      <th>0</th>\n",
       "      <th>1</th>\n",
       "      <th>2</th>\n",
       "      <th>3</th>\n",
       "      <th>4</th>\n",
       "      <th>5</th>\n",
       "      <th>6</th>\n",
       "      <th>7</th>\n",
       "    </tr>\n",
       "  </thead>\n",
       "  <tbody>\n",
       "    <tr>\n",
       "      <th>columns</th>\n",
       "      <td>Order Item Discount</td>\n",
       "      <td>Order Item Discount Rate</td>\n",
       "      <td>Order Item Profit Ratio</td>\n",
       "      <td>Order Item Quantity</td>\n",
       "      <td>Sales</td>\n",
       "      <td>Order Item Total</td>\n",
       "      <td>Order Profit Per Order</td>\n",
       "      <td>Product Price</td>\n",
       "    </tr>\n",
       "    <tr>\n",
       "      <th>vif value</th>\n",
       "      <td>389415821.949077</td>\n",
       "      <td>6.126471</td>\n",
       "      <td>3.410618</td>\n",
       "      <td>12.809224</td>\n",
       "      <td>25472272275.347256</td>\n",
       "      <td>20690128715.483124</td>\n",
       "      <td>3.413</td>\n",
       "      <td>24.873511</td>\n",
       "    </tr>\n",
       "  </tbody>\n",
       "</table>\n",
       "</div>"
      ],
      "text/plain": [
       "                             0                         1  \\\n",
       "columns    Order Item Discount  Order Item Discount Rate   \n",
       "vif value     389415821.949077                  6.126471   \n",
       "\n",
       "                                 2                    3                   4  \\\n",
       "columns    Order Item Profit Ratio  Order Item Quantity               Sales   \n",
       "vif value                 3.410618            12.809224  25472272275.347256   \n",
       "\n",
       "                            5                       6              7  \n",
       "columns      Order Item Total  Order Profit Per Order  Product Price  \n",
       "vif value  20690128715.483124                   3.413      24.873511  "
      ]
     },
     "execution_count": 8,
     "metadata": {},
     "output_type": "execute_result"
    }
   ],
   "source": [
    "vif=pd.DataFrame()\n",
    "vif[\"columns\"]=['Order Item Discount',\n",
    "       'Order Item Discount Rate', 'Order Item Profit Ratio',\n",
    "       'Order Item Quantity', 'Sales', 'Order Item Total',\n",
    "       'Order Profit Per Order','Product Price']\n",
    "vif[\"vif value\"] = [variance_inflation_factor(dFppsc[['Order Item Discount',\n",
    "       'Order Item Discount Rate', 'Order Item Profit Ratio',\n",
    "       'Order Item Quantity', 'Sales', 'Order Item Total',\n",
    "       'Order Profit Per Order','Product Price']].values, i) for i in range(len(vif[\"columns\"]))]\n",
    "vif.T"
   ]
  },
  {
   "cell_type": "markdown",
   "id": "cc857e67",
   "metadata": {
    "papermill": {
     "duration": 0.031408,
     "end_time": "2022-12-05T08:02:02.887001",
     "exception": false,
     "start_time": "2022-12-05T08:02:02.855593",
     "status": "completed"
    },
    "tags": []
   },
   "source": [
    "You can see that several of columns have vif values above 5 and some of them are very high. Such high value usually indicate that value in one column can be derived from values in other columns. Lets look at the data and see if we can find the relation."
   ]
  },
  {
   "cell_type": "code",
   "execution_count": 9,
   "id": "dc763d96",
   "metadata": {
    "execution": {
     "iopub.execute_input": "2022-12-05T08:02:02.938598Z",
     "iopub.status.busy": "2022-12-05T08:02:02.938187Z",
     "iopub.status.idle": "2022-12-05T08:02:02.957767Z",
     "shell.execute_reply": "2022-12-05T08:02:02.956652Z"
    },
    "papermill": {
     "duration": 0.04236,
     "end_time": "2022-12-05T08:02:02.959913",
     "exception": false,
     "start_time": "2022-12-05T08:02:02.917553",
     "status": "completed"
    },
    "tags": []
   },
   "outputs": [
    {
     "data": {
      "text/html": [
       "<div>\n",
       "<style scoped>\n",
       "    .dataframe tbody tr th:only-of-type {\n",
       "        vertical-align: middle;\n",
       "    }\n",
       "\n",
       "    .dataframe tbody tr th {\n",
       "        vertical-align: top;\n",
       "    }\n",
       "\n",
       "    .dataframe thead th {\n",
       "        text-align: right;\n",
       "    }\n",
       "</style>\n",
       "<table border=\"1\" class=\"dataframe\">\n",
       "  <thead>\n",
       "    <tr style=\"text-align: right;\">\n",
       "      <th></th>\n",
       "      <th>Order Item Discount</th>\n",
       "      <th>Order Item Discount Rate</th>\n",
       "      <th>Order Item Profit Ratio</th>\n",
       "      <th>Order Item Quantity</th>\n",
       "      <th>Sales</th>\n",
       "      <th>Order Item Total</th>\n",
       "      <th>Order Profit Per Order</th>\n",
       "      <th>Product Price</th>\n",
       "    </tr>\n",
       "  </thead>\n",
       "  <tbody>\n",
       "    <tr>\n",
       "      <th>33833</th>\n",
       "      <td>60.00</td>\n",
       "      <td>0.20</td>\n",
       "      <td>0.37</td>\n",
       "      <td>1</td>\n",
       "      <td>299.980011</td>\n",
       "      <td>239.979996</td>\n",
       "      <td>88.790001</td>\n",
       "      <td>299.980011</td>\n",
       "    </tr>\n",
       "    <tr>\n",
       "      <th>77011</th>\n",
       "      <td>6.00</td>\n",
       "      <td>0.03</td>\n",
       "      <td>0.47</td>\n",
       "      <td>1</td>\n",
       "      <td>199.990005</td>\n",
       "      <td>193.990005</td>\n",
       "      <td>91.180000</td>\n",
       "      <td>199.990005</td>\n",
       "    </tr>\n",
       "    <tr>\n",
       "      <th>109322</th>\n",
       "      <td>22.50</td>\n",
       "      <td>0.09</td>\n",
       "      <td>0.30</td>\n",
       "      <td>5</td>\n",
       "      <td>250.000000</td>\n",
       "      <td>227.500000</td>\n",
       "      <td>68.250000</td>\n",
       "      <td>50.000000</td>\n",
       "    </tr>\n",
       "    <tr>\n",
       "      <th>87884</th>\n",
       "      <td>22.10</td>\n",
       "      <td>0.17</td>\n",
       "      <td>0.34</td>\n",
       "      <td>1</td>\n",
       "      <td>129.990005</td>\n",
       "      <td>107.889999</td>\n",
       "      <td>36.470001</td>\n",
       "      <td>129.990005</td>\n",
       "    </tr>\n",
       "    <tr>\n",
       "      <th>114915</th>\n",
       "      <td>39.98</td>\n",
       "      <td>0.20</td>\n",
       "      <td>0.21</td>\n",
       "      <td>4</td>\n",
       "      <td>199.919998</td>\n",
       "      <td>159.940002</td>\n",
       "      <td>33.590000</td>\n",
       "      <td>49.980000</td>\n",
       "    </tr>\n",
       "  </tbody>\n",
       "</table>\n",
       "</div>"
      ],
      "text/plain": [
       "        Order Item Discount  Order Item Discount Rate  \\\n",
       "33833                 60.00                      0.20   \n",
       "77011                  6.00                      0.03   \n",
       "109322                22.50                      0.09   \n",
       "87884                 22.10                      0.17   \n",
       "114915                39.98                      0.20   \n",
       "\n",
       "        Order Item Profit Ratio  Order Item Quantity       Sales  \\\n",
       "33833                      0.37                    1  299.980011   \n",
       "77011                      0.47                    1  199.990005   \n",
       "109322                     0.30                    5  250.000000   \n",
       "87884                      0.34                    1  129.990005   \n",
       "114915                     0.21                    4  199.919998   \n",
       "\n",
       "        Order Item Total  Order Profit Per Order  Product Price  \n",
       "33833         239.979996               88.790001     299.980011  \n",
       "77011         193.990005               91.180000     199.990005  \n",
       "109322        227.500000               68.250000      50.000000  \n",
       "87884         107.889999               36.470001     129.990005  \n",
       "114915        159.940002               33.590000      49.980000  "
      ]
     },
     "execution_count": 9,
     "metadata": {},
     "output_type": "execute_result"
    }
   ],
   "source": [
    "dFppsc[['Order Item Discount',\n",
    "       'Order Item Discount Rate', 'Order Item Profit Ratio',\n",
    "       'Order Item Quantity', 'Sales', 'Order Item Total',\n",
    "       'Order Profit Per Order','Product Price']].head(5)"
   ]
  },
  {
   "cell_type": "markdown",
   "id": "33c4223d",
   "metadata": {
    "papermill": {
     "duration": 0.019662,
     "end_time": "2022-12-05T08:02:02.999250",
     "exception": false,
     "start_time": "2022-12-05T08:02:02.979588",
     "status": "completed"
    },
    "tags": []
   },
   "source": [
    "When you do some basic math you will find these below relationship among these columns:-\n",
    "1. Sales = Product Price * Order Item Quantity\n",
    "2. Order Item Total = Sales - Order Item Discount \n",
    "3. Order Item Discount = Sales * Order Item Discount Rate\n",
    "4. Order Profit Per Order= Order Item Total * Order Item Profit Ratio\n",
    "\n",
    "These are perfect multi colinear features that shouldn't be passed on to regression models because it affects the performance of the model. You can drop one of the features from each of the above relationship."
   ]
  },
  {
   "cell_type": "code",
   "execution_count": 10,
   "id": "371f192a",
   "metadata": {
    "execution": {
     "iopub.execute_input": "2022-12-05T08:02:03.040937Z",
     "iopub.status.busy": "2022-12-05T08:02:03.040186Z",
     "iopub.status.idle": "2022-12-05T08:02:03.086966Z",
     "shell.execute_reply": "2022-12-05T08:02:03.085855Z"
    },
    "papermill": {
     "duration": 0.070752,
     "end_time": "2022-12-05T08:02:03.089648",
     "exception": false,
     "start_time": "2022-12-05T08:02:03.018896",
     "status": "completed"
    },
    "tags": []
   },
   "outputs": [],
   "source": [
    "df1=dFppsc.drop([\"Order Item Total\",\"Product Price\",\"Order Item Discount Rate\",\"Order Profit Per Order\"],axis=1)"
   ]
  },
  {
   "cell_type": "code",
   "execution_count": 11,
   "id": "5917712d",
   "metadata": {
    "execution": {
     "iopub.execute_input": "2022-12-05T08:02:03.132187Z",
     "iopub.status.busy": "2022-12-05T08:02:03.131785Z",
     "iopub.status.idle": "2022-12-05T08:02:03.327392Z",
     "shell.execute_reply": "2022-12-05T08:02:03.326155Z"
    },
    "papermill": {
     "duration": 0.220519,
     "end_time": "2022-12-05T08:02:03.330480",
     "exception": false,
     "start_time": "2022-12-05T08:02:03.109961",
     "status": "completed"
    },
    "tags": []
   },
   "outputs": [
    {
     "data": {
      "text/html": [
       "<div>\n",
       "<style scoped>\n",
       "    .dataframe tbody tr th:only-of-type {\n",
       "        vertical-align: middle;\n",
       "    }\n",
       "\n",
       "    .dataframe tbody tr th {\n",
       "        vertical-align: top;\n",
       "    }\n",
       "\n",
       "    .dataframe thead th {\n",
       "        text-align: right;\n",
       "    }\n",
       "</style>\n",
       "<table border=\"1\" class=\"dataframe\">\n",
       "  <thead>\n",
       "    <tr style=\"text-align: right;\">\n",
       "      <th></th>\n",
       "      <th>columns</th>\n",
       "      <th>data</th>\n",
       "    </tr>\n",
       "  </thead>\n",
       "  <tbody>\n",
       "    <tr>\n",
       "      <th>0</th>\n",
       "      <td>Sales</td>\n",
       "      <td>4.200158</td>\n",
       "    </tr>\n",
       "    <tr>\n",
       "      <th>1</th>\n",
       "      <td>Order Item Quantity</td>\n",
       "      <td>2.124456</td>\n",
       "    </tr>\n",
       "    <tr>\n",
       "      <th>2</th>\n",
       "      <td>Order Item Discount</td>\n",
       "      <td>3.068174</td>\n",
       "    </tr>\n",
       "    <tr>\n",
       "      <th>3</th>\n",
       "      <td>Order Item Profit Ratio</td>\n",
       "      <td>1.052867</td>\n",
       "    </tr>\n",
       "  </tbody>\n",
       "</table>\n",
       "</div>"
      ],
      "text/plain": [
       "                   columns      data\n",
       "0                    Sales  4.200158\n",
       "1      Order Item Quantity  2.124456\n",
       "2      Order Item Discount  3.068174\n",
       "3  Order Item Profit Ratio  1.052867"
      ]
     },
     "execution_count": 11,
     "metadata": {},
     "output_type": "execute_result"
    }
   ],
   "source": [
    "vif=pd.DataFrame()\n",
    "vif[\"columns\"]=['Sales',\n",
    "                'Order Item Quantity','Order Item Discount','Order Item Profit Ratio']\n",
    "vif[\"data\"] = [variance_inflation_factor(df1[['Sales',\n",
    "                'Order Item Quantity','Order Item Discount','Order Item Profit Ratio']].values, i) for i in range(len(vif[\"columns\"]))]\n",
    "vif"
   ]
  },
  {
   "cell_type": "markdown",
   "id": "02747a29",
   "metadata": {
    "papermill": {
     "duration": 0.031588,
     "end_time": "2022-12-05T08:02:03.394072",
     "exception": false,
     "start_time": "2022-12-05T08:02:03.362484",
     "status": "completed"
    },
    "tags": []
   },
   "source": [
    "**As you can see the vif value greatly reduced after we dropped the columns. These are some ways to clean the data before you use it for regression**\n",
    "\n",
    "**Now lets do some data cleaning for performing RFM and ABC analysis. Lets look at the different Delivery Statuses**"
   ]
  },
  {
   "cell_type": "code",
   "execution_count": 12,
   "id": "a2fda818",
   "metadata": {
    "execution": {
     "iopub.execute_input": "2022-12-05T08:02:03.452209Z",
     "iopub.status.busy": "2022-12-05T08:02:03.451414Z",
     "iopub.status.idle": "2022-12-05T08:02:03.472472Z",
     "shell.execute_reply": "2022-12-05T08:02:03.471682Z"
    },
    "papermill": {
     "duration": 0.048375,
     "end_time": "2022-12-05T08:02:03.474650",
     "exception": false,
     "start_time": "2022-12-05T08:02:03.426275",
     "status": "completed"
    },
    "tags": []
   },
   "outputs": [
    {
     "data": {
      "text/plain": [
       "array(['Advance shipping', 'Late delivery', 'Shipping on time',\n",
       "       'Shipping canceled'], dtype=object)"
      ]
     },
     "execution_count": 12,
     "metadata": {},
     "output_type": "execute_result"
    }
   ],
   "source": [
    "dFppsc[\"Delivery Status\"].unique()"
   ]
  },
  {
   "cell_type": "code",
   "execution_count": 13,
   "id": "3cb206c8",
   "metadata": {
    "execution": {
     "iopub.execute_input": "2022-12-05T08:02:03.516768Z",
     "iopub.status.busy": "2022-12-05T08:02:03.515692Z",
     "iopub.status.idle": "2022-12-05T08:02:03.542079Z",
     "shell.execute_reply": "2022-12-05T08:02:03.540975Z"
    },
    "papermill": {
     "duration": 0.049891,
     "end_time": "2022-12-05T08:02:03.544572",
     "exception": false,
     "start_time": "2022-12-05T08:02:03.494681",
     "status": "completed"
    },
    "tags": []
   },
   "outputs": [
    {
     "data": {
      "text/plain": [
       "Delivery Status\n",
       "Advance shipping     41592\n",
       "Late delivery        98977\n",
       "Shipping canceled     7754\n",
       "Shipping on time     32196\n",
       "Name: Order Id, dtype: int64"
      ]
     },
     "execution_count": 13,
     "metadata": {},
     "output_type": "execute_result"
    }
   ],
   "source": [
    "dFppsc.groupby(\"Delivery Status\")[\"Order Id\"].count()"
   ]
  },
  {
   "cell_type": "markdown",
   "id": "5fc6f3c8",
   "metadata": {
    "papermill": {
     "duration": 0.020013,
     "end_time": "2022-12-05T08:02:03.584791",
     "exception": false,
     "start_time": "2022-12-05T08:02:03.564778",
     "status": "completed"
    },
    "tags": []
   },
   "source": [
    "We can see that there are 7754 orders where shipping has been canceled. Lets try to find why it may be happening."
   ]
  },
  {
   "cell_type": "code",
   "execution_count": 14,
   "id": "a8da9201",
   "metadata": {
    "execution": {
     "iopub.execute_input": "2022-12-05T08:02:03.627674Z",
     "iopub.status.busy": "2022-12-05T08:02:03.626651Z",
     "iopub.status.idle": "2022-12-05T08:02:03.666979Z",
     "shell.execute_reply": "2022-12-05T08:02:03.665667Z"
    },
    "papermill": {
     "duration": 0.064862,
     "end_time": "2022-12-05T08:02:03.669664",
     "exception": false,
     "start_time": "2022-12-05T08:02:03.604802",
     "status": "completed"
    },
    "tags": []
   },
   "outputs": [
    {
     "data": {
      "text/html": [
       "<div>\n",
       "<style scoped>\n",
       "    .dataframe tbody tr th:only-of-type {\n",
       "        vertical-align: middle;\n",
       "    }\n",
       "\n",
       "    .dataframe tbody tr th {\n",
       "        vertical-align: top;\n",
       "    }\n",
       "\n",
       "    .dataframe thead th {\n",
       "        text-align: right;\n",
       "    }\n",
       "</style>\n",
       "<table border=\"1\" class=\"dataframe\">\n",
       "  <thead>\n",
       "    <tr style=\"text-align: right;\">\n",
       "      <th></th>\n",
       "      <th>tc</th>\n",
       "    </tr>\n",
       "    <tr>\n",
       "      <th>Order Status</th>\n",
       "      <th></th>\n",
       "    </tr>\n",
       "  </thead>\n",
       "  <tbody>\n",
       "    <tr>\n",
       "      <th>CANCELED</th>\n",
       "      <td>3692</td>\n",
       "    </tr>\n",
       "    <tr>\n",
       "      <th>SUSPECTED_FRAUD</th>\n",
       "      <td>4062</td>\n",
       "    </tr>\n",
       "  </tbody>\n",
       "</table>\n",
       "</div>"
      ],
      "text/plain": [
       "                   tc\n",
       "Order Status         \n",
       "CANCELED         3692\n",
       "SUSPECTED_FRAUD  4062"
      ]
     },
     "execution_count": 14,
     "metadata": {},
     "output_type": "execute_result"
    }
   ],
   "source": [
    "dFppsc[dFppsc[\"Delivery Status\"]==\"Shipping canceled\"].groupby(\"Order Status\").agg(tc=(\"Order Id\",\"count\"))"
   ]
  },
  {
   "cell_type": "markdown",
   "id": "b825e645",
   "metadata": {
    "papermill": {
     "duration": 0.019877,
     "end_time": "2022-12-05T08:02:03.710244",
     "exception": false,
     "start_time": "2022-12-05T08:02:03.690367",
     "status": "completed"
    },
    "tags": []
   },
   "source": [
    "As you can see shipping has been canceled because customer canceled his order or order was marked as suspected fraud. We will have to remove these orders when we do RFM and ABC analysis as these were transaction that didn't add any value for store or for customer."
   ]
  },
  {
   "cell_type": "code",
   "execution_count": 15,
   "id": "eeb826a1",
   "metadata": {
    "execution": {
     "iopub.execute_input": "2022-12-05T08:02:03.752505Z",
     "iopub.status.busy": "2022-12-05T08:02:03.752130Z",
     "iopub.status.idle": "2022-12-05T08:02:03.948465Z",
     "shell.execute_reply": "2022-12-05T08:02:03.947304Z"
    },
    "papermill": {
     "duration": 0.220834,
     "end_time": "2022-12-05T08:02:03.950988",
     "exception": false,
     "start_time": "2022-12-05T08:02:03.730154",
     "status": "completed"
    },
    "tags": []
   },
   "outputs": [],
   "source": [
    "dF_clean=dFppsc[dFppsc[\"Delivery Status\"]!=\"Shipping canceled\"].copy()"
   ]
  },
  {
   "cell_type": "markdown",
   "id": "a5966b9f",
   "metadata": {
    "papermill": {
     "duration": 0.019794,
     "end_time": "2022-12-05T08:02:03.991401",
     "exception": false,
     "start_time": "2022-12-05T08:02:03.971607",
     "status": "completed"
    },
    "tags": []
   },
   "source": [
    "## Recency Frequency Monetary(RFM) Analysis \n",
    "\n",
    "RFM analysis is a way to segment customers. This segmentation helps us to identify our most valuable customer. But what does Recency Frequency And Monetary mean?\n",
    "\n",
    "- **Recency** - How Recently has the customer purchased from us? Ideally the difference between the customer last purchase date and todays date.\n",
    "\n",
    "- **Frequency** - Total number of purchases made from our store or average time between two purchases at the store.\n",
    "\n",
    "- **Monetary** - Total value of all purchases made by the customer.\n",
    "\n",
    "The more recent the purchase, more responsive the customer is to promotions\n",
    "The more frequently the customer buys, the more engaged and satisfied the customer are.\n",
    "The monetary values helps us to distinguish between big spenders and low spenders.\n",
    "\n",
    "RFM analysis is one of the most common techniques used for customer segmentation and is used for making targeted promotions by marketing deparment. Lets begin the process of RFM analysis."
   ]
  },
  {
   "cell_type": "markdown",
   "id": "e0198e41",
   "metadata": {
    "papermill": {
     "duration": 0.019772,
     "end_time": "2022-12-05T08:02:04.031591",
     "exception": false,
     "start_time": "2022-12-05T08:02:04.011819",
     "status": "completed"
    },
    "tags": []
   },
   "source": [
    "#### Frequency"
   ]
  },
  {
   "cell_type": "markdown",
   "id": "95df866c",
   "metadata": {
    "execution": {
     "iopub.execute_input": "2022-11-03T06:46:39.475167Z",
     "iopub.status.busy": "2022-11-03T06:46:39.474908Z",
     "iopub.status.idle": "2022-11-03T06:46:39.485699Z",
     "shell.execute_reply": "2022-11-03T06:46:39.480985Z",
     "shell.execute_reply.started": "2022-11-03T06:46:39.475142Z"
    },
    "papermill": {
     "duration": 0.019687,
     "end_time": "2022-12-05T08:02:04.071148",
     "exception": false,
     "start_time": "2022-12-05T08:02:04.051461",
     "status": "completed"
    },
    "tags": []
   },
   "source": [
    "We will find the total number of unique orders that each Customer Id have placed with us."
   ]
  },
  {
   "cell_type": "code",
   "execution_count": 16,
   "id": "e2660e1a",
   "metadata": {
    "execution": {
     "iopub.execute_input": "2022-12-05T08:02:04.113154Z",
     "iopub.status.busy": "2022-12-05T08:02:04.112481Z",
     "iopub.status.idle": "2022-12-05T08:02:04.155061Z",
     "shell.execute_reply": "2022-12-05T08:02:04.153805Z"
    },
    "papermill": {
     "duration": 0.066733,
     "end_time": "2022-12-05T08:02:04.157687",
     "exception": false,
     "start_time": "2022-12-05T08:02:04.090954",
     "status": "completed"
    },
    "tags": []
   },
   "outputs": [
    {
     "data": {
      "text/html": [
       "<div>\n",
       "<style scoped>\n",
       "    .dataframe tbody tr th:only-of-type {\n",
       "        vertical-align: middle;\n",
       "    }\n",
       "\n",
       "    .dataframe tbody tr th {\n",
       "        vertical-align: top;\n",
       "    }\n",
       "\n",
       "    .dataframe thead th {\n",
       "        text-align: right;\n",
       "    }\n",
       "</style>\n",
       "<table border=\"1\" class=\"dataframe\">\n",
       "  <thead>\n",
       "    <tr style=\"text-align: right;\">\n",
       "      <th></th>\n",
       "      <th>Total_count</th>\n",
       "    </tr>\n",
       "    <tr>\n",
       "      <th>Customer Id</th>\n",
       "      <th></th>\n",
       "    </tr>\n",
       "  </thead>\n",
       "  <tbody>\n",
       "    <tr>\n",
       "      <th>1</th>\n",
       "      <td>1</td>\n",
       "    </tr>\n",
       "    <tr>\n",
       "      <th>2</th>\n",
       "      <td>4</td>\n",
       "    </tr>\n",
       "    <tr>\n",
       "      <th>3</th>\n",
       "      <td>5</td>\n",
       "    </tr>\n",
       "    <tr>\n",
       "      <th>4</th>\n",
       "      <td>4</td>\n",
       "    </tr>\n",
       "    <tr>\n",
       "      <th>5</th>\n",
       "      <td>3</td>\n",
       "    </tr>\n",
       "    <tr>\n",
       "      <th>...</th>\n",
       "      <td>...</td>\n",
       "    </tr>\n",
       "    <tr>\n",
       "      <th>20753</th>\n",
       "      <td>1</td>\n",
       "    </tr>\n",
       "    <tr>\n",
       "      <th>20754</th>\n",
       "      <td>1</td>\n",
       "    </tr>\n",
       "    <tr>\n",
       "      <th>20755</th>\n",
       "      <td>1</td>\n",
       "    </tr>\n",
       "    <tr>\n",
       "      <th>20756</th>\n",
       "      <td>1</td>\n",
       "    </tr>\n",
       "    <tr>\n",
       "      <th>20757</th>\n",
       "      <td>1</td>\n",
       "    </tr>\n",
       "  </tbody>\n",
       "</table>\n",
       "<p>20261 rows × 1 columns</p>\n",
       "</div>"
      ],
      "text/plain": [
       "             Total_count\n",
       "Customer Id             \n",
       "1                      1\n",
       "2                      4\n",
       "3                      5\n",
       "4                      4\n",
       "5                      3\n",
       "...                  ...\n",
       "20753                  1\n",
       "20754                  1\n",
       "20755                  1\n",
       "20756                  1\n",
       "20757                  1\n",
       "\n",
       "[20261 rows x 1 columns]"
      ]
     },
     "execution_count": 16,
     "metadata": {},
     "output_type": "execute_result"
    }
   ],
   "source": [
    "dF_frequency=dF_clean.groupby([\"Customer Id\"]).agg(Total_count=(\"Order Id\",\"nunique\"))\n",
    "dF_frequency"
   ]
  },
  {
   "cell_type": "code",
   "execution_count": 17,
   "id": "b93223cf",
   "metadata": {
    "execution": {
     "iopub.execute_input": "2022-12-05T08:02:04.201160Z",
     "iopub.status.busy": "2022-12-05T08:02:04.200380Z",
     "iopub.status.idle": "2022-12-05T08:02:06.463752Z",
     "shell.execute_reply": "2022-12-05T08:02:06.462683Z"
    },
    "papermill": {
     "duration": 2.287854,
     "end_time": "2022-12-05T08:02:06.466542",
     "exception": false,
     "start_time": "2022-12-05T08:02:04.178688",
     "status": "completed"
    },
    "tags": []
   },
   "outputs": [],
   "source": [
    "dF_frequency.to_excel(\"Frequency.xlsx\")"
   ]
  },
  {
   "cell_type": "markdown",
   "id": "91b5f19c",
   "metadata": {
    "papermill": {
     "duration": 0.020054,
     "end_time": "2022-12-05T08:02:06.507475",
     "exception": false,
     "start_time": "2022-12-05T08:02:06.487421",
     "status": "completed"
    },
    "tags": []
   },
   "source": [
    "When we see the excel file we observe one thing that after customer Id 12434, no new customer have made any repeat purchase. We must find out if this is normal or there is some issue here. We will see if these customer id's are purchasing in particular time period or happening in all the years."
   ]
  },
  {
   "cell_type": "code",
   "execution_count": 18,
   "id": "9aca2e6f",
   "metadata": {
    "execution": {
     "iopub.execute_input": "2022-12-05T08:02:06.550328Z",
     "iopub.status.busy": "2022-12-05T08:02:06.549932Z",
     "iopub.status.idle": "2022-12-05T08:02:06.635037Z",
     "shell.execute_reply": "2022-12-05T08:02:06.633900Z"
    },
    "papermill": {
     "duration": 0.109351,
     "end_time": "2022-12-05T08:02:06.637515",
     "exception": false,
     "start_time": "2022-12-05T08:02:06.528164",
     "status": "completed"
    },
    "tags": []
   },
   "outputs": [
    {
     "data": {
      "text/html": [
       "<div>\n",
       "<style scoped>\n",
       "    .dataframe tbody tr th:only-of-type {\n",
       "        vertical-align: middle;\n",
       "    }\n",
       "\n",
       "    .dataframe tbody tr th {\n",
       "        vertical-align: top;\n",
       "    }\n",
       "\n",
       "    .dataframe thead th {\n",
       "        text-align: right;\n",
       "    }\n",
       "</style>\n",
       "<table border=\"1\" class=\"dataframe\">\n",
       "  <thead>\n",
       "    <tr style=\"text-align: right;\">\n",
       "      <th></th>\n",
       "      <th>Customer Id</th>\n",
       "      <th>Year</th>\n",
       "      <th>Order Id</th>\n",
       "    </tr>\n",
       "  </thead>\n",
       "  <tbody>\n",
       "    <tr>\n",
       "      <th>0</th>\n",
       "      <td>1</td>\n",
       "      <td>2015</td>\n",
       "      <td>1</td>\n",
       "    </tr>\n",
       "    <tr>\n",
       "      <th>1</th>\n",
       "      <td>2</td>\n",
       "      <td>2015</td>\n",
       "      <td>1</td>\n",
       "    </tr>\n",
       "    <tr>\n",
       "      <th>2</th>\n",
       "      <td>2</td>\n",
       "      <td>2016</td>\n",
       "      <td>1</td>\n",
       "    </tr>\n",
       "    <tr>\n",
       "      <th>3</th>\n",
       "      <td>2</td>\n",
       "      <td>2017</td>\n",
       "      <td>2</td>\n",
       "    </tr>\n",
       "    <tr>\n",
       "      <th>4</th>\n",
       "      <td>3</td>\n",
       "      <td>2015</td>\n",
       "      <td>1</td>\n",
       "    </tr>\n",
       "    <tr>\n",
       "      <th>...</th>\n",
       "      <td>...</td>\n",
       "      <td>...</td>\n",
       "      <td>...</td>\n",
       "    </tr>\n",
       "    <tr>\n",
       "      <th>36748</th>\n",
       "      <td>20753</td>\n",
       "      <td>2018</td>\n",
       "      <td>1</td>\n",
       "    </tr>\n",
       "    <tr>\n",
       "      <th>36749</th>\n",
       "      <td>20754</td>\n",
       "      <td>2018</td>\n",
       "      <td>1</td>\n",
       "    </tr>\n",
       "    <tr>\n",
       "      <th>36750</th>\n",
       "      <td>20755</td>\n",
       "      <td>2018</td>\n",
       "      <td>1</td>\n",
       "    </tr>\n",
       "    <tr>\n",
       "      <th>36751</th>\n",
       "      <td>20756</td>\n",
       "      <td>2018</td>\n",
       "      <td>1</td>\n",
       "    </tr>\n",
       "    <tr>\n",
       "      <th>36752</th>\n",
       "      <td>20757</td>\n",
       "      <td>2018</td>\n",
       "      <td>1</td>\n",
       "    </tr>\n",
       "  </tbody>\n",
       "</table>\n",
       "<p>36753 rows × 3 columns</p>\n",
       "</div>"
      ],
      "text/plain": [
       "       Customer Id  Year  Order Id\n",
       "0                1  2015         1\n",
       "1                2  2015         1\n",
       "2                2  2016         1\n",
       "3                2  2017         2\n",
       "4                3  2015         1\n",
       "...            ...   ...       ...\n",
       "36748        20753  2018         1\n",
       "36749        20754  2018         1\n",
       "36750        20755  2018         1\n",
       "36751        20756  2018         1\n",
       "36752        20757  2018         1\n",
       "\n",
       "[36753 rows x 3 columns]"
      ]
     },
     "execution_count": 18,
     "metadata": {},
     "output_type": "execute_result"
    }
   ],
   "source": [
    "dF_clean[\"Year\"]=dF_clean[\"order date (DateOrders)\"].dt.year\n",
    "dF_frequency_year=dF_clean.groupby([\"Customer Id\",\"Year\"],as_index=False)[\"Order Id\"].nunique()\n",
    "dF_frequency_year"
   ]
  },
  {
   "cell_type": "markdown",
   "id": "d4327a6a",
   "metadata": {
    "papermill": {
     "duration": 0.019843,
     "end_time": "2022-12-05T08:02:06.677989",
     "exception": false,
     "start_time": "2022-12-05T08:02:06.658146",
     "status": "completed"
    },
    "tags": []
   },
   "source": [
    "Lets Organize this data in a organized way so it will be easy for us to compare."
   ]
  },
  {
   "cell_type": "code",
   "execution_count": 19,
   "id": "7feebdaf",
   "metadata": {
    "execution": {
     "iopub.execute_input": "2022-12-05T08:02:06.725202Z",
     "iopub.status.busy": "2022-12-05T08:02:06.724688Z",
     "iopub.status.idle": "2022-12-05T08:02:06.795083Z",
     "shell.execute_reply": "2022-12-05T08:02:06.793776Z"
    },
    "papermill": {
     "duration": 0.099059,
     "end_time": "2022-12-05T08:02:06.797393",
     "exception": false,
     "start_time": "2022-12-05T08:02:06.698334",
     "status": "completed"
    },
    "tags": []
   },
   "outputs": [
    {
     "data": {
      "text/html": [
       "<div>\n",
       "<style scoped>\n",
       "    .dataframe tbody tr th:only-of-type {\n",
       "        vertical-align: middle;\n",
       "    }\n",
       "\n",
       "    .dataframe tbody tr th {\n",
       "        vertical-align: top;\n",
       "    }\n",
       "\n",
       "    .dataframe thead th {\n",
       "        text-align: right;\n",
       "    }\n",
       "</style>\n",
       "<table border=\"1\" class=\"dataframe\">\n",
       "  <thead>\n",
       "    <tr style=\"text-align: right;\">\n",
       "      <th>Year</th>\n",
       "      <th>2015</th>\n",
       "      <th>2016</th>\n",
       "      <th>2017</th>\n",
       "      <th>2018</th>\n",
       "    </tr>\n",
       "    <tr>\n",
       "      <th>Customer Id</th>\n",
       "      <th></th>\n",
       "      <th></th>\n",
       "      <th></th>\n",
       "      <th></th>\n",
       "    </tr>\n",
       "  </thead>\n",
       "  <tbody>\n",
       "    <tr>\n",
       "      <th>1</th>\n",
       "      <td>1</td>\n",
       "      <td>0</td>\n",
       "      <td>0</td>\n",
       "      <td>0</td>\n",
       "    </tr>\n",
       "    <tr>\n",
       "      <th>2</th>\n",
       "      <td>1</td>\n",
       "      <td>1</td>\n",
       "      <td>2</td>\n",
       "      <td>0</td>\n",
       "    </tr>\n",
       "    <tr>\n",
       "      <th>3</th>\n",
       "      <td>1</td>\n",
       "      <td>1</td>\n",
       "      <td>3</td>\n",
       "      <td>0</td>\n",
       "    </tr>\n",
       "    <tr>\n",
       "      <th>4</th>\n",
       "      <td>2</td>\n",
       "      <td>1</td>\n",
       "      <td>1</td>\n",
       "      <td>0</td>\n",
       "    </tr>\n",
       "    <tr>\n",
       "      <th>5</th>\n",
       "      <td>0</td>\n",
       "      <td>3</td>\n",
       "      <td>0</td>\n",
       "      <td>0</td>\n",
       "    </tr>\n",
       "    <tr>\n",
       "      <th>...</th>\n",
       "      <td>...</td>\n",
       "      <td>...</td>\n",
       "      <td>...</td>\n",
       "      <td>...</td>\n",
       "    </tr>\n",
       "    <tr>\n",
       "      <th>20753</th>\n",
       "      <td>0</td>\n",
       "      <td>0</td>\n",
       "      <td>0</td>\n",
       "      <td>1</td>\n",
       "    </tr>\n",
       "    <tr>\n",
       "      <th>20754</th>\n",
       "      <td>0</td>\n",
       "      <td>0</td>\n",
       "      <td>0</td>\n",
       "      <td>1</td>\n",
       "    </tr>\n",
       "    <tr>\n",
       "      <th>20755</th>\n",
       "      <td>0</td>\n",
       "      <td>0</td>\n",
       "      <td>0</td>\n",
       "      <td>1</td>\n",
       "    </tr>\n",
       "    <tr>\n",
       "      <th>20756</th>\n",
       "      <td>0</td>\n",
       "      <td>0</td>\n",
       "      <td>0</td>\n",
       "      <td>1</td>\n",
       "    </tr>\n",
       "    <tr>\n",
       "      <th>20757</th>\n",
       "      <td>0</td>\n",
       "      <td>0</td>\n",
       "      <td>0</td>\n",
       "      <td>1</td>\n",
       "    </tr>\n",
       "  </tbody>\n",
       "</table>\n",
       "<p>20261 rows × 4 columns</p>\n",
       "</div>"
      ],
      "text/plain": [
       "Year         2015  2016  2017  2018\n",
       "Customer Id                        \n",
       "1               1     0     0     0\n",
       "2               1     1     2     0\n",
       "3               1     1     3     0\n",
       "4               2     1     1     0\n",
       "5               0     3     0     0\n",
       "...           ...   ...   ...   ...\n",
       "20753           0     0     0     1\n",
       "20754           0     0     0     1\n",
       "20755           0     0     0     1\n",
       "20756           0     0     0     1\n",
       "20757           0     0     0     1\n",
       "\n",
       "[20261 rows x 4 columns]"
      ]
     },
     "execution_count": 19,
     "metadata": {},
     "output_type": "execute_result"
    }
   ],
   "source": [
    "dF_frequency_year=dF_frequency_year.pivot_table(index=\"Customer Id\",columns=\"Year\",values=\"Order Id\",fill_value=0)\n",
    "dF_frequency_year"
   ]
  },
  {
   "cell_type": "code",
   "execution_count": 20,
   "id": "8c306c22",
   "metadata": {
    "execution": {
     "iopub.execute_input": "2022-12-05T08:02:06.841566Z",
     "iopub.status.busy": "2022-12-05T08:02:06.840728Z",
     "iopub.status.idle": "2022-12-05T08:02:10.222397Z",
     "shell.execute_reply": "2022-12-05T08:02:10.221235Z"
    },
    "papermill": {
     "duration": 3.406492,
     "end_time": "2022-12-05T08:02:10.225109",
     "exception": false,
     "start_time": "2022-12-05T08:02:06.818617",
     "status": "completed"
    },
    "tags": []
   },
   "outputs": [],
   "source": [
    "dF_frequency_year.to_excel(\"frequency_year.xlsx\")"
   ]
  },
  {
   "cell_type": "markdown",
   "id": "0b5613e3",
   "metadata": {
    "papermill": {
     "duration": 0.020414,
     "end_time": "2022-12-05T08:02:10.266389",
     "exception": false,
     "start_time": "2022-12-05T08:02:10.245975",
     "status": "completed"
    },
    "tags": []
   },
   "source": [
    "We find something odd in this excel file. No customer having Customer Id less than 12436 has purchased in 2018. Also after customer id 12436, all the customer have made puchase exactly once in the current year at that point of time.\n",
    "\n",
    "Lets dive further into data to figure out the issue."
   ]
  },
  {
   "cell_type": "code",
   "execution_count": 21,
   "id": "71a802ee",
   "metadata": {
    "execution": {
     "iopub.execute_input": "2022-12-05T08:02:10.310037Z",
     "iopub.status.busy": "2022-12-05T08:02:10.309398Z",
     "iopub.status.idle": "2022-12-05T08:02:10.343500Z",
     "shell.execute_reply": "2022-12-05T08:02:10.342395Z"
    },
    "papermill": {
     "duration": 0.058591,
     "end_time": "2022-12-05T08:02:10.345824",
     "exception": false,
     "start_time": "2022-12-05T08:02:10.287233",
     "status": "completed"
    },
    "tags": []
   },
   "outputs": [
    {
     "data": {
      "text/html": [
       "<div>\n",
       "<style scoped>\n",
       "    .dataframe tbody tr th:only-of-type {\n",
       "        vertical-align: middle;\n",
       "    }\n",
       "\n",
       "    .dataframe tbody tr th {\n",
       "        vertical-align: top;\n",
       "    }\n",
       "\n",
       "    .dataframe thead th {\n",
       "        text-align: right;\n",
       "    }\n",
       "</style>\n",
       "<table border=\"1\" class=\"dataframe\">\n",
       "  <thead>\n",
       "    <tr style=\"text-align: right;\">\n",
       "      <th></th>\n",
       "      <th>Type</th>\n",
       "      <th>Days for shipping (real)</th>\n",
       "      <th>Days for shipment (scheduled)</th>\n",
       "      <th>Delivery Status</th>\n",
       "      <th>Late_delivery_risk</th>\n",
       "      <th>Category Id</th>\n",
       "      <th>Category Name</th>\n",
       "      <th>Customer City</th>\n",
       "      <th>Customer Country</th>\n",
       "      <th>Customer Email</th>\n",
       "      <th>Customer Fname</th>\n",
       "      <th>Customer Id</th>\n",
       "      <th>Customer Lname</th>\n",
       "      <th>Customer Password</th>\n",
       "      <th>Customer Segment</th>\n",
       "      <th>Customer State</th>\n",
       "      <th>Customer Street</th>\n",
       "      <th>Customer Zipcode</th>\n",
       "      <th>Department Id</th>\n",
       "      <th>Department Name</th>\n",
       "      <th>Latitude</th>\n",
       "      <th>Longitude</th>\n",
       "      <th>Market</th>\n",
       "      <th>Order City</th>\n",
       "      <th>Order Country</th>\n",
       "      <th>order date (DateOrders)</th>\n",
       "      <th>Order Id</th>\n",
       "      <th>Order Item Discount</th>\n",
       "      <th>Order Item Discount Rate</th>\n",
       "      <th>Order Item Id</th>\n",
       "      <th>Order Item Profit Ratio</th>\n",
       "      <th>Order Item Quantity</th>\n",
       "      <th>Sales</th>\n",
       "      <th>Order Item Total</th>\n",
       "      <th>Order Profit Per Order</th>\n",
       "      <th>Order Region</th>\n",
       "      <th>Order State</th>\n",
       "      <th>Order Status</th>\n",
       "      <th>Order Zipcode</th>\n",
       "      <th>Product Card Id</th>\n",
       "      <th>Product Image</th>\n",
       "      <th>Product Name</th>\n",
       "      <th>Product Price</th>\n",
       "      <th>Product Status</th>\n",
       "      <th>shipping date (DateOrders)</th>\n",
       "      <th>Shipping Mode</th>\n",
       "      <th>Year</th>\n",
       "    </tr>\n",
       "  </thead>\n",
       "  <tbody>\n",
       "    <tr>\n",
       "      <th>33457</th>\n",
       "      <td>CASH</td>\n",
       "      <td>5</td>\n",
       "      <td>4</td>\n",
       "      <td>Late delivery</td>\n",
       "      <td>1</td>\n",
       "      <td>59</td>\n",
       "      <td>Books</td>\n",
       "      <td>Brownsville</td>\n",
       "      <td>EE. UU.</td>\n",
       "      <td>XXXXXXXXX</td>\n",
       "      <td>Mike</td>\n",
       "      <td>12436</td>\n",
       "      <td>Gulvishvokov</td>\n",
       "      <td>XXXXXXXXX</td>\n",
       "      <td>Consumer</td>\n",
       "      <td>TX</td>\n",
       "      <td>6303 Heather Plaza</td>\n",
       "      <td>78521.0</td>\n",
       "      <td>8</td>\n",
       "      <td>Book Shop</td>\n",
       "      <td>25.961628</td>\n",
       "      <td>-97.577255</td>\n",
       "      <td>Europe</td>\n",
       "      <td>Trieste</td>\n",
       "      <td>Italia</td>\n",
       "      <td>2017-10-02 12:46:00</td>\n",
       "      <td>68884</td>\n",
       "      <td>5.59</td>\n",
       "      <td>0.18</td>\n",
       "      <td>172199</td>\n",
       "      <td>0.09</td>\n",
       "      <td>1</td>\n",
       "      <td>31.08</td>\n",
       "      <td>25.49</td>\n",
       "      <td>2.24</td>\n",
       "      <td>Southern Europe</td>\n",
       "      <td>Friuli-Venecia Julia</td>\n",
       "      <td>CLOSED</td>\n",
       "      <td>NaN</td>\n",
       "      <td>1346</td>\n",
       "      <td>http://images.acmesports.sports/Sports+Books</td>\n",
       "      <td>Sports Books</td>\n",
       "      <td>31.08</td>\n",
       "      <td>0</td>\n",
       "      <td>2017-10-07 12:46:00</td>\n",
       "      <td>Standard Class</td>\n",
       "      <td>2017</td>\n",
       "    </tr>\n",
       "  </tbody>\n",
       "</table>\n",
       "</div>"
      ],
      "text/plain": [
       "       Type  Days for shipping (real)  Days for shipment (scheduled)  \\\n",
       "33457  CASH                         5                              4   \n",
       "\n",
       "      Delivery Status  Late_delivery_risk  Category Id Category Name  \\\n",
       "33457   Late delivery                   1           59        Books    \n",
       "\n",
       "      Customer City Customer Country Customer Email Customer Fname  \\\n",
       "33457   Brownsville          EE. UU.      XXXXXXXXX           Mike   \n",
       "\n",
       "       Customer Id Customer Lname Customer Password Customer Segment  \\\n",
       "33457        12436   Gulvishvokov         XXXXXXXXX         Consumer   \n",
       "\n",
       "      Customer State     Customer Street  Customer Zipcode  Department Id  \\\n",
       "33457             TX  6303 Heather Plaza           78521.0              8   \n",
       "\n",
       "      Department Name   Latitude  Longitude  Market Order City Order Country  \\\n",
       "33457       Book Shop  25.961628 -97.577255  Europe    Trieste        Italia   \n",
       "\n",
       "      order date (DateOrders)  Order Id  Order Item Discount  \\\n",
       "33457     2017-10-02 12:46:00     68884                 5.59   \n",
       "\n",
       "       Order Item Discount Rate  Order Item Id  Order Item Profit Ratio  \\\n",
       "33457                      0.18         172199                     0.09   \n",
       "\n",
       "       Order Item Quantity  Sales  Order Item Total  Order Profit Per Order  \\\n",
       "33457                    1  31.08             25.49                    2.24   \n",
       "\n",
       "          Order Region           Order State Order Status  Order Zipcode  \\\n",
       "33457  Southern Europe  Friuli-Venecia Julia       CLOSED            NaN   \n",
       "\n",
       "       Product Card Id                                 Product Image  \\\n",
       "33457             1346  http://images.acmesports.sports/Sports+Books   \n",
       "\n",
       "        Product Name  Product Price  Product Status  \\\n",
       "33457  Sports Books           31.08               0   \n",
       "\n",
       "      shipping date (DateOrders)   Shipping Mode  Year  \n",
       "33457        2017-10-07 12:46:00  Standard Class  2017  "
      ]
     },
     "execution_count": 21,
     "metadata": {},
     "output_type": "execute_result"
    }
   ],
   "source": [
    "pd.set_option(\"display.max_columns\",None)\n",
    "dF_clean[dF_clean[\"Customer Id\"]==12436]"
   ]
  },
  {
   "cell_type": "markdown",
   "id": "3e262117",
   "metadata": {
    "papermill": {
     "duration": 0.020799,
     "end_time": "2022-12-05T08:02:10.387958",
     "exception": false,
     "start_time": "2022-12-05T08:02:10.367159",
     "status": "completed"
    },
    "tags": []
   },
   "source": [
    "This particular customer has purchased at 2017-10-02 12:46:00. Lets see the data around this timestamp to see if we can find something unusual."
   ]
  },
  {
   "cell_type": "code",
   "execution_count": 22,
   "id": "7ba6f011",
   "metadata": {
    "execution": {
     "iopub.execute_input": "2022-12-05T08:02:10.433360Z",
     "iopub.status.busy": "2022-12-05T08:02:10.432811Z",
     "iopub.status.idle": "2022-12-05T08:02:10.439214Z",
     "shell.execute_reply": "2022-12-05T08:02:10.438199Z"
    },
    "papermill": {
     "duration": 0.031833,
     "end_time": "2022-12-05T08:02:10.441554",
     "exception": false,
     "start_time": "2022-12-05T08:02:10.409721",
     "status": "completed"
    },
    "tags": []
   },
   "outputs": [],
   "source": [
    "dt1=datetime.datetime.strptime('02-10-2017 12:46:00', '%d-%m-%Y %H:%M:%S')\n",
    "dt2=dt1-datetime.timedelta(days=5)"
   ]
  },
  {
   "cell_type": "code",
   "execution_count": 23,
   "id": "4305dc1b",
   "metadata": {
    "execution": {
     "iopub.execute_input": "2022-12-05T08:02:10.485904Z",
     "iopub.status.busy": "2022-12-05T08:02:10.485468Z",
     "iopub.status.idle": "2022-12-05T08:02:22.307287Z",
     "shell.execute_reply": "2022-12-05T08:02:22.306048Z"
    },
    "papermill": {
     "duration": 11.847387,
     "end_time": "2022-12-05T08:02:22.310297",
     "exception": false,
     "start_time": "2022-12-05T08:02:10.462910",
     "status": "completed"
    },
    "tags": []
   },
   "outputs": [
    {
     "data": {
      "text/html": [
       "<div>\n",
       "<style scoped>\n",
       "    .dataframe tbody tr th:only-of-type {\n",
       "        vertical-align: middle;\n",
       "    }\n",
       "\n",
       "    .dataframe tbody tr th {\n",
       "        vertical-align: top;\n",
       "    }\n",
       "\n",
       "    .dataframe thead th {\n",
       "        text-align: right;\n",
       "    }\n",
       "</style>\n",
       "<table border=\"1\" class=\"dataframe\">\n",
       "  <thead>\n",
       "    <tr style=\"text-align: right;\">\n",
       "      <th></th>\n",
       "      <th>Type</th>\n",
       "      <th>Days for shipping (real)</th>\n",
       "      <th>Days for shipment (scheduled)</th>\n",
       "      <th>Delivery Status</th>\n",
       "      <th>Late_delivery_risk</th>\n",
       "      <th>Category Id</th>\n",
       "      <th>Category Name</th>\n",
       "      <th>Customer City</th>\n",
       "      <th>Customer Country</th>\n",
       "      <th>Customer Email</th>\n",
       "      <th>Customer Fname</th>\n",
       "      <th>Customer Id</th>\n",
       "      <th>Customer Lname</th>\n",
       "      <th>Customer Password</th>\n",
       "      <th>Customer Segment</th>\n",
       "      <th>Customer State</th>\n",
       "      <th>Customer Street</th>\n",
       "      <th>Customer Zipcode</th>\n",
       "      <th>Department Id</th>\n",
       "      <th>Department Name</th>\n",
       "      <th>Latitude</th>\n",
       "      <th>Longitude</th>\n",
       "      <th>Market</th>\n",
       "      <th>Order City</th>\n",
       "      <th>Order Country</th>\n",
       "      <th>order date (DateOrders)</th>\n",
       "      <th>Order Id</th>\n",
       "      <th>Order Item Discount</th>\n",
       "      <th>Order Item Discount Rate</th>\n",
       "      <th>Order Item Id</th>\n",
       "      <th>Order Item Profit Ratio</th>\n",
       "      <th>Order Item Quantity</th>\n",
       "      <th>Sales</th>\n",
       "      <th>Order Item Total</th>\n",
       "      <th>Order Profit Per Order</th>\n",
       "      <th>Order Region</th>\n",
       "      <th>Order State</th>\n",
       "      <th>Order Status</th>\n",
       "      <th>Order Zipcode</th>\n",
       "      <th>Product Card Id</th>\n",
       "      <th>Product Image</th>\n",
       "      <th>Product Name</th>\n",
       "      <th>Product Price</th>\n",
       "      <th>Product Status</th>\n",
       "      <th>shipping date (DateOrders)</th>\n",
       "      <th>Shipping Mode</th>\n",
       "      <th>Year</th>\n",
       "    </tr>\n",
       "  </thead>\n",
       "  <tbody>\n",
       "    <tr>\n",
       "      <th>33457</th>\n",
       "      <td>CASH</td>\n",
       "      <td>5</td>\n",
       "      <td>4</td>\n",
       "      <td>Late delivery</td>\n",
       "      <td>1</td>\n",
       "      <td>59</td>\n",
       "      <td>Books</td>\n",
       "      <td>Brownsville</td>\n",
       "      <td>EE. UU.</td>\n",
       "      <td>XXXXXXXXX</td>\n",
       "      <td>Mike</td>\n",
       "      <td>12436</td>\n",
       "      <td>Gulvishvokov</td>\n",
       "      <td>XXXXXXXXX</td>\n",
       "      <td>Consumer</td>\n",
       "      <td>TX</td>\n",
       "      <td>6303 Heather Plaza</td>\n",
       "      <td>78521.0</td>\n",
       "      <td>8</td>\n",
       "      <td>Book Shop</td>\n",
       "      <td>25.961628</td>\n",
       "      <td>-97.577255</td>\n",
       "      <td>Europe</td>\n",
       "      <td>Trieste</td>\n",
       "      <td>Italia</td>\n",
       "      <td>2017-10-02 12:46:00</td>\n",
       "      <td>68884</td>\n",
       "      <td>5.590000</td>\n",
       "      <td>0.18</td>\n",
       "      <td>172199</td>\n",
       "      <td>0.09</td>\n",
       "      <td>1</td>\n",
       "      <td>31.080000</td>\n",
       "      <td>25.490000</td>\n",
       "      <td>2.240000</td>\n",
       "      <td>Southern Europe</td>\n",
       "      <td>Friuli-Venecia Julia</td>\n",
       "      <td>CLOSED</td>\n",
       "      <td>NaN</td>\n",
       "      <td>1346</td>\n",
       "      <td>http://images.acmesports.sports/Sports+Books</td>\n",
       "      <td>Sports Books</td>\n",
       "      <td>31.080000</td>\n",
       "      <td>0</td>\n",
       "      <td>2017-10-07 12:46:00</td>\n",
       "      <td>Standard Class</td>\n",
       "      <td>2017</td>\n",
       "    </tr>\n",
       "    <tr>\n",
       "      <th>36638</th>\n",
       "      <td>PAYMENT</td>\n",
       "      <td>6</td>\n",
       "      <td>2</td>\n",
       "      <td>Late delivery</td>\n",
       "      <td>1</td>\n",
       "      <td>59</td>\n",
       "      <td>Books</td>\n",
       "      <td>Brownsville</td>\n",
       "      <td>EE. UU.</td>\n",
       "      <td>XXXXXXXXX</td>\n",
       "      <td>Anne</td>\n",
       "      <td>12437</td>\n",
       "      <td>Patel</td>\n",
       "      <td>XXXXXXXXX</td>\n",
       "      <td>Consumer</td>\n",
       "      <td>TX</td>\n",
       "      <td>6303 Heather Plaza</td>\n",
       "      <td>78521.0</td>\n",
       "      <td>8</td>\n",
       "      <td>Book Shop</td>\n",
       "      <td>25.961628</td>\n",
       "      <td>-97.577255</td>\n",
       "      <td>Europe</td>\n",
       "      <td>Aix-les-Bains</td>\n",
       "      <td>Francia</td>\n",
       "      <td>2017-10-02 13:08:00</td>\n",
       "      <td>68885</td>\n",
       "      <td>5.280000</td>\n",
       "      <td>0.17</td>\n",
       "      <td>172200</td>\n",
       "      <td>0.08</td>\n",
       "      <td>1</td>\n",
       "      <td>31.080000</td>\n",
       "      <td>25.799999</td>\n",
       "      <td>1.930000</td>\n",
       "      <td>Western Europe</td>\n",
       "      <td>Auvernia-Rdano-Alpes</td>\n",
       "      <td>PENDING_PAYMENT</td>\n",
       "      <td>NaN</td>\n",
       "      <td>1346</td>\n",
       "      <td>http://images.acmesports.sports/Sports+Books</td>\n",
       "      <td>Sports Books</td>\n",
       "      <td>31.080000</td>\n",
       "      <td>0</td>\n",
       "      <td>2017-10-08 13:08:00</td>\n",
       "      <td>Second Class</td>\n",
       "      <td>2017</td>\n",
       "    </tr>\n",
       "    <tr>\n",
       "      <th>48521</th>\n",
       "      <td>DEBIT</td>\n",
       "      <td>2</td>\n",
       "      <td>2</td>\n",
       "      <td>Shipping on time</td>\n",
       "      <td>0</td>\n",
       "      <td>59</td>\n",
       "      <td>Books</td>\n",
       "      <td>Littleton</td>\n",
       "      <td>EE. UU.</td>\n",
       "      <td>XXXXXXXXX</td>\n",
       "      <td>Filipe</td>\n",
       "      <td>12438</td>\n",
       "      <td>Godinho</td>\n",
       "      <td>XXXXXXXXX</td>\n",
       "      <td>Corporate</td>\n",
       "      <td>CO</td>\n",
       "      <td>9526 Noble Embers Ridge</td>\n",
       "      <td>80126.0</td>\n",
       "      <td>8</td>\n",
       "      <td>Book Shop</td>\n",
       "      <td>39.522995</td>\n",
       "      <td>-104.948219</td>\n",
       "      <td>Europe</td>\n",
       "      <td>Viena</td>\n",
       "      <td>Austria</td>\n",
       "      <td>2017-10-02 13:29:00</td>\n",
       "      <td>68886</td>\n",
       "      <td>4.970000</td>\n",
       "      <td>0.16</td>\n",
       "      <td>172201</td>\n",
       "      <td>0.23</td>\n",
       "      <td>1</td>\n",
       "      <td>31.080000</td>\n",
       "      <td>26.110001</td>\n",
       "      <td>5.870000</td>\n",
       "      <td>Western Europe</td>\n",
       "      <td>Viena</td>\n",
       "      <td>COMPLETE</td>\n",
       "      <td>NaN</td>\n",
       "      <td>1346</td>\n",
       "      <td>http://images.acmesports.sports/Sports+Books</td>\n",
       "      <td>Sports Books</td>\n",
       "      <td>31.080000</td>\n",
       "      <td>0</td>\n",
       "      <td>2017-10-04 13:29:00</td>\n",
       "      <td>Second Class</td>\n",
       "      <td>2017</td>\n",
       "    </tr>\n",
       "    <tr>\n",
       "      <th>24764</th>\n",
       "      <td>DEBIT</td>\n",
       "      <td>2</td>\n",
       "      <td>1</td>\n",
       "      <td>Late delivery</td>\n",
       "      <td>1</td>\n",
       "      <td>59</td>\n",
       "      <td>Books</td>\n",
       "      <td>San Marcos</td>\n",
       "      <td>EE. UU.</td>\n",
       "      <td>XXXXXXXXX</td>\n",
       "      <td>Joanha</td>\n",
       "      <td>12440</td>\n",
       "      <td>Mirkckociv</td>\n",
       "      <td>XXXXXXXXX</td>\n",
       "      <td>Corporate</td>\n",
       "      <td>CA</td>\n",
       "      <td>8324 Little Common</td>\n",
       "      <td>92069.0</td>\n",
       "      <td>8</td>\n",
       "      <td>Book Shop</td>\n",
       "      <td>33.146751</td>\n",
       "      <td>-117.169533</td>\n",
       "      <td>Europe</td>\n",
       "      <td>Forst</td>\n",
       "      <td>Alemania</td>\n",
       "      <td>2017-10-02 13:50:00</td>\n",
       "      <td>68887</td>\n",
       "      <td>4.660000</td>\n",
       "      <td>0.15</td>\n",
       "      <td>172202</td>\n",
       "      <td>0.08</td>\n",
       "      <td>1</td>\n",
       "      <td>31.080000</td>\n",
       "      <td>26.420000</td>\n",
       "      <td>1.980000</td>\n",
       "      <td>Western Europe</td>\n",
       "      <td>Brandenburgo</td>\n",
       "      <td>COMPLETE</td>\n",
       "      <td>NaN</td>\n",
       "      <td>1346</td>\n",
       "      <td>http://images.acmesports.sports/Sports+Books</td>\n",
       "      <td>Sports Books</td>\n",
       "      <td>31.080000</td>\n",
       "      <td>0</td>\n",
       "      <td>2017-10-04 13:50:00</td>\n",
       "      <td>First Class</td>\n",
       "      <td>2017</td>\n",
       "    </tr>\n",
       "    <tr>\n",
       "      <th>39318</th>\n",
       "      <td>DEBIT</td>\n",
       "      <td>4</td>\n",
       "      <td>2</td>\n",
       "      <td>Late delivery</td>\n",
       "      <td>1</td>\n",
       "      <td>59</td>\n",
       "      <td>Books</td>\n",
       "      <td>Caguas</td>\n",
       "      <td>Puerto Rico</td>\n",
       "      <td>XXXXXXXXX</td>\n",
       "      <td>John</td>\n",
       "      <td>12441</td>\n",
       "      <td>Gerginokish</td>\n",
       "      <td>XXXXXXXXX</td>\n",
       "      <td>Corporate</td>\n",
       "      <td>PR</td>\n",
       "      <td>10 Crystal River Mall</td>\n",
       "      <td>725.0</td>\n",
       "      <td>8</td>\n",
       "      <td>Book Shop</td>\n",
       "      <td>18.231728</td>\n",
       "      <td>-66.370628</td>\n",
       "      <td>Europe</td>\n",
       "      <td>Le Mans</td>\n",
       "      <td>Francia</td>\n",
       "      <td>2017-10-02 14:11:00</td>\n",
       "      <td>68888</td>\n",
       "      <td>4.040000</td>\n",
       "      <td>0.13</td>\n",
       "      <td>172203</td>\n",
       "      <td>0.47</td>\n",
       "      <td>1</td>\n",
       "      <td>31.080000</td>\n",
       "      <td>27.040001</td>\n",
       "      <td>12.710000</td>\n",
       "      <td>Western Europe</td>\n",
       "      <td>Pases del Loira</td>\n",
       "      <td>COMPLETE</td>\n",
       "      <td>NaN</td>\n",
       "      <td>1346</td>\n",
       "      <td>http://images.acmesports.sports/Sports+Books</td>\n",
       "      <td>Sports Books</td>\n",
       "      <td>31.080000</td>\n",
       "      <td>0</td>\n",
       "      <td>2017-10-06 14:11:00</td>\n",
       "      <td>Second Class</td>\n",
       "      <td>2017</td>\n",
       "    </tr>\n",
       "    <tr>\n",
       "      <th>...</th>\n",
       "      <td>...</td>\n",
       "      <td>...</td>\n",
       "      <td>...</td>\n",
       "      <td>...</td>\n",
       "      <td>...</td>\n",
       "      <td>...</td>\n",
       "      <td>...</td>\n",
       "      <td>...</td>\n",
       "      <td>...</td>\n",
       "      <td>...</td>\n",
       "      <td>...</td>\n",
       "      <td>...</td>\n",
       "      <td>...</td>\n",
       "      <td>...</td>\n",
       "      <td>...</td>\n",
       "      <td>...</td>\n",
       "      <td>...</td>\n",
       "      <td>...</td>\n",
       "      <td>...</td>\n",
       "      <td>...</td>\n",
       "      <td>...</td>\n",
       "      <td>...</td>\n",
       "      <td>...</td>\n",
       "      <td>...</td>\n",
       "      <td>...</td>\n",
       "      <td>...</td>\n",
       "      <td>...</td>\n",
       "      <td>...</td>\n",
       "      <td>...</td>\n",
       "      <td>...</td>\n",
       "      <td>...</td>\n",
       "      <td>...</td>\n",
       "      <td>...</td>\n",
       "      <td>...</td>\n",
       "      <td>...</td>\n",
       "      <td>...</td>\n",
       "      <td>...</td>\n",
       "      <td>...</td>\n",
       "      <td>...</td>\n",
       "      <td>...</td>\n",
       "      <td>...</td>\n",
       "      <td>...</td>\n",
       "      <td>...</td>\n",
       "      <td>...</td>\n",
       "      <td>...</td>\n",
       "      <td>...</td>\n",
       "      <td>...</td>\n",
       "    </tr>\n",
       "    <tr>\n",
       "      <th>160537</th>\n",
       "      <td>TRANSFER</td>\n",
       "      <td>6</td>\n",
       "      <td>4</td>\n",
       "      <td>Late delivery</td>\n",
       "      <td>1</td>\n",
       "      <td>76</td>\n",
       "      <td>Women's Clothing</td>\n",
       "      <td>Caguas</td>\n",
       "      <td>Puerto Rico</td>\n",
       "      <td>XXXXXXXXX</td>\n",
       "      <td>Chava</td>\n",
       "      <td>20753</td>\n",
       "      <td>Velez</td>\n",
       "      <td>XXXXXXXXX</td>\n",
       "      <td>Consumer</td>\n",
       "      <td>PR</td>\n",
       "      <td>9861 Grand Elk Trace</td>\n",
       "      <td>725.0</td>\n",
       "      <td>4</td>\n",
       "      <td>Apparel</td>\n",
       "      <td>18.273024</td>\n",
       "      <td>-66.037056</td>\n",
       "      <td>Pacific Asia</td>\n",
       "      <td>Bekasi</td>\n",
       "      <td>Indonesia</td>\n",
       "      <td>2018-01-31 22:14:00</td>\n",
       "      <td>77200</td>\n",
       "      <td>53.959999</td>\n",
       "      <td>0.25</td>\n",
       "      <td>180515</td>\n",
       "      <td>-0.67</td>\n",
       "      <td>1</td>\n",
       "      <td>215.820007</td>\n",
       "      <td>161.869995</td>\n",
       "      <td>-107.959999</td>\n",
       "      <td>Southeast Asia</td>\n",
       "      <td>Java Occidental</td>\n",
       "      <td>PROCESSING</td>\n",
       "      <td>NaN</td>\n",
       "      <td>1363</td>\n",
       "      <td>http://images.acmesports.sports/Summer+dresses</td>\n",
       "      <td>Summer dresses</td>\n",
       "      <td>215.820007</td>\n",
       "      <td>0</td>\n",
       "      <td>2018-02-06 22:14:00</td>\n",
       "      <td>Standard Class</td>\n",
       "      <td>2018</td>\n",
       "    </tr>\n",
       "    <tr>\n",
       "      <th>93905</th>\n",
       "      <td>DEBIT</td>\n",
       "      <td>2</td>\n",
       "      <td>4</td>\n",
       "      <td>Advance shipping</td>\n",
       "      <td>0</td>\n",
       "      <td>76</td>\n",
       "      <td>Women's Clothing</td>\n",
       "      <td>Plainfield</td>\n",
       "      <td>EE. UU.</td>\n",
       "      <td>XXXXXXXXX</td>\n",
       "      <td>Stacey</td>\n",
       "      <td>20754</td>\n",
       "      <td>Weber</td>\n",
       "      <td>XXXXXXXXX</td>\n",
       "      <td>Consumer</td>\n",
       "      <td>IL</td>\n",
       "      <td>5919 Hidden Anchor Port</td>\n",
       "      <td>60544.0</td>\n",
       "      <td>4</td>\n",
       "      <td>Apparel</td>\n",
       "      <td>41.608639</td>\n",
       "      <td>-88.202042</td>\n",
       "      <td>Pacific Asia</td>\n",
       "      <td>Bekasi</td>\n",
       "      <td>Indonesia</td>\n",
       "      <td>2018-01-31 22:35:00</td>\n",
       "      <td>77201</td>\n",
       "      <td>43.160000</td>\n",
       "      <td>0.20</td>\n",
       "      <td>180516</td>\n",
       "      <td>-0.73</td>\n",
       "      <td>1</td>\n",
       "      <td>215.820007</td>\n",
       "      <td>172.660004</td>\n",
       "      <td>-126.559998</td>\n",
       "      <td>Southeast Asia</td>\n",
       "      <td>Java Occidental</td>\n",
       "      <td>COMPLETE</td>\n",
       "      <td>NaN</td>\n",
       "      <td>1363</td>\n",
       "      <td>http://images.acmesports.sports/Summer+dresses</td>\n",
       "      <td>Summer dresses</td>\n",
       "      <td>215.820007</td>\n",
       "      <td>0</td>\n",
       "      <td>2018-02-02 22:35:00</td>\n",
       "      <td>Standard Class</td>\n",
       "      <td>2018</td>\n",
       "    </tr>\n",
       "    <tr>\n",
       "      <th>0</th>\n",
       "      <td>DEBIT</td>\n",
       "      <td>3</td>\n",
       "      <td>4</td>\n",
       "      <td>Advance shipping</td>\n",
       "      <td>0</td>\n",
       "      <td>73</td>\n",
       "      <td>Sporting Goods</td>\n",
       "      <td>Caguas</td>\n",
       "      <td>Puerto Rico</td>\n",
       "      <td>XXXXXXXXX</td>\n",
       "      <td>Cally</td>\n",
       "      <td>20755</td>\n",
       "      <td>Holloway</td>\n",
       "      <td>XXXXXXXXX</td>\n",
       "      <td>Consumer</td>\n",
       "      <td>PR</td>\n",
       "      <td>5365 Noble Nectar Island</td>\n",
       "      <td>725.0</td>\n",
       "      <td>2</td>\n",
       "      <td>Fitness</td>\n",
       "      <td>18.251453</td>\n",
       "      <td>-66.037056</td>\n",
       "      <td>Pacific Asia</td>\n",
       "      <td>Bekasi</td>\n",
       "      <td>Indonesia</td>\n",
       "      <td>2018-01-31 22:56:00</td>\n",
       "      <td>77202</td>\n",
       "      <td>13.110000</td>\n",
       "      <td>0.04</td>\n",
       "      <td>180517</td>\n",
       "      <td>0.29</td>\n",
       "      <td>1</td>\n",
       "      <td>327.750000</td>\n",
       "      <td>314.640015</td>\n",
       "      <td>91.250000</td>\n",
       "      <td>Southeast Asia</td>\n",
       "      <td>Java Occidental</td>\n",
       "      <td>COMPLETE</td>\n",
       "      <td>NaN</td>\n",
       "      <td>1360</td>\n",
       "      <td>http://images.acmesports.sports/Smart+watch</td>\n",
       "      <td>Smart watch</td>\n",
       "      <td>327.750000</td>\n",
       "      <td>0</td>\n",
       "      <td>2018-02-03 22:56:00</td>\n",
       "      <td>Standard Class</td>\n",
       "      <td>2018</td>\n",
       "    </tr>\n",
       "    <tr>\n",
       "      <th>52147</th>\n",
       "      <td>PAYMENT</td>\n",
       "      <td>4</td>\n",
       "      <td>4</td>\n",
       "      <td>Shipping on time</td>\n",
       "      <td>0</td>\n",
       "      <td>74</td>\n",
       "      <td>Toys</td>\n",
       "      <td>Berwyn</td>\n",
       "      <td>EE. UU.</td>\n",
       "      <td>XXXXXXXXX</td>\n",
       "      <td>Cherokee</td>\n",
       "      <td>20756</td>\n",
       "      <td>Callahan</td>\n",
       "      <td>XXXXXXXXX</td>\n",
       "      <td>Corporate</td>\n",
       "      <td>IL</td>\n",
       "      <td>3312 Harvest Horse Chase</td>\n",
       "      <td>60402.0</td>\n",
       "      <td>7</td>\n",
       "      <td>Fan Shop</td>\n",
       "      <td>41.830791</td>\n",
       "      <td>-87.802979</td>\n",
       "      <td>Pacific Asia</td>\n",
       "      <td>Bekasi</td>\n",
       "      <td>Indonesia</td>\n",
       "      <td>2018-01-31 23:17:00</td>\n",
       "      <td>77203</td>\n",
       "      <td>0.630000</td>\n",
       "      <td>0.06</td>\n",
       "      <td>180518</td>\n",
       "      <td>0.14</td>\n",
       "      <td>1</td>\n",
       "      <td>11.540000</td>\n",
       "      <td>10.910000</td>\n",
       "      <td>1.530000</td>\n",
       "      <td>Southeast Asia</td>\n",
       "      <td>Java Occidental</td>\n",
       "      <td>PENDING_PAYMENT</td>\n",
       "      <td>NaN</td>\n",
       "      <td>1361</td>\n",
       "      <td>http://images.acmesports.sports/Toys</td>\n",
       "      <td>Toys</td>\n",
       "      <td>11.540000</td>\n",
       "      <td>0</td>\n",
       "      <td>2018-02-04 23:17:00</td>\n",
       "      <td>Standard Class</td>\n",
       "      <td>2018</td>\n",
       "    </tr>\n",
       "    <tr>\n",
       "      <th>17863</th>\n",
       "      <td>CASH</td>\n",
       "      <td>1</td>\n",
       "      <td>0</td>\n",
       "      <td>Late delivery</td>\n",
       "      <td>1</td>\n",
       "      <td>75</td>\n",
       "      <td>Video Games</td>\n",
       "      <td>Miami</td>\n",
       "      <td>EE. UU.</td>\n",
       "      <td>XXXXXXXXX</td>\n",
       "      <td>Katelyn</td>\n",
       "      <td>20757</td>\n",
       "      <td>Gonzales</td>\n",
       "      <td>XXXXXXXXX</td>\n",
       "      <td>Corporate</td>\n",
       "      <td>FL</td>\n",
       "      <td>9299 Quiet Pioneer Forest</td>\n",
       "      <td>33126.0</td>\n",
       "      <td>9</td>\n",
       "      <td>Discs Shop</td>\n",
       "      <td>25.860285</td>\n",
       "      <td>-80.197342</td>\n",
       "      <td>Pacific Asia</td>\n",
       "      <td>Gold Coast</td>\n",
       "      <td>Australia</td>\n",
       "      <td>2018-01-31 23:38:00</td>\n",
       "      <td>77204</td>\n",
       "      <td>4.770000</td>\n",
       "      <td>0.12</td>\n",
       "      <td>180519</td>\n",
       "      <td>0.28</td>\n",
       "      <td>1</td>\n",
       "      <td>39.750000</td>\n",
       "      <td>34.980000</td>\n",
       "      <td>9.790000</td>\n",
       "      <td>Oceania</td>\n",
       "      <td>Queensland</td>\n",
       "      <td>CLOSED</td>\n",
       "      <td>NaN</td>\n",
       "      <td>1362</td>\n",
       "      <td>http://images.acmesports.sports/Fighting+video...</td>\n",
       "      <td>Fighting video games</td>\n",
       "      <td>39.750000</td>\n",
       "      <td>0</td>\n",
       "      <td>2018-02-01 11:38:00</td>\n",
       "      <td>Same Day</td>\n",
       "      <td>2018</td>\n",
       "    </tr>\n",
       "  </tbody>\n",
       "</table>\n",
       "<p>7964 rows × 47 columns</p>\n",
       "</div>"
      ],
      "text/plain": [
       "            Type  Days for shipping (real)  Days for shipment (scheduled)  \\\n",
       "33457       CASH                         5                              4   \n",
       "36638    PAYMENT                         6                              2   \n",
       "48521      DEBIT                         2                              2   \n",
       "24764      DEBIT                         2                              1   \n",
       "39318      DEBIT                         4                              2   \n",
       "...          ...                       ...                            ...   \n",
       "160537  TRANSFER                         6                              4   \n",
       "93905      DEBIT                         2                              4   \n",
       "0          DEBIT                         3                              4   \n",
       "52147    PAYMENT                         4                              4   \n",
       "17863       CASH                         1                              0   \n",
       "\n",
       "         Delivery Status  Late_delivery_risk  Category Id     Category Name  \\\n",
       "33457      Late delivery                   1           59            Books    \n",
       "36638      Late delivery                   1           59            Books    \n",
       "48521   Shipping on time                   0           59            Books    \n",
       "24764      Late delivery                   1           59            Books    \n",
       "39318      Late delivery                   1           59            Books    \n",
       "...                  ...                 ...          ...               ...   \n",
       "160537     Late delivery                   1           76  Women's Clothing   \n",
       "93905   Advance shipping                   0           76  Women's Clothing   \n",
       "0       Advance shipping                   0           73    Sporting Goods   \n",
       "52147   Shipping on time                   0           74              Toys   \n",
       "17863      Late delivery                   1           75       Video Games   \n",
       "\n",
       "       Customer City Customer Country Customer Email Customer Fname  \\\n",
       "33457    Brownsville          EE. UU.      XXXXXXXXX           Mike   \n",
       "36638    Brownsville          EE. UU.      XXXXXXXXX           Anne   \n",
       "48521      Littleton          EE. UU.      XXXXXXXXX         Filipe   \n",
       "24764     San Marcos          EE. UU.      XXXXXXXXX         Joanha   \n",
       "39318         Caguas      Puerto Rico      XXXXXXXXX           John   \n",
       "...              ...              ...            ...            ...   \n",
       "160537        Caguas      Puerto Rico      XXXXXXXXX          Chava   \n",
       "93905     Plainfield          EE. UU.      XXXXXXXXX         Stacey   \n",
       "0             Caguas      Puerto Rico      XXXXXXXXX          Cally   \n",
       "52147         Berwyn          EE. UU.      XXXXXXXXX       Cherokee   \n",
       "17863          Miami          EE. UU.      XXXXXXXXX        Katelyn   \n",
       "\n",
       "        Customer Id Customer Lname Customer Password Customer Segment  \\\n",
       "33457         12436   Gulvishvokov         XXXXXXXXX         Consumer   \n",
       "36638         12437          Patel         XXXXXXXXX         Consumer   \n",
       "48521         12438        Godinho         XXXXXXXXX        Corporate   \n",
       "24764         12440     Mirkckociv         XXXXXXXXX        Corporate   \n",
       "39318         12441    Gerginokish         XXXXXXXXX        Corporate   \n",
       "...             ...            ...               ...              ...   \n",
       "160537        20753          Velez         XXXXXXXXX         Consumer   \n",
       "93905         20754          Weber         XXXXXXXXX         Consumer   \n",
       "0             20755       Holloway         XXXXXXXXX         Consumer   \n",
       "52147         20756       Callahan         XXXXXXXXX        Corporate   \n",
       "17863         20757       Gonzales         XXXXXXXXX        Corporate   \n",
       "\n",
       "       Customer State            Customer Street  Customer Zipcode  \\\n",
       "33457              TX         6303 Heather Plaza           78521.0   \n",
       "36638              TX         6303 Heather Plaza           78521.0   \n",
       "48521              CO    9526 Noble Embers Ridge           80126.0   \n",
       "24764              CA        8324 Little Common            92069.0   \n",
       "39318              PR      10 Crystal River Mall             725.0   \n",
       "...               ...                        ...               ...   \n",
       "160537             PR       9861 Grand Elk Trace             725.0   \n",
       "93905              IL    5919 Hidden Anchor Port           60544.0   \n",
       "0                  PR   5365 Noble Nectar Island             725.0   \n",
       "52147              IL   3312 Harvest Horse Chase           60402.0   \n",
       "17863              FL  9299 Quiet Pioneer Forest           33126.0   \n",
       "\n",
       "        Department Id Department Name   Latitude   Longitude        Market  \\\n",
       "33457               8       Book Shop  25.961628  -97.577255        Europe   \n",
       "36638               8       Book Shop  25.961628  -97.577255        Europe   \n",
       "48521               8       Book Shop  39.522995 -104.948219        Europe   \n",
       "24764               8       Book Shop  33.146751 -117.169533        Europe   \n",
       "39318               8       Book Shop  18.231728  -66.370628        Europe   \n",
       "...               ...             ...        ...         ...           ...   \n",
       "160537              4         Apparel  18.273024  -66.037056  Pacific Asia   \n",
       "93905               4         Apparel  41.608639  -88.202042  Pacific Asia   \n",
       "0                   2         Fitness  18.251453  -66.037056  Pacific Asia   \n",
       "52147               7        Fan Shop  41.830791  -87.802979  Pacific Asia   \n",
       "17863               9      Discs Shop  25.860285  -80.197342  Pacific Asia   \n",
       "\n",
       "           Order City Order Country order date (DateOrders)  Order Id  \\\n",
       "33457         Trieste        Italia     2017-10-02 12:46:00     68884   \n",
       "36638   Aix-les-Bains       Francia     2017-10-02 13:08:00     68885   \n",
       "48521           Viena       Austria     2017-10-02 13:29:00     68886   \n",
       "24764           Forst      Alemania     2017-10-02 13:50:00     68887   \n",
       "39318         Le Mans       Francia     2017-10-02 14:11:00     68888   \n",
       "...               ...           ...                     ...       ...   \n",
       "160537         Bekasi     Indonesia     2018-01-31 22:14:00     77200   \n",
       "93905          Bekasi     Indonesia     2018-01-31 22:35:00     77201   \n",
       "0              Bekasi     Indonesia     2018-01-31 22:56:00     77202   \n",
       "52147          Bekasi     Indonesia     2018-01-31 23:17:00     77203   \n",
       "17863      Gold Coast     Australia     2018-01-31 23:38:00     77204   \n",
       "\n",
       "        Order Item Discount  Order Item Discount Rate  Order Item Id  \\\n",
       "33457              5.590000                      0.18         172199   \n",
       "36638              5.280000                      0.17         172200   \n",
       "48521              4.970000                      0.16         172201   \n",
       "24764              4.660000                      0.15         172202   \n",
       "39318              4.040000                      0.13         172203   \n",
       "...                     ...                       ...            ...   \n",
       "160537            53.959999                      0.25         180515   \n",
       "93905             43.160000                      0.20         180516   \n",
       "0                 13.110000                      0.04         180517   \n",
       "52147              0.630000                      0.06         180518   \n",
       "17863              4.770000                      0.12         180519   \n",
       "\n",
       "        Order Item Profit Ratio  Order Item Quantity       Sales  \\\n",
       "33457                      0.09                    1   31.080000   \n",
       "36638                      0.08                    1   31.080000   \n",
       "48521                      0.23                    1   31.080000   \n",
       "24764                      0.08                    1   31.080000   \n",
       "39318                      0.47                    1   31.080000   \n",
       "...                         ...                  ...         ...   \n",
       "160537                    -0.67                    1  215.820007   \n",
       "93905                     -0.73                    1  215.820007   \n",
       "0                          0.29                    1  327.750000   \n",
       "52147                      0.14                    1   11.540000   \n",
       "17863                      0.28                    1   39.750000   \n",
       "\n",
       "        Order Item Total  Order Profit Per Order     Order Region  \\\n",
       "33457          25.490000                2.240000  Southern Europe   \n",
       "36638          25.799999                1.930000   Western Europe   \n",
       "48521          26.110001                5.870000   Western Europe   \n",
       "24764          26.420000                1.980000   Western Europe   \n",
       "39318          27.040001               12.710000   Western Europe   \n",
       "...                  ...                     ...              ...   \n",
       "160537        161.869995             -107.959999   Southeast Asia   \n",
       "93905         172.660004             -126.559998   Southeast Asia   \n",
       "0             314.640015               91.250000   Southeast Asia   \n",
       "52147          10.910000                1.530000   Southeast Asia   \n",
       "17863          34.980000                9.790000          Oceania   \n",
       "\n",
       "                 Order State     Order Status  Order Zipcode  Product Card Id  \\\n",
       "33457   Friuli-Venecia Julia           CLOSED            NaN             1346   \n",
       "36638   Auvernia-Rdano-Alpes  PENDING_PAYMENT            NaN             1346   \n",
       "48521                  Viena         COMPLETE            NaN             1346   \n",
       "24764           Brandenburgo         COMPLETE            NaN             1346   \n",
       "39318        Pases del Loira         COMPLETE            NaN             1346   \n",
       "...                      ...              ...            ...              ...   \n",
       "160537       Java Occidental       PROCESSING            NaN             1363   \n",
       "93905        Java Occidental         COMPLETE            NaN             1363   \n",
       "0            Java Occidental         COMPLETE            NaN             1360   \n",
       "52147        Java Occidental  PENDING_PAYMENT            NaN             1361   \n",
       "17863             Queensland           CLOSED            NaN             1362   \n",
       "\n",
       "                                            Product Image  \\\n",
       "33457        http://images.acmesports.sports/Sports+Books   \n",
       "36638        http://images.acmesports.sports/Sports+Books   \n",
       "48521        http://images.acmesports.sports/Sports+Books   \n",
       "24764        http://images.acmesports.sports/Sports+Books   \n",
       "39318        http://images.acmesports.sports/Sports+Books   \n",
       "...                                                   ...   \n",
       "160537     http://images.acmesports.sports/Summer+dresses   \n",
       "93905      http://images.acmesports.sports/Summer+dresses   \n",
       "0            http://images.acmesports.sports/Smart+watch    \n",
       "52147               http://images.acmesports.sports/Toys    \n",
       "17863   http://images.acmesports.sports/Fighting+video...   \n",
       "\n",
       "                Product Name  Product Price  Product Status  \\\n",
       "33457          Sports Books       31.080000               0   \n",
       "36638          Sports Books       31.080000               0   \n",
       "48521          Sports Books       31.080000               0   \n",
       "24764          Sports Books       31.080000               0   \n",
       "39318          Sports Books       31.080000               0   \n",
       "...                      ...            ...             ...   \n",
       "160537        Summer dresses     215.820007               0   \n",
       "93905         Summer dresses     215.820007               0   \n",
       "0               Smart watch      327.750000               0   \n",
       "52147                  Toys       11.540000               0   \n",
       "17863   Fighting video games      39.750000               0   \n",
       "\n",
       "       shipping date (DateOrders)   Shipping Mode  Year  \n",
       "33457         2017-10-07 12:46:00  Standard Class  2017  \n",
       "36638         2017-10-08 13:08:00    Second Class  2017  \n",
       "48521         2017-10-04 13:29:00    Second Class  2017  \n",
       "24764         2017-10-04 13:50:00     First Class  2017  \n",
       "39318         2017-10-06 14:11:00    Second Class  2017  \n",
       "...                           ...             ...   ...  \n",
       "160537        2018-02-06 22:14:00  Standard Class  2018  \n",
       "93905         2018-02-02 22:35:00  Standard Class  2018  \n",
       "0             2018-02-03 22:56:00  Standard Class  2018  \n",
       "52147         2018-02-04 23:17:00  Standard Class  2018  \n",
       "17863         2018-02-01 11:38:00        Same Day  2018  \n",
       "\n",
       "[7964 rows x 47 columns]"
      ]
     },
     "execution_count": 23,
     "metadata": {},
     "output_type": "execute_result"
    }
   ],
   "source": [
    "df_exploring=dF_clean[dF_clean[\"order date (DateOrders)\"]>=dt2]\n",
    "df_exploring.to_excel(\"afterdt1.xlsx\")\n",
    "df_exploring[df_exploring[\"order date (DateOrders)\"]>=dt1]"
   ]
  },
  {
   "cell_type": "markdown",
   "id": "82cc3155",
   "metadata": {
    "papermill": {
     "duration": 0.021806,
     "end_time": "2022-12-05T08:02:22.354550",
     "exception": false,
     "start_time": "2022-12-05T08:02:22.332744",
     "status": "completed"
    },
    "tags": []
   },
   "source": [
    "As we can see after date time of \"02-10-2017 12:46:00\" all the customer that are recorded in system are new. There are no records of old customer purchasing after **2nd October 2017 12:46 PM.** This may be due to multiple reasons and in real life we must connect with the data engineers or the data owners to know the reason behind this irregularity.\n",
    "\n",
    "One possible reason could be that after the above date time the company started using different system to handle old customers and was using the same system to handle new customers\n",
    "\n",
    "We can try to see that if there are records with same Customer Name and Customer City after the above timestamp and before the timestamp. If there are such cases present, we can compare their other transaction details such as product purchased ,customer street, Order city to find out whether these customers are the same and system have erroneously assigned a new customer Id even to old customer"
   ]
  },
  {
   "cell_type": "code",
   "execution_count": 24,
   "id": "e7383e86",
   "metadata": {
    "execution": {
     "iopub.execute_input": "2022-12-05T08:02:22.400861Z",
     "iopub.status.busy": "2022-12-05T08:02:22.400099Z",
     "iopub.status.idle": "2022-12-05T08:02:22.660178Z",
     "shell.execute_reply": "2022-12-05T08:02:22.659162Z"
    },
    "papermill": {
     "duration": 0.286364,
     "end_time": "2022-12-05T08:02:22.663039",
     "exception": false,
     "start_time": "2022-12-05T08:02:22.376675",
     "status": "completed"
    },
    "tags": []
   },
   "outputs": [],
   "source": [
    "dF_clean[\"Customer Full Name\"]=dF_clean[\"Customer Fname\"]+\" \"+dF_clean[\"Customer Lname\"]\n",
    "datetime_val = datetime.datetime.strptime('02-10-2017 12:46:00', '%d-%m-%Y %H:%M:%S')\n",
    "Customer_Names_After_Dt=dF_clean[dF_clean[\"order date (DateOrders)\"]>=datetime_val][[\"Customer Full Name\",\"Customer City\"]].drop_duplicates()"
   ]
  },
  {
   "cell_type": "code",
   "execution_count": 25,
   "id": "168443d7",
   "metadata": {
    "execution": {
     "iopub.execute_input": "2022-12-05T08:02:22.713213Z",
     "iopub.status.busy": "2022-12-05T08:02:22.712767Z",
     "iopub.status.idle": "2022-12-05T08:02:23.248961Z",
     "shell.execute_reply": "2022-12-05T08:02:23.247795Z"
    },
    "papermill": {
     "duration": 0.564616,
     "end_time": "2022-12-05T08:02:23.251817",
     "exception": false,
     "start_time": "2022-12-05T08:02:22.687201",
     "status": "completed"
    },
    "tags": []
   },
   "outputs": [],
   "source": [
    "Customer_Name_Common_Before_After_dt=pd.merge(dF_clean[(dF_clean[\"order date (DateOrders)\"]<=datetime_val)],Customer_Names_After_Dt,how=\"inner\",on=[\"Customer Full Name\",\"Customer City\"])\n",
    "Records=pd.merge(Customer_Name_Common_Before_After_dt[[\"Customer Full Name\",\"Customer City\"]].drop_duplicates(),dF_clean,how=\"inner\",on=[\"Customer Full Name\",\"Customer City\"])\n",
    "Records.to_excel(\"idissue.xlsx\")"
   ]
  },
  {
   "cell_type": "code",
   "execution_count": 26,
   "id": "7a3fd274",
   "metadata": {
    "execution": {
     "iopub.execute_input": "2022-12-05T08:02:23.304432Z",
     "iopub.status.busy": "2022-12-05T08:02:23.303468Z",
     "iopub.status.idle": "2022-12-05T08:02:23.356318Z",
     "shell.execute_reply": "2022-12-05T08:02:23.355186Z"
    },
    "papermill": {
     "duration": 0.080896,
     "end_time": "2022-12-05T08:02:23.359137",
     "exception": false,
     "start_time": "2022-12-05T08:02:23.278241",
     "status": "completed"
    },
    "tags": []
   },
   "outputs": [
    {
     "data": {
      "text/html": [
       "<div>\n",
       "<style scoped>\n",
       "    .dataframe tbody tr th:only-of-type {\n",
       "        vertical-align: middle;\n",
       "    }\n",
       "\n",
       "    .dataframe tbody tr th {\n",
       "        vertical-align: top;\n",
       "    }\n",
       "\n",
       "    .dataframe thead th {\n",
       "        text-align: right;\n",
       "    }\n",
       "</style>\n",
       "<table border=\"1\" class=\"dataframe\">\n",
       "  <thead>\n",
       "    <tr style=\"text-align: right;\">\n",
       "      <th></th>\n",
       "      <th>Customer Full Name</th>\n",
       "      <th>Customer City</th>\n",
       "      <th>Type</th>\n",
       "      <th>Days for shipping (real)</th>\n",
       "      <th>Days for shipment (scheduled)</th>\n",
       "      <th>Delivery Status</th>\n",
       "      <th>Late_delivery_risk</th>\n",
       "      <th>Category Id</th>\n",
       "      <th>Category Name</th>\n",
       "      <th>Customer Country</th>\n",
       "      <th>Customer Email</th>\n",
       "      <th>Customer Fname</th>\n",
       "      <th>Customer Id</th>\n",
       "      <th>Customer Lname</th>\n",
       "      <th>Customer Password</th>\n",
       "      <th>Customer Segment</th>\n",
       "      <th>Customer State</th>\n",
       "      <th>Customer Street</th>\n",
       "      <th>Customer Zipcode</th>\n",
       "      <th>Department Id</th>\n",
       "      <th>Department Name</th>\n",
       "      <th>Latitude</th>\n",
       "      <th>Longitude</th>\n",
       "      <th>Market</th>\n",
       "      <th>Order City</th>\n",
       "      <th>Order Country</th>\n",
       "      <th>order date (DateOrders)</th>\n",
       "      <th>Order Id</th>\n",
       "      <th>Order Item Discount</th>\n",
       "      <th>Order Item Discount Rate</th>\n",
       "      <th>Order Item Id</th>\n",
       "      <th>Order Item Profit Ratio</th>\n",
       "      <th>Order Item Quantity</th>\n",
       "      <th>Sales</th>\n",
       "      <th>Order Item Total</th>\n",
       "      <th>Order Profit Per Order</th>\n",
       "      <th>Order Region</th>\n",
       "      <th>Order State</th>\n",
       "      <th>Order Status</th>\n",
       "      <th>Order Zipcode</th>\n",
       "      <th>Product Card Id</th>\n",
       "      <th>Product Image</th>\n",
       "      <th>Product Name</th>\n",
       "      <th>Product Price</th>\n",
       "      <th>Product Status</th>\n",
       "      <th>shipping date (DateOrders)</th>\n",
       "      <th>Shipping Mode</th>\n",
       "      <th>Year</th>\n",
       "    </tr>\n",
       "  </thead>\n",
       "  <tbody>\n",
       "    <tr>\n",
       "      <th>0</th>\n",
       "      <td>Jennifer Ramos</td>\n",
       "      <td>Caguas</td>\n",
       "      <td>DEBIT</td>\n",
       "      <td>4</td>\n",
       "      <td>2</td>\n",
       "      <td>Late delivery</td>\n",
       "      <td>1</td>\n",
       "      <td>29</td>\n",
       "      <td>Shop By Sport</td>\n",
       "      <td>Puerto Rico</td>\n",
       "      <td>XXXXXXXXX</td>\n",
       "      <td>Jennifer</td>\n",
       "      <td>11466</td>\n",
       "      <td>Ramos</td>\n",
       "      <td>XXXXXXXXX</td>\n",
       "      <td>Consumer</td>\n",
       "      <td>PR</td>\n",
       "      <td>8615 Velvet River Knoll</td>\n",
       "      <td>725.0</td>\n",
       "      <td>5</td>\n",
       "      <td>Golf</td>\n",
       "      <td>18.212088</td>\n",
       "      <td>-66.370499</td>\n",
       "      <td>LATAM</td>\n",
       "      <td>Santa Clara</td>\n",
       "      <td>Cuba</td>\n",
       "      <td>2015-01-05 02:47:00</td>\n",
       "      <td>283</td>\n",
       "      <td>21.59</td>\n",
       "      <td>0.18</td>\n",
       "      <td>706</td>\n",
       "      <td>0.29</td>\n",
       "      <td>3</td>\n",
       "      <td>119.970001</td>\n",
       "      <td>98.379997</td>\n",
       "      <td>28.530001</td>\n",
       "      <td>Caribbean</td>\n",
       "      <td>Villa Clara</td>\n",
       "      <td>COMPLETE</td>\n",
       "      <td>NaN</td>\n",
       "      <td>627</td>\n",
       "      <td>http://images.acmesports.sports/Under+Armour+G...</td>\n",
       "      <td>Under Armour Girls' Toddler Spine Surge Runni</td>\n",
       "      <td>39.990002</td>\n",
       "      <td>0</td>\n",
       "      <td>2015-01-09 02:47:00</td>\n",
       "      <td>Second Class</td>\n",
       "      <td>2015</td>\n",
       "    </tr>\n",
       "    <tr>\n",
       "      <th>1</th>\n",
       "      <td>Jennifer Ramos</td>\n",
       "      <td>Caguas</td>\n",
       "      <td>DEBIT</td>\n",
       "      <td>4</td>\n",
       "      <td>2</td>\n",
       "      <td>Late delivery</td>\n",
       "      <td>1</td>\n",
       "      <td>46</td>\n",
       "      <td>Indoor/Outdoor Games</td>\n",
       "      <td>Puerto Rico</td>\n",
       "      <td>XXXXXXXXX</td>\n",
       "      <td>Jennifer</td>\n",
       "      <td>11466</td>\n",
       "      <td>Ramos</td>\n",
       "      <td>XXXXXXXXX</td>\n",
       "      <td>Consumer</td>\n",
       "      <td>PR</td>\n",
       "      <td>8615 Velvet River Knoll</td>\n",
       "      <td>725.0</td>\n",
       "      <td>7</td>\n",
       "      <td>Fan Shop</td>\n",
       "      <td>18.212088</td>\n",
       "      <td>-66.370499</td>\n",
       "      <td>LATAM</td>\n",
       "      <td>Santa Clara</td>\n",
       "      <td>Cuba</td>\n",
       "      <td>2015-01-05 02:47:00</td>\n",
       "      <td>283</td>\n",
       "      <td>12.50</td>\n",
       "      <td>0.25</td>\n",
       "      <td>708</td>\n",
       "      <td>-0.73</td>\n",
       "      <td>1</td>\n",
       "      <td>49.980000</td>\n",
       "      <td>37.490002</td>\n",
       "      <td>-27.480000</td>\n",
       "      <td>Caribbean</td>\n",
       "      <td>Villa Clara</td>\n",
       "      <td>COMPLETE</td>\n",
       "      <td>NaN</td>\n",
       "      <td>1014</td>\n",
       "      <td>http://images.acmesports.sports/O%27Brien+Men%...</td>\n",
       "      <td>O'Brien Men's Neoprene Life Vest</td>\n",
       "      <td>49.980000</td>\n",
       "      <td>0</td>\n",
       "      <td>2015-01-09 02:47:00</td>\n",
       "      <td>Second Class</td>\n",
       "      <td>2015</td>\n",
       "    </tr>\n",
       "    <tr>\n",
       "      <th>2</th>\n",
       "      <td>Jennifer Ramos</td>\n",
       "      <td>Caguas</td>\n",
       "      <td>DEBIT</td>\n",
       "      <td>4</td>\n",
       "      <td>2</td>\n",
       "      <td>Late delivery</td>\n",
       "      <td>1</td>\n",
       "      <td>48</td>\n",
       "      <td>Water Sports</td>\n",
       "      <td>Puerto Rico</td>\n",
       "      <td>XXXXXXXXX</td>\n",
       "      <td>Jennifer</td>\n",
       "      <td>11466</td>\n",
       "      <td>Ramos</td>\n",
       "      <td>XXXXXXXXX</td>\n",
       "      <td>Consumer</td>\n",
       "      <td>PR</td>\n",
       "      <td>8615 Velvet River Knoll</td>\n",
       "      <td>725.0</td>\n",
       "      <td>7</td>\n",
       "      <td>Fan Shop</td>\n",
       "      <td>18.212088</td>\n",
       "      <td>-66.370499</td>\n",
       "      <td>LATAM</td>\n",
       "      <td>Santa Clara</td>\n",
       "      <td>Cuba</td>\n",
       "      <td>2015-01-05 02:47:00</td>\n",
       "      <td>283</td>\n",
       "      <td>4.00</td>\n",
       "      <td>0.02</td>\n",
       "      <td>709</td>\n",
       "      <td>-0.70</td>\n",
       "      <td>1</td>\n",
       "      <td>199.990005</td>\n",
       "      <td>195.990005</td>\n",
       "      <td>-137.190002</td>\n",
       "      <td>Caribbean</td>\n",
       "      <td>Villa Clara</td>\n",
       "      <td>COMPLETE</td>\n",
       "      <td>NaN</td>\n",
       "      <td>1073</td>\n",
       "      <td>http://images.acmesports.sports/Pelican+Sunstr...</td>\n",
       "      <td>Pelican Sunstream 100 Kayak</td>\n",
       "      <td>199.990005</td>\n",
       "      <td>0</td>\n",
       "      <td>2015-01-09 02:47:00</td>\n",
       "      <td>Second Class</td>\n",
       "      <td>2015</td>\n",
       "    </tr>\n",
       "    <tr>\n",
       "      <th>3</th>\n",
       "      <td>Jennifer Ramos</td>\n",
       "      <td>Caguas</td>\n",
       "      <td>DEBIT</td>\n",
       "      <td>4</td>\n",
       "      <td>2</td>\n",
       "      <td>Late delivery</td>\n",
       "      <td>1</td>\n",
       "      <td>46</td>\n",
       "      <td>Indoor/Outdoor Games</td>\n",
       "      <td>Puerto Rico</td>\n",
       "      <td>XXXXXXXXX</td>\n",
       "      <td>Jennifer</td>\n",
       "      <td>11466</td>\n",
       "      <td>Ramos</td>\n",
       "      <td>XXXXXXXXX</td>\n",
       "      <td>Consumer</td>\n",
       "      <td>PR</td>\n",
       "      <td>8615 Velvet River Knoll</td>\n",
       "      <td>725.0</td>\n",
       "      <td>7</td>\n",
       "      <td>Fan Shop</td>\n",
       "      <td>18.212088</td>\n",
       "      <td>-66.370499</td>\n",
       "      <td>LATAM</td>\n",
       "      <td>Santa Clara</td>\n",
       "      <td>Cuba</td>\n",
       "      <td>2015-01-05 02:47:00</td>\n",
       "      <td>283</td>\n",
       "      <td>2.00</td>\n",
       "      <td>0.01</td>\n",
       "      <td>707</td>\n",
       "      <td>0.26</td>\n",
       "      <td>4</td>\n",
       "      <td>199.919998</td>\n",
       "      <td>197.919998</td>\n",
       "      <td>51.459999</td>\n",
       "      <td>Caribbean</td>\n",
       "      <td>Villa Clara</td>\n",
       "      <td>COMPLETE</td>\n",
       "      <td>NaN</td>\n",
       "      <td>1014</td>\n",
       "      <td>http://images.acmesports.sports/O%27Brien+Men%...</td>\n",
       "      <td>O'Brien Men's Neoprene Life Vest</td>\n",
       "      <td>49.980000</td>\n",
       "      <td>0</td>\n",
       "      <td>2015-01-09 02:47:00</td>\n",
       "      <td>Second Class</td>\n",
       "      <td>2015</td>\n",
       "    </tr>\n",
       "    <tr>\n",
       "      <th>4</th>\n",
       "      <td>Jennifer Ramos</td>\n",
       "      <td>Caguas</td>\n",
       "      <td>DEBIT</td>\n",
       "      <td>2</td>\n",
       "      <td>2</td>\n",
       "      <td>Shipping on time</td>\n",
       "      <td>0</td>\n",
       "      <td>24</td>\n",
       "      <td>Women's Apparel</td>\n",
       "      <td>Puerto Rico</td>\n",
       "      <td>XXXXXXXXX</td>\n",
       "      <td>Jennifer</td>\n",
       "      <td>11466</td>\n",
       "      <td>Ramos</td>\n",
       "      <td>XXXXXXXXX</td>\n",
       "      <td>Consumer</td>\n",
       "      <td>PR</td>\n",
       "      <td>8615 Velvet River Knoll</td>\n",
       "      <td>725.0</td>\n",
       "      <td>5</td>\n",
       "      <td>Golf</td>\n",
       "      <td>18.212088</td>\n",
       "      <td>-66.370499</td>\n",
       "      <td>Europe</td>\n",
       "      <td>Barcelona</td>\n",
       "      <td>Espaa</td>\n",
       "      <td>2015-06-14 05:22:00</td>\n",
       "      <td>11251</td>\n",
       "      <td>18.00</td>\n",
       "      <td>0.09</td>\n",
       "      <td>28114</td>\n",
       "      <td>0.34</td>\n",
       "      <td>4</td>\n",
       "      <td>200.000000</td>\n",
       "      <td>182.000000</td>\n",
       "      <td>61.520000</td>\n",
       "      <td>Southern Europe</td>\n",
       "      <td>Catalua</td>\n",
       "      <td>COMPLETE</td>\n",
       "      <td>NaN</td>\n",
       "      <td>502</td>\n",
       "      <td>http://images.acmesports.sports/Nike+Men%27s+D...</td>\n",
       "      <td>Nike Men's Dri-FIT Victory Golf Polo</td>\n",
       "      <td>50.000000</td>\n",
       "      <td>0</td>\n",
       "      <td>2015-06-16 05:22:00</td>\n",
       "      <td>Second Class</td>\n",
       "      <td>2015</td>\n",
       "    </tr>\n",
       "    <tr>\n",
       "      <th>5</th>\n",
       "      <td>Jennifer Ramos</td>\n",
       "      <td>Caguas</td>\n",
       "      <td>DEBIT</td>\n",
       "      <td>2</td>\n",
       "      <td>2</td>\n",
       "      <td>Shipping on time</td>\n",
       "      <td>0</td>\n",
       "      <td>45</td>\n",
       "      <td>Fishing</td>\n",
       "      <td>Puerto Rico</td>\n",
       "      <td>XXXXXXXXX</td>\n",
       "      <td>Jennifer</td>\n",
       "      <td>11466</td>\n",
       "      <td>Ramos</td>\n",
       "      <td>XXXXXXXXX</td>\n",
       "      <td>Consumer</td>\n",
       "      <td>PR</td>\n",
       "      <td>8615 Velvet River Knoll</td>\n",
       "      <td>725.0</td>\n",
       "      <td>7</td>\n",
       "      <td>Fan Shop</td>\n",
       "      <td>18.212088</td>\n",
       "      <td>-66.370499</td>\n",
       "      <td>Europe</td>\n",
       "      <td>Barcelona</td>\n",
       "      <td>Espaa</td>\n",
       "      <td>2015-06-14 05:22:00</td>\n",
       "      <td>11251</td>\n",
       "      <td>8.00</td>\n",
       "      <td>0.02</td>\n",
       "      <td>28116</td>\n",
       "      <td>0.00</td>\n",
       "      <td>1</td>\n",
       "      <td>399.980011</td>\n",
       "      <td>391.980011</td>\n",
       "      <td>0.000000</td>\n",
       "      <td>Southern Europe</td>\n",
       "      <td>Catalua</td>\n",
       "      <td>COMPLETE</td>\n",
       "      <td>NaN</td>\n",
       "      <td>1004</td>\n",
       "      <td>http://images.acmesports.sports/Field+%26+Stre...</td>\n",
       "      <td>Field &amp; Stream Sportsman 16 Gun Fire Safe</td>\n",
       "      <td>399.980011</td>\n",
       "      <td>0</td>\n",
       "      <td>2015-06-16 05:22:00</td>\n",
       "      <td>Second Class</td>\n",
       "      <td>2015</td>\n",
       "    </tr>\n",
       "    <tr>\n",
       "      <th>6</th>\n",
       "      <td>Jennifer Ramos</td>\n",
       "      <td>Caguas</td>\n",
       "      <td>DEBIT</td>\n",
       "      <td>2</td>\n",
       "      <td>2</td>\n",
       "      <td>Shipping on time</td>\n",
       "      <td>0</td>\n",
       "      <td>29</td>\n",
       "      <td>Shop By Sport</td>\n",
       "      <td>Puerto Rico</td>\n",
       "      <td>XXXXXXXXX</td>\n",
       "      <td>Jennifer</td>\n",
       "      <td>11466</td>\n",
       "      <td>Ramos</td>\n",
       "      <td>XXXXXXXXX</td>\n",
       "      <td>Consumer</td>\n",
       "      <td>PR</td>\n",
       "      <td>8615 Velvet River Knoll</td>\n",
       "      <td>725.0</td>\n",
       "      <td>5</td>\n",
       "      <td>Golf</td>\n",
       "      <td>18.212088</td>\n",
       "      <td>-66.370499</td>\n",
       "      <td>Europe</td>\n",
       "      <td>Barcelona</td>\n",
       "      <td>Espaa</td>\n",
       "      <td>2015-06-14 05:22:00</td>\n",
       "      <td>11251</td>\n",
       "      <td>4.40</td>\n",
       "      <td>0.06</td>\n",
       "      <td>28115</td>\n",
       "      <td>0.26</td>\n",
       "      <td>2</td>\n",
       "      <td>79.980003</td>\n",
       "      <td>75.580002</td>\n",
       "      <td>19.650000</td>\n",
       "      <td>Southern Europe</td>\n",
       "      <td>Catalua</td>\n",
       "      <td>COMPLETE</td>\n",
       "      <td>NaN</td>\n",
       "      <td>627</td>\n",
       "      <td>http://images.acmesports.sports/Under+Armour+G...</td>\n",
       "      <td>Under Armour Girls' Toddler Spine Surge Runni</td>\n",
       "      <td>39.990002</td>\n",
       "      <td>0</td>\n",
       "      <td>2015-06-16 05:22:00</td>\n",
       "      <td>Second Class</td>\n",
       "      <td>2015</td>\n",
       "    </tr>\n",
       "    <tr>\n",
       "      <th>7</th>\n",
       "      <td>Jennifer Ramos</td>\n",
       "      <td>Caguas</td>\n",
       "      <td>DEBIT</td>\n",
       "      <td>2</td>\n",
       "      <td>4</td>\n",
       "      <td>Advance shipping</td>\n",
       "      <td>0</td>\n",
       "      <td>17</td>\n",
       "      <td>Cleats</td>\n",
       "      <td>Puerto Rico</td>\n",
       "      <td>XXXXXXXXX</td>\n",
       "      <td>Jennifer</td>\n",
       "      <td>11466</td>\n",
       "      <td>Ramos</td>\n",
       "      <td>XXXXXXXXX</td>\n",
       "      <td>Consumer</td>\n",
       "      <td>PR</td>\n",
       "      <td>8615 Velvet River Knoll</td>\n",
       "      <td>725.0</td>\n",
       "      <td>4</td>\n",
       "      <td>Apparel</td>\n",
       "      <td>18.212088</td>\n",
       "      <td>-66.370499</td>\n",
       "      <td>Europe</td>\n",
       "      <td>Leipzig</td>\n",
       "      <td>Alemania</td>\n",
       "      <td>2015-06-19 23:45:00</td>\n",
       "      <td>11646</td>\n",
       "      <td>6.00</td>\n",
       "      <td>0.10</td>\n",
       "      <td>29116</td>\n",
       "      <td>-1.50</td>\n",
       "      <td>1</td>\n",
       "      <td>59.990002</td>\n",
       "      <td>53.990002</td>\n",
       "      <td>-80.989998</td>\n",
       "      <td>Western Europe</td>\n",
       "      <td>Sajonia</td>\n",
       "      <td>COMPLETE</td>\n",
       "      <td>NaN</td>\n",
       "      <td>365</td>\n",
       "      <td>http://images.acmesports.sports/Perfect+Fitnes...</td>\n",
       "      <td>Perfect Fitness Perfect Rip Deck</td>\n",
       "      <td>59.990002</td>\n",
       "      <td>0</td>\n",
       "      <td>2015-06-21 23:45:00</td>\n",
       "      <td>Standard Class</td>\n",
       "      <td>2015</td>\n",
       "    </tr>\n",
       "    <tr>\n",
       "      <th>8</th>\n",
       "      <td>Jennifer Ramos</td>\n",
       "      <td>Caguas</td>\n",
       "      <td>DEBIT</td>\n",
       "      <td>2</td>\n",
       "      <td>4</td>\n",
       "      <td>Advance shipping</td>\n",
       "      <td>0</td>\n",
       "      <td>43</td>\n",
       "      <td>Camping &amp; Hiking</td>\n",
       "      <td>Puerto Rico</td>\n",
       "      <td>XXXXXXXXX</td>\n",
       "      <td>Jennifer</td>\n",
       "      <td>11466</td>\n",
       "      <td>Ramos</td>\n",
       "      <td>XXXXXXXXX</td>\n",
       "      <td>Consumer</td>\n",
       "      <td>PR</td>\n",
       "      <td>8615 Velvet River Knoll</td>\n",
       "      <td>725.0</td>\n",
       "      <td>7</td>\n",
       "      <td>Fan Shop</td>\n",
       "      <td>18.212088</td>\n",
       "      <td>-66.370499</td>\n",
       "      <td>Europe</td>\n",
       "      <td>Leipzig</td>\n",
       "      <td>Alemania</td>\n",
       "      <td>2015-06-19 23:45:00</td>\n",
       "      <td>11646</td>\n",
       "      <td>15.00</td>\n",
       "      <td>0.05</td>\n",
       "      <td>29117</td>\n",
       "      <td>0.10</td>\n",
       "      <td>1</td>\n",
       "      <td>299.980011</td>\n",
       "      <td>284.980011</td>\n",
       "      <td>28.500000</td>\n",
       "      <td>Western Europe</td>\n",
       "      <td>Sajonia</td>\n",
       "      <td>COMPLETE</td>\n",
       "      <td>NaN</td>\n",
       "      <td>957</td>\n",
       "      <td>http://images.acmesports.sports/Diamondback+Wo...</td>\n",
       "      <td>Diamondback Women's Serene Classic Comfort Bi</td>\n",
       "      <td>299.980011</td>\n",
       "      <td>0</td>\n",
       "      <td>2015-06-21 23:45:00</td>\n",
       "      <td>Standard Class</td>\n",
       "      <td>2015</td>\n",
       "    </tr>\n",
       "    <tr>\n",
       "      <th>9</th>\n",
       "      <td>Jennifer Ramos</td>\n",
       "      <td>Caguas</td>\n",
       "      <td>DEBIT</td>\n",
       "      <td>6</td>\n",
       "      <td>4</td>\n",
       "      <td>Late delivery</td>\n",
       "      <td>1</td>\n",
       "      <td>76</td>\n",
       "      <td>Women's Clothing</td>\n",
       "      <td>Puerto Rico</td>\n",
       "      <td>XXXXXXXXX</td>\n",
       "      <td>Jennifer</td>\n",
       "      <td>20658</td>\n",
       "      <td>Ramos</td>\n",
       "      <td>XXXXXXXXX</td>\n",
       "      <td>Home Office</td>\n",
       "      <td>PR</td>\n",
       "      <td>3996 Misty Vale</td>\n",
       "      <td>725.0</td>\n",
       "      <td>4</td>\n",
       "      <td>Apparel</td>\n",
       "      <td>18.250578</td>\n",
       "      <td>-66.037048</td>\n",
       "      <td>Pacific Asia</td>\n",
       "      <td>Rangn</td>\n",
       "      <td>Myanmar (Birmania)</td>\n",
       "      <td>2018-01-30 12:57:00</td>\n",
       "      <td>77105</td>\n",
       "      <td>8.63</td>\n",
       "      <td>0.04</td>\n",
       "      <td>180420</td>\n",
       "      <td>0.08</td>\n",
       "      <td>1</td>\n",
       "      <td>215.820007</td>\n",
       "      <td>207.190002</td>\n",
       "      <td>16.570000</td>\n",
       "      <td>Southeast Asia</td>\n",
       "      <td>Rangn</td>\n",
       "      <td>COMPLETE</td>\n",
       "      <td>NaN</td>\n",
       "      <td>1363</td>\n",
       "      <td>http://images.acmesports.sports/Summer+dresses</td>\n",
       "      <td>Summer dresses</td>\n",
       "      <td>215.820007</td>\n",
       "      <td>0</td>\n",
       "      <td>2018-02-05 12:57:00</td>\n",
       "      <td>Standard Class</td>\n",
       "      <td>2018</td>\n",
       "    </tr>\n",
       "  </tbody>\n",
       "</table>\n",
       "</div>"
      ],
      "text/plain": [
       "  Customer Full Name Customer City   Type  Days for shipping (real)  \\\n",
       "0     Jennifer Ramos        Caguas  DEBIT                         4   \n",
       "1     Jennifer Ramos        Caguas  DEBIT                         4   \n",
       "2     Jennifer Ramos        Caguas  DEBIT                         4   \n",
       "3     Jennifer Ramos        Caguas  DEBIT                         4   \n",
       "4     Jennifer Ramos        Caguas  DEBIT                         2   \n",
       "5     Jennifer Ramos        Caguas  DEBIT                         2   \n",
       "6     Jennifer Ramos        Caguas  DEBIT                         2   \n",
       "7     Jennifer Ramos        Caguas  DEBIT                         2   \n",
       "8     Jennifer Ramos        Caguas  DEBIT                         2   \n",
       "9     Jennifer Ramos        Caguas  DEBIT                         6   \n",
       "\n",
       "   Days for shipment (scheduled)   Delivery Status  Late_delivery_risk  \\\n",
       "0                              2     Late delivery                   1   \n",
       "1                              2     Late delivery                   1   \n",
       "2                              2     Late delivery                   1   \n",
       "3                              2     Late delivery                   1   \n",
       "4                              2  Shipping on time                   0   \n",
       "5                              2  Shipping on time                   0   \n",
       "6                              2  Shipping on time                   0   \n",
       "7                              4  Advance shipping                   0   \n",
       "8                              4  Advance shipping                   0   \n",
       "9                              4     Late delivery                   1   \n",
       "\n",
       "   Category Id         Category Name Customer Country Customer Email  \\\n",
       "0           29         Shop By Sport      Puerto Rico      XXXXXXXXX   \n",
       "1           46  Indoor/Outdoor Games      Puerto Rico      XXXXXXXXX   \n",
       "2           48          Water Sports      Puerto Rico      XXXXXXXXX   \n",
       "3           46  Indoor/Outdoor Games      Puerto Rico      XXXXXXXXX   \n",
       "4           24       Women's Apparel      Puerto Rico      XXXXXXXXX   \n",
       "5           45               Fishing      Puerto Rico      XXXXXXXXX   \n",
       "6           29         Shop By Sport      Puerto Rico      XXXXXXXXX   \n",
       "7           17                Cleats      Puerto Rico      XXXXXXXXX   \n",
       "8           43      Camping & Hiking      Puerto Rico      XXXXXXXXX   \n",
       "9           76      Women's Clothing      Puerto Rico      XXXXXXXXX   \n",
       "\n",
       "  Customer Fname  Customer Id Customer Lname Customer Password  \\\n",
       "0       Jennifer        11466          Ramos         XXXXXXXXX   \n",
       "1       Jennifer        11466          Ramos         XXXXXXXXX   \n",
       "2       Jennifer        11466          Ramos         XXXXXXXXX   \n",
       "3       Jennifer        11466          Ramos         XXXXXXXXX   \n",
       "4       Jennifer        11466          Ramos         XXXXXXXXX   \n",
       "5       Jennifer        11466          Ramos         XXXXXXXXX   \n",
       "6       Jennifer        11466          Ramos         XXXXXXXXX   \n",
       "7       Jennifer        11466          Ramos         XXXXXXXXX   \n",
       "8       Jennifer        11466          Ramos         XXXXXXXXX   \n",
       "9       Jennifer        20658          Ramos         XXXXXXXXX   \n",
       "\n",
       "  Customer Segment Customer State          Customer Street  Customer Zipcode  \\\n",
       "0         Consumer             PR  8615 Velvet River Knoll             725.0   \n",
       "1         Consumer             PR  8615 Velvet River Knoll             725.0   \n",
       "2         Consumer             PR  8615 Velvet River Knoll             725.0   \n",
       "3         Consumer             PR  8615 Velvet River Knoll             725.0   \n",
       "4         Consumer             PR  8615 Velvet River Knoll             725.0   \n",
       "5         Consumer             PR  8615 Velvet River Knoll             725.0   \n",
       "6         Consumer             PR  8615 Velvet River Knoll             725.0   \n",
       "7         Consumer             PR  8615 Velvet River Knoll             725.0   \n",
       "8         Consumer             PR  8615 Velvet River Knoll             725.0   \n",
       "9      Home Office             PR          3996 Misty Vale             725.0   \n",
       "\n",
       "   Department Id Department Name   Latitude  Longitude        Market  \\\n",
       "0              5            Golf  18.212088 -66.370499         LATAM   \n",
       "1              7        Fan Shop  18.212088 -66.370499         LATAM   \n",
       "2              7        Fan Shop  18.212088 -66.370499         LATAM   \n",
       "3              7        Fan Shop  18.212088 -66.370499         LATAM   \n",
       "4              5            Golf  18.212088 -66.370499        Europe   \n",
       "5              7        Fan Shop  18.212088 -66.370499        Europe   \n",
       "6              5            Golf  18.212088 -66.370499        Europe   \n",
       "7              4         Apparel  18.212088 -66.370499        Europe   \n",
       "8              7        Fan Shop  18.212088 -66.370499        Europe   \n",
       "9              4         Apparel  18.250578 -66.037048  Pacific Asia   \n",
       "\n",
       "    Order City       Order Country order date (DateOrders)  Order Id  \\\n",
       "0  Santa Clara                Cuba     2015-01-05 02:47:00       283   \n",
       "1  Santa Clara                Cuba     2015-01-05 02:47:00       283   \n",
       "2  Santa Clara                Cuba     2015-01-05 02:47:00       283   \n",
       "3  Santa Clara                Cuba     2015-01-05 02:47:00       283   \n",
       "4    Barcelona               Espaa     2015-06-14 05:22:00     11251   \n",
       "5    Barcelona               Espaa     2015-06-14 05:22:00     11251   \n",
       "6    Barcelona               Espaa     2015-06-14 05:22:00     11251   \n",
       "7      Leipzig            Alemania     2015-06-19 23:45:00     11646   \n",
       "8      Leipzig            Alemania     2015-06-19 23:45:00     11646   \n",
       "9        Rangn  Myanmar (Birmania)     2018-01-30 12:57:00     77105   \n",
       "\n",
       "   Order Item Discount  Order Item Discount Rate  Order Item Id  \\\n",
       "0                21.59                      0.18            706   \n",
       "1                12.50                      0.25            708   \n",
       "2                 4.00                      0.02            709   \n",
       "3                 2.00                      0.01            707   \n",
       "4                18.00                      0.09          28114   \n",
       "5                 8.00                      0.02          28116   \n",
       "6                 4.40                      0.06          28115   \n",
       "7                 6.00                      0.10          29116   \n",
       "8                15.00                      0.05          29117   \n",
       "9                 8.63                      0.04         180420   \n",
       "\n",
       "   Order Item Profit Ratio  Order Item Quantity       Sales  Order Item Total  \\\n",
       "0                     0.29                    3  119.970001         98.379997   \n",
       "1                    -0.73                    1   49.980000         37.490002   \n",
       "2                    -0.70                    1  199.990005        195.990005   \n",
       "3                     0.26                    4  199.919998        197.919998   \n",
       "4                     0.34                    4  200.000000        182.000000   \n",
       "5                     0.00                    1  399.980011        391.980011   \n",
       "6                     0.26                    2   79.980003         75.580002   \n",
       "7                    -1.50                    1   59.990002         53.990002   \n",
       "8                     0.10                    1  299.980011        284.980011   \n",
       "9                     0.08                    1  215.820007        207.190002   \n",
       "\n",
       "   Order Profit Per Order     Order Region  Order State Order Status  \\\n",
       "0               28.530001        Caribbean  Villa Clara     COMPLETE   \n",
       "1              -27.480000        Caribbean  Villa Clara     COMPLETE   \n",
       "2             -137.190002        Caribbean  Villa Clara     COMPLETE   \n",
       "3               51.459999        Caribbean  Villa Clara     COMPLETE   \n",
       "4               61.520000  Southern Europe      Catalua     COMPLETE   \n",
       "5                0.000000  Southern Europe      Catalua     COMPLETE   \n",
       "6               19.650000  Southern Europe      Catalua     COMPLETE   \n",
       "7              -80.989998   Western Europe      Sajonia     COMPLETE   \n",
       "8               28.500000   Western Europe      Sajonia     COMPLETE   \n",
       "9               16.570000   Southeast Asia        Rangn     COMPLETE   \n",
       "\n",
       "   Order Zipcode  Product Card Id  \\\n",
       "0            NaN              627   \n",
       "1            NaN             1014   \n",
       "2            NaN             1073   \n",
       "3            NaN             1014   \n",
       "4            NaN              502   \n",
       "5            NaN             1004   \n",
       "6            NaN              627   \n",
       "7            NaN              365   \n",
       "8            NaN              957   \n",
       "9            NaN             1363   \n",
       "\n",
       "                                       Product Image  \\\n",
       "0  http://images.acmesports.sports/Under+Armour+G...   \n",
       "1  http://images.acmesports.sports/O%27Brien+Men%...   \n",
       "2  http://images.acmesports.sports/Pelican+Sunstr...   \n",
       "3  http://images.acmesports.sports/O%27Brien+Men%...   \n",
       "4  http://images.acmesports.sports/Nike+Men%27s+D...   \n",
       "5  http://images.acmesports.sports/Field+%26+Stre...   \n",
       "6  http://images.acmesports.sports/Under+Armour+G...   \n",
       "7  http://images.acmesports.sports/Perfect+Fitnes...   \n",
       "8  http://images.acmesports.sports/Diamondback+Wo...   \n",
       "9     http://images.acmesports.sports/Summer+dresses   \n",
       "\n",
       "                                    Product Name  Product Price  \\\n",
       "0  Under Armour Girls' Toddler Spine Surge Runni      39.990002   \n",
       "1               O'Brien Men's Neoprene Life Vest      49.980000   \n",
       "2                    Pelican Sunstream 100 Kayak     199.990005   \n",
       "3               O'Brien Men's Neoprene Life Vest      49.980000   \n",
       "4           Nike Men's Dri-FIT Victory Golf Polo      50.000000   \n",
       "5      Field & Stream Sportsman 16 Gun Fire Safe     399.980011   \n",
       "6  Under Armour Girls' Toddler Spine Surge Runni      39.990002   \n",
       "7               Perfect Fitness Perfect Rip Deck      59.990002   \n",
       "8  Diamondback Women's Serene Classic Comfort Bi     299.980011   \n",
       "9                                 Summer dresses     215.820007   \n",
       "\n",
       "   Product Status shipping date (DateOrders)   Shipping Mode  Year  \n",
       "0               0        2015-01-09 02:47:00    Second Class  2015  \n",
       "1               0        2015-01-09 02:47:00    Second Class  2015  \n",
       "2               0        2015-01-09 02:47:00    Second Class  2015  \n",
       "3               0        2015-01-09 02:47:00    Second Class  2015  \n",
       "4               0        2015-06-16 05:22:00    Second Class  2015  \n",
       "5               0        2015-06-16 05:22:00    Second Class  2015  \n",
       "6               0        2015-06-16 05:22:00    Second Class  2015  \n",
       "7               0        2015-06-21 23:45:00  Standard Class  2015  \n",
       "8               0        2015-06-21 23:45:00  Standard Class  2015  \n",
       "9               0        2018-02-05 12:57:00  Standard Class  2018  "
      ]
     },
     "execution_count": 26,
     "metadata": {},
     "output_type": "execute_result"
    }
   ],
   "source": [
    "Records[Records[\"Customer Full Name\"]==\"Jennifer Ramos\"]"
   ]
  },
  {
   "cell_type": "markdown",
   "id": "9cea62cc",
   "metadata": {
    "papermill": {
     "duration": 0.023045,
     "end_time": "2022-12-05T08:02:23.406064",
     "exception": false,
     "start_time": "2022-12-05T08:02:23.383019",
     "status": "completed"
    },
    "tags": []
   },
   "source": [
    "After looking at the data in excel we can say that even when customer were having same name and city, the different data points such as Customer Street and order region were different. From this we can infer that they are different individuals having same name and same city.\n",
    "\n",
    "For. e.g in above output we see the case of Jennifer Ramos. The last row data points such as Customer Street, Market, Customer Segment are distinctively different from the rows above it. This suggests that Jennifer Ramos with Customer City as Caguas who purchased from store after date time of \"02-10-2017 12:46:00\" is different individual from Jennifer Ramos who purchased from us before that datetime and also has same customer city Caguas.\n",
    "\n",
    "This rules out the possibility that system was erroneously assigning new customer id's even to returning customers.\n",
    "We also can't use email id to find matching customers before and after the the time stamp as all the email id are masked.\n",
    "\n",
    "**In this scenario we will remove the data after the above date time value and perform or RFM analysis on the remaining data.** \n",
    "\n",
    "This is necessary because even if a old customer purchases from our store after above date time, his transaction would'nt be recorded in the system and his frequency and monetory value would not increase.\n",
    "\n",
    "Its necessary to always be on alert while analyzing data because **its better to have no insights than bad insights.**"
   ]
  },
  {
   "cell_type": "code",
   "execution_count": 27,
   "id": "a9b977fb",
   "metadata": {
    "execution": {
     "iopub.execute_input": "2022-12-05T08:02:23.454508Z",
     "iopub.status.busy": "2022-12-05T08:02:23.454115Z",
     "iopub.status.idle": "2022-12-05T08:02:23.579960Z",
     "shell.execute_reply": "2022-12-05T08:02:23.578769Z"
    },
    "papermill": {
     "duration": 0.153667,
     "end_time": "2022-12-05T08:02:23.582801",
     "exception": false,
     "start_time": "2022-12-05T08:02:23.429134",
     "status": "completed"
    },
    "tags": []
   },
   "outputs": [],
   "source": [
    "dF_clean=dF_clean[dF_clean[\"order date (DateOrders)\"]<datetime_val].copy()"
   ]
  },
  {
   "cell_type": "code",
   "execution_count": 28,
   "id": "dcc6c816",
   "metadata": {
    "execution": {
     "iopub.execute_input": "2022-12-05T08:02:23.634652Z",
     "iopub.status.busy": "2022-12-05T08:02:23.633829Z",
     "iopub.status.idle": "2022-12-05T08:02:23.930640Z",
     "shell.execute_reply": "2022-12-05T08:02:23.929413Z"
    },
    "papermill": {
     "duration": 0.32514,
     "end_time": "2022-12-05T08:02:23.933224",
     "exception": false,
     "start_time": "2022-12-05T08:02:23.608084",
     "status": "completed"
    },
    "tags": []
   },
   "outputs": [
    {
     "data": {
      "text/plain": [
       "<AxesSubplot:xlabel='Frequency', ylabel='Count'>"
      ]
     },
     "execution_count": 28,
     "metadata": {},
     "output_type": "execute_result"
    },
    {
     "data": {
      "image/png": "[encoded data removed]",
      "text/plain": [
       "<Figure size 432x288 with 1 Axes>"
      ]
     },
     "metadata": {
      "needs_background": "light"
     },
     "output_type": "display_data"
    }
   ],
   "source": [
    "dF_frequency=dF_clean[[\"Customer Id\",\"Order Id\"]].groupby(\"Customer Id\",as_index=False).nunique()\n",
    "dF_frequency.columns=[\"Customer Id\",\"Frequency\"]\n",
    "sns.histplot(dF_frequency.Frequency,bins=15,kde=False)"
   ]
  },
  {
   "cell_type": "markdown",
   "id": "cb85b15a",
   "metadata": {
    "papermill": {
     "duration": 0.023164,
     "end_time": "2022-12-05T08:02:23.981160",
     "exception": false,
     "start_time": "2022-12-05T08:02:23.957996",
     "status": "completed"
    },
    "tags": []
   },
   "source": [
    "50% of our customers have ordered from us 4 times or more."
   ]
  },
  {
   "cell_type": "code",
   "execution_count": 29,
   "id": "e1fc3c9f",
   "metadata": {
    "execution": {
     "iopub.execute_input": "2022-12-05T08:02:24.030287Z",
     "iopub.status.busy": "2022-12-05T08:02:24.029912Z",
     "iopub.status.idle": "2022-12-05T08:02:24.041437Z",
     "shell.execute_reply": "2022-12-05T08:02:24.040141Z"
    },
    "papermill": {
     "duration": 0.038787,
     "end_time": "2022-12-05T08:02:24.043810",
     "exception": false,
     "start_time": "2022-12-05T08:02:24.005023",
     "status": "completed"
    },
    "tags": []
   },
   "outputs": [
    {
     "data": {
      "text/plain": [
       "array([ 1.,  3.,  5., 15.])"
      ]
     },
     "execution_count": 29,
     "metadata": {},
     "output_type": "execute_result"
    }
   ],
   "source": [
    "dF_frequency[\"F\"],Intervals_Frequency=pd.qcut(dF_frequency[\"Frequency\"],q=3,labels=[1,2,3],retbins=True)\n",
    "Intervals_Frequency"
   ]
  },
  {
   "cell_type": "code",
   "execution_count": 30,
   "id": "04bdcea3",
   "metadata": {
    "execution": {
     "iopub.execute_input": "2022-12-05T08:02:24.094118Z",
     "iopub.status.busy": "2022-12-05T08:02:24.093331Z",
     "iopub.status.idle": "2022-12-05T08:02:24.107101Z",
     "shell.execute_reply": "2022-12-05T08:02:24.106012Z"
    },
    "papermill": {
     "duration": 0.041314,
     "end_time": "2022-12-05T08:02:24.109359",
     "exception": false,
     "start_time": "2022-12-05T08:02:24.068045",
     "status": "completed"
    },
    "tags": []
   },
   "outputs": [
    {
     "data": {
      "text/html": [
       "<div>\n",
       "<style scoped>\n",
       "    .dataframe tbody tr th:only-of-type {\n",
       "        vertical-align: middle;\n",
       "    }\n",
       "\n",
       "    .dataframe tbody tr th {\n",
       "        vertical-align: top;\n",
       "    }\n",
       "\n",
       "    .dataframe thead th {\n",
       "        text-align: right;\n",
       "    }\n",
       "</style>\n",
       "<table border=\"1\" class=\"dataframe\">\n",
       "  <thead>\n",
       "    <tr style=\"text-align: right;\">\n",
       "      <th></th>\n",
       "      <th>Customer Id</th>\n",
       "      <th>Frequency</th>\n",
       "      <th>F</th>\n",
       "    </tr>\n",
       "  </thead>\n",
       "  <tbody>\n",
       "    <tr>\n",
       "      <th>0</th>\n",
       "      <td>1</td>\n",
       "      <td>1</td>\n",
       "      <td>1</td>\n",
       "    </tr>\n",
       "    <tr>\n",
       "      <th>1</th>\n",
       "      <td>2</td>\n",
       "      <td>4</td>\n",
       "      <td>2</td>\n",
       "    </tr>\n",
       "    <tr>\n",
       "      <th>2</th>\n",
       "      <td>3</td>\n",
       "      <td>5</td>\n",
       "      <td>2</td>\n",
       "    </tr>\n",
       "    <tr>\n",
       "      <th>3</th>\n",
       "      <td>4</td>\n",
       "      <td>4</td>\n",
       "      <td>2</td>\n",
       "    </tr>\n",
       "    <tr>\n",
       "      <th>4</th>\n",
       "      <td>5</td>\n",
       "      <td>3</td>\n",
       "      <td>1</td>\n",
       "    </tr>\n",
       "    <tr>\n",
       "      <th>...</th>\n",
       "      <td>...</td>\n",
       "      <td>...</td>\n",
       "      <td>...</td>\n",
       "    </tr>\n",
       "    <tr>\n",
       "      <th>12292</th>\n",
       "      <td>12431</td>\n",
       "      <td>13</td>\n",
       "      <td>3</td>\n",
       "    </tr>\n",
       "    <tr>\n",
       "      <th>12293</th>\n",
       "      <td>12432</td>\n",
       "      <td>9</td>\n",
       "      <td>3</td>\n",
       "    </tr>\n",
       "    <tr>\n",
       "      <th>12294</th>\n",
       "      <td>12433</td>\n",
       "      <td>3</td>\n",
       "      <td>1</td>\n",
       "    </tr>\n",
       "    <tr>\n",
       "      <th>12295</th>\n",
       "      <td>12434</td>\n",
       "      <td>6</td>\n",
       "      <td>3</td>\n",
       "    </tr>\n",
       "    <tr>\n",
       "      <th>12296</th>\n",
       "      <td>12435</td>\n",
       "      <td>1</td>\n",
       "      <td>1</td>\n",
       "    </tr>\n",
       "  </tbody>\n",
       "</table>\n",
       "<p>12297 rows × 3 columns</p>\n",
       "</div>"
      ],
      "text/plain": [
       "       Customer Id  Frequency  F\n",
       "0                1          1  1\n",
       "1                2          4  2\n",
       "2                3          5  2\n",
       "3                4          4  2\n",
       "4                5          3  1\n",
       "...            ...        ... ..\n",
       "12292        12431         13  3\n",
       "12293        12432          9  3\n",
       "12294        12433          3  1\n",
       "12295        12434          6  3\n",
       "12296        12435          1  1\n",
       "\n",
       "[12297 rows x 3 columns]"
      ]
     },
     "execution_count": 30,
     "metadata": {},
     "output_type": "execute_result"
    }
   ],
   "source": [
    "dF_frequency"
   ]
  },
  {
   "cell_type": "markdown",
   "id": "10a567ba",
   "metadata": {
    "papermill": {
     "duration": 0.023316,
     "end_time": "2022-12-05T08:02:24.156391",
     "exception": false,
     "start_time": "2022-12-05T08:02:24.133075",
     "status": "completed"
    },
    "tags": []
   },
   "source": [
    "**What did we do?**\n",
    "\n",
    "After removing the values, we found out the total number of orders for each customers. We divided the frequency in 3 quantile range.\n",
    "\n",
    "This means that first 33% of customers have their total number of purchases between 1 and 3.\n",
    "The next 33 % of customers (33-66 percentile) have their total number of purchased between 3 and 5 and so on.\n",
    "\n",
    "We assigned a score of 1 to customers having frequency between 1-3, score of 2 to customers having frequency between 3-5, and score of 3 to customer having frequency in interval 5-15.\n",
    "\n",
    "The more the frequency, more is value generated for the store, thats why a higher score is better."
   ]
  },
  {
   "cell_type": "markdown",
   "id": "26413da9",
   "metadata": {
    "papermill": {
     "duration": 0.024472,
     "end_time": "2022-12-05T08:02:24.204758",
     "exception": false,
     "start_time": "2022-12-05T08:02:24.180286",
     "status": "completed"
    },
    "tags": []
   },
   "source": [
    "**Recency**\n",
    "\n",
    "Recency of a customer is time since last purchase date of customer. Here the opposite will be true,lesser the recency, more responsive is customer to promotional offers.\n",
    "\n",
    "Here we will find last purchase date for each customer and subract it from the last recorded date in the database. This is done because dataset is not recent and last date in our cleaned data is of 2017.\n",
    "\n",
    "In a real life scenario, we will subract last purchase date from current date."
   ]
  },
  {
   "cell_type": "code",
   "execution_count": 31,
   "id": "da378fa3",
   "metadata": {
    "execution": {
     "iopub.execute_input": "2022-12-05T08:02:24.255775Z",
     "iopub.status.busy": "2022-12-05T08:02:24.255125Z",
     "iopub.status.idle": "2022-12-05T08:02:24.281475Z",
     "shell.execute_reply": "2022-12-05T08:02:24.280509Z"
    },
    "papermill": {
     "duration": 0.054792,
     "end_time": "2022-12-05T08:02:24.284093",
     "exception": false,
     "start_time": "2022-12-05T08:02:24.229301",
     "status": "completed"
    },
    "tags": []
   },
   "outputs": [],
   "source": [
    "dF_recency=dF_clean[[\"Customer Id\",\"order date (DateOrders)\"]].groupby(\"Customer Id\",as_index=False).max()\n",
    "dF_recency.rename(columns ={\"order date (DateOrders)\":\"last_purchase_date\"},inplace=True)\n",
    "max_date=dF_recency[\"last_purchase_date\"].max()\n",
    "dF_recency[\"recency\"]=max_date-dF_recency[\"last_purchase_date\"]\n",
    "dF_recency[\"recency\"]=dF_recency[\"recency\"].dt.days"
   ]
  },
  {
   "cell_type": "code",
   "execution_count": 32,
   "id": "6c9a5e21",
   "metadata": {
    "execution": {
     "iopub.execute_input": "2022-12-05T08:02:24.334546Z",
     "iopub.status.busy": "2022-12-05T08:02:24.333758Z",
     "iopub.status.idle": "2022-12-05T08:02:24.619549Z",
     "shell.execute_reply": "2022-12-05T08:02:24.618270Z"
    },
    "papermill": {
     "duration": 0.31439,
     "end_time": "2022-12-05T08:02:24.622964",
     "exception": false,
     "start_time": "2022-12-05T08:02:24.308574",
     "status": "completed"
    },
    "tags": []
   },
   "outputs": [
    {
     "data": {
      "text/plain": [
       "<seaborn.axisgrid.FacetGrid at 0x7f25a4d22210>"
      ]
     },
     "execution_count": 32,
     "metadata": {},
     "output_type": "execute_result"
    },
    {
     "data": {
      "image/png": "[encoded data removed]",
      "text/plain": [
       "<Figure size 360x360 with 1 Axes>"
      ]
     },
     "metadata": {
      "needs_background": "light"
     },
     "output_type": "display_data"
    }
   ],
   "source": [
    "sns.displot(dF_recency.recency,bins=8,kde=False)"
   ]
  },
  {
   "cell_type": "markdown",
   "id": "6497c39c",
   "metadata": {
    "papermill": {
     "duration": 0.025017,
     "end_time": "2022-12-05T08:02:24.673476",
     "exception": false,
     "start_time": "2022-12-05T08:02:24.648459",
     "status": "completed"
    },
    "tags": []
   },
   "source": [
    "We can observe that around 5250 of our customer have purchased from us in the last three months."
   ]
  },
  {
   "cell_type": "code",
   "execution_count": 33,
   "id": "12e45d4c",
   "metadata": {
    "execution": {
     "iopub.execute_input": "2022-12-05T08:02:24.724985Z",
     "iopub.status.busy": "2022-12-05T08:02:24.724586Z",
     "iopub.status.idle": "2022-12-05T08:02:24.733641Z",
     "shell.execute_reply": "2022-12-05T08:02:24.732709Z"
    },
    "papermill": {
     "duration": 0.037398,
     "end_time": "2022-12-05T08:02:24.736003",
     "exception": false,
     "start_time": "2022-12-05T08:02:24.698605",
     "status": "completed"
    },
    "tags": []
   },
   "outputs": [],
   "source": [
    "dF_recency['R'],Intervals_Recency=pd.qcut(dF_recency[\"recency\"],q=3,labels=[3,2,1],retbins=True)"
   ]
  },
  {
   "cell_type": "code",
   "execution_count": 34,
   "id": "fab99c6f",
   "metadata": {
    "execution": {
     "iopub.execute_input": "2022-12-05T08:02:24.787430Z",
     "iopub.status.busy": "2022-12-05T08:02:24.787036Z",
     "iopub.status.idle": "2022-12-05T08:02:24.792917Z",
     "shell.execute_reply": "2022-12-05T08:02:24.791876Z"
    },
    "papermill": {
     "duration": 0.03448,
     "end_time": "2022-12-05T08:02:24.795482",
     "exception": false,
     "start_time": "2022-12-05T08:02:24.761002",
     "status": "completed"
    },
    "tags": []
   },
   "outputs": [
    {
     "name": "stdout",
     "output_type": "stream",
     "text": [
      "Interval Recency:[   0.   90.  242. 1003.]\n"
     ]
    }
   ],
   "source": [
    "print(\"Interval Recency:\"+f\"{Intervals_Recency}\")"
   ]
  },
  {
   "cell_type": "markdown",
   "id": "94a0d957",
   "metadata": {
    "papermill": {
     "duration": 0.024431,
     "end_time": "2022-12-05T08:02:24.845664",
     "exception": false,
     "start_time": "2022-12-05T08:02:24.821233",
     "status": "completed"
    },
    "tags": []
   },
   "source": [
    "Since here lesser frequency is good. Higher score will be assign when recency is less. If customer has recency in first interval of 0-90, he will get score of 3."
   ]
  },
  {
   "cell_type": "markdown",
   "id": "92bed5a8",
   "metadata": {
    "papermill": {
     "duration": 0.024784,
     "end_time": "2022-12-05T08:02:24.895968",
     "exception": false,
     "start_time": "2022-12-05T08:02:24.871184",
     "status": "completed"
    },
    "tags": []
   },
   "source": [
    "**Monetary**\n",
    "\n",
    "Monetary value represents total amount of all orders of a customer. Here more is better, so higher score will be assign to higher monetary value. "
   ]
  },
  {
   "cell_type": "code",
   "execution_count": 35,
   "id": "aacb8c91",
   "metadata": {
    "execution": {
     "iopub.execute_input": "2022-12-05T08:02:24.947723Z",
     "iopub.status.busy": "2022-12-05T08:02:24.946986Z",
     "iopub.status.idle": "2022-12-05T08:02:24.971406Z",
     "shell.execute_reply": "2022-12-05T08:02:24.970318Z"
    },
    "papermill": {
     "duration": 0.053027,
     "end_time": "2022-12-05T08:02:24.973713",
     "exception": false,
     "start_time": "2022-12-05T08:02:24.920686",
     "status": "completed"
    },
    "tags": []
   },
   "outputs": [
    {
     "data": {
      "text/plain": [
       "array([  24.25      , 1709.77668252, 2823.92335643, 9436.61008833])"
      ]
     },
     "execution_count": 35,
     "metadata": {},
     "output_type": "execute_result"
    }
   ],
   "source": [
    "dF_monetory=dF_clean[[\"Customer Id\",\"Order Item Total\"]].groupby(\"Customer Id\",as_index=False).sum()\n",
    "dF_monetory.columns=[\"Customer Id\",\"Sum_of_Sales\"]\n",
    "dF_monetory[\"M\"],Intervals_Monetory=pd.qcut(dF_monetory[\"Sum_of_Sales\"],q=3,labels=[1,2,3],retbins=True)\n",
    "Intervals_Monetory"
   ]
  },
  {
   "cell_type": "code",
   "execution_count": 36,
   "id": "f1d11c69",
   "metadata": {
    "execution": {
     "iopub.execute_input": "2022-12-05T08:02:25.025447Z",
     "iopub.status.busy": "2022-12-05T08:02:25.025036Z",
     "iopub.status.idle": "2022-12-05T08:02:25.512865Z",
     "shell.execute_reply": "2022-12-05T08:02:25.511456Z"
    },
    "papermill": {
     "duration": 0.516802,
     "end_time": "2022-12-05T08:02:25.515336",
     "exception": false,
     "start_time": "2022-12-05T08:02:24.998534",
     "status": "completed"
    },
    "tags": []
   },
   "outputs": [
    {
     "data": {
      "text/plain": [
       "<seaborn.axisgrid.FacetGrid at 0x7f25a288d6d0>"
      ]
     },
     "execution_count": 36,
     "metadata": {},
     "output_type": "execute_result"
    },
    {
     "data": {
      "image/png": "[encoded data removed]",
      "text/plain": [
       "<Figure size 360x360 with 1 Axes>"
      ]
     },
     "metadata": {
      "needs_background": "light"
     },
     "output_type": "display_data"
    }
   ],
   "source": [
    "sns.displot(dF_monetory.Sum_of_Sales,kde=True)"
   ]
  },
  {
   "cell_type": "markdown",
   "id": "d20a0e70",
   "metadata": {
    "papermill": {
     "duration": 0.025094,
     "end_time": "2022-12-05T08:02:25.565563",
     "exception": false,
     "start_time": "2022-12-05T08:02:25.540469",
     "status": "completed"
    },
    "tags": []
   },
   "source": [
    "We can see that Monetary value follows a normal distribution, also the average of all monetary value looks to be around 2300-2400. "
   ]
  },
  {
   "cell_type": "markdown",
   "id": "4c6a009d",
   "metadata": {
    "papermill": {
     "duration": 0.024963,
     "end_time": "2022-12-05T08:02:25.616160",
     "exception": false,
     "start_time": "2022-12-05T08:02:25.591197",
     "status": "completed"
    },
    "tags": []
   },
   "source": [
    "Now we will join all three values of recency, frequency, and monetary on Customer Id. We will find a combine score of RFM for each Customer Id. Then we will segment the customers based on that score."
   ]
  },
  {
   "cell_type": "code",
   "execution_count": 37,
   "id": "a38b498a",
   "metadata": {
    "execution": {
     "iopub.execute_input": "2022-12-05T08:02:25.669933Z",
     "iopub.status.busy": "2022-12-05T08:02:25.669147Z",
     "iopub.status.idle": "2022-12-05T08:02:25.699239Z",
     "shell.execute_reply": "2022-12-05T08:02:25.698249Z"
    },
    "papermill": {
     "duration": 0.060071,
     "end_time": "2022-12-05T08:02:25.702044",
     "exception": false,
     "start_time": "2022-12-05T08:02:25.641973",
     "status": "completed"
    },
    "tags": []
   },
   "outputs": [],
   "source": [
    "dF_rfm=pd.merge(dF_recency[[\"Customer Id\",\"R\"]],dF_monetory[[\"Customer Id\",\"M\"]],on=\"Customer Id\",how=\"inner\")\n",
    "dF_rfm=pd.merge(dF_rfm,dF_frequency[[\"Customer Id\",\"F\"]],on=\"Customer Id\",how=\"inner\")\n",
    "dF_rfm[\"RFM\"]=(dF_rfm[\"R\"]).astype(str)+(dF_rfm[\"F\"]).astype(str)+(dF_rfm[\"M\"]).astype(str)"
   ]
  },
  {
   "cell_type": "code",
   "execution_count": 38,
   "id": "1ef056c4",
   "metadata": {
    "execution": {
     "iopub.execute_input": "2022-12-05T08:02:25.755021Z",
     "iopub.status.busy": "2022-12-05T08:02:25.754619Z",
     "iopub.status.idle": "2022-12-05T08:02:25.772463Z",
     "shell.execute_reply": "2022-12-05T08:02:25.771231Z"
    },
    "papermill": {
     "duration": 0.046631,
     "end_time": "2022-12-05T08:02:25.774737",
     "exception": false,
     "start_time": "2022-12-05T08:02:25.728106",
     "status": "completed"
    },
    "tags": []
   },
   "outputs": [
    {
     "data": {
      "text/html": [
       "<div>\n",
       "<style scoped>\n",
       "    .dataframe tbody tr th:only-of-type {\n",
       "        vertical-align: middle;\n",
       "    }\n",
       "\n",
       "    .dataframe tbody tr th {\n",
       "        vertical-align: top;\n",
       "    }\n",
       "\n",
       "    .dataframe thead th {\n",
       "        text-align: right;\n",
       "    }\n",
       "</style>\n",
       "<table border=\"1\" class=\"dataframe\">\n",
       "  <thead>\n",
       "    <tr style=\"text-align: right;\">\n",
       "      <th></th>\n",
       "      <th>Customer Id</th>\n",
       "      <th>R</th>\n",
       "      <th>M</th>\n",
       "      <th>F</th>\n",
       "      <th>RFM</th>\n",
       "    </tr>\n",
       "  </thead>\n",
       "  <tbody>\n",
       "    <tr>\n",
       "      <th>0</th>\n",
       "      <td>1</td>\n",
       "      <td>1</td>\n",
       "      <td>1</td>\n",
       "      <td>1</td>\n",
       "      <td>111</td>\n",
       "    </tr>\n",
       "    <tr>\n",
       "      <th>1</th>\n",
       "      <td>2</td>\n",
       "      <td>3</td>\n",
       "      <td>1</td>\n",
       "      <td>2</td>\n",
       "      <td>321</td>\n",
       "    </tr>\n",
       "    <tr>\n",
       "      <th>2</th>\n",
       "      <td>3</td>\n",
       "      <td>2</td>\n",
       "      <td>3</td>\n",
       "      <td>2</td>\n",
       "      <td>223</td>\n",
       "    </tr>\n",
       "    <tr>\n",
       "      <th>3</th>\n",
       "      <td>4</td>\n",
       "      <td>1</td>\n",
       "      <td>1</td>\n",
       "      <td>2</td>\n",
       "      <td>121</td>\n",
       "    </tr>\n",
       "    <tr>\n",
       "      <th>4</th>\n",
       "      <td>5</td>\n",
       "      <td>1</td>\n",
       "      <td>1</td>\n",
       "      <td>1</td>\n",
       "      <td>111</td>\n",
       "    </tr>\n",
       "    <tr>\n",
       "      <th>...</th>\n",
       "      <td>...</td>\n",
       "      <td>...</td>\n",
       "      <td>...</td>\n",
       "      <td>...</td>\n",
       "      <td>...</td>\n",
       "    </tr>\n",
       "    <tr>\n",
       "      <th>12292</th>\n",
       "      <td>12431</td>\n",
       "      <td>3</td>\n",
       "      <td>3</td>\n",
       "      <td>3</td>\n",
       "      <td>333</td>\n",
       "    </tr>\n",
       "    <tr>\n",
       "      <th>12293</th>\n",
       "      <td>12432</td>\n",
       "      <td>2</td>\n",
       "      <td>3</td>\n",
       "      <td>3</td>\n",
       "      <td>233</td>\n",
       "    </tr>\n",
       "    <tr>\n",
       "      <th>12294</th>\n",
       "      <td>12433</td>\n",
       "      <td>3</td>\n",
       "      <td>1</td>\n",
       "      <td>1</td>\n",
       "      <td>311</td>\n",
       "    </tr>\n",
       "    <tr>\n",
       "      <th>12295</th>\n",
       "      <td>12434</td>\n",
       "      <td>2</td>\n",
       "      <td>3</td>\n",
       "      <td>3</td>\n",
       "      <td>233</td>\n",
       "    </tr>\n",
       "    <tr>\n",
       "      <th>12296</th>\n",
       "      <td>12435</td>\n",
       "      <td>1</td>\n",
       "      <td>1</td>\n",
       "      <td>1</td>\n",
       "      <td>111</td>\n",
       "    </tr>\n",
       "  </tbody>\n",
       "</table>\n",
       "<p>12297 rows × 5 columns</p>\n",
       "</div>"
      ],
      "text/plain": [
       "       Customer Id  R  M  F  RFM\n",
       "0                1  1  1  1  111\n",
       "1                2  3  1  2  321\n",
       "2                3  2  3  2  223\n",
       "3                4  1  1  2  121\n",
       "4                5  1  1  1  111\n",
       "...            ... .. .. ..  ...\n",
       "12292        12431  3  3  3  333\n",
       "12293        12432  2  3  3  233\n",
       "12294        12433  3  1  1  311\n",
       "12295        12434  2  3  3  233\n",
       "12296        12435  1  1  1  111\n",
       "\n",
       "[12297 rows x 5 columns]"
      ]
     },
     "execution_count": 38,
     "metadata": {},
     "output_type": "execute_result"
    }
   ],
   "source": [
    "dF_rfm"
   ]
  },
  {
   "cell_type": "code",
   "execution_count": 39,
   "id": "918d307d",
   "metadata": {
    "execution": {
     "iopub.execute_input": "2022-12-05T08:02:25.829221Z",
     "iopub.status.busy": "2022-12-05T08:02:25.828584Z",
     "iopub.status.idle": "2022-12-05T08:02:25.863473Z",
     "shell.execute_reply": "2022-12-05T08:02:25.862186Z"
    },
    "papermill": {
     "duration": 0.065291,
     "end_time": "2022-12-05T08:02:25.866038",
     "exception": false,
     "start_time": "2022-12-05T08:02:25.800747",
     "status": "completed"
    },
    "tags": []
   },
   "outputs": [
    {
     "data": {
      "text/html": [
       "<div>\n",
       "<style scoped>\n",
       "    .dataframe tbody tr th:only-of-type {\n",
       "        vertical-align: middle;\n",
       "    }\n",
       "\n",
       "    .dataframe tbody tr th {\n",
       "        vertical-align: top;\n",
       "    }\n",
       "\n",
       "    .dataframe thead th {\n",
       "        text-align: right;\n",
       "    }\n",
       "</style>\n",
       "<table border=\"1\" class=\"dataframe\">\n",
       "  <thead>\n",
       "    <tr style=\"text-align: right;\">\n",
       "      <th></th>\n",
       "      <th>Recency</th>\n",
       "      <th>Frequency</th>\n",
       "      <th>Monetary</th>\n",
       "      <th>Customer Segment</th>\n",
       "      <th>Strategy</th>\n",
       "    </tr>\n",
       "  </thead>\n",
       "  <tbody>\n",
       "    <tr>\n",
       "      <th>0</th>\n",
       "      <td>3</td>\n",
       "      <td>3</td>\n",
       "      <td>1-2</td>\n",
       "      <td>Loyal Customers</td>\n",
       "      <td>They visit our store frequently and look to buy things at the best price. They want Quantity and Quality. Offer them Discounts and Promotional offers to retain them</td>\n",
       "    </tr>\n",
       "    <tr>\n",
       "      <th>1</th>\n",
       "      <td>3</td>\n",
       "      <td>3-2</td>\n",
       "      <td>3</td>\n",
       "      <td>Big Spenders</td>\n",
       "      <td>Customers in this segment will buy quality products even if they are expensive. The brand value and exclusiveness of the products matters for them. Send them promotional messages of exclusive products or when new stock arrives at the store. They visit our store often and are big spenders.</td>\n",
       "    </tr>\n",
       "    <tr>\n",
       "      <th>2</th>\n",
       "      <td>3</td>\n",
       "      <td>1</td>\n",
       "      <td>1-2-3</td>\n",
       "      <td>New Customers</td>\n",
       "      <td>They are new customers who have recently visited our stores. Provide them the best service. Try to retain them by offering discounts on their next visit, taking their satisfaction surveys and providing good after sales service.</td>\n",
       "    </tr>\n",
       "    <tr>\n",
       "      <th>3</th>\n",
       "      <td>3</td>\n",
       "      <td>2</td>\n",
       "      <td>1-2</td>\n",
       "      <td>Bargain Customers</td>\n",
       "      <td>They visit our store less frequently than the loyal customers. They are looking for quantity, often checking prices and benefits at different stores before making a purchase. They are most difficult customers to retain. Send them promotional messages of products where we have advantage of economics of scale.</td>\n",
       "    </tr>\n",
       "    <tr>\n",
       "      <th>4</th>\n",
       "      <td>1</td>\n",
       "      <td>1-2-3</td>\n",
       "      <td>3</td>\n",
       "      <td>Lost Customers-Big Spenders</td>\n",
       "      <td>They were big spenders at our store once. Now it has been some time they have consumed our services. Ask them about the reason for shift in behaviour. Improve our products/ Services in the areas they were dis-satisfied.</td>\n",
       "    </tr>\n",
       "    <tr>\n",
       "      <th>5</th>\n",
       "      <td>1</td>\n",
       "      <td>1-2</td>\n",
       "      <td>1-2</td>\n",
       "      <td>Lost Customers - Bargain</td>\n",
       "      <td>They were bargain customers at our store once.It has been some time they have visited our store. Ask them about their needs and see if we can offer the same products at competitive prices.</td>\n",
       "    </tr>\n",
       "    <tr>\n",
       "      <th>6</th>\n",
       "      <td>1-2</td>\n",
       "      <td>3</td>\n",
       "      <td>1-2</td>\n",
       "      <td>Lost/Almost Lost Customers Loyal</td>\n",
       "      <td>They were loyal customers at our store once. Strategy should be same as one for Lost Customers Big Spenders. Ask them for reasons for not visiting our store and improve in areas where we could.</td>\n",
       "    </tr>\n",
       "    <tr>\n",
       "      <th>7</th>\n",
       "      <td>2</td>\n",
       "      <td>2</td>\n",
       "      <td>1-2</td>\n",
       "      <td>Occasional Customers - Bargain</td>\n",
       "      <td>They purchase from us occasionally, less frequently than loyal customers. They are looking for best value and when they find it at our store , they purchase from us. We can dive into the specifics of the purchases individually for each customer, and try to offer them similar deals on their next purchase to retain them.</td>\n",
       "    </tr>\n",
       "    <tr>\n",
       "      <th>8</th>\n",
       "      <td>2</td>\n",
       "      <td>2-3</td>\n",
       "      <td>3</td>\n",
       "      <td>Occasional Customers -Big Spenders</td>\n",
       "      <td>They purchase from us occasionally, less frequently than loyal customers. They are looking for quality and exclusivity and when they find it at our store , they purchase from us. We can dive into the specifics of the purchases individually for each customer, and try to offer them similar deals on their next purchase to retain them.</td>\n",
       "    </tr>\n",
       "    <tr>\n",
       "      <th>9</th>\n",
       "      <td>2</td>\n",
       "      <td>1</td>\n",
       "      <td>1-2-3</td>\n",
       "      <td>Unsatisfied Customers</td>\n",
       "      <td>They have purchased from us some time back as we were having the products they want, but their low frequency indicates that they were not happy with the experience at the stores. We can also call them reluctant buyers. Our aim should be to convert them to Loyal customers or big spenders.</td>\n",
       "    </tr>\n",
       "  </tbody>\n",
       "</table>\n",
       "</div>"
      ],
      "text/plain": [
       "  Recency Frequency Monetary                    Customer Segment  \\\n",
       "0       3         3      1-2                     Loyal Customers   \n",
       "1       3       3-2        3                        Big Spenders   \n",
       "2       3         1    1-2-3                       New Customers   \n",
       "3       3         2      1-2                   Bargain Customers   \n",
       "4       1     1-2-3        3         Lost Customers-Big Spenders   \n",
       "5       1       1-2      1-2            Lost Customers - Bargain   \n",
       "6     1-2         3      1-2    Lost/Almost Lost Customers Loyal   \n",
       "7       2         2      1-2      Occasional Customers - Bargain   \n",
       "8       2       2-3        3  Occasional Customers -Big Spenders   \n",
       "9       2         1    1-2-3               Unsatisfied Customers   \n",
       "\n",
       "                                                                                                                                                                                                                                                                                                                                        Strategy  \n",
       "0                                                                                                                                                                           They visit our store frequently and look to buy things at the best price. They want Quantity and Quality. Offer them Discounts and Promotional offers to retain them  \n",
       "1                                              Customers in this segment will buy quality products even if they are expensive. The brand value and exclusiveness of the products matters for them. Send them promotional messages of exclusive products or when new stock arrives at the store. They visit our store often and are big spenders.  \n",
       "2                                                                                                            They are new customers who have recently visited our stores. Provide them the best service. Try to retain them by offering discounts on their next visit, taking their satisfaction surveys and providing good after sales service.  \n",
       "3                          They visit our store less frequently than the loyal customers. They are looking for quantity, often checking prices and benefits at different stores before making a purchase. They are most difficult customers to retain. Send them promotional messages of products where we have advantage of economics of scale.  \n",
       "4                                                                                                                    They were big spenders at our store once. Now it has been some time they have consumed our services. Ask them about the reason for shift in behaviour. Improve our products/ Services in the areas they were dis-satisfied.  \n",
       "5                                                                                                                                                   They were bargain customers at our store once.It has been some time they have visited our store. Ask them about their needs and see if we can offer the same products at competitive prices.  \n",
       "6                                                                                                                                              They were loyal customers at our store once. Strategy should be same as one for Lost Customers Big Spenders. Ask them for reasons for not visiting our store and improve in areas where we could.  \n",
       "7               They purchase from us occasionally, less frequently than loyal customers. They are looking for best value and when they find it at our store , they purchase from us. We can dive into the specifics of the purchases individually for each customer, and try to offer them similar deals on their next purchase to retain them.  \n",
       "8  They purchase from us occasionally, less frequently than loyal customers. They are looking for quality and exclusivity and when they find it at our store , they purchase from us. We can dive into the specifics of the purchases individually for each customer, and try to offer them similar deals on their next purchase to retain them.  \n",
       "9                                               They have purchased from us some time back as we were having the products they want, but their low frequency indicates that they were not happy with the experience at the stores. We can also call them reluctant buyers. Our aim should be to convert them to Loyal customers or big spenders.  "
      ]
     },
     "execution_count": 39,
     "metadata": {},
     "output_type": "execute_result"
    }
   ],
   "source": [
    "pd.set_option('display.max_colwidth', None)\n",
    "Segment_Strategy=pd.read_excel(\"../input/rfm-segmentation-strategy/Segments_Strategy.xlsx\")\n",
    "Segment_Strategy"
   ]
  },
  {
   "cell_type": "code",
   "execution_count": 40,
   "id": "7b4547b1",
   "metadata": {
    "execution": {
     "iopub.execute_input": "2022-12-05T08:02:25.919222Z",
     "iopub.status.busy": "2022-12-05T08:02:25.918796Z",
     "iopub.status.idle": "2022-12-05T08:02:25.932045Z",
     "shell.execute_reply": "2022-12-05T08:02:25.930645Z"
    },
    "papermill": {
     "duration": 0.042245,
     "end_time": "2022-12-05T08:02:25.934257",
     "exception": false,
     "start_time": "2022-12-05T08:02:25.892012",
     "status": "completed"
    },
    "tags": []
   },
   "outputs": [],
   "source": [
    "def Customer_Segment(data):\n",
    "    if data[\"R\"]==1 and data[\"F\"] in [1,2,3] and (data[\"M\"]==3):\n",
    "        return \"Lost Customers - Big Spenders\"\n",
    "    elif data[\"R\"]== 1 and data[\"F\"] in [1,2] and data[\"M\"] in [1,2]:\n",
    "        return \"Lost Customers - Bargain\"\n",
    "    elif data[\"R\"] in [1,2] and data[\"F\"]==3 and data[\"M\"] in [1,2]:\n",
    "        return \"Lost/Almost Lost Customers - Loyal\"\n",
    "    elif (data[\"R\"]==3) and (data[\"F\"]==3) and data[\"M\"] in [1,2]:\n",
    "        return \"Loyal Customers\"\n",
    "    elif (data[\"R\"]==3) and data[\"F\"] in [3,2] and data[\"M\"]==3:\n",
    "        return \"Big Spenders\"\n",
    "    elif (data[\"R\"]==3) and (data[\"F\"]==1) and data[\"M\"] in [1,2,3]:\n",
    "        return \"New Customers\"\n",
    "    elif (data[\"R\"]==3) and (data[\"F\"]==2) and data[\"M\"] in [1,2]:\n",
    "        return \"Bargain Customers\"\n",
    "    elif (data[\"R\"]==2) and data[\"F\"]==2 and data[\"M\"] in [1,2]:\n",
    "        return \"Occasional Customers-Bargain\"\n",
    "    elif (data[\"R\"]==2) and data[\"F\"] in [2,3] and data[\"M\"]==3:\n",
    "        return \"Occasional Customers- Big Spenders\"\n",
    "    elif (data[\"R\"]==2) and data[\"F\"]==1 and data [\"M\"] in [1,2,3]:\n",
    "        return \"Unsatisfied Customers\"\n",
    "    else:\n",
    "        return \"No Segment\"\n",
    "    "
   ]
  },
  {
   "cell_type": "code",
   "execution_count": 41,
   "id": "b7e6e2df",
   "metadata": {
    "execution": {
     "iopub.execute_input": "2022-12-05T08:02:25.989451Z",
     "iopub.status.busy": "2022-12-05T08:02:25.989053Z",
     "iopub.status.idle": "2022-12-05T08:02:26.562678Z",
     "shell.execute_reply": "2022-12-05T08:02:26.561500Z"
    },
    "papermill": {
     "duration": 0.603987,
     "end_time": "2022-12-05T08:02:26.565241",
     "exception": false,
     "start_time": "2022-12-05T08:02:25.961254",
     "status": "completed"
    },
    "tags": []
   },
   "outputs": [],
   "source": [
    "dF_rfm[\"R\"]=dF_rfm[\"R\"].astype(\"category\")\n",
    "dF_rfm[\"F\"]=dF_rfm[\"F\"].astype(\"category\")\n",
    "dF_rfm[\"M\"]=dF_rfm[\"M\"].astype(\"category\")\n",
    "dF_rfm[\"Segment\"]=dF_rfm.apply(Customer_Segment,axis=1)"
   ]
  },
  {
   "cell_type": "code",
   "execution_count": 42,
   "id": "e9ecd502",
   "metadata": {
    "execution": {
     "iopub.execute_input": "2022-12-05T08:02:26.620363Z",
     "iopub.status.busy": "2022-12-05T08:02:26.619401Z",
     "iopub.status.idle": "2022-12-05T08:02:26.633643Z",
     "shell.execute_reply": "2022-12-05T08:02:26.632535Z"
    },
    "papermill": {
     "duration": 0.044805,
     "end_time": "2022-12-05T08:02:26.636230",
     "exception": false,
     "start_time": "2022-12-05T08:02:26.591425",
     "status": "completed"
    },
    "tags": []
   },
   "outputs": [],
   "source": [
    "Segment_count=(dF_rfm.groupby(\"Segment\",as_index=False).agg(Total_Count=(\"Customer Id\",\"count\"))).sort_values(by=\"Total_Count\",ascending=False)"
   ]
  },
  {
   "cell_type": "code",
   "execution_count": 43,
   "id": "46f4c138",
   "metadata": {
    "_kg_hide-input": true,
    "execution": {
     "iopub.execute_input": "2022-12-05T08:02:26.690615Z",
     "iopub.status.busy": "2022-12-05T08:02:26.690013Z",
     "iopub.status.idle": "2022-12-05T08:02:26.811190Z",
     "shell.execute_reply": "2022-12-05T08:02:26.810168Z"
    },
    "papermill": {
     "duration": 0.151285,
     "end_time": "2022-12-05T08:02:26.813646",
     "exception": false,
     "start_time": "2022-12-05T08:02:26.662361",
     "status": "completed"
    },
    "tags": []
   },
   "outputs": [
    {
     "data": {
      "text/html": [
       "        <script type=\"text/javascript\">\n",
       "        window.PlotlyConfig = {MathJaxConfig: 'local'};\n",
       "        if (window.MathJax && window.MathJax.Hub && window.MathJax.Hub.Config) {window.MathJax.Hub.Config({SVG: {font: \"STIX-Web\"}});}\n",
       "        if (typeof require !== 'undefined') {\n",
       "        require.undef(\"plotly\");\n",
       "        requirejs.config({\n",
       "            paths: {\n",
       "                'plotly': ['https://cdn.plot.ly/plotly-2.14.0.min']\n",
       "            }\n",
       "        });\n",
       "        require(['plotly'], function(Plotly) {\n",
       "            window._Plotly = Plotly;\n",
       "        });\n",
       "        }\n",
       "        </script>\n",
       "        "
      ]
     },
     "metadata": {},
     "output_type": "display_data"
    },
    {
     "data": {
      "text/html": [
       "<div>                            <div id=\"0ed052fc-90c9-4b01-bb1d-a39a2b8280d6\" class=\"plotly-graph-div\" style=\"height:525px; width:800px;\"></div>            <script type=\"text/javascript\">                require([\"plotly\"], function(Plotly) {                    window.PLOTLYENV=window.PLOTLYENV || {};                                    if (document.getElementById(\"0ed052fc-90c9-4b01-bb1d-a39a2b8280d6\")) {                    Plotly.newPlot(                        \"0ed052fc-90c9-4b01-bb1d-a39a2b8280d6\",                        [{\"hovertemplate\":\"%{label}<br>Number of Customers:%{value}\",\"texttemplate\":\"%{value}\",\"x\":[\"Lost Customers - Bargain\",\"Big Spenders\",\"Occasional Customers- Big Spenders\",\"Occasional Customers-Bargain\",\"Unsatisfied Customers\",\"Bargain Customers\",\"New Customers\",\"Lost Customers - Big Spenders\",\"Lost/Almost Lost Customers - Loyal\",\"Loyal Customers\"],\"y\":[3243,1866,1484,1230,1153,1116,825,726,345,309],\"type\":\"bar\"}],                        {\"template\":{\"data\":{\"histogram2dcontour\":[{\"type\":\"histogram2dcontour\",\"colorbar\":{\"outlinewidth\":0,\"ticks\":\"\"},\"colorscale\":[[0.0,\"#0d0887\"],[0.1111111111111111,\"#46039f\"],[0.2222222222222222,\"#7201a8\"],[0.3333333333333333,\"#9c179e\"],[0.4444444444444444,\"#bd3786\"],[0.5555555555555556,\"#d8576b\"],[0.6666666666666666,\"#ed7953\"],[0.7777777777777778,\"#fb9f3a\"],[0.8888888888888888,\"#fdca26\"],[1.0,\"#f0f921\"]]}],\"choropleth\":[{\"type\":\"choropleth\",\"colorbar\":{\"outlinewidth\":0,\"ticks\":\"\"}}],\"histogram2d\":[{\"type\":\"histogram2d\",\"colorbar\":{\"outlinewidth\":0,\"ticks\":\"\"},\"colorscale\":[[0.0,\"#0d0887\"],[0.1111111111111111,\"#46039f\"],[0.2222222222222222,\"#7201a8\"],[0.3333333333333333,\"#9c179e\"],[0.4444444444444444,\"#bd3786\"],[0.5555555555555556,\"#d8576b\"],[0.6666666666666666,\"#ed7953\"],[0.7777777777777778,\"#fb9f3a\"],[0.8888888888888888,\"#fdca26\"],[1.0,\"#f0f921\"]]}],\"heatmap\":[{\"type\":\"heatmap\",\"colorbar\":{\"outlinewidth\":0,\"ticks\":\"\"},\"colorscale\":[[0.0,\"#0d0887\"],[0.1111111111111111,\"#46039f\"],[0.2222222222222222,\"#7201a8\"],[0.3333333333333333,\"#9c179e\"],[0.4444444444444444,\"#bd3786\"],[0.5555555555555556,\"#d8576b\"],[0.6666666666666666,\"#ed7953\"],[0.7777777777777778,\"#fb9f3a\"],[0.8888888888888888,\"#fdca26\"],[1.0,\"#f0f921\"]]}],\"heatmapgl\":[{\"type\":\"heatmapgl\",\"colorbar\":{\"outlinewidth\":0,\"ticks\":\"\"},\"colorscale\":[[0.0,\"#0d0887\"],[0.1111111111111111,\"#46039f\"],[0.2222222222222222,\"#7201a8\"],[0.3333333333333333,\"#9c179e\"],[0.4444444444444444,\"#bd3786\"],[0.5555555555555556,\"#d8576b\"],[0.6666666666666666,\"#ed7953\"],[0.7777777777777778,\"#fb9f3a\"],[0.8888888888888888,\"#fdca26\"],[1.0,\"#f0f921\"]]}],\"contourcarpet\":[{\"type\":\"contourcarpet\",\"colorbar\":{\"outlinewidth\":0,\"ticks\":\"\"}}],\"contour\":[{\"type\":\"contour\",\"colorbar\":{\"outlinewidth\":0,\"ticks\":\"\"},\"colorscale\":[[0.0,\"#0d0887\"],[0.1111111111111111,\"#46039f\"],[0.2222222222222222,\"#7201a8\"],[0.3333333333333333,\"#9c179e\"],[0.4444444444444444,\"#bd3786\"],[0.5555555555555556,\"#d8576b\"],[0.6666666666666666,\"#ed7953\"],[0.7777777777777778,\"#fb9f3a\"],[0.8888888888888888,\"#fdca26\"],[1.0,\"#f0f921\"]]}],\"surface\":[{\"type\":\"surface\",\"colorbar\":{\"outlinewidth\":0,\"ticks\":\"\"},\"colorscale\":[[0.0,\"#0d0887\"],[0.1111111111111111,\"#46039f\"],[0.2222222222222222,\"#7201a8\"],[0.3333333333333333,\"#9c179e\"],[0.4444444444444444,\"#bd3786\"],[0.5555555555555556,\"#d8576b\"],[0.6666666666666666,\"#ed7953\"],[0.7777777777777778,\"#fb9f3a\"],[0.8888888888888888,\"#fdca26\"],[1.0,\"#f0f921\"]]}],\"mesh3d\":[{\"type\":\"mesh3d\",\"colorbar\":{\"outlinewidth\":0,\"ticks\":\"\"}}],\"scatter\":[{\"fillpattern\":{\"fillmode\":\"overlay\",\"size\":10,\"solidity\":0.2},\"type\":\"scatter\"}],\"parcoords\":[{\"type\":\"parcoords\",\"line\":{\"colorbar\":{\"outlinewidth\":0,\"ticks\":\"\"}}}],\"scatterpolargl\":[{\"type\":\"scatterpolargl\",\"marker\":{\"colorbar\":{\"outlinewidth\":0,\"ticks\":\"\"}}}],\"bar\":[{\"error_x\":{\"color\":\"#2a3f5f\"},\"error_y\":{\"color\":\"#2a3f5f\"},\"marker\":{\"line\":{\"color\":\"#E5ECF6\",\"width\":0.5},\"pattern\":{\"fillmode\":\"overlay\",\"size\":10,\"solidity\":0.2}},\"type\":\"bar\"}],\"scattergeo\":[{\"type\":\"scattergeo\",\"marker\":{\"colorbar\":{\"outlinewidth\":0,\"ticks\":\"\"}}}],\"scatterpolar\":[{\"type\":\"scatterpolar\",\"marker\":{\"colorbar\":{\"outlinewidth\":0,\"ticks\":\"\"}}}],\"histogram\":[{\"marker\":{\"pattern\":{\"fillmode\":\"overlay\",\"size\":10,\"solidity\":0.2}},\"type\":\"histogram\"}],\"scattergl\":[{\"type\":\"scattergl\",\"marker\":{\"colorbar\":{\"outlinewidth\":0,\"ticks\":\"\"}}}],\"scatter3d\":[{\"type\":\"scatter3d\",\"line\":{\"colorbar\":{\"outlinewidth\":0,\"ticks\":\"\"}},\"marker\":{\"colorbar\":{\"outlinewidth\":0,\"ticks\":\"\"}}}],\"scattermapbox\":[{\"type\":\"scattermapbox\",\"marker\":{\"colorbar\":{\"outlinewidth\":0,\"ticks\":\"\"}}}],\"scatterternary\":[{\"type\":\"scatterternary\",\"marker\":{\"colorbar\":{\"outlinewidth\":0,\"ticks\":\"\"}}}],\"scattercarpet\":[{\"type\":\"scattercarpet\",\"marker\":{\"colorbar\":{\"outlinewidth\":0,\"ticks\":\"\"}}}],\"carpet\":[{\"aaxis\":{\"endlinecolor\":\"#2a3f5f\",\"gridcolor\":\"white\",\"linecolor\":\"white\",\"minorgridcolor\":\"white\",\"startlinecolor\":\"#2a3f5f\"},\"baxis\":{\"endlinecolor\":\"#2a3f5f\",\"gridcolor\":\"white\",\"linecolor\":\"white\",\"minorgridcolor\":\"white\",\"startlinecolor\":\"#2a3f5f\"},\"type\":\"carpet\"}],\"table\":[{\"cells\":{\"fill\":{\"color\":\"#EBF0F8\"},\"line\":{\"color\":\"white\"}},\"header\":{\"fill\":{\"color\":\"#C8D4E3\"},\"line\":{\"color\":\"white\"}},\"type\":\"table\"}],\"barpolar\":[{\"marker\":{\"line\":{\"color\":\"#E5ECF6\",\"width\":0.5},\"pattern\":{\"fillmode\":\"overlay\",\"size\":10,\"solidity\":0.2}},\"type\":\"barpolar\"}],\"pie\":[{\"automargin\":true,\"type\":\"pie\"}]},\"layout\":{\"autotypenumbers\":\"strict\",\"colorway\":[\"#636efa\",\"#EF553B\",\"#00cc96\",\"#ab63fa\",\"#FFA15A\",\"#19d3f3\",\"#FF6692\",\"#B6E880\",\"#FF97FF\",\"#FECB52\"],\"font\":{\"color\":\"#2a3f5f\"},\"hovermode\":\"closest\",\"hoverlabel\":{\"align\":\"left\"},\"paper_bgcolor\":\"white\",\"plot_bgcolor\":\"#E5ECF6\",\"polar\":{\"bgcolor\":\"#E5ECF6\",\"angularaxis\":{\"gridcolor\":\"white\",\"linecolor\":\"white\",\"ticks\":\"\"},\"radialaxis\":{\"gridcolor\":\"white\",\"linecolor\":\"white\",\"ticks\":\"\"}},\"ternary\":{\"bgcolor\":\"#E5ECF6\",\"aaxis\":{\"gridcolor\":\"white\",\"linecolor\":\"white\",\"ticks\":\"\"},\"baxis\":{\"gridcolor\":\"white\",\"linecolor\":\"white\",\"ticks\":\"\"},\"caxis\":{\"gridcolor\":\"white\",\"linecolor\":\"white\",\"ticks\":\"\"}},\"coloraxis\":{\"colorbar\":{\"outlinewidth\":0,\"ticks\":\"\"}},\"colorscale\":{\"sequential\":[[0.0,\"#0d0887\"],[0.1111111111111111,\"#46039f\"],[0.2222222222222222,\"#7201a8\"],[0.3333333333333333,\"#9c179e\"],[0.4444444444444444,\"#bd3786\"],[0.5555555555555556,\"#d8576b\"],[0.6666666666666666,\"#ed7953\"],[0.7777777777777778,\"#fb9f3a\"],[0.8888888888888888,\"#fdca26\"],[1.0,\"#f0f921\"]],\"sequentialminus\":[[0.0,\"#0d0887\"],[0.1111111111111111,\"#46039f\"],[0.2222222222222222,\"#7201a8\"],[0.3333333333333333,\"#9c179e\"],[0.4444444444444444,\"#bd3786\"],[0.5555555555555556,\"#d8576b\"],[0.6666666666666666,\"#ed7953\"],[0.7777777777777778,\"#fb9f3a\"],[0.8888888888888888,\"#fdca26\"],[1.0,\"#f0f921\"]],\"diverging\":[[0,\"#8e0152\"],[0.1,\"#c51b7d\"],[0.2,\"#de77ae\"],[0.3,\"#f1b6da\"],[0.4,\"#fde0ef\"],[0.5,\"#f7f7f7\"],[0.6,\"#e6f5d0\"],[0.7,\"#b8e186\"],[0.8,\"#7fbc41\"],[0.9,\"#4d9221\"],[1,\"#276419\"]]},\"xaxis\":{\"gridcolor\":\"white\",\"linecolor\":\"white\",\"ticks\":\"\",\"title\":{\"standoff\":15},\"zerolinecolor\":\"white\",\"automargin\":true,\"zerolinewidth\":2},\"yaxis\":{\"gridcolor\":\"white\",\"linecolor\":\"white\",\"ticks\":\"\",\"title\":{\"standoff\":15},\"zerolinecolor\":\"white\",\"automargin\":true,\"zerolinewidth\":2},\"scene\":{\"xaxis\":{\"backgroundcolor\":\"#E5ECF6\",\"gridcolor\":\"white\",\"linecolor\":\"white\",\"showbackground\":true,\"ticks\":\"\",\"zerolinecolor\":\"white\",\"gridwidth\":2},\"yaxis\":{\"backgroundcolor\":\"#E5ECF6\",\"gridcolor\":\"white\",\"linecolor\":\"white\",\"showbackground\":true,\"ticks\":\"\",\"zerolinecolor\":\"white\",\"gridwidth\":2},\"zaxis\":{\"backgroundcolor\":\"#E5ECF6\",\"gridcolor\":\"white\",\"linecolor\":\"white\",\"showbackground\":true,\"ticks\":\"\",\"zerolinecolor\":\"white\",\"gridwidth\":2}},\"shapedefaults\":{\"line\":{\"color\":\"#2a3f5f\"}},\"annotationdefaults\":{\"arrowcolor\":\"#2a3f5f\",\"arrowhead\":0,\"arrowwidth\":1},\"geo\":{\"bgcolor\":\"white\",\"landcolor\":\"#E5ECF6\",\"subunitcolor\":\"white\",\"showland\":true,\"showlakes\":true,\"lakecolor\":\"white\"},\"title\":{\"x\":0.05},\"mapbox\":{\"style\":\"light\"}}},\"title\":{\"text\":\"Number of Customer in Each Segment\"},\"xaxis\":{\"title\":{\"text\":\"Customer Segment\"}},\"yaxis\":{\"title\":{\"text\":\"Number Of Customers\"}},\"width\":800},                        {\"responsive\": true}                    ).then(function(){\n",
       "                            \n",
       "var gd = document.getElementById('0ed052fc-90c9-4b01-bb1d-a39a2b8280d6');\n",
       "var x = new MutationObserver(function (mutations, observer) {{\n",
       "        var display = window.getComputedStyle(gd).display;\n",
       "        if (!display || display === 'none') {{\n",
       "            console.log([gd, 'removed!']);\n",
       "            Plotly.purge(gd);\n",
       "            observer.disconnect();\n",
       "        }}\n",
       "}});\n",
       "\n",
       "// Listen for the removal of the full notebook cells\n",
       "var notebookContainer = gd.closest('#notebook-container');\n",
       "if (notebookContainer) {{\n",
       "    x.observe(notebookContainer, {childList: true});\n",
       "}}\n",
       "\n",
       "// Listen for the clearing of the current output cell\n",
       "var outputEl = gd.closest('.output');\n",
       "if (outputEl) {{\n",
       "    x.observe(outputEl, {childList: true});\n",
       "}}\n",
       "\n",
       "                        })                };                });            </script>        </div>"
      ]
     },
     "metadata": {},
     "output_type": "display_data"
    }
   ],
   "source": [
    "fig2=go.Figure()\n",
    "fig2.add_trace(go.Bar(x=Segment_count.Segment,\n",
    "                      y=Segment_count.Total_Count,\n",
    "                     hovertemplate =\"%{label}<br>Number of Customers:%{value}\",\n",
    "                     texttemplate = \"%{value}\"))\n",
    "fig2.update_layout(title=\"Number of Customer in Each Segment\",\n",
    "                    xaxis=dict(title=\"Customer Segment\"),\n",
    "                  yaxis=dict(title=\"Number Of Customers\"),width=800)"
   ]
  },
  {
   "cell_type": "code",
   "execution_count": 44,
   "id": "8a3b4d1d",
   "metadata": {
    "_kg_hide-input": true,
    "execution": {
     "iopub.execute_input": "2022-12-05T08:02:26.871589Z",
     "iopub.status.busy": "2022-12-05T08:02:26.871203Z",
     "iopub.status.idle": "2022-12-05T08:02:27.768252Z",
     "shell.execute_reply": "2022-12-05T08:02:27.767136Z"
    },
    "papermill": {
     "duration": 0.92955,
     "end_time": "2022-12-05T08:02:27.770787",
     "exception": false,
     "start_time": "2022-12-05T08:02:26.841237",
     "status": "completed"
    },
    "tags": []
   },
   "outputs": [
    {
     "data": {
      "text/html": [
       "<div>                            <div id=\"6c029e47-5a9a-447f-b5fa-1b42cd809c0d\" class=\"plotly-graph-div\" style=\"height:525px; width:100%;\"></div>            <script type=\"text/javascript\">                require([\"plotly\"], function(Plotly) {                    window.PLOTLYENV=window.PLOTLYENV || {};                                    if (document.getElementById(\"6c029e47-5a9a-447f-b5fa-1b42cd809c0d\")) {                    Plotly.newPlot(                        \"6c029e47-5a9a-447f-b5fa-1b42cd809c0d\",                        [{\"hovertemplate\":\"%{label}<br>Revenue:%{value}\",\"texttemplate\":\"%{value}\",\"x\":[\"Big Spenders\",\"Occasional Customers- Big Spenders\",\"Lost Customers - Bargain\",\"Lost Customers - Big Spenders\",\"Occasional Customers-Bargain\",\"Bargain Customers\",\"Unsatisfied Customers\",\"New Customers\",\"Lost/Almost Lost Customers - Loyal\",\"Loyal Customers\"],\"y\":[7402931.321328271,5725945.647623752,4612873.419707379,2637226.15178585,2539983.445966621,2329048.713573216,1557068.96786569,1166005.732457231,823056.387242406,734993.936904925],\"type\":\"bar\"}],                        {\"template\":{\"data\":{\"histogram2dcontour\":[{\"type\":\"histogram2dcontour\",\"colorbar\":{\"outlinewidth\":0,\"ticks\":\"\"},\"colorscale\":[[0.0,\"#0d0887\"],[0.1111111111111111,\"#46039f\"],[0.2222222222222222,\"#7201a8\"],[0.3333333333333333,\"#9c179e\"],[0.4444444444444444,\"#bd3786\"],[0.5555555555555556,\"#d8576b\"],[0.6666666666666666,\"#ed7953\"],[0.7777777777777778,\"#fb9f3a\"],[0.8888888888888888,\"#fdca26\"],[1.0,\"#f0f921\"]]}],\"choropleth\":[{\"type\":\"choropleth\",\"colorbar\":{\"outlinewidth\":0,\"ticks\":\"\"}}],\"histogram2d\":[{\"type\":\"histogram2d\",\"colorbar\":{\"outlinewidth\":0,\"ticks\":\"\"},\"colorscale\":[[0.0,\"#0d0887\"],[0.1111111111111111,\"#46039f\"],[0.2222222222222222,\"#7201a8\"],[0.3333333333333333,\"#9c179e\"],[0.4444444444444444,\"#bd3786\"],[0.5555555555555556,\"#d8576b\"],[0.6666666666666666,\"#ed7953\"],[0.7777777777777778,\"#fb9f3a\"],[0.8888888888888888,\"#fdca26\"],[1.0,\"#f0f921\"]]}],\"heatmap\":[{\"type\":\"heatmap\",\"colorbar\":{\"outlinewidth\":0,\"ticks\":\"\"},\"colorscale\":[[0.0,\"#0d0887\"],[0.1111111111111111,\"#46039f\"],[0.2222222222222222,\"#7201a8\"],[0.3333333333333333,\"#9c179e\"],[0.4444444444444444,\"#bd3786\"],[0.5555555555555556,\"#d8576b\"],[0.6666666666666666,\"#ed7953\"],[0.7777777777777778,\"#fb9f3a\"],[0.8888888888888888,\"#fdca26\"],[1.0,\"#f0f921\"]]}],\"heatmapgl\":[{\"type\":\"heatmapgl\",\"colorbar\":{\"outlinewidth\":0,\"ticks\":\"\"},\"colorscale\":[[0.0,\"#0d0887\"],[0.1111111111111111,\"#46039f\"],[0.2222222222222222,\"#7201a8\"],[0.3333333333333333,\"#9c179e\"],[0.4444444444444444,\"#bd3786\"],[0.5555555555555556,\"#d8576b\"],[0.6666666666666666,\"#ed7953\"],[0.7777777777777778,\"#fb9f3a\"],[0.8888888888888888,\"#fdca26\"],[1.0,\"#f0f921\"]]}],\"contourcarpet\":[{\"type\":\"contourcarpet\",\"colorbar\":{\"outlinewidth\":0,\"ticks\":\"\"}}],\"contour\":[{\"type\":\"contour\",\"colorbar\":{\"outlinewidth\":0,\"ticks\":\"\"},\"colorscale\":[[0.0,\"#0d0887\"],[0.1111111111111111,\"#46039f\"],[0.2222222222222222,\"#7201a8\"],[0.3333333333333333,\"#9c179e\"],[0.4444444444444444,\"#bd3786\"],[0.5555555555555556,\"#d8576b\"],[0.6666666666666666,\"#ed7953\"],[0.7777777777777778,\"#fb9f3a\"],[0.8888888888888888,\"#fdca26\"],[1.0,\"#f0f921\"]]}],\"surface\":[{\"type\":\"surface\",\"colorbar\":{\"outlinewidth\":0,\"ticks\":\"\"},\"colorscale\":[[0.0,\"#0d0887\"],[0.1111111111111111,\"#46039f\"],[0.2222222222222222,\"#7201a8\"],[0.3333333333333333,\"#9c179e\"],[0.4444444444444444,\"#bd3786\"],[0.5555555555555556,\"#d8576b\"],[0.6666666666666666,\"#ed7953\"],[0.7777777777777778,\"#fb9f3a\"],[0.8888888888888888,\"#fdca26\"],[1.0,\"#f0f921\"]]}],\"mesh3d\":[{\"type\":\"mesh3d\",\"colorbar\":{\"outlinewidth\":0,\"ticks\":\"\"}}],\"scatter\":[{\"fillpattern\":{\"fillmode\":\"overlay\",\"size\":10,\"solidity\":0.2},\"type\":\"scatter\"}],\"parcoords\":[{\"type\":\"parcoords\",\"line\":{\"colorbar\":{\"outlinewidth\":0,\"ticks\":\"\"}}}],\"scatterpolargl\":[{\"type\":\"scatterpolargl\",\"marker\":{\"colorbar\":{\"outlinewidth\":0,\"ticks\":\"\"}}}],\"bar\":[{\"error_x\":{\"color\":\"#2a3f5f\"},\"error_y\":{\"color\":\"#2a3f5f\"},\"marker\":{\"line\":{\"color\":\"#E5ECF6\",\"width\":0.5},\"pattern\":{\"fillmode\":\"overlay\",\"size\":10,\"solidity\":0.2}},\"type\":\"bar\"}],\"scattergeo\":[{\"type\":\"scattergeo\",\"marker\":{\"colorbar\":{\"outlinewidth\":0,\"ticks\":\"\"}}}],\"scatterpolar\":[{\"type\":\"scatterpolar\",\"marker\":{\"colorbar\":{\"outlinewidth\":0,\"ticks\":\"\"}}}],\"histogram\":[{\"marker\":{\"pattern\":{\"fillmode\":\"overlay\",\"size\":10,\"solidity\":0.2}},\"type\":\"histogram\"}],\"scattergl\":[{\"type\":\"scattergl\",\"marker\":{\"colorbar\":{\"outlinewidth\":0,\"ticks\":\"\"}}}],\"scatter3d\":[{\"type\":\"scatter3d\",\"line\":{\"colorbar\":{\"outlinewidth\":0,\"ticks\":\"\"}},\"marker\":{\"colorbar\":{\"outlinewidth\":0,\"ticks\":\"\"}}}],\"scattermapbox\":[{\"type\":\"scattermapbox\",\"marker\":{\"colorbar\":{\"outlinewidth\":0,\"ticks\":\"\"}}}],\"scatterternary\":[{\"type\":\"scatterternary\",\"marker\":{\"colorbar\":{\"outlinewidth\":0,\"ticks\":\"\"}}}],\"scattercarpet\":[{\"type\":\"scattercarpet\",\"marker\":{\"colorbar\":{\"outlinewidth\":0,\"ticks\":\"\"}}}],\"carpet\":[{\"aaxis\":{\"endlinecolor\":\"#2a3f5f\",\"gridcolor\":\"white\",\"linecolor\":\"white\",\"minorgridcolor\":\"white\",\"startlinecolor\":\"#2a3f5f\"},\"baxis\":{\"endlinecolor\":\"#2a3f5f\",\"gridcolor\":\"white\",\"linecolor\":\"white\",\"minorgridcolor\":\"white\",\"startlinecolor\":\"#2a3f5f\"},\"type\":\"carpet\"}],\"table\":[{\"cells\":{\"fill\":{\"color\":\"#EBF0F8\"},\"line\":{\"color\":\"white\"}},\"header\":{\"fill\":{\"color\":\"#C8D4E3\"},\"line\":{\"color\":\"white\"}},\"type\":\"table\"}],\"barpolar\":[{\"marker\":{\"line\":{\"color\":\"#E5ECF6\",\"width\":0.5},\"pattern\":{\"fillmode\":\"overlay\",\"size\":10,\"solidity\":0.2}},\"type\":\"barpolar\"}],\"pie\":[{\"automargin\":true,\"type\":\"pie\"}]},\"layout\":{\"autotypenumbers\":\"strict\",\"colorway\":[\"#636efa\",\"#EF553B\",\"#00cc96\",\"#ab63fa\",\"#FFA15A\",\"#19d3f3\",\"#FF6692\",\"#B6E880\",\"#FF97FF\",\"#FECB52\"],\"font\":{\"color\":\"#2a3f5f\"},\"hovermode\":\"closest\",\"hoverlabel\":{\"align\":\"left\"},\"paper_bgcolor\":\"white\",\"plot_bgcolor\":\"#E5ECF6\",\"polar\":{\"bgcolor\":\"#E5ECF6\",\"angularaxis\":{\"gridcolor\":\"white\",\"linecolor\":\"white\",\"ticks\":\"\"},\"radialaxis\":{\"gridcolor\":\"white\",\"linecolor\":\"white\",\"ticks\":\"\"}},\"ternary\":{\"bgcolor\":\"#E5ECF6\",\"aaxis\":{\"gridcolor\":\"white\",\"linecolor\":\"white\",\"ticks\":\"\"},\"baxis\":{\"gridcolor\":\"white\",\"linecolor\":\"white\",\"ticks\":\"\"},\"caxis\":{\"gridcolor\":\"white\",\"linecolor\":\"white\",\"ticks\":\"\"}},\"coloraxis\":{\"colorbar\":{\"outlinewidth\":0,\"ticks\":\"\"}},\"colorscale\":{\"sequential\":[[0.0,\"#0d0887\"],[0.1111111111111111,\"#46039f\"],[0.2222222222222222,\"#7201a8\"],[0.3333333333333333,\"#9c179e\"],[0.4444444444444444,\"#bd3786\"],[0.5555555555555556,\"#d8576b\"],[0.6666666666666666,\"#ed7953\"],[0.7777777777777778,\"#fb9f3a\"],[0.8888888888888888,\"#fdca26\"],[1.0,\"#f0f921\"]],\"sequentialminus\":[[0.0,\"#0d0887\"],[0.1111111111111111,\"#46039f\"],[0.2222222222222222,\"#7201a8\"],[0.3333333333333333,\"#9c179e\"],[0.4444444444444444,\"#bd3786\"],[0.5555555555555556,\"#d8576b\"],[0.6666666666666666,\"#ed7953\"],[0.7777777777777778,\"#fb9f3a\"],[0.8888888888888888,\"#fdca26\"],[1.0,\"#f0f921\"]],\"diverging\":[[0,\"#8e0152\"],[0.1,\"#c51b7d\"],[0.2,\"#de77ae\"],[0.3,\"#f1b6da\"],[0.4,\"#fde0ef\"],[0.5,\"#f7f7f7\"],[0.6,\"#e6f5d0\"],[0.7,\"#b8e186\"],[0.8,\"#7fbc41\"],[0.9,\"#4d9221\"],[1,\"#276419\"]]},\"xaxis\":{\"gridcolor\":\"white\",\"linecolor\":\"white\",\"ticks\":\"\",\"title\":{\"standoff\":15},\"zerolinecolor\":\"white\",\"automargin\":true,\"zerolinewidth\":2},\"yaxis\":{\"gridcolor\":\"white\",\"linecolor\":\"white\",\"ticks\":\"\",\"title\":{\"standoff\":15},\"zerolinecolor\":\"white\",\"automargin\":true,\"zerolinewidth\":2},\"scene\":{\"xaxis\":{\"backgroundcolor\":\"#E5ECF6\",\"gridcolor\":\"white\",\"linecolor\":\"white\",\"showbackground\":true,\"ticks\":\"\",\"zerolinecolor\":\"white\",\"gridwidth\":2},\"yaxis\":{\"backgroundcolor\":\"#E5ECF6\",\"gridcolor\":\"white\",\"linecolor\":\"white\",\"showbackground\":true,\"ticks\":\"\",\"zerolinecolor\":\"white\",\"gridwidth\":2},\"zaxis\":{\"backgroundcolor\":\"#E5ECF6\",\"gridcolor\":\"white\",\"linecolor\":\"white\",\"showbackground\":true,\"ticks\":\"\",\"zerolinecolor\":\"white\",\"gridwidth\":2}},\"shapedefaults\":{\"line\":{\"color\":\"#2a3f5f\"}},\"annotationdefaults\":{\"arrowcolor\":\"#2a3f5f\",\"arrowhead\":0,\"arrowwidth\":1},\"geo\":{\"bgcolor\":\"white\",\"landcolor\":\"#E5ECF6\",\"subunitcolor\":\"white\",\"showland\":true,\"showlakes\":true,\"lakecolor\":\"white\"},\"title\":{\"x\":0.05},\"mapbox\":{\"style\":\"light\"}}},\"title\":{\"text\":\"Revenue Generated by Each Segment\"},\"xaxis\":{\"title\":{\"text\":\"Customer Segment\"}},\"yaxis\":{\"title\":{\"text\":\"Revenue\"}}},                        {\"responsive\": true}                    ).then(function(){\n",
       "                            \n",
       "var gd = document.getElementById('6c029e47-5a9a-447f-b5fa-1b42cd809c0d');\n",
       "var x = new MutationObserver(function (mutations, observer) {{\n",
       "        var display = window.getComputedStyle(gd).display;\n",
       "        if (!display || display === 'none') {{\n",
       "            console.log([gd, 'removed!']);\n",
       "            Plotly.purge(gd);\n",
       "            observer.disconnect();\n",
       "        }}\n",
       "}});\n",
       "\n",
       "// Listen for the removal of the full notebook cells\n",
       "var notebookContainer = gd.closest('#notebook-container');\n",
       "if (notebookContainer) {{\n",
       "    x.observe(notebookContainer, {childList: true});\n",
       "}}\n",
       "\n",
       "// Listen for the clearing of the current output cell\n",
       "var outputEl = gd.closest('.output');\n",
       "if (outputEl) {{\n",
       "    x.observe(outputEl, {childList: true});\n",
       "}}\n",
       "\n",
       "                        })                };                });            </script>        </div>"
      ]
     },
     "metadata": {},
     "output_type": "display_data"
    }
   ],
   "source": [
    "dF_clean=pd.merge(dF_clean,dF_rfm[[\"Customer Id\",\"RFM\",\"Segment\"]],on=\"Customer Id\",how=\"left\")\n",
    "dF_segment_revenue=dF_clean.groupby(\"Segment\",as_index=False).agg(Total_Revenue=(\"Order Item Total\",\"sum\")).sort_values(by=\"Total_Revenue\",ascending=False)\n",
    "fig3=go.Figure()\n",
    "fig3.add_trace(go.Bar(x=dF_segment_revenue.Segment,\n",
    "                      y=dF_segment_revenue.Total_Revenue,\n",
    "                     hovertemplate =\"%{label}<br>Revenue:%{value}\",\n",
    "                     texttemplate = \"%{value}\"))\n",
    "fig3.update_layout(title=\"Revenue Generated by Each Segment\",xaxis=dict(title=\"Customer Segment\"),\n",
    "                  yaxis=dict(title=\"Revenue\"))"
   ]
  },
  {
   "cell_type": "markdown",
   "id": "41fc9ed6",
   "metadata": {
    "papermill": {
     "duration": 0.026208,
     "end_time": "2022-12-05T08:02:27.823008",
     "exception": false,
     "start_time": "2022-12-05T08:02:27.796800",
     "status": "completed"
    },
    "tags": []
   },
   "source": [
    "**Points To Note-**\n",
    "\n",
    "- As we can see, the count of number of bargain customer is much higher than big spenders, but when we look at the revenue bar graph, **big spenders** are producing the most revenue. This comes to around **40% of total revenue** when we calculate it. That's why it is necessary to provide the best service to them as they contribute most to our revenue and losing them to competitor creates a serious loss to store.\n",
    "\n",
    "- But as we can see in this chart bargain customers are also producing significant revenue, they provide the store advantage of economies of scale. \n",
    "\n",
    "- Another thing to notice is that **Count of Lost Customers - Bargain is much more than current Bargain Customers.** While for Big spenders opposite is true, current big spenders have much greater Count than past big spenders. This shows that **bargain customers are difficult to retain**.\n",
    "\n",
    "- One more thing to notice here is that **revenue generated by lost customer** is also significant i.e around **27%** of total revenue. When we look at data, lost customers havent purchased from us in last 242 days or more. The store should think of strategies so they could retain more customers. The strategies should include simplifying User Interface incase of ecommerce website, faster deliveries, more payment options etc. Before deciding strategies organization could take suggestions from multiple of sources such as **focus groups, customer surveys**,etc"
   ]
  },
  {
   "cell_type": "markdown",
   "id": "1fcb484b",
   "metadata": {
    "papermill": {
     "duration": 0.025763,
     "end_time": "2022-12-05T08:02:27.875453",
     "exception": false,
     "start_time": "2022-12-05T08:02:27.849690",
     "status": "completed"
    },
    "tags": []
   },
   "source": [
    "**Treemap**\n",
    "\n",
    "We will prepare a treemap to find top revenue generating products in each segment."
   ]
  },
  {
   "cell_type": "code",
   "execution_count": 45,
   "id": "7ae5e7be",
   "metadata": {
    "execution": {
     "iopub.execute_input": "2022-12-05T08:02:27.929031Z",
     "iopub.status.busy": "2022-12-05T08:02:27.928612Z",
     "iopub.status.idle": "2022-12-05T08:02:27.933763Z",
     "shell.execute_reply": "2022-12-05T08:02:27.932634Z"
    },
    "papermill": {
     "duration": 0.034747,
     "end_time": "2022-12-05T08:02:27.935932",
     "exception": false,
     "start_time": "2022-12-05T08:02:27.901185",
     "status": "completed"
    },
    "tags": []
   },
   "outputs": [],
   "source": [
    "def wrap(a):\n",
    "    str1=a.split(\" \")\n",
    "    final_str=\"\"\n",
    "    for c in str1:\n",
    "        final_str=final_str+c+'<br>'\n",
    "    return final_str"
   ]
  },
  {
   "cell_type": "code",
   "execution_count": 46,
   "id": "4e363d3e",
   "metadata": {
    "_kg_hide-input": true,
    "execution": {
     "iopub.execute_input": "2022-12-05T08:02:27.989151Z",
     "iopub.status.busy": "2022-12-05T08:02:27.988743Z",
     "iopub.status.idle": "2022-12-05T08:02:28.081031Z",
     "shell.execute_reply": "2022-12-05T08:02:28.079868Z"
    },
    "papermill": {
     "duration": 0.122065,
     "end_time": "2022-12-05T08:02:28.083809",
     "exception": false,
     "start_time": "2022-12-05T08:02:27.961744",
     "status": "completed"
    },
    "tags": []
   },
   "outputs": [],
   "source": [
    "Df1=dF_clean.groupby([\"Segment\",\"Department Name\",\"Product Name\"],\n",
    "                     as_index=False\n",
    "                    ).agg(Total_Revenue=(\"Order Item Total\",\"sum\"),Total_Quantity=(\"Order Item Quantity\",\"sum\"))\n",
    "Df1[\"Product Name\"]=Df1[\"Product Name\"].apply(wrap) #Applying text wrap because our product names are too long\n",
    "segment=[\"Big Spenders\",\"Bargain Customers\",\"Loyal Customers\",\"New Customers\"]\n",
    "def type1(data):\n",
    "    if \"Big Spenders\" in data[\"Segment\"]:\n",
    "        return \"Big spenders\"\n",
    "    elif \"Bargain\" in data[\"Segment\"]:\n",
    "        return \"Bargain\"\n",
    "    elif \"Loyal\" in data[\"Segment\"]:\n",
    "        return \"Loyal\"\n",
    "    elif \"New\" in data[\"Segment\"]:\n",
    "        return \"New Customers\"\n",
    "    else:\n",
    "        return \"Unsatisfied\"\n",
    "    \n",
    "Df1[\"Customer Type\"]=Df1.apply(type1,axis=1)"
   ]
  },
  {
   "cell_type": "code",
   "execution_count": 47,
   "id": "03922b84",
   "metadata": {
    "_kg_hide-input": true,
    "execution": {
     "iopub.execute_input": "2022-12-05T08:02:28.138579Z",
     "iopub.status.busy": "2022-12-05T08:02:28.138202Z",
     "iopub.status.idle": "2022-12-05T08:02:30.421071Z",
     "shell.execute_reply": "2022-12-05T08:02:30.420148Z"
    },
    "papermill": {
     "duration": 2.318529,
     "end_time": "2022-12-05T08:02:30.428521",
     "exception": false,
     "start_time": "2022-12-05T08:02:28.109992",
     "status": "completed"
    },
    "scrolled": true,
    "tags": []
   },
   "outputs": [
    {
     "data": {
      "text/html": [
       "<div>                            <div id=\"7a4d8ec6-366d-48e1-a8ef-0c65b13ab09b\" class=\"plotly-graph-div\" style=\"height:525px; width:100%;\"></div>            <script type=\"text/javascript\">                require([\"plotly\"], function(Plotly) {                    window.PLOTLYENV=window.PLOTLYENV || {};                                    if (document.getElementById(\"7a4d8ec6-366d-48e1-a8ef-0c65b13ab09b\")) {                    Plotly.newPlot(                        \"7a4d8ec6-366d-48e1-a8ef-0c65b13ab09b\",                        [{\"branchvalues\":\"total\",\"domain\":{\"x\":[0.0,1.0],\"y\":[0.0,1.0]},\"hovertemplate\":\"labels=%{label}<br>Total_Revenue=%{value}<br>parent=%{parent}<br>id=%{id}<extra></extra>\",\"ids\":[\"All/Bargain/Bargain Customers/Outdoors/Bag<br>Boy<br>Beverage<br>Holder<br>\",\"All/Bargain/Lost Customers - Bargain/Outdoors/Bag<br>Boy<br>Beverage<br>Holder<br>\",\"All/Bargain/Occasional Customers-Bargain/Outdoors/Bag<br>Boy<br>Beverage<br>Holder<br>\",\"All/Bargain/Bargain Customers/Outdoors/Bag<br>Boy<br>M330<br>Push<br>Cart<br>\",\"All/Bargain/Occasional Customers-Bargain/Outdoors/Bag<br>Boy<br>M330<br>Push<br>Cart<br>\",\"All/Bargain/Bargain Customers/Footwear/Bowflex<br>SelectTech<br>1090<br>Dumbbells<br>\",\"All/Bargain/Bargain Customers/Outdoors/Bridgestone<br>e6<br>Straight<br>Distance<br>NFL<br>Carolina<br>\",\"All/Bargain/Lost Customers - Bargain/Outdoors/Bridgestone<br>e6<br>Straight<br>Distance<br>NFL<br>Carolina<br>\",\"All/Bargain/Occasional Customers-Bargain/Outdoors/Bridgestone<br>e6<br>Straight<br>Distance<br>NFL<br>Carolina<br>\",\"All/Bargain/Bargain Customers/Outdoors/Bridgestone<br>e6<br>Straight<br>Distance<br>NFL<br>San<br>Dieg<br>\",\"All/Bargain/Lost Customers - Bargain/Outdoors/Bridgestone<br>e6<br>Straight<br>Distance<br>NFL<br>San<br>Dieg<br>\",\"All/Bargain/Occasional Customers-Bargain/Outdoors/Bridgestone<br>e6<br>Straight<br>Distance<br>NFL<br>San<br>Dieg<br>\",\"All/Bargain/Bargain Customers/Outdoors/Bridgestone<br>e6<br>Straight<br>Distance<br>NFL<br>Tennesse<br>\",\"All/Bargain/Lost Customers - Bargain/Outdoors/Bridgestone<br>e6<br>Straight<br>Distance<br>NFL<br>Tennesse<br>\",\"All/Bargain/Occasional Customers-Bargain/Outdoors/Bridgestone<br>e6<br>Straight<br>Distance<br>NFL<br>Tennesse<br>\",\"All/Bargain/Bargain Customers/Footwear/Brooks<br>Women's<br>Ghost<br>6<br>Running<br>Shoe<br>\",\"All/Bargain/Occasional Customers-Bargain/Footwear/Brooks<br>Women's<br>Ghost<br>6<br>Running<br>Shoe<br>\",\"All/Bargain/Bargain Customers/Outdoors/Bushnell<br>Pro<br>X7<br>Jolt<br>Slope<br>Rangefinder<br>\",\"All/Bargain/Bargain Customers/Outdoors/Cleveland<br>Golf<br>Collegiate<br>My<br>Custom<br>Wedge<br>588<br>\",\"All/Bargain/Occasional Customers-Bargain/Outdoors/Cleveland<br>Golf<br>Collegiate<br>My<br>Custom<br>Wedge<br>588<br>\",\"All/Bargain/Bargain Customers/Outdoors/Cleveland<br>Golf<br>Women's<br>588<br>RTX<br>CB<br>Satin<br>Chrom<br>\",\"All/Bargain/Occasional Customers-Bargain/Outdoors/Cleveland<br>Golf<br>Women's<br>588<br>RTX<br>CB<br>Satin<br>Chrom<br>\",\"All/Bargain/Bargain Customers/Outdoors/Clicgear<br>8.0<br>Shoe<br>Brush<br>\",\"All/Bargain/Lost Customers - Bargain/Outdoors/Clicgear<br>8.0<br>Shoe<br>Brush<br>\",\"All/Bargain/Occasional Customers-Bargain/Outdoors/Clicgear<br>8.0<br>Shoe<br>Brush<br>\",\"All/Bargain/Bargain Customers/Outdoors/Clicgear<br>Rovic<br>Cooler<br>Bag<br>\",\"All/Bargain/Lost Customers - Bargain/Outdoors/Clicgear<br>Rovic<br>Cooler<br>Bag<br>\",\"All/Bargain/Occasional Customers-Bargain/Outdoors/Clicgear<br>Rovic<br>Cooler<br>Bag<br>\",\"All/Bargain/Bargain Customers/Golf/Columbia<br>Men's<br>PFG<br>Anchor<br>Tough<br>T-Shirt<br>\",\"All/Bargain/Lost Customers - Bargain/Golf/Columbia<br>Men's<br>PFG<br>Anchor<br>Tough<br>T-Shirt<br>\",\"All/Bargain/Occasional Customers-Bargain/Golf/Columbia<br>Men's<br>PFG<br>Anchor<br>Tough<br>T-Shirt<br>\",\"All/Bargain/Bargain Customers/Fitness/Diamondback<br>Boys'<br>Insight<br>24<br>Performance<br>Hybr<br>\",\"All/Bargain/Bargain Customers/Fitness/Diamondback<br>Girls'<br>Clarity<br>24<br>Hybrid<br>Bike<br>201<br>\",\"All/Bargain/Bargain Customers/Fan Shop/Diamondback<br>Women's<br>Serene<br>Classic<br>Comfort<br>Bi<br>\",\"All/Bargain/Lost Customers - Bargain/Fan Shop/Diamondback<br>Women's<br>Serene<br>Classic<br>Comfort<br>Bi<br>\",\"All/Bargain/Occasional Customers-Bargain/Fan Shop/Diamondback<br>Women's<br>Serene<br>Classic<br>Comfort<br>Bi<br>\",\"All/Bargain/Bargain Customers/Fan Shop/ENO<br>Atlas<br>Hammock<br>Straps<br>\",\"All/Bargain/Lost Customers - Bargain/Fan Shop/ENO<br>Atlas<br>Hammock<br>Straps<br>\",\"All/Bargain/Occasional Customers-Bargain/Fan Shop/ENO<br>Atlas<br>Hammock<br>Straps<br>\",\"All/Bargain/Bargain Customers/Fitness/Elevation<br>Training<br>Mask<br>2.0<br>\",\"All/Bargain/Occasional Customers-Bargain/Fitness/Elevation<br>Training<br>Mask<br>2.0<br>\",\"All/Bargain/Bargain Customers/Fan Shop/Field<br>&<br>Stream<br>Sportsman<br>16<br>Gun<br>Fire<br>Safe<br>\",\"All/Bargain/Lost Customers - Bargain/Fan Shop/Field<br>&<br>Stream<br>Sportsman<br>16<br>Gun<br>Fire<br>Safe<br>\",\"All/Bargain/Occasional Customers-Bargain/Fan Shop/Field<br>&<br>Stream<br>Sportsman<br>16<br>Gun<br>Fire<br>Safe<br>\",\"All/Bargain/Bargain Customers/Outdoors/Fitbit<br>The<br>One<br>Wireless<br>Activity<br>&<br>Sleep<br>Trac<br>\",\"All/Bargain/Occasional Customers-Bargain/Outdoors/Fitbit<br>The<br>One<br>Wireless<br>Activity<br>&<br>Sleep<br>Trac<br>\",\"All/Bargain/Bargain Customers/Outdoors/Garmin<br>Approach<br>S3<br>Golf<br>GPS<br>Watch<br>\",\"All/Bargain/Occasional Customers-Bargain/Outdoors/Garmin<br>Approach<br>S3<br>Golf<br>GPS<br>Watch<br>\",\"All/Bargain/Bargain Customers/Outdoors/Garmin<br>Approach<br>S4<br>Golf<br>GPS<br>Watch<br>\",\"All/Bargain/Bargain Customers/Outdoors/Garmin<br>Forerunner<br>910XT<br>GPS<br>Watch<br>\",\"All/Bargain/Bargain Customers/Outdoors/Glove<br>It<br>Imperial<br>Golf<br>Towel<br>\",\"All/Bargain/Lost Customers - Bargain/Outdoors/Glove<br>It<br>Imperial<br>Golf<br>Towel<br>\",\"All/Bargain/Occasional Customers-Bargain/Outdoors/Glove<br>It<br>Imperial<br>Golf<br>Towel<br>\",\"All/Bargain/Bargain Customers/Outdoors/Glove<br>It<br>Urban<br>Brick<br>Golf<br>Towel<br>\",\"All/Bargain/Lost Customers - Bargain/Outdoors/Glove<br>It<br>Urban<br>Brick<br>Golf<br>Towel<br>\",\"All/Bargain/Occasional Customers-Bargain/Outdoors/Glove<br>It<br>Urban<br>Brick<br>Golf<br>Towel<br>\",\"All/Bargain/Bargain Customers/Outdoors/Glove<br>It<br>Women's<br>Imperial<br>Golf<br>Glove<br>\",\"All/Bargain/Lost Customers - Bargain/Outdoors/Glove<br>It<br>Women's<br>Imperial<br>Golf<br>Glove<br>\",\"All/Bargain/Occasional Customers-Bargain/Outdoors/Glove<br>It<br>Women's<br>Imperial<br>Golf<br>Glove<br>\",\"All/Bargain/Bargain Customers/Outdoors/Glove<br>It<br>Women's<br>Mod<br>Oval<br>3-Zip<br>Carry<br>All<br>Gol<br>\",\"All/Bargain/Lost Customers - Bargain/Outdoors/Glove<br>It<br>Women's<br>Mod<br>Oval<br>3-Zip<br>Carry<br>All<br>Gol<br>\",\"All/Bargain/Occasional Customers-Bargain/Outdoors/Glove<br>It<br>Women's<br>Mod<br>Oval<br>3-Zip<br>Carry<br>All<br>Gol<br>\",\"All/Bargain/Bargain Customers/Outdoors/Glove<br>It<br>Women's<br>Mod<br>Oval<br>Golf<br>Glove<br>\",\"All/Bargain/Lost Customers - Bargain/Outdoors/Glove<br>It<br>Women's<br>Mod<br>Oval<br>Golf<br>Glove<br>\",\"All/Bargain/Occasional Customers-Bargain/Outdoors/Glove<br>It<br>Women's<br>Mod<br>Oval<br>Golf<br>Glove<br>\",\"All/Bargain/Bargain Customers/Footwear/GoPro<br>HERO3+<br>Black<br>Edition<br>Camera<br>\",\"All/Bargain/Bargain Customers/Outdoors/GolfBuddy<br>VT3<br>GPS<br>Watch<br>\",\"All/Bargain/Occasional Customers-Bargain/Outdoors/GolfBuddy<br>VT3<br>GPS<br>Watch<br>\",\"All/Bargain/Bargain Customers/Outdoors/Hirzl<br>Men's<br>Hybrid<br>Golf<br>Glove<br>\",\"All/Bargain/Lost Customers - Bargain/Outdoors/Hirzl<br>Men's<br>Hybrid<br>Golf<br>Glove<br>\",\"All/Bargain/Occasional Customers-Bargain/Outdoors/Hirzl<br>Men's<br>Hybrid<br>Golf<br>Glove<br>\",\"All/Bargain/Bargain Customers/Outdoors/Hirzl<br>Women's<br>Hybrid<br>Golf<br>Glove<br>\",\"All/Bargain/Lost Customers - Bargain/Outdoors/Hirzl<br>Women's<br>Hybrid<br>Golf<br>Glove<br>\",\"All/Bargain/Occasional Customers-Bargain/Outdoors/Hirzl<br>Women's<br>Hybrid<br>Golf<br>Glove<br>\",\"All/Bargain/Bargain Customers/Outdoors/Hirzl<br>Women's<br>Soffft<br>Flex<br>Golf<br>Glove<br>\",\"All/Bargain/Lost Customers - Bargain/Outdoors/Hirzl<br>Women's<br>Soffft<br>Flex<br>Golf<br>Glove<br>\",\"All/Bargain/Occasional Customers-Bargain/Outdoors/Hirzl<br>Women's<br>Soffft<br>Flex<br>Golf<br>Glove<br>\",\"All/Bargain/Bargain Customers/Outdoors/LIJA<br>Women's<br>Argyle<br>Golf<br>Polo<br>\",\"All/Bargain/Occasional Customers-Bargain/Outdoors/LIJA<br>Women's<br>Argyle<br>Golf<br>Polo<br>\",\"All/Bargain/Bargain Customers/Outdoors/LIJA<br>Women's<br>Button<br>Golf<br>Dress<br>\",\"All/Bargain/Occasional Customers-Bargain/Outdoors/LIJA<br>Women's<br>Button<br>Golf<br>Dress<br>\",\"All/Bargain/Bargain Customers/Outdoors/LIJA<br>Women's<br>Eyelet<br>Sleeveless<br>Golf<br>Polo<br>\",\"All/Bargain/Lost Customers - Bargain/Outdoors/LIJA<br>Women's<br>Eyelet<br>Sleeveless<br>Golf<br>Polo<br>\",\"All/Bargain/Occasional Customers-Bargain/Outdoors/LIJA<br>Women's<br>Eyelet<br>Sleeveless<br>Golf<br>Polo<br>\",\"All/Bargain/Bargain Customers/Outdoors/LIJA<br>Women's<br>Mid-Length<br>Panel<br>Golf<br>Shorts<br>\",\"All/Bargain/Occasional Customers-Bargain/Outdoors/LIJA<br>Women's<br>Mid-Length<br>Panel<br>Golf<br>Shorts<br>\",\"All/Bargain/Bargain Customers/Outdoors/MDGolf<br>Pittsburgh<br>Penguins<br>Putter<br>\",\"All/Bargain/Occasional Customers-Bargain/Outdoors/MDGolf<br>Pittsburgh<br>Penguins<br>Putter<br>\",\"All/Bargain/Bargain Customers/Outdoors/Merrell<br>Men's<br>All<br>Out<br>Flash<br>Trail<br>Running<br>Sho<br>\",\"All/Bargain/Occasional Customers-Bargain/Outdoors/Merrell<br>Men's<br>All<br>Out<br>Flash<br>Trail<br>Running<br>Sho<br>\",\"All/Bargain/Bargain Customers/Outdoors/Merrell<br>Women's<br>Grassbow<br>Sport<br>Hiking<br>Shoe<br>\",\"All/Bargain/Occasional Customers-Bargain/Outdoors/Merrell<br>Women's<br>Grassbow<br>Sport<br>Hiking<br>Shoe<br>\",\"All/Bargain/Bargain Customers/Outdoors/Merrell<br>Women's<br>Grassbow<br>Sport<br>Waterproof<br>Hik<br>\",\"All/Bargain/Occasional Customers-Bargain/Outdoors/Merrell<br>Women's<br>Grassbow<br>Sport<br>Waterproof<br>Hik<br>\",\"All/Bargain/Bargain Customers/Outdoors/Merrell<br>Women's<br>Siren<br>Mid<br>Waterproof<br>Hiking<br>B<br>\",\"All/Bargain/Occasional Customers-Bargain/Outdoors/Merrell<br>Women's<br>Siren<br>Mid<br>Waterproof<br>Hiking<br>B<br>\",\"All/Bargain/Bargain Customers/Outdoors/Mio<br>ALPHA<br>Heart<br>Rate<br>Monitor/Sport<br>Watch<br>\",\"All/Bargain/Occasional Customers-Bargain/Outdoors/Mio<br>ALPHA<br>Heart<br>Rate<br>Monitor/Sport<br>Watch<br>\",\"All/Bargain/Bargain Customers/Fitness/Nike<br>Dri-FIT<br>Crew<br>Sock<br>6<br>Pack<br>\",\"All/Bargain/Lost Customers - Bargain/Fitness/Nike<br>Dri-FIT<br>Crew<br>Sock<br>6<br>Pack<br>\",\"All/Bargain/Occasional Customers-Bargain/Fitness/Nike<br>Dri-FIT<br>Crew<br>Sock<br>6<br>Pack<br>\",\"All/Bargain/Bargain Customers/Fitness/Nike<br>Kids'<br>Grade<br>School<br>KD<br>VI<br>Basketball<br>Shoe<br>\",\"All/Bargain/Occasional Customers-Bargain/Fitness/Nike<br>Kids'<br>Grade<br>School<br>KD<br>VI<br>Basketball<br>Shoe<br>\",\"All/Bargain/Bargain Customers/Apparel/Nike<br>Men's<br>CJ<br>Elite<br>2<br>TD<br>Football<br>Cleat<br>\",\"All/Bargain/Lost Customers - Bargain/Apparel/Nike<br>Men's<br>CJ<br>Elite<br>2<br>TD<br>Football<br>Cleat<br>\",\"All/Bargain/Occasional Customers-Bargain/Apparel/Nike<br>Men's<br>CJ<br>Elite<br>2<br>TD<br>Football<br>Cleat<br>\",\"All/Bargain/Bargain Customers/Fitness/Nike<br>Men's<br>Comfort<br>2<br>Slide<br>\",\"All/Bargain/Lost Customers - Bargain/Fitness/Nike<br>Men's<br>Comfort<br>2<br>Slide<br>\",\"All/Bargain/Occasional Customers-Bargain/Fitness/Nike<br>Men's<br>Comfort<br>2<br>Slide<br>\",\"All/Bargain/Bargain Customers/Golf/Nike<br>Men's<br>Deutschland<br>Weltmeister<br>Winners<br>Bl<br>\",\"All/Bargain/Lost Customers - Bargain/Golf/Nike<br>Men's<br>Deutschland<br>Weltmeister<br>Winners<br>Bl<br>\",\"All/Bargain/Occasional Customers-Bargain/Golf/Nike<br>Men's<br>Deutschland<br>Weltmeister<br>Winners<br>Bl<br>\",\"All/Bargain/Bargain Customers/Golf/Nike<br>Men's<br>Dri-FIT<br>Victory<br>Golf<br>Polo<br>\",\"All/Bargain/Lost Customers - Bargain/Golf/Nike<br>Men's<br>Dri-FIT<br>Victory<br>Golf<br>Polo<br>\",\"All/Bargain/Occasional Customers-Bargain/Golf/Nike<br>Men's<br>Dri-FIT<br>Victory<br>Golf<br>Polo<br>\",\"All/Bargain/Bargain Customers/Fitness/Nike<br>Men's<br>Fingertrap<br>Max<br>Training<br>Shoe<br>\",\"All/Bargain/Occasional Customers-Bargain/Fitness/Nike<br>Men's<br>Fingertrap<br>Max<br>Training<br>Shoe<br>\",\"All/Bargain/Bargain Customers/Footwear/Nike<br>Men's<br>Free<br>5.0+<br>Running<br>Shoe<br>\",\"All/Bargain/Lost Customers - Bargain/Footwear/Nike<br>Men's<br>Free<br>5.0+<br>Running<br>Shoe<br>\",\"All/Bargain/Occasional Customers-Bargain/Footwear/Nike<br>Men's<br>Free<br>5.0+<br>Running<br>Shoe<br>\",\"All/Bargain/Bargain Customers/Footwear/Nike<br>Men's<br>Free<br>TR<br>5.0<br>TB<br>Training<br>Shoe<br>\",\"All/Bargain/Occasional Customers-Bargain/Footwear/Nike<br>Men's<br>Free<br>TR<br>5.0<br>TB<br>Training<br>Shoe<br>\",\"All/Bargain/Bargain Customers/Golf/Nike<br>Men's<br>Kobe<br>IX<br>Elite<br>Low<br>Basketball<br>Shoe<br>\",\"All/Bargain/Occasional Customers-Bargain/Golf/Nike<br>Men's<br>Kobe<br>IX<br>Elite<br>Low<br>Basketball<br>Shoe<br>\",\"All/Bargain/Bargain Customers/Footwear/Nike<br>Women's<br>Free<br>5.0<br>TR<br>FIT<br>PRT<br>4<br>Training<br>S<br>\",\"All/Bargain/Occasional Customers-Bargain/Footwear/Nike<br>Women's<br>Free<br>5.0<br>TR<br>FIT<br>PRT<br>4<br>Training<br>S<br>\",\"All/Bargain/Bargain Customers/Fitness/Nike<br>Women's<br>Legend<br>V-Neck<br>T-Shirt<br>\",\"All/Bargain/Lost Customers - Bargain/Fitness/Nike<br>Women's<br>Legend<br>V-Neck<br>T-Shirt<br>\",\"All/Bargain/Occasional Customers-Bargain/Fitness/Nike<br>Women's<br>Legend<br>V-Neck<br>T-Shirt<br>\",\"All/Bargain/Bargain Customers/Footwear/Nike<br>Women's<br>Tempo<br>Shorts<br>\",\"All/Bargain/Lost Customers - Bargain/Footwear/Nike<br>Women's<br>Tempo<br>Shorts<br>\",\"All/Bargain/Occasional Customers-Bargain/Footwear/Nike<br>Women's<br>Tempo<br>Shorts<br>\",\"All/Bargain/Bargain Customers/Fan Shop/O'Brien<br>Men's<br>Neoprene<br>Life<br>Vest<br>\",\"All/Bargain/Lost Customers - Bargain/Fan Shop/O'Brien<br>Men's<br>Neoprene<br>Life<br>Vest<br>\",\"All/Bargain/Occasional Customers-Bargain/Fan Shop/O'Brien<br>Men's<br>Neoprene<br>Life<br>Vest<br>\",\"All/Bargain/Bargain Customers/Outdoors/Ogio<br>Race<br>Golf<br>Shoes<br>\",\"All/Bargain/Occasional Customers-Bargain/Outdoors/Ogio<br>Race<br>Golf<br>Shoes<br>\",\"All/Bargain/Bargain Customers/Fan Shop/Pelican<br>Maverick<br>100X<br>Kayak<br>\",\"All/Bargain/Bargain Customers/Fan Shop/Pelican<br>Sunstream<br>100<br>Kayak<br>\",\"All/Bargain/Lost Customers - Bargain/Fan Shop/Pelican<br>Sunstream<br>100<br>Kayak<br>\",\"All/Bargain/Occasional Customers-Bargain/Fan Shop/Pelican<br>Sunstream<br>100<br>Kayak<br>\",\"All/Bargain/Bargain Customers/Apparel/Perfect<br>Fitness<br>Perfect<br>Rip<br>Deck<br>\",\"All/Bargain/Lost Customers - Bargain/Apparel/Perfect<br>Fitness<br>Perfect<br>Rip<br>Deck<br>\",\"All/Bargain/Occasional Customers-Bargain/Apparel/Perfect<br>Fitness<br>Perfect<br>Rip<br>Deck<br>\",\"All/Bargain/Bargain Customers/Outdoors/Polar<br>FT4<br>Heart<br>Rate<br>Monitor<br>\",\"All/Bargain/Occasional Customers-Bargain/Outdoors/Polar<br>FT4<br>Heart<br>Rate<br>Monitor<br>\",\"All/Bargain/Bargain Customers/Outdoors/Polar<br>Loop<br>Activity<br>Tracker<br>\",\"All/Bargain/Occasional Customers-Bargain/Outdoors/Polar<br>Loop<br>Activity<br>Tracker<br>\",\"All/Bargain/Bargain Customers/Fitness/SOLE<br>E25<br>Elliptical<br>\",\"All/Bargain/Bargain Customers/Fitness/Stiga<br>Master<br>Series<br>ST3100<br>Competition<br>Indoor<br>\",\"All/Bargain/Bargain Customers/Golf/TYR<br>Boys'<br>Team<br>Digi<br>Jammer<br>\",\"All/Bargain/Lost Customers - Bargain/Golf/TYR<br>Boys'<br>Team<br>Digi<br>Jammer<br>\",\"All/Bargain/Occasional Customers-Bargain/Golf/TYR<br>Boys'<br>Team<br>Digi<br>Jammer<br>\",\"All/Bargain/Bargain Customers/Outdoors/TaylorMade<br>2014<br>Purelite<br>Stand<br>Bag<br>\",\"All/Bargain/Occasional Customers-Bargain/Outdoors/TaylorMade<br>2014<br>Purelite<br>Stand<br>Bag<br>\",\"All/Bargain/Bargain Customers/Outdoors/TaylorMade<br>White<br>Smoke<br>IN-12<br>Putter<br>\",\"All/Bargain/Occasional Customers-Bargain/Outdoors/TaylorMade<br>White<br>Smoke<br>IN-12<br>Putter<br>\",\"All/Bargain/Bargain Customers/Outdoors/TaylorMade<br>Women's<br>RBZ<br>SL<br>Rescue<br>\",\"All/Bargain/Occasional Customers-Bargain/Outdoors/TaylorMade<br>Women's<br>RBZ<br>SL<br>Rescue<br>\",\"All/Bargain/Bargain Customers/Outdoors/Team<br>Golf<br>New<br>England<br>Patriots<br>Putter<br>Grip<br>\",\"All/Bargain/Lost Customers - Bargain/Outdoors/Team<br>Golf<br>New<br>England<br>Patriots<br>Putter<br>Grip<br>\",\"All/Bargain/Occasional Customers-Bargain/Outdoors/Team<br>Golf<br>New<br>England<br>Patriots<br>Putter<br>Grip<br>\",\"All/Bargain/Bargain Customers/Outdoors/Team<br>Golf<br>Pittsburgh<br>Steelers<br>Putter<br>Grip<br>\",\"All/Bargain/Lost Customers - Bargain/Outdoors/Team<br>Golf<br>Pittsburgh<br>Steelers<br>Putter<br>Grip<br>\",\"All/Bargain/Occasional Customers-Bargain/Outdoors/Team<br>Golf<br>Pittsburgh<br>Steelers<br>Putter<br>Grip<br>\",\"All/Bargain/Bargain Customers/Outdoors/Team<br>Golf<br>San<br>Francisco<br>Giants<br>Putter<br>Grip<br>\",\"All/Bargain/Lost Customers - Bargain/Outdoors/Team<br>Golf<br>San<br>Francisco<br>Giants<br>Putter<br>Grip<br>\",\"All/Bargain/Occasional Customers-Bargain/Outdoors/Team<br>Golf<br>San<br>Francisco<br>Giants<br>Putter<br>Grip<br>\",\"All/Bargain/Bargain Customers/Outdoors/Team<br>Golf<br>St.<br>Louis<br>Cardinals<br>Putter<br>Grip<br>\",\"All/Bargain/Lost Customers - Bargain/Outdoors/Team<br>Golf<br>St.<br>Louis<br>Cardinals<br>Putter<br>Grip<br>\",\"All/Bargain/Occasional Customers-Bargain/Outdoors/Team<br>Golf<br>St.<br>Louis<br>Cardinals<br>Putter<br>Grip<br>\",\"All/Bargain/Bargain Customers/Outdoors/Team<br>Golf<br>Tennessee<br>Volunteers<br>Putter<br>Grip<br>\",\"All/Bargain/Lost Customers - Bargain/Outdoors/Team<br>Golf<br>Tennessee<br>Volunteers<br>Putter<br>Grip<br>\",\"All/Bargain/Occasional Customers-Bargain/Outdoors/Team<br>Golf<br>Tennessee<br>Volunteers<br>Putter<br>Grip<br>\",\"All/Bargain/Bargain Customers/Outdoors/Team<br>Golf<br>Texas<br>Longhorns<br>Putter<br>Grip<br>\",\"All/Bargain/Lost Customers - Bargain/Outdoors/Team<br>Golf<br>Texas<br>Longhorns<br>Putter<br>Grip<br>\",\"All/Bargain/Occasional Customers-Bargain/Outdoors/Team<br>Golf<br>Texas<br>Longhorns<br>Putter<br>Grip<br>\",\"All/Bargain/Bargain Customers/Fan Shop/The<br>North<br>Face<br>Women's<br>Recon<br>Backpack<br>\",\"All/Bargain/Occasional Customers-Bargain/Fan Shop/The<br>North<br>Face<br>Women's<br>Recon<br>Backpack<br>\",\"All/Bargain/Bargain Customers/Outdoors/Titleist<br>Club<br>Glove<br>Travel<br>Cover<br>\",\"All/Bargain/Bargain Customers/Outdoors/Titleist<br>Pro<br>V1<br>High<br>Numbers<br>Personalized<br>Gol<br>\",\"All/Bargain/Lost Customers - Bargain/Outdoors/Titleist<br>Pro<br>V1<br>High<br>Numbers<br>Personalized<br>Gol<br>\",\"All/Bargain/Occasional Customers-Bargain/Outdoors/Titleist<br>Pro<br>V1<br>High<br>Numbers<br>Personalized<br>Gol<br>\",\"All/Bargain/Bargain Customers/Outdoors/Titleist<br>Pro<br>V1x<br>Golf<br>Balls<br>\",\"All/Bargain/Lost Customers - Bargain/Outdoors/Titleist<br>Pro<br>V1x<br>Golf<br>Balls<br>\",\"All/Bargain/Occasional Customers-Bargain/Outdoors/Titleist<br>Pro<br>V1x<br>Golf<br>Balls<br>\",\"All/Bargain/Bargain Customers/Outdoors/Titleist<br>Pro<br>V1x<br>High<br>Numbers<br>Golf<br>Balls<br>\",\"All/Bargain/Lost Customers - Bargain/Outdoors/Titleist<br>Pro<br>V1x<br>High<br>Numbers<br>Golf<br>Balls<br>\",\"All/Bargain/Occasional Customers-Bargain/Outdoors/Titleist<br>Pro<br>V1x<br>High<br>Numbers<br>Golf<br>Balls<br>\",\"All/Bargain/Bargain Customers/Outdoors/Titleist<br>Pro<br>V1x<br>High<br>Numbers<br>Personalized<br>Go<br>\",\"All/Bargain/Lost Customers - Bargain/Outdoors/Titleist<br>Pro<br>V1x<br>High<br>Numbers<br>Personalized<br>Go<br>\",\"All/Bargain/Occasional Customers-Bargain/Outdoors/Titleist<br>Pro<br>V1x<br>High<br>Numbers<br>Personalized<br>Go<br>\",\"All/Bargain/Bargain Customers/Outdoors/Titleist<br>Small<br>Wheeled<br>Travel<br>Cover<br>\",\"All/Bargain/Occasional Customers-Bargain/Outdoors/Titleist<br>Small<br>Wheeled<br>Travel<br>Cover<br>\",\"All/Bargain/Bargain Customers/Outdoors/Top<br>Flite<br>Women's<br>2014<br>XL<br>Hybrid<br>\",\"All/Bargain/Lost Customers - Bargain/Outdoors/Top<br>Flite<br>Women's<br>2014<br>XL<br>Hybrid<br>\",\"All/Bargain/Occasional Customers-Bargain/Outdoors/Top<br>Flite<br>Women's<br>2014<br>XL<br>Hybrid<br>\",\"All/Bargain/Bargain Customers/Apparel/Total<br>Gym<br>1400<br>\",\"All/Bargain/Bargain Customers/Golf/Under<br>Armour<br>Girls'<br>Toddler<br>Spine<br>Surge<br>Runni<br>\",\"All/Bargain/Lost Customers - Bargain/Golf/Under<br>Armour<br>Girls'<br>Toddler<br>Spine<br>Surge<br>Runni<br>\",\"All/Bargain/Occasional Customers-Bargain/Golf/Under<br>Armour<br>Girls'<br>Toddler<br>Spine<br>Surge<br>Runni<br>\",\"All/Bargain/Bargain Customers/Footwear/Under<br>Armour<br>Hustle<br>Storm<br>Medium<br>Duffle<br>Bag<br>\",\"All/Bargain/Lost Customers - Bargain/Footwear/Under<br>Armour<br>Hustle<br>Storm<br>Medium<br>Duffle<br>Bag<br>\",\"All/Bargain/Occasional Customers-Bargain/Footwear/Under<br>Armour<br>Hustle<br>Storm<br>Medium<br>Duffle<br>Bag<br>\",\"All/Bargain/Bargain Customers/Footwear/Under<br>Armour<br>Kids'<br>Mercenary<br>Slide<br>\",\"All/Bargain/Lost Customers - Bargain/Footwear/Under<br>Armour<br>Kids'<br>Mercenary<br>Slide<br>\",\"All/Bargain/Occasional Customers-Bargain/Footwear/Under<br>Armour<br>Kids'<br>Mercenary<br>Slide<br>\",\"All/Bargain/Bargain Customers/Footwear/Under<br>Armour<br>Men's<br>Compression<br>EV<br>SL<br>Slide<br>\",\"All/Bargain/Lost Customers - Bargain/Footwear/Under<br>Armour<br>Men's<br>Compression<br>EV<br>SL<br>Slide<br>\",\"All/Bargain/Occasional Customers-Bargain/Footwear/Under<br>Armour<br>Men's<br>Compression<br>EV<br>SL<br>Slide<br>\",\"All/Bargain/Bargain Customers/Fitness/Under<br>Armour<br>Men's<br>Tech<br>II<br>T-Shirt<br>\",\"All/Bargain/Lost Customers - Bargain/Fitness/Under<br>Armour<br>Men's<br>Tech<br>II<br>T-Shirt<br>\",\"All/Bargain/Occasional Customers-Bargain/Fitness/Under<br>Armour<br>Men's<br>Tech<br>II<br>T-Shirt<br>\",\"All/Bargain/Bargain Customers/Footwear/Under<br>Armour<br>Women's<br>Ignite<br>PIP<br>VI<br>Slide<br>\",\"All/Bargain/Lost Customers - Bargain/Footwear/Under<br>Armour<br>Women's<br>Ignite<br>PIP<br>VI<br>Slide<br>\",\"All/Bargain/Occasional Customers-Bargain/Footwear/Under<br>Armour<br>Women's<br>Ignite<br>PIP<br>VI<br>Slide<br>\",\"All/Bargain/Bargain Customers/Footwear/Under<br>Armour<br>Women's<br>Ignite<br>Slide<br>\",\"All/Bargain/Lost Customers - Bargain/Footwear/Under<br>Armour<br>Women's<br>Ignite<br>Slide<br>\",\"All/Bargain/Occasional Customers-Bargain/Footwear/Under<br>Armour<br>Women's<br>Ignite<br>Slide<br>\",\"All/Bargain/Bargain Customers/Footwear/Under<br>Armour<br>Women's<br>Micro<br>G<br>Skulpt<br>Running<br>S<br>\",\"All/Bargain/Lost Customers - Bargain/Footwear/Under<br>Armour<br>Women's<br>Micro<br>G<br>Skulpt<br>Running<br>S<br>\",\"All/Bargain/Occasional Customers-Bargain/Footwear/Under<br>Armour<br>Women's<br>Micro<br>G<br>Skulpt<br>Running<br>S<br>\",\"All/Bargain/Bargain Customers/Footwear/Yakima<br>DoubleDown<br>Ace<br>Hitch<br>Mount<br>4-Bike<br>Rack<br>\",\"All/Bargain/Occasional Customers-Bargain/Footwear/Yakima<br>DoubleDown<br>Ace<br>Hitch<br>Mount<br>4-Bike<br>Rack<br>\",\"All/Bargain/Bargain Customers/Fitness/adidas<br>Brazuca<br>2014<br>Official<br>Match<br>Ball<br>\",\"All/Bargain/Occasional Customers-Bargain/Fitness/adidas<br>Brazuca<br>2014<br>Official<br>Match<br>Ball<br>\",\"All/Bargain/Bargain Customers/Fitness/adidas<br>Kids'<br>F5<br>Messi<br>FG<br>Soccer<br>Cleat<br>\",\"All/Bargain/Lost Customers - Bargain/Fitness/adidas<br>Kids'<br>F5<br>Messi<br>FG<br>Soccer<br>Cleat<br>\",\"All/Bargain/Occasional Customers-Bargain/Fitness/adidas<br>Kids'<br>F5<br>Messi<br>FG<br>Soccer<br>Cleat<br>\",\"All/Bargain/Bargain Customers/Fitness/adidas<br>Men's<br>F10<br>Messi<br>TRX<br>FG<br>Soccer<br>Cleat<br>\",\"All/Bargain/Lost Customers - Bargain/Fitness/adidas<br>Men's<br>F10<br>Messi<br>TRX<br>FG<br>Soccer<br>Cleat<br>\",\"All/Bargain/Occasional Customers-Bargain/Fitness/adidas<br>Men's<br>F10<br>Messi<br>TRX<br>FG<br>Soccer<br>Cleat<br>\",\"All/Bargain/Bargain Customers/Golf/adidas<br>Men's<br>Germany<br>Black<br>Crest<br>Away<br>Tee<br>\",\"All/Bargain/Lost Customers - Bargain/Golf/adidas<br>Men's<br>Germany<br>Black<br>Crest<br>Away<br>Tee<br>\",\"All/Bargain/Occasional Customers-Bargain/Golf/adidas<br>Men's<br>Germany<br>Black<br>Crest<br>Away<br>Tee<br>\",\"All/Bargain/Bargain Customers/Golf/adidas<br>Youth<br>Germany<br>Black/Red<br>Away<br>Match<br>Soc<br>\",\"All/Bargain/Lost Customers - Bargain/Golf/adidas<br>Youth<br>Germany<br>Black/Red<br>Away<br>Match<br>Soc<br>\",\"All/Bargain/Occasional Customers-Bargain/Golf/adidas<br>Youth<br>Germany<br>Black/Red<br>Away<br>Match<br>Soc<br>\",\"All/Bargain/Bargain Customers/Fan Shop/insta-bed<br>Neverflat<br>Air<br>Mattress<br>\",\"All/Bargain/Occasional Customers-Bargain/Fan Shop/insta-bed<br>Neverflat<br>Air<br>Mattress<br>\",\"All/Bargain/Bargain Customers/Apparel\",\"All/Bargain/Lost Customers - Bargain/Apparel\",\"All/Bargain/Occasional Customers-Bargain/Apparel\",\"All/Bargain/Bargain Customers/Fan Shop\",\"All/Bargain/Lost Customers - Bargain/Fan Shop\",\"All/Bargain/Occasional Customers-Bargain/Fan Shop\",\"All/Bargain/Bargain Customers/Fitness\",\"All/Bargain/Lost Customers - Bargain/Fitness\",\"All/Bargain/Occasional Customers-Bargain/Fitness\",\"All/Bargain/Bargain Customers/Footwear\",\"All/Bargain/Lost Customers - Bargain/Footwear\",\"All/Bargain/Occasional Customers-Bargain/Footwear\",\"All/Bargain/Bargain Customers/Golf\",\"All/Bargain/Lost Customers - Bargain/Golf\",\"All/Bargain/Occasional Customers-Bargain/Golf\",\"All/Bargain/Bargain Customers/Outdoors\",\"All/Bargain/Lost Customers - Bargain/Outdoors\",\"All/Bargain/Occasional Customers-Bargain/Outdoors\",\"All/Bargain/Bargain Customers\",\"All/Bargain/Lost Customers - Bargain\",\"All/Bargain/Occasional Customers-Bargain\",\"All/Bargain\",\"All\"],\"labels\":[\"Bag<br>Boy<br>Beverage<br>Holder<br>\",\"Bag<br>Boy<br>Beverage<br>Holder<br>\",\"Bag<br>Boy<br>Beverage<br>Holder<br>\",\"Bag<br>Boy<br>M330<br>Push<br>Cart<br>\",\"Bag<br>Boy<br>M330<br>Push<br>Cart<br>\",\"Bowflex<br>SelectTech<br>1090<br>Dumbbells<br>\",\"Bridgestone<br>e6<br>Straight<br>Distance<br>NFL<br>Carolina<br>\",\"Bridgestone<br>e6<br>Straight<br>Distance<br>NFL<br>Carolina<br>\",\"Bridgestone<br>e6<br>Straight<br>Distance<br>NFL<br>Carolina<br>\",\"Bridgestone<br>e6<br>Straight<br>Distance<br>NFL<br>San<br>Dieg<br>\",\"Bridgestone<br>e6<br>Straight<br>Distance<br>NFL<br>San<br>Dieg<br>\",\"Bridgestone<br>e6<br>Straight<br>Distance<br>NFL<br>San<br>Dieg<br>\",\"Bridgestone<br>e6<br>Straight<br>Distance<br>NFL<br>Tennesse<br>\",\"Bridgestone<br>e6<br>Straight<br>Distance<br>NFL<br>Tennesse<br>\",\"Bridgestone<br>e6<br>Straight<br>Distance<br>NFL<br>Tennesse<br>\",\"Brooks<br>Women's<br>Ghost<br>6<br>Running<br>Shoe<br>\",\"Brooks<br>Women's<br>Ghost<br>6<br>Running<br>Shoe<br>\",\"Bushnell<br>Pro<br>X7<br>Jolt<br>Slope<br>Rangefinder<br>\",\"Cleveland<br>Golf<br>Collegiate<br>My<br>Custom<br>Wedge<br>588<br>\",\"Cleveland<br>Golf<br>Collegiate<br>My<br>Custom<br>Wedge<br>588<br>\",\"Cleveland<br>Golf<br>Women's<br>588<br>RTX<br>CB<br>Satin<br>Chrom<br>\",\"Cleveland<br>Golf<br>Women's<br>588<br>RTX<br>CB<br>Satin<br>Chrom<br>\",\"Clicgear<br>8.0<br>Shoe<br>Brush<br>\",\"Clicgear<br>8.0<br>Shoe<br>Brush<br>\",\"Clicgear<br>8.0<br>Shoe<br>Brush<br>\",\"Clicgear<br>Rovic<br>Cooler<br>Bag<br>\",\"Clicgear<br>Rovic<br>Cooler<br>Bag<br>\",\"Clicgear<br>Rovic<br>Cooler<br>Bag<br>\",\"Columbia<br>Men's<br>PFG<br>Anchor<br>Tough<br>T-Shirt<br>\",\"Columbia<br>Men's<br>PFG<br>Anchor<br>Tough<br>T-Shirt<br>\",\"Columbia<br>Men's<br>PFG<br>Anchor<br>Tough<br>T-Shirt<br>\",\"Diamondback<br>Boys'<br>Insight<br>24<br>Performance<br>Hybr<br>\",\"Diamondback<br>Girls'<br>Clarity<br>24<br>Hybrid<br>Bike<br>201<br>\",\"Diamondback<br>Women's<br>Serene<br>Classic<br>Comfort<br>Bi<br>\",\"Diamondback<br>Women's<br>Serene<br>Classic<br>Comfort<br>Bi<br>\",\"Diamondback<br>Women's<br>Serene<br>Classic<br>Comfort<br>Bi<br>\",\"ENO<br>Atlas<br>Hammock<br>Straps<br>\",\"ENO<br>Atlas<br>Hammock<br>Straps<br>\",\"ENO<br>Atlas<br>Hammock<br>Straps<br>\",\"Elevation<br>Training<br>Mask<br>2.0<br>\",\"Elevation<br>Training<br>Mask<br>2.0<br>\",\"Field<br>&<br>Stream<br>Sportsman<br>16<br>Gun<br>Fire<br>Safe<br>\",\"Field<br>&<br>Stream<br>Sportsman<br>16<br>Gun<br>Fire<br>Safe<br>\",\"Field<br>&<br>Stream<br>Sportsman<br>16<br>Gun<br>Fire<br>Safe<br>\",\"Fitbit<br>The<br>One<br>Wireless<br>Activity<br>&<br>Sleep<br>Trac<br>\",\"Fitbit<br>The<br>One<br>Wireless<br>Activity<br>&<br>Sleep<br>Trac<br>\",\"Garmin<br>Approach<br>S3<br>Golf<br>GPS<br>Watch<br>\",\"Garmin<br>Approach<br>S3<br>Golf<br>GPS<br>Watch<br>\",\"Garmin<br>Approach<br>S4<br>Golf<br>GPS<br>Watch<br>\",\"Garmin<br>Forerunner<br>910XT<br>GPS<br>Watch<br>\",\"Glove<br>It<br>Imperial<br>Golf<br>Towel<br>\",\"Glove<br>It<br>Imperial<br>Golf<br>Towel<br>\",\"Glove<br>It<br>Imperial<br>Golf<br>Towel<br>\",\"Glove<br>It<br>Urban<br>Brick<br>Golf<br>Towel<br>\",\"Glove<br>It<br>Urban<br>Brick<br>Golf<br>Towel<br>\",\"Glove<br>It<br>Urban<br>Brick<br>Golf<br>Towel<br>\",\"Glove<br>It<br>Women's<br>Imperial<br>Golf<br>Glove<br>\",\"Glove<br>It<br>Women's<br>Imperial<br>Golf<br>Glove<br>\",\"Glove<br>It<br>Women's<br>Imperial<br>Golf<br>Glove<br>\",\"Glove<br>It<br>Women's<br>Mod<br>Oval<br>3-Zip<br>Carry<br>All<br>Gol<br>\",\"Glove<br>It<br>Women's<br>Mod<br>Oval<br>3-Zip<br>Carry<br>All<br>Gol<br>\",\"Glove<br>It<br>Women's<br>Mod<br>Oval<br>3-Zip<br>Carry<br>All<br>Gol<br>\",\"Glove<br>It<br>Women's<br>Mod<br>Oval<br>Golf<br>Glove<br>\",\"Glove<br>It<br>Women's<br>Mod<br>Oval<br>Golf<br>Glove<br>\",\"Glove<br>It<br>Women's<br>Mod<br>Oval<br>Golf<br>Glove<br>\",\"GoPro<br>HERO3+<br>Black<br>Edition<br>Camera<br>\",\"GolfBuddy<br>VT3<br>GPS<br>Watch<br>\",\"GolfBuddy<br>VT3<br>GPS<br>Watch<br>\",\"Hirzl<br>Men's<br>Hybrid<br>Golf<br>Glove<br>\",\"Hirzl<br>Men's<br>Hybrid<br>Golf<br>Glove<br>\",\"Hirzl<br>Men's<br>Hybrid<br>Golf<br>Glove<br>\",\"Hirzl<br>Women's<br>Hybrid<br>Golf<br>Glove<br>\",\"Hirzl<br>Women's<br>Hybrid<br>Golf<br>Glove<br>\",\"Hirzl<br>Women's<br>Hybrid<br>Golf<br>Glove<br>\",\"Hirzl<br>Women's<br>Soffft<br>Flex<br>Golf<br>Glove<br>\",\"Hirzl<br>Women's<br>Soffft<br>Flex<br>Golf<br>Glove<br>\",\"Hirzl<br>Women's<br>Soffft<br>Flex<br>Golf<br>Glove<br>\",\"LIJA<br>Women's<br>Argyle<br>Golf<br>Polo<br>\",\"LIJA<br>Women's<br>Argyle<br>Golf<br>Polo<br>\",\"LIJA<br>Women's<br>Button<br>Golf<br>Dress<br>\",\"LIJA<br>Women's<br>Button<br>Golf<br>Dress<br>\",\"LIJA<br>Women's<br>Eyelet<br>Sleeveless<br>Golf<br>Polo<br>\",\"LIJA<br>Women's<br>Eyelet<br>Sleeveless<br>Golf<br>Polo<br>\",\"LIJA<br>Women's<br>Eyelet<br>Sleeveless<br>Golf<br>Polo<br>\",\"LIJA<br>Women's<br>Mid-Length<br>Panel<br>Golf<br>Shorts<br>\",\"LIJA<br>Women's<br>Mid-Length<br>Panel<br>Golf<br>Shorts<br>\",\"MDGolf<br>Pittsburgh<br>Penguins<br>Putter<br>\",\"MDGolf<br>Pittsburgh<br>Penguins<br>Putter<br>\",\"Merrell<br>Men's<br>All<br>Out<br>Flash<br>Trail<br>Running<br>Sho<br>\",\"Merrell<br>Men's<br>All<br>Out<br>Flash<br>Trail<br>Running<br>Sho<br>\",\"Merrell<br>Women's<br>Grassbow<br>Sport<br>Hiking<br>Shoe<br>\",\"Merrell<br>Women's<br>Grassbow<br>Sport<br>Hiking<br>Shoe<br>\",\"Merrell<br>Women's<br>Grassbow<br>Sport<br>Waterproof<br>Hik<br>\",\"Merrell<br>Women's<br>Grassbow<br>Sport<br>Waterproof<br>Hik<br>\",\"Merrell<br>Women's<br>Siren<br>Mid<br>Waterproof<br>Hiking<br>B<br>\",\"Merrell<br>Women's<br>Siren<br>Mid<br>Waterproof<br>Hiking<br>B<br>\",\"Mio<br>ALPHA<br>Heart<br>Rate<br>Monitor/Sport<br>Watch<br>\",\"Mio<br>ALPHA<br>Heart<br>Rate<br>Monitor/Sport<br>Watch<br>\",\"Nike<br>Dri-FIT<br>Crew<br>Sock<br>6<br>Pack<br>\",\"Nike<br>Dri-FIT<br>Crew<br>Sock<br>6<br>Pack<br>\",\"Nike<br>Dri-FIT<br>Crew<br>Sock<br>6<br>Pack<br>\",\"Nike<br>Kids'<br>Grade<br>School<br>KD<br>VI<br>Basketball<br>Shoe<br>\",\"Nike<br>Kids'<br>Grade<br>School<br>KD<br>VI<br>Basketball<br>Shoe<br>\",\"Nike<br>Men's<br>CJ<br>Elite<br>2<br>TD<br>Football<br>Cleat<br>\",\"Nike<br>Men's<br>CJ<br>Elite<br>2<br>TD<br>Football<br>Cleat<br>\",\"Nike<br>Men's<br>CJ<br>Elite<br>2<br>TD<br>Football<br>Cleat<br>\",\"Nike<br>Men's<br>Comfort<br>2<br>Slide<br>\",\"Nike<br>Men's<br>Comfort<br>2<br>Slide<br>\",\"Nike<br>Men's<br>Comfort<br>2<br>Slide<br>\",\"Nike<br>Men's<br>Deutschland<br>Weltmeister<br>Winners<br>Bl<br>\",\"Nike<br>Men's<br>Deutschland<br>Weltmeister<br>Winners<br>Bl<br>\",\"Nike<br>Men's<br>Deutschland<br>Weltmeister<br>Winners<br>Bl<br>\",\"Nike<br>Men's<br>Dri-FIT<br>Victory<br>Golf<br>Polo<br>\",\"Nike<br>Men's<br>Dri-FIT<br>Victory<br>Golf<br>Polo<br>\",\"Nike<br>Men's<br>Dri-FIT<br>Victory<br>Golf<br>Polo<br>\",\"Nike<br>Men's<br>Fingertrap<br>Max<br>Training<br>Shoe<br>\",\"Nike<br>Men's<br>Fingertrap<br>Max<br>Training<br>Shoe<br>\",\"Nike<br>Men's<br>Free<br>5.0+<br>Running<br>Shoe<br>\",\"Nike<br>Men's<br>Free<br>5.0+<br>Running<br>Shoe<br>\",\"Nike<br>Men's<br>Free<br>5.0+<br>Running<br>Shoe<br>\",\"Nike<br>Men's<br>Free<br>TR<br>5.0<br>TB<br>Training<br>Shoe<br>\",\"Nike<br>Men's<br>Free<br>TR<br>5.0<br>TB<br>Training<br>Shoe<br>\",\"Nike<br>Men's<br>Kobe<br>IX<br>Elite<br>Low<br>Basketball<br>Shoe<br>\",\"Nike<br>Men's<br>Kobe<br>IX<br>Elite<br>Low<br>Basketball<br>Shoe<br>\",\"Nike<br>Women's<br>Free<br>5.0<br>TR<br>FIT<br>PRT<br>4<br>Training<br>S<br>\",\"Nike<br>Women's<br>Free<br>5.0<br>TR<br>FIT<br>PRT<br>4<br>Training<br>S<br>\",\"Nike<br>Women's<br>Legend<br>V-Neck<br>T-Shirt<br>\",\"Nike<br>Women's<br>Legend<br>V-Neck<br>T-Shirt<br>\",\"Nike<br>Women's<br>Legend<br>V-Neck<br>T-Shirt<br>\",\"Nike<br>Women's<br>Tempo<br>Shorts<br>\",\"Nike<br>Women's<br>Tempo<br>Shorts<br>\",\"Nike<br>Women's<br>Tempo<br>Shorts<br>\",\"O'Brien<br>Men's<br>Neoprene<br>Life<br>Vest<br>\",\"O'Brien<br>Men's<br>Neoprene<br>Life<br>Vest<br>\",\"O'Brien<br>Men's<br>Neoprene<br>Life<br>Vest<br>\",\"Ogio<br>Race<br>Golf<br>Shoes<br>\",\"Ogio<br>Race<br>Golf<br>Shoes<br>\",\"Pelican<br>Maverick<br>100X<br>Kayak<br>\",\"Pelican<br>Sunstream<br>100<br>Kayak<br>\",\"Pelican<br>Sunstream<br>100<br>Kayak<br>\",\"Pelican<br>Sunstream<br>100<br>Kayak<br>\",\"Perfect<br>Fitness<br>Perfect<br>Rip<br>Deck<br>\",\"Perfect<br>Fitness<br>Perfect<br>Rip<br>Deck<br>\",\"Perfect<br>Fitness<br>Perfect<br>Rip<br>Deck<br>\",\"Polar<br>FT4<br>Heart<br>Rate<br>Monitor<br>\",\"Polar<br>FT4<br>Heart<br>Rate<br>Monitor<br>\",\"Polar<br>Loop<br>Activity<br>Tracker<br>\",\"Polar<br>Loop<br>Activity<br>Tracker<br>\",\"SOLE<br>E25<br>Elliptical<br>\",\"Stiga<br>Master<br>Series<br>ST3100<br>Competition<br>Indoor<br>\",\"TYR<br>Boys'<br>Team<br>Digi<br>Jammer<br>\",\"TYR<br>Boys'<br>Team<br>Digi<br>Jammer<br>\",\"TYR<br>Boys'<br>Team<br>Digi<br>Jammer<br>\",\"TaylorMade<br>2014<br>Purelite<br>Stand<br>Bag<br>\",\"TaylorMade<br>2014<br>Purelite<br>Stand<br>Bag<br>\",\"TaylorMade<br>White<br>Smoke<br>IN-12<br>Putter<br>\",\"TaylorMade<br>White<br>Smoke<br>IN-12<br>Putter<br>\",\"TaylorMade<br>Women's<br>RBZ<br>SL<br>Rescue<br>\",\"TaylorMade<br>Women's<br>RBZ<br>SL<br>Rescue<br>\",\"Team<br>Golf<br>New<br>England<br>Patriots<br>Putter<br>Grip<br>\",\"Team<br>Golf<br>New<br>England<br>Patriots<br>Putter<br>Grip<br>\",\"Team<br>Golf<br>New<br>England<br>Patriots<br>Putter<br>Grip<br>\",\"Team<br>Golf<br>Pittsburgh<br>Steelers<br>Putter<br>Grip<br>\",\"Team<br>Golf<br>Pittsburgh<br>Steelers<br>Putter<br>Grip<br>\",\"Team<br>Golf<br>Pittsburgh<br>Steelers<br>Putter<br>Grip<br>\",\"Team<br>Golf<br>San<br>Francisco<br>Giants<br>Putter<br>Grip<br>\",\"Team<br>Golf<br>San<br>Francisco<br>Giants<br>Putter<br>Grip<br>\",\"Team<br>Golf<br>San<br>Francisco<br>Giants<br>Putter<br>Grip<br>\",\"Team<br>Golf<br>St.<br>Louis<br>Cardinals<br>Putter<br>Grip<br>\",\"Team<br>Golf<br>St.<br>Louis<br>Cardinals<br>Putter<br>Grip<br>\",\"Team<br>Golf<br>St.<br>Louis<br>Cardinals<br>Putter<br>Grip<br>\",\"Team<br>Golf<br>Tennessee<br>Volunteers<br>Putter<br>Grip<br>\",\"Team<br>Golf<br>Tennessee<br>Volunteers<br>Putter<br>Grip<br>\",\"Team<br>Golf<br>Tennessee<br>Volunteers<br>Putter<br>Grip<br>\",\"Team<br>Golf<br>Texas<br>Longhorns<br>Putter<br>Grip<br>\",\"Team<br>Golf<br>Texas<br>Longhorns<br>Putter<br>Grip<br>\",\"Team<br>Golf<br>Texas<br>Longhorns<br>Putter<br>Grip<br>\",\"The<br>North<br>Face<br>Women's<br>Recon<br>Backpack<br>\",\"The<br>North<br>Face<br>Women's<br>Recon<br>Backpack<br>\",\"Titleist<br>Club<br>Glove<br>Travel<br>Cover<br>\",\"Titleist<br>Pro<br>V1<br>High<br>Numbers<br>Personalized<br>Gol<br>\",\"Titleist<br>Pro<br>V1<br>High<br>Numbers<br>Personalized<br>Gol<br>\",\"Titleist<br>Pro<br>V1<br>High<br>Numbers<br>Personalized<br>Gol<br>\",\"Titleist<br>Pro<br>V1x<br>Golf<br>Balls<br>\",\"Titleist<br>Pro<br>V1x<br>Golf<br>Balls<br>\",\"Titleist<br>Pro<br>V1x<br>Golf<br>Balls<br>\",\"Titleist<br>Pro<br>V1x<br>High<br>Numbers<br>Golf<br>Balls<br>\",\"Titleist<br>Pro<br>V1x<br>High<br>Numbers<br>Golf<br>Balls<br>\",\"Titleist<br>Pro<br>V1x<br>High<br>Numbers<br>Golf<br>Balls<br>\",\"Titleist<br>Pro<br>V1x<br>High<br>Numbers<br>Personalized<br>Go<br>\",\"Titleist<br>Pro<br>V1x<br>High<br>Numbers<br>Personalized<br>Go<br>\",\"Titleist<br>Pro<br>V1x<br>High<br>Numbers<br>Personalized<br>Go<br>\",\"Titleist<br>Small<br>Wheeled<br>Travel<br>Cover<br>\",\"Titleist<br>Small<br>Wheeled<br>Travel<br>Cover<br>\",\"Top<br>Flite<br>Women's<br>2014<br>XL<br>Hybrid<br>\",\"Top<br>Flite<br>Women's<br>2014<br>XL<br>Hybrid<br>\",\"Top<br>Flite<br>Women's<br>2014<br>XL<br>Hybrid<br>\",\"Total<br>Gym<br>1400<br>\",\"Under<br>Armour<br>Girls'<br>Toddler<br>Spine<br>Surge<br>Runni<br>\",\"Under<br>Armour<br>Girls'<br>Toddler<br>Spine<br>Surge<br>Runni<br>\",\"Under<br>Armour<br>Girls'<br>Toddler<br>Spine<br>Surge<br>Runni<br>\",\"Under<br>Armour<br>Hustle<br>Storm<br>Medium<br>Duffle<br>Bag<br>\",\"Under<br>Armour<br>Hustle<br>Storm<br>Medium<br>Duffle<br>Bag<br>\",\"Under<br>Armour<br>Hustle<br>Storm<br>Medium<br>Duffle<br>Bag<br>\",\"Under<br>Armour<br>Kids'<br>Mercenary<br>Slide<br>\",\"Under<br>Armour<br>Kids'<br>Mercenary<br>Slide<br>\",\"Under<br>Armour<br>Kids'<br>Mercenary<br>Slide<br>\",\"Under<br>Armour<br>Men's<br>Compression<br>EV<br>SL<br>Slide<br>\",\"Under<br>Armour<br>Men's<br>Compression<br>EV<br>SL<br>Slide<br>\",\"Under<br>Armour<br>Men's<br>Compression<br>EV<br>SL<br>Slide<br>\",\"Under<br>Armour<br>Men's<br>Tech<br>II<br>T-Shirt<br>\",\"Under<br>Armour<br>Men's<br>Tech<br>II<br>T-Shirt<br>\",\"Under<br>Armour<br>Men's<br>Tech<br>II<br>T-Shirt<br>\",\"Under<br>Armour<br>Women's<br>Ignite<br>PIP<br>VI<br>Slide<br>\",\"Under<br>Armour<br>Women's<br>Ignite<br>PIP<br>VI<br>Slide<br>\",\"Under<br>Armour<br>Women's<br>Ignite<br>PIP<br>VI<br>Slide<br>\",\"Under<br>Armour<br>Women's<br>Ignite<br>Slide<br>\",\"Under<br>Armour<br>Women's<br>Ignite<br>Slide<br>\",\"Under<br>Armour<br>Women's<br>Ignite<br>Slide<br>\",\"Under<br>Armour<br>Women's<br>Micro<br>G<br>Skulpt<br>Running<br>S<br>\",\"Under<br>Armour<br>Women's<br>Micro<br>G<br>Skulpt<br>Running<br>S<br>\",\"Under<br>Armour<br>Women's<br>Micro<br>G<br>Skulpt<br>Running<br>S<br>\",\"Yakima<br>DoubleDown<br>Ace<br>Hitch<br>Mount<br>4-Bike<br>Rack<br>\",\"Yakima<br>DoubleDown<br>Ace<br>Hitch<br>Mount<br>4-Bike<br>Rack<br>\",\"adidas<br>Brazuca<br>2014<br>Official<br>Match<br>Ball<br>\",\"adidas<br>Brazuca<br>2014<br>Official<br>Match<br>Ball<br>\",\"adidas<br>Kids'<br>F5<br>Messi<br>FG<br>Soccer<br>Cleat<br>\",\"adidas<br>Kids'<br>F5<br>Messi<br>FG<br>Soccer<br>Cleat<br>\",\"adidas<br>Kids'<br>F5<br>Messi<br>FG<br>Soccer<br>Cleat<br>\",\"adidas<br>Men's<br>F10<br>Messi<br>TRX<br>FG<br>Soccer<br>Cleat<br>\",\"adidas<br>Men's<br>F10<br>Messi<br>TRX<br>FG<br>Soccer<br>Cleat<br>\",\"adidas<br>Men's<br>F10<br>Messi<br>TRX<br>FG<br>Soccer<br>Cleat<br>\",\"adidas<br>Men's<br>Germany<br>Black<br>Crest<br>Away<br>Tee<br>\",\"adidas<br>Men's<br>Germany<br>Black<br>Crest<br>Away<br>Tee<br>\",\"adidas<br>Men's<br>Germany<br>Black<br>Crest<br>Away<br>Tee<br>\",\"adidas<br>Youth<br>Germany<br>Black/Red<br>Away<br>Match<br>Soc<br>\",\"adidas<br>Youth<br>Germany<br>Black/Red<br>Away<br>Match<br>Soc<br>\",\"adidas<br>Youth<br>Germany<br>Black/Red<br>Away<br>Match<br>Soc<br>\",\"insta-bed<br>Neverflat<br>Air<br>Mattress<br>\",\"insta-bed<br>Neverflat<br>Air<br>Mattress<br>\",\"Apparel\",\"Apparel\",\"Apparel\",\"Fan Shop\",\"Fan Shop\",\"Fan Shop\",\"Fitness\",\"Fitness\",\"Fitness\",\"Footwear\",\"Footwear\",\"Footwear\",\"Golf\",\"Golf\",\"Golf\",\"Outdoors\",\"Outdoors\",\"Outdoors\",\"Bargain Customers\",\"Lost Customers - Bargain\",\"Occasional Customers-Bargain\",\"Bargain\",\"All\"],\"name\":\"\",\"parents\":[\"All/Bargain/Bargain Customers/Outdoors\",\"All/Bargain/Lost Customers - Bargain/Outdoors\",\"All/Bargain/Occasional Customers-Bargain/Outdoors\",\"All/Bargain/Bargain Customers/Outdoors\",\"All/Bargain/Occasional Customers-Bargain/Outdoors\",\"All/Bargain/Bargain Customers/Footwear\",\"All/Bargain/Bargain Customers/Outdoors\",\"All/Bargain/Lost Customers - Bargain/Outdoors\",\"All/Bargain/Occasional Customers-Bargain/Outdoors\",\"All/Bargain/Bargain Customers/Outdoors\",\"All/Bargain/Lost Customers - Bargain/Outdoors\",\"All/Bargain/Occasional Customers-Bargain/Outdoors\",\"All/Bargain/Bargain Customers/Outdoors\",\"All/Bargain/Lost Customers - Bargain/Outdoors\",\"All/Bargain/Occasional Customers-Bargain/Outdoors\",\"All/Bargain/Bargain Customers/Footwear\",\"All/Bargain/Occasional Customers-Bargain/Footwear\",\"All/Bargain/Bargain Customers/Outdoors\",\"All/Bargain/Bargain Customers/Outdoors\",\"All/Bargain/Occasional Customers-Bargain/Outdoors\",\"All/Bargain/Bargain Customers/Outdoors\",\"All/Bargain/Occasional Customers-Bargain/Outdoors\",\"All/Bargain/Bargain Customers/Outdoors\",\"All/Bargain/Lost Customers - Bargain/Outdoors\",\"All/Bargain/Occasional Customers-Bargain/Outdoors\",\"All/Bargain/Bargain Customers/Outdoors\",\"All/Bargain/Lost Customers - Bargain/Outdoors\",\"All/Bargain/Occasional Customers-Bargain/Outdoors\",\"All/Bargain/Bargain Customers/Golf\",\"All/Bargain/Lost Customers - Bargain/Golf\",\"All/Bargain/Occasional Customers-Bargain/Golf\",\"All/Bargain/Bargain Customers/Fitness\",\"All/Bargain/Bargain Customers/Fitness\",\"All/Bargain/Bargain Customers/Fan Shop\",\"All/Bargain/Lost Customers - Bargain/Fan Shop\",\"All/Bargain/Occasional Customers-Bargain/Fan Shop\",\"All/Bargain/Bargain Customers/Fan Shop\",\"All/Bargain/Lost Customers - Bargain/Fan Shop\",\"All/Bargain/Occasional Customers-Bargain/Fan Shop\",\"All/Bargain/Bargain Customers/Fitness\",\"All/Bargain/Occasional Customers-Bargain/Fitness\",\"All/Bargain/Bargain Customers/Fan Shop\",\"All/Bargain/Lost Customers - Bargain/Fan Shop\",\"All/Bargain/Occasional Customers-Bargain/Fan Shop\",\"All/Bargain/Bargain Customers/Outdoors\",\"All/Bargain/Occasional Customers-Bargain/Outdoors\",\"All/Bargain/Bargain Customers/Outdoors\",\"All/Bargain/Occasional Customers-Bargain/Outdoors\",\"All/Bargain/Bargain Customers/Outdoors\",\"All/Bargain/Bargain Customers/Outdoors\",\"All/Bargain/Bargain Customers/Outdoors\",\"All/Bargain/Lost Customers - Bargain/Outdoors\",\"All/Bargain/Occasional Customers-Bargain/Outdoors\",\"All/Bargain/Bargain Customers/Outdoors\",\"All/Bargain/Lost Customers - Bargain/Outdoors\",\"All/Bargain/Occasional Customers-Bargain/Outdoors\",\"All/Bargain/Bargain Customers/Outdoors\",\"All/Bargain/Lost Customers - Bargain/Outdoors\",\"All/Bargain/Occasional Customers-Bargain/Outdoors\",\"All/Bargain/Bargain Customers/Outdoors\",\"All/Bargain/Lost Customers - Bargain/Outdoors\",\"All/Bargain/Occasional Customers-Bargain/Outdoors\",\"All/Bargain/Bargain Customers/Outdoors\",\"All/Bargain/Lost Customers - Bargain/Outdoors\",\"All/Bargain/Occasional Customers-Bargain/Outdoors\",\"All/Bargain/Bargain Customers/Footwear\",\"All/Bargain/Bargain Customers/Outdoors\",\"All/Bargain/Occasional Customers-Bargain/Outdoors\",\"All/Bargain/Bargain Customers/Outdoors\",\"All/Bargain/Lost Customers - Bargain/Outdoors\",\"All/Bargain/Occasional Customers-Bargain/Outdoors\",\"All/Bargain/Bargain Customers/Outdoors\",\"All/Bargain/Lost Customers - Bargain/Outdoors\",\"All/Bargain/Occasional Customers-Bargain/Outdoors\",\"All/Bargain/Bargain Customers/Outdoors\",\"All/Bargain/Lost Customers - Bargain/Outdoors\",\"All/Bargain/Occasional Customers-Bargain/Outdoors\",\"All/Bargain/Bargain Customers/Outdoors\",\"All/Bargain/Occasional Customers-Bargain/Outdoors\",\"All/Bargain/Bargain Customers/Outdoors\",\"All/Bargain/Occasional Customers-Bargain/Outdoors\",\"All/Bargain/Bargain Customers/Outdoors\",\"All/Bargain/Lost Customers - Bargain/Outdoors\",\"All/Bargain/Occasional Customers-Bargain/Outdoors\",\"All/Bargain/Bargain Customers/Outdoors\",\"All/Bargain/Occasional Customers-Bargain/Outdoors\",\"All/Bargain/Bargain Customers/Outdoors\",\"All/Bargain/Occasional Customers-Bargain/Outdoors\",\"All/Bargain/Bargain Customers/Outdoors\",\"All/Bargain/Occasional Customers-Bargain/Outdoors\",\"All/Bargain/Bargain Customers/Outdoors\",\"All/Bargain/Occasional Customers-Bargain/Outdoors\",\"All/Bargain/Bargain Customers/Outdoors\",\"All/Bargain/Occasional Customers-Bargain/Outdoors\",\"All/Bargain/Bargain Customers/Outdoors\",\"All/Bargain/Occasional Customers-Bargain/Outdoors\",\"All/Bargain/Bargain Customers/Outdoors\",\"All/Bargain/Occasional Customers-Bargain/Outdoors\",\"All/Bargain/Bargain Customers/Fitness\",\"All/Bargain/Lost Customers - Bargain/Fitness\",\"All/Bargain/Occasional Customers-Bargain/Fitness\",\"All/Bargain/Bargain Customers/Fitness\",\"All/Bargain/Occasional Customers-Bargain/Fitness\",\"All/Bargain/Bargain Customers/Apparel\",\"All/Bargain/Lost Customers - Bargain/Apparel\",\"All/Bargain/Occasional Customers-Bargain/Apparel\",\"All/Bargain/Bargain Customers/Fitness\",\"All/Bargain/Lost Customers - Bargain/Fitness\",\"All/Bargain/Occasional Customers-Bargain/Fitness\",\"All/Bargain/Bargain Customers/Golf\",\"All/Bargain/Lost Customers - Bargain/Golf\",\"All/Bargain/Occasional Customers-Bargain/Golf\",\"All/Bargain/Bargain Customers/Golf\",\"All/Bargain/Lost Customers - Bargain/Golf\",\"All/Bargain/Occasional Customers-Bargain/Golf\",\"All/Bargain/Bargain Customers/Fitness\",\"All/Bargain/Occasional Customers-Bargain/Fitness\",\"All/Bargain/Bargain Customers/Footwear\",\"All/Bargain/Lost Customers - Bargain/Footwear\",\"All/Bargain/Occasional Customers-Bargain/Footwear\",\"All/Bargain/Bargain Customers/Footwear\",\"All/Bargain/Occasional Customers-Bargain/Footwear\",\"All/Bargain/Bargain Customers/Golf\",\"All/Bargain/Occasional Customers-Bargain/Golf\",\"All/Bargain/Bargain Customers/Footwear\",\"All/Bargain/Occasional Customers-Bargain/Footwear\",\"All/Bargain/Bargain Customers/Fitness\",\"All/Bargain/Lost Customers - Bargain/Fitness\",\"All/Bargain/Occasional Customers-Bargain/Fitness\",\"All/Bargain/Bargain Customers/Footwear\",\"All/Bargain/Lost Customers - Bargain/Footwear\",\"All/Bargain/Occasional Customers-Bargain/Footwear\",\"All/Bargain/Bargain Customers/Fan Shop\",\"All/Bargain/Lost Customers - Bargain/Fan Shop\",\"All/Bargain/Occasional Customers-Bargain/Fan Shop\",\"All/Bargain/Bargain Customers/Outdoors\",\"All/Bargain/Occasional Customers-Bargain/Outdoors\",\"All/Bargain/Bargain Customers/Fan Shop\",\"All/Bargain/Bargain Customers/Fan Shop\",\"All/Bargain/Lost Customers - Bargain/Fan Shop\",\"All/Bargain/Occasional Customers-Bargain/Fan Shop\",\"All/Bargain/Bargain Customers/Apparel\",\"All/Bargain/Lost Customers - Bargain/Apparel\",\"All/Bargain/Occasional Customers-Bargain/Apparel\",\"All/Bargain/Bargain Customers/Outdoors\",\"All/Bargain/Occasional Customers-Bargain/Outdoors\",\"All/Bargain/Bargain Customers/Outdoors\",\"All/Bargain/Occasional Customers-Bargain/Outdoors\",\"All/Bargain/Bargain Customers/Fitness\",\"All/Bargain/Bargain Customers/Fitness\",\"All/Bargain/Bargain Customers/Golf\",\"All/Bargain/Lost Customers - Bargain/Golf\",\"All/Bargain/Occasional Customers-Bargain/Golf\",\"All/Bargain/Bargain Customers/Outdoors\",\"All/Bargain/Occasional Customers-Bargain/Outdoors\",\"All/Bargain/Bargain Customers/Outdoors\",\"All/Bargain/Occasional Customers-Bargain/Outdoors\",\"All/Bargain/Bargain Customers/Outdoors\",\"All/Bargain/Occasional Customers-Bargain/Outdoors\",\"All/Bargain/Bargain Customers/Outdoors\",\"All/Bargain/Lost Customers - Bargain/Outdoors\",\"All/Bargain/Occasional Customers-Bargain/Outdoors\",\"All/Bargain/Bargain Customers/Outdoors\",\"All/Bargain/Lost Customers - Bargain/Outdoors\",\"All/Bargain/Occasional Customers-Bargain/Outdoors\",\"All/Bargain/Bargain Customers/Outdoors\",\"All/Bargain/Lost Customers - Bargain/Outdoors\",\"All/Bargain/Occasional Customers-Bargain/Outdoors\",\"All/Bargain/Bargain Customers/Outdoors\",\"All/Bargain/Lost Customers - Bargain/Outdoors\",\"All/Bargain/Occasional Customers-Bargain/Outdoors\",\"All/Bargain/Bargain Customers/Outdoors\",\"All/Bargain/Lost Customers - Bargain/Outdoors\",\"All/Bargain/Occasional Customers-Bargain/Outdoors\",\"All/Bargain/Bargain Customers/Outdoors\",\"All/Bargain/Lost Customers - Bargain/Outdoors\",\"All/Bargain/Occasional Customers-Bargain/Outdoors\",\"All/Bargain/Bargain Customers/Fan Shop\",\"All/Bargain/Occasional Customers-Bargain/Fan Shop\",\"All/Bargain/Bargain Customers/Outdoors\",\"All/Bargain/Bargain Customers/Outdoors\",\"All/Bargain/Lost Customers - Bargain/Outdoors\",\"All/Bargain/Occasional Customers-Bargain/Outdoors\",\"All/Bargain/Bargain Customers/Outdoors\",\"All/Bargain/Lost Customers - Bargain/Outdoors\",\"All/Bargain/Occasional Customers-Bargain/Outdoors\",\"All/Bargain/Bargain Customers/Outdoors\",\"All/Bargain/Lost Customers - Bargain/Outdoors\",\"All/Bargain/Occasional Customers-Bargain/Outdoors\",\"All/Bargain/Bargain Customers/Outdoors\",\"All/Bargain/Lost Customers - Bargain/Outdoors\",\"All/Bargain/Occasional Customers-Bargain/Outdoors\",\"All/Bargain/Bargain Customers/Outdoors\",\"All/Bargain/Occasional Customers-Bargain/Outdoors\",\"All/Bargain/Bargain Customers/Outdoors\",\"All/Bargain/Lost Customers - Bargain/Outdoors\",\"All/Bargain/Occasional Customers-Bargain/Outdoors\",\"All/Bargain/Bargain Customers/Apparel\",\"All/Bargain/Bargain Customers/Golf\",\"All/Bargain/Lost Customers - Bargain/Golf\",\"All/Bargain/Occasional Customers-Bargain/Golf\",\"All/Bargain/Bargain Customers/Footwear\",\"All/Bargain/Lost Customers - Bargain/Footwear\",\"All/Bargain/Occasional Customers-Bargain/Footwear\",\"All/Bargain/Bargain Customers/Footwear\",\"All/Bargain/Lost Customers - Bargain/Footwear\",\"All/Bargain/Occasional Customers-Bargain/Footwear\",\"All/Bargain/Bargain Customers/Footwear\",\"All/Bargain/Lost Customers - Bargain/Footwear\",\"All/Bargain/Occasional Customers-Bargain/Footwear\",\"All/Bargain/Bargain Customers/Fitness\",\"All/Bargain/Lost Customers - Bargain/Fitness\",\"All/Bargain/Occasional Customers-Bargain/Fitness\",\"All/Bargain/Bargain Customers/Footwear\",\"All/Bargain/Lost Customers - Bargain/Footwear\",\"All/Bargain/Occasional Customers-Bargain/Footwear\",\"All/Bargain/Bargain Customers/Footwear\",\"All/Bargain/Lost Customers - Bargain/Footwear\",\"All/Bargain/Occasional Customers-Bargain/Footwear\",\"All/Bargain/Bargain Customers/Footwear\",\"All/Bargain/Lost Customers - Bargain/Footwear\",\"All/Bargain/Occasional Customers-Bargain/Footwear\",\"All/Bargain/Bargain Customers/Footwear\",\"All/Bargain/Occasional Customers-Bargain/Footwear\",\"All/Bargain/Bargain Customers/Fitness\",\"All/Bargain/Occasional Customers-Bargain/Fitness\",\"All/Bargain/Bargain Customers/Fitness\",\"All/Bargain/Lost Customers - Bargain/Fitness\",\"All/Bargain/Occasional Customers-Bargain/Fitness\",\"All/Bargain/Bargain Customers/Fitness\",\"All/Bargain/Lost Customers - Bargain/Fitness\",\"All/Bargain/Occasional Customers-Bargain/Fitness\",\"All/Bargain/Bargain Customers/Golf\",\"All/Bargain/Lost Customers - Bargain/Golf\",\"All/Bargain/Occasional Customers-Bargain/Golf\",\"All/Bargain/Bargain Customers/Golf\",\"All/Bargain/Lost Customers - Bargain/Golf\",\"All/Bargain/Occasional Customers-Bargain/Golf\",\"All/Bargain/Bargain Customers/Fan Shop\",\"All/Bargain/Occasional Customers-Bargain/Fan Shop\",\"All/Bargain/Bargain Customers\",\"All/Bargain/Lost Customers - Bargain\",\"All/Bargain/Occasional Customers-Bargain\",\"All/Bargain/Bargain Customers\",\"All/Bargain/Lost Customers - Bargain\",\"All/Bargain/Occasional Customers-Bargain\",\"All/Bargain/Bargain Customers\",\"All/Bargain/Lost Customers - Bargain\",\"All/Bargain/Occasional Customers-Bargain\",\"All/Bargain/Bargain Customers\",\"All/Bargain/Lost Customers - Bargain\",\"All/Bargain/Occasional Customers-Bargain\",\"All/Bargain/Bargain Customers\",\"All/Bargain/Lost Customers - Bargain\",\"All/Bargain/Occasional Customers-Bargain\",\"All/Bargain/Bargain Customers\",\"All/Bargain/Lost Customers - Bargain\",\"All/Bargain/Occasional Customers-Bargain\",\"All/Bargain\",\"All/Bargain\",\"All/Bargain\",\"All\",\"\"],\"values\":[1425.429981,3662.14998023,1809.76999454,2582.06005489,2335.69997788,2747.9499509999996,1693.54001617,4912.35001566,2043.17997908,1695.28002171,4408.35000799,2497.59999471,1193.86999506,4801.70001211,2274.81001468,1091.58000184,1544.2299805,1145.9799804,2261.5800016,1125.5400238,1145.28999324,464.36000060000003,594.589992506,1697.429993579,753.679985001,1819.3300208,5201.24001649,2776.89003551,1946.70000843,3827.85000995,2948.09999257,1817.9299773,2432.9099577,268474.5160071,542120.8429296,298436.4269424,1538.1699962100001,5271.56996877,2449.2900255600002,1750.96997078,2554.0699922,403939.98124439997,898169.3746308,469726.6427754,1786.62995154,1864.0699769,1369.9400329999999,1717.420044,1928.9299620000002,2087.9399412000002,1108.82000255,2110.7999964,1021.42999648,921.00001048,2273.55999852,1401.66999817,1207.37998961,3887.68997002,1707.5399914,1539.38002213,2928.61001202,2056.37001045,1706.01999091,2684.14997669,1012.27999686,2943.9199216,1684.9100495,961.9500275,739.44999598,2365.26996513,1147.75998114,1330.3599843700001,2412.36998457,945.68999001,958.04000091,2798.95000266,1694.53000161,3112.79997255,601.6000061,578.8799972099999,1566.53998561,2925.980011,10053.23999405,5161.01000228,3406.0,2555.0,1455.819992,861.49001312,1790.06999954,594.4899978,1937.79997242,1564.83999632,1132.84999076,578.45000456,839.6299971999999,359.0700073,2135.2699891,748.239975,1033.56000705,2684.99001513,1744.04999155,1685.81999204,895.40998832,220102.36832528,400408.0270445,236688.21801572,4041.41003783,6228.84004178,2777.24003979,1438.3499985,5420.39999013,2380.35000216,218386.75,439425.75,247461.25,689.9399874000001,547.4499895,225255.26829198,493868.72671752,254786.79834398002,3312.13999944,887.9100037000001,1288.9300385,517.9700164999999,4866.32998677,712.4199982,829.8799973,3396.0,1812.5,1379.25000195,3517.49999616,2268.90000155,196796.93812510002,414914.68632352,222868.80785826,964.6900025,798.0999908,2491.9199216,217161.8966605,441423.493486,233655.967172,325527.3943768,597942.96761023,327753.3041436,1361.54002374,3144.24996206,772.39000696,905.98999776,1949.9799804,1478.3500212,2422.5499935,5396.22001258,2743.29002379,958.4400023999999,820.75,1774.82000722,1337.85997766,1731.44998922,557.6499863,1251.23999776,3568.02998147,1826.71999151,1273.98000133,3048.61998343,1995.4299926600002,1633.34999444,3207.68998515,1686.43999272,1944.70998933,3470.31997258,2259.5899905,1356.43998708,4621.82996338,2485.7499998,836.90999793,4034.85998323,1856.61999111,2522.51999661,1056.32999424,1370.9499663000001,2283.3900376,6437.90002439,3181.52000429,2283.09999458,6491.59002695,2521.61999901,1681.33002472,6701.77000044,3337.70001605,2900.2400474300002,7627.93001582,3639.81003977,1531.1800385,1601.1800385,1170.81999776,2700.08998111,1819.25998498,1879.4299773,92295.34071718,182264.08099528,103943.32062954,1942.97002396,5919.9100396,2246.32000341,1237.8399963,3716.07000937,2137.02998736,2747.74003196,6024.35002867,3293.4700088,1762.41999624,3862.19998146,1172.90000149,1025.89999767,3798.60000232,2549.11999524,1918.41998684,3633.38000665,3030.42001728,3864.10996622,7271.6799851,3189.06995404,1865.4299927,1016.8199920000001,1595.0899734999998,716.7500076,1835.91001877,4752.46001591,2458.7400206,3425.71007928,7026.3200306,4731.38006966,1552.87999725,3317.38999557,1495.5,3461.8499909,9161.24999611,5807.55001822,969.6800309,998.9200060000001,547509.1926793801,998350.99465473,564441.52215932,1093895.62198242,2301899.96733869,1229192.38477386,26329.87999679,27950.810084880002,19410.490100709998,256198.84815023,527750.2167853899,277662.50828606,322793.35074426,648812.94099962,367297.33068278,82321.820020136,108108.489844069,81979.209963891,2329048.713573216,4612873.419707379,2539983.445966621,9481905.579247216,9481905.579247216],\"visible\":true,\"type\":\"treemap\"},{\"branchvalues\":\"total\",\"domain\":{\"x\":[0.0,1.0],\"y\":[0.0,1.0]},\"hovertemplate\":\"labels=%{label}<br>Total_Revenue=%{value}<br>parent=%{parent}<br>id=%{id}<extra></extra>\",\"ids\":[\"All/Big spenders/Big Spenders/Outdoors/Bag<br>Boy<br>Beverage<br>Holder<br>\",\"All/Big spenders/Lost Customers - Big Spenders/Outdoors/Bag<br>Boy<br>Beverage<br>Holder<br>\",\"All/Big spenders/Occasional Customers- Big Spenders/Outdoors/Bag<br>Boy<br>Beverage<br>Holder<br>\",\"All/Big spenders/Big Spenders/Outdoors/Bag<br>Boy<br>M330<br>Push<br>Cart<br>\",\"All/Big spenders/Occasional Customers- Big Spenders/Outdoors/Bag<br>Boy<br>M330<br>Push<br>Cart<br>\",\"All/Big spenders/Big Spenders/Footwear/Bowflex<br>SelectTech<br>1090<br>Dumbbells<br>\",\"All/Big spenders/Big Spenders/Outdoors/Bridgestone<br>e6<br>Straight<br>Distance<br>NFL<br>Carolina<br>\",\"All/Big spenders/Lost Customers - Big Spenders/Outdoors/Bridgestone<br>e6<br>Straight<br>Distance<br>NFL<br>Carolina<br>\",\"All/Big spenders/Occasional Customers- Big Spenders/Outdoors/Bridgestone<br>e6<br>Straight<br>Distance<br>NFL<br>Carolina<br>\",\"All/Big spenders/Big Spenders/Outdoors/Bridgestone<br>e6<br>Straight<br>Distance<br>NFL<br>San<br>Dieg<br>\",\"All/Big spenders/Lost Customers - Big Spenders/Outdoors/Bridgestone<br>e6<br>Straight<br>Distance<br>NFL<br>San<br>Dieg<br>\",\"All/Big spenders/Occasional Customers- Big Spenders/Outdoors/Bridgestone<br>e6<br>Straight<br>Distance<br>NFL<br>San<br>Dieg<br>\",\"All/Big spenders/Big Spenders/Outdoors/Bridgestone<br>e6<br>Straight<br>Distance<br>NFL<br>Tennesse<br>\",\"All/Big spenders/Lost Customers - Big Spenders/Outdoors/Bridgestone<br>e6<br>Straight<br>Distance<br>NFL<br>Tennesse<br>\",\"All/Big spenders/Occasional Customers- Big Spenders/Outdoors/Bridgestone<br>e6<br>Straight<br>Distance<br>NFL<br>Tennesse<br>\",\"All/Big spenders/Big Spenders/Footwear/Brooks<br>Women's<br>Ghost<br>6<br>Running<br>Shoe<br>\",\"All/Big spenders/Occasional Customers- Big Spenders/Footwear/Brooks<br>Women's<br>Ghost<br>6<br>Running<br>Shoe<br>\",\"All/Big spenders/Big Spenders/Outdoors/Bushnell<br>Pro<br>X7<br>Jolt<br>Slope<br>Rangefinder<br>\",\"All/Big spenders/Big Spenders/Outdoors/Cleveland<br>Golf<br>Collegiate<br>My<br>Custom<br>Wedge<br>588<br>\",\"All/Big spenders/Occasional Customers- Big Spenders/Outdoors/Cleveland<br>Golf<br>Collegiate<br>My<br>Custom<br>Wedge<br>588<br>\",\"All/Big spenders/Big Spenders/Outdoors/Cleveland<br>Golf<br>Women's<br>588<br>RTX<br>CB<br>Satin<br>Chrom<br>\",\"All/Big spenders/Occasional Customers- Big Spenders/Outdoors/Cleveland<br>Golf<br>Women's<br>588<br>RTX<br>CB<br>Satin<br>Chrom<br>\",\"All/Big spenders/Big Spenders/Outdoors/Clicgear<br>8.0<br>Shoe<br>Brush<br>\",\"All/Big spenders/Lost Customers - Big Spenders/Outdoors/Clicgear<br>8.0<br>Shoe<br>Brush<br>\",\"All/Big spenders/Occasional Customers- Big Spenders/Outdoors/Clicgear<br>8.0<br>Shoe<br>Brush<br>\",\"All/Big spenders/Big Spenders/Outdoors/Clicgear<br>Rovic<br>Cooler<br>Bag<br>\",\"All/Big spenders/Lost Customers - Big Spenders/Outdoors/Clicgear<br>Rovic<br>Cooler<br>Bag<br>\",\"All/Big spenders/Occasional Customers- Big Spenders/Outdoors/Clicgear<br>Rovic<br>Cooler<br>Bag<br>\",\"All/Big spenders/Big Spenders/Golf/Columbia<br>Men's<br>PFG<br>Anchor<br>Tough<br>T-Shirt<br>\",\"All/Big spenders/Lost Customers - Big Spenders/Golf/Columbia<br>Men's<br>PFG<br>Anchor<br>Tough<br>T-Shirt<br>\",\"All/Big spenders/Occasional Customers- Big Spenders/Golf/Columbia<br>Men's<br>PFG<br>Anchor<br>Tough<br>T-Shirt<br>\",\"All/Big spenders/Big Spenders/Fitness/Diamondback<br>Boys'<br>Insight<br>24<br>Performance<br>Hybr<br>\",\"All/Big spenders/Big Spenders/Fitness/Diamondback<br>Girls'<br>Clarity<br>24<br>Hybrid<br>Bike<br>201<br>\",\"All/Big spenders/Big Spenders/Fan Shop/Diamondback<br>Women's<br>Serene<br>Classic<br>Comfort<br>Bi<br>\",\"All/Big spenders/Lost Customers - Big Spenders/Fan Shop/Diamondback<br>Women's<br>Serene<br>Classic<br>Comfort<br>Bi<br>\",\"All/Big spenders/Occasional Customers- Big Spenders/Fan Shop/Diamondback<br>Women's<br>Serene<br>Classic<br>Comfort<br>Bi<br>\",\"All/Big spenders/Big Spenders/Fan Shop/ENO<br>Atlas<br>Hammock<br>Straps<br>\",\"All/Big spenders/Lost Customers - Big Spenders/Fan Shop/ENO<br>Atlas<br>Hammock<br>Straps<br>\",\"All/Big spenders/Occasional Customers- Big Spenders/Fan Shop/ENO<br>Atlas<br>Hammock<br>Straps<br>\",\"All/Big spenders/Big Spenders/Fitness/Elevation<br>Training<br>Mask<br>2.0<br>\",\"All/Big spenders/Occasional Customers- Big Spenders/Fitness/Elevation<br>Training<br>Mask<br>2.0<br>\",\"All/Big spenders/Big Spenders/Fan Shop/Field<br>&<br>Stream<br>Sportsman<br>16<br>Gun<br>Fire<br>Safe<br>\",\"All/Big spenders/Lost Customers - Big Spenders/Fan Shop/Field<br>&<br>Stream<br>Sportsman<br>16<br>Gun<br>Fire<br>Safe<br>\",\"All/Big spenders/Occasional Customers- Big Spenders/Fan Shop/Field<br>&<br>Stream<br>Sportsman<br>16<br>Gun<br>Fire<br>Safe<br>\",\"All/Big spenders/Big Spenders/Outdoors/Fitbit<br>The<br>One<br>Wireless<br>Activity<br>&<br>Sleep<br>Trac<br>\",\"All/Big spenders/Occasional Customers- Big Spenders/Outdoors/Fitbit<br>The<br>One<br>Wireless<br>Activity<br>&<br>Sleep<br>Trac<br>\",\"All/Big spenders/Big Spenders/Outdoors/Garmin<br>Approach<br>S3<br>Golf<br>GPS<br>Watch<br>\",\"All/Big spenders/Occasional Customers- Big Spenders/Outdoors/Garmin<br>Approach<br>S3<br>Golf<br>GPS<br>Watch<br>\",\"All/Big spenders/Big Spenders/Outdoors/Garmin<br>Approach<br>S4<br>Golf<br>GPS<br>Watch<br>\",\"All/Big spenders/Big Spenders/Outdoors/Garmin<br>Forerunner<br>910XT<br>GPS<br>Watch<br>\",\"All/Big spenders/Big Spenders/Outdoors/Glove<br>It<br>Imperial<br>Golf<br>Towel<br>\",\"All/Big spenders/Lost Customers - Big Spenders/Outdoors/Glove<br>It<br>Imperial<br>Golf<br>Towel<br>\",\"All/Big spenders/Occasional Customers- Big Spenders/Outdoors/Glove<br>It<br>Imperial<br>Golf<br>Towel<br>\",\"All/Big spenders/Big Spenders/Outdoors/Glove<br>It<br>Urban<br>Brick<br>Golf<br>Towel<br>\",\"All/Big spenders/Lost Customers - Big Spenders/Outdoors/Glove<br>It<br>Urban<br>Brick<br>Golf<br>Towel<br>\",\"All/Big spenders/Occasional Customers- Big Spenders/Outdoors/Glove<br>It<br>Urban<br>Brick<br>Golf<br>Towel<br>\",\"All/Big spenders/Big Spenders/Outdoors/Glove<br>It<br>Women's<br>Imperial<br>Golf<br>Glove<br>\",\"All/Big spenders/Lost Customers - Big Spenders/Outdoors/Glove<br>It<br>Women's<br>Imperial<br>Golf<br>Glove<br>\",\"All/Big spenders/Occasional Customers- Big Spenders/Outdoors/Glove<br>It<br>Women's<br>Imperial<br>Golf<br>Glove<br>\",\"All/Big spenders/Big Spenders/Outdoors/Glove<br>It<br>Women's<br>Mod<br>Oval<br>3-Zip<br>Carry<br>All<br>Gol<br>\",\"All/Big spenders/Lost Customers - Big Spenders/Outdoors/Glove<br>It<br>Women's<br>Mod<br>Oval<br>3-Zip<br>Carry<br>All<br>Gol<br>\",\"All/Big spenders/Occasional Customers- Big Spenders/Outdoors/Glove<br>It<br>Women's<br>Mod<br>Oval<br>3-Zip<br>Carry<br>All<br>Gol<br>\",\"All/Big spenders/Big Spenders/Outdoors/Glove<br>It<br>Women's<br>Mod<br>Oval<br>Golf<br>Glove<br>\",\"All/Big spenders/Lost Customers - Big Spenders/Outdoors/Glove<br>It<br>Women's<br>Mod<br>Oval<br>Golf<br>Glove<br>\",\"All/Big spenders/Occasional Customers- Big Spenders/Outdoors/Glove<br>It<br>Women's<br>Mod<br>Oval<br>Golf<br>Glove<br>\",\"All/Big spenders/Big Spenders/Footwear/GoPro<br>HERO3+<br>Black<br>Edition<br>Camera<br>\",\"All/Big spenders/Big Spenders/Outdoors/GolfBuddy<br>VT3<br>GPS<br>Watch<br>\",\"All/Big spenders/Occasional Customers- Big Spenders/Outdoors/GolfBuddy<br>VT3<br>GPS<br>Watch<br>\",\"All/Big spenders/Big Spenders/Outdoors/Hirzl<br>Men's<br>Hybrid<br>Golf<br>Glove<br>\",\"All/Big spenders/Lost Customers - Big Spenders/Outdoors/Hirzl<br>Men's<br>Hybrid<br>Golf<br>Glove<br>\",\"All/Big spenders/Occasional Customers- Big Spenders/Outdoors/Hirzl<br>Men's<br>Hybrid<br>Golf<br>Glove<br>\",\"All/Big spenders/Big Spenders/Outdoors/Hirzl<br>Women's<br>Hybrid<br>Golf<br>Glove<br>\",\"All/Big spenders/Lost Customers - Big Spenders/Outdoors/Hirzl<br>Women's<br>Hybrid<br>Golf<br>Glove<br>\",\"All/Big spenders/Occasional Customers- Big Spenders/Outdoors/Hirzl<br>Women's<br>Hybrid<br>Golf<br>Glove<br>\",\"All/Big spenders/Big Spenders/Outdoors/Hirzl<br>Women's<br>Soffft<br>Flex<br>Golf<br>Glove<br>\",\"All/Big spenders/Lost Customers - Big Spenders/Outdoors/Hirzl<br>Women's<br>Soffft<br>Flex<br>Golf<br>Glove<br>\",\"All/Big spenders/Occasional Customers- Big Spenders/Outdoors/Hirzl<br>Women's<br>Soffft<br>Flex<br>Golf<br>Glove<br>\",\"All/Big spenders/Big Spenders/Outdoors/LIJA<br>Women's<br>Argyle<br>Golf<br>Polo<br>\",\"All/Big spenders/Occasional Customers- Big Spenders/Outdoors/LIJA<br>Women's<br>Argyle<br>Golf<br>Polo<br>\",\"All/Big spenders/Big Spenders/Outdoors/LIJA<br>Women's<br>Button<br>Golf<br>Dress<br>\",\"All/Big spenders/Occasional Customers- Big Spenders/Outdoors/LIJA<br>Women's<br>Button<br>Golf<br>Dress<br>\",\"All/Big spenders/Big Spenders/Outdoors/LIJA<br>Women's<br>Eyelet<br>Sleeveless<br>Golf<br>Polo<br>\",\"All/Big spenders/Lost Customers - Big Spenders/Outdoors/LIJA<br>Women's<br>Eyelet<br>Sleeveless<br>Golf<br>Polo<br>\",\"All/Big spenders/Occasional Customers- Big Spenders/Outdoors/LIJA<br>Women's<br>Eyelet<br>Sleeveless<br>Golf<br>Polo<br>\",\"All/Big spenders/Big Spenders/Outdoors/LIJA<br>Women's<br>Mid-Length<br>Panel<br>Golf<br>Shorts<br>\",\"All/Big spenders/Occasional Customers- Big Spenders/Outdoors/LIJA<br>Women's<br>Mid-Length<br>Panel<br>Golf<br>Shorts<br>\",\"All/Big spenders/Big Spenders/Outdoors/MDGolf<br>Pittsburgh<br>Penguins<br>Putter<br>\",\"All/Big spenders/Occasional Customers- Big Spenders/Outdoors/MDGolf<br>Pittsburgh<br>Penguins<br>Putter<br>\",\"All/Big spenders/Big Spenders/Outdoors/Merrell<br>Men's<br>All<br>Out<br>Flash<br>Trail<br>Running<br>Sho<br>\",\"All/Big spenders/Occasional Customers- Big Spenders/Outdoors/Merrell<br>Men's<br>All<br>Out<br>Flash<br>Trail<br>Running<br>Sho<br>\",\"All/Big spenders/Big Spenders/Outdoors/Merrell<br>Women's<br>Grassbow<br>Sport<br>Hiking<br>Shoe<br>\",\"All/Big spenders/Occasional Customers- Big Spenders/Outdoors/Merrell<br>Women's<br>Grassbow<br>Sport<br>Hiking<br>Shoe<br>\",\"All/Big spenders/Big Spenders/Outdoors/Merrell<br>Women's<br>Grassbow<br>Sport<br>Waterproof<br>Hik<br>\",\"All/Big spenders/Occasional Customers- Big Spenders/Outdoors/Merrell<br>Women's<br>Grassbow<br>Sport<br>Waterproof<br>Hik<br>\",\"All/Big spenders/Big Spenders/Outdoors/Merrell<br>Women's<br>Siren<br>Mid<br>Waterproof<br>Hiking<br>B<br>\",\"All/Big spenders/Occasional Customers- Big Spenders/Outdoors/Merrell<br>Women's<br>Siren<br>Mid<br>Waterproof<br>Hiking<br>B<br>\",\"All/Big spenders/Big Spenders/Outdoors/Mio<br>ALPHA<br>Heart<br>Rate<br>Monitor/Sport<br>Watch<br>\",\"All/Big spenders/Occasional Customers- Big Spenders/Outdoors/Mio<br>ALPHA<br>Heart<br>Rate<br>Monitor/Sport<br>Watch<br>\",\"All/Big spenders/Big Spenders/Fitness/Nike<br>Dri-FIT<br>Crew<br>Sock<br>6<br>Pack<br>\",\"All/Big spenders/Lost Customers - Big Spenders/Fitness/Nike<br>Dri-FIT<br>Crew<br>Sock<br>6<br>Pack<br>\",\"All/Big spenders/Occasional Customers- Big Spenders/Fitness/Nike<br>Dri-FIT<br>Crew<br>Sock<br>6<br>Pack<br>\",\"All/Big spenders/Big Spenders/Fitness/Nike<br>Kids'<br>Grade<br>School<br>KD<br>VI<br>Basketball<br>Shoe<br>\",\"All/Big spenders/Occasional Customers- Big Spenders/Fitness/Nike<br>Kids'<br>Grade<br>School<br>KD<br>VI<br>Basketball<br>Shoe<br>\",\"All/Big spenders/Big Spenders/Apparel/Nike<br>Men's<br>CJ<br>Elite<br>2<br>TD<br>Football<br>Cleat<br>\",\"All/Big spenders/Lost Customers - Big Spenders/Apparel/Nike<br>Men's<br>CJ<br>Elite<br>2<br>TD<br>Football<br>Cleat<br>\",\"All/Big spenders/Occasional Customers- Big Spenders/Apparel/Nike<br>Men's<br>CJ<br>Elite<br>2<br>TD<br>Football<br>Cleat<br>\",\"All/Big spenders/Big Spenders/Fitness/Nike<br>Men's<br>Comfort<br>2<br>Slide<br>\",\"All/Big spenders/Lost Customers - Big Spenders/Fitness/Nike<br>Men's<br>Comfort<br>2<br>Slide<br>\",\"All/Big spenders/Occasional Customers- Big Spenders/Fitness/Nike<br>Men's<br>Comfort<br>2<br>Slide<br>\",\"All/Big spenders/Big Spenders/Golf/Nike<br>Men's<br>Deutschland<br>Weltmeister<br>Winners<br>Bl<br>\",\"All/Big spenders/Lost Customers - Big Spenders/Golf/Nike<br>Men's<br>Deutschland<br>Weltmeister<br>Winners<br>Bl<br>\",\"All/Big spenders/Occasional Customers- Big Spenders/Golf/Nike<br>Men's<br>Deutschland<br>Weltmeister<br>Winners<br>Bl<br>\",\"All/Big spenders/Big Spenders/Golf/Nike<br>Men's<br>Dri-FIT<br>Victory<br>Golf<br>Polo<br>\",\"All/Big spenders/Lost Customers - Big Spenders/Golf/Nike<br>Men's<br>Dri-FIT<br>Victory<br>Golf<br>Polo<br>\",\"All/Big spenders/Occasional Customers- Big Spenders/Golf/Nike<br>Men's<br>Dri-FIT<br>Victory<br>Golf<br>Polo<br>\",\"All/Big spenders/Big Spenders/Fitness/Nike<br>Men's<br>Fingertrap<br>Max<br>Training<br>Shoe<br>\",\"All/Big spenders/Occasional Customers- Big Spenders/Fitness/Nike<br>Men's<br>Fingertrap<br>Max<br>Training<br>Shoe<br>\",\"All/Big spenders/Big Spenders/Footwear/Nike<br>Men's<br>Free<br>5.0+<br>Running<br>Shoe<br>\",\"All/Big spenders/Lost Customers - Big Spenders/Footwear/Nike<br>Men's<br>Free<br>5.0+<br>Running<br>Shoe<br>\",\"All/Big spenders/Occasional Customers- Big Spenders/Footwear/Nike<br>Men's<br>Free<br>5.0+<br>Running<br>Shoe<br>\",\"All/Big spenders/Big Spenders/Footwear/Nike<br>Men's<br>Free<br>TR<br>5.0<br>TB<br>Training<br>Shoe<br>\",\"All/Big spenders/Occasional Customers- Big Spenders/Footwear/Nike<br>Men's<br>Free<br>TR<br>5.0<br>TB<br>Training<br>Shoe<br>\",\"All/Big spenders/Big Spenders/Golf/Nike<br>Men's<br>Kobe<br>IX<br>Elite<br>Low<br>Basketball<br>Shoe<br>\",\"All/Big spenders/Occasional Customers- Big Spenders/Golf/Nike<br>Men's<br>Kobe<br>IX<br>Elite<br>Low<br>Basketball<br>Shoe<br>\",\"All/Big spenders/Big Spenders/Footwear/Nike<br>Women's<br>Free<br>5.0<br>TR<br>FIT<br>PRT<br>4<br>Training<br>S<br>\",\"All/Big spenders/Occasional Customers- Big Spenders/Footwear/Nike<br>Women's<br>Free<br>5.0<br>TR<br>FIT<br>PRT<br>4<br>Training<br>S<br>\",\"All/Big spenders/Big Spenders/Fitness/Nike<br>Women's<br>Legend<br>V-Neck<br>T-Shirt<br>\",\"All/Big spenders/Lost Customers - Big Spenders/Fitness/Nike<br>Women's<br>Legend<br>V-Neck<br>T-Shirt<br>\",\"All/Big spenders/Occasional Customers- Big Spenders/Fitness/Nike<br>Women's<br>Legend<br>V-Neck<br>T-Shirt<br>\",\"All/Big spenders/Big Spenders/Footwear/Nike<br>Women's<br>Tempo<br>Shorts<br>\",\"All/Big spenders/Lost Customers - Big Spenders/Footwear/Nike<br>Women's<br>Tempo<br>Shorts<br>\",\"All/Big spenders/Occasional Customers- Big Spenders/Footwear/Nike<br>Women's<br>Tempo<br>Shorts<br>\",\"All/Big spenders/Big Spenders/Fan Shop/O'Brien<br>Men's<br>Neoprene<br>Life<br>Vest<br>\",\"All/Big spenders/Lost Customers - Big Spenders/Fan Shop/O'Brien<br>Men's<br>Neoprene<br>Life<br>Vest<br>\",\"All/Big spenders/Occasional Customers- Big Spenders/Fan Shop/O'Brien<br>Men's<br>Neoprene<br>Life<br>Vest<br>\",\"All/Big spenders/Big Spenders/Outdoors/Ogio<br>Race<br>Golf<br>Shoes<br>\",\"All/Big spenders/Occasional Customers- Big Spenders/Outdoors/Ogio<br>Race<br>Golf<br>Shoes<br>\",\"All/Big spenders/Big Spenders/Fan Shop/Pelican<br>Maverick<br>100X<br>Kayak<br>\",\"All/Big spenders/Big Spenders/Fan Shop/Pelican<br>Sunstream<br>100<br>Kayak<br>\",\"All/Big spenders/Lost Customers - Big Spenders/Fan Shop/Pelican<br>Sunstream<br>100<br>Kayak<br>\",\"All/Big spenders/Occasional Customers- Big Spenders/Fan Shop/Pelican<br>Sunstream<br>100<br>Kayak<br>\",\"All/Big spenders/Big Spenders/Apparel/Perfect<br>Fitness<br>Perfect<br>Rip<br>Deck<br>\",\"All/Big spenders/Lost Customers - Big Spenders/Apparel/Perfect<br>Fitness<br>Perfect<br>Rip<br>Deck<br>\",\"All/Big spenders/Occasional Customers- Big Spenders/Apparel/Perfect<br>Fitness<br>Perfect<br>Rip<br>Deck<br>\",\"All/Big spenders/Big Spenders/Outdoors/Polar<br>FT4<br>Heart<br>Rate<br>Monitor<br>\",\"All/Big spenders/Occasional Customers- Big Spenders/Outdoors/Polar<br>FT4<br>Heart<br>Rate<br>Monitor<br>\",\"All/Big spenders/Big Spenders/Outdoors/Polar<br>Loop<br>Activity<br>Tracker<br>\",\"All/Big spenders/Occasional Customers- Big Spenders/Outdoors/Polar<br>Loop<br>Activity<br>Tracker<br>\",\"All/Big spenders/Big Spenders/Fitness/SOLE<br>E25<br>Elliptical<br>\",\"All/Big spenders/Big Spenders/Footwear/SOLE<br>E35<br>Elliptical<br>\",\"All/Big spenders/Big Spenders/Fitness/Stiga<br>Master<br>Series<br>ST3100<br>Competition<br>Indoor<br>\",\"All/Big spenders/Big Spenders/Golf/TYR<br>Boys'<br>Team<br>Digi<br>Jammer<br>\",\"All/Big spenders/Lost Customers - Big Spenders/Golf/TYR<br>Boys'<br>Team<br>Digi<br>Jammer<br>\",\"All/Big spenders/Occasional Customers- Big Spenders/Golf/TYR<br>Boys'<br>Team<br>Digi<br>Jammer<br>\",\"All/Big spenders/Big Spenders/Outdoors/TaylorMade<br>2014<br>Purelite<br>Stand<br>Bag<br>\",\"All/Big spenders/Occasional Customers- Big Spenders/Outdoors/TaylorMade<br>2014<br>Purelite<br>Stand<br>Bag<br>\",\"All/Big spenders/Big Spenders/Outdoors/TaylorMade<br>White<br>Smoke<br>IN-12<br>Putter<br>\",\"All/Big spenders/Occasional Customers- Big Spenders/Outdoors/TaylorMade<br>White<br>Smoke<br>IN-12<br>Putter<br>\",\"All/Big spenders/Big Spenders/Outdoors/TaylorMade<br>Women's<br>RBZ<br>SL<br>Rescue<br>\",\"All/Big spenders/Occasional Customers- Big Spenders/Outdoors/TaylorMade<br>Women's<br>RBZ<br>SL<br>Rescue<br>\",\"All/Big spenders/Big Spenders/Outdoors/Team<br>Golf<br>New<br>England<br>Patriots<br>Putter<br>Grip<br>\",\"All/Big spenders/Lost Customers - Big Spenders/Outdoors/Team<br>Golf<br>New<br>England<br>Patriots<br>Putter<br>Grip<br>\",\"All/Big spenders/Occasional Customers- Big Spenders/Outdoors/Team<br>Golf<br>New<br>England<br>Patriots<br>Putter<br>Grip<br>\",\"All/Big spenders/Big Spenders/Outdoors/Team<br>Golf<br>Pittsburgh<br>Steelers<br>Putter<br>Grip<br>\",\"All/Big spenders/Lost Customers - Big Spenders/Outdoors/Team<br>Golf<br>Pittsburgh<br>Steelers<br>Putter<br>Grip<br>\",\"All/Big spenders/Occasional Customers- Big Spenders/Outdoors/Team<br>Golf<br>Pittsburgh<br>Steelers<br>Putter<br>Grip<br>\",\"All/Big spenders/Big Spenders/Outdoors/Team<br>Golf<br>San<br>Francisco<br>Giants<br>Putter<br>Grip<br>\",\"All/Big spenders/Lost Customers - Big Spenders/Outdoors/Team<br>Golf<br>San<br>Francisco<br>Giants<br>Putter<br>Grip<br>\",\"All/Big spenders/Occasional Customers- Big Spenders/Outdoors/Team<br>Golf<br>San<br>Francisco<br>Giants<br>Putter<br>Grip<br>\",\"All/Big spenders/Big Spenders/Outdoors/Team<br>Golf<br>St.<br>Louis<br>Cardinals<br>Putter<br>Grip<br>\",\"All/Big spenders/Lost Customers - Big Spenders/Outdoors/Team<br>Golf<br>St.<br>Louis<br>Cardinals<br>Putter<br>Grip<br>\",\"All/Big spenders/Occasional Customers- Big Spenders/Outdoors/Team<br>Golf<br>St.<br>Louis<br>Cardinals<br>Putter<br>Grip<br>\",\"All/Big spenders/Big Spenders/Outdoors/Team<br>Golf<br>Tennessee<br>Volunteers<br>Putter<br>Grip<br>\",\"All/Big spenders/Lost Customers - Big Spenders/Outdoors/Team<br>Golf<br>Tennessee<br>Volunteers<br>Putter<br>Grip<br>\",\"All/Big spenders/Occasional Customers- Big Spenders/Outdoors/Team<br>Golf<br>Tennessee<br>Volunteers<br>Putter<br>Grip<br>\",\"All/Big spenders/Big Spenders/Outdoors/Team<br>Golf<br>Texas<br>Longhorns<br>Putter<br>Grip<br>\",\"All/Big spenders/Lost Customers - Big Spenders/Outdoors/Team<br>Golf<br>Texas<br>Longhorns<br>Putter<br>Grip<br>\",\"All/Big spenders/Occasional Customers- Big Spenders/Outdoors/Team<br>Golf<br>Texas<br>Longhorns<br>Putter<br>Grip<br>\",\"All/Big spenders/Big Spenders/Fan Shop/The<br>North<br>Face<br>Women's<br>Recon<br>Backpack<br>\",\"All/Big spenders/Occasional Customers- Big Spenders/Fan Shop/The<br>North<br>Face<br>Women's<br>Recon<br>Backpack<br>\",\"All/Big spenders/Big Spenders/Outdoors/Titleist<br>Club<br>Glove<br>Travel<br>Cover<br>\",\"All/Big spenders/Big Spenders/Outdoors/Titleist<br>Pro<br>V1<br>High<br>Numbers<br>Personalized<br>Gol<br>\",\"All/Big spenders/Lost Customers - Big Spenders/Outdoors/Titleist<br>Pro<br>V1<br>High<br>Numbers<br>Personalized<br>Gol<br>\",\"All/Big spenders/Occasional Customers- Big Spenders/Outdoors/Titleist<br>Pro<br>V1<br>High<br>Numbers<br>Personalized<br>Gol<br>\",\"All/Big spenders/Big Spenders/Outdoors/Titleist<br>Pro<br>V1x<br>Golf<br>Balls<br>\",\"All/Big spenders/Lost Customers - Big Spenders/Outdoors/Titleist<br>Pro<br>V1x<br>Golf<br>Balls<br>\",\"All/Big spenders/Occasional Customers- Big Spenders/Outdoors/Titleist<br>Pro<br>V1x<br>Golf<br>Balls<br>\",\"All/Big spenders/Big Spenders/Outdoors/Titleist<br>Pro<br>V1x<br>High<br>Numbers<br>Golf<br>Balls<br>\",\"All/Big spenders/Lost Customers - Big Spenders/Outdoors/Titleist<br>Pro<br>V1x<br>High<br>Numbers<br>Golf<br>Balls<br>\",\"All/Big spenders/Occasional Customers- Big Spenders/Outdoors/Titleist<br>Pro<br>V1x<br>High<br>Numbers<br>Golf<br>Balls<br>\",\"All/Big spenders/Big Spenders/Outdoors/Titleist<br>Pro<br>V1x<br>High<br>Numbers<br>Personalized<br>Go<br>\",\"All/Big spenders/Lost Customers - Big Spenders/Outdoors/Titleist<br>Pro<br>V1x<br>High<br>Numbers<br>Personalized<br>Go<br>\",\"All/Big spenders/Occasional Customers- Big Spenders/Outdoors/Titleist<br>Pro<br>V1x<br>High<br>Numbers<br>Personalized<br>Go<br>\",\"All/Big spenders/Big Spenders/Outdoors/Titleist<br>Small<br>Wheeled<br>Travel<br>Cover<br>\",\"All/Big spenders/Occasional Customers- Big Spenders/Outdoors/Titleist<br>Small<br>Wheeled<br>Travel<br>Cover<br>\",\"All/Big spenders/Big Spenders/Outdoors/Top<br>Flite<br>Women's<br>2014<br>XL<br>Hybrid<br>\",\"All/Big spenders/Lost Customers - Big Spenders/Outdoors/Top<br>Flite<br>Women's<br>2014<br>XL<br>Hybrid<br>\",\"All/Big spenders/Occasional Customers- Big Spenders/Outdoors/Top<br>Flite<br>Women's<br>2014<br>XL<br>Hybrid<br>\",\"All/Big spenders/Big Spenders/Apparel/Total<br>Gym<br>1400<br>\",\"All/Big spenders/Big Spenders/Golf/Under<br>Armour<br>Girls'<br>Toddler<br>Spine<br>Surge<br>Runni<br>\",\"All/Big spenders/Lost Customers - Big Spenders/Golf/Under<br>Armour<br>Girls'<br>Toddler<br>Spine<br>Surge<br>Runni<br>\",\"All/Big spenders/Occasional Customers- Big Spenders/Golf/Under<br>Armour<br>Girls'<br>Toddler<br>Spine<br>Surge<br>Runni<br>\",\"All/Big spenders/Big Spenders/Footwear/Under<br>Armour<br>Hustle<br>Storm<br>Medium<br>Duffle<br>Bag<br>\",\"All/Big spenders/Lost Customers - Big Spenders/Footwear/Under<br>Armour<br>Hustle<br>Storm<br>Medium<br>Duffle<br>Bag<br>\",\"All/Big spenders/Occasional Customers- Big Spenders/Footwear/Under<br>Armour<br>Hustle<br>Storm<br>Medium<br>Duffle<br>Bag<br>\",\"All/Big spenders/Big Spenders/Footwear/Under<br>Armour<br>Kids'<br>Mercenary<br>Slide<br>\",\"All/Big spenders/Lost Customers - Big Spenders/Footwear/Under<br>Armour<br>Kids'<br>Mercenary<br>Slide<br>\",\"All/Big spenders/Occasional Customers- Big Spenders/Footwear/Under<br>Armour<br>Kids'<br>Mercenary<br>Slide<br>\",\"All/Big spenders/Big Spenders/Footwear/Under<br>Armour<br>Men's<br>Compression<br>EV<br>SL<br>Slide<br>\",\"All/Big spenders/Lost Customers - Big Spenders/Footwear/Under<br>Armour<br>Men's<br>Compression<br>EV<br>SL<br>Slide<br>\",\"All/Big spenders/Occasional Customers- Big Spenders/Footwear/Under<br>Armour<br>Men's<br>Compression<br>EV<br>SL<br>Slide<br>\",\"All/Big spenders/Big Spenders/Fitness/Under<br>Armour<br>Men's<br>Tech<br>II<br>T-Shirt<br>\",\"All/Big spenders/Lost Customers - Big Spenders/Fitness/Under<br>Armour<br>Men's<br>Tech<br>II<br>T-Shirt<br>\",\"All/Big spenders/Occasional Customers- Big Spenders/Fitness/Under<br>Armour<br>Men's<br>Tech<br>II<br>T-Shirt<br>\",\"All/Big spenders/Big Spenders/Footwear/Under<br>Armour<br>Women's<br>Ignite<br>PIP<br>VI<br>Slide<br>\",\"All/Big spenders/Lost Customers - Big Spenders/Footwear/Under<br>Armour<br>Women's<br>Ignite<br>PIP<br>VI<br>Slide<br>\",\"All/Big spenders/Occasional Customers- Big Spenders/Footwear/Under<br>Armour<br>Women's<br>Ignite<br>PIP<br>VI<br>Slide<br>\",\"All/Big spenders/Big Spenders/Footwear/Under<br>Armour<br>Women's<br>Ignite<br>Slide<br>\",\"All/Big spenders/Lost Customers - Big Spenders/Footwear/Under<br>Armour<br>Women's<br>Ignite<br>Slide<br>\",\"All/Big spenders/Occasional Customers- Big Spenders/Footwear/Under<br>Armour<br>Women's<br>Ignite<br>Slide<br>\",\"All/Big spenders/Big Spenders/Footwear/Under<br>Armour<br>Women's<br>Micro<br>G<br>Skulpt<br>Running<br>S<br>\",\"All/Big spenders/Lost Customers - Big Spenders/Footwear/Under<br>Armour<br>Women's<br>Micro<br>G<br>Skulpt<br>Running<br>S<br>\",\"All/Big spenders/Occasional Customers- Big Spenders/Footwear/Under<br>Armour<br>Women's<br>Micro<br>G<br>Skulpt<br>Running<br>S<br>\",\"All/Big spenders/Big Spenders/Footwear/Yakima<br>DoubleDown<br>Ace<br>Hitch<br>Mount<br>4-Bike<br>Rack<br>\",\"All/Big spenders/Occasional Customers- Big Spenders/Footwear/Yakima<br>DoubleDown<br>Ace<br>Hitch<br>Mount<br>4-Bike<br>Rack<br>\",\"All/Big spenders/Big Spenders/Fitness/adidas<br>Brazuca<br>2014<br>Official<br>Match<br>Ball<br>\",\"All/Big spenders/Occasional Customers- Big Spenders/Fitness/adidas<br>Brazuca<br>2014<br>Official<br>Match<br>Ball<br>\",\"All/Big spenders/Big Spenders/Fitness/adidas<br>Kids'<br>F5<br>Messi<br>FG<br>Soccer<br>Cleat<br>\",\"All/Big spenders/Lost Customers - Big Spenders/Fitness/adidas<br>Kids'<br>F5<br>Messi<br>FG<br>Soccer<br>Cleat<br>\",\"All/Big spenders/Occasional Customers- Big Spenders/Fitness/adidas<br>Kids'<br>F5<br>Messi<br>FG<br>Soccer<br>Cleat<br>\",\"All/Big spenders/Big Spenders/Fitness/adidas<br>Men's<br>F10<br>Messi<br>TRX<br>FG<br>Soccer<br>Cleat<br>\",\"All/Big spenders/Lost Customers - Big Spenders/Fitness/adidas<br>Men's<br>F10<br>Messi<br>TRX<br>FG<br>Soccer<br>Cleat<br>\",\"All/Big spenders/Occasional Customers- Big Spenders/Fitness/adidas<br>Men's<br>F10<br>Messi<br>TRX<br>FG<br>Soccer<br>Cleat<br>\",\"All/Big spenders/Big Spenders/Golf/adidas<br>Men's<br>Germany<br>Black<br>Crest<br>Away<br>Tee<br>\",\"All/Big spenders/Lost Customers - Big Spenders/Golf/adidas<br>Men's<br>Germany<br>Black<br>Crest<br>Away<br>Tee<br>\",\"All/Big spenders/Occasional Customers- Big Spenders/Golf/adidas<br>Men's<br>Germany<br>Black<br>Crest<br>Away<br>Tee<br>\",\"All/Big spenders/Big Spenders/Golf/adidas<br>Youth<br>Germany<br>Black/Red<br>Away<br>Match<br>Soc<br>\",\"All/Big spenders/Lost Customers - Big Spenders/Golf/adidas<br>Youth<br>Germany<br>Black/Red<br>Away<br>Match<br>Soc<br>\",\"All/Big spenders/Occasional Customers- Big Spenders/Golf/adidas<br>Youth<br>Germany<br>Black/Red<br>Away<br>Match<br>Soc<br>\",\"All/Big spenders/Big Spenders/Fan Shop/insta-bed<br>Neverflat<br>Air<br>Mattress<br>\",\"All/Big spenders/Occasional Customers- Big Spenders/Fan Shop/insta-bed<br>Neverflat<br>Air<br>Mattress<br>\",\"All/Big spenders/Big Spenders/Apparel\",\"All/Big spenders/Lost Customers - Big Spenders/Apparel\",\"All/Big spenders/Occasional Customers- Big Spenders/Apparel\",\"All/Big spenders/Big Spenders/Fan Shop\",\"All/Big spenders/Lost Customers - Big Spenders/Fan Shop\",\"All/Big spenders/Occasional Customers- Big Spenders/Fan Shop\",\"All/Big spenders/Big Spenders/Fitness\",\"All/Big spenders/Lost Customers - Big Spenders/Fitness\",\"All/Big spenders/Occasional Customers- Big Spenders/Fitness\",\"All/Big spenders/Big Spenders/Footwear\",\"All/Big spenders/Lost Customers - Big Spenders/Footwear\",\"All/Big spenders/Occasional Customers- Big Spenders/Footwear\",\"All/Big spenders/Big Spenders/Golf\",\"All/Big spenders/Lost Customers - Big Spenders/Golf\",\"All/Big spenders/Occasional Customers- Big Spenders/Golf\",\"All/Big spenders/Big Spenders/Outdoors\",\"All/Big spenders/Lost Customers - Big Spenders/Outdoors\",\"All/Big spenders/Occasional Customers- Big Spenders/Outdoors\",\"All/Big spenders/Big Spenders\",\"All/Big spenders/Lost Customers - Big Spenders\",\"All/Big spenders/Occasional Customers- Big Spenders\",\"All/Big spenders\",\"All\"],\"labels\":[\"Bag<br>Boy<br>Beverage<br>Holder<br>\",\"Bag<br>Boy<br>Beverage<br>Holder<br>\",\"Bag<br>Boy<br>Beverage<br>Holder<br>\",\"Bag<br>Boy<br>M330<br>Push<br>Cart<br>\",\"Bag<br>Boy<br>M330<br>Push<br>Cart<br>\",\"Bowflex<br>SelectTech<br>1090<br>Dumbbells<br>\",\"Bridgestone<br>e6<br>Straight<br>Distance<br>NFL<br>Carolina<br>\",\"Bridgestone<br>e6<br>Straight<br>Distance<br>NFL<br>Carolina<br>\",\"Bridgestone<br>e6<br>Straight<br>Distance<br>NFL<br>Carolina<br>\",\"Bridgestone<br>e6<br>Straight<br>Distance<br>NFL<br>San<br>Dieg<br>\",\"Bridgestone<br>e6<br>Straight<br>Distance<br>NFL<br>San<br>Dieg<br>\",\"Bridgestone<br>e6<br>Straight<br>Distance<br>NFL<br>San<br>Dieg<br>\",\"Bridgestone<br>e6<br>Straight<br>Distance<br>NFL<br>Tennesse<br>\",\"Bridgestone<br>e6<br>Straight<br>Distance<br>NFL<br>Tennesse<br>\",\"Bridgestone<br>e6<br>Straight<br>Distance<br>NFL<br>Tennesse<br>\",\"Brooks<br>Women's<br>Ghost<br>6<br>Running<br>Shoe<br>\",\"Brooks<br>Women's<br>Ghost<br>6<br>Running<br>Shoe<br>\",\"Bushnell<br>Pro<br>X7<br>Jolt<br>Slope<br>Rangefinder<br>\",\"Cleveland<br>Golf<br>Collegiate<br>My<br>Custom<br>Wedge<br>588<br>\",\"Cleveland<br>Golf<br>Collegiate<br>My<br>Custom<br>Wedge<br>588<br>\",\"Cleveland<br>Golf<br>Women's<br>588<br>RTX<br>CB<br>Satin<br>Chrom<br>\",\"Cleveland<br>Golf<br>Women's<br>588<br>RTX<br>CB<br>Satin<br>Chrom<br>\",\"Clicgear<br>8.0<br>Shoe<br>Brush<br>\",\"Clicgear<br>8.0<br>Shoe<br>Brush<br>\",\"Clicgear<br>8.0<br>Shoe<br>Brush<br>\",\"Clicgear<br>Rovic<br>Cooler<br>Bag<br>\",\"Clicgear<br>Rovic<br>Cooler<br>Bag<br>\",\"Clicgear<br>Rovic<br>Cooler<br>Bag<br>\",\"Columbia<br>Men's<br>PFG<br>Anchor<br>Tough<br>T-Shirt<br>\",\"Columbia<br>Men's<br>PFG<br>Anchor<br>Tough<br>T-Shirt<br>\",\"Columbia<br>Men's<br>PFG<br>Anchor<br>Tough<br>T-Shirt<br>\",\"Diamondback<br>Boys'<br>Insight<br>24<br>Performance<br>Hybr<br>\",\"Diamondback<br>Girls'<br>Clarity<br>24<br>Hybrid<br>Bike<br>201<br>\",\"Diamondback<br>Women's<br>Serene<br>Classic<br>Comfort<br>Bi<br>\",\"Diamondback<br>Women's<br>Serene<br>Classic<br>Comfort<br>Bi<br>\",\"Diamondback<br>Women's<br>Serene<br>Classic<br>Comfort<br>Bi<br>\",\"ENO<br>Atlas<br>Hammock<br>Straps<br>\",\"ENO<br>Atlas<br>Hammock<br>Straps<br>\",\"ENO<br>Atlas<br>Hammock<br>Straps<br>\",\"Elevation<br>Training<br>Mask<br>2.0<br>\",\"Elevation<br>Training<br>Mask<br>2.0<br>\",\"Field<br>&<br>Stream<br>Sportsman<br>16<br>Gun<br>Fire<br>Safe<br>\",\"Field<br>&<br>Stream<br>Sportsman<br>16<br>Gun<br>Fire<br>Safe<br>\",\"Field<br>&<br>Stream<br>Sportsman<br>16<br>Gun<br>Fire<br>Safe<br>\",\"Fitbit<br>The<br>One<br>Wireless<br>Activity<br>&<br>Sleep<br>Trac<br>\",\"Fitbit<br>The<br>One<br>Wireless<br>Activity<br>&<br>Sleep<br>Trac<br>\",\"Garmin<br>Approach<br>S3<br>Golf<br>GPS<br>Watch<br>\",\"Garmin<br>Approach<br>S3<br>Golf<br>GPS<br>Watch<br>\",\"Garmin<br>Approach<br>S4<br>Golf<br>GPS<br>Watch<br>\",\"Garmin<br>Forerunner<br>910XT<br>GPS<br>Watch<br>\",\"Glove<br>It<br>Imperial<br>Golf<br>Towel<br>\",\"Glove<br>It<br>Imperial<br>Golf<br>Towel<br>\",\"Glove<br>It<br>Imperial<br>Golf<br>Towel<br>\",\"Glove<br>It<br>Urban<br>Brick<br>Golf<br>Towel<br>\",\"Glove<br>It<br>Urban<br>Brick<br>Golf<br>Towel<br>\",\"Glove<br>It<br>Urban<br>Brick<br>Golf<br>Towel<br>\",\"Glove<br>It<br>Women's<br>Imperial<br>Golf<br>Glove<br>\",\"Glove<br>It<br>Women's<br>Imperial<br>Golf<br>Glove<br>\",\"Glove<br>It<br>Women's<br>Imperial<br>Golf<br>Glove<br>\",\"Glove<br>It<br>Women's<br>Mod<br>Oval<br>3-Zip<br>Carry<br>All<br>Gol<br>\",\"Glove<br>It<br>Women's<br>Mod<br>Oval<br>3-Zip<br>Carry<br>All<br>Gol<br>\",\"Glove<br>It<br>Women's<br>Mod<br>Oval<br>3-Zip<br>Carry<br>All<br>Gol<br>\",\"Glove<br>It<br>Women's<br>Mod<br>Oval<br>Golf<br>Glove<br>\",\"Glove<br>It<br>Women's<br>Mod<br>Oval<br>Golf<br>Glove<br>\",\"Glove<br>It<br>Women's<br>Mod<br>Oval<br>Golf<br>Glove<br>\",\"GoPro<br>HERO3+<br>Black<br>Edition<br>Camera<br>\",\"GolfBuddy<br>VT3<br>GPS<br>Watch<br>\",\"GolfBuddy<br>VT3<br>GPS<br>Watch<br>\",\"Hirzl<br>Men's<br>Hybrid<br>Golf<br>Glove<br>\",\"Hirzl<br>Men's<br>Hybrid<br>Golf<br>Glove<br>\",\"Hirzl<br>Men's<br>Hybrid<br>Golf<br>Glove<br>\",\"Hirzl<br>Women's<br>Hybrid<br>Golf<br>Glove<br>\",\"Hirzl<br>Women's<br>Hybrid<br>Golf<br>Glove<br>\",\"Hirzl<br>Women's<br>Hybrid<br>Golf<br>Glove<br>\",\"Hirzl<br>Women's<br>Soffft<br>Flex<br>Golf<br>Glove<br>\",\"Hirzl<br>Women's<br>Soffft<br>Flex<br>Golf<br>Glove<br>\",\"Hirzl<br>Women's<br>Soffft<br>Flex<br>Golf<br>Glove<br>\",\"LIJA<br>Women's<br>Argyle<br>Golf<br>Polo<br>\",\"LIJA<br>Women's<br>Argyle<br>Golf<br>Polo<br>\",\"LIJA<br>Women's<br>Button<br>Golf<br>Dress<br>\",\"LIJA<br>Women's<br>Button<br>Golf<br>Dress<br>\",\"LIJA<br>Women's<br>Eyelet<br>Sleeveless<br>Golf<br>Polo<br>\",\"LIJA<br>Women's<br>Eyelet<br>Sleeveless<br>Golf<br>Polo<br>\",\"LIJA<br>Women's<br>Eyelet<br>Sleeveless<br>Golf<br>Polo<br>\",\"LIJA<br>Women's<br>Mid-Length<br>Panel<br>Golf<br>Shorts<br>\",\"LIJA<br>Women's<br>Mid-Length<br>Panel<br>Golf<br>Shorts<br>\",\"MDGolf<br>Pittsburgh<br>Penguins<br>Putter<br>\",\"MDGolf<br>Pittsburgh<br>Penguins<br>Putter<br>\",\"Merrell<br>Men's<br>All<br>Out<br>Flash<br>Trail<br>Running<br>Sho<br>\",\"Merrell<br>Men's<br>All<br>Out<br>Flash<br>Trail<br>Running<br>Sho<br>\",\"Merrell<br>Women's<br>Grassbow<br>Sport<br>Hiking<br>Shoe<br>\",\"Merrell<br>Women's<br>Grassbow<br>Sport<br>Hiking<br>Shoe<br>\",\"Merrell<br>Women's<br>Grassbow<br>Sport<br>Waterproof<br>Hik<br>\",\"Merrell<br>Women's<br>Grassbow<br>Sport<br>Waterproof<br>Hik<br>\",\"Merrell<br>Women's<br>Siren<br>Mid<br>Waterproof<br>Hiking<br>B<br>\",\"Merrell<br>Women's<br>Siren<br>Mid<br>Waterproof<br>Hiking<br>B<br>\",\"Mio<br>ALPHA<br>Heart<br>Rate<br>Monitor/Sport<br>Watch<br>\",\"Mio<br>ALPHA<br>Heart<br>Rate<br>Monitor/Sport<br>Watch<br>\",\"Nike<br>Dri-FIT<br>Crew<br>Sock<br>6<br>Pack<br>\",\"Nike<br>Dri-FIT<br>Crew<br>Sock<br>6<br>Pack<br>\",\"Nike<br>Dri-FIT<br>Crew<br>Sock<br>6<br>Pack<br>\",\"Nike<br>Kids'<br>Grade<br>School<br>KD<br>VI<br>Basketball<br>Shoe<br>\",\"Nike<br>Kids'<br>Grade<br>School<br>KD<br>VI<br>Basketball<br>Shoe<br>\",\"Nike<br>Men's<br>CJ<br>Elite<br>2<br>TD<br>Football<br>Cleat<br>\",\"Nike<br>Men's<br>CJ<br>Elite<br>2<br>TD<br>Football<br>Cleat<br>\",\"Nike<br>Men's<br>CJ<br>Elite<br>2<br>TD<br>Football<br>Cleat<br>\",\"Nike<br>Men's<br>Comfort<br>2<br>Slide<br>\",\"Nike<br>Men's<br>Comfort<br>2<br>Slide<br>\",\"Nike<br>Men's<br>Comfort<br>2<br>Slide<br>\",\"Nike<br>Men's<br>Deutschland<br>Weltmeister<br>Winners<br>Bl<br>\",\"Nike<br>Men's<br>Deutschland<br>Weltmeister<br>Winners<br>Bl<br>\",\"Nike<br>Men's<br>Deutschland<br>Weltmeister<br>Winners<br>Bl<br>\",\"Nike<br>Men's<br>Dri-FIT<br>Victory<br>Golf<br>Polo<br>\",\"Nike<br>Men's<br>Dri-FIT<br>Victory<br>Golf<br>Polo<br>\",\"Nike<br>Men's<br>Dri-FIT<br>Victory<br>Golf<br>Polo<br>\",\"Nike<br>Men's<br>Fingertrap<br>Max<br>Training<br>Shoe<br>\",\"Nike<br>Men's<br>Fingertrap<br>Max<br>Training<br>Shoe<br>\",\"Nike<br>Men's<br>Free<br>5.0+<br>Running<br>Shoe<br>\",\"Nike<br>Men's<br>Free<br>5.0+<br>Running<br>Shoe<br>\",\"Nike<br>Men's<br>Free<br>5.0+<br>Running<br>Shoe<br>\",\"Nike<br>Men's<br>Free<br>TR<br>5.0<br>TB<br>Training<br>Shoe<br>\",\"Nike<br>Men's<br>Free<br>TR<br>5.0<br>TB<br>Training<br>Shoe<br>\",\"Nike<br>Men's<br>Kobe<br>IX<br>Elite<br>Low<br>Basketball<br>Shoe<br>\",\"Nike<br>Men's<br>Kobe<br>IX<br>Elite<br>Low<br>Basketball<br>Shoe<br>\",\"Nike<br>Women's<br>Free<br>5.0<br>TR<br>FIT<br>PRT<br>4<br>Training<br>S<br>\",\"Nike<br>Women's<br>Free<br>5.0<br>TR<br>FIT<br>PRT<br>4<br>Training<br>S<br>\",\"Nike<br>Women's<br>Legend<br>V-Neck<br>T-Shirt<br>\",\"Nike<br>Women's<br>Legend<br>V-Neck<br>T-Shirt<br>\",\"Nike<br>Women's<br>Legend<br>V-Neck<br>T-Shirt<br>\",\"Nike<br>Women's<br>Tempo<br>Shorts<br>\",\"Nike<br>Women's<br>Tempo<br>Shorts<br>\",\"Nike<br>Women's<br>Tempo<br>Shorts<br>\",\"O'Brien<br>Men's<br>Neoprene<br>Life<br>Vest<br>\",\"O'Brien<br>Men's<br>Neoprene<br>Life<br>Vest<br>\",\"O'Brien<br>Men's<br>Neoprene<br>Life<br>Vest<br>\",\"Ogio<br>Race<br>Golf<br>Shoes<br>\",\"Ogio<br>Race<br>Golf<br>Shoes<br>\",\"Pelican<br>Maverick<br>100X<br>Kayak<br>\",\"Pelican<br>Sunstream<br>100<br>Kayak<br>\",\"Pelican<br>Sunstream<br>100<br>Kayak<br>\",\"Pelican<br>Sunstream<br>100<br>Kayak<br>\",\"Perfect<br>Fitness<br>Perfect<br>Rip<br>Deck<br>\",\"Perfect<br>Fitness<br>Perfect<br>Rip<br>Deck<br>\",\"Perfect<br>Fitness<br>Perfect<br>Rip<br>Deck<br>\",\"Polar<br>FT4<br>Heart<br>Rate<br>Monitor<br>\",\"Polar<br>FT4<br>Heart<br>Rate<br>Monitor<br>\",\"Polar<br>Loop<br>Activity<br>Tracker<br>\",\"Polar<br>Loop<br>Activity<br>Tracker<br>\",\"SOLE<br>E25<br>Elliptical<br>\",\"SOLE<br>E35<br>Elliptical<br>\",\"Stiga<br>Master<br>Series<br>ST3100<br>Competition<br>Indoor<br>\",\"TYR<br>Boys'<br>Team<br>Digi<br>Jammer<br>\",\"TYR<br>Boys'<br>Team<br>Digi<br>Jammer<br>\",\"TYR<br>Boys'<br>Team<br>Digi<br>Jammer<br>\",\"TaylorMade<br>2014<br>Purelite<br>Stand<br>Bag<br>\",\"TaylorMade<br>2014<br>Purelite<br>Stand<br>Bag<br>\",\"TaylorMade<br>White<br>Smoke<br>IN-12<br>Putter<br>\",\"TaylorMade<br>White<br>Smoke<br>IN-12<br>Putter<br>\",\"TaylorMade<br>Women's<br>RBZ<br>SL<br>Rescue<br>\",\"TaylorMade<br>Women's<br>RBZ<br>SL<br>Rescue<br>\",\"Team<br>Golf<br>New<br>England<br>Patriots<br>Putter<br>Grip<br>\",\"Team<br>Golf<br>New<br>England<br>Patriots<br>Putter<br>Grip<br>\",\"Team<br>Golf<br>New<br>England<br>Patriots<br>Putter<br>Grip<br>\",\"Team<br>Golf<br>Pittsburgh<br>Steelers<br>Putter<br>Grip<br>\",\"Team<br>Golf<br>Pittsburgh<br>Steelers<br>Putter<br>Grip<br>\",\"Team<br>Golf<br>Pittsburgh<br>Steelers<br>Putter<br>Grip<br>\",\"Team<br>Golf<br>San<br>Francisco<br>Giants<br>Putter<br>Grip<br>\",\"Team<br>Golf<br>San<br>Francisco<br>Giants<br>Putter<br>Grip<br>\",\"Team<br>Golf<br>San<br>Francisco<br>Giants<br>Putter<br>Grip<br>\",\"Team<br>Golf<br>St.<br>Louis<br>Cardinals<br>Putter<br>Grip<br>\",\"Team<br>Golf<br>St.<br>Louis<br>Cardinals<br>Putter<br>Grip<br>\",\"Team<br>Golf<br>St.<br>Louis<br>Cardinals<br>Putter<br>Grip<br>\",\"Team<br>Golf<br>Tennessee<br>Volunteers<br>Putter<br>Grip<br>\",\"Team<br>Golf<br>Tennessee<br>Volunteers<br>Putter<br>Grip<br>\",\"Team<br>Golf<br>Tennessee<br>Volunteers<br>Putter<br>Grip<br>\",\"Team<br>Golf<br>Texas<br>Longhorns<br>Putter<br>Grip<br>\",\"Team<br>Golf<br>Texas<br>Longhorns<br>Putter<br>Grip<br>\",\"Team<br>Golf<br>Texas<br>Longhorns<br>Putter<br>Grip<br>\",\"The<br>North<br>Face<br>Women's<br>Recon<br>Backpack<br>\",\"The<br>North<br>Face<br>Women's<br>Recon<br>Backpack<br>\",\"Titleist<br>Club<br>Glove<br>Travel<br>Cover<br>\",\"Titleist<br>Pro<br>V1<br>High<br>Numbers<br>Personalized<br>Gol<br>\",\"Titleist<br>Pro<br>V1<br>High<br>Numbers<br>Personalized<br>Gol<br>\",\"Titleist<br>Pro<br>V1<br>High<br>Numbers<br>Personalized<br>Gol<br>\",\"Titleist<br>Pro<br>V1x<br>Golf<br>Balls<br>\",\"Titleist<br>Pro<br>V1x<br>Golf<br>Balls<br>\",\"Titleist<br>Pro<br>V1x<br>Golf<br>Balls<br>\",\"Titleist<br>Pro<br>V1x<br>High<br>Numbers<br>Golf<br>Balls<br>\",\"Titleist<br>Pro<br>V1x<br>High<br>Numbers<br>Golf<br>Balls<br>\",\"Titleist<br>Pro<br>V1x<br>High<br>Numbers<br>Golf<br>Balls<br>\",\"Titleist<br>Pro<br>V1x<br>High<br>Numbers<br>Personalized<br>Go<br>\",\"Titleist<br>Pro<br>V1x<br>High<br>Numbers<br>Personalized<br>Go<br>\",\"Titleist<br>Pro<br>V1x<br>High<br>Numbers<br>Personalized<br>Go<br>\",\"Titleist<br>Small<br>Wheeled<br>Travel<br>Cover<br>\",\"Titleist<br>Small<br>Wheeled<br>Travel<br>Cover<br>\",\"Top<br>Flite<br>Women's<br>2014<br>XL<br>Hybrid<br>\",\"Top<br>Flite<br>Women's<br>2014<br>XL<br>Hybrid<br>\",\"Top<br>Flite<br>Women's<br>2014<br>XL<br>Hybrid<br>\",\"Total<br>Gym<br>1400<br>\",\"Under<br>Armour<br>Girls'<br>Toddler<br>Spine<br>Surge<br>Runni<br>\",\"Under<br>Armour<br>Girls'<br>Toddler<br>Spine<br>Surge<br>Runni<br>\",\"Under<br>Armour<br>Girls'<br>Toddler<br>Spine<br>Surge<br>Runni<br>\",\"Under<br>Armour<br>Hustle<br>Storm<br>Medium<br>Duffle<br>Bag<br>\",\"Under<br>Armour<br>Hustle<br>Storm<br>Medium<br>Duffle<br>Bag<br>\",\"Under<br>Armour<br>Hustle<br>Storm<br>Medium<br>Duffle<br>Bag<br>\",\"Under<br>Armour<br>Kids'<br>Mercenary<br>Slide<br>\",\"Under<br>Armour<br>Kids'<br>Mercenary<br>Slide<br>\",\"Under<br>Armour<br>Kids'<br>Mercenary<br>Slide<br>\",\"Under<br>Armour<br>Men's<br>Compression<br>EV<br>SL<br>Slide<br>\",\"Under<br>Armour<br>Men's<br>Compression<br>EV<br>SL<br>Slide<br>\",\"Under<br>Armour<br>Men's<br>Compression<br>EV<br>SL<br>Slide<br>\",\"Under<br>Armour<br>Men's<br>Tech<br>II<br>T-Shirt<br>\",\"Under<br>Armour<br>Men's<br>Tech<br>II<br>T-Shirt<br>\",\"Under<br>Armour<br>Men's<br>Tech<br>II<br>T-Shirt<br>\",\"Under<br>Armour<br>Women's<br>Ignite<br>PIP<br>VI<br>Slide<br>\",\"Under<br>Armour<br>Women's<br>Ignite<br>PIP<br>VI<br>Slide<br>\",\"Under<br>Armour<br>Women's<br>Ignite<br>PIP<br>VI<br>Slide<br>\",\"Under<br>Armour<br>Women's<br>Ignite<br>Slide<br>\",\"Under<br>Armour<br>Women's<br>Ignite<br>Slide<br>\",\"Under<br>Armour<br>Women's<br>Ignite<br>Slide<br>\",\"Under<br>Armour<br>Women's<br>Micro<br>G<br>Skulpt<br>Running<br>S<br>\",\"Under<br>Armour<br>Women's<br>Micro<br>G<br>Skulpt<br>Running<br>S<br>\",\"Under<br>Armour<br>Women's<br>Micro<br>G<br>Skulpt<br>Running<br>S<br>\",\"Yakima<br>DoubleDown<br>Ace<br>Hitch<br>Mount<br>4-Bike<br>Rack<br>\",\"Yakima<br>DoubleDown<br>Ace<br>Hitch<br>Mount<br>4-Bike<br>Rack<br>\",\"adidas<br>Brazuca<br>2014<br>Official<br>Match<br>Ball<br>\",\"adidas<br>Brazuca<br>2014<br>Official<br>Match<br>Ball<br>\",\"adidas<br>Kids'<br>F5<br>Messi<br>FG<br>Soccer<br>Cleat<br>\",\"adidas<br>Kids'<br>F5<br>Messi<br>FG<br>Soccer<br>Cleat<br>\",\"adidas<br>Kids'<br>F5<br>Messi<br>FG<br>Soccer<br>Cleat<br>\",\"adidas<br>Men's<br>F10<br>Messi<br>TRX<br>FG<br>Soccer<br>Cleat<br>\",\"adidas<br>Men's<br>F10<br>Messi<br>TRX<br>FG<br>Soccer<br>Cleat<br>\",\"adidas<br>Men's<br>F10<br>Messi<br>TRX<br>FG<br>Soccer<br>Cleat<br>\",\"adidas<br>Men's<br>Germany<br>Black<br>Crest<br>Away<br>Tee<br>\",\"adidas<br>Men's<br>Germany<br>Black<br>Crest<br>Away<br>Tee<br>\",\"adidas<br>Men's<br>Germany<br>Black<br>Crest<br>Away<br>Tee<br>\",\"adidas<br>Youth<br>Germany<br>Black/Red<br>Away<br>Match<br>Soc<br>\",\"adidas<br>Youth<br>Germany<br>Black/Red<br>Away<br>Match<br>Soc<br>\",\"adidas<br>Youth<br>Germany<br>Black/Red<br>Away<br>Match<br>Soc<br>\",\"insta-bed<br>Neverflat<br>Air<br>Mattress<br>\",\"insta-bed<br>Neverflat<br>Air<br>Mattress<br>\",\"Apparel\",\"Apparel\",\"Apparel\",\"Fan Shop\",\"Fan Shop\",\"Fan Shop\",\"Fitness\",\"Fitness\",\"Fitness\",\"Footwear\",\"Footwear\",\"Footwear\",\"Golf\",\"Golf\",\"Golf\",\"Outdoors\",\"Outdoors\",\"Outdoors\",\"Big Spenders\",\"Lost Customers - Big Spenders\",\"Occasional Customers- Big Spenders\",\"Big spenders\",\"All\"],\"name\":\"\",\"parents\":[\"All/Big spenders/Big Spenders/Outdoors\",\"All/Big spenders/Lost Customers - Big Spenders/Outdoors\",\"All/Big spenders/Occasional Customers- Big Spenders/Outdoors\",\"All/Big spenders/Big Spenders/Outdoors\",\"All/Big spenders/Occasional Customers- Big Spenders/Outdoors\",\"All/Big spenders/Big Spenders/Footwear\",\"All/Big spenders/Big Spenders/Outdoors\",\"All/Big spenders/Lost Customers - Big Spenders/Outdoors\",\"All/Big spenders/Occasional Customers- Big Spenders/Outdoors\",\"All/Big spenders/Big Spenders/Outdoors\",\"All/Big spenders/Lost Customers - Big Spenders/Outdoors\",\"All/Big spenders/Occasional Customers- Big Spenders/Outdoors\",\"All/Big spenders/Big Spenders/Outdoors\",\"All/Big spenders/Lost Customers - Big Spenders/Outdoors\",\"All/Big spenders/Occasional Customers- Big Spenders/Outdoors\",\"All/Big spenders/Big Spenders/Footwear\",\"All/Big spenders/Occasional Customers- Big Spenders/Footwear\",\"All/Big spenders/Big Spenders/Outdoors\",\"All/Big spenders/Big Spenders/Outdoors\",\"All/Big spenders/Occasional Customers- Big Spenders/Outdoors\",\"All/Big spenders/Big Spenders/Outdoors\",\"All/Big spenders/Occasional Customers- Big Spenders/Outdoors\",\"All/Big spenders/Big Spenders/Outdoors\",\"All/Big spenders/Lost Customers - Big Spenders/Outdoors\",\"All/Big spenders/Occasional Customers- Big Spenders/Outdoors\",\"All/Big spenders/Big Spenders/Outdoors\",\"All/Big spenders/Lost Customers - Big Spenders/Outdoors\",\"All/Big spenders/Occasional Customers- Big Spenders/Outdoors\",\"All/Big spenders/Big Spenders/Golf\",\"All/Big spenders/Lost Customers - Big Spenders/Golf\",\"All/Big spenders/Occasional Customers- Big Spenders/Golf\",\"All/Big spenders/Big Spenders/Fitness\",\"All/Big spenders/Big Spenders/Fitness\",\"All/Big spenders/Big Spenders/Fan Shop\",\"All/Big spenders/Lost Customers - Big Spenders/Fan Shop\",\"All/Big spenders/Occasional Customers- Big Spenders/Fan Shop\",\"All/Big spenders/Big Spenders/Fan Shop\",\"All/Big spenders/Lost Customers - Big Spenders/Fan Shop\",\"All/Big spenders/Occasional Customers- Big Spenders/Fan Shop\",\"All/Big spenders/Big Spenders/Fitness\",\"All/Big spenders/Occasional Customers- Big Spenders/Fitness\",\"All/Big spenders/Big Spenders/Fan Shop\",\"All/Big spenders/Lost Customers - Big Spenders/Fan Shop\",\"All/Big spenders/Occasional Customers- Big Spenders/Fan Shop\",\"All/Big spenders/Big Spenders/Outdoors\",\"All/Big spenders/Occasional Customers- Big Spenders/Outdoors\",\"All/Big spenders/Big Spenders/Outdoors\",\"All/Big spenders/Occasional Customers- Big Spenders/Outdoors\",\"All/Big spenders/Big Spenders/Outdoors\",\"All/Big spenders/Big Spenders/Outdoors\",\"All/Big spenders/Big Spenders/Outdoors\",\"All/Big spenders/Lost Customers - Big Spenders/Outdoors\",\"All/Big spenders/Occasional Customers- Big Spenders/Outdoors\",\"All/Big spenders/Big Spenders/Outdoors\",\"All/Big spenders/Lost Customers - Big Spenders/Outdoors\",\"All/Big spenders/Occasional Customers- Big Spenders/Outdoors\",\"All/Big spenders/Big Spenders/Outdoors\",\"All/Big spenders/Lost Customers - Big Spenders/Outdoors\",\"All/Big spenders/Occasional Customers- Big Spenders/Outdoors\",\"All/Big spenders/Big Spenders/Outdoors\",\"All/Big spenders/Lost Customers - Big Spenders/Outdoors\",\"All/Big spenders/Occasional Customers- Big Spenders/Outdoors\",\"All/Big spenders/Big Spenders/Outdoors\",\"All/Big spenders/Lost Customers - Big Spenders/Outdoors\",\"All/Big spenders/Occasional Customers- Big Spenders/Outdoors\",\"All/Big spenders/Big Spenders/Footwear\",\"All/Big spenders/Big Spenders/Outdoors\",\"All/Big spenders/Occasional Customers- Big Spenders/Outdoors\",\"All/Big spenders/Big Spenders/Outdoors\",\"All/Big spenders/Lost Customers - Big Spenders/Outdoors\",\"All/Big spenders/Occasional Customers- Big Spenders/Outdoors\",\"All/Big spenders/Big Spenders/Outdoors\",\"All/Big spenders/Lost Customers - Big Spenders/Outdoors\",\"All/Big spenders/Occasional Customers- Big Spenders/Outdoors\",\"All/Big spenders/Big Spenders/Outdoors\",\"All/Big spenders/Lost Customers - Big Spenders/Outdoors\",\"All/Big spenders/Occasional Customers- Big Spenders/Outdoors\",\"All/Big spenders/Big Spenders/Outdoors\",\"All/Big spenders/Occasional Customers- Big Spenders/Outdoors\",\"All/Big spenders/Big Spenders/Outdoors\",\"All/Big spenders/Occasional Customers- Big Spenders/Outdoors\",\"All/Big spenders/Big Spenders/Outdoors\",\"All/Big spenders/Lost Customers - Big Spenders/Outdoors\",\"All/Big spenders/Occasional Customers- Big Spenders/Outdoors\",\"All/Big spenders/Big Spenders/Outdoors\",\"All/Big spenders/Occasional Customers- Big Spenders/Outdoors\",\"All/Big spenders/Big Spenders/Outdoors\",\"All/Big spenders/Occasional Customers- Big Spenders/Outdoors\",\"All/Big spenders/Big Spenders/Outdoors\",\"All/Big spenders/Occasional Customers- Big Spenders/Outdoors\",\"All/Big spenders/Big Spenders/Outdoors\",\"All/Big spenders/Occasional Customers- Big Spenders/Outdoors\",\"All/Big spenders/Big Spenders/Outdoors\",\"All/Big spenders/Occasional Customers- Big Spenders/Outdoors\",\"All/Big spenders/Big Spenders/Outdoors\",\"All/Big spenders/Occasional Customers- Big Spenders/Outdoors\",\"All/Big spenders/Big Spenders/Outdoors\",\"All/Big spenders/Occasional Customers- Big Spenders/Outdoors\",\"All/Big spenders/Big Spenders/Fitness\",\"All/Big spenders/Lost Customers - Big Spenders/Fitness\",\"All/Big spenders/Occasional Customers- Big Spenders/Fitness\",\"All/Big spenders/Big Spenders/Fitness\",\"All/Big spenders/Occasional Customers- Big Spenders/Fitness\",\"All/Big spenders/Big Spenders/Apparel\",\"All/Big spenders/Lost Customers - Big Spenders/Apparel\",\"All/Big spenders/Occasional Customers- Big Spenders/Apparel\",\"All/Big spenders/Big Spenders/Fitness\",\"All/Big spenders/Lost Customers - Big Spenders/Fitness\",\"All/Big spenders/Occasional Customers- Big Spenders/Fitness\",\"All/Big spenders/Big Spenders/Golf\",\"All/Big spenders/Lost Customers - Big Spenders/Golf\",\"All/Big spenders/Occasional Customers- Big Spenders/Golf\",\"All/Big spenders/Big Spenders/Golf\",\"All/Big spenders/Lost Customers - Big Spenders/Golf\",\"All/Big spenders/Occasional Customers- Big Spenders/Golf\",\"All/Big spenders/Big Spenders/Fitness\",\"All/Big spenders/Occasional Customers- Big Spenders/Fitness\",\"All/Big spenders/Big Spenders/Footwear\",\"All/Big spenders/Lost Customers - Big Spenders/Footwear\",\"All/Big spenders/Occasional Customers- Big Spenders/Footwear\",\"All/Big spenders/Big Spenders/Footwear\",\"All/Big spenders/Occasional Customers- Big Spenders/Footwear\",\"All/Big spenders/Big Spenders/Golf\",\"All/Big spenders/Occasional Customers- Big Spenders/Golf\",\"All/Big spenders/Big Spenders/Footwear\",\"All/Big spenders/Occasional Customers- Big Spenders/Footwear\",\"All/Big spenders/Big Spenders/Fitness\",\"All/Big spenders/Lost Customers - Big Spenders/Fitness\",\"All/Big spenders/Occasional Customers- Big Spenders/Fitness\",\"All/Big spenders/Big Spenders/Footwear\",\"All/Big spenders/Lost Customers - Big Spenders/Footwear\",\"All/Big spenders/Occasional Customers- Big Spenders/Footwear\",\"All/Big spenders/Big Spenders/Fan Shop\",\"All/Big spenders/Lost Customers - Big Spenders/Fan Shop\",\"All/Big spenders/Occasional Customers- Big Spenders/Fan Shop\",\"All/Big spenders/Big Spenders/Outdoors\",\"All/Big spenders/Occasional Customers- Big Spenders/Outdoors\",\"All/Big spenders/Big Spenders/Fan Shop\",\"All/Big spenders/Big Spenders/Fan Shop\",\"All/Big spenders/Lost Customers - Big Spenders/Fan Shop\",\"All/Big spenders/Occasional Customers- Big Spenders/Fan Shop\",\"All/Big spenders/Big Spenders/Apparel\",\"All/Big spenders/Lost Customers - Big Spenders/Apparel\",\"All/Big spenders/Occasional Customers- Big Spenders/Apparel\",\"All/Big spenders/Big Spenders/Outdoors\",\"All/Big spenders/Occasional Customers- Big Spenders/Outdoors\",\"All/Big spenders/Big Spenders/Outdoors\",\"All/Big spenders/Occasional Customers- Big Spenders/Outdoors\",\"All/Big spenders/Big Spenders/Fitness\",\"All/Big spenders/Big Spenders/Footwear\",\"All/Big spenders/Big Spenders/Fitness\",\"All/Big spenders/Big Spenders/Golf\",\"All/Big spenders/Lost Customers - Big Spenders/Golf\",\"All/Big spenders/Occasional Customers- Big Spenders/Golf\",\"All/Big spenders/Big Spenders/Outdoors\",\"All/Big spenders/Occasional Customers- Big Spenders/Outdoors\",\"All/Big spenders/Big Spenders/Outdoors\",\"All/Big spenders/Occasional Customers- Big Spenders/Outdoors\",\"All/Big spenders/Big Spenders/Outdoors\",\"All/Big spenders/Occasional Customers- Big Spenders/Outdoors\",\"All/Big spenders/Big Spenders/Outdoors\",\"All/Big spenders/Lost Customers - Big Spenders/Outdoors\",\"All/Big spenders/Occasional Customers- Big Spenders/Outdoors\",\"All/Big spenders/Big Spenders/Outdoors\",\"All/Big spenders/Lost Customers - Big Spenders/Outdoors\",\"All/Big spenders/Occasional Customers- Big Spenders/Outdoors\",\"All/Big spenders/Big Spenders/Outdoors\",\"All/Big spenders/Lost Customers - Big Spenders/Outdoors\",\"All/Big spenders/Occasional Customers- Big Spenders/Outdoors\",\"All/Big spenders/Big Spenders/Outdoors\",\"All/Big spenders/Lost Customers - Big Spenders/Outdoors\",\"All/Big spenders/Occasional Customers- Big Spenders/Outdoors\",\"All/Big spenders/Big Spenders/Outdoors\",\"All/Big spenders/Lost Customers - Big Spenders/Outdoors\",\"All/Big spenders/Occasional Customers- Big Spenders/Outdoors\",\"All/Big spenders/Big Spenders/Outdoors\",\"All/Big spenders/Lost Customers - Big Spenders/Outdoors\",\"All/Big spenders/Occasional Customers- Big Spenders/Outdoors\",\"All/Big spenders/Big Spenders/Fan Shop\",\"All/Big spenders/Occasional Customers- Big Spenders/Fan Shop\",\"All/Big spenders/Big Spenders/Outdoors\",\"All/Big spenders/Big Spenders/Outdoors\",\"All/Big spenders/Lost Customers - Big Spenders/Outdoors\",\"All/Big spenders/Occasional Customers- Big Spenders/Outdoors\",\"All/Big spenders/Big Spenders/Outdoors\",\"All/Big spenders/Lost Customers - Big Spenders/Outdoors\",\"All/Big spenders/Occasional Customers- Big Spenders/Outdoors\",\"All/Big spenders/Big Spenders/Outdoors\",\"All/Big spenders/Lost Customers - Big Spenders/Outdoors\",\"All/Big spenders/Occasional Customers- Big Spenders/Outdoors\",\"All/Big spenders/Big Spenders/Outdoors\",\"All/Big spenders/Lost Customers - Big Spenders/Outdoors\",\"All/Big spenders/Occasional Customers- Big Spenders/Outdoors\",\"All/Big spenders/Big Spenders/Outdoors\",\"All/Big spenders/Occasional Customers- Big Spenders/Outdoors\",\"All/Big spenders/Big Spenders/Outdoors\",\"All/Big spenders/Lost Customers - Big Spenders/Outdoors\",\"All/Big spenders/Occasional Customers- Big Spenders/Outdoors\",\"All/Big spenders/Big Spenders/Apparel\",\"All/Big spenders/Big Spenders/Golf\",\"All/Big spenders/Lost Customers - Big Spenders/Golf\",\"All/Big spenders/Occasional Customers- Big Spenders/Golf\",\"All/Big spenders/Big Spenders/Footwear\",\"All/Big spenders/Lost Customers - Big Spenders/Footwear\",\"All/Big spenders/Occasional Customers- Big Spenders/Footwear\",\"All/Big spenders/Big Spenders/Footwear\",\"All/Big spenders/Lost Customers - Big Spenders/Footwear\",\"All/Big spenders/Occasional Customers- Big Spenders/Footwear\",\"All/Big spenders/Big Spenders/Footwear\",\"All/Big spenders/Lost Customers - Big Spenders/Footwear\",\"All/Big spenders/Occasional Customers- Big Spenders/Footwear\",\"All/Big spenders/Big Spenders/Fitness\",\"All/Big spenders/Lost Customers - Big Spenders/Fitness\",\"All/Big spenders/Occasional Customers- Big Spenders/Fitness\",\"All/Big spenders/Big Spenders/Footwear\",\"All/Big spenders/Lost Customers - Big Spenders/Footwear\",\"All/Big spenders/Occasional Customers- Big Spenders/Footwear\",\"All/Big spenders/Big Spenders/Footwear\",\"All/Big spenders/Lost Customers - Big Spenders/Footwear\",\"All/Big spenders/Occasional Customers- Big Spenders/Footwear\",\"All/Big spenders/Big Spenders/Footwear\",\"All/Big spenders/Lost Customers - Big Spenders/Footwear\",\"All/Big spenders/Occasional Customers- Big Spenders/Footwear\",\"All/Big spenders/Big Spenders/Footwear\",\"All/Big spenders/Occasional Customers- Big Spenders/Footwear\",\"All/Big spenders/Big Spenders/Fitness\",\"All/Big spenders/Occasional Customers- Big Spenders/Fitness\",\"All/Big spenders/Big Spenders/Fitness\",\"All/Big spenders/Lost Customers - Big Spenders/Fitness\",\"All/Big spenders/Occasional Customers- Big Spenders/Fitness\",\"All/Big spenders/Big Spenders/Fitness\",\"All/Big spenders/Lost Customers - Big Spenders/Fitness\",\"All/Big spenders/Occasional Customers- Big Spenders/Fitness\",\"All/Big spenders/Big Spenders/Golf\",\"All/Big spenders/Lost Customers - Big Spenders/Golf\",\"All/Big spenders/Occasional Customers- Big Spenders/Golf\",\"All/Big spenders/Big Spenders/Golf\",\"All/Big spenders/Lost Customers - Big Spenders/Golf\",\"All/Big spenders/Occasional Customers- Big Spenders/Golf\",\"All/Big spenders/Big Spenders/Fan Shop\",\"All/Big spenders/Occasional Customers- Big Spenders/Fan Shop\",\"All/Big spenders/Big Spenders\",\"All/Big spenders/Lost Customers - Big Spenders\",\"All/Big spenders/Occasional Customers- Big Spenders\",\"All/Big spenders/Big Spenders\",\"All/Big spenders/Lost Customers - Big Spenders\",\"All/Big spenders/Occasional Customers- Big Spenders\",\"All/Big spenders/Big Spenders\",\"All/Big spenders/Lost Customers - Big Spenders\",\"All/Big spenders/Occasional Customers- Big Spenders\",\"All/Big spenders/Big Spenders\",\"All/Big spenders/Lost Customers - Big Spenders\",\"All/Big spenders/Occasional Customers- Big Spenders\",\"All/Big spenders/Big Spenders\",\"All/Big spenders/Lost Customers - Big Spenders\",\"All/Big spenders/Occasional Customers- Big Spenders\",\"All/Big spenders/Big Spenders\",\"All/Big spenders/Lost Customers - Big Spenders\",\"All/Big spenders/Occasional Customers- Big Spenders\",\"All/Big spenders\",\"All/Big spenders\",\"All/Big spenders\",\"All\",\"\"],\"values\":[3812.58998072,1994.30998789,3434.999996,4374.23999036,1914.15000155,1973.9599608,5967.69996635,2099.949993,4473.76999266,4816.70001599,2955.52999873,5456.03001204,3783.10998531,2251.10999872,4073.39998834,6369.93006875,3510.4900057,2606.949951,4298.4700164,1717.7100067,1988.21997054,1434.46997843,1424.3899917210001,652.4499978700001,1578.1699895020001,7187.95005959,3146.0100152600003,5345.64002925,4942.20001783,2285.69999701,4411.80001835,3754.3599393000004,3581.8699185,891204.2717664,347225.0387916,717680.2568705999,4351.7000022,2664.30002203,4983.6899795,5930.41992236,3474.77999889,1571805.1627672,589446.136157,1248176.4245692,6459.27995332,1888.0599823,7320.930176,1332.4400329999999,5704.2898707,6775.8098138000005,2896.29999829,1178.1299944,2616.58999347,2110.86998653,1213.95999432,2427.95999623,3852.11996271,1342.70999145,2337.29998968,3338.82001104,1788.09001345,3178.9599971000002,2547.77996446,987.20999529,2963.07997132,7969.779784400001,4247.760131999999,1227.9300385,2699.12997721,650.24998663,2027.31998056,1950.98997685,685.60998725,2191.71996969,2465.68001176,1444.6700000600001,3070.92000293,4877.99998474,2589.60001373,2808.53999337,808.91999812,10669.11001219,7721.68001173,10392.84999468,6471.5,2478.5,3355.17996238,1791.36000068,3069.23998242,1035.53999324,8001.6799542,3331.6599655600003,2502.2899859,980.7699888999999,2333.2900009,2102.4599912,3935.2300112,1818.8599854,3527.69998741,1779.58001527,2523.18000593,6217.37995904,2934.68000026,581833.45562184,200870.44852686,451401.40691936,8774.83005463,3765.43002293,7754.66007197,4191.60000243,2209.49999226,4354.5000153,661063.75,219314.5,509579.0,2484.78996336,1013.65998102,811603.4140055,304481.83834734,639529.60649314,5437.95999132,3088.17996214,3561.80011,2192.8800659999997,5498.01995856,2429.84999084,3601.25999641,1120.25,3806.76999287,6206.09999069,2666.6999837,3780.29999726,596017.56470072,217468.52792522,459276.96583024,3679.4100264,1682.0400009,7568.509764800001,643788.199701,223453.52686399998,501853.19530099997,927003.99221887,332209.68463537,723684.26018551,4876.09000416,2824.32998669,1944.47000895,489.83000948,5604.9399412,26409.84985,2430.3699948,6497.77009167,3093.18001154,5182.30004459,3572.7800445,1620.8000029,8211.14991772,2485.24997708,2655.66995222,1295.9899902,3131.57997292,1758.0199889,4000.98998805,4695.1899791900005,2145.62000078,3488.20997575,3830.40997481,1515.3699912,3608.11998714,3615.74998456,2447.38999167,4296.12998544,3365.7499806,1933.08999436,3167.20997972,4059.82998248,2179.52999493,3506.3299997100003,5999.89994819,2904.6600036,4642.3199766,9297.08002876,4072.85002518,7818.47000523,6851.01994701,4960.69003672,7765.18997586,7008.17002475,2326.06997675,6997.61000067,10016.88001643,4354.11002745,7102.83008186,4442.30011,1871.170044,3415.43997196,1181.77998922,2824.80999562,6299.7698664,253379.61141187,91753.28038263001,197161.76124781,6188.84002607,2612.5200001900002,4560.95001784,3908.07001891,1265.13999943,3376.9800033,6952.280089700001,2806.9100114000003,5963.6500471,3402.2199800400003,1593.35998904,2981.88997235,5697.51000411,2040.62000844,4268.38002394,6433.59003852,1639.95999907,4892.34001723,7737.57001892,3634.6099892800003,8410.67003258,3705.3600004,1115.0999755,3985.3200147,916.7399902,4753.92008768,2303.7400209,4722.74002028,9295.100147430001,5977.7001189600005,11744.220108290001,3689.12999916,1759.37999725,4041.50999646,12818.05000321,6798.39999392,13012.29999924,3512.7400669999997,382.47000130000004,1515137.2177071099,533080.13316223,1175085.66710487,3724248.04871751,1380257.52975985,2935257.66255544,67344.47990686,16540.0601671,41873.32014206,912092.23380665,321148.29833885,684926.49656657,950143.91163617,327213.94037461,739936.0513877501,233965.429553971,58986.18998321,148866.449867062,7402931.321328271,2637226.15178585,5725945.647623752,15766103.120737873,15766103.120737873],\"visible\":false,\"type\":\"treemap\"},{\"branchvalues\":\"total\",\"domain\":{\"x\":[0.0,1.0],\"y\":[0.0,1.0]},\"hovertemplate\":\"labels=%{label}<br>Total_Revenue=%{value}<br>parent=%{parent}<br>id=%{id}<extra></extra>\",\"ids\":[\"All/Loyal/Lost/Almost Lost Customers - Loyal/Outdoors/Bag<br>Boy<br>Beverage<br>Holder<br>\",\"All/Loyal/Loyal Customers/Outdoors/Bag<br>Boy<br>Beverage<br>Holder<br>\",\"All/Loyal/Lost/Almost Lost Customers - Loyal/Outdoors/Bag<br>Boy<br>M330<br>Push<br>Cart<br>\",\"All/Loyal/Loyal Customers/Outdoors/Bag<br>Boy<br>M330<br>Push<br>Cart<br>\",\"All/Loyal/Lost/Almost Lost Customers - Loyal/Outdoors/Bridgestone<br>e6<br>Straight<br>Distance<br>NFL<br>Carolina<br>\",\"All/Loyal/Loyal Customers/Outdoors/Bridgestone<br>e6<br>Straight<br>Distance<br>NFL<br>Carolina<br>\",\"All/Loyal/Lost/Almost Lost Customers - Loyal/Outdoors/Bridgestone<br>e6<br>Straight<br>Distance<br>NFL<br>San<br>Dieg<br>\",\"All/Loyal/Loyal Customers/Outdoors/Bridgestone<br>e6<br>Straight<br>Distance<br>NFL<br>San<br>Dieg<br>\",\"All/Loyal/Lost/Almost Lost Customers - Loyal/Outdoors/Bridgestone<br>e6<br>Straight<br>Distance<br>NFL<br>Tennesse<br>\",\"All/Loyal/Loyal Customers/Outdoors/Bridgestone<br>e6<br>Straight<br>Distance<br>NFL<br>Tennesse<br>\",\"All/Loyal/Lost/Almost Lost Customers - Loyal/Footwear/Brooks<br>Women's<br>Ghost<br>6<br>Running<br>Shoe<br>\",\"All/Loyal/Loyal Customers/Footwear/Brooks<br>Women's<br>Ghost<br>6<br>Running<br>Shoe<br>\",\"All/Loyal/Loyal Customers/Outdoors/Cleveland<br>Golf<br>Collegiate<br>My<br>Custom<br>Wedge<br>588<br>\",\"All/Loyal/Lost/Almost Lost Customers - Loyal/Outdoors/Cleveland<br>Golf<br>Women's<br>588<br>RTX<br>CB<br>Satin<br>Chrom<br>\",\"All/Loyal/Loyal Customers/Outdoors/Cleveland<br>Golf<br>Women's<br>588<br>RTX<br>CB<br>Satin<br>Chrom<br>\",\"All/Loyal/Lost/Almost Lost Customers - Loyal/Outdoors/Clicgear<br>8.0<br>Shoe<br>Brush<br>\",\"All/Loyal/Loyal Customers/Outdoors/Clicgear<br>8.0<br>Shoe<br>Brush<br>\",\"All/Loyal/Lost/Almost Lost Customers - Loyal/Outdoors/Clicgear<br>Rovic<br>Cooler<br>Bag<br>\",\"All/Loyal/Loyal Customers/Outdoors/Clicgear<br>Rovic<br>Cooler<br>Bag<br>\",\"All/Loyal/Lost/Almost Lost Customers - Loyal/Golf/Columbia<br>Men's<br>PFG<br>Anchor<br>Tough<br>T-Shirt<br>\",\"All/Loyal/Loyal Customers/Golf/Columbia<br>Men's<br>PFG<br>Anchor<br>Tough<br>T-Shirt<br>\",\"All/Loyal/Loyal Customers/Fitness/Diamondback<br>Girls'<br>Clarity<br>24<br>Hybrid<br>Bike<br>201<br>\",\"All/Loyal/Lost/Almost Lost Customers - Loyal/Fan Shop/Diamondback<br>Women's<br>Serene<br>Classic<br>Comfort<br>Bi<br>\",\"All/Loyal/Loyal Customers/Fan Shop/Diamondback<br>Women's<br>Serene<br>Classic<br>Comfort<br>Bi<br>\",\"All/Loyal/Lost/Almost Lost Customers - Loyal/Fan Shop/ENO<br>Atlas<br>Hammock<br>Straps<br>\",\"All/Loyal/Loyal Customers/Fan Shop/ENO<br>Atlas<br>Hammock<br>Straps<br>\",\"All/Loyal/Loyal Customers/Fitness/Elevation<br>Training<br>Mask<br>2.0<br>\",\"All/Loyal/Lost/Almost Lost Customers - Loyal/Fan Shop/Field<br>&<br>Stream<br>Sportsman<br>16<br>Gun<br>Fire<br>Safe<br>\",\"All/Loyal/Loyal Customers/Fan Shop/Field<br>&<br>Stream<br>Sportsman<br>16<br>Gun<br>Fire<br>Safe<br>\",\"All/Loyal/Lost/Almost Lost Customers - Loyal/Outdoors/Fitbit<br>The<br>One<br>Wireless<br>Activity<br>&<br>Sleep<br>Trac<br>\",\"All/Loyal/Loyal Customers/Outdoors/Fitbit<br>The<br>One<br>Wireless<br>Activity<br>&<br>Sleep<br>Trac<br>\",\"All/Loyal/Lost/Almost Lost Customers - Loyal/Outdoors/Garmin<br>Approach<br>S3<br>Golf<br>GPS<br>Watch<br>\",\"All/Loyal/Loyal Customers/Outdoors/Garmin<br>Approach<br>S3<br>Golf<br>GPS<br>Watch<br>\",\"All/Loyal/Loyal Customers/Outdoors/Garmin<br>Approach<br>S4<br>Golf<br>GPS<br>Watch<br>\",\"All/Loyal/Loyal Customers/Outdoors/Garmin<br>Forerunner<br>910XT<br>GPS<br>Watch<br>\",\"All/Loyal/Lost/Almost Lost Customers - Loyal/Outdoors/Glove<br>It<br>Imperial<br>Golf<br>Towel<br>\",\"All/Loyal/Loyal Customers/Outdoors/Glove<br>It<br>Imperial<br>Golf<br>Towel<br>\",\"All/Loyal/Lost/Almost Lost Customers - Loyal/Outdoors/Glove<br>It<br>Urban<br>Brick<br>Golf<br>Towel<br>\",\"All/Loyal/Loyal Customers/Outdoors/Glove<br>It<br>Urban<br>Brick<br>Golf<br>Towel<br>\",\"All/Loyal/Lost/Almost Lost Customers - Loyal/Outdoors/Glove<br>It<br>Women's<br>Imperial<br>Golf<br>Glove<br>\",\"All/Loyal/Loyal Customers/Outdoors/Glove<br>It<br>Women's<br>Imperial<br>Golf<br>Glove<br>\",\"All/Loyal/Lost/Almost Lost Customers - Loyal/Outdoors/Glove<br>It<br>Women's<br>Mod<br>Oval<br>3-Zip<br>Carry<br>All<br>Gol<br>\",\"All/Loyal/Loyal Customers/Outdoors/Glove<br>It<br>Women's<br>Mod<br>Oval<br>3-Zip<br>Carry<br>All<br>Gol<br>\",\"All/Loyal/Lost/Almost Lost Customers - Loyal/Outdoors/Glove<br>It<br>Women's<br>Mod<br>Oval<br>Golf<br>Glove<br>\",\"All/Loyal/Loyal Customers/Outdoors/Glove<br>It<br>Women's<br>Mod<br>Oval<br>Golf<br>Glove<br>\",\"All/Loyal/Lost/Almost Lost Customers - Loyal/Outdoors/GolfBuddy<br>VT3<br>GPS<br>Watch<br>\",\"All/Loyal/Loyal Customers/Outdoors/GolfBuddy<br>VT3<br>GPS<br>Watch<br>\",\"All/Loyal/Lost/Almost Lost Customers - Loyal/Outdoors/Hirzl<br>Men's<br>Hybrid<br>Golf<br>Glove<br>\",\"All/Loyal/Loyal Customers/Outdoors/Hirzl<br>Men's<br>Hybrid<br>Golf<br>Glove<br>\",\"All/Loyal/Lost/Almost Lost Customers - Loyal/Outdoors/Hirzl<br>Women's<br>Hybrid<br>Golf<br>Glove<br>\",\"All/Loyal/Loyal Customers/Outdoors/Hirzl<br>Women's<br>Hybrid<br>Golf<br>Glove<br>\",\"All/Loyal/Lost/Almost Lost Customers - Loyal/Outdoors/Hirzl<br>Women's<br>Soffft<br>Flex<br>Golf<br>Glove<br>\",\"All/Loyal/Loyal Customers/Outdoors/Hirzl<br>Women's<br>Soffft<br>Flex<br>Golf<br>Glove<br>\",\"All/Loyal/Lost/Almost Lost Customers - Loyal/Outdoors/LIJA<br>Women's<br>Argyle<br>Golf<br>Polo<br>\",\"All/Loyal/Loyal Customers/Outdoors/LIJA<br>Women's<br>Argyle<br>Golf<br>Polo<br>\",\"All/Loyal/Lost/Almost Lost Customers - Loyal/Outdoors/LIJA<br>Women's<br>Button<br>Golf<br>Dress<br>\",\"All/Loyal/Loyal Customers/Outdoors/LIJA<br>Women's<br>Button<br>Golf<br>Dress<br>\",\"All/Loyal/Lost/Almost Lost Customers - Loyal/Outdoors/LIJA<br>Women's<br>Eyelet<br>Sleeveless<br>Golf<br>Polo<br>\",\"All/Loyal/Loyal Customers/Outdoors/LIJA<br>Women's<br>Eyelet<br>Sleeveless<br>Golf<br>Polo<br>\",\"All/Loyal/Lost/Almost Lost Customers - Loyal/Outdoors/LIJA<br>Women's<br>Mid-Length<br>Panel<br>Golf<br>Shorts<br>\",\"All/Loyal/Loyal Customers/Outdoors/LIJA<br>Women's<br>Mid-Length<br>Panel<br>Golf<br>Shorts<br>\",\"All/Loyal/Lost/Almost Lost Customers - Loyal/Outdoors/MDGolf<br>Pittsburgh<br>Penguins<br>Putter<br>\",\"All/Loyal/Loyal Customers/Outdoors/MDGolf<br>Pittsburgh<br>Penguins<br>Putter<br>\",\"All/Loyal/Lost/Almost Lost Customers - Loyal/Outdoors/Merrell<br>Men's<br>All<br>Out<br>Flash<br>Trail<br>Running<br>Sho<br>\",\"All/Loyal/Loyal Customers/Outdoors/Merrell<br>Men's<br>All<br>Out<br>Flash<br>Trail<br>Running<br>Sho<br>\",\"All/Loyal/Lost/Almost Lost Customers - Loyal/Outdoors/Merrell<br>Women's<br>Grassbow<br>Sport<br>Hiking<br>Shoe<br>\",\"All/Loyal/Loyal Customers/Outdoors/Merrell<br>Women's<br>Grassbow<br>Sport<br>Hiking<br>Shoe<br>\",\"All/Loyal/Lost/Almost Lost Customers - Loyal/Outdoors/Merrell<br>Women's<br>Grassbow<br>Sport<br>Waterproof<br>Hik<br>\",\"All/Loyal/Lost/Almost Lost Customers - Loyal/Outdoors/Merrell<br>Women's<br>Siren<br>Mid<br>Waterproof<br>Hiking<br>B<br>\",\"All/Loyal/Loyal Customers/Outdoors/Merrell<br>Women's<br>Siren<br>Mid<br>Waterproof<br>Hiking<br>B<br>\",\"All/Loyal/Lost/Almost Lost Customers - Loyal/Outdoors/Mio<br>ALPHA<br>Heart<br>Rate<br>Monitor/Sport<br>Watch<br>\",\"All/Loyal/Loyal Customers/Outdoors/Mio<br>ALPHA<br>Heart<br>Rate<br>Monitor/Sport<br>Watch<br>\",\"All/Loyal/Lost/Almost Lost Customers - Loyal/Fitness/Nike<br>Dri-FIT<br>Crew<br>Sock<br>6<br>Pack<br>\",\"All/Loyal/Loyal Customers/Fitness/Nike<br>Dri-FIT<br>Crew<br>Sock<br>6<br>Pack<br>\",\"All/Loyal/Lost/Almost Lost Customers - Loyal/Fitness/Nike<br>Kids'<br>Grade<br>School<br>KD<br>VI<br>Basketball<br>Shoe<br>\",\"All/Loyal/Loyal Customers/Fitness/Nike<br>Kids'<br>Grade<br>School<br>KD<br>VI<br>Basketball<br>Shoe<br>\",\"All/Loyal/Lost/Almost Lost Customers - Loyal/Apparel/Nike<br>Men's<br>CJ<br>Elite<br>2<br>TD<br>Football<br>Cleat<br>\",\"All/Loyal/Loyal Customers/Apparel/Nike<br>Men's<br>CJ<br>Elite<br>2<br>TD<br>Football<br>Cleat<br>\",\"All/Loyal/Lost/Almost Lost Customers - Loyal/Fitness/Nike<br>Men's<br>Comfort<br>2<br>Slide<br>\",\"All/Loyal/Loyal Customers/Fitness/Nike<br>Men's<br>Comfort<br>2<br>Slide<br>\",\"All/Loyal/Lost/Almost Lost Customers - Loyal/Golf/Nike<br>Men's<br>Deutschland<br>Weltmeister<br>Winners<br>Bl<br>\",\"All/Loyal/Loyal Customers/Golf/Nike<br>Men's<br>Deutschland<br>Weltmeister<br>Winners<br>Bl<br>\",\"All/Loyal/Lost/Almost Lost Customers - Loyal/Golf/Nike<br>Men's<br>Dri-FIT<br>Victory<br>Golf<br>Polo<br>\",\"All/Loyal/Loyal Customers/Golf/Nike<br>Men's<br>Dri-FIT<br>Victory<br>Golf<br>Polo<br>\",\"All/Loyal/Lost/Almost Lost Customers - Loyal/Fitness/Nike<br>Men's<br>Fingertrap<br>Max<br>Training<br>Shoe<br>\",\"All/Loyal/Loyal Customers/Fitness/Nike<br>Men's<br>Fingertrap<br>Max<br>Training<br>Shoe<br>\",\"All/Loyal/Lost/Almost Lost Customers - Loyal/Footwear/Nike<br>Men's<br>Free<br>5.0+<br>Running<br>Shoe<br>\",\"All/Loyal/Loyal Customers/Footwear/Nike<br>Men's<br>Free<br>5.0+<br>Running<br>Shoe<br>\",\"All/Loyal/Loyal Customers/Footwear/Nike<br>Men's<br>Free<br>TR<br>5.0<br>TB<br>Training<br>Shoe<br>\",\"All/Loyal/Lost/Almost Lost Customers - Loyal/Golf/Nike<br>Men's<br>Kobe<br>IX<br>Elite<br>Low<br>Basketball<br>Shoe<br>\",\"All/Loyal/Loyal Customers/Golf/Nike<br>Men's<br>Kobe<br>IX<br>Elite<br>Low<br>Basketball<br>Shoe<br>\",\"All/Loyal/Lost/Almost Lost Customers - Loyal/Footwear/Nike<br>Women's<br>Free<br>5.0<br>TR<br>FIT<br>PRT<br>4<br>Training<br>S<br>\",\"All/Loyal/Loyal Customers/Footwear/Nike<br>Women's<br>Free<br>5.0<br>TR<br>FIT<br>PRT<br>4<br>Training<br>S<br>\",\"All/Loyal/Lost/Almost Lost Customers - Loyal/Fitness/Nike<br>Women's<br>Legend<br>V-Neck<br>T-Shirt<br>\",\"All/Loyal/Loyal Customers/Fitness/Nike<br>Women's<br>Legend<br>V-Neck<br>T-Shirt<br>\",\"All/Loyal/Lost/Almost Lost Customers - Loyal/Footwear/Nike<br>Women's<br>Tempo<br>Shorts<br>\",\"All/Loyal/Loyal Customers/Footwear/Nike<br>Women's<br>Tempo<br>Shorts<br>\",\"All/Loyal/Lost/Almost Lost Customers - Loyal/Fan Shop/O'Brien<br>Men's<br>Neoprene<br>Life<br>Vest<br>\",\"All/Loyal/Loyal Customers/Fan Shop/O'Brien<br>Men's<br>Neoprene<br>Life<br>Vest<br>\",\"All/Loyal/Loyal Customers/Outdoors/Ogio<br>Race<br>Golf<br>Shoes<br>\",\"All/Loyal/Lost/Almost Lost Customers - Loyal/Fan Shop/Pelican<br>Sunstream<br>100<br>Kayak<br>\",\"All/Loyal/Loyal Customers/Fan Shop/Pelican<br>Sunstream<br>100<br>Kayak<br>\",\"All/Loyal/Lost/Almost Lost Customers - Loyal/Apparel/Perfect<br>Fitness<br>Perfect<br>Rip<br>Deck<br>\",\"All/Loyal/Loyal Customers/Apparel/Perfect<br>Fitness<br>Perfect<br>Rip<br>Deck<br>\",\"All/Loyal/Loyal Customers/Outdoors/Polar<br>FT4<br>Heart<br>Rate<br>Monitor<br>\",\"All/Loyal/Loyal Customers/Outdoors/Polar<br>Loop<br>Activity<br>Tracker<br>\",\"All/Loyal/Loyal Customers/Fitness/Stiga<br>Master<br>Series<br>ST3100<br>Competition<br>Indoor<br>\",\"All/Loyal/Lost/Almost Lost Customers - Loyal/Golf/TYR<br>Boys'<br>Team<br>Digi<br>Jammer<br>\",\"All/Loyal/Loyal Customers/Golf/TYR<br>Boys'<br>Team<br>Digi<br>Jammer<br>\",\"All/Loyal/Lost/Almost Lost Customers - Loyal/Outdoors/TaylorMade<br>2014<br>Purelite<br>Stand<br>Bag<br>\",\"All/Loyal/Loyal Customers/Outdoors/TaylorMade<br>2014<br>Purelite<br>Stand<br>Bag<br>\",\"All/Loyal/Loyal Customers/Outdoors/TaylorMade<br>White<br>Smoke<br>IN-12<br>Putter<br>\",\"All/Loyal/Lost/Almost Lost Customers - Loyal/Outdoors/TaylorMade<br>Women's<br>RBZ<br>SL<br>Rescue<br>\",\"All/Loyal/Loyal Customers/Outdoors/TaylorMade<br>Women's<br>RBZ<br>SL<br>Rescue<br>\",\"All/Loyal/Lost/Almost Lost Customers - Loyal/Outdoors/Team<br>Golf<br>New<br>England<br>Patriots<br>Putter<br>Grip<br>\",\"All/Loyal/Loyal Customers/Outdoors/Team<br>Golf<br>New<br>England<br>Patriots<br>Putter<br>Grip<br>\",\"All/Loyal/Lost/Almost Lost Customers - Loyal/Outdoors/Team<br>Golf<br>Pittsburgh<br>Steelers<br>Putter<br>Grip<br>\",\"All/Loyal/Loyal Customers/Outdoors/Team<br>Golf<br>Pittsburgh<br>Steelers<br>Putter<br>Grip<br>\",\"All/Loyal/Lost/Almost Lost Customers - Loyal/Outdoors/Team<br>Golf<br>San<br>Francisco<br>Giants<br>Putter<br>Grip<br>\",\"All/Loyal/Loyal Customers/Outdoors/Team<br>Golf<br>San<br>Francisco<br>Giants<br>Putter<br>Grip<br>\",\"All/Loyal/Lost/Almost Lost Customers - Loyal/Outdoors/Team<br>Golf<br>St.<br>Louis<br>Cardinals<br>Putter<br>Grip<br>\",\"All/Loyal/Loyal Customers/Outdoors/Team<br>Golf<br>St.<br>Louis<br>Cardinals<br>Putter<br>Grip<br>\",\"All/Loyal/Lost/Almost Lost Customers - Loyal/Outdoors/Team<br>Golf<br>Tennessee<br>Volunteers<br>Putter<br>Grip<br>\",\"All/Loyal/Loyal Customers/Outdoors/Team<br>Golf<br>Tennessee<br>Volunteers<br>Putter<br>Grip<br>\",\"All/Loyal/Lost/Almost Lost Customers - Loyal/Outdoors/Team<br>Golf<br>Texas<br>Longhorns<br>Putter<br>Grip<br>\",\"All/Loyal/Loyal Customers/Outdoors/Team<br>Golf<br>Texas<br>Longhorns<br>Putter<br>Grip<br>\",\"All/Loyal/Loyal Customers/Fan Shop/The<br>North<br>Face<br>Women's<br>Recon<br>Backpack<br>\",\"All/Loyal/Loyal Customers/Outdoors/Titleist<br>Club<br>Glove<br>Travel<br>Cover<br>\",\"All/Loyal/Lost/Almost Lost Customers - Loyal/Outdoors/Titleist<br>Pro<br>V1<br>High<br>Numbers<br>Personalized<br>Gol<br>\",\"All/Loyal/Loyal Customers/Outdoors/Titleist<br>Pro<br>V1<br>High<br>Numbers<br>Personalized<br>Gol<br>\",\"All/Loyal/Lost/Almost Lost Customers - Loyal/Outdoors/Titleist<br>Pro<br>V1x<br>Golf<br>Balls<br>\",\"All/Loyal/Loyal Customers/Outdoors/Titleist<br>Pro<br>V1x<br>Golf<br>Balls<br>\",\"All/Loyal/Lost/Almost Lost Customers - Loyal/Outdoors/Titleist<br>Pro<br>V1x<br>High<br>Numbers<br>Golf<br>Balls<br>\",\"All/Loyal/Loyal Customers/Outdoors/Titleist<br>Pro<br>V1x<br>High<br>Numbers<br>Golf<br>Balls<br>\",\"All/Loyal/Lost/Almost Lost Customers - Loyal/Outdoors/Titleist<br>Pro<br>V1x<br>High<br>Numbers<br>Personalized<br>Go<br>\",\"All/Loyal/Loyal Customers/Outdoors/Titleist<br>Pro<br>V1x<br>High<br>Numbers<br>Personalized<br>Go<br>\",\"All/Loyal/Loyal Customers/Outdoors/Titleist<br>Small<br>Wheeled<br>Travel<br>Cover<br>\",\"All/Loyal/Lost/Almost Lost Customers - Loyal/Outdoors/Top<br>Flite<br>Women's<br>2014<br>XL<br>Hybrid<br>\",\"All/Loyal/Loyal Customers/Outdoors/Top<br>Flite<br>Women's<br>2014<br>XL<br>Hybrid<br>\",\"All/Loyal/Lost/Almost Lost Customers - Loyal/Golf/Under<br>Armour<br>Girls'<br>Toddler<br>Spine<br>Surge<br>Runni<br>\",\"All/Loyal/Loyal Customers/Golf/Under<br>Armour<br>Girls'<br>Toddler<br>Spine<br>Surge<br>Runni<br>\",\"All/Loyal/Lost/Almost Lost Customers - Loyal/Footwear/Under<br>Armour<br>Hustle<br>Storm<br>Medium<br>Duffle<br>Bag<br>\",\"All/Loyal/Loyal Customers/Footwear/Under<br>Armour<br>Hustle<br>Storm<br>Medium<br>Duffle<br>Bag<br>\",\"All/Loyal/Lost/Almost Lost Customers - Loyal/Footwear/Under<br>Armour<br>Kids'<br>Mercenary<br>Slide<br>\",\"All/Loyal/Loyal Customers/Footwear/Under<br>Armour<br>Kids'<br>Mercenary<br>Slide<br>\",\"All/Loyal/Lost/Almost Lost Customers - Loyal/Footwear/Under<br>Armour<br>Men's<br>Compression<br>EV<br>SL<br>Slide<br>\",\"All/Loyal/Loyal Customers/Footwear/Under<br>Armour<br>Men's<br>Compression<br>EV<br>SL<br>Slide<br>\",\"All/Loyal/Lost/Almost Lost Customers - Loyal/Fitness/Under<br>Armour<br>Men's<br>Tech<br>II<br>T-Shirt<br>\",\"All/Loyal/Loyal Customers/Fitness/Under<br>Armour<br>Men's<br>Tech<br>II<br>T-Shirt<br>\",\"All/Loyal/Lost/Almost Lost Customers - Loyal/Footwear/Under<br>Armour<br>Women's<br>Ignite<br>PIP<br>VI<br>Slide<br>\",\"All/Loyal/Loyal Customers/Footwear/Under<br>Armour<br>Women's<br>Ignite<br>PIP<br>VI<br>Slide<br>\",\"All/Loyal/Lost/Almost Lost Customers - Loyal/Footwear/Under<br>Armour<br>Women's<br>Ignite<br>Slide<br>\",\"All/Loyal/Loyal Customers/Footwear/Under<br>Armour<br>Women's<br>Ignite<br>Slide<br>\",\"All/Loyal/Lost/Almost Lost Customers - Loyal/Footwear/Under<br>Armour<br>Women's<br>Micro<br>G<br>Skulpt<br>Running<br>S<br>\",\"All/Loyal/Loyal Customers/Footwear/Under<br>Armour<br>Women's<br>Micro<br>G<br>Skulpt<br>Running<br>S<br>\",\"All/Loyal/Lost/Almost Lost Customers - Loyal/Footwear/Yakima<br>DoubleDown<br>Ace<br>Hitch<br>Mount<br>4-Bike<br>Rack<br>\",\"All/Loyal/Loyal Customers/Footwear/Yakima<br>DoubleDown<br>Ace<br>Hitch<br>Mount<br>4-Bike<br>Rack<br>\",\"All/Loyal/Lost/Almost Lost Customers - Loyal/Fitness/adidas<br>Brazuca<br>2014<br>Official<br>Match<br>Ball<br>\",\"All/Loyal/Loyal Customers/Fitness/adidas<br>Brazuca<br>2014<br>Official<br>Match<br>Ball<br>\",\"All/Loyal/Lost/Almost Lost Customers - Loyal/Fitness/adidas<br>Kids'<br>F5<br>Messi<br>FG<br>Soccer<br>Cleat<br>\",\"All/Loyal/Loyal Customers/Fitness/adidas<br>Kids'<br>F5<br>Messi<br>FG<br>Soccer<br>Cleat<br>\",\"All/Loyal/Lost/Almost Lost Customers - Loyal/Fitness/adidas<br>Men's<br>F10<br>Messi<br>TRX<br>FG<br>Soccer<br>Cleat<br>\",\"All/Loyal/Loyal Customers/Fitness/adidas<br>Men's<br>F10<br>Messi<br>TRX<br>FG<br>Soccer<br>Cleat<br>\",\"All/Loyal/Lost/Almost Lost Customers - Loyal/Golf/adidas<br>Men's<br>Germany<br>Black<br>Crest<br>Away<br>Tee<br>\",\"All/Loyal/Loyal Customers/Golf/adidas<br>Men's<br>Germany<br>Black<br>Crest<br>Away<br>Tee<br>\",\"All/Loyal/Lost/Almost Lost Customers - Loyal/Golf/adidas<br>Youth<br>Germany<br>Black/Red<br>Away<br>Match<br>Soc<br>\",\"All/Loyal/Loyal Customers/Golf/adidas<br>Youth<br>Germany<br>Black/Red<br>Away<br>Match<br>Soc<br>\",\"All/Loyal/Loyal Customers/Fan Shop/insta-bed<br>Neverflat<br>Air<br>Mattress<br>\",\"All/Loyal/Lost/Almost Lost Customers - Loyal/Apparel\",\"All/Loyal/Loyal Customers/Apparel\",\"All/Loyal/Lost/Almost Lost Customers - Loyal/Fan Shop\",\"All/Loyal/Loyal Customers/Fan Shop\",\"All/Loyal/Lost/Almost Lost Customers - Loyal/Fitness\",\"All/Loyal/Loyal Customers/Fitness\",\"All/Loyal/Lost/Almost Lost Customers - Loyal/Footwear\",\"All/Loyal/Loyal Customers/Footwear\",\"All/Loyal/Lost/Almost Lost Customers - Loyal/Golf\",\"All/Loyal/Loyal Customers/Golf\",\"All/Loyal/Lost/Almost Lost Customers - Loyal/Outdoors\",\"All/Loyal/Loyal Customers/Outdoors\",\"All/Loyal/Lost/Almost Lost Customers - Loyal\",\"All/Loyal/Loyal Customers\",\"All/Loyal\",\"All\"],\"labels\":[\"Bag<br>Boy<br>Beverage<br>Holder<br>\",\"Bag<br>Boy<br>Beverage<br>Holder<br>\",\"Bag<br>Boy<br>M330<br>Push<br>Cart<br>\",\"Bag<br>Boy<br>M330<br>Push<br>Cart<br>\",\"Bridgestone<br>e6<br>Straight<br>Distance<br>NFL<br>Carolina<br>\",\"Bridgestone<br>e6<br>Straight<br>Distance<br>NFL<br>Carolina<br>\",\"Bridgestone<br>e6<br>Straight<br>Distance<br>NFL<br>San<br>Dieg<br>\",\"Bridgestone<br>e6<br>Straight<br>Distance<br>NFL<br>San<br>Dieg<br>\",\"Bridgestone<br>e6<br>Straight<br>Distance<br>NFL<br>Tennesse<br>\",\"Bridgestone<br>e6<br>Straight<br>Distance<br>NFL<br>Tennesse<br>\",\"Brooks<br>Women's<br>Ghost<br>6<br>Running<br>Shoe<br>\",\"Brooks<br>Women's<br>Ghost<br>6<br>Running<br>Shoe<br>\",\"Cleveland<br>Golf<br>Collegiate<br>My<br>Custom<br>Wedge<br>588<br>\",\"Cleveland<br>Golf<br>Women's<br>588<br>RTX<br>CB<br>Satin<br>Chrom<br>\",\"Cleveland<br>Golf<br>Women's<br>588<br>RTX<br>CB<br>Satin<br>Chrom<br>\",\"Clicgear<br>8.0<br>Shoe<br>Brush<br>\",\"Clicgear<br>8.0<br>Shoe<br>Brush<br>\",\"Clicgear<br>Rovic<br>Cooler<br>Bag<br>\",\"Clicgear<br>Rovic<br>Cooler<br>Bag<br>\",\"Columbia<br>Men's<br>PFG<br>Anchor<br>Tough<br>T-Shirt<br>\",\"Columbia<br>Men's<br>PFG<br>Anchor<br>Tough<br>T-Shirt<br>\",\"Diamondback<br>Girls'<br>Clarity<br>24<br>Hybrid<br>Bike<br>201<br>\",\"Diamondback<br>Women's<br>Serene<br>Classic<br>Comfort<br>Bi<br>\",\"Diamondback<br>Women's<br>Serene<br>Classic<br>Comfort<br>Bi<br>\",\"ENO<br>Atlas<br>Hammock<br>Straps<br>\",\"ENO<br>Atlas<br>Hammock<br>Straps<br>\",\"Elevation<br>Training<br>Mask<br>2.0<br>\",\"Field<br>&<br>Stream<br>Sportsman<br>16<br>Gun<br>Fire<br>Safe<br>\",\"Field<br>&<br>Stream<br>Sportsman<br>16<br>Gun<br>Fire<br>Safe<br>\",\"Fitbit<br>The<br>One<br>Wireless<br>Activity<br>&<br>Sleep<br>Trac<br>\",\"Fitbit<br>The<br>One<br>Wireless<br>Activity<br>&<br>Sleep<br>Trac<br>\",\"Garmin<br>Approach<br>S3<br>Golf<br>GPS<br>Watch<br>\",\"Garmin<br>Approach<br>S3<br>Golf<br>GPS<br>Watch<br>\",\"Garmin<br>Approach<br>S4<br>Golf<br>GPS<br>Watch<br>\",\"Garmin<br>Forerunner<br>910XT<br>GPS<br>Watch<br>\",\"Glove<br>It<br>Imperial<br>Golf<br>Towel<br>\",\"Glove<br>It<br>Imperial<br>Golf<br>Towel<br>\",\"Glove<br>It<br>Urban<br>Brick<br>Golf<br>Towel<br>\",\"Glove<br>It<br>Urban<br>Brick<br>Golf<br>Towel<br>\",\"Glove<br>It<br>Women's<br>Imperial<br>Golf<br>Glove<br>\",\"Glove<br>It<br>Women's<br>Imperial<br>Golf<br>Glove<br>\",\"Glove<br>It<br>Women's<br>Mod<br>Oval<br>3-Zip<br>Carry<br>All<br>Gol<br>\",\"Glove<br>It<br>Women's<br>Mod<br>Oval<br>3-Zip<br>Carry<br>All<br>Gol<br>\",\"Glove<br>It<br>Women's<br>Mod<br>Oval<br>Golf<br>Glove<br>\",\"Glove<br>It<br>Women's<br>Mod<br>Oval<br>Golf<br>Glove<br>\",\"GolfBuddy<br>VT3<br>GPS<br>Watch<br>\",\"GolfBuddy<br>VT3<br>GPS<br>Watch<br>\",\"Hirzl<br>Men's<br>Hybrid<br>Golf<br>Glove<br>\",\"Hirzl<br>Men's<br>Hybrid<br>Golf<br>Glove<br>\",\"Hirzl<br>Women's<br>Hybrid<br>Golf<br>Glove<br>\",\"Hirzl<br>Women's<br>Hybrid<br>Golf<br>Glove<br>\",\"Hirzl<br>Women's<br>Soffft<br>Flex<br>Golf<br>Glove<br>\",\"Hirzl<br>Women's<br>Soffft<br>Flex<br>Golf<br>Glove<br>\",\"LIJA<br>Women's<br>Argyle<br>Golf<br>Polo<br>\",\"LIJA<br>Women's<br>Argyle<br>Golf<br>Polo<br>\",\"LIJA<br>Women's<br>Button<br>Golf<br>Dress<br>\",\"LIJA<br>Women's<br>Button<br>Golf<br>Dress<br>\",\"LIJA<br>Women's<br>Eyelet<br>Sleeveless<br>Golf<br>Polo<br>\",\"LIJA<br>Women's<br>Eyelet<br>Sleeveless<br>Golf<br>Polo<br>\",\"LIJA<br>Women's<br>Mid-Length<br>Panel<br>Golf<br>Shorts<br>\",\"LIJA<br>Women's<br>Mid-Length<br>Panel<br>Golf<br>Shorts<br>\",\"MDGolf<br>Pittsburgh<br>Penguins<br>Putter<br>\",\"MDGolf<br>Pittsburgh<br>Penguins<br>Putter<br>\",\"Merrell<br>Men's<br>All<br>Out<br>Flash<br>Trail<br>Running<br>Sho<br>\",\"Merrell<br>Men's<br>All<br>Out<br>Flash<br>Trail<br>Running<br>Sho<br>\",\"Merrell<br>Women's<br>Grassbow<br>Sport<br>Hiking<br>Shoe<br>\",\"Merrell<br>Women's<br>Grassbow<br>Sport<br>Hiking<br>Shoe<br>\",\"Merrell<br>Women's<br>Grassbow<br>Sport<br>Waterproof<br>Hik<br>\",\"Merrell<br>Women's<br>Siren<br>Mid<br>Waterproof<br>Hiking<br>B<br>\",\"Merrell<br>Women's<br>Siren<br>Mid<br>Waterproof<br>Hiking<br>B<br>\",\"Mio<br>ALPHA<br>Heart<br>Rate<br>Monitor/Sport<br>Watch<br>\",\"Mio<br>ALPHA<br>Heart<br>Rate<br>Monitor/Sport<br>Watch<br>\",\"Nike<br>Dri-FIT<br>Crew<br>Sock<br>6<br>Pack<br>\",\"Nike<br>Dri-FIT<br>Crew<br>Sock<br>6<br>Pack<br>\",\"Nike<br>Kids'<br>Grade<br>School<br>KD<br>VI<br>Basketball<br>Shoe<br>\",\"Nike<br>Kids'<br>Grade<br>School<br>KD<br>VI<br>Basketball<br>Shoe<br>\",\"Nike<br>Men's<br>CJ<br>Elite<br>2<br>TD<br>Football<br>Cleat<br>\",\"Nike<br>Men's<br>CJ<br>Elite<br>2<br>TD<br>Football<br>Cleat<br>\",\"Nike<br>Men's<br>Comfort<br>2<br>Slide<br>\",\"Nike<br>Men's<br>Comfort<br>2<br>Slide<br>\",\"Nike<br>Men's<br>Deutschland<br>Weltmeister<br>Winners<br>Bl<br>\",\"Nike<br>Men's<br>Deutschland<br>Weltmeister<br>Winners<br>Bl<br>\",\"Nike<br>Men's<br>Dri-FIT<br>Victory<br>Golf<br>Polo<br>\",\"Nike<br>Men's<br>Dri-FIT<br>Victory<br>Golf<br>Polo<br>\",\"Nike<br>Men's<br>Fingertrap<br>Max<br>Training<br>Shoe<br>\",\"Nike<br>Men's<br>Fingertrap<br>Max<br>Training<br>Shoe<br>\",\"Nike<br>Men's<br>Free<br>5.0+<br>Running<br>Shoe<br>\",\"Nike<br>Men's<br>Free<br>5.0+<br>Running<br>Shoe<br>\",\"Nike<br>Men's<br>Free<br>TR<br>5.0<br>TB<br>Training<br>Shoe<br>\",\"Nike<br>Men's<br>Kobe<br>IX<br>Elite<br>Low<br>Basketball<br>Shoe<br>\",\"Nike<br>Men's<br>Kobe<br>IX<br>Elite<br>Low<br>Basketball<br>Shoe<br>\",\"Nike<br>Women's<br>Free<br>5.0<br>TR<br>FIT<br>PRT<br>4<br>Training<br>S<br>\",\"Nike<br>Women's<br>Free<br>5.0<br>TR<br>FIT<br>PRT<br>4<br>Training<br>S<br>\",\"Nike<br>Women's<br>Legend<br>V-Neck<br>T-Shirt<br>\",\"Nike<br>Women's<br>Legend<br>V-Neck<br>T-Shirt<br>\",\"Nike<br>Women's<br>Tempo<br>Shorts<br>\",\"Nike<br>Women's<br>Tempo<br>Shorts<br>\",\"O'Brien<br>Men's<br>Neoprene<br>Life<br>Vest<br>\",\"O'Brien<br>Men's<br>Neoprene<br>Life<br>Vest<br>\",\"Ogio<br>Race<br>Golf<br>Shoes<br>\",\"Pelican<br>Sunstream<br>100<br>Kayak<br>\",\"Pelican<br>Sunstream<br>100<br>Kayak<br>\",\"Perfect<br>Fitness<br>Perfect<br>Rip<br>Deck<br>\",\"Perfect<br>Fitness<br>Perfect<br>Rip<br>Deck<br>\",\"Polar<br>FT4<br>Heart<br>Rate<br>Monitor<br>\",\"Polar<br>Loop<br>Activity<br>Tracker<br>\",\"Stiga<br>Master<br>Series<br>ST3100<br>Competition<br>Indoor<br>\",\"TYR<br>Boys'<br>Team<br>Digi<br>Jammer<br>\",\"TYR<br>Boys'<br>Team<br>Digi<br>Jammer<br>\",\"TaylorMade<br>2014<br>Purelite<br>Stand<br>Bag<br>\",\"TaylorMade<br>2014<br>Purelite<br>Stand<br>Bag<br>\",\"TaylorMade<br>White<br>Smoke<br>IN-12<br>Putter<br>\",\"TaylorMade<br>Women's<br>RBZ<br>SL<br>Rescue<br>\",\"TaylorMade<br>Women's<br>RBZ<br>SL<br>Rescue<br>\",\"Team<br>Golf<br>New<br>England<br>Patriots<br>Putter<br>Grip<br>\",\"Team<br>Golf<br>New<br>England<br>Patriots<br>Putter<br>Grip<br>\",\"Team<br>Golf<br>Pittsburgh<br>Steelers<br>Putter<br>Grip<br>\",\"Team<br>Golf<br>Pittsburgh<br>Steelers<br>Putter<br>Grip<br>\",\"Team<br>Golf<br>San<br>Francisco<br>Giants<br>Putter<br>Grip<br>\",\"Team<br>Golf<br>San<br>Francisco<br>Giants<br>Putter<br>Grip<br>\",\"Team<br>Golf<br>St.<br>Louis<br>Cardinals<br>Putter<br>Grip<br>\",\"Team<br>Golf<br>St.<br>Louis<br>Cardinals<br>Putter<br>Grip<br>\",\"Team<br>Golf<br>Tennessee<br>Volunteers<br>Putter<br>Grip<br>\",\"Team<br>Golf<br>Tennessee<br>Volunteers<br>Putter<br>Grip<br>\",\"Team<br>Golf<br>Texas<br>Longhorns<br>Putter<br>Grip<br>\",\"Team<br>Golf<br>Texas<br>Longhorns<br>Putter<br>Grip<br>\",\"The<br>North<br>Face<br>Women's<br>Recon<br>Backpack<br>\",\"Titleist<br>Club<br>Glove<br>Travel<br>Cover<br>\",\"Titleist<br>Pro<br>V1<br>High<br>Numbers<br>Personalized<br>Gol<br>\",\"Titleist<br>Pro<br>V1<br>High<br>Numbers<br>Personalized<br>Gol<br>\",\"Titleist<br>Pro<br>V1x<br>Golf<br>Balls<br>\",\"Titleist<br>Pro<br>V1x<br>Golf<br>Balls<br>\",\"Titleist<br>Pro<br>V1x<br>High<br>Numbers<br>Golf<br>Balls<br>\",\"Titleist<br>Pro<br>V1x<br>High<br>Numbers<br>Golf<br>Balls<br>\",\"Titleist<br>Pro<br>V1x<br>High<br>Numbers<br>Personalized<br>Go<br>\",\"Titleist<br>Pro<br>V1x<br>High<br>Numbers<br>Personalized<br>Go<br>\",\"Titleist<br>Small<br>Wheeled<br>Travel<br>Cover<br>\",\"Top<br>Flite<br>Women's<br>2014<br>XL<br>Hybrid<br>\",\"Top<br>Flite<br>Women's<br>2014<br>XL<br>Hybrid<br>\",\"Under<br>Armour<br>Girls'<br>Toddler<br>Spine<br>Surge<br>Runni<br>\",\"Under<br>Armour<br>Girls'<br>Toddler<br>Spine<br>Surge<br>Runni<br>\",\"Under<br>Armour<br>Hustle<br>Storm<br>Medium<br>Duffle<br>Bag<br>\",\"Under<br>Armour<br>Hustle<br>Storm<br>Medium<br>Duffle<br>Bag<br>\",\"Under<br>Armour<br>Kids'<br>Mercenary<br>Slide<br>\",\"Under<br>Armour<br>Kids'<br>Mercenary<br>Slide<br>\",\"Under<br>Armour<br>Men's<br>Compression<br>EV<br>SL<br>Slide<br>\",\"Under<br>Armour<br>Men's<br>Compression<br>EV<br>SL<br>Slide<br>\",\"Under<br>Armour<br>Men's<br>Tech<br>II<br>T-Shirt<br>\",\"Under<br>Armour<br>Men's<br>Tech<br>II<br>T-Shirt<br>\",\"Under<br>Armour<br>Women's<br>Ignite<br>PIP<br>VI<br>Slide<br>\",\"Under<br>Armour<br>Women's<br>Ignite<br>PIP<br>VI<br>Slide<br>\",\"Under<br>Armour<br>Women's<br>Ignite<br>Slide<br>\",\"Under<br>Armour<br>Women's<br>Ignite<br>Slide<br>\",\"Under<br>Armour<br>Women's<br>Micro<br>G<br>Skulpt<br>Running<br>S<br>\",\"Under<br>Armour<br>Women's<br>Micro<br>G<br>Skulpt<br>Running<br>S<br>\",\"Yakima<br>DoubleDown<br>Ace<br>Hitch<br>Mount<br>4-Bike<br>Rack<br>\",\"Yakima<br>DoubleDown<br>Ace<br>Hitch<br>Mount<br>4-Bike<br>Rack<br>\",\"adidas<br>Brazuca<br>2014<br>Official<br>Match<br>Ball<br>\",\"adidas<br>Brazuca<br>2014<br>Official<br>Match<br>Ball<br>\",\"adidas<br>Kids'<br>F5<br>Messi<br>FG<br>Soccer<br>Cleat<br>\",\"adidas<br>Kids'<br>F5<br>Messi<br>FG<br>Soccer<br>Cleat<br>\",\"adidas<br>Men's<br>F10<br>Messi<br>TRX<br>FG<br>Soccer<br>Cleat<br>\",\"adidas<br>Men's<br>F10<br>Messi<br>TRX<br>FG<br>Soccer<br>Cleat<br>\",\"adidas<br>Men's<br>Germany<br>Black<br>Crest<br>Away<br>Tee<br>\",\"adidas<br>Men's<br>Germany<br>Black<br>Crest<br>Away<br>Tee<br>\",\"adidas<br>Youth<br>Germany<br>Black/Red<br>Away<br>Match<br>Soc<br>\",\"adidas<br>Youth<br>Germany<br>Black/Red<br>Away<br>Match<br>Soc<br>\",\"insta-bed<br>Neverflat<br>Air<br>Mattress<br>\",\"Apparel\",\"Apparel\",\"Fan Shop\",\"Fan Shop\",\"Fitness\",\"Fitness\",\"Footwear\",\"Footwear\",\"Golf\",\"Golf\",\"Outdoors\",\"Outdoors\",\"Lost/Almost Lost Customers - Loyal\",\"Loyal Customers\",\"Loyal\",\"All\"],\"name\":\"\",\"parents\":[\"All/Loyal/Lost/Almost Lost Customers - Loyal/Outdoors\",\"All/Loyal/Loyal Customers/Outdoors\",\"All/Loyal/Lost/Almost Lost Customers - Loyal/Outdoors\",\"All/Loyal/Loyal Customers/Outdoors\",\"All/Loyal/Lost/Almost Lost Customers - Loyal/Outdoors\",\"All/Loyal/Loyal Customers/Outdoors\",\"All/Loyal/Lost/Almost Lost Customers - Loyal/Outdoors\",\"All/Loyal/Loyal Customers/Outdoors\",\"All/Loyal/Lost/Almost Lost Customers - Loyal/Outdoors\",\"All/Loyal/Loyal Customers/Outdoors\",\"All/Loyal/Lost/Almost Lost Customers - Loyal/Footwear\",\"All/Loyal/Loyal Customers/Footwear\",\"All/Loyal/Loyal Customers/Outdoors\",\"All/Loyal/Lost/Almost Lost Customers - Loyal/Outdoors\",\"All/Loyal/Loyal Customers/Outdoors\",\"All/Loyal/Lost/Almost Lost Customers - Loyal/Outdoors\",\"All/Loyal/Loyal Customers/Outdoors\",\"All/Loyal/Lost/Almost Lost Customers - Loyal/Outdoors\",\"All/Loyal/Loyal Customers/Outdoors\",\"All/Loyal/Lost/Almost Lost Customers - Loyal/Golf\",\"All/Loyal/Loyal Customers/Golf\",\"All/Loyal/Loyal Customers/Fitness\",\"All/Loyal/Lost/Almost Lost Customers - Loyal/Fan Shop\",\"All/Loyal/Loyal Customers/Fan Shop\",\"All/Loyal/Lost/Almost Lost Customers - Loyal/Fan Shop\",\"All/Loyal/Loyal Customers/Fan Shop\",\"All/Loyal/Loyal Customers/Fitness\",\"All/Loyal/Lost/Almost Lost Customers - Loyal/Fan Shop\",\"All/Loyal/Loyal Customers/Fan Shop\",\"All/Loyal/Lost/Almost Lost Customers - Loyal/Outdoors\",\"All/Loyal/Loyal Customers/Outdoors\",\"All/Loyal/Lost/Almost Lost Customers - Loyal/Outdoors\",\"All/Loyal/Loyal Customers/Outdoors\",\"All/Loyal/Loyal Customers/Outdoors\",\"All/Loyal/Loyal Customers/Outdoors\",\"All/Loyal/Lost/Almost Lost Customers - Loyal/Outdoors\",\"All/Loyal/Loyal Customers/Outdoors\",\"All/Loyal/Lost/Almost Lost Customers - Loyal/Outdoors\",\"All/Loyal/Loyal Customers/Outdoors\",\"All/Loyal/Lost/Almost Lost Customers - Loyal/Outdoors\",\"All/Loyal/Loyal Customers/Outdoors\",\"All/Loyal/Lost/Almost Lost Customers - Loyal/Outdoors\",\"All/Loyal/Loyal Customers/Outdoors\",\"All/Loyal/Lost/Almost Lost Customers - Loyal/Outdoors\",\"All/Loyal/Loyal Customers/Outdoors\",\"All/Loyal/Lost/Almost Lost Customers - Loyal/Outdoors\",\"All/Loyal/Loyal Customers/Outdoors\",\"All/Loyal/Lost/Almost Lost Customers - Loyal/Outdoors\",\"All/Loyal/Loyal Customers/Outdoors\",\"All/Loyal/Lost/Almost Lost Customers - Loyal/Outdoors\",\"All/Loyal/Loyal Customers/Outdoors\",\"All/Loyal/Lost/Almost Lost Customers - Loyal/Outdoors\",\"All/Loyal/Loyal Customers/Outdoors\",\"All/Loyal/Lost/Almost Lost Customers - Loyal/Outdoors\",\"All/Loyal/Loyal Customers/Outdoors\",\"All/Loyal/Lost/Almost Lost Customers - Loyal/Outdoors\",\"All/Loyal/Loyal Customers/Outdoors\",\"All/Loyal/Lost/Almost Lost Customers - Loyal/Outdoors\",\"All/Loyal/Loyal Customers/Outdoors\",\"All/Loyal/Lost/Almost Lost Customers - Loyal/Outdoors\",\"All/Loyal/Loyal Customers/Outdoors\",\"All/Loyal/Lost/Almost Lost Customers - Loyal/Outdoors\",\"All/Loyal/Loyal Customers/Outdoors\",\"All/Loyal/Lost/Almost Lost Customers - Loyal/Outdoors\",\"All/Loyal/Loyal Customers/Outdoors\",\"All/Loyal/Lost/Almost Lost Customers - Loyal/Outdoors\",\"All/Loyal/Loyal Customers/Outdoors\",\"All/Loyal/Lost/Almost Lost Customers - Loyal/Outdoors\",\"All/Loyal/Lost/Almost Lost Customers - Loyal/Outdoors\",\"All/Loyal/Loyal Customers/Outdoors\",\"All/Loyal/Lost/Almost Lost Customers - Loyal/Outdoors\",\"All/Loyal/Loyal Customers/Outdoors\",\"All/Loyal/Lost/Almost Lost Customers - Loyal/Fitness\",\"All/Loyal/Loyal Customers/Fitness\",\"All/Loyal/Lost/Almost Lost Customers - Loyal/Fitness\",\"All/Loyal/Loyal Customers/Fitness\",\"All/Loyal/Lost/Almost Lost Customers - Loyal/Apparel\",\"All/Loyal/Loyal Customers/Apparel\",\"All/Loyal/Lost/Almost Lost Customers - Loyal/Fitness\",\"All/Loyal/Loyal Customers/Fitness\",\"All/Loyal/Lost/Almost Lost Customers - Loyal/Golf\",\"All/Loyal/Loyal Customers/Golf\",\"All/Loyal/Lost/Almost Lost Customers - Loyal/Golf\",\"All/Loyal/Loyal Customers/Golf\",\"All/Loyal/Lost/Almost Lost Customers - Loyal/Fitness\",\"All/Loyal/Loyal Customers/Fitness\",\"All/Loyal/Lost/Almost Lost Customers - Loyal/Footwear\",\"All/Loyal/Loyal Customers/Footwear\",\"All/Loyal/Loyal Customers/Footwear\",\"All/Loyal/Lost/Almost Lost Customers - Loyal/Golf\",\"All/Loyal/Loyal Customers/Golf\",\"All/Loyal/Lost/Almost Lost Customers - Loyal/Footwear\",\"All/Loyal/Loyal Customers/Footwear\",\"All/Loyal/Lost/Almost Lost Customers - Loyal/Fitness\",\"All/Loyal/Loyal Customers/Fitness\",\"All/Loyal/Lost/Almost Lost Customers - Loyal/Footwear\",\"All/Loyal/Loyal Customers/Footwear\",\"All/Loyal/Lost/Almost Lost Customers - Loyal/Fan Shop\",\"All/Loyal/Loyal Customers/Fan Shop\",\"All/Loyal/Loyal Customers/Outdoors\",\"All/Loyal/Lost/Almost Lost Customers - Loyal/Fan Shop\",\"All/Loyal/Loyal Customers/Fan Shop\",\"All/Loyal/Lost/Almost Lost Customers - Loyal/Apparel\",\"All/Loyal/Loyal Customers/Apparel\",\"All/Loyal/Loyal Customers/Outdoors\",\"All/Loyal/Loyal Customers/Outdoors\",\"All/Loyal/Loyal Customers/Fitness\",\"All/Loyal/Lost/Almost Lost Customers - Loyal/Golf\",\"All/Loyal/Loyal Customers/Golf\",\"All/Loyal/Lost/Almost Lost Customers - Loyal/Outdoors\",\"All/Loyal/Loyal Customers/Outdoors\",\"All/Loyal/Loyal Customers/Outdoors\",\"All/Loyal/Lost/Almost Lost Customers - Loyal/Outdoors\",\"All/Loyal/Loyal Customers/Outdoors\",\"All/Loyal/Lost/Almost Lost Customers - Loyal/Outdoors\",\"All/Loyal/Loyal Customers/Outdoors\",\"All/Loyal/Lost/Almost Lost Customers - Loyal/Outdoors\",\"All/Loyal/Loyal Customers/Outdoors\",\"All/Loyal/Lost/Almost Lost Customers - Loyal/Outdoors\",\"All/Loyal/Loyal Customers/Outdoors\",\"All/Loyal/Lost/Almost Lost Customers - Loyal/Outdoors\",\"All/Loyal/Loyal Customers/Outdoors\",\"All/Loyal/Lost/Almost Lost Customers - Loyal/Outdoors\",\"All/Loyal/Loyal Customers/Outdoors\",\"All/Loyal/Lost/Almost Lost Customers - Loyal/Outdoors\",\"All/Loyal/Loyal Customers/Outdoors\",\"All/Loyal/Loyal Customers/Fan Shop\",\"All/Loyal/Loyal Customers/Outdoors\",\"All/Loyal/Lost/Almost Lost Customers - Loyal/Outdoors\",\"All/Loyal/Loyal Customers/Outdoors\",\"All/Loyal/Lost/Almost Lost Customers - Loyal/Outdoors\",\"All/Loyal/Loyal Customers/Outdoors\",\"All/Loyal/Lost/Almost Lost Customers - Loyal/Outdoors\",\"All/Loyal/Loyal Customers/Outdoors\",\"All/Loyal/Lost/Almost Lost Customers - Loyal/Outdoors\",\"All/Loyal/Loyal Customers/Outdoors\",\"All/Loyal/Loyal Customers/Outdoors\",\"All/Loyal/Lost/Almost Lost Customers - Loyal/Outdoors\",\"All/Loyal/Loyal Customers/Outdoors\",\"All/Loyal/Lost/Almost Lost Customers - Loyal/Golf\",\"All/Loyal/Loyal Customers/Golf\",\"All/Loyal/Lost/Almost Lost Customers - Loyal/Footwear\",\"All/Loyal/Loyal Customers/Footwear\",\"All/Loyal/Lost/Almost Lost Customers - Loyal/Footwear\",\"All/Loyal/Loyal Customers/Footwear\",\"All/Loyal/Lost/Almost Lost Customers - Loyal/Footwear\",\"All/Loyal/Loyal Customers/Footwear\",\"All/Loyal/Lost/Almost Lost Customers - Loyal/Fitness\",\"All/Loyal/Loyal Customers/Fitness\",\"All/Loyal/Lost/Almost Lost Customers - Loyal/Footwear\",\"All/Loyal/Loyal Customers/Footwear\",\"All/Loyal/Lost/Almost Lost Customers - Loyal/Footwear\",\"All/Loyal/Loyal Customers/Footwear\",\"All/Loyal/Lost/Almost Lost Customers - Loyal/Footwear\",\"All/Loyal/Loyal Customers/Footwear\",\"All/Loyal/Lost/Almost Lost Customers - Loyal/Footwear\",\"All/Loyal/Loyal Customers/Footwear\",\"All/Loyal/Lost/Almost Lost Customers - Loyal/Fitness\",\"All/Loyal/Loyal Customers/Fitness\",\"All/Loyal/Lost/Almost Lost Customers - Loyal/Fitness\",\"All/Loyal/Loyal Customers/Fitness\",\"All/Loyal/Lost/Almost Lost Customers - Loyal/Fitness\",\"All/Loyal/Loyal Customers/Fitness\",\"All/Loyal/Lost/Almost Lost Customers - Loyal/Golf\",\"All/Loyal/Loyal Customers/Golf\",\"All/Loyal/Lost/Almost Lost Customers - Loyal/Golf\",\"All/Loyal/Loyal Customers/Golf\",\"All/Loyal/Loyal Customers/Fan Shop\",\"All/Loyal/Lost/Almost Lost Customers - Loyal\",\"All/Loyal/Loyal Customers\",\"All/Loyal/Lost/Almost Lost Customers - Loyal\",\"All/Loyal/Loyal Customers\",\"All/Loyal/Lost/Almost Lost Customers - Loyal\",\"All/Loyal/Loyal Customers\",\"All/Loyal/Lost/Almost Lost Customers - Loyal\",\"All/Loyal/Loyal Customers\",\"All/Loyal/Lost/Almost Lost Customers - Loyal\",\"All/Loyal/Loyal Customers\",\"All/Loyal/Lost/Almost Lost Customers - Loyal\",\"All/Loyal/Loyal Customers\",\"All/Loyal\",\"All/Loyal\",\"All\",\"\"],\"values\":[604.0100002300001,259.90000152,310.3599854,748.7100067,963.20999514,852.0399991300001,944.66000747,873.159996,1048.95999532,709.85001005,71.98999786,255.1199951,1112.9399872,512.3499908,329.96999356,225.130000106,205.379999155,652.63001437,992.35000806,930.1499958,1010.6999988800001,269.9899902,89968.0419159,76593.46179239999,1485.23997869,1045.73000532,513.52999498,122575.38333499999,106128.2928192,357.81999210000004,486.24998475,459.980011,1088.7000275,293.9899902,1075.9699706000001,578.42000293,363.92999839,455.06000519,333.94000055,533.3199978,322.64000129,818.7899971,425.27999496,77.55999756,344.83000183,169.9900055,329.980011,398.6600027,220.34999657,644.55000018,420.76999473,140.22999955,412.50000477,291.2000122,658.40000148,184.68000030000002,180.36000061,1138.1500015,1385.79998777,286.0,636.0,237.56999204,494.33998879,109.9899979,403.66000364,169.9799957,180.97999572,237.8800048,237.5799942,396.20000459999994,188.0599976,551.2299957,1014.64000143,775.27999306,97.98999786,847.90998076,90029.58927626,76308.02952336,1359.14000686,1203.9200285900001,1235.54999156,235.50000195,88183.25,77561.75,119.9899979,441.2099916,71011.63932548,63369.429556,843.91000362,563.9700164999999,195.9900055,91.19000244,469.24999242,474.1299973,732.25,624.4499988599999,785.10000038,78926.39926076001,73157.04935446,628.9599914,82908.382541,75525.78232099999,116554.14128289,99935.04134932,930.49001316,212.1999969,1466.8000181,1014.5500087,918.56002038,172.7899933,1015.1399839999999,472.4499969,230.0799942,480.9599914,346.10999680000003,485.68000217,941.62999724,858.88999743,704.20999908,642.85999297,791.53999512,436.57000541,573.77000428,579.76999853,733.45999522,429.81999779,380.1600037,548.9799957,1235.27000444,1328.0800019600001,1833.44999698,1362.90999604,880.13998797,1203.34001159,2162.78001395,892.15000146,237.4900055,678.1499939,609.69999314,37961.88024631,34968.19018123,475.86001013000003,262.24999809999997,923.38000111,467.84000012,1028.02001952,163.54000092,1023.32999406,543.91000364,1306.4600239,833.01000782,317.33000183,687.79000082,1433.05999747,1337.41000756,166.3200073,332.6399993,119.9899979,151.9900055,982.50000193,294.26000211,1714.7900505,1879.1800156499999,439.25,786.75,1664.24999223,733.6000061,134.9900055,206583.73055915,176243.07087268,375863.44703135,332965.46630157996,6906.50004574,9120.23002419,77449.6993859,69807.28956216,131992.8502511,116411.04021404,24260.159969166,30446.839930275,823056.387242406,734993.936904925,1558050.324147331,1558050.324147331],\"visible\":false,\"type\":\"treemap\"},{\"branchvalues\":\"total\",\"domain\":{\"x\":[0.0,1.0],\"y\":[0.0,1.0]},\"hovertemplate\":\"labels=%{label}<br>Total_Revenue=%{value}<br>parent=%{parent}<br>id=%{id}<extra></extra>\",\"ids\":[\"All/New Customers/New Customers/Outdoors/Bag<br>Boy<br>Beverage<br>Holder<br>\",\"All/New Customers/New Customers/Outdoors/Bag<br>Boy<br>M330<br>Push<br>Cart<br>\",\"All/New Customers/New Customers/Footwear/Bowflex<br>SelectTech<br>1090<br>Dumbbells<br>\",\"All/New Customers/New Customers/Outdoors/Bridgestone<br>e6<br>Straight<br>Distance<br>NFL<br>Carolina<br>\",\"All/New Customers/New Customers/Outdoors/Bridgestone<br>e6<br>Straight<br>Distance<br>NFL<br>San<br>Dieg<br>\",\"All/New Customers/New Customers/Outdoors/Bridgestone<br>e6<br>Straight<br>Distance<br>NFL<br>Tennesse<br>\",\"All/New Customers/New Customers/Footwear/Brooks<br>Women's<br>Ghost<br>6<br>Running<br>Shoe<br>\",\"All/New Customers/New Customers/Outdoors/Bushnell<br>Pro<br>X7<br>Jolt<br>Slope<br>Rangefinder<br>\",\"All/New Customers/New Customers/Outdoors/Cleveland<br>Golf<br>Collegiate<br>My<br>Custom<br>Wedge<br>588<br>\",\"All/New Customers/New Customers/Outdoors/Cleveland<br>Golf<br>Women's<br>588<br>RTX<br>CB<br>Satin<br>Chrom<br>\",\"All/New Customers/New Customers/Outdoors/Clicgear<br>8.0<br>Shoe<br>Brush<br>\",\"All/New Customers/New Customers/Outdoors/Clicgear<br>Rovic<br>Cooler<br>Bag<br>\",\"All/New Customers/New Customers/Golf/Columbia<br>Men's<br>PFG<br>Anchor<br>Tough<br>T-Shirt<br>\",\"All/New Customers/New Customers/Fitness/Diamondback<br>Boys'<br>Insight<br>24<br>Performance<br>Hybr<br>\",\"All/New Customers/New Customers/Fitness/Diamondback<br>Girls'<br>Clarity<br>24<br>Hybrid<br>Bike<br>201<br>\",\"All/New Customers/New Customers/Fan Shop/Diamondback<br>Women's<br>Serene<br>Classic<br>Comfort<br>Bi<br>\",\"All/New Customers/New Customers/Fan Shop/ENO<br>Atlas<br>Hammock<br>Straps<br>\",\"All/New Customers/New Customers/Fitness/Elevation<br>Training<br>Mask<br>2.0<br>\",\"All/New Customers/New Customers/Fan Shop/Field<br>&<br>Stream<br>Sportsman<br>16<br>Gun<br>Fire<br>Safe<br>\",\"All/New Customers/New Customers/Outdoors/Fitbit<br>The<br>One<br>Wireless<br>Activity<br>&<br>Sleep<br>Trac<br>\",\"All/New Customers/New Customers/Outdoors/Garmin<br>Approach<br>S3<br>Golf<br>GPS<br>Watch<br>\",\"All/New Customers/New Customers/Outdoors/Garmin<br>Approach<br>S4<br>Golf<br>GPS<br>Watch<br>\",\"All/New Customers/New Customers/Outdoors/Garmin<br>Forerunner<br>910XT<br>GPS<br>Watch<br>\",\"All/New Customers/New Customers/Outdoors/Glove<br>It<br>Imperial<br>Golf<br>Towel<br>\",\"All/New Customers/New Customers/Outdoors/Glove<br>It<br>Urban<br>Brick<br>Golf<br>Towel<br>\",\"All/New Customers/New Customers/Outdoors/Glove<br>It<br>Women's<br>Imperial<br>Golf<br>Glove<br>\",\"All/New Customers/New Customers/Outdoors/Glove<br>It<br>Women's<br>Mod<br>Oval<br>3-Zip<br>Carry<br>All<br>Gol<br>\",\"All/New Customers/New Customers/Outdoors/Glove<br>It<br>Women's<br>Mod<br>Oval<br>Golf<br>Glove<br>\",\"All/New Customers/New Customers/Footwear/GoPro<br>HERO3+<br>Black<br>Edition<br>Camera<br>\",\"All/New Customers/New Customers/Outdoors/GolfBuddy<br>VT3<br>GPS<br>Watch<br>\",\"All/New Customers/New Customers/Outdoors/Hirzl<br>Men's<br>Hybrid<br>Golf<br>Glove<br>\",\"All/New Customers/New Customers/Outdoors/Hirzl<br>Women's<br>Hybrid<br>Golf<br>Glove<br>\",\"All/New Customers/New Customers/Outdoors/Hirzl<br>Women's<br>Soffft<br>Flex<br>Golf<br>Glove<br>\",\"All/New Customers/New Customers/Outdoors/LIJA<br>Women's<br>Argyle<br>Golf<br>Polo<br>\",\"All/New Customers/New Customers/Outdoors/LIJA<br>Women's<br>Button<br>Golf<br>Dress<br>\",\"All/New Customers/New Customers/Outdoors/LIJA<br>Women's<br>Eyelet<br>Sleeveless<br>Golf<br>Polo<br>\",\"All/New Customers/New Customers/Outdoors/LIJA<br>Women's<br>Mid-Length<br>Panel<br>Golf<br>Shorts<br>\",\"All/New Customers/New Customers/Outdoors/MDGolf<br>Pittsburgh<br>Penguins<br>Putter<br>\",\"All/New Customers/New Customers/Outdoors/Merrell<br>Men's<br>All<br>Out<br>Flash<br>Trail<br>Running<br>Sho<br>\",\"All/New Customers/New Customers/Outdoors/Merrell<br>Women's<br>Grassbow<br>Sport<br>Hiking<br>Shoe<br>\",\"All/New Customers/New Customers/Outdoors/Merrell<br>Women's<br>Grassbow<br>Sport<br>Waterproof<br>Hik<br>\",\"All/New Customers/New Customers/Outdoors/Merrell<br>Women's<br>Siren<br>Mid<br>Waterproof<br>Hiking<br>B<br>\",\"All/New Customers/New Customers/Outdoors/Mio<br>ALPHA<br>Heart<br>Rate<br>Monitor/Sport<br>Watch<br>\",\"All/New Customers/New Customers/Fitness/Nike<br>Dri-FIT<br>Crew<br>Sock<br>6<br>Pack<br>\",\"All/New Customers/New Customers/Fitness/Nike<br>Kids'<br>Grade<br>School<br>KD<br>VI<br>Basketball<br>Shoe<br>\",\"All/New Customers/New Customers/Apparel/Nike<br>Men's<br>CJ<br>Elite<br>2<br>TD<br>Football<br>Cleat<br>\",\"All/New Customers/New Customers/Fitness/Nike<br>Men's<br>Comfort<br>2<br>Slide<br>\",\"All/New Customers/New Customers/Golf/Nike<br>Men's<br>Deutschland<br>Weltmeister<br>Winners<br>Bl<br>\",\"All/New Customers/New Customers/Golf/Nike<br>Men's<br>Dri-FIT<br>Victory<br>Golf<br>Polo<br>\",\"All/New Customers/New Customers/Fitness/Nike<br>Men's<br>Fingertrap<br>Max<br>Training<br>Shoe<br>\",\"All/New Customers/New Customers/Footwear/Nike<br>Men's<br>Free<br>5.0+<br>Running<br>Shoe<br>\",\"All/New Customers/New Customers/Footwear/Nike<br>Men's<br>Free<br>TR<br>5.0<br>TB<br>Training<br>Shoe<br>\",\"All/New Customers/New Customers/Golf/Nike<br>Men's<br>Kobe<br>IX<br>Elite<br>Low<br>Basketball<br>Shoe<br>\",\"All/New Customers/New Customers/Footwear/Nike<br>Women's<br>Free<br>5.0<br>TR<br>FIT<br>PRT<br>4<br>Training<br>S<br>\",\"All/New Customers/New Customers/Fitness/Nike<br>Women's<br>Legend<br>V-Neck<br>T-Shirt<br>\",\"All/New Customers/New Customers/Footwear/Nike<br>Women's<br>Tempo<br>Shorts<br>\",\"All/New Customers/New Customers/Fan Shop/O'Brien<br>Men's<br>Neoprene<br>Life<br>Vest<br>\",\"All/New Customers/New Customers/Outdoors/Ogio<br>Race<br>Golf<br>Shoes<br>\",\"All/New Customers/New Customers/Fan Shop/Pelican<br>Maverick<br>100X<br>Kayak<br>\",\"All/New Customers/New Customers/Fan Shop/Pelican<br>Sunstream<br>100<br>Kayak<br>\",\"All/New Customers/New Customers/Apparel/Perfect<br>Fitness<br>Perfect<br>Rip<br>Deck<br>\",\"All/New Customers/New Customers/Outdoors/Polar<br>FT4<br>Heart<br>Rate<br>Monitor<br>\",\"All/New Customers/New Customers/Outdoors/Polar<br>Loop<br>Activity<br>Tracker<br>\",\"All/New Customers/New Customers/Fitness/SOLE<br>E25<br>Elliptical<br>\",\"All/New Customers/New Customers/Fitness/Stiga<br>Master<br>Series<br>ST3100<br>Competition<br>Indoor<br>\",\"All/New Customers/New Customers/Golf/TYR<br>Boys'<br>Team<br>Digi<br>Jammer<br>\",\"All/New Customers/New Customers/Outdoors/TaylorMade<br>2014<br>Purelite<br>Stand<br>Bag<br>\",\"All/New Customers/New Customers/Outdoors/TaylorMade<br>White<br>Smoke<br>IN-12<br>Putter<br>\",\"All/New Customers/New Customers/Outdoors/TaylorMade<br>Women's<br>RBZ<br>SL<br>Rescue<br>\",\"All/New Customers/New Customers/Outdoors/Team<br>Golf<br>New<br>England<br>Patriots<br>Putter<br>Grip<br>\",\"All/New Customers/New Customers/Outdoors/Team<br>Golf<br>Pittsburgh<br>Steelers<br>Putter<br>Grip<br>\",\"All/New Customers/New Customers/Outdoors/Team<br>Golf<br>San<br>Francisco<br>Giants<br>Putter<br>Grip<br>\",\"All/New Customers/New Customers/Outdoors/Team<br>Golf<br>St.<br>Louis<br>Cardinals<br>Putter<br>Grip<br>\",\"All/New Customers/New Customers/Outdoors/Team<br>Golf<br>Tennessee<br>Volunteers<br>Putter<br>Grip<br>\",\"All/New Customers/New Customers/Outdoors/Team<br>Golf<br>Texas<br>Longhorns<br>Putter<br>Grip<br>\",\"All/New Customers/New Customers/Fan Shop/The<br>North<br>Face<br>Women's<br>Recon<br>Backpack<br>\",\"All/New Customers/New Customers/Outdoors/Titleist<br>Club<br>Glove<br>Travel<br>Cover<br>\",\"All/New Customers/New Customers/Outdoors/Titleist<br>Pro<br>V1<br>High<br>Numbers<br>Personalized<br>Gol<br>\",\"All/New Customers/New Customers/Outdoors/Titleist<br>Pro<br>V1x<br>Golf<br>Balls<br>\",\"All/New Customers/New Customers/Outdoors/Titleist<br>Pro<br>V1x<br>High<br>Numbers<br>Golf<br>Balls<br>\",\"All/New Customers/New Customers/Outdoors/Titleist<br>Pro<br>V1x<br>High<br>Numbers<br>Personalized<br>Go<br>\",\"All/New Customers/New Customers/Outdoors/Titleist<br>Small<br>Wheeled<br>Travel<br>Cover<br>\",\"All/New Customers/New Customers/Outdoors/Top<br>Flite<br>Women's<br>2014<br>XL<br>Hybrid<br>\",\"All/New Customers/New Customers/Apparel/Total<br>Gym<br>1400<br>\",\"All/New Customers/New Customers/Golf/Under<br>Armour<br>Girls'<br>Toddler<br>Spine<br>Surge<br>Runni<br>\",\"All/New Customers/New Customers/Footwear/Under<br>Armour<br>Hustle<br>Storm<br>Medium<br>Duffle<br>Bag<br>\",\"All/New Customers/New Customers/Footwear/Under<br>Armour<br>Kids'<br>Mercenary<br>Slide<br>\",\"All/New Customers/New Customers/Footwear/Under<br>Armour<br>Men's<br>Compression<br>EV<br>SL<br>Slide<br>\",\"All/New Customers/New Customers/Fitness/Under<br>Armour<br>Men's<br>Tech<br>II<br>T-Shirt<br>\",\"All/New Customers/New Customers/Footwear/Under<br>Armour<br>Women's<br>Ignite<br>PIP<br>VI<br>Slide<br>\",\"All/New Customers/New Customers/Footwear/Under<br>Armour<br>Women's<br>Ignite<br>Slide<br>\",\"All/New Customers/New Customers/Footwear/Under<br>Armour<br>Women's<br>Micro<br>G<br>Skulpt<br>Running<br>S<br>\",\"All/New Customers/New Customers/Footwear/Yakima<br>DoubleDown<br>Ace<br>Hitch<br>Mount<br>4-Bike<br>Rack<br>\",\"All/New Customers/New Customers/Fitness/adidas<br>Brazuca<br>2014<br>Official<br>Match<br>Ball<br>\",\"All/New Customers/New Customers/Fitness/adidas<br>Kids'<br>F5<br>Messi<br>FG<br>Soccer<br>Cleat<br>\",\"All/New Customers/New Customers/Fitness/adidas<br>Men's<br>F10<br>Messi<br>TRX<br>FG<br>Soccer<br>Cleat<br>\",\"All/New Customers/New Customers/Golf/adidas<br>Men's<br>Germany<br>Black<br>Crest<br>Away<br>Tee<br>\",\"All/New Customers/New Customers/Golf/adidas<br>Youth<br>Germany<br>Black/Red<br>Away<br>Match<br>Soc<br>\",\"All/New Customers/New Customers/Fan Shop/insta-bed<br>Neverflat<br>Air<br>Mattress<br>\",\"All/New Customers/New Customers/Apparel\",\"All/New Customers/New Customers/Fan Shop\",\"All/New Customers/New Customers/Fitness\",\"All/New Customers/New Customers/Footwear\",\"All/New Customers/New Customers/Golf\",\"All/New Customers/New Customers/Outdoors\",\"All/New Customers/New Customers\",\"All/New Customers\",\"All\"],\"labels\":[\"Bag<br>Boy<br>Beverage<br>Holder<br>\",\"Bag<br>Boy<br>M330<br>Push<br>Cart<br>\",\"Bowflex<br>SelectTech<br>1090<br>Dumbbells<br>\",\"Bridgestone<br>e6<br>Straight<br>Distance<br>NFL<br>Carolina<br>\",\"Bridgestone<br>e6<br>Straight<br>Distance<br>NFL<br>San<br>Dieg<br>\",\"Bridgestone<br>e6<br>Straight<br>Distance<br>NFL<br>Tennesse<br>\",\"Brooks<br>Women's<br>Ghost<br>6<br>Running<br>Shoe<br>\",\"Bushnell<br>Pro<br>X7<br>Jolt<br>Slope<br>Rangefinder<br>\",\"Cleveland<br>Golf<br>Collegiate<br>My<br>Custom<br>Wedge<br>588<br>\",\"Cleveland<br>Golf<br>Women's<br>588<br>RTX<br>CB<br>Satin<br>Chrom<br>\",\"Clicgear<br>8.0<br>Shoe<br>Brush<br>\",\"Clicgear<br>Rovic<br>Cooler<br>Bag<br>\",\"Columbia<br>Men's<br>PFG<br>Anchor<br>Tough<br>T-Shirt<br>\",\"Diamondback<br>Boys'<br>Insight<br>24<br>Performance<br>Hybr<br>\",\"Diamondback<br>Girls'<br>Clarity<br>24<br>Hybrid<br>Bike<br>201<br>\",\"Diamondback<br>Women's<br>Serene<br>Classic<br>Comfort<br>Bi<br>\",\"ENO<br>Atlas<br>Hammock<br>Straps<br>\",\"Elevation<br>Training<br>Mask<br>2.0<br>\",\"Field<br>&<br>Stream<br>Sportsman<br>16<br>Gun<br>Fire<br>Safe<br>\",\"Fitbit<br>The<br>One<br>Wireless<br>Activity<br>&<br>Sleep<br>Trac<br>\",\"Garmin<br>Approach<br>S3<br>Golf<br>GPS<br>Watch<br>\",\"Garmin<br>Approach<br>S4<br>Golf<br>GPS<br>Watch<br>\",\"Garmin<br>Forerunner<br>910XT<br>GPS<br>Watch<br>\",\"Glove<br>It<br>Imperial<br>Golf<br>Towel<br>\",\"Glove<br>It<br>Urban<br>Brick<br>Golf<br>Towel<br>\",\"Glove<br>It<br>Women's<br>Imperial<br>Golf<br>Glove<br>\",\"Glove<br>It<br>Women's<br>Mod<br>Oval<br>3-Zip<br>Carry<br>All<br>Gol<br>\",\"Glove<br>It<br>Women's<br>Mod<br>Oval<br>Golf<br>Glove<br>\",\"GoPro<br>HERO3+<br>Black<br>Edition<br>Camera<br>\",\"GolfBuddy<br>VT3<br>GPS<br>Watch<br>\",\"Hirzl<br>Men's<br>Hybrid<br>Golf<br>Glove<br>\",\"Hirzl<br>Women's<br>Hybrid<br>Golf<br>Glove<br>\",\"Hirzl<br>Women's<br>Soffft<br>Flex<br>Golf<br>Glove<br>\",\"LIJA<br>Women's<br>Argyle<br>Golf<br>Polo<br>\",\"LIJA<br>Women's<br>Button<br>Golf<br>Dress<br>\",\"LIJA<br>Women's<br>Eyelet<br>Sleeveless<br>Golf<br>Polo<br>\",\"LIJA<br>Women's<br>Mid-Length<br>Panel<br>Golf<br>Shorts<br>\",\"MDGolf<br>Pittsburgh<br>Penguins<br>Putter<br>\",\"Merrell<br>Men's<br>All<br>Out<br>Flash<br>Trail<br>Running<br>Sho<br>\",\"Merrell<br>Women's<br>Grassbow<br>Sport<br>Hiking<br>Shoe<br>\",\"Merrell<br>Women's<br>Grassbow<br>Sport<br>Waterproof<br>Hik<br>\",\"Merrell<br>Women's<br>Siren<br>Mid<br>Waterproof<br>Hiking<br>B<br>\",\"Mio<br>ALPHA<br>Heart<br>Rate<br>Monitor/Sport<br>Watch<br>\",\"Nike<br>Dri-FIT<br>Crew<br>Sock<br>6<br>Pack<br>\",\"Nike<br>Kids'<br>Grade<br>School<br>KD<br>VI<br>Basketball<br>Shoe<br>\",\"Nike<br>Men's<br>CJ<br>Elite<br>2<br>TD<br>Football<br>Cleat<br>\",\"Nike<br>Men's<br>Comfort<br>2<br>Slide<br>\",\"Nike<br>Men's<br>Deutschland<br>Weltmeister<br>Winners<br>Bl<br>\",\"Nike<br>Men's<br>Dri-FIT<br>Victory<br>Golf<br>Polo<br>\",\"Nike<br>Men's<br>Fingertrap<br>Max<br>Training<br>Shoe<br>\",\"Nike<br>Men's<br>Free<br>5.0+<br>Running<br>Shoe<br>\",\"Nike<br>Men's<br>Free<br>TR<br>5.0<br>TB<br>Training<br>Shoe<br>\",\"Nike<br>Men's<br>Kobe<br>IX<br>Elite<br>Low<br>Basketball<br>Shoe<br>\",\"Nike<br>Women's<br>Free<br>5.0<br>TR<br>FIT<br>PRT<br>4<br>Training<br>S<br>\",\"Nike<br>Women's<br>Legend<br>V-Neck<br>T-Shirt<br>\",\"Nike<br>Women's<br>Tempo<br>Shorts<br>\",\"O'Brien<br>Men's<br>Neoprene<br>Life<br>Vest<br>\",\"Ogio<br>Race<br>Golf<br>Shoes<br>\",\"Pelican<br>Maverick<br>100X<br>Kayak<br>\",\"Pelican<br>Sunstream<br>100<br>Kayak<br>\",\"Perfect<br>Fitness<br>Perfect<br>Rip<br>Deck<br>\",\"Polar<br>FT4<br>Heart<br>Rate<br>Monitor<br>\",\"Polar<br>Loop<br>Activity<br>Tracker<br>\",\"SOLE<br>E25<br>Elliptical<br>\",\"Stiga<br>Master<br>Series<br>ST3100<br>Competition<br>Indoor<br>\",\"TYR<br>Boys'<br>Team<br>Digi<br>Jammer<br>\",\"TaylorMade<br>2014<br>Purelite<br>Stand<br>Bag<br>\",\"TaylorMade<br>White<br>Smoke<br>IN-12<br>Putter<br>\",\"TaylorMade<br>Women's<br>RBZ<br>SL<br>Rescue<br>\",\"Team<br>Golf<br>New<br>England<br>Patriots<br>Putter<br>Grip<br>\",\"Team<br>Golf<br>Pittsburgh<br>Steelers<br>Putter<br>Grip<br>\",\"Team<br>Golf<br>San<br>Francisco<br>Giants<br>Putter<br>Grip<br>\",\"Team<br>Golf<br>St.<br>Louis<br>Cardinals<br>Putter<br>Grip<br>\",\"Team<br>Golf<br>Tennessee<br>Volunteers<br>Putter<br>Grip<br>\",\"Team<br>Golf<br>Texas<br>Longhorns<br>Putter<br>Grip<br>\",\"The<br>North<br>Face<br>Women's<br>Recon<br>Backpack<br>\",\"Titleist<br>Club<br>Glove<br>Travel<br>Cover<br>\",\"Titleist<br>Pro<br>V1<br>High<br>Numbers<br>Personalized<br>Gol<br>\",\"Titleist<br>Pro<br>V1x<br>Golf<br>Balls<br>\",\"Titleist<br>Pro<br>V1x<br>High<br>Numbers<br>Golf<br>Balls<br>\",\"Titleist<br>Pro<br>V1x<br>High<br>Numbers<br>Personalized<br>Go<br>\",\"Titleist<br>Small<br>Wheeled<br>Travel<br>Cover<br>\",\"Top<br>Flite<br>Women's<br>2014<br>XL<br>Hybrid<br>\",\"Total<br>Gym<br>1400<br>\",\"Under<br>Armour<br>Girls'<br>Toddler<br>Spine<br>Surge<br>Runni<br>\",\"Under<br>Armour<br>Hustle<br>Storm<br>Medium<br>Duffle<br>Bag<br>\",\"Under<br>Armour<br>Kids'<br>Mercenary<br>Slide<br>\",\"Under<br>Armour<br>Men's<br>Compression<br>EV<br>SL<br>Slide<br>\",\"Under<br>Armour<br>Men's<br>Tech<br>II<br>T-Shirt<br>\",\"Under<br>Armour<br>Women's<br>Ignite<br>PIP<br>VI<br>Slide<br>\",\"Under<br>Armour<br>Women's<br>Ignite<br>Slide<br>\",\"Under<br>Armour<br>Women's<br>Micro<br>G<br>Skulpt<br>Running<br>S<br>\",\"Yakima<br>DoubleDown<br>Ace<br>Hitch<br>Mount<br>4-Bike<br>Rack<br>\",\"adidas<br>Brazuca<br>2014<br>Official<br>Match<br>Ball<br>\",\"adidas<br>Kids'<br>F5<br>Messi<br>FG<br>Soccer<br>Cleat<br>\",\"adidas<br>Men's<br>F10<br>Messi<br>TRX<br>FG<br>Soccer<br>Cleat<br>\",\"adidas<br>Men's<br>Germany<br>Black<br>Crest<br>Away<br>Tee<br>\",\"adidas<br>Youth<br>Germany<br>Black/Red<br>Away<br>Match<br>Soc<br>\",\"insta-bed<br>Neverflat<br>Air<br>Mattress<br>\",\"Apparel\",\"Fan Shop\",\"Fitness\",\"Footwear\",\"Golf\",\"Outdoors\",\"New Customers\",\"New Customers\",\"All\"],\"name\":\"\",\"parents\":[\"All/New Customers/New Customers/Outdoors\",\"All/New Customers/New Customers/Outdoors\",\"All/New Customers/New Customers/Footwear\",\"All/New Customers/New Customers/Outdoors\",\"All/New Customers/New Customers/Outdoors\",\"All/New Customers/New Customers/Outdoors\",\"All/New Customers/New Customers/Footwear\",\"All/New Customers/New Customers/Outdoors\",\"All/New Customers/New Customers/Outdoors\",\"All/New Customers/New Customers/Outdoors\",\"All/New Customers/New Customers/Outdoors\",\"All/New Customers/New Customers/Outdoors\",\"All/New Customers/New Customers/Golf\",\"All/New Customers/New Customers/Fitness\",\"All/New Customers/New Customers/Fitness\",\"All/New Customers/New Customers/Fan Shop\",\"All/New Customers/New Customers/Fan Shop\",\"All/New Customers/New Customers/Fitness\",\"All/New Customers/New Customers/Fan Shop\",\"All/New Customers/New Customers/Outdoors\",\"All/New Customers/New Customers/Outdoors\",\"All/New Customers/New Customers/Outdoors\",\"All/New Customers/New Customers/Outdoors\",\"All/New Customers/New Customers/Outdoors\",\"All/New Customers/New Customers/Outdoors\",\"All/New Customers/New Customers/Outdoors\",\"All/New Customers/New Customers/Outdoors\",\"All/New Customers/New Customers/Outdoors\",\"All/New Customers/New Customers/Footwear\",\"All/New Customers/New Customers/Outdoors\",\"All/New Customers/New Customers/Outdoors\",\"All/New Customers/New Customers/Outdoors\",\"All/New Customers/New Customers/Outdoors\",\"All/New Customers/New Customers/Outdoors\",\"All/New Customers/New Customers/Outdoors\",\"All/New Customers/New Customers/Outdoors\",\"All/New Customers/New Customers/Outdoors\",\"All/New Customers/New Customers/Outdoors\",\"All/New Customers/New Customers/Outdoors\",\"All/New Customers/New Customers/Outdoors\",\"All/New Customers/New Customers/Outdoors\",\"All/New Customers/New Customers/Outdoors\",\"All/New Customers/New Customers/Outdoors\",\"All/New Customers/New Customers/Fitness\",\"All/New Customers/New Customers/Fitness\",\"All/New Customers/New Customers/Apparel\",\"All/New Customers/New Customers/Fitness\",\"All/New Customers/New Customers/Golf\",\"All/New Customers/New Customers/Golf\",\"All/New Customers/New Customers/Fitness\",\"All/New Customers/New Customers/Footwear\",\"All/New Customers/New Customers/Footwear\",\"All/New Customers/New Customers/Golf\",\"All/New Customers/New Customers/Footwear\",\"All/New Customers/New Customers/Fitness\",\"All/New Customers/New Customers/Footwear\",\"All/New Customers/New Customers/Fan Shop\",\"All/New Customers/New Customers/Outdoors\",\"All/New Customers/New Customers/Fan Shop\",\"All/New Customers/New Customers/Fan Shop\",\"All/New Customers/New Customers/Apparel\",\"All/New Customers/New Customers/Outdoors\",\"All/New Customers/New Customers/Outdoors\",\"All/New Customers/New Customers/Fitness\",\"All/New Customers/New Customers/Fitness\",\"All/New Customers/New Customers/Golf\",\"All/New Customers/New Customers/Outdoors\",\"All/New Customers/New Customers/Outdoors\",\"All/New Customers/New Customers/Outdoors\",\"All/New Customers/New Customers/Outdoors\",\"All/New Customers/New Customers/Outdoors\",\"All/New Customers/New Customers/Outdoors\",\"All/New Customers/New Customers/Outdoors\",\"All/New Customers/New Customers/Outdoors\",\"All/New Customers/New Customers/Outdoors\",\"All/New Customers/New Customers/Fan Shop\",\"All/New Customers/New Customers/Outdoors\",\"All/New Customers/New Customers/Outdoors\",\"All/New Customers/New Customers/Outdoors\",\"All/New Customers/New Customers/Outdoors\",\"All/New Customers/New Customers/Outdoors\",\"All/New Customers/New Customers/Outdoors\",\"All/New Customers/New Customers/Outdoors\",\"All/New Customers/New Customers/Apparel\",\"All/New Customers/New Customers/Golf\",\"All/New Customers/New Customers/Footwear\",\"All/New Customers/New Customers/Footwear\",\"All/New Customers/New Customers/Footwear\",\"All/New Customers/New Customers/Fitness\",\"All/New Customers/New Customers/Footwear\",\"All/New Customers/New Customers/Footwear\",\"All/New Customers/New Customers/Footwear\",\"All/New Customers/New Customers/Footwear\",\"All/New Customers/New Customers/Fitness\",\"All/New Customers/New Customers/Fitness\",\"All/New Customers/New Customers/Fitness\",\"All/New Customers/New Customers/Golf\",\"All/New Customers/New Customers/Golf\",\"All/New Customers/New Customers/Fan Shop\",\"All/New Customers/New Customers\",\"All/New Customers/New Customers\",\"All/New Customers/New Customers\",\"All/New Customers/New Customers\",\"All/New Customers/New Customers\",\"All/New Customers/New Customers\",\"All/New Customers\",\"All\",\"\"],\"values\":[504.0400009,1380.6199952,449.9899902,932.6800079,161.8700027,514.06999594,1707.55001832,545.9899902,382.17999269999996,1156.08998868,168.720000261,924.56001273,855.60000233,1820.9299773,776.9699859,130816.0931712,952.16999818,1023.86999518,238879.1564096,2447.77995315,1972.4100495,593.9799804,1909.949951,290.51999759,368.40999602,396.98999596,301.47999573,307.85000036,687.9799804,720.960022,347.45999527000004,216.29999542,284.95000269,364.79999542999997,568.61999508,1760.84999848,1921.0,1186.24997724,587.8899917800001,2488.7599945,477.0599975,1052.9099884,1259.6699829,395.55999756,491.9499969,95889.50924207999,986.63001252,764.9999961999999,102573.5,1164.27998376,121085.55938600001,2406.75998666,1057.9400329999999,1883.64998626,491.25,821.10000227,94375.39905568,883.9399794999999,2465.6699216,102467.303135,153126.19209894,1452.44000239,394.7200089,1859.9799804,2144.9300229,930.1600035600001,1409.3100127999999,1790.8199921,471.8599931,316.60999864999997,430.82999987,455.32000729000004,576.27000235,448.56999584000005,625.24999419,1683.50000007,2261.9199522,576.5700074,1055.29999925,1228.76998907,1072.02998356,1059.9500275,395.09000206,1496.9400024000001,40782.15029665,492.65000719,845.29999361,916.2300033,326.36999506,583.16999815,872.8300055999999,1199.9999848,1895.6700134,1177.5199889,455.91000742,1043.22999955,384.0,312.199997,782.1900026,250512.64134341996,572421.48169393,14159.37994335,135848.43935616,147660.55032874,45403.239791631,1166005.732457231,1166005.732457231,1166005.732457231],\"visible\":false,\"type\":\"treemap\"},{\"branchvalues\":\"total\",\"domain\":{\"x\":[0.0,1.0],\"y\":[0.0,1.0]},\"hovertemplate\":\"labels=%{label}<br>Total_Revenue=%{value}<br>parent=%{parent}<br>id=%{id}<extra></extra>\",\"ids\":[\"All/Unsatisfied/Unsatisfied Customers/Outdoors/Bag<br>Boy<br>Beverage<br>Holder<br>\",\"All/Unsatisfied/Unsatisfied Customers/Outdoors/Bag<br>Boy<br>M330<br>Push<br>Cart<br>\",\"All/Unsatisfied/Unsatisfied Customers/Outdoors/Bridgestone<br>e6<br>Straight<br>Distance<br>NFL<br>Carolina<br>\",\"All/Unsatisfied/Unsatisfied Customers/Outdoors/Bridgestone<br>e6<br>Straight<br>Distance<br>NFL<br>San<br>Dieg<br>\",\"All/Unsatisfied/Unsatisfied Customers/Outdoors/Bridgestone<br>e6<br>Straight<br>Distance<br>NFL<br>Tennesse<br>\",\"All/Unsatisfied/Unsatisfied Customers/Footwear/Brooks<br>Women's<br>Ghost<br>6<br>Running<br>Shoe<br>\",\"All/Unsatisfied/Unsatisfied Customers/Outdoors/Cleveland<br>Golf<br>Collegiate<br>My<br>Custom<br>Wedge<br>588<br>\",\"All/Unsatisfied/Unsatisfied Customers/Outdoors/Cleveland<br>Golf<br>Women's<br>588<br>RTX<br>CB<br>Satin<br>Chrom<br>\",\"All/Unsatisfied/Unsatisfied Customers/Outdoors/Clicgear<br>8.0<br>Shoe<br>Brush<br>\",\"All/Unsatisfied/Unsatisfied Customers/Outdoors/Clicgear<br>Rovic<br>Cooler<br>Bag<br>\",\"All/Unsatisfied/Unsatisfied Customers/Golf/Columbia<br>Men's<br>PFG<br>Anchor<br>Tough<br>T-Shirt<br>\",\"All/Unsatisfied/Unsatisfied Customers/Fan Shop/Diamondback<br>Women's<br>Serene<br>Classic<br>Comfort<br>Bi<br>\",\"All/Unsatisfied/Unsatisfied Customers/Fan Shop/ENO<br>Atlas<br>Hammock<br>Straps<br>\",\"All/Unsatisfied/Unsatisfied Customers/Fitness/Elevation<br>Training<br>Mask<br>2.0<br>\",\"All/Unsatisfied/Unsatisfied Customers/Fan Shop/Field<br>&<br>Stream<br>Sportsman<br>16<br>Gun<br>Fire<br>Safe<br>\",\"All/Unsatisfied/Unsatisfied Customers/Outdoors/Fitbit<br>The<br>One<br>Wireless<br>Activity<br>&<br>Sleep<br>Trac<br>\",\"All/Unsatisfied/Unsatisfied Customers/Outdoors/Garmin<br>Approach<br>S3<br>Golf<br>GPS<br>Watch<br>\",\"All/Unsatisfied/Unsatisfied Customers/Outdoors/Glove<br>It<br>Imperial<br>Golf<br>Towel<br>\",\"All/Unsatisfied/Unsatisfied Customers/Outdoors/Glove<br>It<br>Urban<br>Brick<br>Golf<br>Towel<br>\",\"All/Unsatisfied/Unsatisfied Customers/Outdoors/Glove<br>It<br>Women's<br>Imperial<br>Golf<br>Glove<br>\",\"All/Unsatisfied/Unsatisfied Customers/Outdoors/Glove<br>It<br>Women's<br>Mod<br>Oval<br>3-Zip<br>Carry<br>All<br>Gol<br>\",\"All/Unsatisfied/Unsatisfied Customers/Outdoors/Glove<br>It<br>Women's<br>Mod<br>Oval<br>Golf<br>Glove<br>\",\"All/Unsatisfied/Unsatisfied Customers/Outdoors/GolfBuddy<br>VT3<br>GPS<br>Watch<br>\",\"All/Unsatisfied/Unsatisfied Customers/Outdoors/Hirzl<br>Men's<br>Hybrid<br>Golf<br>Glove<br>\",\"All/Unsatisfied/Unsatisfied Customers/Outdoors/Hirzl<br>Women's<br>Hybrid<br>Golf<br>Glove<br>\",\"All/Unsatisfied/Unsatisfied Customers/Outdoors/Hirzl<br>Women's<br>Soffft<br>Flex<br>Golf<br>Glove<br>\",\"All/Unsatisfied/Unsatisfied Customers/Outdoors/LIJA<br>Women's<br>Argyle<br>Golf<br>Polo<br>\",\"All/Unsatisfied/Unsatisfied Customers/Outdoors/LIJA<br>Women's<br>Button<br>Golf<br>Dress<br>\",\"All/Unsatisfied/Unsatisfied Customers/Outdoors/LIJA<br>Women's<br>Eyelet<br>Sleeveless<br>Golf<br>Polo<br>\",\"All/Unsatisfied/Unsatisfied Customers/Outdoors/LIJA<br>Women's<br>Mid-Length<br>Panel<br>Golf<br>Shorts<br>\",\"All/Unsatisfied/Unsatisfied Customers/Outdoors/MDGolf<br>Pittsburgh<br>Penguins<br>Putter<br>\",\"All/Unsatisfied/Unsatisfied Customers/Outdoors/Merrell<br>Men's<br>All<br>Out<br>Flash<br>Trail<br>Running<br>Sho<br>\",\"All/Unsatisfied/Unsatisfied Customers/Outdoors/Merrell<br>Women's<br>Grassbow<br>Sport<br>Hiking<br>Shoe<br>\",\"All/Unsatisfied/Unsatisfied Customers/Outdoors/Merrell<br>Women's<br>Grassbow<br>Sport<br>Waterproof<br>Hik<br>\",\"All/Unsatisfied/Unsatisfied Customers/Outdoors/Merrell<br>Women's<br>Siren<br>Mid<br>Waterproof<br>Hiking<br>B<br>\",\"All/Unsatisfied/Unsatisfied Customers/Outdoors/Mio<br>ALPHA<br>Heart<br>Rate<br>Monitor/Sport<br>Watch<br>\",\"All/Unsatisfied/Unsatisfied Customers/Fitness/Nike<br>Dri-FIT<br>Crew<br>Sock<br>6<br>Pack<br>\",\"All/Unsatisfied/Unsatisfied Customers/Fitness/Nike<br>Kids'<br>Grade<br>School<br>KD<br>VI<br>Basketball<br>Shoe<br>\",\"All/Unsatisfied/Unsatisfied Customers/Apparel/Nike<br>Men's<br>CJ<br>Elite<br>2<br>TD<br>Football<br>Cleat<br>\",\"All/Unsatisfied/Unsatisfied Customers/Fitness/Nike<br>Men's<br>Comfort<br>2<br>Slide<br>\",\"All/Unsatisfied/Unsatisfied Customers/Golf/Nike<br>Men's<br>Deutschland<br>Weltmeister<br>Winners<br>Bl<br>\",\"All/Unsatisfied/Unsatisfied Customers/Golf/Nike<br>Men's<br>Dri-FIT<br>Victory<br>Golf<br>Polo<br>\",\"All/Unsatisfied/Unsatisfied Customers/Fitness/Nike<br>Men's<br>Fingertrap<br>Max<br>Training<br>Shoe<br>\",\"All/Unsatisfied/Unsatisfied Customers/Footwear/Nike<br>Men's<br>Free<br>5.0+<br>Running<br>Shoe<br>\",\"All/Unsatisfied/Unsatisfied Customers/Footwear/Nike<br>Men's<br>Free<br>TR<br>5.0<br>TB<br>Training<br>Shoe<br>\",\"All/Unsatisfied/Unsatisfied Customers/Golf/Nike<br>Men's<br>Kobe<br>IX<br>Elite<br>Low<br>Basketball<br>Shoe<br>\",\"All/Unsatisfied/Unsatisfied Customers/Footwear/Nike<br>Women's<br>Free<br>5.0<br>TR<br>FIT<br>PRT<br>4<br>Training<br>S<br>\",\"All/Unsatisfied/Unsatisfied Customers/Fitness/Nike<br>Women's<br>Legend<br>V-Neck<br>T-Shirt<br>\",\"All/Unsatisfied/Unsatisfied Customers/Footwear/Nike<br>Women's<br>Tempo<br>Shorts<br>\",\"All/Unsatisfied/Unsatisfied Customers/Fan Shop/O'Brien<br>Men's<br>Neoprene<br>Life<br>Vest<br>\",\"All/Unsatisfied/Unsatisfied Customers/Outdoors/Ogio<br>Race<br>Golf<br>Shoes<br>\",\"All/Unsatisfied/Unsatisfied Customers/Fan Shop/Pelican<br>Sunstream<br>100<br>Kayak<br>\",\"All/Unsatisfied/Unsatisfied Customers/Apparel/Perfect<br>Fitness<br>Perfect<br>Rip<br>Deck<br>\",\"All/Unsatisfied/Unsatisfied Customers/Outdoors/Polar<br>FT4<br>Heart<br>Rate<br>Monitor<br>\",\"All/Unsatisfied/Unsatisfied Customers/Golf/TYR<br>Boys'<br>Team<br>Digi<br>Jammer<br>\",\"All/Unsatisfied/Unsatisfied Customers/Outdoors/TaylorMade<br>2014<br>Purelite<br>Stand<br>Bag<br>\",\"All/Unsatisfied/Unsatisfied Customers/Outdoors/TaylorMade<br>White<br>Smoke<br>IN-12<br>Putter<br>\",\"All/Unsatisfied/Unsatisfied Customers/Outdoors/TaylorMade<br>Women's<br>RBZ<br>SL<br>Rescue<br>\",\"All/Unsatisfied/Unsatisfied Customers/Outdoors/Team<br>Golf<br>New<br>England<br>Patriots<br>Putter<br>Grip<br>\",\"All/Unsatisfied/Unsatisfied Customers/Outdoors/Team<br>Golf<br>Pittsburgh<br>Steelers<br>Putter<br>Grip<br>\",\"All/Unsatisfied/Unsatisfied Customers/Outdoors/Team<br>Golf<br>San<br>Francisco<br>Giants<br>Putter<br>Grip<br>\",\"All/Unsatisfied/Unsatisfied Customers/Outdoors/Team<br>Golf<br>St.<br>Louis<br>Cardinals<br>Putter<br>Grip<br>\",\"All/Unsatisfied/Unsatisfied Customers/Outdoors/Team<br>Golf<br>Tennessee<br>Volunteers<br>Putter<br>Grip<br>\",\"All/Unsatisfied/Unsatisfied Customers/Outdoors/Team<br>Golf<br>Texas<br>Longhorns<br>Putter<br>Grip<br>\",\"All/Unsatisfied/Unsatisfied Customers/Fan Shop/The<br>North<br>Face<br>Women's<br>Recon<br>Backpack<br>\",\"All/Unsatisfied/Unsatisfied Customers/Outdoors/Titleist<br>Pro<br>V1<br>High<br>Numbers<br>Personalized<br>Gol<br>\",\"All/Unsatisfied/Unsatisfied Customers/Outdoors/Titleist<br>Pro<br>V1x<br>Golf<br>Balls<br>\",\"All/Unsatisfied/Unsatisfied Customers/Outdoors/Titleist<br>Pro<br>V1x<br>High<br>Numbers<br>Golf<br>Balls<br>\",\"All/Unsatisfied/Unsatisfied Customers/Outdoors/Titleist<br>Pro<br>V1x<br>High<br>Numbers<br>Personalized<br>Go<br>\",\"All/Unsatisfied/Unsatisfied Customers/Outdoors/Titleist<br>Small<br>Wheeled<br>Travel<br>Cover<br>\",\"All/Unsatisfied/Unsatisfied Customers/Outdoors/Top<br>Flite<br>Women's<br>2014<br>XL<br>Hybrid<br>\",\"All/Unsatisfied/Unsatisfied Customers/Golf/Under<br>Armour<br>Girls'<br>Toddler<br>Spine<br>Surge<br>Runni<br>\",\"All/Unsatisfied/Unsatisfied Customers/Footwear/Under<br>Armour<br>Hustle<br>Storm<br>Medium<br>Duffle<br>Bag<br>\",\"All/Unsatisfied/Unsatisfied Customers/Footwear/Under<br>Armour<br>Kids'<br>Mercenary<br>Slide<br>\",\"All/Unsatisfied/Unsatisfied Customers/Footwear/Under<br>Armour<br>Men's<br>Compression<br>EV<br>SL<br>Slide<br>\",\"All/Unsatisfied/Unsatisfied Customers/Fitness/Under<br>Armour<br>Men's<br>Tech<br>II<br>T-Shirt<br>\",\"All/Unsatisfied/Unsatisfied Customers/Footwear/Under<br>Armour<br>Women's<br>Ignite<br>PIP<br>VI<br>Slide<br>\",\"All/Unsatisfied/Unsatisfied Customers/Footwear/Under<br>Armour<br>Women's<br>Ignite<br>Slide<br>\",\"All/Unsatisfied/Unsatisfied Customers/Footwear/Under<br>Armour<br>Women's<br>Micro<br>G<br>Skulpt<br>Running<br>S<br>\",\"All/Unsatisfied/Unsatisfied Customers/Footwear/Yakima<br>DoubleDown<br>Ace<br>Hitch<br>Mount<br>4-Bike<br>Rack<br>\",\"All/Unsatisfied/Unsatisfied Customers/Fitness/adidas<br>Brazuca<br>2014<br>Official<br>Match<br>Ball<br>\",\"All/Unsatisfied/Unsatisfied Customers/Fitness/adidas<br>Kids'<br>F5<br>Messi<br>FG<br>Soccer<br>Cleat<br>\",\"All/Unsatisfied/Unsatisfied Customers/Fitness/adidas<br>Men's<br>F10<br>Messi<br>TRX<br>FG<br>Soccer<br>Cleat<br>\",\"All/Unsatisfied/Unsatisfied Customers/Golf/adidas<br>Men's<br>Germany<br>Black<br>Crest<br>Away<br>Tee<br>\",\"All/Unsatisfied/Unsatisfied Customers/Golf/adidas<br>Youth<br>Germany<br>Black/Red<br>Away<br>Match<br>Soc<br>\",\"All/Unsatisfied/Unsatisfied Customers/Fan Shop/insta-bed<br>Neverflat<br>Air<br>Mattress<br>\",\"All/Unsatisfied/Unsatisfied Customers/Apparel\",\"All/Unsatisfied/Unsatisfied Customers/Fan Shop\",\"All/Unsatisfied/Unsatisfied Customers/Fitness\",\"All/Unsatisfied/Unsatisfied Customers/Footwear\",\"All/Unsatisfied/Unsatisfied Customers/Golf\",\"All/Unsatisfied/Unsatisfied Customers/Outdoors\",\"All/Unsatisfied/Unsatisfied Customers\",\"All/Unsatisfied\",\"All\"],\"labels\":[\"Bag<br>Boy<br>Beverage<br>Holder<br>\",\"Bag<br>Boy<br>M330<br>Push<br>Cart<br>\",\"Bridgestone<br>e6<br>Straight<br>Distance<br>NFL<br>Carolina<br>\",\"Bridgestone<br>e6<br>Straight<br>Distance<br>NFL<br>San<br>Dieg<br>\",\"Bridgestone<br>e6<br>Straight<br>Distance<br>NFL<br>Tennesse<br>\",\"Brooks<br>Women's<br>Ghost<br>6<br>Running<br>Shoe<br>\",\"Cleveland<br>Golf<br>Collegiate<br>My<br>Custom<br>Wedge<br>588<br>\",\"Cleveland<br>Golf<br>Women's<br>588<br>RTX<br>CB<br>Satin<br>Chrom<br>\",\"Clicgear<br>8.0<br>Shoe<br>Brush<br>\",\"Clicgear<br>Rovic<br>Cooler<br>Bag<br>\",\"Columbia<br>Men's<br>PFG<br>Anchor<br>Tough<br>T-Shirt<br>\",\"Diamondback<br>Women's<br>Serene<br>Classic<br>Comfort<br>Bi<br>\",\"ENO<br>Atlas<br>Hammock<br>Straps<br>\",\"Elevation<br>Training<br>Mask<br>2.0<br>\",\"Field<br>&<br>Stream<br>Sportsman<br>16<br>Gun<br>Fire<br>Safe<br>\",\"Fitbit<br>The<br>One<br>Wireless<br>Activity<br>&<br>Sleep<br>Trac<br>\",\"Garmin<br>Approach<br>S3<br>Golf<br>GPS<br>Watch<br>\",\"Glove<br>It<br>Imperial<br>Golf<br>Towel<br>\",\"Glove<br>It<br>Urban<br>Brick<br>Golf<br>Towel<br>\",\"Glove<br>It<br>Women's<br>Imperial<br>Golf<br>Glove<br>\",\"Glove<br>It<br>Women's<br>Mod<br>Oval<br>3-Zip<br>Carry<br>All<br>Gol<br>\",\"Glove<br>It<br>Women's<br>Mod<br>Oval<br>Golf<br>Glove<br>\",\"GolfBuddy<br>VT3<br>GPS<br>Watch<br>\",\"Hirzl<br>Men's<br>Hybrid<br>Golf<br>Glove<br>\",\"Hirzl<br>Women's<br>Hybrid<br>Golf<br>Glove<br>\",\"Hirzl<br>Women's<br>Soffft<br>Flex<br>Golf<br>Glove<br>\",\"LIJA<br>Women's<br>Argyle<br>Golf<br>Polo<br>\",\"LIJA<br>Women's<br>Button<br>Golf<br>Dress<br>\",\"LIJA<br>Women's<br>Eyelet<br>Sleeveless<br>Golf<br>Polo<br>\",\"LIJA<br>Women's<br>Mid-Length<br>Panel<br>Golf<br>Shorts<br>\",\"MDGolf<br>Pittsburgh<br>Penguins<br>Putter<br>\",\"Merrell<br>Men's<br>All<br>Out<br>Flash<br>Trail<br>Running<br>Sho<br>\",\"Merrell<br>Women's<br>Grassbow<br>Sport<br>Hiking<br>Shoe<br>\",\"Merrell<br>Women's<br>Grassbow<br>Sport<br>Waterproof<br>Hik<br>\",\"Merrell<br>Women's<br>Siren<br>Mid<br>Waterproof<br>Hiking<br>B<br>\",\"Mio<br>ALPHA<br>Heart<br>Rate<br>Monitor/Sport<br>Watch<br>\",\"Nike<br>Dri-FIT<br>Crew<br>Sock<br>6<br>Pack<br>\",\"Nike<br>Kids'<br>Grade<br>School<br>KD<br>VI<br>Basketball<br>Shoe<br>\",\"Nike<br>Men's<br>CJ<br>Elite<br>2<br>TD<br>Football<br>Cleat<br>\",\"Nike<br>Men's<br>Comfort<br>2<br>Slide<br>\",\"Nike<br>Men's<br>Deutschland<br>Weltmeister<br>Winners<br>Bl<br>\",\"Nike<br>Men's<br>Dri-FIT<br>Victory<br>Golf<br>Polo<br>\",\"Nike<br>Men's<br>Fingertrap<br>Max<br>Training<br>Shoe<br>\",\"Nike<br>Men's<br>Free<br>5.0+<br>Running<br>Shoe<br>\",\"Nike<br>Men's<br>Free<br>TR<br>5.0<br>TB<br>Training<br>Shoe<br>\",\"Nike<br>Men's<br>Kobe<br>IX<br>Elite<br>Low<br>Basketball<br>Shoe<br>\",\"Nike<br>Women's<br>Free<br>5.0<br>TR<br>FIT<br>PRT<br>4<br>Training<br>S<br>\",\"Nike<br>Women's<br>Legend<br>V-Neck<br>T-Shirt<br>\",\"Nike<br>Women's<br>Tempo<br>Shorts<br>\",\"O'Brien<br>Men's<br>Neoprene<br>Life<br>Vest<br>\",\"Ogio<br>Race<br>Golf<br>Shoes<br>\",\"Pelican<br>Sunstream<br>100<br>Kayak<br>\",\"Perfect<br>Fitness<br>Perfect<br>Rip<br>Deck<br>\",\"Polar<br>FT4<br>Heart<br>Rate<br>Monitor<br>\",\"TYR<br>Boys'<br>Team<br>Digi<br>Jammer<br>\",\"TaylorMade<br>2014<br>Purelite<br>Stand<br>Bag<br>\",\"TaylorMade<br>White<br>Smoke<br>IN-12<br>Putter<br>\",\"TaylorMade<br>Women's<br>RBZ<br>SL<br>Rescue<br>\",\"Team<br>Golf<br>New<br>England<br>Patriots<br>Putter<br>Grip<br>\",\"Team<br>Golf<br>Pittsburgh<br>Steelers<br>Putter<br>Grip<br>\",\"Team<br>Golf<br>San<br>Francisco<br>Giants<br>Putter<br>Grip<br>\",\"Team<br>Golf<br>St.<br>Louis<br>Cardinals<br>Putter<br>Grip<br>\",\"Team<br>Golf<br>Tennessee<br>Volunteers<br>Putter<br>Grip<br>\",\"Team<br>Golf<br>Texas<br>Longhorns<br>Putter<br>Grip<br>\",\"The<br>North<br>Face<br>Women's<br>Recon<br>Backpack<br>\",\"Titleist<br>Pro<br>V1<br>High<br>Numbers<br>Personalized<br>Gol<br>\",\"Titleist<br>Pro<br>V1x<br>Golf<br>Balls<br>\",\"Titleist<br>Pro<br>V1x<br>High<br>Numbers<br>Golf<br>Balls<br>\",\"Titleist<br>Pro<br>V1x<br>High<br>Numbers<br>Personalized<br>Go<br>\",\"Titleist<br>Small<br>Wheeled<br>Travel<br>Cover<br>\",\"Top<br>Flite<br>Women's<br>2014<br>XL<br>Hybrid<br>\",\"Under<br>Armour<br>Girls'<br>Toddler<br>Spine<br>Surge<br>Runni<br>\",\"Under<br>Armour<br>Hustle<br>Storm<br>Medium<br>Duffle<br>Bag<br>\",\"Under<br>Armour<br>Kids'<br>Mercenary<br>Slide<br>\",\"Under<br>Armour<br>Men's<br>Compression<br>EV<br>SL<br>Slide<br>\",\"Under<br>Armour<br>Men's<br>Tech<br>II<br>T-Shirt<br>\",\"Under<br>Armour<br>Women's<br>Ignite<br>PIP<br>VI<br>Slide<br>\",\"Under<br>Armour<br>Women's<br>Ignite<br>Slide<br>\",\"Under<br>Armour<br>Women's<br>Micro<br>G<br>Skulpt<br>Running<br>S<br>\",\"Yakima<br>DoubleDown<br>Ace<br>Hitch<br>Mount<br>4-Bike<br>Rack<br>\",\"adidas<br>Brazuca<br>2014<br>Official<br>Match<br>Ball<br>\",\"adidas<br>Kids'<br>F5<br>Messi<br>FG<br>Soccer<br>Cleat<br>\",\"adidas<br>Men's<br>F10<br>Messi<br>TRX<br>FG<br>Soccer<br>Cleat<br>\",\"adidas<br>Men's<br>Germany<br>Black<br>Crest<br>Away<br>Tee<br>\",\"adidas<br>Youth<br>Germany<br>Black/Red<br>Away<br>Match<br>Soc<br>\",\"insta-bed<br>Neverflat<br>Air<br>Mattress<br>\",\"Apparel\",\"Fan Shop\",\"Fitness\",\"Footwear\",\"Golf\",\"Outdoors\",\"Unsatisfied Customers\",\"Unsatisfied\",\"All\"],\"name\":\"\",\"parents\":[\"All/Unsatisfied/Unsatisfied Customers/Outdoors\",\"All/Unsatisfied/Unsatisfied Customers/Outdoors\",\"All/Unsatisfied/Unsatisfied Customers/Outdoors\",\"All/Unsatisfied/Unsatisfied Customers/Outdoors\",\"All/Unsatisfied/Unsatisfied Customers/Outdoors\",\"All/Unsatisfied/Unsatisfied Customers/Footwear\",\"All/Unsatisfied/Unsatisfied Customers/Outdoors\",\"All/Unsatisfied/Unsatisfied Customers/Outdoors\",\"All/Unsatisfied/Unsatisfied Customers/Outdoors\",\"All/Unsatisfied/Unsatisfied Customers/Outdoors\",\"All/Unsatisfied/Unsatisfied Customers/Golf\",\"All/Unsatisfied/Unsatisfied Customers/Fan Shop\",\"All/Unsatisfied/Unsatisfied Customers/Fan Shop\",\"All/Unsatisfied/Unsatisfied Customers/Fitness\",\"All/Unsatisfied/Unsatisfied Customers/Fan Shop\",\"All/Unsatisfied/Unsatisfied Customers/Outdoors\",\"All/Unsatisfied/Unsatisfied Customers/Outdoors\",\"All/Unsatisfied/Unsatisfied Customers/Outdoors\",\"All/Unsatisfied/Unsatisfied Customers/Outdoors\",\"All/Unsatisfied/Unsatisfied Customers/Outdoors\",\"All/Unsatisfied/Unsatisfied Customers/Outdoors\",\"All/Unsatisfied/Unsatisfied Customers/Outdoors\",\"All/Unsatisfied/Unsatisfied Customers/Outdoors\",\"All/Unsatisfied/Unsatisfied Customers/Outdoors\",\"All/Unsatisfied/Unsatisfied Customers/Outdoors\",\"All/Unsatisfied/Unsatisfied Customers/Outdoors\",\"All/Unsatisfied/Unsatisfied Customers/Outdoors\",\"All/Unsatisfied/Unsatisfied Customers/Outdoors\",\"All/Unsatisfied/Unsatisfied Customers/Outdoors\",\"All/Unsatisfied/Unsatisfied Customers/Outdoors\",\"All/Unsatisfied/Unsatisfied Customers/Outdoors\",\"All/Unsatisfied/Unsatisfied Customers/Outdoors\",\"All/Unsatisfied/Unsatisfied Customers/Outdoors\",\"All/Unsatisfied/Unsatisfied Customers/Outdoors\",\"All/Unsatisfied/Unsatisfied Customers/Outdoors\",\"All/Unsatisfied/Unsatisfied Customers/Outdoors\",\"All/Unsatisfied/Unsatisfied Customers/Fitness\",\"All/Unsatisfied/Unsatisfied Customers/Fitness\",\"All/Unsatisfied/Unsatisfied Customers/Apparel\",\"All/Unsatisfied/Unsatisfied Customers/Fitness\",\"All/Unsatisfied/Unsatisfied Customers/Golf\",\"All/Unsatisfied/Unsatisfied Customers/Golf\",\"All/Unsatisfied/Unsatisfied Customers/Fitness\",\"All/Unsatisfied/Unsatisfied Customers/Footwear\",\"All/Unsatisfied/Unsatisfied Customers/Footwear\",\"All/Unsatisfied/Unsatisfied Customers/Golf\",\"All/Unsatisfied/Unsatisfied Customers/Footwear\",\"All/Unsatisfied/Unsatisfied Customers/Fitness\",\"All/Unsatisfied/Unsatisfied Customers/Footwear\",\"All/Unsatisfied/Unsatisfied Customers/Fan Shop\",\"All/Unsatisfied/Unsatisfied Customers/Outdoors\",\"All/Unsatisfied/Unsatisfied Customers/Fan Shop\",\"All/Unsatisfied/Unsatisfied Customers/Apparel\",\"All/Unsatisfied/Unsatisfied Customers/Outdoors\",\"All/Unsatisfied/Unsatisfied Customers/Golf\",\"All/Unsatisfied/Unsatisfied Customers/Outdoors\",\"All/Unsatisfied/Unsatisfied Customers/Outdoors\",\"All/Unsatisfied/Unsatisfied Customers/Outdoors\",\"All/Unsatisfied/Unsatisfied Customers/Outdoors\",\"All/Unsatisfied/Unsatisfied Customers/Outdoors\",\"All/Unsatisfied/Unsatisfied Customers/Outdoors\",\"All/Unsatisfied/Unsatisfied Customers/Outdoors\",\"All/Unsatisfied/Unsatisfied Customers/Outdoors\",\"All/Unsatisfied/Unsatisfied Customers/Outdoors\",\"All/Unsatisfied/Unsatisfied Customers/Fan Shop\",\"All/Unsatisfied/Unsatisfied Customers/Outdoors\",\"All/Unsatisfied/Unsatisfied Customers/Outdoors\",\"All/Unsatisfied/Unsatisfied Customers/Outdoors\",\"All/Unsatisfied/Unsatisfied Customers/Outdoors\",\"All/Unsatisfied/Unsatisfied Customers/Outdoors\",\"All/Unsatisfied/Unsatisfied Customers/Outdoors\",\"All/Unsatisfied/Unsatisfied Customers/Golf\",\"All/Unsatisfied/Unsatisfied Customers/Footwear\",\"All/Unsatisfied/Unsatisfied Customers/Footwear\",\"All/Unsatisfied/Unsatisfied Customers/Footwear\",\"All/Unsatisfied/Unsatisfied Customers/Fitness\",\"All/Unsatisfied/Unsatisfied Customers/Footwear\",\"All/Unsatisfied/Unsatisfied Customers/Footwear\",\"All/Unsatisfied/Unsatisfied Customers/Footwear\",\"All/Unsatisfied/Unsatisfied Customers/Footwear\",\"All/Unsatisfied/Unsatisfied Customers/Fitness\",\"All/Unsatisfied/Unsatisfied Customers/Fitness\",\"All/Unsatisfied/Unsatisfied Customers/Fitness\",\"All/Unsatisfied/Unsatisfied Customers/Golf\",\"All/Unsatisfied/Unsatisfied Customers/Golf\",\"All/Unsatisfied/Unsatisfied Customers/Fan Shop\",\"All/Unsatisfied/Unsatisfied Customers\",\"All/Unsatisfied/Unsatisfied Customers\",\"All/Unsatisfied/Unsatisfied Customers\",\"All/Unsatisfied/Unsatisfied Customers\",\"All/Unsatisfied/Unsatisfied Customers\",\"All/Unsatisfied/Unsatisfied Customers\",\"All/Unsatisfied\",\"All\",\"\"],\"values\":[641.36999704,951.86999894,1475.69999321,1161.2199935200001,1234.96000677,2009.4700318,698.2100067,307.16999816,262.8299999,1550.21002754,978.29999545,183909.3244644,1244.2800084,1326.23997516,315918.8887428,707.65000158,1337.4400329999999,503.82999992,425.97000313,638.36999894,1315.44001396,657.47000122,732.960022,531.21999549,512.93999098,601.84000397,912.79999537,290.52000427,1468.3500137400001,1813.0,72.79000092,568.63999169,988.9000091,488.7600022,843.0100022,1027.8400116,1276.88000683,3120.67997752,130321.64907278,1693.86001582,671.39999962,143219.0,686.81999212,166678.87886002,1940.8099976,1218.9300385,779.39000693,1011.1299973,1188.59999659,131773.2387085,766.6500091,144492.9344385,202240.29285955,859.4000244,1769.96000469,658.7599945,592.9399872,123.4899979,891.38999357,628.01000403,1277.35999291,946.23999776,899.99999413,583.74999998,633.6000061,1887.75001152,1563.01998515,2091.86999118,1304.68001178,702.4700164999999,783.68999482,57541.030435450004,864.59000196,1224.95999529,1343.18001932,1227.24999417,1480.63999944,1588.30002012,1656.2599831,347.76000980000003,270.3800049,776.0700111,2060.6300393,917.3799973,3436.30001067,944.9300233,332561.94193233,778917.1963920001,13449.94001422,181102.83892197,209752.30048168,41284.75012349,1557068.96786569,1557068.96786569,1557068.96786569],\"visible\":false,\"type\":\"treemap\"},{\"branchvalues\":\"total\",\"domain\":{\"x\":[0.0,1.0],\"y\":[0.0,1.0]},\"hovertemplate\":\"labels=%{label}<br>Total_Revenue=%{value}<br>parent=%{parent}<br>id=%{id}<extra></extra>\",\"ids\":[\"All/Bargain/Bargain Customers/Outdoors/Bag<br>Boy<br>Beverage<br>Holder<br>\",\"All/Big spenders/Big Spenders/Outdoors/Bag<br>Boy<br>Beverage<br>Holder<br>\",\"All/Bargain/Lost Customers - Bargain/Outdoors/Bag<br>Boy<br>Beverage<br>Holder<br>\",\"All/Big spenders/Lost Customers - Big Spenders/Outdoors/Bag<br>Boy<br>Beverage<br>Holder<br>\",\"All/Loyal/Lost/Almost Lost Customers - Loyal/Outdoors/Bag<br>Boy<br>Beverage<br>Holder<br>\",\"All/Loyal/Loyal Customers/Outdoors/Bag<br>Boy<br>Beverage<br>Holder<br>\",\"All/New Customers/New Customers/Outdoors/Bag<br>Boy<br>Beverage<br>Holder<br>\",\"All/Big spenders/Occasional Customers- Big Spenders/Outdoors/Bag<br>Boy<br>Beverage<br>Holder<br>\",\"All/Bargain/Occasional Customers-Bargain/Outdoors/Bag<br>Boy<br>Beverage<br>Holder<br>\",\"All/Unsatisfied/Unsatisfied Customers/Outdoors/Bag<br>Boy<br>Beverage<br>Holder<br>\",\"All/Bargain/Bargain Customers/Outdoors/Bag<br>Boy<br>M330<br>Push<br>Cart<br>\",\"All/Big spenders/Big Spenders/Outdoors/Bag<br>Boy<br>M330<br>Push<br>Cart<br>\",\"All/Loyal/Lost/Almost Lost Customers - Loyal/Outdoors/Bag<br>Boy<br>M330<br>Push<br>Cart<br>\",\"All/Loyal/Loyal Customers/Outdoors/Bag<br>Boy<br>M330<br>Push<br>Cart<br>\",\"All/New Customers/New Customers/Outdoors/Bag<br>Boy<br>M330<br>Push<br>Cart<br>\",\"All/Big spenders/Occasional Customers- Big Spenders/Outdoors/Bag<br>Boy<br>M330<br>Push<br>Cart<br>\",\"All/Bargain/Occasional Customers-Bargain/Outdoors/Bag<br>Boy<br>M330<br>Push<br>Cart<br>\",\"All/Unsatisfied/Unsatisfied Customers/Outdoors/Bag<br>Boy<br>M330<br>Push<br>Cart<br>\",\"All/Bargain/Bargain Customers/Footwear/Bowflex<br>SelectTech<br>1090<br>Dumbbells<br>\",\"All/Big spenders/Big Spenders/Footwear/Bowflex<br>SelectTech<br>1090<br>Dumbbells<br>\",\"All/New Customers/New Customers/Footwear/Bowflex<br>SelectTech<br>1090<br>Dumbbells<br>\",\"All/Bargain/Bargain Customers/Outdoors/Bridgestone<br>e6<br>Straight<br>Distance<br>NFL<br>Carolina<br>\",\"All/Big spenders/Big Spenders/Outdoors/Bridgestone<br>e6<br>Straight<br>Distance<br>NFL<br>Carolina<br>\",\"All/Bargain/Lost Customers - Bargain/Outdoors/Bridgestone<br>e6<br>Straight<br>Distance<br>NFL<br>Carolina<br>\",\"All/Big spenders/Lost Customers - Big Spenders/Outdoors/Bridgestone<br>e6<br>Straight<br>Distance<br>NFL<br>Carolina<br>\",\"All/Loyal/Lost/Almost Lost Customers - Loyal/Outdoors/Bridgestone<br>e6<br>Straight<br>Distance<br>NFL<br>Carolina<br>\",\"All/Loyal/Loyal Customers/Outdoors/Bridgestone<br>e6<br>Straight<br>Distance<br>NFL<br>Carolina<br>\",\"All/New Customers/New Customers/Outdoors/Bridgestone<br>e6<br>Straight<br>Distance<br>NFL<br>Carolina<br>\",\"All/Big spenders/Occasional Customers- Big Spenders/Outdoors/Bridgestone<br>e6<br>Straight<br>Distance<br>NFL<br>Carolina<br>\",\"All/Bargain/Occasional Customers-Bargain/Outdoors/Bridgestone<br>e6<br>Straight<br>Distance<br>NFL<br>Carolina<br>\",\"All/Unsatisfied/Unsatisfied Customers/Outdoors/Bridgestone<br>e6<br>Straight<br>Distance<br>NFL<br>Carolina<br>\",\"All/Bargain/Bargain Customers/Outdoors/Bridgestone<br>e6<br>Straight<br>Distance<br>NFL<br>San<br>Dieg<br>\",\"All/Big spenders/Big Spenders/Outdoors/Bridgestone<br>e6<br>Straight<br>Distance<br>NFL<br>San<br>Dieg<br>\",\"All/Bargain/Lost Customers - Bargain/Outdoors/Bridgestone<br>e6<br>Straight<br>Distance<br>NFL<br>San<br>Dieg<br>\",\"All/Big spenders/Lost Customers - Big Spenders/Outdoors/Bridgestone<br>e6<br>Straight<br>Distance<br>NFL<br>San<br>Dieg<br>\",\"All/Loyal/Lost/Almost Lost Customers - Loyal/Outdoors/Bridgestone<br>e6<br>Straight<br>Distance<br>NFL<br>San<br>Dieg<br>\",\"All/Loyal/Loyal Customers/Outdoors/Bridgestone<br>e6<br>Straight<br>Distance<br>NFL<br>San<br>Dieg<br>\",\"All/New Customers/New Customers/Outdoors/Bridgestone<br>e6<br>Straight<br>Distance<br>NFL<br>San<br>Dieg<br>\",\"All/Big spenders/Occasional Customers- Big Spenders/Outdoors/Bridgestone<br>e6<br>Straight<br>Distance<br>NFL<br>San<br>Dieg<br>\",\"All/Bargain/Occasional Customers-Bargain/Outdoors/Bridgestone<br>e6<br>Straight<br>Distance<br>NFL<br>San<br>Dieg<br>\",\"All/Unsatisfied/Unsatisfied Customers/Outdoors/Bridgestone<br>e6<br>Straight<br>Distance<br>NFL<br>San<br>Dieg<br>\",\"All/Bargain/Bargain Customers/Outdoors/Bridgestone<br>e6<br>Straight<br>Distance<br>NFL<br>Tennesse<br>\",\"All/Big spenders/Big Spenders/Outdoors/Bridgestone<br>e6<br>Straight<br>Distance<br>NFL<br>Tennesse<br>\",\"All/Bargain/Lost Customers - Bargain/Outdoors/Bridgestone<br>e6<br>Straight<br>Distance<br>NFL<br>Tennesse<br>\",\"All/Big spenders/Lost Customers - Big Spenders/Outdoors/Bridgestone<br>e6<br>Straight<br>Distance<br>NFL<br>Tennesse<br>\",\"All/Loyal/Lost/Almost Lost Customers - Loyal/Outdoors/Bridgestone<br>e6<br>Straight<br>Distance<br>NFL<br>Tennesse<br>\",\"All/Loyal/Loyal Customers/Outdoors/Bridgestone<br>e6<br>Straight<br>Distance<br>NFL<br>Tennesse<br>\",\"All/New Customers/New Customers/Outdoors/Bridgestone<br>e6<br>Straight<br>Distance<br>NFL<br>Tennesse<br>\",\"All/Big spenders/Occasional Customers- Big Spenders/Outdoors/Bridgestone<br>e6<br>Straight<br>Distance<br>NFL<br>Tennesse<br>\",\"All/Bargain/Occasional Customers-Bargain/Outdoors/Bridgestone<br>e6<br>Straight<br>Distance<br>NFL<br>Tennesse<br>\",\"All/Unsatisfied/Unsatisfied Customers/Outdoors/Bridgestone<br>e6<br>Straight<br>Distance<br>NFL<br>Tennesse<br>\",\"All/Bargain/Bargain Customers/Footwear/Brooks<br>Women's<br>Ghost<br>6<br>Running<br>Shoe<br>\",\"All/Big spenders/Big Spenders/Footwear/Brooks<br>Women's<br>Ghost<br>6<br>Running<br>Shoe<br>\",\"All/Loyal/Lost/Almost Lost Customers - Loyal/Footwear/Brooks<br>Women's<br>Ghost<br>6<br>Running<br>Shoe<br>\",\"All/Loyal/Loyal Customers/Footwear/Brooks<br>Women's<br>Ghost<br>6<br>Running<br>Shoe<br>\",\"All/New Customers/New Customers/Footwear/Brooks<br>Women's<br>Ghost<br>6<br>Running<br>Shoe<br>\",\"All/Big spenders/Occasional Customers- Big Spenders/Footwear/Brooks<br>Women's<br>Ghost<br>6<br>Running<br>Shoe<br>\",\"All/Bargain/Occasional Customers-Bargain/Footwear/Brooks<br>Women's<br>Ghost<br>6<br>Running<br>Shoe<br>\",\"All/Unsatisfied/Unsatisfied Customers/Footwear/Brooks<br>Women's<br>Ghost<br>6<br>Running<br>Shoe<br>\",\"All/Bargain/Bargain Customers/Outdoors/Bushnell<br>Pro<br>X7<br>Jolt<br>Slope<br>Rangefinder<br>\",\"All/Big spenders/Big Spenders/Outdoors/Bushnell<br>Pro<br>X7<br>Jolt<br>Slope<br>Rangefinder<br>\",\"All/New Customers/New Customers/Outdoors/Bushnell<br>Pro<br>X7<br>Jolt<br>Slope<br>Rangefinder<br>\",\"All/Bargain/Bargain Customers/Outdoors/Cleveland<br>Golf<br>Collegiate<br>My<br>Custom<br>Wedge<br>588<br>\",\"All/Big spenders/Big Spenders/Outdoors/Cleveland<br>Golf<br>Collegiate<br>My<br>Custom<br>Wedge<br>588<br>\",\"All/Loyal/Loyal Customers/Outdoors/Cleveland<br>Golf<br>Collegiate<br>My<br>Custom<br>Wedge<br>588<br>\",\"All/New Customers/New Customers/Outdoors/Cleveland<br>Golf<br>Collegiate<br>My<br>Custom<br>Wedge<br>588<br>\",\"All/Big spenders/Occasional Customers- Big Spenders/Outdoors/Cleveland<br>Golf<br>Collegiate<br>My<br>Custom<br>Wedge<br>588<br>\",\"All/Bargain/Occasional Customers-Bargain/Outdoors/Cleveland<br>Golf<br>Collegiate<br>My<br>Custom<br>Wedge<br>588<br>\",\"All/Unsatisfied/Unsatisfied Customers/Outdoors/Cleveland<br>Golf<br>Collegiate<br>My<br>Custom<br>Wedge<br>588<br>\",\"All/Bargain/Bargain Customers/Outdoors/Cleveland<br>Golf<br>Women's<br>588<br>RTX<br>CB<br>Satin<br>Chrom<br>\",\"All/Big spenders/Big Spenders/Outdoors/Cleveland<br>Golf<br>Women's<br>588<br>RTX<br>CB<br>Satin<br>Chrom<br>\",\"All/Loyal/Lost/Almost Lost Customers - Loyal/Outdoors/Cleveland<br>Golf<br>Women's<br>588<br>RTX<br>CB<br>Satin<br>Chrom<br>\",\"All/Loyal/Loyal Customers/Outdoors/Cleveland<br>Golf<br>Women's<br>588<br>RTX<br>CB<br>Satin<br>Chrom<br>\",\"All/New Customers/New Customers/Outdoors/Cleveland<br>Golf<br>Women's<br>588<br>RTX<br>CB<br>Satin<br>Chrom<br>\",\"All/Big spenders/Occasional Customers- Big Spenders/Outdoors/Cleveland<br>Golf<br>Women's<br>588<br>RTX<br>CB<br>Satin<br>Chrom<br>\",\"All/Bargain/Occasional Customers-Bargain/Outdoors/Cleveland<br>Golf<br>Women's<br>588<br>RTX<br>CB<br>Satin<br>Chrom<br>\",\"All/Unsatisfied/Unsatisfied Customers/Outdoors/Cleveland<br>Golf<br>Women's<br>588<br>RTX<br>CB<br>Satin<br>Chrom<br>\",\"All/Bargain/Bargain Customers/Outdoors/Clicgear<br>8.0<br>Shoe<br>Brush<br>\",\"All/Big spenders/Big Spenders/Outdoors/Clicgear<br>8.0<br>Shoe<br>Brush<br>\",\"All/Bargain/Lost Customers - Bargain/Outdoors/Clicgear<br>8.0<br>Shoe<br>Brush<br>\",\"All/Big spenders/Lost Customers - Big Spenders/Outdoors/Clicgear<br>8.0<br>Shoe<br>Brush<br>\",\"All/Loyal/Lost/Almost Lost Customers - Loyal/Outdoors/Clicgear<br>8.0<br>Shoe<br>Brush<br>\",\"All/Loyal/Loyal Customers/Outdoors/Clicgear<br>8.0<br>Shoe<br>Brush<br>\",\"All/New Customers/New Customers/Outdoors/Clicgear<br>8.0<br>Shoe<br>Brush<br>\",\"All/Big spenders/Occasional Customers- Big Spenders/Outdoors/Clicgear<br>8.0<br>Shoe<br>Brush<br>\",\"All/Bargain/Occasional Customers-Bargain/Outdoors/Clicgear<br>8.0<br>Shoe<br>Brush<br>\",\"All/Unsatisfied/Unsatisfied Customers/Outdoors/Clicgear<br>8.0<br>Shoe<br>Brush<br>\",\"All/Bargain/Bargain Customers/Outdoors/Clicgear<br>Rovic<br>Cooler<br>Bag<br>\",\"All/Big spenders/Big Spenders/Outdoors/Clicgear<br>Rovic<br>Cooler<br>Bag<br>\",\"All/Bargain/Lost Customers - Bargain/Outdoors/Clicgear<br>Rovic<br>Cooler<br>Bag<br>\",\"All/Big spenders/Lost Customers - Big Spenders/Outdoors/Clicgear<br>Rovic<br>Cooler<br>Bag<br>\",\"All/Loyal/Lost/Almost Lost Customers - Loyal/Outdoors/Clicgear<br>Rovic<br>Cooler<br>Bag<br>\",\"All/Loyal/Loyal Customers/Outdoors/Clicgear<br>Rovic<br>Cooler<br>Bag<br>\",\"All/New Customers/New Customers/Outdoors/Clicgear<br>Rovic<br>Cooler<br>Bag<br>\",\"All/Big spenders/Occasional Customers- Big Spenders/Outdoors/Clicgear<br>Rovic<br>Cooler<br>Bag<br>\",\"All/Bargain/Occasional Customers-Bargain/Outdoors/Clicgear<br>Rovic<br>Cooler<br>Bag<br>\",\"All/Unsatisfied/Unsatisfied Customers/Outdoors/Clicgear<br>Rovic<br>Cooler<br>Bag<br>\",\"All/Bargain/Bargain Customers/Golf/Columbia<br>Men's<br>PFG<br>Anchor<br>Tough<br>T-Shirt<br>\",\"All/Big spenders/Big Spenders/Golf/Columbia<br>Men's<br>PFG<br>Anchor<br>Tough<br>T-Shirt<br>\",\"All/Bargain/Lost Customers - Bargain/Golf/Columbia<br>Men's<br>PFG<br>Anchor<br>Tough<br>T-Shirt<br>\",\"All/Big spenders/Lost Customers - Big Spenders/Golf/Columbia<br>Men's<br>PFG<br>Anchor<br>Tough<br>T-Shirt<br>\",\"All/Loyal/Lost/Almost Lost Customers - Loyal/Golf/Columbia<br>Men's<br>PFG<br>Anchor<br>Tough<br>T-Shirt<br>\",\"All/Loyal/Loyal Customers/Golf/Columbia<br>Men's<br>PFG<br>Anchor<br>Tough<br>T-Shirt<br>\",\"All/New Customers/New Customers/Golf/Columbia<br>Men's<br>PFG<br>Anchor<br>Tough<br>T-Shirt<br>\",\"All/Big spenders/Occasional Customers- Big Spenders/Golf/Columbia<br>Men's<br>PFG<br>Anchor<br>Tough<br>T-Shirt<br>\",\"All/Bargain/Occasional Customers-Bargain/Golf/Columbia<br>Men's<br>PFG<br>Anchor<br>Tough<br>T-Shirt<br>\",\"All/Unsatisfied/Unsatisfied Customers/Golf/Columbia<br>Men's<br>PFG<br>Anchor<br>Tough<br>T-Shirt<br>\",\"All/Bargain/Bargain Customers/Fitness/Diamondback<br>Boys'<br>Insight<br>24<br>Performance<br>Hybr<br>\",\"All/Big spenders/Big Spenders/Fitness/Diamondback<br>Boys'<br>Insight<br>24<br>Performance<br>Hybr<br>\",\"All/New Customers/New Customers/Fitness/Diamondback<br>Boys'<br>Insight<br>24<br>Performance<br>Hybr<br>\",\"All/Bargain/Bargain Customers/Fitness/Diamondback<br>Girls'<br>Clarity<br>24<br>Hybrid<br>Bike<br>201<br>\",\"All/Big spenders/Big Spenders/Fitness/Diamondback<br>Girls'<br>Clarity<br>24<br>Hybrid<br>Bike<br>201<br>\",\"All/Loyal/Loyal Customers/Fitness/Diamondback<br>Girls'<br>Clarity<br>24<br>Hybrid<br>Bike<br>201<br>\",\"All/New Customers/New Customers/Fitness/Diamondback<br>Girls'<br>Clarity<br>24<br>Hybrid<br>Bike<br>201<br>\",\"All/Bargain/Bargain Customers/Fan Shop/Diamondback<br>Women's<br>Serene<br>Classic<br>Comfort<br>Bi<br>\",\"All/Big spenders/Big Spenders/Fan Shop/Diamondback<br>Women's<br>Serene<br>Classic<br>Comfort<br>Bi<br>\",\"All/Bargain/Lost Customers - Bargain/Fan Shop/Diamondback<br>Women's<br>Serene<br>Classic<br>Comfort<br>Bi<br>\",\"All/Big spenders/Lost Customers - Big Spenders/Fan Shop/Diamondback<br>Women's<br>Serene<br>Classic<br>Comfort<br>Bi<br>\",\"All/Loyal/Lost/Almost Lost Customers - Loyal/Fan Shop/Diamondback<br>Women's<br>Serene<br>Classic<br>Comfort<br>Bi<br>\",\"All/Loyal/Loyal Customers/Fan Shop/Diamondback<br>Women's<br>Serene<br>Classic<br>Comfort<br>Bi<br>\",\"All/New Customers/New Customers/Fan Shop/Diamondback<br>Women's<br>Serene<br>Classic<br>Comfort<br>Bi<br>\",\"All/Big spenders/Occasional Customers- Big Spenders/Fan Shop/Diamondback<br>Women's<br>Serene<br>Classic<br>Comfort<br>Bi<br>\",\"All/Bargain/Occasional Customers-Bargain/Fan Shop/Diamondback<br>Women's<br>Serene<br>Classic<br>Comfort<br>Bi<br>\",\"All/Unsatisfied/Unsatisfied Customers/Fan Shop/Diamondback<br>Women's<br>Serene<br>Classic<br>Comfort<br>Bi<br>\",\"All/Bargain/Bargain Customers/Fan Shop/ENO<br>Atlas<br>Hammock<br>Straps<br>\",\"All/Big spenders/Big Spenders/Fan Shop/ENO<br>Atlas<br>Hammock<br>Straps<br>\",\"All/Bargain/Lost Customers - Bargain/Fan Shop/ENO<br>Atlas<br>Hammock<br>Straps<br>\",\"All/Big spenders/Lost Customers - Big Spenders/Fan Shop/ENO<br>Atlas<br>Hammock<br>Straps<br>\",\"All/Loyal/Lost/Almost Lost Customers - Loyal/Fan Shop/ENO<br>Atlas<br>Hammock<br>Straps<br>\",\"All/Loyal/Loyal Customers/Fan Shop/ENO<br>Atlas<br>Hammock<br>Straps<br>\",\"All/New Customers/New Customers/Fan Shop/ENO<br>Atlas<br>Hammock<br>Straps<br>\",\"All/Big spenders/Occasional Customers- Big Spenders/Fan Shop/ENO<br>Atlas<br>Hammock<br>Straps<br>\",\"All/Bargain/Occasional Customers-Bargain/Fan Shop/ENO<br>Atlas<br>Hammock<br>Straps<br>\",\"All/Unsatisfied/Unsatisfied Customers/Fan Shop/ENO<br>Atlas<br>Hammock<br>Straps<br>\",\"All/Bargain/Bargain Customers/Fitness/Elevation<br>Training<br>Mask<br>2.0<br>\",\"All/Big spenders/Big Spenders/Fitness/Elevation<br>Training<br>Mask<br>2.0<br>\",\"All/Loyal/Loyal Customers/Fitness/Elevation<br>Training<br>Mask<br>2.0<br>\",\"All/New Customers/New Customers/Fitness/Elevation<br>Training<br>Mask<br>2.0<br>\",\"All/Big spenders/Occasional Customers- Big Spenders/Fitness/Elevation<br>Training<br>Mask<br>2.0<br>\",\"All/Bargain/Occasional Customers-Bargain/Fitness/Elevation<br>Training<br>Mask<br>2.0<br>\",\"All/Unsatisfied/Unsatisfied Customers/Fitness/Elevation<br>Training<br>Mask<br>2.0<br>\",\"All/Bargain/Bargain Customers/Fan Shop/Field<br>&<br>Stream<br>Sportsman<br>16<br>Gun<br>Fire<br>Safe<br>\",\"All/Big spenders/Big Spenders/Fan Shop/Field<br>&<br>Stream<br>Sportsman<br>16<br>Gun<br>Fire<br>Safe<br>\",\"All/Bargain/Lost Customers - Bargain/Fan Shop/Field<br>&<br>Stream<br>Sportsman<br>16<br>Gun<br>Fire<br>Safe<br>\",\"All/Big spenders/Lost Customers - Big Spenders/Fan Shop/Field<br>&<br>Stream<br>Sportsman<br>16<br>Gun<br>Fire<br>Safe<br>\",\"All/Loyal/Lost/Almost Lost Customers - Loyal/Fan Shop/Field<br>&<br>Stream<br>Sportsman<br>16<br>Gun<br>Fire<br>Safe<br>\",\"All/Loyal/Loyal Customers/Fan Shop/Field<br>&<br>Stream<br>Sportsman<br>16<br>Gun<br>Fire<br>Safe<br>\",\"All/New Customers/New Customers/Fan Shop/Field<br>&<br>Stream<br>Sportsman<br>16<br>Gun<br>Fire<br>Safe<br>\",\"All/Big spenders/Occasional Customers- Big Spenders/Fan Shop/Field<br>&<br>Stream<br>Sportsman<br>16<br>Gun<br>Fire<br>Safe<br>\",\"All/Bargain/Occasional Customers-Bargain/Fan Shop/Field<br>&<br>Stream<br>Sportsman<br>16<br>Gun<br>Fire<br>Safe<br>\",\"All/Unsatisfied/Unsatisfied Customers/Fan Shop/Field<br>&<br>Stream<br>Sportsman<br>16<br>Gun<br>Fire<br>Safe<br>\",\"All/Bargain/Bargain Customers/Outdoors/Fitbit<br>The<br>One<br>Wireless<br>Activity<br>&<br>Sleep<br>Trac<br>\",\"All/Big spenders/Big Spenders/Outdoors/Fitbit<br>The<br>One<br>Wireless<br>Activity<br>&<br>Sleep<br>Trac<br>\",\"All/Loyal/Lost/Almost Lost Customers - Loyal/Outdoors/Fitbit<br>The<br>One<br>Wireless<br>Activity<br>&<br>Sleep<br>Trac<br>\",\"All/Loyal/Loyal Customers/Outdoors/Fitbit<br>The<br>One<br>Wireless<br>Activity<br>&<br>Sleep<br>Trac<br>\",\"All/New Customers/New Customers/Outdoors/Fitbit<br>The<br>One<br>Wireless<br>Activity<br>&<br>Sleep<br>Trac<br>\",\"All/Big spenders/Occasional Customers- Big Spenders/Outdoors/Fitbit<br>The<br>One<br>Wireless<br>Activity<br>&<br>Sleep<br>Trac<br>\",\"All/Bargain/Occasional Customers-Bargain/Outdoors/Fitbit<br>The<br>One<br>Wireless<br>Activity<br>&<br>Sleep<br>Trac<br>\",\"All/Unsatisfied/Unsatisfied Customers/Outdoors/Fitbit<br>The<br>One<br>Wireless<br>Activity<br>&<br>Sleep<br>Trac<br>\",\"All/Bargain/Bargain Customers/Outdoors/Garmin<br>Approach<br>S3<br>Golf<br>GPS<br>Watch<br>\",\"All/Big spenders/Big Spenders/Outdoors/Garmin<br>Approach<br>S3<br>Golf<br>GPS<br>Watch<br>\",\"All/Loyal/Lost/Almost Lost Customers - Loyal/Outdoors/Garmin<br>Approach<br>S3<br>Golf<br>GPS<br>Watch<br>\",\"All/Loyal/Loyal Customers/Outdoors/Garmin<br>Approach<br>S3<br>Golf<br>GPS<br>Watch<br>\",\"All/New Customers/New Customers/Outdoors/Garmin<br>Approach<br>S3<br>Golf<br>GPS<br>Watch<br>\",\"All/Big spenders/Occasional Customers- Big Spenders/Outdoors/Garmin<br>Approach<br>S3<br>Golf<br>GPS<br>Watch<br>\",\"All/Bargain/Occasional Customers-Bargain/Outdoors/Garmin<br>Approach<br>S3<br>Golf<br>GPS<br>Watch<br>\",\"All/Unsatisfied/Unsatisfied Customers/Outdoors/Garmin<br>Approach<br>S3<br>Golf<br>GPS<br>Watch<br>\",\"All/Bargain/Bargain Customers/Outdoors/Garmin<br>Approach<br>S4<br>Golf<br>GPS<br>Watch<br>\",\"All/Big spenders/Big Spenders/Outdoors/Garmin<br>Approach<br>S4<br>Golf<br>GPS<br>Watch<br>\",\"All/Loyal/Loyal Customers/Outdoors/Garmin<br>Approach<br>S4<br>Golf<br>GPS<br>Watch<br>\",\"All/New Customers/New Customers/Outdoors/Garmin<br>Approach<br>S4<br>Golf<br>GPS<br>Watch<br>\",\"All/Bargain/Bargain Customers/Outdoors/Garmin<br>Forerunner<br>910XT<br>GPS<br>Watch<br>\",\"All/Big spenders/Big Spenders/Outdoors/Garmin<br>Forerunner<br>910XT<br>GPS<br>Watch<br>\",\"All/Loyal/Loyal Customers/Outdoors/Garmin<br>Forerunner<br>910XT<br>GPS<br>Watch<br>\",\"All/New Customers/New Customers/Outdoors/Garmin<br>Forerunner<br>910XT<br>GPS<br>Watch<br>\",\"All/Bargain/Bargain Customers/Outdoors/Glove<br>It<br>Imperial<br>Golf<br>Towel<br>\",\"All/Big spenders/Big Spenders/Outdoors/Glove<br>It<br>Imperial<br>Golf<br>Towel<br>\",\"All/Bargain/Lost Customers - Bargain/Outdoors/Glove<br>It<br>Imperial<br>Golf<br>Towel<br>\",\"All/Big spenders/Lost Customers - Big Spenders/Outdoors/Glove<br>It<br>Imperial<br>Golf<br>Towel<br>\",\"All/Loyal/Lost/Almost Lost Customers - Loyal/Outdoors/Glove<br>It<br>Imperial<br>Golf<br>Towel<br>\",\"All/Loyal/Loyal Customers/Outdoors/Glove<br>It<br>Imperial<br>Golf<br>Towel<br>\",\"All/New Customers/New Customers/Outdoors/Glove<br>It<br>Imperial<br>Golf<br>Towel<br>\",\"All/Big spenders/Occasional Customers- Big Spenders/Outdoors/Glove<br>It<br>Imperial<br>Golf<br>Towel<br>\",\"All/Bargain/Occasional Customers-Bargain/Outdoors/Glove<br>It<br>Imperial<br>Golf<br>Towel<br>\",\"All/Unsatisfied/Unsatisfied Customers/Outdoors/Glove<br>It<br>Imperial<br>Golf<br>Towel<br>\",\"All/Bargain/Bargain Customers/Outdoors/Glove<br>It<br>Urban<br>Brick<br>Golf<br>Towel<br>\",\"All/Big spenders/Big Spenders/Outdoors/Glove<br>It<br>Urban<br>Brick<br>Golf<br>Towel<br>\",\"All/Bargain/Lost Customers - Bargain/Outdoors/Glove<br>It<br>Urban<br>Brick<br>Golf<br>Towel<br>\",\"All/Big spenders/Lost Customers - Big Spenders/Outdoors/Glove<br>It<br>Urban<br>Brick<br>Golf<br>Towel<br>\",\"All/Loyal/Lost/Almost Lost Customers - Loyal/Outdoors/Glove<br>It<br>Urban<br>Brick<br>Golf<br>Towel<br>\",\"All/Loyal/Loyal Customers/Outdoors/Glove<br>It<br>Urban<br>Brick<br>Golf<br>Towel<br>\",\"All/New Customers/New Customers/Outdoors/Glove<br>It<br>Urban<br>Brick<br>Golf<br>Towel<br>\",\"All/Big spenders/Occasional Customers- Big Spenders/Outdoors/Glove<br>It<br>Urban<br>Brick<br>Golf<br>Towel<br>\",\"All/Bargain/Occasional Customers-Bargain/Outdoors/Glove<br>It<br>Urban<br>Brick<br>Golf<br>Towel<br>\",\"All/Unsatisfied/Unsatisfied Customers/Outdoors/Glove<br>It<br>Urban<br>Brick<br>Golf<br>Towel<br>\",\"All/Bargain/Bargain Customers/Outdoors/Glove<br>It<br>Women's<br>Imperial<br>Golf<br>Glove<br>\",\"All/Big spenders/Big Spenders/Outdoors/Glove<br>It<br>Women's<br>Imperial<br>Golf<br>Glove<br>\",\"All/Bargain/Lost Customers - Bargain/Outdoors/Glove<br>It<br>Women's<br>Imperial<br>Golf<br>Glove<br>\",\"All/Big spenders/Lost Customers - Big Spenders/Outdoors/Glove<br>It<br>Women's<br>Imperial<br>Golf<br>Glove<br>\",\"All/Loyal/Lost/Almost Lost Customers - Loyal/Outdoors/Glove<br>It<br>Women's<br>Imperial<br>Golf<br>Glove<br>\",\"All/Loyal/Loyal Customers/Outdoors/Glove<br>It<br>Women's<br>Imperial<br>Golf<br>Glove<br>\",\"All/New Customers/New Customers/Outdoors/Glove<br>It<br>Women's<br>Imperial<br>Golf<br>Glove<br>\",\"All/Big spenders/Occasional Customers- Big Spenders/Outdoors/Glove<br>It<br>Women's<br>Imperial<br>Golf<br>Glove<br>\",\"All/Bargain/Occasional Customers-Bargain/Outdoors/Glove<br>It<br>Women's<br>Imperial<br>Golf<br>Glove<br>\",\"All/Unsatisfied/Unsatisfied Customers/Outdoors/Glove<br>It<br>Women's<br>Imperial<br>Golf<br>Glove<br>\",\"All/Bargain/Bargain Customers/Outdoors/Glove<br>It<br>Women's<br>Mod<br>Oval<br>3-Zip<br>Carry<br>All<br>Gol<br>\",\"All/Big spenders/Big Spenders/Outdoors/Glove<br>It<br>Women's<br>Mod<br>Oval<br>3-Zip<br>Carry<br>All<br>Gol<br>\",\"All/Bargain/Lost Customers - Bargain/Outdoors/Glove<br>It<br>Women's<br>Mod<br>Oval<br>3-Zip<br>Carry<br>All<br>Gol<br>\",\"All/Big spenders/Lost Customers - Big Spenders/Outdoors/Glove<br>It<br>Women's<br>Mod<br>Oval<br>3-Zip<br>Carry<br>All<br>Gol<br>\",\"All/Loyal/Lost/Almost Lost Customers - Loyal/Outdoors/Glove<br>It<br>Women's<br>Mod<br>Oval<br>3-Zip<br>Carry<br>All<br>Gol<br>\",\"All/Loyal/Loyal Customers/Outdoors/Glove<br>It<br>Women's<br>Mod<br>Oval<br>3-Zip<br>Carry<br>All<br>Gol<br>\",\"All/New Customers/New Customers/Outdoors/Glove<br>It<br>Women's<br>Mod<br>Oval<br>3-Zip<br>Carry<br>All<br>Gol<br>\",\"All/Big spenders/Occasional Customers- Big Spenders/Outdoors/Glove<br>It<br>Women's<br>Mod<br>Oval<br>3-Zip<br>Carry<br>All<br>Gol<br>\",\"All/Bargain/Occasional Customers-Bargain/Outdoors/Glove<br>It<br>Women's<br>Mod<br>Oval<br>3-Zip<br>Carry<br>All<br>Gol<br>\",\"All/Unsatisfied/Unsatisfied Customers/Outdoors/Glove<br>It<br>Women's<br>Mod<br>Oval<br>3-Zip<br>Carry<br>All<br>Gol<br>\",\"All/Bargain/Bargain Customers/Outdoors/Glove<br>It<br>Women's<br>Mod<br>Oval<br>Golf<br>Glove<br>\",\"All/Big spenders/Big Spenders/Outdoors/Glove<br>It<br>Women's<br>Mod<br>Oval<br>Golf<br>Glove<br>\",\"All/Bargain/Lost Customers - Bargain/Outdoors/Glove<br>It<br>Women's<br>Mod<br>Oval<br>Golf<br>Glove<br>\",\"All/Big spenders/Lost Customers - Big Spenders/Outdoors/Glove<br>It<br>Women's<br>Mod<br>Oval<br>Golf<br>Glove<br>\",\"All/Loyal/Lost/Almost Lost Customers - Loyal/Outdoors/Glove<br>It<br>Women's<br>Mod<br>Oval<br>Golf<br>Glove<br>\",\"All/Loyal/Loyal Customers/Outdoors/Glove<br>It<br>Women's<br>Mod<br>Oval<br>Golf<br>Glove<br>\",\"All/New Customers/New Customers/Outdoors/Glove<br>It<br>Women's<br>Mod<br>Oval<br>Golf<br>Glove<br>\",\"All/Big spenders/Occasional Customers- Big Spenders/Outdoors/Glove<br>It<br>Women's<br>Mod<br>Oval<br>Golf<br>Glove<br>\",\"All/Bargain/Occasional Customers-Bargain/Outdoors/Glove<br>It<br>Women's<br>Mod<br>Oval<br>Golf<br>Glove<br>\",\"All/Unsatisfied/Unsatisfied Customers/Outdoors/Glove<br>It<br>Women's<br>Mod<br>Oval<br>Golf<br>Glove<br>\",\"All/Bargain/Bargain Customers/Footwear/GoPro<br>HERO3+<br>Black<br>Edition<br>Camera<br>\",\"All/Big spenders/Big Spenders/Footwear/GoPro<br>HERO3+<br>Black<br>Edition<br>Camera<br>\",\"All/New Customers/New Customers/Footwear/GoPro<br>HERO3+<br>Black<br>Edition<br>Camera<br>\",\"All/Bargain/Bargain Customers/Outdoors/GolfBuddy<br>VT3<br>GPS<br>Watch<br>\",\"All/Big spenders/Big Spenders/Outdoors/GolfBuddy<br>VT3<br>GPS<br>Watch<br>\",\"All/Loyal/Lost/Almost Lost Customers - Loyal/Outdoors/GolfBuddy<br>VT3<br>GPS<br>Watch<br>\",\"All/Loyal/Loyal Customers/Outdoors/GolfBuddy<br>VT3<br>GPS<br>Watch<br>\",\"All/New Customers/New Customers/Outdoors/GolfBuddy<br>VT3<br>GPS<br>Watch<br>\",\"All/Big spenders/Occasional Customers- Big Spenders/Outdoors/GolfBuddy<br>VT3<br>GPS<br>Watch<br>\",\"All/Bargain/Occasional Customers-Bargain/Outdoors/GolfBuddy<br>VT3<br>GPS<br>Watch<br>\",\"All/Unsatisfied/Unsatisfied Customers/Outdoors/GolfBuddy<br>VT3<br>GPS<br>Watch<br>\",\"All/Bargain/Bargain Customers/Outdoors/Hirzl<br>Men's<br>Hybrid<br>Golf<br>Glove<br>\",\"All/Big spenders/Big Spenders/Outdoors/Hirzl<br>Men's<br>Hybrid<br>Golf<br>Glove<br>\",\"All/Bargain/Lost Customers - Bargain/Outdoors/Hirzl<br>Men's<br>Hybrid<br>Golf<br>Glove<br>\",\"All/Big spenders/Lost Customers - Big Spenders/Outdoors/Hirzl<br>Men's<br>Hybrid<br>Golf<br>Glove<br>\",\"All/Loyal/Lost/Almost Lost Customers - Loyal/Outdoors/Hirzl<br>Men's<br>Hybrid<br>Golf<br>Glove<br>\",\"All/Loyal/Loyal Customers/Outdoors/Hirzl<br>Men's<br>Hybrid<br>Golf<br>Glove<br>\",\"All/New Customers/New Customers/Outdoors/Hirzl<br>Men's<br>Hybrid<br>Golf<br>Glove<br>\",\"All/Big spenders/Occasional Customers- Big Spenders/Outdoors/Hirzl<br>Men's<br>Hybrid<br>Golf<br>Glove<br>\",\"All/Bargain/Occasional Customers-Bargain/Outdoors/Hirzl<br>Men's<br>Hybrid<br>Golf<br>Glove<br>\",\"All/Unsatisfied/Unsatisfied Customers/Outdoors/Hirzl<br>Men's<br>Hybrid<br>Golf<br>Glove<br>\",\"All/Bargain/Bargain Customers/Outdoors/Hirzl<br>Women's<br>Hybrid<br>Golf<br>Glove<br>\",\"All/Big spenders/Big Spenders/Outdoors/Hirzl<br>Women's<br>Hybrid<br>Golf<br>Glove<br>\",\"All/Bargain/Lost Customers - Bargain/Outdoors/Hirzl<br>Women's<br>Hybrid<br>Golf<br>Glove<br>\",\"All/Big spenders/Lost Customers - Big Spenders/Outdoors/Hirzl<br>Women's<br>Hybrid<br>Golf<br>Glove<br>\",\"All/Loyal/Lost/Almost Lost Customers - Loyal/Outdoors/Hirzl<br>Women's<br>Hybrid<br>Golf<br>Glove<br>\",\"All/Loyal/Loyal Customers/Outdoors/Hirzl<br>Women's<br>Hybrid<br>Golf<br>Glove<br>\",\"All/New Customers/New Customers/Outdoors/Hirzl<br>Women's<br>Hybrid<br>Golf<br>Glove<br>\",\"All/Big spenders/Occasional Customers- Big Spenders/Outdoors/Hirzl<br>Women's<br>Hybrid<br>Golf<br>Glove<br>\",\"All/Bargain/Occasional Customers-Bargain/Outdoors/Hirzl<br>Women's<br>Hybrid<br>Golf<br>Glove<br>\",\"All/Unsatisfied/Unsatisfied Customers/Outdoors/Hirzl<br>Women's<br>Hybrid<br>Golf<br>Glove<br>\",\"All/Bargain/Bargain Customers/Outdoors/Hirzl<br>Women's<br>Soffft<br>Flex<br>Golf<br>Glove<br>\",\"All/Big spenders/Big Spenders/Outdoors/Hirzl<br>Women's<br>Soffft<br>Flex<br>Golf<br>Glove<br>\",\"All/Bargain/Lost Customers - Bargain/Outdoors/Hirzl<br>Women's<br>Soffft<br>Flex<br>Golf<br>Glove<br>\",\"All/Big spenders/Lost Customers - Big Spenders/Outdoors/Hirzl<br>Women's<br>Soffft<br>Flex<br>Golf<br>Glove<br>\",\"All/Loyal/Lost/Almost Lost Customers - Loyal/Outdoors/Hirzl<br>Women's<br>Soffft<br>Flex<br>Golf<br>Glove<br>\",\"All/Loyal/Loyal Customers/Outdoors/Hirzl<br>Women's<br>Soffft<br>Flex<br>Golf<br>Glove<br>\",\"All/New Customers/New Customers/Outdoors/Hirzl<br>Women's<br>Soffft<br>Flex<br>Golf<br>Glove<br>\",\"All/Big spenders/Occasional Customers- Big Spenders/Outdoors/Hirzl<br>Women's<br>Soffft<br>Flex<br>Golf<br>Glove<br>\",\"All/Bargain/Occasional Customers-Bargain/Outdoors/Hirzl<br>Women's<br>Soffft<br>Flex<br>Golf<br>Glove<br>\",\"All/Unsatisfied/Unsatisfied Customers/Outdoors/Hirzl<br>Women's<br>Soffft<br>Flex<br>Golf<br>Glove<br>\",\"All/Bargain/Bargain Customers/Outdoors/LIJA<br>Women's<br>Argyle<br>Golf<br>Polo<br>\",\"All/Big spenders/Big Spenders/Outdoors/LIJA<br>Women's<br>Argyle<br>Golf<br>Polo<br>\",\"All/Loyal/Lost/Almost Lost Customers - Loyal/Outdoors/LIJA<br>Women's<br>Argyle<br>Golf<br>Polo<br>\",\"All/Loyal/Loyal Customers/Outdoors/LIJA<br>Women's<br>Argyle<br>Golf<br>Polo<br>\",\"All/New Customers/New Customers/Outdoors/LIJA<br>Women's<br>Argyle<br>Golf<br>Polo<br>\",\"All/Big spenders/Occasional Customers- Big Spenders/Outdoors/LIJA<br>Women's<br>Argyle<br>Golf<br>Polo<br>\",\"All/Bargain/Occasional Customers-Bargain/Outdoors/LIJA<br>Women's<br>Argyle<br>Golf<br>Polo<br>\",\"All/Unsatisfied/Unsatisfied Customers/Outdoors/LIJA<br>Women's<br>Argyle<br>Golf<br>Polo<br>\",\"All/Bargain/Bargain Customers/Outdoors/LIJA<br>Women's<br>Button<br>Golf<br>Dress<br>\",\"All/Big spenders/Big Spenders/Outdoors/LIJA<br>Women's<br>Button<br>Golf<br>Dress<br>\",\"All/Loyal/Lost/Almost Lost Customers - Loyal/Outdoors/LIJA<br>Women's<br>Button<br>Golf<br>Dress<br>\",\"All/Loyal/Loyal Customers/Outdoors/LIJA<br>Women's<br>Button<br>Golf<br>Dress<br>\",\"All/New Customers/New Customers/Outdoors/LIJA<br>Women's<br>Button<br>Golf<br>Dress<br>\",\"All/Big spenders/Occasional Customers- Big Spenders/Outdoors/LIJA<br>Women's<br>Button<br>Golf<br>Dress<br>\",\"All/Bargain/Occasional Customers-Bargain/Outdoors/LIJA<br>Women's<br>Button<br>Golf<br>Dress<br>\",\"All/Unsatisfied/Unsatisfied Customers/Outdoors/LIJA<br>Women's<br>Button<br>Golf<br>Dress<br>\",\"All/Bargain/Bargain Customers/Outdoors/LIJA<br>Women's<br>Eyelet<br>Sleeveless<br>Golf<br>Polo<br>\",\"All/Big spenders/Big Spenders/Outdoors/LIJA<br>Women's<br>Eyelet<br>Sleeveless<br>Golf<br>Polo<br>\",\"All/Bargain/Lost Customers - Bargain/Outdoors/LIJA<br>Women's<br>Eyelet<br>Sleeveless<br>Golf<br>Polo<br>\",\"All/Big spenders/Lost Customers - Big Spenders/Outdoors/LIJA<br>Women's<br>Eyelet<br>Sleeveless<br>Golf<br>Polo<br>\",\"All/Loyal/Lost/Almost Lost Customers - Loyal/Outdoors/LIJA<br>Women's<br>Eyelet<br>Sleeveless<br>Golf<br>Polo<br>\",\"All/Loyal/Loyal Customers/Outdoors/LIJA<br>Women's<br>Eyelet<br>Sleeveless<br>Golf<br>Polo<br>\",\"All/New Customers/New Customers/Outdoors/LIJA<br>Women's<br>Eyelet<br>Sleeveless<br>Golf<br>Polo<br>\",\"All/Big spenders/Occasional Customers- Big Spenders/Outdoors/LIJA<br>Women's<br>Eyelet<br>Sleeveless<br>Golf<br>Polo<br>\",\"All/Bargain/Occasional Customers-Bargain/Outdoors/LIJA<br>Women's<br>Eyelet<br>Sleeveless<br>Golf<br>Polo<br>\",\"All/Unsatisfied/Unsatisfied Customers/Outdoors/LIJA<br>Women's<br>Eyelet<br>Sleeveless<br>Golf<br>Polo<br>\",\"All/Bargain/Bargain Customers/Outdoors/LIJA<br>Women's<br>Mid-Length<br>Panel<br>Golf<br>Shorts<br>\",\"All/Big spenders/Big Spenders/Outdoors/LIJA<br>Women's<br>Mid-Length<br>Panel<br>Golf<br>Shorts<br>\",\"All/Loyal/Lost/Almost Lost Customers - Loyal/Outdoors/LIJA<br>Women's<br>Mid-Length<br>Panel<br>Golf<br>Shorts<br>\",\"All/Loyal/Loyal Customers/Outdoors/LIJA<br>Women's<br>Mid-Length<br>Panel<br>Golf<br>Shorts<br>\",\"All/New Customers/New Customers/Outdoors/LIJA<br>Women's<br>Mid-Length<br>Panel<br>Golf<br>Shorts<br>\",\"All/Big spenders/Occasional Customers- Big Spenders/Outdoors/LIJA<br>Women's<br>Mid-Length<br>Panel<br>Golf<br>Shorts<br>\",\"All/Bargain/Occasional Customers-Bargain/Outdoors/LIJA<br>Women's<br>Mid-Length<br>Panel<br>Golf<br>Shorts<br>\",\"All/Unsatisfied/Unsatisfied Customers/Outdoors/LIJA<br>Women's<br>Mid-Length<br>Panel<br>Golf<br>Shorts<br>\",\"All/Bargain/Bargain Customers/Outdoors/MDGolf<br>Pittsburgh<br>Penguins<br>Putter<br>\",\"All/Big spenders/Big Spenders/Outdoors/MDGolf<br>Pittsburgh<br>Penguins<br>Putter<br>\",\"All/Loyal/Lost/Almost Lost Customers - Loyal/Outdoors/MDGolf<br>Pittsburgh<br>Penguins<br>Putter<br>\",\"All/Loyal/Loyal Customers/Outdoors/MDGolf<br>Pittsburgh<br>Penguins<br>Putter<br>\",\"All/New Customers/New Customers/Outdoors/MDGolf<br>Pittsburgh<br>Penguins<br>Putter<br>\",\"All/Big spenders/Occasional Customers- Big Spenders/Outdoors/MDGolf<br>Pittsburgh<br>Penguins<br>Putter<br>\",\"All/Bargain/Occasional Customers-Bargain/Outdoors/MDGolf<br>Pittsburgh<br>Penguins<br>Putter<br>\",\"All/Unsatisfied/Unsatisfied Customers/Outdoors/MDGolf<br>Pittsburgh<br>Penguins<br>Putter<br>\",\"All/Bargain/Bargain Customers/Outdoors/Merrell<br>Men's<br>All<br>Out<br>Flash<br>Trail<br>Running<br>Sho<br>\",\"All/Big spenders/Big Spenders/Outdoors/Merrell<br>Men's<br>All<br>Out<br>Flash<br>Trail<br>Running<br>Sho<br>\",\"All/Loyal/Lost/Almost Lost Customers - Loyal/Outdoors/Merrell<br>Men's<br>All<br>Out<br>Flash<br>Trail<br>Running<br>Sho<br>\",\"All/Loyal/Loyal Customers/Outdoors/Merrell<br>Men's<br>All<br>Out<br>Flash<br>Trail<br>Running<br>Sho<br>\",\"All/New Customers/New Customers/Outdoors/Merrell<br>Men's<br>All<br>Out<br>Flash<br>Trail<br>Running<br>Sho<br>\",\"All/Big spenders/Occasional Customers- Big Spenders/Outdoors/Merrell<br>Men's<br>All<br>Out<br>Flash<br>Trail<br>Running<br>Sho<br>\",\"All/Bargain/Occasional Customers-Bargain/Outdoors/Merrell<br>Men's<br>All<br>Out<br>Flash<br>Trail<br>Running<br>Sho<br>\",\"All/Unsatisfied/Unsatisfied Customers/Outdoors/Merrell<br>Men's<br>All<br>Out<br>Flash<br>Trail<br>Running<br>Sho<br>\",\"All/Bargain/Bargain Customers/Outdoors/Merrell<br>Women's<br>Grassbow<br>Sport<br>Hiking<br>Shoe<br>\",\"All/Big spenders/Big Spenders/Outdoors/Merrell<br>Women's<br>Grassbow<br>Sport<br>Hiking<br>Shoe<br>\",\"All/Loyal/Lost/Almost Lost Customers - Loyal/Outdoors/Merrell<br>Women's<br>Grassbow<br>Sport<br>Hiking<br>Shoe<br>\",\"All/Loyal/Loyal Customers/Outdoors/Merrell<br>Women's<br>Grassbow<br>Sport<br>Hiking<br>Shoe<br>\",\"All/New Customers/New Customers/Outdoors/Merrell<br>Women's<br>Grassbow<br>Sport<br>Hiking<br>Shoe<br>\",\"All/Big spenders/Occasional Customers- Big Spenders/Outdoors/Merrell<br>Women's<br>Grassbow<br>Sport<br>Hiking<br>Shoe<br>\",\"All/Bargain/Occasional Customers-Bargain/Outdoors/Merrell<br>Women's<br>Grassbow<br>Sport<br>Hiking<br>Shoe<br>\",\"All/Unsatisfied/Unsatisfied Customers/Outdoors/Merrell<br>Women's<br>Grassbow<br>Sport<br>Hiking<br>Shoe<br>\",\"All/Bargain/Bargain Customers/Outdoors/Merrell<br>Women's<br>Grassbow<br>Sport<br>Waterproof<br>Hik<br>\",\"All/Big spenders/Big Spenders/Outdoors/Merrell<br>Women's<br>Grassbow<br>Sport<br>Waterproof<br>Hik<br>\",\"All/Loyal/Lost/Almost Lost Customers - Loyal/Outdoors/Merrell<br>Women's<br>Grassbow<br>Sport<br>Waterproof<br>Hik<br>\",\"All/New Customers/New Customers/Outdoors/Merrell<br>Women's<br>Grassbow<br>Sport<br>Waterproof<br>Hik<br>\",\"All/Big spenders/Occasional Customers- Big Spenders/Outdoors/Merrell<br>Women's<br>Grassbow<br>Sport<br>Waterproof<br>Hik<br>\",\"All/Bargain/Occasional Customers-Bargain/Outdoors/Merrell<br>Women's<br>Grassbow<br>Sport<br>Waterproof<br>Hik<br>\",\"All/Unsatisfied/Unsatisfied Customers/Outdoors/Merrell<br>Women's<br>Grassbow<br>Sport<br>Waterproof<br>Hik<br>\",\"All/Bargain/Bargain Customers/Outdoors/Merrell<br>Women's<br>Siren<br>Mid<br>Waterproof<br>Hiking<br>B<br>\",\"All/Big spenders/Big Spenders/Outdoors/Merrell<br>Women's<br>Siren<br>Mid<br>Waterproof<br>Hiking<br>B<br>\",\"All/Loyal/Lost/Almost Lost Customers - Loyal/Outdoors/Merrell<br>Women's<br>Siren<br>Mid<br>Waterproof<br>Hiking<br>B<br>\",\"All/Loyal/Loyal Customers/Outdoors/Merrell<br>Women's<br>Siren<br>Mid<br>Waterproof<br>Hiking<br>B<br>\",\"All/New Customers/New Customers/Outdoors/Merrell<br>Women's<br>Siren<br>Mid<br>Waterproof<br>Hiking<br>B<br>\",\"All/Big spenders/Occasional Customers- Big Spenders/Outdoors/Merrell<br>Women's<br>Siren<br>Mid<br>Waterproof<br>Hiking<br>B<br>\",\"All/Bargain/Occasional Customers-Bargain/Outdoors/Merrell<br>Women's<br>Siren<br>Mid<br>Waterproof<br>Hiking<br>B<br>\",\"All/Unsatisfied/Unsatisfied Customers/Outdoors/Merrell<br>Women's<br>Siren<br>Mid<br>Waterproof<br>Hiking<br>B<br>\",\"All/Bargain/Bargain Customers/Outdoors/Mio<br>ALPHA<br>Heart<br>Rate<br>Monitor/Sport<br>Watch<br>\",\"All/Big spenders/Big Spenders/Outdoors/Mio<br>ALPHA<br>Heart<br>Rate<br>Monitor/Sport<br>Watch<br>\",\"All/Loyal/Lost/Almost Lost Customers - Loyal/Outdoors/Mio<br>ALPHA<br>Heart<br>Rate<br>Monitor/Sport<br>Watch<br>\",\"All/Loyal/Loyal Customers/Outdoors/Mio<br>ALPHA<br>Heart<br>Rate<br>Monitor/Sport<br>Watch<br>\",\"All/New Customers/New Customers/Outdoors/Mio<br>ALPHA<br>Heart<br>Rate<br>Monitor/Sport<br>Watch<br>\",\"All/Big spenders/Occasional Customers- Big Spenders/Outdoors/Mio<br>ALPHA<br>Heart<br>Rate<br>Monitor/Sport<br>Watch<br>\",\"All/Bargain/Occasional Customers-Bargain/Outdoors/Mio<br>ALPHA<br>Heart<br>Rate<br>Monitor/Sport<br>Watch<br>\",\"All/Unsatisfied/Unsatisfied Customers/Outdoors/Mio<br>ALPHA<br>Heart<br>Rate<br>Monitor/Sport<br>Watch<br>\",\"All/Bargain/Bargain Customers/Fitness/Nike<br>Dri-FIT<br>Crew<br>Sock<br>6<br>Pack<br>\",\"All/Big spenders/Big Spenders/Fitness/Nike<br>Dri-FIT<br>Crew<br>Sock<br>6<br>Pack<br>\",\"All/Bargain/Lost Customers - Bargain/Fitness/Nike<br>Dri-FIT<br>Crew<br>Sock<br>6<br>Pack<br>\",\"All/Big spenders/Lost Customers - Big Spenders/Fitness/Nike<br>Dri-FIT<br>Crew<br>Sock<br>6<br>Pack<br>\",\"All/Loyal/Lost/Almost Lost Customers - Loyal/Fitness/Nike<br>Dri-FIT<br>Crew<br>Sock<br>6<br>Pack<br>\",\"All/Loyal/Loyal Customers/Fitness/Nike<br>Dri-FIT<br>Crew<br>Sock<br>6<br>Pack<br>\",\"All/New Customers/New Customers/Fitness/Nike<br>Dri-FIT<br>Crew<br>Sock<br>6<br>Pack<br>\",\"All/Big spenders/Occasional Customers- Big Spenders/Fitness/Nike<br>Dri-FIT<br>Crew<br>Sock<br>6<br>Pack<br>\",\"All/Bargain/Occasional Customers-Bargain/Fitness/Nike<br>Dri-FIT<br>Crew<br>Sock<br>6<br>Pack<br>\",\"All/Unsatisfied/Unsatisfied Customers/Fitness/Nike<br>Dri-FIT<br>Crew<br>Sock<br>6<br>Pack<br>\",\"All/Bargain/Bargain Customers/Fitness/Nike<br>Kids'<br>Grade<br>School<br>KD<br>VI<br>Basketball<br>Shoe<br>\",\"All/Big spenders/Big Spenders/Fitness/Nike<br>Kids'<br>Grade<br>School<br>KD<br>VI<br>Basketball<br>Shoe<br>\",\"All/Loyal/Lost/Almost Lost Customers - Loyal/Fitness/Nike<br>Kids'<br>Grade<br>School<br>KD<br>VI<br>Basketball<br>Shoe<br>\",\"All/Loyal/Loyal Customers/Fitness/Nike<br>Kids'<br>Grade<br>School<br>KD<br>VI<br>Basketball<br>Shoe<br>\",\"All/New Customers/New Customers/Fitness/Nike<br>Kids'<br>Grade<br>School<br>KD<br>VI<br>Basketball<br>Shoe<br>\",\"All/Big spenders/Occasional Customers- Big Spenders/Fitness/Nike<br>Kids'<br>Grade<br>School<br>KD<br>VI<br>Basketball<br>Shoe<br>\",\"All/Bargain/Occasional Customers-Bargain/Fitness/Nike<br>Kids'<br>Grade<br>School<br>KD<br>VI<br>Basketball<br>Shoe<br>\",\"All/Unsatisfied/Unsatisfied Customers/Fitness/Nike<br>Kids'<br>Grade<br>School<br>KD<br>VI<br>Basketball<br>Shoe<br>\",\"All/Bargain/Bargain Customers/Apparel/Nike<br>Men's<br>CJ<br>Elite<br>2<br>TD<br>Football<br>Cleat<br>\",\"All/Big spenders/Big Spenders/Apparel/Nike<br>Men's<br>CJ<br>Elite<br>2<br>TD<br>Football<br>Cleat<br>\",\"All/Bargain/Lost Customers - Bargain/Apparel/Nike<br>Men's<br>CJ<br>Elite<br>2<br>TD<br>Football<br>Cleat<br>\",\"All/Big spenders/Lost Customers - Big Spenders/Apparel/Nike<br>Men's<br>CJ<br>Elite<br>2<br>TD<br>Football<br>Cleat<br>\",\"All/Loyal/Lost/Almost Lost Customers - Loyal/Apparel/Nike<br>Men's<br>CJ<br>Elite<br>2<br>TD<br>Football<br>Cleat<br>\",\"All/Loyal/Loyal Customers/Apparel/Nike<br>Men's<br>CJ<br>Elite<br>2<br>TD<br>Football<br>Cleat<br>\",\"All/New Customers/New Customers/Apparel/Nike<br>Men's<br>CJ<br>Elite<br>2<br>TD<br>Football<br>Cleat<br>\",\"All/Big spenders/Occasional Customers- Big Spenders/Apparel/Nike<br>Men's<br>CJ<br>Elite<br>2<br>TD<br>Football<br>Cleat<br>\",\"All/Bargain/Occasional Customers-Bargain/Apparel/Nike<br>Men's<br>CJ<br>Elite<br>2<br>TD<br>Football<br>Cleat<br>\",\"All/Unsatisfied/Unsatisfied Customers/Apparel/Nike<br>Men's<br>CJ<br>Elite<br>2<br>TD<br>Football<br>Cleat<br>\",\"All/Bargain/Bargain Customers/Fitness/Nike<br>Men's<br>Comfort<br>2<br>Slide<br>\",\"All/Big spenders/Big Spenders/Fitness/Nike<br>Men's<br>Comfort<br>2<br>Slide<br>\",\"All/Bargain/Lost Customers - Bargain/Fitness/Nike<br>Men's<br>Comfort<br>2<br>Slide<br>\",\"All/Big spenders/Lost Customers - Big Spenders/Fitness/Nike<br>Men's<br>Comfort<br>2<br>Slide<br>\",\"All/Loyal/Lost/Almost Lost Customers - Loyal/Fitness/Nike<br>Men's<br>Comfort<br>2<br>Slide<br>\",\"All/Loyal/Loyal Customers/Fitness/Nike<br>Men's<br>Comfort<br>2<br>Slide<br>\",\"All/New Customers/New Customers/Fitness/Nike<br>Men's<br>Comfort<br>2<br>Slide<br>\",\"All/Big spenders/Occasional Customers- Big Spenders/Fitness/Nike<br>Men's<br>Comfort<br>2<br>Slide<br>\",\"All/Bargain/Occasional Customers-Bargain/Fitness/Nike<br>Men's<br>Comfort<br>2<br>Slide<br>\",\"All/Unsatisfied/Unsatisfied Customers/Fitness/Nike<br>Men's<br>Comfort<br>2<br>Slide<br>\",\"All/Bargain/Bargain Customers/Golf/Nike<br>Men's<br>Deutschland<br>Weltmeister<br>Winners<br>Bl<br>\",\"All/Big spenders/Big Spenders/Golf/Nike<br>Men's<br>Deutschland<br>Weltmeister<br>Winners<br>Bl<br>\",\"All/Bargain/Lost Customers - Bargain/Golf/Nike<br>Men's<br>Deutschland<br>Weltmeister<br>Winners<br>Bl<br>\",\"All/Big spenders/Lost Customers - Big Spenders/Golf/Nike<br>Men's<br>Deutschland<br>Weltmeister<br>Winners<br>Bl<br>\",\"All/Loyal/Lost/Almost Lost Customers - Loyal/Golf/Nike<br>Men's<br>Deutschland<br>Weltmeister<br>Winners<br>Bl<br>\",\"All/Loyal/Loyal Customers/Golf/Nike<br>Men's<br>Deutschland<br>Weltmeister<br>Winners<br>Bl<br>\",\"All/New Customers/New Customers/Golf/Nike<br>Men's<br>Deutschland<br>Weltmeister<br>Winners<br>Bl<br>\",\"All/Big spenders/Occasional Customers- Big Spenders/Golf/Nike<br>Men's<br>Deutschland<br>Weltmeister<br>Winners<br>Bl<br>\",\"All/Bargain/Occasional Customers-Bargain/Golf/Nike<br>Men's<br>Deutschland<br>Weltmeister<br>Winners<br>Bl<br>\",\"All/Unsatisfied/Unsatisfied Customers/Golf/Nike<br>Men's<br>Deutschland<br>Weltmeister<br>Winners<br>Bl<br>\",\"All/Bargain/Bargain Customers/Golf/Nike<br>Men's<br>Dri-FIT<br>Victory<br>Golf<br>Polo<br>\",\"All/Big spenders/Big Spenders/Golf/Nike<br>Men's<br>Dri-FIT<br>Victory<br>Golf<br>Polo<br>\",\"All/Bargain/Lost Customers - Bargain/Golf/Nike<br>Men's<br>Dri-FIT<br>Victory<br>Golf<br>Polo<br>\",\"All/Big spenders/Lost Customers - Big Spenders/Golf/Nike<br>Men's<br>Dri-FIT<br>Victory<br>Golf<br>Polo<br>\",\"All/Loyal/Lost/Almost Lost Customers - Loyal/Golf/Nike<br>Men's<br>Dri-FIT<br>Victory<br>Golf<br>Polo<br>\",\"All/Loyal/Loyal Customers/Golf/Nike<br>Men's<br>Dri-FIT<br>Victory<br>Golf<br>Polo<br>\",\"All/New Customers/New Customers/Golf/Nike<br>Men's<br>Dri-FIT<br>Victory<br>Golf<br>Polo<br>\",\"All/Big spenders/Occasional Customers- Big Spenders/Golf/Nike<br>Men's<br>Dri-FIT<br>Victory<br>Golf<br>Polo<br>\",\"All/Bargain/Occasional Customers-Bargain/Golf/Nike<br>Men's<br>Dri-FIT<br>Victory<br>Golf<br>Polo<br>\",\"All/Unsatisfied/Unsatisfied Customers/Golf/Nike<br>Men's<br>Dri-FIT<br>Victory<br>Golf<br>Polo<br>\",\"All/Bargain/Bargain Customers/Fitness/Nike<br>Men's<br>Fingertrap<br>Max<br>Training<br>Shoe<br>\",\"All/Big spenders/Big Spenders/Fitness/Nike<br>Men's<br>Fingertrap<br>Max<br>Training<br>Shoe<br>\",\"All/Loyal/Lost/Almost Lost Customers - Loyal/Fitness/Nike<br>Men's<br>Fingertrap<br>Max<br>Training<br>Shoe<br>\",\"All/Loyal/Loyal Customers/Fitness/Nike<br>Men's<br>Fingertrap<br>Max<br>Training<br>Shoe<br>\",\"All/New Customers/New Customers/Fitness/Nike<br>Men's<br>Fingertrap<br>Max<br>Training<br>Shoe<br>\",\"All/Big spenders/Occasional Customers- Big Spenders/Fitness/Nike<br>Men's<br>Fingertrap<br>Max<br>Training<br>Shoe<br>\",\"All/Bargain/Occasional Customers-Bargain/Fitness/Nike<br>Men's<br>Fingertrap<br>Max<br>Training<br>Shoe<br>\",\"All/Unsatisfied/Unsatisfied Customers/Fitness/Nike<br>Men's<br>Fingertrap<br>Max<br>Training<br>Shoe<br>\",\"All/Bargain/Bargain Customers/Footwear/Nike<br>Men's<br>Free<br>5.0+<br>Running<br>Shoe<br>\",\"All/Big spenders/Big Spenders/Footwear/Nike<br>Men's<br>Free<br>5.0+<br>Running<br>Shoe<br>\",\"All/Bargain/Lost Customers - Bargain/Footwear/Nike<br>Men's<br>Free<br>5.0+<br>Running<br>Shoe<br>\",\"All/Big spenders/Lost Customers - Big Spenders/Footwear/Nike<br>Men's<br>Free<br>5.0+<br>Running<br>Shoe<br>\",\"All/Loyal/Lost/Almost Lost Customers - Loyal/Footwear/Nike<br>Men's<br>Free<br>5.0+<br>Running<br>Shoe<br>\",\"All/Loyal/Loyal Customers/Footwear/Nike<br>Men's<br>Free<br>5.0+<br>Running<br>Shoe<br>\",\"All/New Customers/New Customers/Footwear/Nike<br>Men's<br>Free<br>5.0+<br>Running<br>Shoe<br>\",\"All/Big spenders/Occasional Customers- Big Spenders/Footwear/Nike<br>Men's<br>Free<br>5.0+<br>Running<br>Shoe<br>\",\"All/Bargain/Occasional Customers-Bargain/Footwear/Nike<br>Men's<br>Free<br>5.0+<br>Running<br>Shoe<br>\",\"All/Unsatisfied/Unsatisfied Customers/Footwear/Nike<br>Men's<br>Free<br>5.0+<br>Running<br>Shoe<br>\",\"All/Bargain/Bargain Customers/Footwear/Nike<br>Men's<br>Free<br>TR<br>5.0<br>TB<br>Training<br>Shoe<br>\",\"All/Big spenders/Big Spenders/Footwear/Nike<br>Men's<br>Free<br>TR<br>5.0<br>TB<br>Training<br>Shoe<br>\",\"All/Loyal/Loyal Customers/Footwear/Nike<br>Men's<br>Free<br>TR<br>5.0<br>TB<br>Training<br>Shoe<br>\",\"All/New Customers/New Customers/Footwear/Nike<br>Men's<br>Free<br>TR<br>5.0<br>TB<br>Training<br>Shoe<br>\",\"All/Big spenders/Occasional Customers- Big Spenders/Footwear/Nike<br>Men's<br>Free<br>TR<br>5.0<br>TB<br>Training<br>Shoe<br>\",\"All/Bargain/Occasional Customers-Bargain/Footwear/Nike<br>Men's<br>Free<br>TR<br>5.0<br>TB<br>Training<br>Shoe<br>\",\"All/Unsatisfied/Unsatisfied Customers/Footwear/Nike<br>Men's<br>Free<br>TR<br>5.0<br>TB<br>Training<br>Shoe<br>\",\"All/Bargain/Bargain Customers/Golf/Nike<br>Men's<br>Kobe<br>IX<br>Elite<br>Low<br>Basketball<br>Shoe<br>\",\"All/Big spenders/Big Spenders/Golf/Nike<br>Men's<br>Kobe<br>IX<br>Elite<br>Low<br>Basketball<br>Shoe<br>\",\"All/Loyal/Lost/Almost Lost Customers - Loyal/Golf/Nike<br>Men's<br>Kobe<br>IX<br>Elite<br>Low<br>Basketball<br>Shoe<br>\",\"All/Loyal/Loyal Customers/Golf/Nike<br>Men's<br>Kobe<br>IX<br>Elite<br>Low<br>Basketball<br>Shoe<br>\",\"All/New Customers/New Customers/Golf/Nike<br>Men's<br>Kobe<br>IX<br>Elite<br>Low<br>Basketball<br>Shoe<br>\",\"All/Big spenders/Occasional Customers- Big Spenders/Golf/Nike<br>Men's<br>Kobe<br>IX<br>Elite<br>Low<br>Basketball<br>Shoe<br>\",\"All/Bargain/Occasional Customers-Bargain/Golf/Nike<br>Men's<br>Kobe<br>IX<br>Elite<br>Low<br>Basketball<br>Shoe<br>\",\"All/Unsatisfied/Unsatisfied Customers/Golf/Nike<br>Men's<br>Kobe<br>IX<br>Elite<br>Low<br>Basketball<br>Shoe<br>\",\"All/Bargain/Bargain Customers/Footwear/Nike<br>Women's<br>Free<br>5.0<br>TR<br>FIT<br>PRT<br>4<br>Training<br>S<br>\",\"All/Big spenders/Big Spenders/Footwear/Nike<br>Women's<br>Free<br>5.0<br>TR<br>FIT<br>PRT<br>4<br>Training<br>S<br>\",\"All/Loyal/Lost/Almost Lost Customers - Loyal/Footwear/Nike<br>Women's<br>Free<br>5.0<br>TR<br>FIT<br>PRT<br>4<br>Training<br>S<br>\",\"All/Loyal/Loyal Customers/Footwear/Nike<br>Women's<br>Free<br>5.0<br>TR<br>FIT<br>PRT<br>4<br>Training<br>S<br>\",\"All/New Customers/New Customers/Footwear/Nike<br>Women's<br>Free<br>5.0<br>TR<br>FIT<br>PRT<br>4<br>Training<br>S<br>\",\"All/Big spenders/Occasional Customers- Big Spenders/Footwear/Nike<br>Women's<br>Free<br>5.0<br>TR<br>FIT<br>PRT<br>4<br>Training<br>S<br>\",\"All/Bargain/Occasional Customers-Bargain/Footwear/Nike<br>Women's<br>Free<br>5.0<br>TR<br>FIT<br>PRT<br>4<br>Training<br>S<br>\",\"All/Unsatisfied/Unsatisfied Customers/Footwear/Nike<br>Women's<br>Free<br>5.0<br>TR<br>FIT<br>PRT<br>4<br>Training<br>S<br>\",\"All/Bargain/Bargain Customers/Fitness/Nike<br>Women's<br>Legend<br>V-Neck<br>T-Shirt<br>\",\"All/Big spenders/Big Spenders/Fitness/Nike<br>Women's<br>Legend<br>V-Neck<br>T-Shirt<br>\",\"All/Bargain/Lost Customers - Bargain/Fitness/Nike<br>Women's<br>Legend<br>V-Neck<br>T-Shirt<br>\",\"All/Big spenders/Lost Customers - Big Spenders/Fitness/Nike<br>Women's<br>Legend<br>V-Neck<br>T-Shirt<br>\",\"All/Loyal/Lost/Almost Lost Customers - Loyal/Fitness/Nike<br>Women's<br>Legend<br>V-Neck<br>T-Shirt<br>\",\"All/Loyal/Loyal Customers/Fitness/Nike<br>Women's<br>Legend<br>V-Neck<br>T-Shirt<br>\",\"All/New Customers/New Customers/Fitness/Nike<br>Women's<br>Legend<br>V-Neck<br>T-Shirt<br>\",\"All/Big spenders/Occasional Customers- Big Spenders/Fitness/Nike<br>Women's<br>Legend<br>V-Neck<br>T-Shirt<br>\",\"All/Bargain/Occasional Customers-Bargain/Fitness/Nike<br>Women's<br>Legend<br>V-Neck<br>T-Shirt<br>\",\"All/Unsatisfied/Unsatisfied Customers/Fitness/Nike<br>Women's<br>Legend<br>V-Neck<br>T-Shirt<br>\",\"All/Bargain/Bargain Customers/Footwear/Nike<br>Women's<br>Tempo<br>Shorts<br>\",\"All/Big spenders/Big Spenders/Footwear/Nike<br>Women's<br>Tempo<br>Shorts<br>\",\"All/Bargain/Lost Customers - Bargain/Footwear/Nike<br>Women's<br>Tempo<br>Shorts<br>\",\"All/Big spenders/Lost Customers - Big Spenders/Footwear/Nike<br>Women's<br>Tempo<br>Shorts<br>\",\"All/Loyal/Lost/Almost Lost Customers - Loyal/Footwear/Nike<br>Women's<br>Tempo<br>Shorts<br>\",\"All/Loyal/Loyal Customers/Footwear/Nike<br>Women's<br>Tempo<br>Shorts<br>\",\"All/New Customers/New Customers/Footwear/Nike<br>Women's<br>Tempo<br>Shorts<br>\",\"All/Big spenders/Occasional Customers- Big Spenders/Footwear/Nike<br>Women's<br>Tempo<br>Shorts<br>\",\"All/Bargain/Occasional Customers-Bargain/Footwear/Nike<br>Women's<br>Tempo<br>Shorts<br>\",\"All/Unsatisfied/Unsatisfied Customers/Footwear/Nike<br>Women's<br>Tempo<br>Shorts<br>\",\"All/Bargain/Bargain Customers/Fan Shop/O'Brien<br>Men's<br>Neoprene<br>Life<br>Vest<br>\",\"All/Big spenders/Big Spenders/Fan Shop/O'Brien<br>Men's<br>Neoprene<br>Life<br>Vest<br>\",\"All/Bargain/Lost Customers - Bargain/Fan Shop/O'Brien<br>Men's<br>Neoprene<br>Life<br>Vest<br>\",\"All/Big spenders/Lost Customers - Big Spenders/Fan Shop/O'Brien<br>Men's<br>Neoprene<br>Life<br>Vest<br>\",\"All/Loyal/Lost/Almost Lost Customers - Loyal/Fan Shop/O'Brien<br>Men's<br>Neoprene<br>Life<br>Vest<br>\",\"All/Loyal/Loyal Customers/Fan Shop/O'Brien<br>Men's<br>Neoprene<br>Life<br>Vest<br>\",\"All/New Customers/New Customers/Fan Shop/O'Brien<br>Men's<br>Neoprene<br>Life<br>Vest<br>\",\"All/Big spenders/Occasional Customers- Big Spenders/Fan Shop/O'Brien<br>Men's<br>Neoprene<br>Life<br>Vest<br>\",\"All/Bargain/Occasional Customers-Bargain/Fan Shop/O'Brien<br>Men's<br>Neoprene<br>Life<br>Vest<br>\",\"All/Unsatisfied/Unsatisfied Customers/Fan Shop/O'Brien<br>Men's<br>Neoprene<br>Life<br>Vest<br>\",\"All/Bargain/Bargain Customers/Outdoors/Ogio<br>Race<br>Golf<br>Shoes<br>\",\"All/Big spenders/Big Spenders/Outdoors/Ogio<br>Race<br>Golf<br>Shoes<br>\",\"All/Loyal/Loyal Customers/Outdoors/Ogio<br>Race<br>Golf<br>Shoes<br>\",\"All/New Customers/New Customers/Outdoors/Ogio<br>Race<br>Golf<br>Shoes<br>\",\"All/Big spenders/Occasional Customers- Big Spenders/Outdoors/Ogio<br>Race<br>Golf<br>Shoes<br>\",\"All/Bargain/Occasional Customers-Bargain/Outdoors/Ogio<br>Race<br>Golf<br>Shoes<br>\",\"All/Unsatisfied/Unsatisfied Customers/Outdoors/Ogio<br>Race<br>Golf<br>Shoes<br>\",\"All/Bargain/Bargain Customers/Fan Shop/Pelican<br>Maverick<br>100X<br>Kayak<br>\",\"All/Big spenders/Big Spenders/Fan Shop/Pelican<br>Maverick<br>100X<br>Kayak<br>\",\"All/New Customers/New Customers/Fan Shop/Pelican<br>Maverick<br>100X<br>Kayak<br>\",\"All/Bargain/Bargain Customers/Fan Shop/Pelican<br>Sunstream<br>100<br>Kayak<br>\",\"All/Big spenders/Big Spenders/Fan Shop/Pelican<br>Sunstream<br>100<br>Kayak<br>\",\"All/Bargain/Lost Customers - Bargain/Fan Shop/Pelican<br>Sunstream<br>100<br>Kayak<br>\",\"All/Big spenders/Lost Customers - Big Spenders/Fan Shop/Pelican<br>Sunstream<br>100<br>Kayak<br>\",\"All/Loyal/Lost/Almost Lost Customers - Loyal/Fan Shop/Pelican<br>Sunstream<br>100<br>Kayak<br>\",\"All/Loyal/Loyal Customers/Fan Shop/Pelican<br>Sunstream<br>100<br>Kayak<br>\",\"All/New Customers/New Customers/Fan Shop/Pelican<br>Sunstream<br>100<br>Kayak<br>\",\"All/Big spenders/Occasional Customers- Big Spenders/Fan Shop/Pelican<br>Sunstream<br>100<br>Kayak<br>\",\"All/Bargain/Occasional Customers-Bargain/Fan Shop/Pelican<br>Sunstream<br>100<br>Kayak<br>\",\"All/Unsatisfied/Unsatisfied Customers/Fan Shop/Pelican<br>Sunstream<br>100<br>Kayak<br>\",\"All/Bargain/Bargain Customers/Apparel/Perfect<br>Fitness<br>Perfect<br>Rip<br>Deck<br>\",\"All/Big spenders/Big Spenders/Apparel/Perfect<br>Fitness<br>Perfect<br>Rip<br>Deck<br>\",\"All/Bargain/Lost Customers - Bargain/Apparel/Perfect<br>Fitness<br>Perfect<br>Rip<br>Deck<br>\",\"All/Big spenders/Lost Customers - Big Spenders/Apparel/Perfect<br>Fitness<br>Perfect<br>Rip<br>Deck<br>\",\"All/Loyal/Lost/Almost Lost Customers - Loyal/Apparel/Perfect<br>Fitness<br>Perfect<br>Rip<br>Deck<br>\",\"All/Loyal/Loyal Customers/Apparel/Perfect<br>Fitness<br>Perfect<br>Rip<br>Deck<br>\",\"All/New Customers/New Customers/Apparel/Perfect<br>Fitness<br>Perfect<br>Rip<br>Deck<br>\",\"All/Big spenders/Occasional Customers- Big Spenders/Apparel/Perfect<br>Fitness<br>Perfect<br>Rip<br>Deck<br>\",\"All/Bargain/Occasional Customers-Bargain/Apparel/Perfect<br>Fitness<br>Perfect<br>Rip<br>Deck<br>\",\"All/Unsatisfied/Unsatisfied Customers/Apparel/Perfect<br>Fitness<br>Perfect<br>Rip<br>Deck<br>\",\"All/Bargain/Bargain Customers/Outdoors/Polar<br>FT4<br>Heart<br>Rate<br>Monitor<br>\",\"All/Big spenders/Big Spenders/Outdoors/Polar<br>FT4<br>Heart<br>Rate<br>Monitor<br>\",\"All/Loyal/Loyal Customers/Outdoors/Polar<br>FT4<br>Heart<br>Rate<br>Monitor<br>\",\"All/New Customers/New Customers/Outdoors/Polar<br>FT4<br>Heart<br>Rate<br>Monitor<br>\",\"All/Big spenders/Occasional Customers- Big Spenders/Outdoors/Polar<br>FT4<br>Heart<br>Rate<br>Monitor<br>\",\"All/Bargain/Occasional Customers-Bargain/Outdoors/Polar<br>FT4<br>Heart<br>Rate<br>Monitor<br>\",\"All/Unsatisfied/Unsatisfied Customers/Outdoors/Polar<br>FT4<br>Heart<br>Rate<br>Monitor<br>\",\"All/Bargain/Bargain Customers/Outdoors/Polar<br>Loop<br>Activity<br>Tracker<br>\",\"All/Big spenders/Big Spenders/Outdoors/Polar<br>Loop<br>Activity<br>Tracker<br>\",\"All/Loyal/Loyal Customers/Outdoors/Polar<br>Loop<br>Activity<br>Tracker<br>\",\"All/New Customers/New Customers/Outdoors/Polar<br>Loop<br>Activity<br>Tracker<br>\",\"All/Big spenders/Occasional Customers- Big Spenders/Outdoors/Polar<br>Loop<br>Activity<br>Tracker<br>\",\"All/Bargain/Occasional Customers-Bargain/Outdoors/Polar<br>Loop<br>Activity<br>Tracker<br>\",\"All/Bargain/Bargain Customers/Fitness/SOLE<br>E25<br>Elliptical<br>\",\"All/Big spenders/Big Spenders/Fitness/SOLE<br>E25<br>Elliptical<br>\",\"All/New Customers/New Customers/Fitness/SOLE<br>E25<br>Elliptical<br>\",\"All/Big spenders/Big Spenders/Footwear/SOLE<br>E35<br>Elliptical<br>\",\"All/Bargain/Bargain Customers/Fitness/Stiga<br>Master<br>Series<br>ST3100<br>Competition<br>Indoor<br>\",\"All/Big spenders/Big Spenders/Fitness/Stiga<br>Master<br>Series<br>ST3100<br>Competition<br>Indoor<br>\",\"All/Loyal/Loyal Customers/Fitness/Stiga<br>Master<br>Series<br>ST3100<br>Competition<br>Indoor<br>\",\"All/New Customers/New Customers/Fitness/Stiga<br>Master<br>Series<br>ST3100<br>Competition<br>Indoor<br>\",\"All/Bargain/Bargain Customers/Golf/TYR<br>Boys'<br>Team<br>Digi<br>Jammer<br>\",\"All/Big spenders/Big Spenders/Golf/TYR<br>Boys'<br>Team<br>Digi<br>Jammer<br>\",\"All/Bargain/Lost Customers - Bargain/Golf/TYR<br>Boys'<br>Team<br>Digi<br>Jammer<br>\",\"All/Big spenders/Lost Customers - Big Spenders/Golf/TYR<br>Boys'<br>Team<br>Digi<br>Jammer<br>\",\"All/Loyal/Lost/Almost Lost Customers - Loyal/Golf/TYR<br>Boys'<br>Team<br>Digi<br>Jammer<br>\",\"All/Loyal/Loyal Customers/Golf/TYR<br>Boys'<br>Team<br>Digi<br>Jammer<br>\",\"All/New Customers/New Customers/Golf/TYR<br>Boys'<br>Team<br>Digi<br>Jammer<br>\",\"All/Big spenders/Occasional Customers- Big Spenders/Golf/TYR<br>Boys'<br>Team<br>Digi<br>Jammer<br>\",\"All/Bargain/Occasional Customers-Bargain/Golf/TYR<br>Boys'<br>Team<br>Digi<br>Jammer<br>\",\"All/Unsatisfied/Unsatisfied Customers/Golf/TYR<br>Boys'<br>Team<br>Digi<br>Jammer<br>\",\"All/Bargain/Bargain Customers/Outdoors/TaylorMade<br>2014<br>Purelite<br>Stand<br>Bag<br>\",\"All/Big spenders/Big Spenders/Outdoors/TaylorMade<br>2014<br>Purelite<br>Stand<br>Bag<br>\",\"All/Loyal/Lost/Almost Lost Customers - Loyal/Outdoors/TaylorMade<br>2014<br>Purelite<br>Stand<br>Bag<br>\",\"All/Loyal/Loyal Customers/Outdoors/TaylorMade<br>2014<br>Purelite<br>Stand<br>Bag<br>\",\"All/New Customers/New Customers/Outdoors/TaylorMade<br>2014<br>Purelite<br>Stand<br>Bag<br>\",\"All/Big spenders/Occasional Customers- Big Spenders/Outdoors/TaylorMade<br>2014<br>Purelite<br>Stand<br>Bag<br>\",\"All/Bargain/Occasional Customers-Bargain/Outdoors/TaylorMade<br>2014<br>Purelite<br>Stand<br>Bag<br>\",\"All/Unsatisfied/Unsatisfied Customers/Outdoors/TaylorMade<br>2014<br>Purelite<br>Stand<br>Bag<br>\",\"All/Bargain/Bargain Customers/Outdoors/TaylorMade<br>White<br>Smoke<br>IN-12<br>Putter<br>\",\"All/Big spenders/Big Spenders/Outdoors/TaylorMade<br>White<br>Smoke<br>IN-12<br>Putter<br>\",\"All/Loyal/Loyal Customers/Outdoors/TaylorMade<br>White<br>Smoke<br>IN-12<br>Putter<br>\",\"All/New Customers/New Customers/Outdoors/TaylorMade<br>White<br>Smoke<br>IN-12<br>Putter<br>\",\"All/Big spenders/Occasional Customers- Big Spenders/Outdoors/TaylorMade<br>White<br>Smoke<br>IN-12<br>Putter<br>\",\"All/Bargain/Occasional Customers-Bargain/Outdoors/TaylorMade<br>White<br>Smoke<br>IN-12<br>Putter<br>\",\"All/Unsatisfied/Unsatisfied Customers/Outdoors/TaylorMade<br>White<br>Smoke<br>IN-12<br>Putter<br>\",\"All/Bargain/Bargain Customers/Outdoors/TaylorMade<br>Women's<br>RBZ<br>SL<br>Rescue<br>\",\"All/Big spenders/Big Spenders/Outdoors/TaylorMade<br>Women's<br>RBZ<br>SL<br>Rescue<br>\",\"All/Loyal/Lost/Almost Lost Customers - Loyal/Outdoors/TaylorMade<br>Women's<br>RBZ<br>SL<br>Rescue<br>\",\"All/Loyal/Loyal Customers/Outdoors/TaylorMade<br>Women's<br>RBZ<br>SL<br>Rescue<br>\",\"All/New Customers/New Customers/Outdoors/TaylorMade<br>Women's<br>RBZ<br>SL<br>Rescue<br>\",\"All/Big spenders/Occasional Customers- Big Spenders/Outdoors/TaylorMade<br>Women's<br>RBZ<br>SL<br>Rescue<br>\",\"All/Bargain/Occasional Customers-Bargain/Outdoors/TaylorMade<br>Women's<br>RBZ<br>SL<br>Rescue<br>\",\"All/Unsatisfied/Unsatisfied Customers/Outdoors/TaylorMade<br>Women's<br>RBZ<br>SL<br>Rescue<br>\",\"All/Bargain/Bargain Customers/Outdoors/Team<br>Golf<br>New<br>England<br>Patriots<br>Putter<br>Grip<br>\",\"All/Big spenders/Big Spenders/Outdoors/Team<br>Golf<br>New<br>England<br>Patriots<br>Putter<br>Grip<br>\",\"All/Bargain/Lost Customers - Bargain/Outdoors/Team<br>Golf<br>New<br>England<br>Patriots<br>Putter<br>Grip<br>\",\"All/Big spenders/Lost Customers - Big Spenders/Outdoors/Team<br>Golf<br>New<br>England<br>Patriots<br>Putter<br>Grip<br>\",\"All/Loyal/Lost/Almost Lost Customers - Loyal/Outdoors/Team<br>Golf<br>New<br>England<br>Patriots<br>Putter<br>Grip<br>\",\"All/Loyal/Loyal Customers/Outdoors/Team<br>Golf<br>New<br>England<br>Patriots<br>Putter<br>Grip<br>\",\"All/New Customers/New Customers/Outdoors/Team<br>Golf<br>New<br>England<br>Patriots<br>Putter<br>Grip<br>\",\"All/Big spenders/Occasional Customers- Big Spenders/Outdoors/Team<br>Golf<br>New<br>England<br>Patriots<br>Putter<br>Grip<br>\",\"All/Bargain/Occasional Customers-Bargain/Outdoors/Team<br>Golf<br>New<br>England<br>Patriots<br>Putter<br>Grip<br>\",\"All/Unsatisfied/Unsatisfied Customers/Outdoors/Team<br>Golf<br>New<br>England<br>Patriots<br>Putter<br>Grip<br>\",\"All/Bargain/Bargain Customers/Outdoors/Team<br>Golf<br>Pittsburgh<br>Steelers<br>Putter<br>Grip<br>\",\"All/Big spenders/Big Spenders/Outdoors/Team<br>Golf<br>Pittsburgh<br>Steelers<br>Putter<br>Grip<br>\",\"All/Bargain/Lost Customers - Bargain/Outdoors/Team<br>Golf<br>Pittsburgh<br>Steelers<br>Putter<br>Grip<br>\",\"All/Big spenders/Lost Customers - Big Spenders/Outdoors/Team<br>Golf<br>Pittsburgh<br>Steelers<br>Putter<br>Grip<br>\",\"All/Loyal/Lost/Almost Lost Customers - Loyal/Outdoors/Team<br>Golf<br>Pittsburgh<br>Steelers<br>Putter<br>Grip<br>\",\"All/Loyal/Loyal Customers/Outdoors/Team<br>Golf<br>Pittsburgh<br>Steelers<br>Putter<br>Grip<br>\",\"All/New Customers/New Customers/Outdoors/Team<br>Golf<br>Pittsburgh<br>Steelers<br>Putter<br>Grip<br>\",\"All/Big spenders/Occasional Customers- Big Spenders/Outdoors/Team<br>Golf<br>Pittsburgh<br>Steelers<br>Putter<br>Grip<br>\",\"All/Bargain/Occasional Customers-Bargain/Outdoors/Team<br>Golf<br>Pittsburgh<br>Steelers<br>Putter<br>Grip<br>\",\"All/Unsatisfied/Unsatisfied Customers/Outdoors/Team<br>Golf<br>Pittsburgh<br>Steelers<br>Putter<br>Grip<br>\",\"All/Bargain/Bargain Customers/Outdoors/Team<br>Golf<br>San<br>Francisco<br>Giants<br>Putter<br>Grip<br>\",\"All/Big spenders/Big Spenders/Outdoors/Team<br>Golf<br>San<br>Francisco<br>Giants<br>Putter<br>Grip<br>\",\"All/Bargain/Lost Customers - Bargain/Outdoors/Team<br>Golf<br>San<br>Francisco<br>Giants<br>Putter<br>Grip<br>\",\"All/Big spenders/Lost Customers - Big Spenders/Outdoors/Team<br>Golf<br>San<br>Francisco<br>Giants<br>Putter<br>Grip<br>\",\"All/Loyal/Lost/Almost Lost Customers - Loyal/Outdoors/Team<br>Golf<br>San<br>Francisco<br>Giants<br>Putter<br>Grip<br>\",\"All/Loyal/Loyal Customers/Outdoors/Team<br>Golf<br>San<br>Francisco<br>Giants<br>Putter<br>Grip<br>\",\"All/New Customers/New Customers/Outdoors/Team<br>Golf<br>San<br>Francisco<br>Giants<br>Putter<br>Grip<br>\",\"All/Big spenders/Occasional Customers- Big Spenders/Outdoors/Team<br>Golf<br>San<br>Francisco<br>Giants<br>Putter<br>Grip<br>\",\"All/Bargain/Occasional Customers-Bargain/Outdoors/Team<br>Golf<br>San<br>Francisco<br>Giants<br>Putter<br>Grip<br>\",\"All/Unsatisfied/Unsatisfied Customers/Outdoors/Team<br>Golf<br>San<br>Francisco<br>Giants<br>Putter<br>Grip<br>\",\"All/Bargain/Bargain Customers/Outdoors/Team<br>Golf<br>St.<br>Louis<br>Cardinals<br>Putter<br>Grip<br>\",\"All/Big spenders/Big Spenders/Outdoors/Team<br>Golf<br>St.<br>Louis<br>Cardinals<br>Putter<br>Grip<br>\",\"All/Bargain/Lost Customers - Bargain/Outdoors/Team<br>Golf<br>St.<br>Louis<br>Cardinals<br>Putter<br>Grip<br>\",\"All/Big spenders/Lost Customers - Big Spenders/Outdoors/Team<br>Golf<br>St.<br>Louis<br>Cardinals<br>Putter<br>Grip<br>\",\"All/Loyal/Lost/Almost Lost Customers - Loyal/Outdoors/Team<br>Golf<br>St.<br>Louis<br>Cardinals<br>Putter<br>Grip<br>\",\"All/Loyal/Loyal Customers/Outdoors/Team<br>Golf<br>St.<br>Louis<br>Cardinals<br>Putter<br>Grip<br>\",\"All/New Customers/New Customers/Outdoors/Team<br>Golf<br>St.<br>Louis<br>Cardinals<br>Putter<br>Grip<br>\",\"All/Big spenders/Occasional Customers- Big Spenders/Outdoors/Team<br>Golf<br>St.<br>Louis<br>Cardinals<br>Putter<br>Grip<br>\",\"All/Bargain/Occasional Customers-Bargain/Outdoors/Team<br>Golf<br>St.<br>Louis<br>Cardinals<br>Putter<br>Grip<br>\",\"All/Unsatisfied/Unsatisfied Customers/Outdoors/Team<br>Golf<br>St.<br>Louis<br>Cardinals<br>Putter<br>Grip<br>\",\"All/Bargain/Bargain Customers/Outdoors/Team<br>Golf<br>Tennessee<br>Volunteers<br>Putter<br>Grip<br>\",\"All/Big spenders/Big Spenders/Outdoors/Team<br>Golf<br>Tennessee<br>Volunteers<br>Putter<br>Grip<br>\",\"All/Bargain/Lost Customers - Bargain/Outdoors/Team<br>Golf<br>Tennessee<br>Volunteers<br>Putter<br>Grip<br>\",\"All/Big spenders/Lost Customers - Big Spenders/Outdoors/Team<br>Golf<br>Tennessee<br>Volunteers<br>Putter<br>Grip<br>\",\"All/Loyal/Lost/Almost Lost Customers - Loyal/Outdoors/Team<br>Golf<br>Tennessee<br>Volunteers<br>Putter<br>Grip<br>\",\"All/Loyal/Loyal Customers/Outdoors/Team<br>Golf<br>Tennessee<br>Volunteers<br>Putter<br>Grip<br>\",\"All/New Customers/New Customers/Outdoors/Team<br>Golf<br>Tennessee<br>Volunteers<br>Putter<br>Grip<br>\",\"All/Big spenders/Occasional Customers- Big Spenders/Outdoors/Team<br>Golf<br>Tennessee<br>Volunteers<br>Putter<br>Grip<br>\",\"All/Bargain/Occasional Customers-Bargain/Outdoors/Team<br>Golf<br>Tennessee<br>Volunteers<br>Putter<br>Grip<br>\",\"All/Unsatisfied/Unsatisfied Customers/Outdoors/Team<br>Golf<br>Tennessee<br>Volunteers<br>Putter<br>Grip<br>\",\"All/Bargain/Bargain Customers/Outdoors/Team<br>Golf<br>Texas<br>Longhorns<br>Putter<br>Grip<br>\",\"All/Big spenders/Big Spenders/Outdoors/Team<br>Golf<br>Texas<br>Longhorns<br>Putter<br>Grip<br>\",\"All/Bargain/Lost Customers - Bargain/Outdoors/Team<br>Golf<br>Texas<br>Longhorns<br>Putter<br>Grip<br>\",\"All/Big spenders/Lost Customers - Big Spenders/Outdoors/Team<br>Golf<br>Texas<br>Longhorns<br>Putter<br>Grip<br>\",\"All/Loyal/Lost/Almost Lost Customers - Loyal/Outdoors/Team<br>Golf<br>Texas<br>Longhorns<br>Putter<br>Grip<br>\",\"All/Loyal/Loyal Customers/Outdoors/Team<br>Golf<br>Texas<br>Longhorns<br>Putter<br>Grip<br>\",\"All/New Customers/New Customers/Outdoors/Team<br>Golf<br>Texas<br>Longhorns<br>Putter<br>Grip<br>\",\"All/Big spenders/Occasional Customers- Big Spenders/Outdoors/Team<br>Golf<br>Texas<br>Longhorns<br>Putter<br>Grip<br>\",\"All/Bargain/Occasional Customers-Bargain/Outdoors/Team<br>Golf<br>Texas<br>Longhorns<br>Putter<br>Grip<br>\",\"All/Unsatisfied/Unsatisfied Customers/Outdoors/Team<br>Golf<br>Texas<br>Longhorns<br>Putter<br>Grip<br>\",\"All/Bargain/Bargain Customers/Fan Shop/The<br>North<br>Face<br>Women's<br>Recon<br>Backpack<br>\",\"All/Big spenders/Big Spenders/Fan Shop/The<br>North<br>Face<br>Women's<br>Recon<br>Backpack<br>\",\"All/Loyal/Loyal Customers/Fan Shop/The<br>North<br>Face<br>Women's<br>Recon<br>Backpack<br>\",\"All/New Customers/New Customers/Fan Shop/The<br>North<br>Face<br>Women's<br>Recon<br>Backpack<br>\",\"All/Big spenders/Occasional Customers- Big Spenders/Fan Shop/The<br>North<br>Face<br>Women's<br>Recon<br>Backpack<br>\",\"All/Bargain/Occasional Customers-Bargain/Fan Shop/The<br>North<br>Face<br>Women's<br>Recon<br>Backpack<br>\",\"All/Unsatisfied/Unsatisfied Customers/Fan Shop/The<br>North<br>Face<br>Women's<br>Recon<br>Backpack<br>\",\"All/Bargain/Bargain Customers/Outdoors/Titleist<br>Club<br>Glove<br>Travel<br>Cover<br>\",\"All/Big spenders/Big Spenders/Outdoors/Titleist<br>Club<br>Glove<br>Travel<br>Cover<br>\",\"All/Loyal/Loyal Customers/Outdoors/Titleist<br>Club<br>Glove<br>Travel<br>Cover<br>\",\"All/New Customers/New Customers/Outdoors/Titleist<br>Club<br>Glove<br>Travel<br>Cover<br>\",\"All/Bargain/Bargain Customers/Outdoors/Titleist<br>Pro<br>V1<br>High<br>Numbers<br>Personalized<br>Gol<br>\",\"All/Big spenders/Big Spenders/Outdoors/Titleist<br>Pro<br>V1<br>High<br>Numbers<br>Personalized<br>Gol<br>\",\"All/Bargain/Lost Customers - Bargain/Outdoors/Titleist<br>Pro<br>V1<br>High<br>Numbers<br>Personalized<br>Gol<br>\",\"All/Big spenders/Lost Customers - Big Spenders/Outdoors/Titleist<br>Pro<br>V1<br>High<br>Numbers<br>Personalized<br>Gol<br>\",\"All/Loyal/Lost/Almost Lost Customers - Loyal/Outdoors/Titleist<br>Pro<br>V1<br>High<br>Numbers<br>Personalized<br>Gol<br>\",\"All/Loyal/Loyal Customers/Outdoors/Titleist<br>Pro<br>V1<br>High<br>Numbers<br>Personalized<br>Gol<br>\",\"All/New Customers/New Customers/Outdoors/Titleist<br>Pro<br>V1<br>High<br>Numbers<br>Personalized<br>Gol<br>\",\"All/Big spenders/Occasional Customers- Big Spenders/Outdoors/Titleist<br>Pro<br>V1<br>High<br>Numbers<br>Personalized<br>Gol<br>\",\"All/Bargain/Occasional Customers-Bargain/Outdoors/Titleist<br>Pro<br>V1<br>High<br>Numbers<br>Personalized<br>Gol<br>\",\"All/Unsatisfied/Unsatisfied Customers/Outdoors/Titleist<br>Pro<br>V1<br>High<br>Numbers<br>Personalized<br>Gol<br>\",\"All/Bargain/Bargain Customers/Outdoors/Titleist<br>Pro<br>V1x<br>Golf<br>Balls<br>\",\"All/Big spenders/Big Spenders/Outdoors/Titleist<br>Pro<br>V1x<br>Golf<br>Balls<br>\",\"All/Bargain/Lost Customers - Bargain/Outdoors/Titleist<br>Pro<br>V1x<br>Golf<br>Balls<br>\",\"All/Big spenders/Lost Customers - Big Spenders/Outdoors/Titleist<br>Pro<br>V1x<br>Golf<br>Balls<br>\",\"All/Loyal/Lost/Almost Lost Customers - Loyal/Outdoors/Titleist<br>Pro<br>V1x<br>Golf<br>Balls<br>\",\"All/Loyal/Loyal Customers/Outdoors/Titleist<br>Pro<br>V1x<br>Golf<br>Balls<br>\",\"All/New Customers/New Customers/Outdoors/Titleist<br>Pro<br>V1x<br>Golf<br>Balls<br>\",\"All/Big spenders/Occasional Customers- Big Spenders/Outdoors/Titleist<br>Pro<br>V1x<br>Golf<br>Balls<br>\",\"All/Bargain/Occasional Customers-Bargain/Outdoors/Titleist<br>Pro<br>V1x<br>Golf<br>Balls<br>\",\"All/Unsatisfied/Unsatisfied Customers/Outdoors/Titleist<br>Pro<br>V1x<br>Golf<br>Balls<br>\",\"All/Bargain/Bargain Customers/Outdoors/Titleist<br>Pro<br>V1x<br>High<br>Numbers<br>Golf<br>Balls<br>\",\"All/Big spenders/Big Spenders/Outdoors/Titleist<br>Pro<br>V1x<br>High<br>Numbers<br>Golf<br>Balls<br>\",\"All/Bargain/Lost Customers - Bargain/Outdoors/Titleist<br>Pro<br>V1x<br>High<br>Numbers<br>Golf<br>Balls<br>\",\"All/Big spenders/Lost Customers - Big Spenders/Outdoors/Titleist<br>Pro<br>V1x<br>High<br>Numbers<br>Golf<br>Balls<br>\",\"All/Loyal/Lost/Almost Lost Customers - Loyal/Outdoors/Titleist<br>Pro<br>V1x<br>High<br>Numbers<br>Golf<br>Balls<br>\",\"All/Loyal/Loyal Customers/Outdoors/Titleist<br>Pro<br>V1x<br>High<br>Numbers<br>Golf<br>Balls<br>\",\"All/New Customers/New Customers/Outdoors/Titleist<br>Pro<br>V1x<br>High<br>Numbers<br>Golf<br>Balls<br>\",\"All/Big spenders/Occasional Customers- Big Spenders/Outdoors/Titleist<br>Pro<br>V1x<br>High<br>Numbers<br>Golf<br>Balls<br>\",\"All/Bargain/Occasional Customers-Bargain/Outdoors/Titleist<br>Pro<br>V1x<br>High<br>Numbers<br>Golf<br>Balls<br>\",\"All/Unsatisfied/Unsatisfied Customers/Outdoors/Titleist<br>Pro<br>V1x<br>High<br>Numbers<br>Golf<br>Balls<br>\",\"All/Bargain/Bargain Customers/Outdoors/Titleist<br>Pro<br>V1x<br>High<br>Numbers<br>Personalized<br>Go<br>\",\"All/Big spenders/Big Spenders/Outdoors/Titleist<br>Pro<br>V1x<br>High<br>Numbers<br>Personalized<br>Go<br>\",\"All/Bargain/Lost Customers - Bargain/Outdoors/Titleist<br>Pro<br>V1x<br>High<br>Numbers<br>Personalized<br>Go<br>\",\"All/Big spenders/Lost Customers - Big Spenders/Outdoors/Titleist<br>Pro<br>V1x<br>High<br>Numbers<br>Personalized<br>Go<br>\",\"All/Loyal/Lost/Almost Lost Customers - Loyal/Outdoors/Titleist<br>Pro<br>V1x<br>High<br>Numbers<br>Personalized<br>Go<br>\",\"All/Loyal/Loyal Customers/Outdoors/Titleist<br>Pro<br>V1x<br>High<br>Numbers<br>Personalized<br>Go<br>\",\"All/New Customers/New Customers/Outdoors/Titleist<br>Pro<br>V1x<br>High<br>Numbers<br>Personalized<br>Go<br>\",\"All/Big spenders/Occasional Customers- Big Spenders/Outdoors/Titleist<br>Pro<br>V1x<br>High<br>Numbers<br>Personalized<br>Go<br>\",\"All/Bargain/Occasional Customers-Bargain/Outdoors/Titleist<br>Pro<br>V1x<br>High<br>Numbers<br>Personalized<br>Go<br>\",\"All/Unsatisfied/Unsatisfied Customers/Outdoors/Titleist<br>Pro<br>V1x<br>High<br>Numbers<br>Personalized<br>Go<br>\",\"All/Bargain/Bargain Customers/Outdoors/Titleist<br>Small<br>Wheeled<br>Travel<br>Cover<br>\",\"All/Big spenders/Big Spenders/Outdoors/Titleist<br>Small<br>Wheeled<br>Travel<br>Cover<br>\",\"All/Loyal/Loyal Customers/Outdoors/Titleist<br>Small<br>Wheeled<br>Travel<br>Cover<br>\",\"All/New Customers/New Customers/Outdoors/Titleist<br>Small<br>Wheeled<br>Travel<br>Cover<br>\",\"All/Big spenders/Occasional Customers- Big Spenders/Outdoors/Titleist<br>Small<br>Wheeled<br>Travel<br>Cover<br>\",\"All/Bargain/Occasional Customers-Bargain/Outdoors/Titleist<br>Small<br>Wheeled<br>Travel<br>Cover<br>\",\"All/Unsatisfied/Unsatisfied Customers/Outdoors/Titleist<br>Small<br>Wheeled<br>Travel<br>Cover<br>\",\"All/Bargain/Bargain Customers/Outdoors/Top<br>Flite<br>Women's<br>2014<br>XL<br>Hybrid<br>\",\"All/Big spenders/Big Spenders/Outdoors/Top<br>Flite<br>Women's<br>2014<br>XL<br>Hybrid<br>\",\"All/Bargain/Lost Customers - Bargain/Outdoors/Top<br>Flite<br>Women's<br>2014<br>XL<br>Hybrid<br>\",\"All/Big spenders/Lost Customers - Big Spenders/Outdoors/Top<br>Flite<br>Women's<br>2014<br>XL<br>Hybrid<br>\",\"All/Loyal/Lost/Almost Lost Customers - Loyal/Outdoors/Top<br>Flite<br>Women's<br>2014<br>XL<br>Hybrid<br>\",\"All/Loyal/Loyal Customers/Outdoors/Top<br>Flite<br>Women's<br>2014<br>XL<br>Hybrid<br>\",\"All/New Customers/New Customers/Outdoors/Top<br>Flite<br>Women's<br>2014<br>XL<br>Hybrid<br>\",\"All/Big spenders/Occasional Customers- Big Spenders/Outdoors/Top<br>Flite<br>Women's<br>2014<br>XL<br>Hybrid<br>\",\"All/Bargain/Occasional Customers-Bargain/Outdoors/Top<br>Flite<br>Women's<br>2014<br>XL<br>Hybrid<br>\",\"All/Unsatisfied/Unsatisfied Customers/Outdoors/Top<br>Flite<br>Women's<br>2014<br>XL<br>Hybrid<br>\",\"All/Bargain/Bargain Customers/Apparel/Total<br>Gym<br>1400<br>\",\"All/Big spenders/Big Spenders/Apparel/Total<br>Gym<br>1400<br>\",\"All/New Customers/New Customers/Apparel/Total<br>Gym<br>1400<br>\",\"All/Bargain/Bargain Customers/Golf/Under<br>Armour<br>Girls'<br>Toddler<br>Spine<br>Surge<br>Runni<br>\",\"All/Big spenders/Big Spenders/Golf/Under<br>Armour<br>Girls'<br>Toddler<br>Spine<br>Surge<br>Runni<br>\",\"All/Bargain/Lost Customers - Bargain/Golf/Under<br>Armour<br>Girls'<br>Toddler<br>Spine<br>Surge<br>Runni<br>\",\"All/Big spenders/Lost Customers - Big Spenders/Golf/Under<br>Armour<br>Girls'<br>Toddler<br>Spine<br>Surge<br>Runni<br>\",\"All/Loyal/Lost/Almost Lost Customers - Loyal/Golf/Under<br>Armour<br>Girls'<br>Toddler<br>Spine<br>Surge<br>Runni<br>\",\"All/Loyal/Loyal Customers/Golf/Under<br>Armour<br>Girls'<br>Toddler<br>Spine<br>Surge<br>Runni<br>\",\"All/New Customers/New Customers/Golf/Under<br>Armour<br>Girls'<br>Toddler<br>Spine<br>Surge<br>Runni<br>\",\"All/Big spenders/Occasional Customers- Big Spenders/Golf/Under<br>Armour<br>Girls'<br>Toddler<br>Spine<br>Surge<br>Runni<br>\",\"All/Bargain/Occasional Customers-Bargain/Golf/Under<br>Armour<br>Girls'<br>Toddler<br>Spine<br>Surge<br>Runni<br>\",\"All/Unsatisfied/Unsatisfied Customers/Golf/Under<br>Armour<br>Girls'<br>Toddler<br>Spine<br>Surge<br>Runni<br>\",\"All/Bargain/Bargain Customers/Footwear/Under<br>Armour<br>Hustle<br>Storm<br>Medium<br>Duffle<br>Bag<br>\",\"All/Big spenders/Big Spenders/Footwear/Under<br>Armour<br>Hustle<br>Storm<br>Medium<br>Duffle<br>Bag<br>\",\"All/Bargain/Lost Customers - Bargain/Footwear/Under<br>Armour<br>Hustle<br>Storm<br>Medium<br>Duffle<br>Bag<br>\",\"All/Big spenders/Lost Customers - Big Spenders/Footwear/Under<br>Armour<br>Hustle<br>Storm<br>Medium<br>Duffle<br>Bag<br>\",\"All/Loyal/Lost/Almost Lost Customers - Loyal/Footwear/Under<br>Armour<br>Hustle<br>Storm<br>Medium<br>Duffle<br>Bag<br>\",\"All/Loyal/Loyal Customers/Footwear/Under<br>Armour<br>Hustle<br>Storm<br>Medium<br>Duffle<br>Bag<br>\",\"All/New Customers/New Customers/Footwear/Under<br>Armour<br>Hustle<br>Storm<br>Medium<br>Duffle<br>Bag<br>\",\"All/Big spenders/Occasional Customers- Big Spenders/Footwear/Under<br>Armour<br>Hustle<br>Storm<br>Medium<br>Duffle<br>Bag<br>\",\"All/Bargain/Occasional Customers-Bargain/Footwear/Under<br>Armour<br>Hustle<br>Storm<br>Medium<br>Duffle<br>Bag<br>\",\"All/Unsatisfied/Unsatisfied Customers/Footwear/Under<br>Armour<br>Hustle<br>Storm<br>Medium<br>Duffle<br>Bag<br>\",\"All/Bargain/Bargain Customers/Footwear/Under<br>Armour<br>Kids'<br>Mercenary<br>Slide<br>\",\"All/Big spenders/Big Spenders/Footwear/Under<br>Armour<br>Kids'<br>Mercenary<br>Slide<br>\",\"All/Bargain/Lost Customers - Bargain/Footwear/Under<br>Armour<br>Kids'<br>Mercenary<br>Slide<br>\",\"All/Big spenders/Lost Customers - Big Spenders/Footwear/Under<br>Armour<br>Kids'<br>Mercenary<br>Slide<br>\",\"All/Loyal/Lost/Almost Lost Customers - Loyal/Footwear/Under<br>Armour<br>Kids'<br>Mercenary<br>Slide<br>\",\"All/Loyal/Loyal Customers/Footwear/Under<br>Armour<br>Kids'<br>Mercenary<br>Slide<br>\",\"All/New Customers/New Customers/Footwear/Under<br>Armour<br>Kids'<br>Mercenary<br>Slide<br>\",\"All/Big spenders/Occasional Customers- Big Spenders/Footwear/Under<br>Armour<br>Kids'<br>Mercenary<br>Slide<br>\",\"All/Bargain/Occasional Customers-Bargain/Footwear/Under<br>Armour<br>Kids'<br>Mercenary<br>Slide<br>\",\"All/Unsatisfied/Unsatisfied Customers/Footwear/Under<br>Armour<br>Kids'<br>Mercenary<br>Slide<br>\",\"All/Bargain/Bargain Customers/Footwear/Under<br>Armour<br>Men's<br>Compression<br>EV<br>SL<br>Slide<br>\",\"All/Big spenders/Big Spenders/Footwear/Under<br>Armour<br>Men's<br>Compression<br>EV<br>SL<br>Slide<br>\",\"All/Bargain/Lost Customers - Bargain/Footwear/Under<br>Armour<br>Men's<br>Compression<br>EV<br>SL<br>Slide<br>\",\"All/Big spenders/Lost Customers - Big Spenders/Footwear/Under<br>Armour<br>Men's<br>Compression<br>EV<br>SL<br>Slide<br>\",\"All/Loyal/Lost/Almost Lost Customers - Loyal/Footwear/Under<br>Armour<br>Men's<br>Compression<br>EV<br>SL<br>Slide<br>\",\"All/Loyal/Loyal Customers/Footwear/Under<br>Armour<br>Men's<br>Compression<br>EV<br>SL<br>Slide<br>\",\"All/New Customers/New Customers/Footwear/Under<br>Armour<br>Men's<br>Compression<br>EV<br>SL<br>Slide<br>\",\"All/Big spenders/Occasional Customers- Big Spenders/Footwear/Under<br>Armour<br>Men's<br>Compression<br>EV<br>SL<br>Slide<br>\",\"All/Bargain/Occasional Customers-Bargain/Footwear/Under<br>Armour<br>Men's<br>Compression<br>EV<br>SL<br>Slide<br>\",\"All/Unsatisfied/Unsatisfied Customers/Footwear/Under<br>Armour<br>Men's<br>Compression<br>EV<br>SL<br>Slide<br>\",\"All/Bargain/Bargain Customers/Fitness/Under<br>Armour<br>Men's<br>Tech<br>II<br>T-Shirt<br>\",\"All/Big spenders/Big Spenders/Fitness/Under<br>Armour<br>Men's<br>Tech<br>II<br>T-Shirt<br>\",\"All/Bargain/Lost Customers - Bargain/Fitness/Under<br>Armour<br>Men's<br>Tech<br>II<br>T-Shirt<br>\",\"All/Big spenders/Lost Customers - Big Spenders/Fitness/Under<br>Armour<br>Men's<br>Tech<br>II<br>T-Shirt<br>\",\"All/Loyal/Lost/Almost Lost Customers - Loyal/Fitness/Under<br>Armour<br>Men's<br>Tech<br>II<br>T-Shirt<br>\",\"All/Loyal/Loyal Customers/Fitness/Under<br>Armour<br>Men's<br>Tech<br>II<br>T-Shirt<br>\",\"All/New Customers/New Customers/Fitness/Under<br>Armour<br>Men's<br>Tech<br>II<br>T-Shirt<br>\",\"All/Big spenders/Occasional Customers- Big Spenders/Fitness/Under<br>Armour<br>Men's<br>Tech<br>II<br>T-Shirt<br>\",\"All/Bargain/Occasional Customers-Bargain/Fitness/Under<br>Armour<br>Men's<br>Tech<br>II<br>T-Shirt<br>\",\"All/Unsatisfied/Unsatisfied Customers/Fitness/Under<br>Armour<br>Men's<br>Tech<br>II<br>T-Shirt<br>\",\"All/Bargain/Bargain Customers/Footwear/Under<br>Armour<br>Women's<br>Ignite<br>PIP<br>VI<br>Slide<br>\",\"All/Big spenders/Big Spenders/Footwear/Under<br>Armour<br>Women's<br>Ignite<br>PIP<br>VI<br>Slide<br>\",\"All/Bargain/Lost Customers - Bargain/Footwear/Under<br>Armour<br>Women's<br>Ignite<br>PIP<br>VI<br>Slide<br>\",\"All/Big spenders/Lost Customers - Big Spenders/Footwear/Under<br>Armour<br>Women's<br>Ignite<br>PIP<br>VI<br>Slide<br>\",\"All/Loyal/Lost/Almost Lost Customers - Loyal/Footwear/Under<br>Armour<br>Women's<br>Ignite<br>PIP<br>VI<br>Slide<br>\",\"All/Loyal/Loyal Customers/Footwear/Under<br>Armour<br>Women's<br>Ignite<br>PIP<br>VI<br>Slide<br>\",\"All/New Customers/New Customers/Footwear/Under<br>Armour<br>Women's<br>Ignite<br>PIP<br>VI<br>Slide<br>\",\"All/Big spenders/Occasional Customers- Big Spenders/Footwear/Under<br>Armour<br>Women's<br>Ignite<br>PIP<br>VI<br>Slide<br>\",\"All/Bargain/Occasional Customers-Bargain/Footwear/Under<br>Armour<br>Women's<br>Ignite<br>PIP<br>VI<br>Slide<br>\",\"All/Unsatisfied/Unsatisfied Customers/Footwear/Under<br>Armour<br>Women's<br>Ignite<br>PIP<br>VI<br>Slide<br>\",\"All/Bargain/Bargain Customers/Footwear/Under<br>Armour<br>Women's<br>Ignite<br>Slide<br>\",\"All/Big spenders/Big Spenders/Footwear/Under<br>Armour<br>Women's<br>Ignite<br>Slide<br>\",\"All/Bargain/Lost Customers - Bargain/Footwear/Under<br>Armour<br>Women's<br>Ignite<br>Slide<br>\",\"All/Big spenders/Lost Customers - Big Spenders/Footwear/Under<br>Armour<br>Women's<br>Ignite<br>Slide<br>\",\"All/Loyal/Lost/Almost Lost Customers - Loyal/Footwear/Under<br>Armour<br>Women's<br>Ignite<br>Slide<br>\",\"All/Loyal/Loyal Customers/Footwear/Under<br>Armour<br>Women's<br>Ignite<br>Slide<br>\",\"All/New Customers/New Customers/Footwear/Under<br>Armour<br>Women's<br>Ignite<br>Slide<br>\",\"All/Big spenders/Occasional Customers- Big Spenders/Footwear/Under<br>Armour<br>Women's<br>Ignite<br>Slide<br>\",\"All/Bargain/Occasional Customers-Bargain/Footwear/Under<br>Armour<br>Women's<br>Ignite<br>Slide<br>\",\"All/Unsatisfied/Unsatisfied Customers/Footwear/Under<br>Armour<br>Women's<br>Ignite<br>Slide<br>\",\"All/Bargain/Bargain Customers/Footwear/Under<br>Armour<br>Women's<br>Micro<br>G<br>Skulpt<br>Running<br>S<br>\",\"All/Big spenders/Big Spenders/Footwear/Under<br>Armour<br>Women's<br>Micro<br>G<br>Skulpt<br>Running<br>S<br>\",\"All/Bargain/Lost Customers - Bargain/Footwear/Under<br>Armour<br>Women's<br>Micro<br>G<br>Skulpt<br>Running<br>S<br>\",\"All/Big spenders/Lost Customers - Big Spenders/Footwear/Under<br>Armour<br>Women's<br>Micro<br>G<br>Skulpt<br>Running<br>S<br>\",\"All/Loyal/Lost/Almost Lost Customers - Loyal/Footwear/Under<br>Armour<br>Women's<br>Micro<br>G<br>Skulpt<br>Running<br>S<br>\",\"All/Loyal/Loyal Customers/Footwear/Under<br>Armour<br>Women's<br>Micro<br>G<br>Skulpt<br>Running<br>S<br>\",\"All/New Customers/New Customers/Footwear/Under<br>Armour<br>Women's<br>Micro<br>G<br>Skulpt<br>Running<br>S<br>\",\"All/Big spenders/Occasional Customers- Big Spenders/Footwear/Under<br>Armour<br>Women's<br>Micro<br>G<br>Skulpt<br>Running<br>S<br>\",\"All/Bargain/Occasional Customers-Bargain/Footwear/Under<br>Armour<br>Women's<br>Micro<br>G<br>Skulpt<br>Running<br>S<br>\",\"All/Unsatisfied/Unsatisfied Customers/Footwear/Under<br>Armour<br>Women's<br>Micro<br>G<br>Skulpt<br>Running<br>S<br>\",\"All/Bargain/Bargain Customers/Footwear/Yakima<br>DoubleDown<br>Ace<br>Hitch<br>Mount<br>4-Bike<br>Rack<br>\",\"All/Big spenders/Big Spenders/Footwear/Yakima<br>DoubleDown<br>Ace<br>Hitch<br>Mount<br>4-Bike<br>Rack<br>\",\"All/Loyal/Lost/Almost Lost Customers - Loyal/Footwear/Yakima<br>DoubleDown<br>Ace<br>Hitch<br>Mount<br>4-Bike<br>Rack<br>\",\"All/Loyal/Loyal Customers/Footwear/Yakima<br>DoubleDown<br>Ace<br>Hitch<br>Mount<br>4-Bike<br>Rack<br>\",\"All/New Customers/New Customers/Footwear/Yakima<br>DoubleDown<br>Ace<br>Hitch<br>Mount<br>4-Bike<br>Rack<br>\",\"All/Big spenders/Occasional Customers- Big Spenders/Footwear/Yakima<br>DoubleDown<br>Ace<br>Hitch<br>Mount<br>4-Bike<br>Rack<br>\",\"All/Bargain/Occasional Customers-Bargain/Footwear/Yakima<br>DoubleDown<br>Ace<br>Hitch<br>Mount<br>4-Bike<br>Rack<br>\",\"All/Unsatisfied/Unsatisfied Customers/Footwear/Yakima<br>DoubleDown<br>Ace<br>Hitch<br>Mount<br>4-Bike<br>Rack<br>\",\"All/Bargain/Bargain Customers/Fitness/adidas<br>Brazuca<br>2014<br>Official<br>Match<br>Ball<br>\",\"All/Big spenders/Big Spenders/Fitness/adidas<br>Brazuca<br>2014<br>Official<br>Match<br>Ball<br>\",\"All/Loyal/Lost/Almost Lost Customers - Loyal/Fitness/adidas<br>Brazuca<br>2014<br>Official<br>Match<br>Ball<br>\",\"All/Loyal/Loyal Customers/Fitness/adidas<br>Brazuca<br>2014<br>Official<br>Match<br>Ball<br>\",\"All/New Customers/New Customers/Fitness/adidas<br>Brazuca<br>2014<br>Official<br>Match<br>Ball<br>\",\"All/Big spenders/Occasional Customers- Big Spenders/Fitness/adidas<br>Brazuca<br>2014<br>Official<br>Match<br>Ball<br>\",\"All/Bargain/Occasional Customers-Bargain/Fitness/adidas<br>Brazuca<br>2014<br>Official<br>Match<br>Ball<br>\",\"All/Unsatisfied/Unsatisfied Customers/Fitness/adidas<br>Brazuca<br>2014<br>Official<br>Match<br>Ball<br>\",\"All/Bargain/Bargain Customers/Fitness/adidas<br>Kids'<br>F5<br>Messi<br>FG<br>Soccer<br>Cleat<br>\",\"All/Big spenders/Big Spenders/Fitness/adidas<br>Kids'<br>F5<br>Messi<br>FG<br>Soccer<br>Cleat<br>\",\"All/Bargain/Lost Customers - Bargain/Fitness/adidas<br>Kids'<br>F5<br>Messi<br>FG<br>Soccer<br>Cleat<br>\",\"All/Big spenders/Lost Customers - Big Spenders/Fitness/adidas<br>Kids'<br>F5<br>Messi<br>FG<br>Soccer<br>Cleat<br>\",\"All/Loyal/Lost/Almost Lost Customers - Loyal/Fitness/adidas<br>Kids'<br>F5<br>Messi<br>FG<br>Soccer<br>Cleat<br>\",\"All/Loyal/Loyal Customers/Fitness/adidas<br>Kids'<br>F5<br>Messi<br>FG<br>Soccer<br>Cleat<br>\",\"All/New Customers/New Customers/Fitness/adidas<br>Kids'<br>F5<br>Messi<br>FG<br>Soccer<br>Cleat<br>\",\"All/Big spenders/Occasional Customers- Big Spenders/Fitness/adidas<br>Kids'<br>F5<br>Messi<br>FG<br>Soccer<br>Cleat<br>\",\"All/Bargain/Occasional Customers-Bargain/Fitness/adidas<br>Kids'<br>F5<br>Messi<br>FG<br>Soccer<br>Cleat<br>\",\"All/Unsatisfied/Unsatisfied Customers/Fitness/adidas<br>Kids'<br>F5<br>Messi<br>FG<br>Soccer<br>Cleat<br>\",\"All/Bargain/Bargain Customers/Fitness/adidas<br>Men's<br>F10<br>Messi<br>TRX<br>FG<br>Soccer<br>Cleat<br>\",\"All/Big spenders/Big Spenders/Fitness/adidas<br>Men's<br>F10<br>Messi<br>TRX<br>FG<br>Soccer<br>Cleat<br>\",\"All/Bargain/Lost Customers - Bargain/Fitness/adidas<br>Men's<br>F10<br>Messi<br>TRX<br>FG<br>Soccer<br>Cleat<br>\",\"All/Big spenders/Lost Customers - Big Spenders/Fitness/adidas<br>Men's<br>F10<br>Messi<br>TRX<br>FG<br>Soccer<br>Cleat<br>\",\"All/Loyal/Lost/Almost Lost Customers - Loyal/Fitness/adidas<br>Men's<br>F10<br>Messi<br>TRX<br>FG<br>Soccer<br>Cleat<br>\",\"All/Loyal/Loyal Customers/Fitness/adidas<br>Men's<br>F10<br>Messi<br>TRX<br>FG<br>Soccer<br>Cleat<br>\",\"All/New Customers/New Customers/Fitness/adidas<br>Men's<br>F10<br>Messi<br>TRX<br>FG<br>Soccer<br>Cleat<br>\",\"All/Big spenders/Occasional Customers- Big Spenders/Fitness/adidas<br>Men's<br>F10<br>Messi<br>TRX<br>FG<br>Soccer<br>Cleat<br>\",\"All/Bargain/Occasional Customers-Bargain/Fitness/adidas<br>Men's<br>F10<br>Messi<br>TRX<br>FG<br>Soccer<br>Cleat<br>\",\"All/Unsatisfied/Unsatisfied Customers/Fitness/adidas<br>Men's<br>F10<br>Messi<br>TRX<br>FG<br>Soccer<br>Cleat<br>\",\"All/Bargain/Bargain Customers/Golf/adidas<br>Men's<br>Germany<br>Black<br>Crest<br>Away<br>Tee<br>\",\"All/Big spenders/Big Spenders/Golf/adidas<br>Men's<br>Germany<br>Black<br>Crest<br>Away<br>Tee<br>\",\"All/Bargain/Lost Customers - Bargain/Golf/adidas<br>Men's<br>Germany<br>Black<br>Crest<br>Away<br>Tee<br>\",\"All/Big spenders/Lost Customers - Big Spenders/Golf/adidas<br>Men's<br>Germany<br>Black<br>Crest<br>Away<br>Tee<br>\",\"All/Loyal/Lost/Almost Lost Customers - Loyal/Golf/adidas<br>Men's<br>Germany<br>Black<br>Crest<br>Away<br>Tee<br>\",\"All/Loyal/Loyal Customers/Golf/adidas<br>Men's<br>Germany<br>Black<br>Crest<br>Away<br>Tee<br>\",\"All/New Customers/New Customers/Golf/adidas<br>Men's<br>Germany<br>Black<br>Crest<br>Away<br>Tee<br>\",\"All/Big spenders/Occasional Customers- Big Spenders/Golf/adidas<br>Men's<br>Germany<br>Black<br>Crest<br>Away<br>Tee<br>\",\"All/Bargain/Occasional Customers-Bargain/Golf/adidas<br>Men's<br>Germany<br>Black<br>Crest<br>Away<br>Tee<br>\",\"All/Unsatisfied/Unsatisfied Customers/Golf/adidas<br>Men's<br>Germany<br>Black<br>Crest<br>Away<br>Tee<br>\",\"All/Bargain/Bargain Customers/Golf/adidas<br>Youth<br>Germany<br>Black/Red<br>Away<br>Match<br>Soc<br>\",\"All/Big spenders/Big Spenders/Golf/adidas<br>Youth<br>Germany<br>Black/Red<br>Away<br>Match<br>Soc<br>\",\"All/Bargain/Lost Customers - Bargain/Golf/adidas<br>Youth<br>Germany<br>Black/Red<br>Away<br>Match<br>Soc<br>\",\"All/Big spenders/Lost Customers - Big Spenders/Golf/adidas<br>Youth<br>Germany<br>Black/Red<br>Away<br>Match<br>Soc<br>\",\"All/Loyal/Lost/Almost Lost Customers - Loyal/Golf/adidas<br>Youth<br>Germany<br>Black/Red<br>Away<br>Match<br>Soc<br>\",\"All/Loyal/Loyal Customers/Golf/adidas<br>Youth<br>Germany<br>Black/Red<br>Away<br>Match<br>Soc<br>\",\"All/New Customers/New Customers/Golf/adidas<br>Youth<br>Germany<br>Black/Red<br>Away<br>Match<br>Soc<br>\",\"All/Big spenders/Occasional Customers- Big Spenders/Golf/adidas<br>Youth<br>Germany<br>Black/Red<br>Away<br>Match<br>Soc<br>\",\"All/Bargain/Occasional Customers-Bargain/Golf/adidas<br>Youth<br>Germany<br>Black/Red<br>Away<br>Match<br>Soc<br>\",\"All/Unsatisfied/Unsatisfied Customers/Golf/adidas<br>Youth<br>Germany<br>Black/Red<br>Away<br>Match<br>Soc<br>\",\"All/Bargain/Bargain Customers/Fan Shop/insta-bed<br>Neverflat<br>Air<br>Mattress<br>\",\"All/Big spenders/Big Spenders/Fan Shop/insta-bed<br>Neverflat<br>Air<br>Mattress<br>\",\"All/Loyal/Loyal Customers/Fan Shop/insta-bed<br>Neverflat<br>Air<br>Mattress<br>\",\"All/New Customers/New Customers/Fan Shop/insta-bed<br>Neverflat<br>Air<br>Mattress<br>\",\"All/Big spenders/Occasional Customers- Big Spenders/Fan Shop/insta-bed<br>Neverflat<br>Air<br>Mattress<br>\",\"All/Bargain/Occasional Customers-Bargain/Fan Shop/insta-bed<br>Neverflat<br>Air<br>Mattress<br>\",\"All/Unsatisfied/Unsatisfied Customers/Fan Shop/insta-bed<br>Neverflat<br>Air<br>Mattress<br>\",\"All/Bargain/Bargain Customers/Apparel\",\"All/Big spenders/Big Spenders/Apparel\",\"All/Bargain/Lost Customers - Bargain/Apparel\",\"All/Big spenders/Lost Customers - Big Spenders/Apparel\",\"All/Loyal/Lost/Almost Lost Customers - Loyal/Apparel\",\"All/Loyal/Loyal Customers/Apparel\",\"All/New Customers/New Customers/Apparel\",\"All/Big spenders/Occasional Customers- Big Spenders/Apparel\",\"All/Bargain/Occasional Customers-Bargain/Apparel\",\"All/Unsatisfied/Unsatisfied Customers/Apparel\",\"All/Bargain/Bargain Customers/Fan Shop\",\"All/Big spenders/Big Spenders/Fan Shop\",\"All/Bargain/Lost Customers - Bargain/Fan Shop\",\"All/Big spenders/Lost Customers - Big Spenders/Fan Shop\",\"All/Loyal/Lost/Almost Lost Customers - Loyal/Fan Shop\",\"All/Loyal/Loyal Customers/Fan Shop\",\"All/New Customers/New Customers/Fan Shop\",\"All/Big spenders/Occasional Customers- Big Spenders/Fan Shop\",\"All/Bargain/Occasional Customers-Bargain/Fan Shop\",\"All/Unsatisfied/Unsatisfied Customers/Fan Shop\",\"All/Bargain/Bargain Customers/Fitness\",\"All/Big spenders/Big Spenders/Fitness\",\"All/Bargain/Lost Customers - Bargain/Fitness\",\"All/Big spenders/Lost Customers - Big Spenders/Fitness\",\"All/Loyal/Lost/Almost Lost Customers - Loyal/Fitness\",\"All/Loyal/Loyal Customers/Fitness\",\"All/New Customers/New Customers/Fitness\",\"All/Big spenders/Occasional Customers- Big Spenders/Fitness\",\"All/Bargain/Occasional Customers-Bargain/Fitness\",\"All/Unsatisfied/Unsatisfied Customers/Fitness\",\"All/Bargain/Bargain Customers/Footwear\",\"All/Big spenders/Big Spenders/Footwear\",\"All/Bargain/Lost Customers - Bargain/Footwear\",\"All/Big spenders/Lost Customers - Big Spenders/Footwear\",\"All/Loyal/Lost/Almost Lost Customers - Loyal/Footwear\",\"All/Loyal/Loyal Customers/Footwear\",\"All/New Customers/New Customers/Footwear\",\"All/Big spenders/Occasional Customers- Big Spenders/Footwear\",\"All/Bargain/Occasional Customers-Bargain/Footwear\",\"All/Unsatisfied/Unsatisfied Customers/Footwear\",\"All/Bargain/Bargain Customers/Golf\",\"All/Big spenders/Big Spenders/Golf\",\"All/Bargain/Lost Customers - Bargain/Golf\",\"All/Big spenders/Lost Customers - Big Spenders/Golf\",\"All/Loyal/Lost/Almost Lost Customers - Loyal/Golf\",\"All/Loyal/Loyal Customers/Golf\",\"All/New Customers/New Customers/Golf\",\"All/Big spenders/Occasional Customers- Big Spenders/Golf\",\"All/Bargain/Occasional Customers-Bargain/Golf\",\"All/Unsatisfied/Unsatisfied Customers/Golf\",\"All/Bargain/Bargain Customers/Outdoors\",\"All/Big spenders/Big Spenders/Outdoors\",\"All/Bargain/Lost Customers - Bargain/Outdoors\",\"All/Big spenders/Lost Customers - Big Spenders/Outdoors\",\"All/Loyal/Lost/Almost Lost Customers - Loyal/Outdoors\",\"All/Loyal/Loyal Customers/Outdoors\",\"All/New Customers/New Customers/Outdoors\",\"All/Big spenders/Occasional Customers- Big Spenders/Outdoors\",\"All/Bargain/Occasional Customers-Bargain/Outdoors\",\"All/Unsatisfied/Unsatisfied Customers/Outdoors\",\"All/Bargain/Bargain Customers\",\"All/Big spenders/Big Spenders\",\"All/Bargain/Lost Customers - Bargain\",\"All/Big spenders/Lost Customers - Big Spenders\",\"All/Loyal/Lost/Almost Lost Customers - Loyal\",\"All/Loyal/Loyal Customers\",\"All/New Customers/New Customers\",\"All/Big spenders/Occasional Customers- Big Spenders\",\"All/Bargain/Occasional Customers-Bargain\",\"All/Unsatisfied/Unsatisfied Customers\",\"All/Bargain\",\"All/Big spenders\",\"All/Loyal\",\"All/New Customers\",\"All/Unsatisfied\",\"All\"],\"labels\":[\"Bag<br>Boy<br>Beverage<br>Holder<br>\",\"Bag<br>Boy<br>Beverage<br>Holder<br>\",\"Bag<br>Boy<br>Beverage<br>Holder<br>\",\"Bag<br>Boy<br>Beverage<br>Holder<br>\",\"Bag<br>Boy<br>Beverage<br>Holder<br>\",\"Bag<br>Boy<br>Beverage<br>Holder<br>\",\"Bag<br>Boy<br>Beverage<br>Holder<br>\",\"Bag<br>Boy<br>Beverage<br>Holder<br>\",\"Bag<br>Boy<br>Beverage<br>Holder<br>\",\"Bag<br>Boy<br>Beverage<br>Holder<br>\",\"Bag<br>Boy<br>M330<br>Push<br>Cart<br>\",\"Bag<br>Boy<br>M330<br>Push<br>Cart<br>\",\"Bag<br>Boy<br>M330<br>Push<br>Cart<br>\",\"Bag<br>Boy<br>M330<br>Push<br>Cart<br>\",\"Bag<br>Boy<br>M330<br>Push<br>Cart<br>\",\"Bag<br>Boy<br>M330<br>Push<br>Cart<br>\",\"Bag<br>Boy<br>M330<br>Push<br>Cart<br>\",\"Bag<br>Boy<br>M330<br>Push<br>Cart<br>\",\"Bowflex<br>SelectTech<br>1090<br>Dumbbells<br>\",\"Bowflex<br>SelectTech<br>1090<br>Dumbbells<br>\",\"Bowflex<br>SelectTech<br>1090<br>Dumbbells<br>\",\"Bridgestone<br>e6<br>Straight<br>Distance<br>NFL<br>Carolina<br>\",\"Bridgestone<br>e6<br>Straight<br>Distance<br>NFL<br>Carolina<br>\",\"Bridgestone<br>e6<br>Straight<br>Distance<br>NFL<br>Carolina<br>\",\"Bridgestone<br>e6<br>Straight<br>Distance<br>NFL<br>Carolina<br>\",\"Bridgestone<br>e6<br>Straight<br>Distance<br>NFL<br>Carolina<br>\",\"Bridgestone<br>e6<br>Straight<br>Distance<br>NFL<br>Carolina<br>\",\"Bridgestone<br>e6<br>Straight<br>Distance<br>NFL<br>Carolina<br>\",\"Bridgestone<br>e6<br>Straight<br>Distance<br>NFL<br>Carolina<br>\",\"Bridgestone<br>e6<br>Straight<br>Distance<br>NFL<br>Carolina<br>\",\"Bridgestone<br>e6<br>Straight<br>Distance<br>NFL<br>Carolina<br>\",\"Bridgestone<br>e6<br>Straight<br>Distance<br>NFL<br>San<br>Dieg<br>\",\"Bridgestone<br>e6<br>Straight<br>Distance<br>NFL<br>San<br>Dieg<br>\",\"Bridgestone<br>e6<br>Straight<br>Distance<br>NFL<br>San<br>Dieg<br>\",\"Bridgestone<br>e6<br>Straight<br>Distance<br>NFL<br>San<br>Dieg<br>\",\"Bridgestone<br>e6<br>Straight<br>Distance<br>NFL<br>San<br>Dieg<br>\",\"Bridgestone<br>e6<br>Straight<br>Distance<br>NFL<br>San<br>Dieg<br>\",\"Bridgestone<br>e6<br>Straight<br>Distance<br>NFL<br>San<br>Dieg<br>\",\"Bridgestone<br>e6<br>Straight<br>Distance<br>NFL<br>San<br>Dieg<br>\",\"Bridgestone<br>e6<br>Straight<br>Distance<br>NFL<br>San<br>Dieg<br>\",\"Bridgestone<br>e6<br>Straight<br>Distance<br>NFL<br>San<br>Dieg<br>\",\"Bridgestone<br>e6<br>Straight<br>Distance<br>NFL<br>Tennesse<br>\",\"Bridgestone<br>e6<br>Straight<br>Distance<br>NFL<br>Tennesse<br>\",\"Bridgestone<br>e6<br>Straight<br>Distance<br>NFL<br>Tennesse<br>\",\"Bridgestone<br>e6<br>Straight<br>Distance<br>NFL<br>Tennesse<br>\",\"Bridgestone<br>e6<br>Straight<br>Distance<br>NFL<br>Tennesse<br>\",\"Bridgestone<br>e6<br>Straight<br>Distance<br>NFL<br>Tennesse<br>\",\"Bridgestone<br>e6<br>Straight<br>Distance<br>NFL<br>Tennesse<br>\",\"Bridgestone<br>e6<br>Straight<br>Distance<br>NFL<br>Tennesse<br>\",\"Bridgestone<br>e6<br>Straight<br>Distance<br>NFL<br>Tennesse<br>\",\"Bridgestone<br>e6<br>Straight<br>Distance<br>NFL<br>Tennesse<br>\",\"Brooks<br>Women's<br>Ghost<br>6<br>Running<br>Shoe<br>\",\"Brooks<br>Women's<br>Ghost<br>6<br>Running<br>Shoe<br>\",\"Brooks<br>Women's<br>Ghost<br>6<br>Running<br>Shoe<br>\",\"Brooks<br>Women's<br>Ghost<br>6<br>Running<br>Shoe<br>\",\"Brooks<br>Women's<br>Ghost<br>6<br>Running<br>Shoe<br>\",\"Brooks<br>Women's<br>Ghost<br>6<br>Running<br>Shoe<br>\",\"Brooks<br>Women's<br>Ghost<br>6<br>Running<br>Shoe<br>\",\"Brooks<br>Women's<br>Ghost<br>6<br>Running<br>Shoe<br>\",\"Bushnell<br>Pro<br>X7<br>Jolt<br>Slope<br>Rangefinder<br>\",\"Bushnell<br>Pro<br>X7<br>Jolt<br>Slope<br>Rangefinder<br>\",\"Bushnell<br>Pro<br>X7<br>Jolt<br>Slope<br>Rangefinder<br>\",\"Cleveland<br>Golf<br>Collegiate<br>My<br>Custom<br>Wedge<br>588<br>\",\"Cleveland<br>Golf<br>Collegiate<br>My<br>Custom<br>Wedge<br>588<br>\",\"Cleveland<br>Golf<br>Collegiate<br>My<br>Custom<br>Wedge<br>588<br>\",\"Cleveland<br>Golf<br>Collegiate<br>My<br>Custom<br>Wedge<br>588<br>\",\"Cleveland<br>Golf<br>Collegiate<br>My<br>Custom<br>Wedge<br>588<br>\",\"Cleveland<br>Golf<br>Collegiate<br>My<br>Custom<br>Wedge<br>588<br>\",\"Cleveland<br>Golf<br>Collegiate<br>My<br>Custom<br>Wedge<br>588<br>\",\"Cleveland<br>Golf<br>Women's<br>588<br>RTX<br>CB<br>Satin<br>Chrom<br>\",\"Cleveland<br>Golf<br>Women's<br>588<br>RTX<br>CB<br>Satin<br>Chrom<br>\",\"Cleveland<br>Golf<br>Women's<br>588<br>RTX<br>CB<br>Satin<br>Chrom<br>\",\"Cleveland<br>Golf<br>Women's<br>588<br>RTX<br>CB<br>Satin<br>Chrom<br>\",\"Cleveland<br>Golf<br>Women's<br>588<br>RTX<br>CB<br>Satin<br>Chrom<br>\",\"Cleveland<br>Golf<br>Women's<br>588<br>RTX<br>CB<br>Satin<br>Chrom<br>\",\"Cleveland<br>Golf<br>Women's<br>588<br>RTX<br>CB<br>Satin<br>Chrom<br>\",\"Cleveland<br>Golf<br>Women's<br>588<br>RTX<br>CB<br>Satin<br>Chrom<br>\",\"Clicgear<br>8.0<br>Shoe<br>Brush<br>\",\"Clicgear<br>8.0<br>Shoe<br>Brush<br>\",\"Clicgear<br>8.0<br>Shoe<br>Brush<br>\",\"Clicgear<br>8.0<br>Shoe<br>Brush<br>\",\"Clicgear<br>8.0<br>Shoe<br>Brush<br>\",\"Clicgear<br>8.0<br>Shoe<br>Brush<br>\",\"Clicgear<br>8.0<br>Shoe<br>Brush<br>\",\"Clicgear<br>8.0<br>Shoe<br>Brush<br>\",\"Clicgear<br>8.0<br>Shoe<br>Brush<br>\",\"Clicgear<br>8.0<br>Shoe<br>Brush<br>\",\"Clicgear<br>Rovic<br>Cooler<br>Bag<br>\",\"Clicgear<br>Rovic<br>Cooler<br>Bag<br>\",\"Clicgear<br>Rovic<br>Cooler<br>Bag<br>\",\"Clicgear<br>Rovic<br>Cooler<br>Bag<br>\",\"Clicgear<br>Rovic<br>Cooler<br>Bag<br>\",\"Clicgear<br>Rovic<br>Cooler<br>Bag<br>\",\"Clicgear<br>Rovic<br>Cooler<br>Bag<br>\",\"Clicgear<br>Rovic<br>Cooler<br>Bag<br>\",\"Clicgear<br>Rovic<br>Cooler<br>Bag<br>\",\"Clicgear<br>Rovic<br>Cooler<br>Bag<br>\",\"Columbia<br>Men's<br>PFG<br>Anchor<br>Tough<br>T-Shirt<br>\",\"Columbia<br>Men's<br>PFG<br>Anchor<br>Tough<br>T-Shirt<br>\",\"Columbia<br>Men's<br>PFG<br>Anchor<br>Tough<br>T-Shirt<br>\",\"Columbia<br>Men's<br>PFG<br>Anchor<br>Tough<br>T-Shirt<br>\",\"Columbia<br>Men's<br>PFG<br>Anchor<br>Tough<br>T-Shirt<br>\",\"Columbia<br>Men's<br>PFG<br>Anchor<br>Tough<br>T-Shirt<br>\",\"Columbia<br>Men's<br>PFG<br>Anchor<br>Tough<br>T-Shirt<br>\",\"Columbia<br>Men's<br>PFG<br>Anchor<br>Tough<br>T-Shirt<br>\",\"Columbia<br>Men's<br>PFG<br>Anchor<br>Tough<br>T-Shirt<br>\",\"Columbia<br>Men's<br>PFG<br>Anchor<br>Tough<br>T-Shirt<br>\",\"Diamondback<br>Boys'<br>Insight<br>24<br>Performance<br>Hybr<br>\",\"Diamondback<br>Boys'<br>Insight<br>24<br>Performance<br>Hybr<br>\",\"Diamondback<br>Boys'<br>Insight<br>24<br>Performance<br>Hybr<br>\",\"Diamondback<br>Girls'<br>Clarity<br>24<br>Hybrid<br>Bike<br>201<br>\",\"Diamondback<br>Girls'<br>Clarity<br>24<br>Hybrid<br>Bike<br>201<br>\",\"Diamondback<br>Girls'<br>Clarity<br>24<br>Hybrid<br>Bike<br>201<br>\",\"Diamondback<br>Girls'<br>Clarity<br>24<br>Hybrid<br>Bike<br>201<br>\",\"Diamondback<br>Women's<br>Serene<br>Classic<br>Comfort<br>Bi<br>\",\"Diamondback<br>Women's<br>Serene<br>Classic<br>Comfort<br>Bi<br>\",\"Diamondback<br>Women's<br>Serene<br>Classic<br>Comfort<br>Bi<br>\",\"Diamondback<br>Women's<br>Serene<br>Classic<br>Comfort<br>Bi<br>\",\"Diamondback<br>Women's<br>Serene<br>Classic<br>Comfort<br>Bi<br>\",\"Diamondback<br>Women's<br>Serene<br>Classic<br>Comfort<br>Bi<br>\",\"Diamondback<br>Women's<br>Serene<br>Classic<br>Comfort<br>Bi<br>\",\"Diamondback<br>Women's<br>Serene<br>Classic<br>Comfort<br>Bi<br>\",\"Diamondback<br>Women's<br>Serene<br>Classic<br>Comfort<br>Bi<br>\",\"Diamondback<br>Women's<br>Serene<br>Classic<br>Comfort<br>Bi<br>\",\"ENO<br>Atlas<br>Hammock<br>Straps<br>\",\"ENO<br>Atlas<br>Hammock<br>Straps<br>\",\"ENO<br>Atlas<br>Hammock<br>Straps<br>\",\"ENO<br>Atlas<br>Hammock<br>Straps<br>\",\"ENO<br>Atlas<br>Hammock<br>Straps<br>\",\"ENO<br>Atlas<br>Hammock<br>Straps<br>\",\"ENO<br>Atlas<br>Hammock<br>Straps<br>\",\"ENO<br>Atlas<br>Hammock<br>Straps<br>\",\"ENO<br>Atlas<br>Hammock<br>Straps<br>\",\"ENO<br>Atlas<br>Hammock<br>Straps<br>\",\"Elevation<br>Training<br>Mask<br>2.0<br>\",\"Elevation<br>Training<br>Mask<br>2.0<br>\",\"Elevation<br>Training<br>Mask<br>2.0<br>\",\"Elevation<br>Training<br>Mask<br>2.0<br>\",\"Elevation<br>Training<br>Mask<br>2.0<br>\",\"Elevation<br>Training<br>Mask<br>2.0<br>\",\"Elevation<br>Training<br>Mask<br>2.0<br>\",\"Field<br>&<br>Stream<br>Sportsman<br>16<br>Gun<br>Fire<br>Safe<br>\",\"Field<br>&<br>Stream<br>Sportsman<br>16<br>Gun<br>Fire<br>Safe<br>\",\"Field<br>&<br>Stream<br>Sportsman<br>16<br>Gun<br>Fire<br>Safe<br>\",\"Field<br>&<br>Stream<br>Sportsman<br>16<br>Gun<br>Fire<br>Safe<br>\",\"Field<br>&<br>Stream<br>Sportsman<br>16<br>Gun<br>Fire<br>Safe<br>\",\"Field<br>&<br>Stream<br>Sportsman<br>16<br>Gun<br>Fire<br>Safe<br>\",\"Field<br>&<br>Stream<br>Sportsman<br>16<br>Gun<br>Fire<br>Safe<br>\",\"Field<br>&<br>Stream<br>Sportsman<br>16<br>Gun<br>Fire<br>Safe<br>\",\"Field<br>&<br>Stream<br>Sportsman<br>16<br>Gun<br>Fire<br>Safe<br>\",\"Field<br>&<br>Stream<br>Sportsman<br>16<br>Gun<br>Fire<br>Safe<br>\",\"Fitbit<br>The<br>One<br>Wireless<br>Activity<br>&<br>Sleep<br>Trac<br>\",\"Fitbit<br>The<br>One<br>Wireless<br>Activity<br>&<br>Sleep<br>Trac<br>\",\"Fitbit<br>The<br>One<br>Wireless<br>Activity<br>&<br>Sleep<br>Trac<br>\",\"Fitbit<br>The<br>One<br>Wireless<br>Activity<br>&<br>Sleep<br>Trac<br>\",\"Fitbit<br>The<br>One<br>Wireless<br>Activity<br>&<br>Sleep<br>Trac<br>\",\"Fitbit<br>The<br>One<br>Wireless<br>Activity<br>&<br>Sleep<br>Trac<br>\",\"Fitbit<br>The<br>One<br>Wireless<br>Activity<br>&<br>Sleep<br>Trac<br>\",\"Fitbit<br>The<br>One<br>Wireless<br>Activity<br>&<br>Sleep<br>Trac<br>\",\"Garmin<br>Approach<br>S3<br>Golf<br>GPS<br>Watch<br>\",\"Garmin<br>Approach<br>S3<br>Golf<br>GPS<br>Watch<br>\",\"Garmin<br>Approach<br>S3<br>Golf<br>GPS<br>Watch<br>\",\"Garmin<br>Approach<br>S3<br>Golf<br>GPS<br>Watch<br>\",\"Garmin<br>Approach<br>S3<br>Golf<br>GPS<br>Watch<br>\",\"Garmin<br>Approach<br>S3<br>Golf<br>GPS<br>Watch<br>\",\"Garmin<br>Approach<br>S3<br>Golf<br>GPS<br>Watch<br>\",\"Garmin<br>Approach<br>S3<br>Golf<br>GPS<br>Watch<br>\",\"Garmin<br>Approach<br>S4<br>Golf<br>GPS<br>Watch<br>\",\"Garmin<br>Approach<br>S4<br>Golf<br>GPS<br>Watch<br>\",\"Garmin<br>Approach<br>S4<br>Golf<br>GPS<br>Watch<br>\",\"Garmin<br>Approach<br>S4<br>Golf<br>GPS<br>Watch<br>\",\"Garmin<br>Forerunner<br>910XT<br>GPS<br>Watch<br>\",\"Garmin<br>Forerunner<br>910XT<br>GPS<br>Watch<br>\",\"Garmin<br>Forerunner<br>910XT<br>GPS<br>Watch<br>\",\"Garmin<br>Forerunner<br>910XT<br>GPS<br>Watch<br>\",\"Glove<br>It<br>Imperial<br>Golf<br>Towel<br>\",\"Glove<br>It<br>Imperial<br>Golf<br>Towel<br>\",\"Glove<br>It<br>Imperial<br>Golf<br>Towel<br>\",\"Glove<br>It<br>Imperial<br>Golf<br>Towel<br>\",\"Glove<br>It<br>Imperial<br>Golf<br>Towel<br>\",\"Glove<br>It<br>Imperial<br>Golf<br>Towel<br>\",\"Glove<br>It<br>Imperial<br>Golf<br>Towel<br>\",\"Glove<br>It<br>Imperial<br>Golf<br>Towel<br>\",\"Glove<br>It<br>Imperial<br>Golf<br>Towel<br>\",\"Glove<br>It<br>Imperial<br>Golf<br>Towel<br>\",\"Glove<br>It<br>Urban<br>Brick<br>Golf<br>Towel<br>\",\"Glove<br>It<br>Urban<br>Brick<br>Golf<br>Towel<br>\",\"Glove<br>It<br>Urban<br>Brick<br>Golf<br>Towel<br>\",\"Glove<br>It<br>Urban<br>Brick<br>Golf<br>Towel<br>\",\"Glove<br>It<br>Urban<br>Brick<br>Golf<br>Towel<br>\",\"Glove<br>It<br>Urban<br>Brick<br>Golf<br>Towel<br>\",\"Glove<br>It<br>Urban<br>Brick<br>Golf<br>Towel<br>\",\"Glove<br>It<br>Urban<br>Brick<br>Golf<br>Towel<br>\",\"Glove<br>It<br>Urban<br>Brick<br>Golf<br>Towel<br>\",\"Glove<br>It<br>Urban<br>Brick<br>Golf<br>Towel<br>\",\"Glove<br>It<br>Women's<br>Imperial<br>Golf<br>Glove<br>\",\"Glove<br>It<br>Women's<br>Imperial<br>Golf<br>Glove<br>\",\"Glove<br>It<br>Women's<br>Imperial<br>Golf<br>Glove<br>\",\"Glove<br>It<br>Women's<br>Imperial<br>Golf<br>Glove<br>\",\"Glove<br>It<br>Women's<br>Imperial<br>Golf<br>Glove<br>\",\"Glove<br>It<br>Women's<br>Imperial<br>Golf<br>Glove<br>\",\"Glove<br>It<br>Women's<br>Imperial<br>Golf<br>Glove<br>\",\"Glove<br>It<br>Women's<br>Imperial<br>Golf<br>Glove<br>\",\"Glove<br>It<br>Women's<br>Imperial<br>Golf<br>Glove<br>\",\"Glove<br>It<br>Women's<br>Imperial<br>Golf<br>Glove<br>\",\"Glove<br>It<br>Women's<br>Mod<br>Oval<br>3-Zip<br>Carry<br>All<br>Gol<br>\",\"Glove<br>It<br>Women's<br>Mod<br>Oval<br>3-Zip<br>Carry<br>All<br>Gol<br>\",\"Glove<br>It<br>Women's<br>Mod<br>Oval<br>3-Zip<br>Carry<br>All<br>Gol<br>\",\"Glove<br>It<br>Women's<br>Mod<br>Oval<br>3-Zip<br>Carry<br>All<br>Gol<br>\",\"Glove<br>It<br>Women's<br>Mod<br>Oval<br>3-Zip<br>Carry<br>All<br>Gol<br>\",\"Glove<br>It<br>Women's<br>Mod<br>Oval<br>3-Zip<br>Carry<br>All<br>Gol<br>\",\"Glove<br>It<br>Women's<br>Mod<br>Oval<br>3-Zip<br>Carry<br>All<br>Gol<br>\",\"Glove<br>It<br>Women's<br>Mod<br>Oval<br>3-Zip<br>Carry<br>All<br>Gol<br>\",\"Glove<br>It<br>Women's<br>Mod<br>Oval<br>3-Zip<br>Carry<br>All<br>Gol<br>\",\"Glove<br>It<br>Women's<br>Mod<br>Oval<br>3-Zip<br>Carry<br>All<br>Gol<br>\",\"Glove<br>It<br>Women's<br>Mod<br>Oval<br>Golf<br>Glove<br>\",\"Glove<br>It<br>Women's<br>Mod<br>Oval<br>Golf<br>Glove<br>\",\"Glove<br>It<br>Women's<br>Mod<br>Oval<br>Golf<br>Glove<br>\",\"Glove<br>It<br>Women's<br>Mod<br>Oval<br>Golf<br>Glove<br>\",\"Glove<br>It<br>Women's<br>Mod<br>Oval<br>Golf<br>Glove<br>\",\"Glove<br>It<br>Women's<br>Mod<br>Oval<br>Golf<br>Glove<br>\",\"Glove<br>It<br>Women's<br>Mod<br>Oval<br>Golf<br>Glove<br>\",\"Glove<br>It<br>Women's<br>Mod<br>Oval<br>Golf<br>Glove<br>\",\"Glove<br>It<br>Women's<br>Mod<br>Oval<br>Golf<br>Glove<br>\",\"Glove<br>It<br>Women's<br>Mod<br>Oval<br>Golf<br>Glove<br>\",\"GoPro<br>HERO3+<br>Black<br>Edition<br>Camera<br>\",\"GoPro<br>HERO3+<br>Black<br>Edition<br>Camera<br>\",\"GoPro<br>HERO3+<br>Black<br>Edition<br>Camera<br>\",\"GolfBuddy<br>VT3<br>GPS<br>Watch<br>\",\"GolfBuddy<br>VT3<br>GPS<br>Watch<br>\",\"GolfBuddy<br>VT3<br>GPS<br>Watch<br>\",\"GolfBuddy<br>VT3<br>GPS<br>Watch<br>\",\"GolfBuddy<br>VT3<br>GPS<br>Watch<br>\",\"GolfBuddy<br>VT3<br>GPS<br>Watch<br>\",\"GolfBuddy<br>VT3<br>GPS<br>Watch<br>\",\"GolfBuddy<br>VT3<br>GPS<br>Watch<br>\",\"Hirzl<br>Men's<br>Hybrid<br>Golf<br>Glove<br>\",\"Hirzl<br>Men's<br>Hybrid<br>Golf<br>Glove<br>\",\"Hirzl<br>Men's<br>Hybrid<br>Golf<br>Glove<br>\",\"Hirzl<br>Men's<br>Hybrid<br>Golf<br>Glove<br>\",\"Hirzl<br>Men's<br>Hybrid<br>Golf<br>Glove<br>\",\"Hirzl<br>Men's<br>Hybrid<br>Golf<br>Glove<br>\",\"Hirzl<br>Men's<br>Hybrid<br>Golf<br>Glove<br>\",\"Hirzl<br>Men's<br>Hybrid<br>Golf<br>Glove<br>\",\"Hirzl<br>Men's<br>Hybrid<br>Golf<br>Glove<br>\",\"Hirzl<br>Men's<br>Hybrid<br>Golf<br>Glove<br>\",\"Hirzl<br>Women's<br>Hybrid<br>Golf<br>Glove<br>\",\"Hirzl<br>Women's<br>Hybrid<br>Golf<br>Glove<br>\",\"Hirzl<br>Women's<br>Hybrid<br>Golf<br>Glove<br>\",\"Hirzl<br>Women's<br>Hybrid<br>Golf<br>Glove<br>\",\"Hirzl<br>Women's<br>Hybrid<br>Golf<br>Glove<br>\",\"Hirzl<br>Women's<br>Hybrid<br>Golf<br>Glove<br>\",\"Hirzl<br>Women's<br>Hybrid<br>Golf<br>Glove<br>\",\"Hirzl<br>Women's<br>Hybrid<br>Golf<br>Glove<br>\",\"Hirzl<br>Women's<br>Hybrid<br>Golf<br>Glove<br>\",\"Hirzl<br>Women's<br>Hybrid<br>Golf<br>Glove<br>\",\"Hirzl<br>Women's<br>Soffft<br>Flex<br>Golf<br>Glove<br>\",\"Hirzl<br>Women's<br>Soffft<br>Flex<br>Golf<br>Glove<br>\",\"Hirzl<br>Women's<br>Soffft<br>Flex<br>Golf<br>Glove<br>\",\"Hirzl<br>Women's<br>Soffft<br>Flex<br>Golf<br>Glove<br>\",\"Hirzl<br>Women's<br>Soffft<br>Flex<br>Golf<br>Glove<br>\",\"Hirzl<br>Women's<br>Soffft<br>Flex<br>Golf<br>Glove<br>\",\"Hirzl<br>Women's<br>Soffft<br>Flex<br>Golf<br>Glove<br>\",\"Hirzl<br>Women's<br>Soffft<br>Flex<br>Golf<br>Glove<br>\",\"Hirzl<br>Women's<br>Soffft<br>Flex<br>Golf<br>Glove<br>\",\"Hirzl<br>Women's<br>Soffft<br>Flex<br>Golf<br>Glove<br>\",\"LIJA<br>Women's<br>Argyle<br>Golf<br>Polo<br>\",\"LIJA<br>Women's<br>Argyle<br>Golf<br>Polo<br>\",\"LIJA<br>Women's<br>Argyle<br>Golf<br>Polo<br>\",\"LIJA<br>Women's<br>Argyle<br>Golf<br>Polo<br>\",\"LIJA<br>Women's<br>Argyle<br>Golf<br>Polo<br>\",\"LIJA<br>Women's<br>Argyle<br>Golf<br>Polo<br>\",\"LIJA<br>Women's<br>Argyle<br>Golf<br>Polo<br>\",\"LIJA<br>Women's<br>Argyle<br>Golf<br>Polo<br>\",\"LIJA<br>Women's<br>Button<br>Golf<br>Dress<br>\",\"LIJA<br>Women's<br>Button<br>Golf<br>Dress<br>\",\"LIJA<br>Women's<br>Button<br>Golf<br>Dress<br>\",\"LIJA<br>Women's<br>Button<br>Golf<br>Dress<br>\",\"LIJA<br>Women's<br>Button<br>Golf<br>Dress<br>\",\"LIJA<br>Women's<br>Button<br>Golf<br>Dress<br>\",\"LIJA<br>Women's<br>Button<br>Golf<br>Dress<br>\",\"LIJA<br>Women's<br>Button<br>Golf<br>Dress<br>\",\"LIJA<br>Women's<br>Eyelet<br>Sleeveless<br>Golf<br>Polo<br>\",\"LIJA<br>Women's<br>Eyelet<br>Sleeveless<br>Golf<br>Polo<br>\",\"LIJA<br>Women's<br>Eyelet<br>Sleeveless<br>Golf<br>Polo<br>\",\"LIJA<br>Women's<br>Eyelet<br>Sleeveless<br>Golf<br>Polo<br>\",\"LIJA<br>Women's<br>Eyelet<br>Sleeveless<br>Golf<br>Polo<br>\",\"LIJA<br>Women's<br>Eyelet<br>Sleeveless<br>Golf<br>Polo<br>\",\"LIJA<br>Women's<br>Eyelet<br>Sleeveless<br>Golf<br>Polo<br>\",\"LIJA<br>Women's<br>Eyelet<br>Sleeveless<br>Golf<br>Polo<br>\",\"LIJA<br>Women's<br>Eyelet<br>Sleeveless<br>Golf<br>Polo<br>\",\"LIJA<br>Women's<br>Eyelet<br>Sleeveless<br>Golf<br>Polo<br>\",\"LIJA<br>Women's<br>Mid-Length<br>Panel<br>Golf<br>Shorts<br>\",\"LIJA<br>Women's<br>Mid-Length<br>Panel<br>Golf<br>Shorts<br>\",\"LIJA<br>Women's<br>Mid-Length<br>Panel<br>Golf<br>Shorts<br>\",\"LIJA<br>Women's<br>Mid-Length<br>Panel<br>Golf<br>Shorts<br>\",\"LIJA<br>Women's<br>Mid-Length<br>Panel<br>Golf<br>Shorts<br>\",\"LIJA<br>Women's<br>Mid-Length<br>Panel<br>Golf<br>Shorts<br>\",\"LIJA<br>Women's<br>Mid-Length<br>Panel<br>Golf<br>Shorts<br>\",\"LIJA<br>Women's<br>Mid-Length<br>Panel<br>Golf<br>Shorts<br>\",\"MDGolf<br>Pittsburgh<br>Penguins<br>Putter<br>\",\"MDGolf<br>Pittsburgh<br>Penguins<br>Putter<br>\",\"MDGolf<br>Pittsburgh<br>Penguins<br>Putter<br>\",\"MDGolf<br>Pittsburgh<br>Penguins<br>Putter<br>\",\"MDGolf<br>Pittsburgh<br>Penguins<br>Putter<br>\",\"MDGolf<br>Pittsburgh<br>Penguins<br>Putter<br>\",\"MDGolf<br>Pittsburgh<br>Penguins<br>Putter<br>\",\"MDGolf<br>Pittsburgh<br>Penguins<br>Putter<br>\",\"Merrell<br>Men's<br>All<br>Out<br>Flash<br>Trail<br>Running<br>Sho<br>\",\"Merrell<br>Men's<br>All<br>Out<br>Flash<br>Trail<br>Running<br>Sho<br>\",\"Merrell<br>Men's<br>All<br>Out<br>Flash<br>Trail<br>Running<br>Sho<br>\",\"Merrell<br>Men's<br>All<br>Out<br>Flash<br>Trail<br>Running<br>Sho<br>\",\"Merrell<br>Men's<br>All<br>Out<br>Flash<br>Trail<br>Running<br>Sho<br>\",\"Merrell<br>Men's<br>All<br>Out<br>Flash<br>Trail<br>Running<br>Sho<br>\",\"Merrell<br>Men's<br>All<br>Out<br>Flash<br>Trail<br>Running<br>Sho<br>\",\"Merrell<br>Men's<br>All<br>Out<br>Flash<br>Trail<br>Running<br>Sho<br>\",\"Merrell<br>Women's<br>Grassbow<br>Sport<br>Hiking<br>Shoe<br>\",\"Merrell<br>Women's<br>Grassbow<br>Sport<br>Hiking<br>Shoe<br>\",\"Merrell<br>Women's<br>Grassbow<br>Sport<br>Hiking<br>Shoe<br>\",\"Merrell<br>Women's<br>Grassbow<br>Sport<br>Hiking<br>Shoe<br>\",\"Merrell<br>Women's<br>Grassbow<br>Sport<br>Hiking<br>Shoe<br>\",\"Merrell<br>Women's<br>Grassbow<br>Sport<br>Hiking<br>Shoe<br>\",\"Merrell<br>Women's<br>Grassbow<br>Sport<br>Hiking<br>Shoe<br>\",\"Merrell<br>Women's<br>Grassbow<br>Sport<br>Hiking<br>Shoe<br>\",\"Merrell<br>Women's<br>Grassbow<br>Sport<br>Waterproof<br>Hik<br>\",\"Merrell<br>Women's<br>Grassbow<br>Sport<br>Waterproof<br>Hik<br>\",\"Merrell<br>Women's<br>Grassbow<br>Sport<br>Waterproof<br>Hik<br>\",\"Merrell<br>Women's<br>Grassbow<br>Sport<br>Waterproof<br>Hik<br>\",\"Merrell<br>Women's<br>Grassbow<br>Sport<br>Waterproof<br>Hik<br>\",\"Merrell<br>Women's<br>Grassbow<br>Sport<br>Waterproof<br>Hik<br>\",\"Merrell<br>Women's<br>Grassbow<br>Sport<br>Waterproof<br>Hik<br>\",\"Merrell<br>Women's<br>Siren<br>Mid<br>Waterproof<br>Hiking<br>B<br>\",\"Merrell<br>Women's<br>Siren<br>Mid<br>Waterproof<br>Hiking<br>B<br>\",\"Merrell<br>Women's<br>Siren<br>Mid<br>Waterproof<br>Hiking<br>B<br>\",\"Merrell<br>Women's<br>Siren<br>Mid<br>Waterproof<br>Hiking<br>B<br>\",\"Merrell<br>Women's<br>Siren<br>Mid<br>Waterproof<br>Hiking<br>B<br>\",\"Merrell<br>Women's<br>Siren<br>Mid<br>Waterproof<br>Hiking<br>B<br>\",\"Merrell<br>Women's<br>Siren<br>Mid<br>Waterproof<br>Hiking<br>B<br>\",\"Merrell<br>Women's<br>Siren<br>Mid<br>Waterproof<br>Hiking<br>B<br>\",\"Mio<br>ALPHA<br>Heart<br>Rate<br>Monitor/Sport<br>Watch<br>\",\"Mio<br>ALPHA<br>Heart<br>Rate<br>Monitor/Sport<br>Watch<br>\",\"Mio<br>ALPHA<br>Heart<br>Rate<br>Monitor/Sport<br>Watch<br>\",\"Mio<br>ALPHA<br>Heart<br>Rate<br>Monitor/Sport<br>Watch<br>\",\"Mio<br>ALPHA<br>Heart<br>Rate<br>Monitor/Sport<br>Watch<br>\",\"Mio<br>ALPHA<br>Heart<br>Rate<br>Monitor/Sport<br>Watch<br>\",\"Mio<br>ALPHA<br>Heart<br>Rate<br>Monitor/Sport<br>Watch<br>\",\"Mio<br>ALPHA<br>Heart<br>Rate<br>Monitor/Sport<br>Watch<br>\",\"Nike<br>Dri-FIT<br>Crew<br>Sock<br>6<br>Pack<br>\",\"Nike<br>Dri-FIT<br>Crew<br>Sock<br>6<br>Pack<br>\",\"Nike<br>Dri-FIT<br>Crew<br>Sock<br>6<br>Pack<br>\",\"Nike<br>Dri-FIT<br>Crew<br>Sock<br>6<br>Pack<br>\",\"Nike<br>Dri-FIT<br>Crew<br>Sock<br>6<br>Pack<br>\",\"Nike<br>Dri-FIT<br>Crew<br>Sock<br>6<br>Pack<br>\",\"Nike<br>Dri-FIT<br>Crew<br>Sock<br>6<br>Pack<br>\",\"Nike<br>Dri-FIT<br>Crew<br>Sock<br>6<br>Pack<br>\",\"Nike<br>Dri-FIT<br>Crew<br>Sock<br>6<br>Pack<br>\",\"Nike<br>Dri-FIT<br>Crew<br>Sock<br>6<br>Pack<br>\",\"Nike<br>Kids'<br>Grade<br>School<br>KD<br>VI<br>Basketball<br>Shoe<br>\",\"Nike<br>Kids'<br>Grade<br>School<br>KD<br>VI<br>Basketball<br>Shoe<br>\",\"Nike<br>Kids'<br>Grade<br>School<br>KD<br>VI<br>Basketball<br>Shoe<br>\",\"Nike<br>Kids'<br>Grade<br>School<br>KD<br>VI<br>Basketball<br>Shoe<br>\",\"Nike<br>Kids'<br>Grade<br>School<br>KD<br>VI<br>Basketball<br>Shoe<br>\",\"Nike<br>Kids'<br>Grade<br>School<br>KD<br>VI<br>Basketball<br>Shoe<br>\",\"Nike<br>Kids'<br>Grade<br>School<br>KD<br>VI<br>Basketball<br>Shoe<br>\",\"Nike<br>Kids'<br>Grade<br>School<br>KD<br>VI<br>Basketball<br>Shoe<br>\",\"Nike<br>Men's<br>CJ<br>Elite<br>2<br>TD<br>Football<br>Cleat<br>\",\"Nike<br>Men's<br>CJ<br>Elite<br>2<br>TD<br>Football<br>Cleat<br>\",\"Nike<br>Men's<br>CJ<br>Elite<br>2<br>TD<br>Football<br>Cleat<br>\",\"Nike<br>Men's<br>CJ<br>Elite<br>2<br>TD<br>Football<br>Cleat<br>\",\"Nike<br>Men's<br>CJ<br>Elite<br>2<br>TD<br>Football<br>Cleat<br>\",\"Nike<br>Men's<br>CJ<br>Elite<br>2<br>TD<br>Football<br>Cleat<br>\",\"Nike<br>Men's<br>CJ<br>Elite<br>2<br>TD<br>Football<br>Cleat<br>\",\"Nike<br>Men's<br>CJ<br>Elite<br>2<br>TD<br>Football<br>Cleat<br>\",\"Nike<br>Men's<br>CJ<br>Elite<br>2<br>TD<br>Football<br>Cleat<br>\",\"Nike<br>Men's<br>CJ<br>Elite<br>2<br>TD<br>Football<br>Cleat<br>\",\"Nike<br>Men's<br>Comfort<br>2<br>Slide<br>\",\"Nike<br>Men's<br>Comfort<br>2<br>Slide<br>\",\"Nike<br>Men's<br>Comfort<br>2<br>Slide<br>\",\"Nike<br>Men's<br>Comfort<br>2<br>Slide<br>\",\"Nike<br>Men's<br>Comfort<br>2<br>Slide<br>\",\"Nike<br>Men's<br>Comfort<br>2<br>Slide<br>\",\"Nike<br>Men's<br>Comfort<br>2<br>Slide<br>\",\"Nike<br>Men's<br>Comfort<br>2<br>Slide<br>\",\"Nike<br>Men's<br>Comfort<br>2<br>Slide<br>\",\"Nike<br>Men's<br>Comfort<br>2<br>Slide<br>\",\"Nike<br>Men's<br>Deutschland<br>Weltmeister<br>Winners<br>Bl<br>\",\"Nike<br>Men's<br>Deutschland<br>Weltmeister<br>Winners<br>Bl<br>\",\"Nike<br>Men's<br>Deutschland<br>Weltmeister<br>Winners<br>Bl<br>\",\"Nike<br>Men's<br>Deutschland<br>Weltmeister<br>Winners<br>Bl<br>\",\"Nike<br>Men's<br>Deutschland<br>Weltmeister<br>Winners<br>Bl<br>\",\"Nike<br>Men's<br>Deutschland<br>Weltmeister<br>Winners<br>Bl<br>\",\"Nike<br>Men's<br>Deutschland<br>Weltmeister<br>Winners<br>Bl<br>\",\"Nike<br>Men's<br>Deutschland<br>Weltmeister<br>Winners<br>Bl<br>\",\"Nike<br>Men's<br>Deutschland<br>Weltmeister<br>Winners<br>Bl<br>\",\"Nike<br>Men's<br>Deutschland<br>Weltmeister<br>Winners<br>Bl<br>\",\"Nike<br>Men's<br>Dri-FIT<br>Victory<br>Golf<br>Polo<br>\",\"Nike<br>Men's<br>Dri-FIT<br>Victory<br>Golf<br>Polo<br>\",\"Nike<br>Men's<br>Dri-FIT<br>Victory<br>Golf<br>Polo<br>\",\"Nike<br>Men's<br>Dri-FIT<br>Victory<br>Golf<br>Polo<br>\",\"Nike<br>Men's<br>Dri-FIT<br>Victory<br>Golf<br>Polo<br>\",\"Nike<br>Men's<br>Dri-FIT<br>Victory<br>Golf<br>Polo<br>\",\"Nike<br>Men's<br>Dri-FIT<br>Victory<br>Golf<br>Polo<br>\",\"Nike<br>Men's<br>Dri-FIT<br>Victory<br>Golf<br>Polo<br>\",\"Nike<br>Men's<br>Dri-FIT<br>Victory<br>Golf<br>Polo<br>\",\"Nike<br>Men's<br>Dri-FIT<br>Victory<br>Golf<br>Polo<br>\",\"Nike<br>Men's<br>Fingertrap<br>Max<br>Training<br>Shoe<br>\",\"Nike<br>Men's<br>Fingertrap<br>Max<br>Training<br>Shoe<br>\",\"Nike<br>Men's<br>Fingertrap<br>Max<br>Training<br>Shoe<br>\",\"Nike<br>Men's<br>Fingertrap<br>Max<br>Training<br>Shoe<br>\",\"Nike<br>Men's<br>Fingertrap<br>Max<br>Training<br>Shoe<br>\",\"Nike<br>Men's<br>Fingertrap<br>Max<br>Training<br>Shoe<br>\",\"Nike<br>Men's<br>Fingertrap<br>Max<br>Training<br>Shoe<br>\",\"Nike<br>Men's<br>Fingertrap<br>Max<br>Training<br>Shoe<br>\",\"Nike<br>Men's<br>Free<br>5.0+<br>Running<br>Shoe<br>\",\"Nike<br>Men's<br>Free<br>5.0+<br>Running<br>Shoe<br>\",\"Nike<br>Men's<br>Free<br>5.0+<br>Running<br>Shoe<br>\",\"Nike<br>Men's<br>Free<br>5.0+<br>Running<br>Shoe<br>\",\"Nike<br>Men's<br>Free<br>5.0+<br>Running<br>Shoe<br>\",\"Nike<br>Men's<br>Free<br>5.0+<br>Running<br>Shoe<br>\",\"Nike<br>Men's<br>Free<br>5.0+<br>Running<br>Shoe<br>\",\"Nike<br>Men's<br>Free<br>5.0+<br>Running<br>Shoe<br>\",\"Nike<br>Men's<br>Free<br>5.0+<br>Running<br>Shoe<br>\",\"Nike<br>Men's<br>Free<br>5.0+<br>Running<br>Shoe<br>\",\"Nike<br>Men's<br>Free<br>TR<br>5.0<br>TB<br>Training<br>Shoe<br>\",\"Nike<br>Men's<br>Free<br>TR<br>5.0<br>TB<br>Training<br>Shoe<br>\",\"Nike<br>Men's<br>Free<br>TR<br>5.0<br>TB<br>Training<br>Shoe<br>\",\"Nike<br>Men's<br>Free<br>TR<br>5.0<br>TB<br>Training<br>Shoe<br>\",\"Nike<br>Men's<br>Free<br>TR<br>5.0<br>TB<br>Training<br>Shoe<br>\",\"Nike<br>Men's<br>Free<br>TR<br>5.0<br>TB<br>Training<br>Shoe<br>\",\"Nike<br>Men's<br>Free<br>TR<br>5.0<br>TB<br>Training<br>Shoe<br>\",\"Nike<br>Men's<br>Kobe<br>IX<br>Elite<br>Low<br>Basketball<br>Shoe<br>\",\"Nike<br>Men's<br>Kobe<br>IX<br>Elite<br>Low<br>Basketball<br>Shoe<br>\",\"Nike<br>Men's<br>Kobe<br>IX<br>Elite<br>Low<br>Basketball<br>Shoe<br>\",\"Nike<br>Men's<br>Kobe<br>IX<br>Elite<br>Low<br>Basketball<br>Shoe<br>\",\"Nike<br>Men's<br>Kobe<br>IX<br>Elite<br>Low<br>Basketball<br>Shoe<br>\",\"Nike<br>Men's<br>Kobe<br>IX<br>Elite<br>Low<br>Basketball<br>Shoe<br>\",\"Nike<br>Men's<br>Kobe<br>IX<br>Elite<br>Low<br>Basketball<br>Shoe<br>\",\"Nike<br>Men's<br>Kobe<br>IX<br>Elite<br>Low<br>Basketball<br>Shoe<br>\",\"Nike<br>Women's<br>Free<br>5.0<br>TR<br>FIT<br>PRT<br>4<br>Training<br>S<br>\",\"Nike<br>Women's<br>Free<br>5.0<br>TR<br>FIT<br>PRT<br>4<br>Training<br>S<br>\",\"Nike<br>Women's<br>Free<br>5.0<br>TR<br>FIT<br>PRT<br>4<br>Training<br>S<br>\",\"Nike<br>Women's<br>Free<br>5.0<br>TR<br>FIT<br>PRT<br>4<br>Training<br>S<br>\",\"Nike<br>Women's<br>Free<br>5.0<br>TR<br>FIT<br>PRT<br>4<br>Training<br>S<br>\",\"Nike<br>Women's<br>Free<br>5.0<br>TR<br>FIT<br>PRT<br>4<br>Training<br>S<br>\",\"Nike<br>Women's<br>Free<br>5.0<br>TR<br>FIT<br>PRT<br>4<br>Training<br>S<br>\",\"Nike<br>Women's<br>Free<br>5.0<br>TR<br>FIT<br>PRT<br>4<br>Training<br>S<br>\",\"Nike<br>Women's<br>Legend<br>V-Neck<br>T-Shirt<br>\",\"Nike<br>Women's<br>Legend<br>V-Neck<br>T-Shirt<br>\",\"Nike<br>Women's<br>Legend<br>V-Neck<br>T-Shirt<br>\",\"Nike<br>Women's<br>Legend<br>V-Neck<br>T-Shirt<br>\",\"Nike<br>Women's<br>Legend<br>V-Neck<br>T-Shirt<br>\",\"Nike<br>Women's<br>Legend<br>V-Neck<br>T-Shirt<br>\",\"Nike<br>Women's<br>Legend<br>V-Neck<br>T-Shirt<br>\",\"Nike<br>Women's<br>Legend<br>V-Neck<br>T-Shirt<br>\",\"Nike<br>Women's<br>Legend<br>V-Neck<br>T-Shirt<br>\",\"Nike<br>Women's<br>Legend<br>V-Neck<br>T-Shirt<br>\",\"Nike<br>Women's<br>Tempo<br>Shorts<br>\",\"Nike<br>Women's<br>Tempo<br>Shorts<br>\",\"Nike<br>Women's<br>Tempo<br>Shorts<br>\",\"Nike<br>Women's<br>Tempo<br>Shorts<br>\",\"Nike<br>Women's<br>Tempo<br>Shorts<br>\",\"Nike<br>Women's<br>Tempo<br>Shorts<br>\",\"Nike<br>Women's<br>Tempo<br>Shorts<br>\",\"Nike<br>Women's<br>Tempo<br>Shorts<br>\",\"Nike<br>Women's<br>Tempo<br>Shorts<br>\",\"Nike<br>Women's<br>Tempo<br>Shorts<br>\",\"O'Brien<br>Men's<br>Neoprene<br>Life<br>Vest<br>\",\"O'Brien<br>Men's<br>Neoprene<br>Life<br>Vest<br>\",\"O'Brien<br>Men's<br>Neoprene<br>Life<br>Vest<br>\",\"O'Brien<br>Men's<br>Neoprene<br>Life<br>Vest<br>\",\"O'Brien<br>Men's<br>Neoprene<br>Life<br>Vest<br>\",\"O'Brien<br>Men's<br>Neoprene<br>Life<br>Vest<br>\",\"O'Brien<br>Men's<br>Neoprene<br>Life<br>Vest<br>\",\"O'Brien<br>Men's<br>Neoprene<br>Life<br>Vest<br>\",\"O'Brien<br>Men's<br>Neoprene<br>Life<br>Vest<br>\",\"O'Brien<br>Men's<br>Neoprene<br>Life<br>Vest<br>\",\"Ogio<br>Race<br>Golf<br>Shoes<br>\",\"Ogio<br>Race<br>Golf<br>Shoes<br>\",\"Ogio<br>Race<br>Golf<br>Shoes<br>\",\"Ogio<br>Race<br>Golf<br>Shoes<br>\",\"Ogio<br>Race<br>Golf<br>Shoes<br>\",\"Ogio<br>Race<br>Golf<br>Shoes<br>\",\"Ogio<br>Race<br>Golf<br>Shoes<br>\",\"Pelican<br>Maverick<br>100X<br>Kayak<br>\",\"Pelican<br>Maverick<br>100X<br>Kayak<br>\",\"Pelican<br>Maverick<br>100X<br>Kayak<br>\",\"Pelican<br>Sunstream<br>100<br>Kayak<br>\",\"Pelican<br>Sunstream<br>100<br>Kayak<br>\",\"Pelican<br>Sunstream<br>100<br>Kayak<br>\",\"Pelican<br>Sunstream<br>100<br>Kayak<br>\",\"Pelican<br>Sunstream<br>100<br>Kayak<br>\",\"Pelican<br>Sunstream<br>100<br>Kayak<br>\",\"Pelican<br>Sunstream<br>100<br>Kayak<br>\",\"Pelican<br>Sunstream<br>100<br>Kayak<br>\",\"Pelican<br>Sunstream<br>100<br>Kayak<br>\",\"Pelican<br>Sunstream<br>100<br>Kayak<br>\",\"Perfect<br>Fitness<br>Perfect<br>Rip<br>Deck<br>\",\"Perfect<br>Fitness<br>Perfect<br>Rip<br>Deck<br>\",\"Perfect<br>Fitness<br>Perfect<br>Rip<br>Deck<br>\",\"Perfect<br>Fitness<br>Perfect<br>Rip<br>Deck<br>\",\"Perfect<br>Fitness<br>Perfect<br>Rip<br>Deck<br>\",\"Perfect<br>Fitness<br>Perfect<br>Rip<br>Deck<br>\",\"Perfect<br>Fitness<br>Perfect<br>Rip<br>Deck<br>\",\"Perfect<br>Fitness<br>Perfect<br>Rip<br>Deck<br>\",\"Perfect<br>Fitness<br>Perfect<br>Rip<br>Deck<br>\",\"Perfect<br>Fitness<br>Perfect<br>Rip<br>Deck<br>\",\"Polar<br>FT4<br>Heart<br>Rate<br>Monitor<br>\",\"Polar<br>FT4<br>Heart<br>Rate<br>Monitor<br>\",\"Polar<br>FT4<br>Heart<br>Rate<br>Monitor<br>\",\"Polar<br>FT4<br>Heart<br>Rate<br>Monitor<br>\",\"Polar<br>FT4<br>Heart<br>Rate<br>Monitor<br>\",\"Polar<br>FT4<br>Heart<br>Rate<br>Monitor<br>\",\"Polar<br>FT4<br>Heart<br>Rate<br>Monitor<br>\",\"Polar<br>Loop<br>Activity<br>Tracker<br>\",\"Polar<br>Loop<br>Activity<br>Tracker<br>\",\"Polar<br>Loop<br>Activity<br>Tracker<br>\",\"Polar<br>Loop<br>Activity<br>Tracker<br>\",\"Polar<br>Loop<br>Activity<br>Tracker<br>\",\"Polar<br>Loop<br>Activity<br>Tracker<br>\",\"SOLE<br>E25<br>Elliptical<br>\",\"SOLE<br>E25<br>Elliptical<br>\",\"SOLE<br>E25<br>Elliptical<br>\",\"SOLE<br>E35<br>Elliptical<br>\",\"Stiga<br>Master<br>Series<br>ST3100<br>Competition<br>Indoor<br>\",\"Stiga<br>Master<br>Series<br>ST3100<br>Competition<br>Indoor<br>\",\"Stiga<br>Master<br>Series<br>ST3100<br>Competition<br>Indoor<br>\",\"Stiga<br>Master<br>Series<br>ST3100<br>Competition<br>Indoor<br>\",\"TYR<br>Boys'<br>Team<br>Digi<br>Jammer<br>\",\"TYR<br>Boys'<br>Team<br>Digi<br>Jammer<br>\",\"TYR<br>Boys'<br>Team<br>Digi<br>Jammer<br>\",\"TYR<br>Boys'<br>Team<br>Digi<br>Jammer<br>\",\"TYR<br>Boys'<br>Team<br>Digi<br>Jammer<br>\",\"TYR<br>Boys'<br>Team<br>Digi<br>Jammer<br>\",\"TYR<br>Boys'<br>Team<br>Digi<br>Jammer<br>\",\"TYR<br>Boys'<br>Team<br>Digi<br>Jammer<br>\",\"TYR<br>Boys'<br>Team<br>Digi<br>Jammer<br>\",\"TYR<br>Boys'<br>Team<br>Digi<br>Jammer<br>\",\"TaylorMade<br>2014<br>Purelite<br>Stand<br>Bag<br>\",\"TaylorMade<br>2014<br>Purelite<br>Stand<br>Bag<br>\",\"TaylorMade<br>2014<br>Purelite<br>Stand<br>Bag<br>\",\"TaylorMade<br>2014<br>Purelite<br>Stand<br>Bag<br>\",\"TaylorMade<br>2014<br>Purelite<br>Stand<br>Bag<br>\",\"TaylorMade<br>2014<br>Purelite<br>Stand<br>Bag<br>\",\"TaylorMade<br>2014<br>Purelite<br>Stand<br>Bag<br>\",\"TaylorMade<br>2014<br>Purelite<br>Stand<br>Bag<br>\",\"TaylorMade<br>White<br>Smoke<br>IN-12<br>Putter<br>\",\"TaylorMade<br>White<br>Smoke<br>IN-12<br>Putter<br>\",\"TaylorMade<br>White<br>Smoke<br>IN-12<br>Putter<br>\",\"TaylorMade<br>White<br>Smoke<br>IN-12<br>Putter<br>\",\"TaylorMade<br>White<br>Smoke<br>IN-12<br>Putter<br>\",\"TaylorMade<br>White<br>Smoke<br>IN-12<br>Putter<br>\",\"TaylorMade<br>White<br>Smoke<br>IN-12<br>Putter<br>\",\"TaylorMade<br>Women's<br>RBZ<br>SL<br>Rescue<br>\",\"TaylorMade<br>Women's<br>RBZ<br>SL<br>Rescue<br>\",\"TaylorMade<br>Women's<br>RBZ<br>SL<br>Rescue<br>\",\"TaylorMade<br>Women's<br>RBZ<br>SL<br>Rescue<br>\",\"TaylorMade<br>Women's<br>RBZ<br>SL<br>Rescue<br>\",\"TaylorMade<br>Women's<br>RBZ<br>SL<br>Rescue<br>\",\"TaylorMade<br>Women's<br>RBZ<br>SL<br>Rescue<br>\",\"TaylorMade<br>Women's<br>RBZ<br>SL<br>Rescue<br>\",\"Team<br>Golf<br>New<br>England<br>Patriots<br>Putter<br>Grip<br>\",\"Team<br>Golf<br>New<br>England<br>Patriots<br>Putter<br>Grip<br>\",\"Team<br>Golf<br>New<br>England<br>Patriots<br>Putter<br>Grip<br>\",\"Team<br>Golf<br>New<br>England<br>Patriots<br>Putter<br>Grip<br>\",\"Team<br>Golf<br>New<br>England<br>Patriots<br>Putter<br>Grip<br>\",\"Team<br>Golf<br>New<br>England<br>Patriots<br>Putter<br>Grip<br>\",\"Team<br>Golf<br>New<br>England<br>Patriots<br>Putter<br>Grip<br>\",\"Team<br>Golf<br>New<br>England<br>Patriots<br>Putter<br>Grip<br>\",\"Team<br>Golf<br>New<br>England<br>Patriots<br>Putter<br>Grip<br>\",\"Team<br>Golf<br>New<br>England<br>Patriots<br>Putter<br>Grip<br>\",\"Team<br>Golf<br>Pittsburgh<br>Steelers<br>Putter<br>Grip<br>\",\"Team<br>Golf<br>Pittsburgh<br>Steelers<br>Putter<br>Grip<br>\",\"Team<br>Golf<br>Pittsburgh<br>Steelers<br>Putter<br>Grip<br>\",\"Team<br>Golf<br>Pittsburgh<br>Steelers<br>Putter<br>Grip<br>\",\"Team<br>Golf<br>Pittsburgh<br>Steelers<br>Putter<br>Grip<br>\",\"Team<br>Golf<br>Pittsburgh<br>Steelers<br>Putter<br>Grip<br>\",\"Team<br>Golf<br>Pittsburgh<br>Steelers<br>Putter<br>Grip<br>\",\"Team<br>Golf<br>Pittsburgh<br>Steelers<br>Putter<br>Grip<br>\",\"Team<br>Golf<br>Pittsburgh<br>Steelers<br>Putter<br>Grip<br>\",\"Team<br>Golf<br>Pittsburgh<br>Steelers<br>Putter<br>Grip<br>\",\"Team<br>Golf<br>San<br>Francisco<br>Giants<br>Putter<br>Grip<br>\",\"Team<br>Golf<br>San<br>Francisco<br>Giants<br>Putter<br>Grip<br>\",\"Team<br>Golf<br>San<br>Francisco<br>Giants<br>Putter<br>Grip<br>\",\"Team<br>Golf<br>San<br>Francisco<br>Giants<br>Putter<br>Grip<br>\",\"Team<br>Golf<br>San<br>Francisco<br>Giants<br>Putter<br>Grip<br>\",\"Team<br>Golf<br>San<br>Francisco<br>Giants<br>Putter<br>Grip<br>\",\"Team<br>Golf<br>San<br>Francisco<br>Giants<br>Putter<br>Grip<br>\",\"Team<br>Golf<br>San<br>Francisco<br>Giants<br>Putter<br>Grip<br>\",\"Team<br>Golf<br>San<br>Francisco<br>Giants<br>Putter<br>Grip<br>\",\"Team<br>Golf<br>San<br>Francisco<br>Giants<br>Putter<br>Grip<br>\",\"Team<br>Golf<br>St.<br>Louis<br>Cardinals<br>Putter<br>Grip<br>\",\"Team<br>Golf<br>St.<br>Louis<br>Cardinals<br>Putter<br>Grip<br>\",\"Team<br>Golf<br>St.<br>Louis<br>Cardinals<br>Putter<br>Grip<br>\",\"Team<br>Golf<br>St.<br>Louis<br>Cardinals<br>Putter<br>Grip<br>\",\"Team<br>Golf<br>St.<br>Louis<br>Cardinals<br>Putter<br>Grip<br>\",\"Team<br>Golf<br>St.<br>Louis<br>Cardinals<br>Putter<br>Grip<br>\",\"Team<br>Golf<br>St.<br>Louis<br>Cardinals<br>Putter<br>Grip<br>\",\"Team<br>Golf<br>St.<br>Louis<br>Cardinals<br>Putter<br>Grip<br>\",\"Team<br>Golf<br>St.<br>Louis<br>Cardinals<br>Putter<br>Grip<br>\",\"Team<br>Golf<br>St.<br>Louis<br>Cardinals<br>Putter<br>Grip<br>\",\"Team<br>Golf<br>Tennessee<br>Volunteers<br>Putter<br>Grip<br>\",\"Team<br>Golf<br>Tennessee<br>Volunteers<br>Putter<br>Grip<br>\",\"Team<br>Golf<br>Tennessee<br>Volunteers<br>Putter<br>Grip<br>\",\"Team<br>Golf<br>Tennessee<br>Volunteers<br>Putter<br>Grip<br>\",\"Team<br>Golf<br>Tennessee<br>Volunteers<br>Putter<br>Grip<br>\",\"Team<br>Golf<br>Tennessee<br>Volunteers<br>Putter<br>Grip<br>\",\"Team<br>Golf<br>Tennessee<br>Volunteers<br>Putter<br>Grip<br>\",\"Team<br>Golf<br>Tennessee<br>Volunteers<br>Putter<br>Grip<br>\",\"Team<br>Golf<br>Tennessee<br>Volunteers<br>Putter<br>Grip<br>\",\"Team<br>Golf<br>Tennessee<br>Volunteers<br>Putter<br>Grip<br>\",\"Team<br>Golf<br>Texas<br>Longhorns<br>Putter<br>Grip<br>\",\"Team<br>Golf<br>Texas<br>Longhorns<br>Putter<br>Grip<br>\",\"Team<br>Golf<br>Texas<br>Longhorns<br>Putter<br>Grip<br>\",\"Team<br>Golf<br>Texas<br>Longhorns<br>Putter<br>Grip<br>\",\"Team<br>Golf<br>Texas<br>Longhorns<br>Putter<br>Grip<br>\",\"Team<br>Golf<br>Texas<br>Longhorns<br>Putter<br>Grip<br>\",\"Team<br>Golf<br>Texas<br>Longhorns<br>Putter<br>Grip<br>\",\"Team<br>Golf<br>Texas<br>Longhorns<br>Putter<br>Grip<br>\",\"Team<br>Golf<br>Texas<br>Longhorns<br>Putter<br>Grip<br>\",\"Team<br>Golf<br>Texas<br>Longhorns<br>Putter<br>Grip<br>\",\"The<br>North<br>Face<br>Women's<br>Recon<br>Backpack<br>\",\"The<br>North<br>Face<br>Women's<br>Recon<br>Backpack<br>\",\"The<br>North<br>Face<br>Women's<br>Recon<br>Backpack<br>\",\"The<br>North<br>Face<br>Women's<br>Recon<br>Backpack<br>\",\"The<br>North<br>Face<br>Women's<br>Recon<br>Backpack<br>\",\"The<br>North<br>Face<br>Women's<br>Recon<br>Backpack<br>\",\"The<br>North<br>Face<br>Women's<br>Recon<br>Backpack<br>\",\"Titleist<br>Club<br>Glove<br>Travel<br>Cover<br>\",\"Titleist<br>Club<br>Glove<br>Travel<br>Cover<br>\",\"Titleist<br>Club<br>Glove<br>Travel<br>Cover<br>\",\"Titleist<br>Club<br>Glove<br>Travel<br>Cover<br>\",\"Titleist<br>Pro<br>V1<br>High<br>Numbers<br>Personalized<br>Gol<br>\",\"Titleist<br>Pro<br>V1<br>High<br>Numbers<br>Personalized<br>Gol<br>\",\"Titleist<br>Pro<br>V1<br>High<br>Numbers<br>Personalized<br>Gol<br>\",\"Titleist<br>Pro<br>V1<br>High<br>Numbers<br>Personalized<br>Gol<br>\",\"Titleist<br>Pro<br>V1<br>High<br>Numbers<br>Personalized<br>Gol<br>\",\"Titleist<br>Pro<br>V1<br>High<br>Numbers<br>Personalized<br>Gol<br>\",\"Titleist<br>Pro<br>V1<br>High<br>Numbers<br>Personalized<br>Gol<br>\",\"Titleist<br>Pro<br>V1<br>High<br>Numbers<br>Personalized<br>Gol<br>\",\"Titleist<br>Pro<br>V1<br>High<br>Numbers<br>Personalized<br>Gol<br>\",\"Titleist<br>Pro<br>V1<br>High<br>Numbers<br>Personalized<br>Gol<br>\",\"Titleist<br>Pro<br>V1x<br>Golf<br>Balls<br>\",\"Titleist<br>Pro<br>V1x<br>Golf<br>Balls<br>\",\"Titleist<br>Pro<br>V1x<br>Golf<br>Balls<br>\",\"Titleist<br>Pro<br>V1x<br>Golf<br>Balls<br>\",\"Titleist<br>Pro<br>V1x<br>Golf<br>Balls<br>\",\"Titleist<br>Pro<br>V1x<br>Golf<br>Balls<br>\",\"Titleist<br>Pro<br>V1x<br>Golf<br>Balls<br>\",\"Titleist<br>Pro<br>V1x<br>Golf<br>Balls<br>\",\"Titleist<br>Pro<br>V1x<br>Golf<br>Balls<br>\",\"Titleist<br>Pro<br>V1x<br>Golf<br>Balls<br>\",\"Titleist<br>Pro<br>V1x<br>High<br>Numbers<br>Golf<br>Balls<br>\",\"Titleist<br>Pro<br>V1x<br>High<br>Numbers<br>Golf<br>Balls<br>\",\"Titleist<br>Pro<br>V1x<br>High<br>Numbers<br>Golf<br>Balls<br>\",\"Titleist<br>Pro<br>V1x<br>High<br>Numbers<br>Golf<br>Balls<br>\",\"Titleist<br>Pro<br>V1x<br>High<br>Numbers<br>Golf<br>Balls<br>\",\"Titleist<br>Pro<br>V1x<br>High<br>Numbers<br>Golf<br>Balls<br>\",\"Titleist<br>Pro<br>V1x<br>High<br>Numbers<br>Golf<br>Balls<br>\",\"Titleist<br>Pro<br>V1x<br>High<br>Numbers<br>Golf<br>Balls<br>\",\"Titleist<br>Pro<br>V1x<br>High<br>Numbers<br>Golf<br>Balls<br>\",\"Titleist<br>Pro<br>V1x<br>High<br>Numbers<br>Golf<br>Balls<br>\",\"Titleist<br>Pro<br>V1x<br>High<br>Numbers<br>Personalized<br>Go<br>\",\"Titleist<br>Pro<br>V1x<br>High<br>Numbers<br>Personalized<br>Go<br>\",\"Titleist<br>Pro<br>V1x<br>High<br>Numbers<br>Personalized<br>Go<br>\",\"Titleist<br>Pro<br>V1x<br>High<br>Numbers<br>Personalized<br>Go<br>\",\"Titleist<br>Pro<br>V1x<br>High<br>Numbers<br>Personalized<br>Go<br>\",\"Titleist<br>Pro<br>V1x<br>High<br>Numbers<br>Personalized<br>Go<br>\",\"Titleist<br>Pro<br>V1x<br>High<br>Numbers<br>Personalized<br>Go<br>\",\"Titleist<br>Pro<br>V1x<br>High<br>Numbers<br>Personalized<br>Go<br>\",\"Titleist<br>Pro<br>V1x<br>High<br>Numbers<br>Personalized<br>Go<br>\",\"Titleist<br>Pro<br>V1x<br>High<br>Numbers<br>Personalized<br>Go<br>\",\"Titleist<br>Small<br>Wheeled<br>Travel<br>Cover<br>\",\"Titleist<br>Small<br>Wheeled<br>Travel<br>Cover<br>\",\"Titleist<br>Small<br>Wheeled<br>Travel<br>Cover<br>\",\"Titleist<br>Small<br>Wheeled<br>Travel<br>Cover<br>\",\"Titleist<br>Small<br>Wheeled<br>Travel<br>Cover<br>\",\"Titleist<br>Small<br>Wheeled<br>Travel<br>Cover<br>\",\"Titleist<br>Small<br>Wheeled<br>Travel<br>Cover<br>\",\"Top<br>Flite<br>Women's<br>2014<br>XL<br>Hybrid<br>\",\"Top<br>Flite<br>Women's<br>2014<br>XL<br>Hybrid<br>\",\"Top<br>Flite<br>Women's<br>2014<br>XL<br>Hybrid<br>\",\"Top<br>Flite<br>Women's<br>2014<br>XL<br>Hybrid<br>\",\"Top<br>Flite<br>Women's<br>2014<br>XL<br>Hybrid<br>\",\"Top<br>Flite<br>Women's<br>2014<br>XL<br>Hybrid<br>\",\"Top<br>Flite<br>Women's<br>2014<br>XL<br>Hybrid<br>\",\"Top<br>Flite<br>Women's<br>2014<br>XL<br>Hybrid<br>\",\"Top<br>Flite<br>Women's<br>2014<br>XL<br>Hybrid<br>\",\"Top<br>Flite<br>Women's<br>2014<br>XL<br>Hybrid<br>\",\"Total<br>Gym<br>1400<br>\",\"Total<br>Gym<br>1400<br>\",\"Total<br>Gym<br>1400<br>\",\"Under<br>Armour<br>Girls'<br>Toddler<br>Spine<br>Surge<br>Runni<br>\",\"Under<br>Armour<br>Girls'<br>Toddler<br>Spine<br>Surge<br>Runni<br>\",\"Under<br>Armour<br>Girls'<br>Toddler<br>Spine<br>Surge<br>Runni<br>\",\"Under<br>Armour<br>Girls'<br>Toddler<br>Spine<br>Surge<br>Runni<br>\",\"Under<br>Armour<br>Girls'<br>Toddler<br>Spine<br>Surge<br>Runni<br>\",\"Under<br>Armour<br>Girls'<br>Toddler<br>Spine<br>Surge<br>Runni<br>\",\"Under<br>Armour<br>Girls'<br>Toddler<br>Spine<br>Surge<br>Runni<br>\",\"Under<br>Armour<br>Girls'<br>Toddler<br>Spine<br>Surge<br>Runni<br>\",\"Under<br>Armour<br>Girls'<br>Toddler<br>Spine<br>Surge<br>Runni<br>\",\"Under<br>Armour<br>Girls'<br>Toddler<br>Spine<br>Surge<br>Runni<br>\",\"Under<br>Armour<br>Hustle<br>Storm<br>Medium<br>Duffle<br>Bag<br>\",\"Under<br>Armour<br>Hustle<br>Storm<br>Medium<br>Duffle<br>Bag<br>\",\"Under<br>Armour<br>Hustle<br>Storm<br>Medium<br>Duffle<br>Bag<br>\",\"Under<br>Armour<br>Hustle<br>Storm<br>Medium<br>Duffle<br>Bag<br>\",\"Under<br>Armour<br>Hustle<br>Storm<br>Medium<br>Duffle<br>Bag<br>\",\"Under<br>Armour<br>Hustle<br>Storm<br>Medium<br>Duffle<br>Bag<br>\",\"Under<br>Armour<br>Hustle<br>Storm<br>Medium<br>Duffle<br>Bag<br>\",\"Under<br>Armour<br>Hustle<br>Storm<br>Medium<br>Duffle<br>Bag<br>\",\"Under<br>Armour<br>Hustle<br>Storm<br>Medium<br>Duffle<br>Bag<br>\",\"Under<br>Armour<br>Hustle<br>Storm<br>Medium<br>Duffle<br>Bag<br>\",\"Under<br>Armour<br>Kids'<br>Mercenary<br>Slide<br>\",\"Under<br>Armour<br>Kids'<br>Mercenary<br>Slide<br>\",\"Under<br>Armour<br>Kids'<br>Mercenary<br>Slide<br>\",\"Under<br>Armour<br>Kids'<br>Mercenary<br>Slide<br>\",\"Under<br>Armour<br>Kids'<br>Mercenary<br>Slide<br>\",\"Under<br>Armour<br>Kids'<br>Mercenary<br>Slide<br>\",\"Under<br>Armour<br>Kids'<br>Mercenary<br>Slide<br>\",\"Under<br>Armour<br>Kids'<br>Mercenary<br>Slide<br>\",\"Under<br>Armour<br>Kids'<br>Mercenary<br>Slide<br>\",\"Under<br>Armour<br>Kids'<br>Mercenary<br>Slide<br>\",\"Under<br>Armour<br>Men's<br>Compression<br>EV<br>SL<br>Slide<br>\",\"Under<br>Armour<br>Men's<br>Compression<br>EV<br>SL<br>Slide<br>\",\"Under<br>Armour<br>Men's<br>Compression<br>EV<br>SL<br>Slide<br>\",\"Under<br>Armour<br>Men's<br>Compression<br>EV<br>SL<br>Slide<br>\",\"Under<br>Armour<br>Men's<br>Compression<br>EV<br>SL<br>Slide<br>\",\"Under<br>Armour<br>Men's<br>Compression<br>EV<br>SL<br>Slide<br>\",\"Under<br>Armour<br>Men's<br>Compression<br>EV<br>SL<br>Slide<br>\",\"Under<br>Armour<br>Men's<br>Compression<br>EV<br>SL<br>Slide<br>\",\"Under<br>Armour<br>Men's<br>Compression<br>EV<br>SL<br>Slide<br>\",\"Under<br>Armour<br>Men's<br>Compression<br>EV<br>SL<br>Slide<br>\",\"Under<br>Armour<br>Men's<br>Tech<br>II<br>T-Shirt<br>\",\"Under<br>Armour<br>Men's<br>Tech<br>II<br>T-Shirt<br>\",\"Under<br>Armour<br>Men's<br>Tech<br>II<br>T-Shirt<br>\",\"Under<br>Armour<br>Men's<br>Tech<br>II<br>T-Shirt<br>\",\"Under<br>Armour<br>Men's<br>Tech<br>II<br>T-Shirt<br>\",\"Under<br>Armour<br>Men's<br>Tech<br>II<br>T-Shirt<br>\",\"Under<br>Armour<br>Men's<br>Tech<br>II<br>T-Shirt<br>\",\"Under<br>Armour<br>Men's<br>Tech<br>II<br>T-Shirt<br>\",\"Under<br>Armour<br>Men's<br>Tech<br>II<br>T-Shirt<br>\",\"Under<br>Armour<br>Men's<br>Tech<br>II<br>T-Shirt<br>\",\"Under<br>Armour<br>Women's<br>Ignite<br>PIP<br>VI<br>Slide<br>\",\"Under<br>Armour<br>Women's<br>Ignite<br>PIP<br>VI<br>Slide<br>\",\"Under<br>Armour<br>Women's<br>Ignite<br>PIP<br>VI<br>Slide<br>\",\"Under<br>Armour<br>Women's<br>Ignite<br>PIP<br>VI<br>Slide<br>\",\"Under<br>Armour<br>Women's<br>Ignite<br>PIP<br>VI<br>Slide<br>\",\"Under<br>Armour<br>Women's<br>Ignite<br>PIP<br>VI<br>Slide<br>\",\"Under<br>Armour<br>Women's<br>Ignite<br>PIP<br>VI<br>Slide<br>\",\"Under<br>Armour<br>Women's<br>Ignite<br>PIP<br>VI<br>Slide<br>\",\"Under<br>Armour<br>Women's<br>Ignite<br>PIP<br>VI<br>Slide<br>\",\"Under<br>Armour<br>Women's<br>Ignite<br>PIP<br>VI<br>Slide<br>\",\"Under<br>Armour<br>Women's<br>Ignite<br>Slide<br>\",\"Under<br>Armour<br>Women's<br>Ignite<br>Slide<br>\",\"Under<br>Armour<br>Women's<br>Ignite<br>Slide<br>\",\"Under<br>Armour<br>Women's<br>Ignite<br>Slide<br>\",\"Under<br>Armour<br>Women's<br>Ignite<br>Slide<br>\",\"Under<br>Armour<br>Women's<br>Ignite<br>Slide<br>\",\"Under<br>Armour<br>Women's<br>Ignite<br>Slide<br>\",\"Under<br>Armour<br>Women's<br>Ignite<br>Slide<br>\",\"Under<br>Armour<br>Women's<br>Ignite<br>Slide<br>\",\"Under<br>Armour<br>Women's<br>Ignite<br>Slide<br>\",\"Under<br>Armour<br>Women's<br>Micro<br>G<br>Skulpt<br>Running<br>S<br>\",\"Under<br>Armour<br>Women's<br>Micro<br>G<br>Skulpt<br>Running<br>S<br>\",\"Under<br>Armour<br>Women's<br>Micro<br>G<br>Skulpt<br>Running<br>S<br>\",\"Under<br>Armour<br>Women's<br>Micro<br>G<br>Skulpt<br>Running<br>S<br>\",\"Under<br>Armour<br>Women's<br>Micro<br>G<br>Skulpt<br>Running<br>S<br>\",\"Under<br>Armour<br>Women's<br>Micro<br>G<br>Skulpt<br>Running<br>S<br>\",\"Under<br>Armour<br>Women's<br>Micro<br>G<br>Skulpt<br>Running<br>S<br>\",\"Under<br>Armour<br>Women's<br>Micro<br>G<br>Skulpt<br>Running<br>S<br>\",\"Under<br>Armour<br>Women's<br>Micro<br>G<br>Skulpt<br>Running<br>S<br>\",\"Under<br>Armour<br>Women's<br>Micro<br>G<br>Skulpt<br>Running<br>S<br>\",\"Yakima<br>DoubleDown<br>Ace<br>Hitch<br>Mount<br>4-Bike<br>Rack<br>\",\"Yakima<br>DoubleDown<br>Ace<br>Hitch<br>Mount<br>4-Bike<br>Rack<br>\",\"Yakima<br>DoubleDown<br>Ace<br>Hitch<br>Mount<br>4-Bike<br>Rack<br>\",\"Yakima<br>DoubleDown<br>Ace<br>Hitch<br>Mount<br>4-Bike<br>Rack<br>\",\"Yakima<br>DoubleDown<br>Ace<br>Hitch<br>Mount<br>4-Bike<br>Rack<br>\",\"Yakima<br>DoubleDown<br>Ace<br>Hitch<br>Mount<br>4-Bike<br>Rack<br>\",\"Yakima<br>DoubleDown<br>Ace<br>Hitch<br>Mount<br>4-Bike<br>Rack<br>\",\"Yakima<br>DoubleDown<br>Ace<br>Hitch<br>Mount<br>4-Bike<br>Rack<br>\",\"adidas<br>Brazuca<br>2014<br>Official<br>Match<br>Ball<br>\",\"adidas<br>Brazuca<br>2014<br>Official<br>Match<br>Ball<br>\",\"adidas<br>Brazuca<br>2014<br>Official<br>Match<br>Ball<br>\",\"adidas<br>Brazuca<br>2014<br>Official<br>Match<br>Ball<br>\",\"adidas<br>Brazuca<br>2014<br>Official<br>Match<br>Ball<br>\",\"adidas<br>Brazuca<br>2014<br>Official<br>Match<br>Ball<br>\",\"adidas<br>Brazuca<br>2014<br>Official<br>Match<br>Ball<br>\",\"adidas<br>Brazuca<br>2014<br>Official<br>Match<br>Ball<br>\",\"adidas<br>Kids'<br>F5<br>Messi<br>FG<br>Soccer<br>Cleat<br>\",\"adidas<br>Kids'<br>F5<br>Messi<br>FG<br>Soccer<br>Cleat<br>\",\"adidas<br>Kids'<br>F5<br>Messi<br>FG<br>Soccer<br>Cleat<br>\",\"adidas<br>Kids'<br>F5<br>Messi<br>FG<br>Soccer<br>Cleat<br>\",\"adidas<br>Kids'<br>F5<br>Messi<br>FG<br>Soccer<br>Cleat<br>\",\"adidas<br>Kids'<br>F5<br>Messi<br>FG<br>Soccer<br>Cleat<br>\",\"adidas<br>Kids'<br>F5<br>Messi<br>FG<br>Soccer<br>Cleat<br>\",\"adidas<br>Kids'<br>F5<br>Messi<br>FG<br>Soccer<br>Cleat<br>\",\"adidas<br>Kids'<br>F5<br>Messi<br>FG<br>Soccer<br>Cleat<br>\",\"adidas<br>Kids'<br>F5<br>Messi<br>FG<br>Soccer<br>Cleat<br>\",\"adidas<br>Men's<br>F10<br>Messi<br>TRX<br>FG<br>Soccer<br>Cleat<br>\",\"adidas<br>Men's<br>F10<br>Messi<br>TRX<br>FG<br>Soccer<br>Cleat<br>\",\"adidas<br>Men's<br>F10<br>Messi<br>TRX<br>FG<br>Soccer<br>Cleat<br>\",\"adidas<br>Men's<br>F10<br>Messi<br>TRX<br>FG<br>Soccer<br>Cleat<br>\",\"adidas<br>Men's<br>F10<br>Messi<br>TRX<br>FG<br>Soccer<br>Cleat<br>\",\"adidas<br>Men's<br>F10<br>Messi<br>TRX<br>FG<br>Soccer<br>Cleat<br>\",\"adidas<br>Men's<br>F10<br>Messi<br>TRX<br>FG<br>Soccer<br>Cleat<br>\",\"adidas<br>Men's<br>F10<br>Messi<br>TRX<br>FG<br>Soccer<br>Cleat<br>\",\"adidas<br>Men's<br>F10<br>Messi<br>TRX<br>FG<br>Soccer<br>Cleat<br>\",\"adidas<br>Men's<br>F10<br>Messi<br>TRX<br>FG<br>Soccer<br>Cleat<br>\",\"adidas<br>Men's<br>Germany<br>Black<br>Crest<br>Away<br>Tee<br>\",\"adidas<br>Men's<br>Germany<br>Black<br>Crest<br>Away<br>Tee<br>\",\"adidas<br>Men's<br>Germany<br>Black<br>Crest<br>Away<br>Tee<br>\",\"adidas<br>Men's<br>Germany<br>Black<br>Crest<br>Away<br>Tee<br>\",\"adidas<br>Men's<br>Germany<br>Black<br>Crest<br>Away<br>Tee<br>\",\"adidas<br>Men's<br>Germany<br>Black<br>Crest<br>Away<br>Tee<br>\",\"adidas<br>Men's<br>Germany<br>Black<br>Crest<br>Away<br>Tee<br>\",\"adidas<br>Men's<br>Germany<br>Black<br>Crest<br>Away<br>Tee<br>\",\"adidas<br>Men's<br>Germany<br>Black<br>Crest<br>Away<br>Tee<br>\",\"adidas<br>Men's<br>Germany<br>Black<br>Crest<br>Away<br>Tee<br>\",\"adidas<br>Youth<br>Germany<br>Black/Red<br>Away<br>Match<br>Soc<br>\",\"adidas<br>Youth<br>Germany<br>Black/Red<br>Away<br>Match<br>Soc<br>\",\"adidas<br>Youth<br>Germany<br>Black/Red<br>Away<br>Match<br>Soc<br>\",\"adidas<br>Youth<br>Germany<br>Black/Red<br>Away<br>Match<br>Soc<br>\",\"adidas<br>Youth<br>Germany<br>Black/Red<br>Away<br>Match<br>Soc<br>\",\"adidas<br>Youth<br>Germany<br>Black/Red<br>Away<br>Match<br>Soc<br>\",\"adidas<br>Youth<br>Germany<br>Black/Red<br>Away<br>Match<br>Soc<br>\",\"adidas<br>Youth<br>Germany<br>Black/Red<br>Away<br>Match<br>Soc<br>\",\"adidas<br>Youth<br>Germany<br>Black/Red<br>Away<br>Match<br>Soc<br>\",\"adidas<br>Youth<br>Germany<br>Black/Red<br>Away<br>Match<br>Soc<br>\",\"insta-bed<br>Neverflat<br>Air<br>Mattress<br>\",\"insta-bed<br>Neverflat<br>Air<br>Mattress<br>\",\"insta-bed<br>Neverflat<br>Air<br>Mattress<br>\",\"insta-bed<br>Neverflat<br>Air<br>Mattress<br>\",\"insta-bed<br>Neverflat<br>Air<br>Mattress<br>\",\"insta-bed<br>Neverflat<br>Air<br>Mattress<br>\",\"insta-bed<br>Neverflat<br>Air<br>Mattress<br>\",\"Apparel\",\"Apparel\",\"Apparel\",\"Apparel\",\"Apparel\",\"Apparel\",\"Apparel\",\"Apparel\",\"Apparel\",\"Apparel\",\"Fan Shop\",\"Fan Shop\",\"Fan Shop\",\"Fan Shop\",\"Fan Shop\",\"Fan Shop\",\"Fan Shop\",\"Fan Shop\",\"Fan Shop\",\"Fan Shop\",\"Fitness\",\"Fitness\",\"Fitness\",\"Fitness\",\"Fitness\",\"Fitness\",\"Fitness\",\"Fitness\",\"Fitness\",\"Fitness\",\"Footwear\",\"Footwear\",\"Footwear\",\"Footwear\",\"Footwear\",\"Footwear\",\"Footwear\",\"Footwear\",\"Footwear\",\"Footwear\",\"Golf\",\"Golf\",\"Golf\",\"Golf\",\"Golf\",\"Golf\",\"Golf\",\"Golf\",\"Golf\",\"Golf\",\"Outdoors\",\"Outdoors\",\"Outdoors\",\"Outdoors\",\"Outdoors\",\"Outdoors\",\"Outdoors\",\"Outdoors\",\"Outdoors\",\"Outdoors\",\"Bargain Customers\",\"Big Spenders\",\"Lost Customers - Bargain\",\"Lost Customers - Big Spenders\",\"Lost/Almost Lost Customers - Loyal\",\"Loyal Customers\",\"New Customers\",\"Occasional Customers- Big Spenders\",\"Occasional Customers-Bargain\",\"Unsatisfied Customers\",\"Bargain\",\"Big spenders\",\"Loyal\",\"New Customers\",\"Unsatisfied\",\"All\"],\"name\":\"\",\"parents\":[\"All/Bargain/Bargain Customers/Outdoors\",\"All/Big spenders/Big Spenders/Outdoors\",\"All/Bargain/Lost Customers - Bargain/Outdoors\",\"All/Big spenders/Lost Customers - Big Spenders/Outdoors\",\"All/Loyal/Lost/Almost Lost Customers - Loyal/Outdoors\",\"All/Loyal/Loyal Customers/Outdoors\",\"All/New Customers/New Customers/Outdoors\",\"All/Big spenders/Occasional Customers- Big Spenders/Outdoors\",\"All/Bargain/Occasional Customers-Bargain/Outdoors\",\"All/Unsatisfied/Unsatisfied Customers/Outdoors\",\"All/Bargain/Bargain Customers/Outdoors\",\"All/Big spenders/Big Spenders/Outdoors\",\"All/Loyal/Lost/Almost Lost Customers - Loyal/Outdoors\",\"All/Loyal/Loyal Customers/Outdoors\",\"All/New Customers/New Customers/Outdoors\",\"All/Big spenders/Occasional Customers- Big Spenders/Outdoors\",\"All/Bargain/Occasional Customers-Bargain/Outdoors\",\"All/Unsatisfied/Unsatisfied Customers/Outdoors\",\"All/Bargain/Bargain Customers/Footwear\",\"All/Big spenders/Big Spenders/Footwear\",\"All/New Customers/New Customers/Footwear\",\"All/Bargain/Bargain Customers/Outdoors\",\"All/Big spenders/Big Spenders/Outdoors\",\"All/Bargain/Lost Customers - Bargain/Outdoors\",\"All/Big spenders/Lost Customers - Big Spenders/Outdoors\",\"All/Loyal/Lost/Almost Lost Customers - Loyal/Outdoors\",\"All/Loyal/Loyal Customers/Outdoors\",\"All/New Customers/New Customers/Outdoors\",\"All/Big spenders/Occasional Customers- Big Spenders/Outdoors\",\"All/Bargain/Occasional Customers-Bargain/Outdoors\",\"All/Unsatisfied/Unsatisfied Customers/Outdoors\",\"All/Bargain/Bargain Customers/Outdoors\",\"All/Big spenders/Big Spenders/Outdoors\",\"All/Bargain/Lost Customers - Bargain/Outdoors\",\"All/Big spenders/Lost Customers - Big Spenders/Outdoors\",\"All/Loyal/Lost/Almost Lost Customers - Loyal/Outdoors\",\"All/Loyal/Loyal Customers/Outdoors\",\"All/New Customers/New Customers/Outdoors\",\"All/Big spenders/Occasional Customers- Big Spenders/Outdoors\",\"All/Bargain/Occasional Customers-Bargain/Outdoors\",\"All/Unsatisfied/Unsatisfied Customers/Outdoors\",\"All/Bargain/Bargain Customers/Outdoors\",\"All/Big spenders/Big Spenders/Outdoors\",\"All/Bargain/Lost Customers - Bargain/Outdoors\",\"All/Big spenders/Lost Customers - Big Spenders/Outdoors\",\"All/Loyal/Lost/Almost Lost Customers - Loyal/Outdoors\",\"All/Loyal/Loyal Customers/Outdoors\",\"All/New Customers/New Customers/Outdoors\",\"All/Big spenders/Occasional Customers- Big Spenders/Outdoors\",\"All/Bargain/Occasional Customers-Bargain/Outdoors\",\"All/Unsatisfied/Unsatisfied Customers/Outdoors\",\"All/Bargain/Bargain Customers/Footwear\",\"All/Big spenders/Big Spenders/Footwear\",\"All/Loyal/Lost/Almost Lost Customers - Loyal/Footwear\",\"All/Loyal/Loyal Customers/Footwear\",\"All/New Customers/New Customers/Footwear\",\"All/Big spenders/Occasional Customers- Big Spenders/Footwear\",\"All/Bargain/Occasional Customers-Bargain/Footwear\",\"All/Unsatisfied/Unsatisfied Customers/Footwear\",\"All/Bargain/Bargain Customers/Outdoors\",\"All/Big spenders/Big Spenders/Outdoors\",\"All/New Customers/New Customers/Outdoors\",\"All/Bargain/Bargain Customers/Outdoors\",\"All/Big spenders/Big Spenders/Outdoors\",\"All/Loyal/Loyal Customers/Outdoors\",\"All/New Customers/New Customers/Outdoors\",\"All/Big spenders/Occasional Customers- Big Spenders/Outdoors\",\"All/Bargain/Occasional Customers-Bargain/Outdoors\",\"All/Unsatisfied/Unsatisfied Customers/Outdoors\",\"All/Bargain/Bargain Customers/Outdoors\",\"All/Big spenders/Big Spenders/Outdoors\",\"All/Loyal/Lost/Almost Lost Customers - Loyal/Outdoors\",\"All/Loyal/Loyal Customers/Outdoors\",\"All/New Customers/New Customers/Outdoors\",\"All/Big spenders/Occasional Customers- Big Spenders/Outdoors\",\"All/Bargain/Occasional Customers-Bargain/Outdoors\",\"All/Unsatisfied/Unsatisfied Customers/Outdoors\",\"All/Bargain/Bargain Customers/Outdoors\",\"All/Big spenders/Big Spenders/Outdoors\",\"All/Bargain/Lost Customers - Bargain/Outdoors\",\"All/Big spenders/Lost Customers - Big Spenders/Outdoors\",\"All/Loyal/Lost/Almost Lost Customers - Loyal/Outdoors\",\"All/Loyal/Loyal Customers/Outdoors\",\"All/New Customers/New Customers/Outdoors\",\"All/Big spenders/Occasional Customers- Big Spenders/Outdoors\",\"All/Bargain/Occasional Customers-Bargain/Outdoors\",\"All/Unsatisfied/Unsatisfied Customers/Outdoors\",\"All/Bargain/Bargain Customers/Outdoors\",\"All/Big spenders/Big Spenders/Outdoors\",\"All/Bargain/Lost Customers - Bargain/Outdoors\",\"All/Big spenders/Lost Customers - Big Spenders/Outdoors\",\"All/Loyal/Lost/Almost Lost Customers - Loyal/Outdoors\",\"All/Loyal/Loyal Customers/Outdoors\",\"All/New Customers/New Customers/Outdoors\",\"All/Big spenders/Occasional Customers- Big Spenders/Outdoors\",\"All/Bargain/Occasional Customers-Bargain/Outdoors\",\"All/Unsatisfied/Unsatisfied Customers/Outdoors\",\"All/Bargain/Bargain Customers/Golf\",\"All/Big spenders/Big Spenders/Golf\",\"All/Bargain/Lost Customers - Bargain/Golf\",\"All/Big spenders/Lost Customers - Big Spenders/Golf\",\"All/Loyal/Lost/Almost Lost Customers - Loyal/Golf\",\"All/Loyal/Loyal Customers/Golf\",\"All/New Customers/New Customers/Golf\",\"All/Big spenders/Occasional Customers- Big Spenders/Golf\",\"All/Bargain/Occasional Customers-Bargain/Golf\",\"All/Unsatisfied/Unsatisfied Customers/Golf\",\"All/Bargain/Bargain Customers/Fitness\",\"All/Big spenders/Big Spenders/Fitness\",\"All/New Customers/New Customers/Fitness\",\"All/Bargain/Bargain Customers/Fitness\",\"All/Big spenders/Big Spenders/Fitness\",\"All/Loyal/Loyal Customers/Fitness\",\"All/New Customers/New Customers/Fitness\",\"All/Bargain/Bargain Customers/Fan Shop\",\"All/Big spenders/Big Spenders/Fan Shop\",\"All/Bargain/Lost Customers - Bargain/Fan Shop\",\"All/Big spenders/Lost Customers - Big Spenders/Fan Shop\",\"All/Loyal/Lost/Almost Lost Customers - Loyal/Fan Shop\",\"All/Loyal/Loyal Customers/Fan Shop\",\"All/New Customers/New Customers/Fan Shop\",\"All/Big spenders/Occasional Customers- Big Spenders/Fan Shop\",\"All/Bargain/Occasional Customers-Bargain/Fan Shop\",\"All/Unsatisfied/Unsatisfied Customers/Fan Shop\",\"All/Bargain/Bargain Customers/Fan Shop\",\"All/Big spenders/Big Spenders/Fan Shop\",\"All/Bargain/Lost Customers - Bargain/Fan Shop\",\"All/Big spenders/Lost Customers - Big Spenders/Fan Shop\",\"All/Loyal/Lost/Almost Lost Customers - Loyal/Fan Shop\",\"All/Loyal/Loyal Customers/Fan Shop\",\"All/New Customers/New Customers/Fan Shop\",\"All/Big spenders/Occasional Customers- Big Spenders/Fan Shop\",\"All/Bargain/Occasional Customers-Bargain/Fan Shop\",\"All/Unsatisfied/Unsatisfied Customers/Fan Shop\",\"All/Bargain/Bargain Customers/Fitness\",\"All/Big spenders/Big Spenders/Fitness\",\"All/Loyal/Loyal Customers/Fitness\",\"All/New Customers/New Customers/Fitness\",\"All/Big spenders/Occasional Customers- Big Spenders/Fitness\",\"All/Bargain/Occasional Customers-Bargain/Fitness\",\"All/Unsatisfied/Unsatisfied Customers/Fitness\",\"All/Bargain/Bargain Customers/Fan Shop\",\"All/Big spenders/Big Spenders/Fan Shop\",\"All/Bargain/Lost Customers - Bargain/Fan Shop\",\"All/Big spenders/Lost Customers - Big Spenders/Fan Shop\",\"All/Loyal/Lost/Almost Lost Customers - Loyal/Fan Shop\",\"All/Loyal/Loyal Customers/Fan Shop\",\"All/New Customers/New Customers/Fan Shop\",\"All/Big spenders/Occasional Customers- Big Spenders/Fan Shop\",\"All/Bargain/Occasional Customers-Bargain/Fan Shop\",\"All/Unsatisfied/Unsatisfied Customers/Fan Shop\",\"All/Bargain/Bargain Customers/Outdoors\",\"All/Big spenders/Big Spenders/Outdoors\",\"All/Loyal/Lost/Almost Lost Customers - Loyal/Outdoors\",\"All/Loyal/Loyal Customers/Outdoors\",\"All/New Customers/New Customers/Outdoors\",\"All/Big spenders/Occasional Customers- Big Spenders/Outdoors\",\"All/Bargain/Occasional Customers-Bargain/Outdoors\",\"All/Unsatisfied/Unsatisfied Customers/Outdoors\",\"All/Bargain/Bargain Customers/Outdoors\",\"All/Big spenders/Big Spenders/Outdoors\",\"All/Loyal/Lost/Almost Lost Customers - Loyal/Outdoors\",\"All/Loyal/Loyal Customers/Outdoors\",\"All/New Customers/New Customers/Outdoors\",\"All/Big spenders/Occasional Customers- Big Spenders/Outdoors\",\"All/Bargain/Occasional Customers-Bargain/Outdoors\",\"All/Unsatisfied/Unsatisfied Customers/Outdoors\",\"All/Bargain/Bargain Customers/Outdoors\",\"All/Big spenders/Big Spenders/Outdoors\",\"All/Loyal/Loyal Customers/Outdoors\",\"All/New Customers/New Customers/Outdoors\",\"All/Bargain/Bargain Customers/Outdoors\",\"All/Big spenders/Big Spenders/Outdoors\",\"All/Loyal/Loyal Customers/Outdoors\",\"All/New Customers/New Customers/Outdoors\",\"All/Bargain/Bargain Customers/Outdoors\",\"All/Big spenders/Big Spenders/Outdoors\",\"All/Bargain/Lost Customers - Bargain/Outdoors\",\"All/Big spenders/Lost Customers - Big Spenders/Outdoors\",\"All/Loyal/Lost/Almost Lost Customers - Loyal/Outdoors\",\"All/Loyal/Loyal Customers/Outdoors\",\"All/New Customers/New Customers/Outdoors\",\"All/Big spenders/Occasional Customers- Big Spenders/Outdoors\",\"All/Bargain/Occasional Customers-Bargain/Outdoors\",\"All/Unsatisfied/Unsatisfied Customers/Outdoors\",\"All/Bargain/Bargain Customers/Outdoors\",\"All/Big spenders/Big Spenders/Outdoors\",\"All/Bargain/Lost Customers - Bargain/Outdoors\",\"All/Big spenders/Lost Customers - Big Spenders/Outdoors\",\"All/Loyal/Lost/Almost Lost Customers - Loyal/Outdoors\",\"All/Loyal/Loyal Customers/Outdoors\",\"All/New Customers/New Customers/Outdoors\",\"All/Big spenders/Occasional Customers- Big Spenders/Outdoors\",\"All/Bargain/Occasional Customers-Bargain/Outdoors\",\"All/Unsatisfied/Unsatisfied Customers/Outdoors\",\"All/Bargain/Bargain Customers/Outdoors\",\"All/Big spenders/Big Spenders/Outdoors\",\"All/Bargain/Lost Customers - Bargain/Outdoors\",\"All/Big spenders/Lost Customers - Big Spenders/Outdoors\",\"All/Loyal/Lost/Almost Lost Customers - Loyal/Outdoors\",\"All/Loyal/Loyal Customers/Outdoors\",\"All/New Customers/New Customers/Outdoors\",\"All/Big spenders/Occasional Customers- Big Spenders/Outdoors\",\"All/Bargain/Occasional Customers-Bargain/Outdoors\",\"All/Unsatisfied/Unsatisfied Customers/Outdoors\",\"All/Bargain/Bargain Customers/Outdoors\",\"All/Big spenders/Big Spenders/Outdoors\",\"All/Bargain/Lost Customers - Bargain/Outdoors\",\"All/Big spenders/Lost Customers - Big Spenders/Outdoors\",\"All/Loyal/Lost/Almost Lost Customers - Loyal/Outdoors\",\"All/Loyal/Loyal Customers/Outdoors\",\"All/New Customers/New Customers/Outdoors\",\"All/Big spenders/Occasional Customers- Big Spenders/Outdoors\",\"All/Bargain/Occasional Customers-Bargain/Outdoors\",\"All/Unsatisfied/Unsatisfied Customers/Outdoors\",\"All/Bargain/Bargain Customers/Outdoors\",\"All/Big spenders/Big Spenders/Outdoors\",\"All/Bargain/Lost Customers - Bargain/Outdoors\",\"All/Big spenders/Lost Customers - Big Spenders/Outdoors\",\"All/Loyal/Lost/Almost Lost Customers - Loyal/Outdoors\",\"All/Loyal/Loyal Customers/Outdoors\",\"All/New Customers/New Customers/Outdoors\",\"All/Big spenders/Occasional Customers- Big Spenders/Outdoors\",\"All/Bargain/Occasional Customers-Bargain/Outdoors\",\"All/Unsatisfied/Unsatisfied Customers/Outdoors\",\"All/Bargain/Bargain Customers/Footwear\",\"All/Big spenders/Big Spenders/Footwear\",\"All/New Customers/New Customers/Footwear\",\"All/Bargain/Bargain Customers/Outdoors\",\"All/Big spenders/Big Spenders/Outdoors\",\"All/Loyal/Lost/Almost Lost Customers - Loyal/Outdoors\",\"All/Loyal/Loyal Customers/Outdoors\",\"All/New Customers/New Customers/Outdoors\",\"All/Big spenders/Occasional Customers- Big Spenders/Outdoors\",\"All/Bargain/Occasional Customers-Bargain/Outdoors\",\"All/Unsatisfied/Unsatisfied Customers/Outdoors\",\"All/Bargain/Bargain Customers/Outdoors\",\"All/Big spenders/Big Spenders/Outdoors\",\"All/Bargain/Lost Customers - Bargain/Outdoors\",\"All/Big spenders/Lost Customers - Big Spenders/Outdoors\",\"All/Loyal/Lost/Almost Lost Customers - Loyal/Outdoors\",\"All/Loyal/Loyal Customers/Outdoors\",\"All/New Customers/New Customers/Outdoors\",\"All/Big spenders/Occasional Customers- Big Spenders/Outdoors\",\"All/Bargain/Occasional Customers-Bargain/Outdoors\",\"All/Unsatisfied/Unsatisfied Customers/Outdoors\",\"All/Bargain/Bargain Customers/Outdoors\",\"All/Big spenders/Big Spenders/Outdoors\",\"All/Bargain/Lost Customers - Bargain/Outdoors\",\"All/Big spenders/Lost Customers - Big Spenders/Outdoors\",\"All/Loyal/Lost/Almost Lost Customers - Loyal/Outdoors\",\"All/Loyal/Loyal Customers/Outdoors\",\"All/New Customers/New Customers/Outdoors\",\"All/Big spenders/Occasional Customers- Big Spenders/Outdoors\",\"All/Bargain/Occasional Customers-Bargain/Outdoors\",\"All/Unsatisfied/Unsatisfied Customers/Outdoors\",\"All/Bargain/Bargain Customers/Outdoors\",\"All/Big spenders/Big Spenders/Outdoors\",\"All/Bargain/Lost Customers - Bargain/Outdoors\",\"All/Big spenders/Lost Customers - Big Spenders/Outdoors\",\"All/Loyal/Lost/Almost Lost Customers - Loyal/Outdoors\",\"All/Loyal/Loyal Customers/Outdoors\",\"All/New Customers/New Customers/Outdoors\",\"All/Big spenders/Occasional Customers- Big Spenders/Outdoors\",\"All/Bargain/Occasional Customers-Bargain/Outdoors\",\"All/Unsatisfied/Unsatisfied Customers/Outdoors\",\"All/Bargain/Bargain Customers/Outdoors\",\"All/Big spenders/Big Spenders/Outdoors\",\"All/Loyal/Lost/Almost Lost Customers - Loyal/Outdoors\",\"All/Loyal/Loyal Customers/Outdoors\",\"All/New Customers/New Customers/Outdoors\",\"All/Big spenders/Occasional Customers- Big Spenders/Outdoors\",\"All/Bargain/Occasional Customers-Bargain/Outdoors\",\"All/Unsatisfied/Unsatisfied Customers/Outdoors\",\"All/Bargain/Bargain Customers/Outdoors\",\"All/Big spenders/Big Spenders/Outdoors\",\"All/Loyal/Lost/Almost Lost Customers - Loyal/Outdoors\",\"All/Loyal/Loyal Customers/Outdoors\",\"All/New Customers/New Customers/Outdoors\",\"All/Big spenders/Occasional Customers- Big Spenders/Outdoors\",\"All/Bargain/Occasional Customers-Bargain/Outdoors\",\"All/Unsatisfied/Unsatisfied Customers/Outdoors\",\"All/Bargain/Bargain Customers/Outdoors\",\"All/Big spenders/Big Spenders/Outdoors\",\"All/Bargain/Lost Customers - Bargain/Outdoors\",\"All/Big spenders/Lost Customers - Big Spenders/Outdoors\",\"All/Loyal/Lost/Almost Lost Customers - Loyal/Outdoors\",\"All/Loyal/Loyal Customers/Outdoors\",\"All/New Customers/New Customers/Outdoors\",\"All/Big spenders/Occasional Customers- Big Spenders/Outdoors\",\"All/Bargain/Occasional Customers-Bargain/Outdoors\",\"All/Unsatisfied/Unsatisfied Customers/Outdoors\",\"All/Bargain/Bargain Customers/Outdoors\",\"All/Big spenders/Big Spenders/Outdoors\",\"All/Loyal/Lost/Almost Lost Customers - Loyal/Outdoors\",\"All/Loyal/Loyal Customers/Outdoors\",\"All/New Customers/New Customers/Outdoors\",\"All/Big spenders/Occasional Customers- Big Spenders/Outdoors\",\"All/Bargain/Occasional Customers-Bargain/Outdoors\",\"All/Unsatisfied/Unsatisfied Customers/Outdoors\",\"All/Bargain/Bargain Customers/Outdoors\",\"All/Big spenders/Big Spenders/Outdoors\",\"All/Loyal/Lost/Almost Lost Customers - Loyal/Outdoors\",\"All/Loyal/Loyal Customers/Outdoors\",\"All/New Customers/New Customers/Outdoors\",\"All/Big spenders/Occasional Customers- Big Spenders/Outdoors\",\"All/Bargain/Occasional Customers-Bargain/Outdoors\",\"All/Unsatisfied/Unsatisfied Customers/Outdoors\",\"All/Bargain/Bargain Customers/Outdoors\",\"All/Big spenders/Big Spenders/Outdoors\",\"All/Loyal/Lost/Almost Lost Customers - Loyal/Outdoors\",\"All/Loyal/Loyal Customers/Outdoors\",\"All/New Customers/New Customers/Outdoors\",\"All/Big spenders/Occasional Customers- Big Spenders/Outdoors\",\"All/Bargain/Occasional Customers-Bargain/Outdoors\",\"All/Unsatisfied/Unsatisfied Customers/Outdoors\",\"All/Bargain/Bargain Customers/Outdoors\",\"All/Big spenders/Big Spenders/Outdoors\",\"All/Loyal/Lost/Almost Lost Customers - Loyal/Outdoors\",\"All/Loyal/Loyal Customers/Outdoors\",\"All/New Customers/New Customers/Outdoors\",\"All/Big spenders/Occasional Customers- Big Spenders/Outdoors\",\"All/Bargain/Occasional Customers-Bargain/Outdoors\",\"All/Unsatisfied/Unsatisfied Customers/Outdoors\",\"All/Bargain/Bargain Customers/Outdoors\",\"All/Big spenders/Big Spenders/Outdoors\",\"All/Loyal/Lost/Almost Lost Customers - Loyal/Outdoors\",\"All/New Customers/New Customers/Outdoors\",\"All/Big spenders/Occasional Customers- Big Spenders/Outdoors\",\"All/Bargain/Occasional Customers-Bargain/Outdoors\",\"All/Unsatisfied/Unsatisfied Customers/Outdoors\",\"All/Bargain/Bargain Customers/Outdoors\",\"All/Big spenders/Big Spenders/Outdoors\",\"All/Loyal/Lost/Almost Lost Customers - Loyal/Outdoors\",\"All/Loyal/Loyal Customers/Outdoors\",\"All/New Customers/New Customers/Outdoors\",\"All/Big spenders/Occasional Customers- Big Spenders/Outdoors\",\"All/Bargain/Occasional Customers-Bargain/Outdoors\",\"All/Unsatisfied/Unsatisfied Customers/Outdoors\",\"All/Bargain/Bargain Customers/Outdoors\",\"All/Big spenders/Big Spenders/Outdoors\",\"All/Loyal/Lost/Almost Lost Customers - Loyal/Outdoors\",\"All/Loyal/Loyal Customers/Outdoors\",\"All/New Customers/New Customers/Outdoors\",\"All/Big spenders/Occasional Customers- Big Spenders/Outdoors\",\"All/Bargain/Occasional Customers-Bargain/Outdoors\",\"All/Unsatisfied/Unsatisfied Customers/Outdoors\",\"All/Bargain/Bargain Customers/Fitness\",\"All/Big spenders/Big Spenders/Fitness\",\"All/Bargain/Lost Customers - Bargain/Fitness\",\"All/Big spenders/Lost Customers - Big Spenders/Fitness\",\"All/Loyal/Lost/Almost Lost Customers - Loyal/Fitness\",\"All/Loyal/Loyal Customers/Fitness\",\"All/New Customers/New Customers/Fitness\",\"All/Big spenders/Occasional Customers- Big Spenders/Fitness\",\"All/Bargain/Occasional Customers-Bargain/Fitness\",\"All/Unsatisfied/Unsatisfied Customers/Fitness\",\"All/Bargain/Bargain Customers/Fitness\",\"All/Big spenders/Big Spenders/Fitness\",\"All/Loyal/Lost/Almost Lost Customers - Loyal/Fitness\",\"All/Loyal/Loyal Customers/Fitness\",\"All/New Customers/New Customers/Fitness\",\"All/Big spenders/Occasional Customers- Big Spenders/Fitness\",\"All/Bargain/Occasional Customers-Bargain/Fitness\",\"All/Unsatisfied/Unsatisfied Customers/Fitness\",\"All/Bargain/Bargain Customers/Apparel\",\"All/Big spenders/Big Spenders/Apparel\",\"All/Bargain/Lost Customers - Bargain/Apparel\",\"All/Big spenders/Lost Customers - Big Spenders/Apparel\",\"All/Loyal/Lost/Almost Lost Customers - Loyal/Apparel\",\"All/Loyal/Loyal Customers/Apparel\",\"All/New Customers/New Customers/Apparel\",\"All/Big spenders/Occasional Customers- Big Spenders/Apparel\",\"All/Bargain/Occasional Customers-Bargain/Apparel\",\"All/Unsatisfied/Unsatisfied Customers/Apparel\",\"All/Bargain/Bargain Customers/Fitness\",\"All/Big spenders/Big Spenders/Fitness\",\"All/Bargain/Lost Customers - Bargain/Fitness\",\"All/Big spenders/Lost Customers - Big Spenders/Fitness\",\"All/Loyal/Lost/Almost Lost Customers - Loyal/Fitness\",\"All/Loyal/Loyal Customers/Fitness\",\"All/New Customers/New Customers/Fitness\",\"All/Big spenders/Occasional Customers- Big Spenders/Fitness\",\"All/Bargain/Occasional Customers-Bargain/Fitness\",\"All/Unsatisfied/Unsatisfied Customers/Fitness\",\"All/Bargain/Bargain Customers/Golf\",\"All/Big spenders/Big Spenders/Golf\",\"All/Bargain/Lost Customers - Bargain/Golf\",\"All/Big spenders/Lost Customers - Big Spenders/Golf\",\"All/Loyal/Lost/Almost Lost Customers - Loyal/Golf\",\"All/Loyal/Loyal Customers/Golf\",\"All/New Customers/New Customers/Golf\",\"All/Big spenders/Occasional Customers- Big Spenders/Golf\",\"All/Bargain/Occasional Customers-Bargain/Golf\",\"All/Unsatisfied/Unsatisfied Customers/Golf\",\"All/Bargain/Bargain Customers/Golf\",\"All/Big spenders/Big Spenders/Golf\",\"All/Bargain/Lost Customers - Bargain/Golf\",\"All/Big spenders/Lost Customers - Big Spenders/Golf\",\"All/Loyal/Lost/Almost Lost Customers - Loyal/Golf\",\"All/Loyal/Loyal Customers/Golf\",\"All/New Customers/New Customers/Golf\",\"All/Big spenders/Occasional Customers- Big Spenders/Golf\",\"All/Bargain/Occasional Customers-Bargain/Golf\",\"All/Unsatisfied/Unsatisfied Customers/Golf\",\"All/Bargain/Bargain Customers/Fitness\",\"All/Big spenders/Big Spenders/Fitness\",\"All/Loyal/Lost/Almost Lost Customers - Loyal/Fitness\",\"All/Loyal/Loyal Customers/Fitness\",\"All/New Customers/New Customers/Fitness\",\"All/Big spenders/Occasional Customers- Big Spenders/Fitness\",\"All/Bargain/Occasional Customers-Bargain/Fitness\",\"All/Unsatisfied/Unsatisfied Customers/Fitness\",\"All/Bargain/Bargain Customers/Footwear\",\"All/Big spenders/Big Spenders/Footwear\",\"All/Bargain/Lost Customers - Bargain/Footwear\",\"All/Big spenders/Lost Customers - Big Spenders/Footwear\",\"All/Loyal/Lost/Almost Lost Customers - Loyal/Footwear\",\"All/Loyal/Loyal Customers/Footwear\",\"All/New Customers/New Customers/Footwear\",\"All/Big spenders/Occasional Customers- Big Spenders/Footwear\",\"All/Bargain/Occasional Customers-Bargain/Footwear\",\"All/Unsatisfied/Unsatisfied Customers/Footwear\",\"All/Bargain/Bargain Customers/Footwear\",\"All/Big spenders/Big Spenders/Footwear\",\"All/Loyal/Loyal Customers/Footwear\",\"All/New Customers/New Customers/Footwear\",\"All/Big spenders/Occasional Customers- Big Spenders/Footwear\",\"All/Bargain/Occasional Customers-Bargain/Footwear\",\"All/Unsatisfied/Unsatisfied Customers/Footwear\",\"All/Bargain/Bargain Customers/Golf\",\"All/Big spenders/Big Spenders/Golf\",\"All/Loyal/Lost/Almost Lost Customers - Loyal/Golf\",\"All/Loyal/Loyal Customers/Golf\",\"All/New Customers/New Customers/Golf\",\"All/Big spenders/Occasional Customers- Big Spenders/Golf\",\"All/Bargain/Occasional Customers-Bargain/Golf\",\"All/Unsatisfied/Unsatisfied Customers/Golf\",\"All/Bargain/Bargain Customers/Footwear\",\"All/Big spenders/Big Spenders/Footwear\",\"All/Loyal/Lost/Almost Lost Customers - Loyal/Footwear\",\"All/Loyal/Loyal Customers/Footwear\",\"All/New Customers/New Customers/Footwear\",\"All/Big spenders/Occasional Customers- Big Spenders/Footwear\",\"All/Bargain/Occasional Customers-Bargain/Footwear\",\"All/Unsatisfied/Unsatisfied Customers/Footwear\",\"All/Bargain/Bargain Customers/Fitness\",\"All/Big spenders/Big Spenders/Fitness\",\"All/Bargain/Lost Customers - Bargain/Fitness\",\"All/Big spenders/Lost Customers - Big Spenders/Fitness\",\"All/Loyal/Lost/Almost Lost Customers - Loyal/Fitness\",\"All/Loyal/Loyal Customers/Fitness\",\"All/New Customers/New Customers/Fitness\",\"All/Big spenders/Occasional Customers- Big Spenders/Fitness\",\"All/Bargain/Occasional Customers-Bargain/Fitness\",\"All/Unsatisfied/Unsatisfied Customers/Fitness\",\"All/Bargain/Bargain Customers/Footwear\",\"All/Big spenders/Big Spenders/Footwear\",\"All/Bargain/Lost Customers - Bargain/Footwear\",\"All/Big spenders/Lost Customers - Big Spenders/Footwear\",\"All/Loyal/Lost/Almost Lost Customers - Loyal/Footwear\",\"All/Loyal/Loyal Customers/Footwear\",\"All/New Customers/New Customers/Footwear\",\"All/Big spenders/Occasional Customers- Big Spenders/Footwear\",\"All/Bargain/Occasional Customers-Bargain/Footwear\",\"All/Unsatisfied/Unsatisfied Customers/Footwear\",\"All/Bargain/Bargain Customers/Fan Shop\",\"All/Big spenders/Big Spenders/Fan Shop\",\"All/Bargain/Lost Customers - Bargain/Fan Shop\",\"All/Big spenders/Lost Customers - Big Spenders/Fan Shop\",\"All/Loyal/Lost/Almost Lost Customers - Loyal/Fan Shop\",\"All/Loyal/Loyal Customers/Fan Shop\",\"All/New Customers/New Customers/Fan Shop\",\"All/Big spenders/Occasional Customers- Big Spenders/Fan Shop\",\"All/Bargain/Occasional Customers-Bargain/Fan Shop\",\"All/Unsatisfied/Unsatisfied Customers/Fan Shop\",\"All/Bargain/Bargain Customers/Outdoors\",\"All/Big spenders/Big Spenders/Outdoors\",\"All/Loyal/Loyal Customers/Outdoors\",\"All/New Customers/New Customers/Outdoors\",\"All/Big spenders/Occasional Customers- Big Spenders/Outdoors\",\"All/Bargain/Occasional Customers-Bargain/Outdoors\",\"All/Unsatisfied/Unsatisfied Customers/Outdoors\",\"All/Bargain/Bargain Customers/Fan Shop\",\"All/Big spenders/Big Spenders/Fan Shop\",\"All/New Customers/New Customers/Fan Shop\",\"All/Bargain/Bargain Customers/Fan Shop\",\"All/Big spenders/Big Spenders/Fan Shop\",\"All/Bargain/Lost Customers - Bargain/Fan Shop\",\"All/Big spenders/Lost Customers - Big Spenders/Fan Shop\",\"All/Loyal/Lost/Almost Lost Customers - Loyal/Fan Shop\",\"All/Loyal/Loyal Customers/Fan Shop\",\"All/New Customers/New Customers/Fan Shop\",\"All/Big spenders/Occasional Customers- Big Spenders/Fan Shop\",\"All/Bargain/Occasional Customers-Bargain/Fan Shop\",\"All/Unsatisfied/Unsatisfied Customers/Fan Shop\",\"All/Bargain/Bargain Customers/Apparel\",\"All/Big spenders/Big Spenders/Apparel\",\"All/Bargain/Lost Customers - Bargain/Apparel\",\"All/Big spenders/Lost Customers - Big Spenders/Apparel\",\"All/Loyal/Lost/Almost Lost Customers - Loyal/Apparel\",\"All/Loyal/Loyal Customers/Apparel\",\"All/New Customers/New Customers/Apparel\",\"All/Big spenders/Occasional Customers- Big Spenders/Apparel\",\"All/Bargain/Occasional Customers-Bargain/Apparel\",\"All/Unsatisfied/Unsatisfied Customers/Apparel\",\"All/Bargain/Bargain Customers/Outdoors\",\"All/Big spenders/Big Spenders/Outdoors\",\"All/Loyal/Loyal Customers/Outdoors\",\"All/New Customers/New Customers/Outdoors\",\"All/Big spenders/Occasional Customers- Big Spenders/Outdoors\",\"All/Bargain/Occasional Customers-Bargain/Outdoors\",\"All/Unsatisfied/Unsatisfied Customers/Outdoors\",\"All/Bargain/Bargain Customers/Outdoors\",\"All/Big spenders/Big Spenders/Outdoors\",\"All/Loyal/Loyal Customers/Outdoors\",\"All/New Customers/New Customers/Outdoors\",\"All/Big spenders/Occasional Customers- Big Spenders/Outdoors\",\"All/Bargain/Occasional Customers-Bargain/Outdoors\",\"All/Bargain/Bargain Customers/Fitness\",\"All/Big spenders/Big Spenders/Fitness\",\"All/New Customers/New Customers/Fitness\",\"All/Big spenders/Big Spenders/Footwear\",\"All/Bargain/Bargain Customers/Fitness\",\"All/Big spenders/Big Spenders/Fitness\",\"All/Loyal/Loyal Customers/Fitness\",\"All/New Customers/New Customers/Fitness\",\"All/Bargain/Bargain Customers/Golf\",\"All/Big spenders/Big Spenders/Golf\",\"All/Bargain/Lost Customers - Bargain/Golf\",\"All/Big spenders/Lost Customers - Big Spenders/Golf\",\"All/Loyal/Lost/Almost Lost Customers - Loyal/Golf\",\"All/Loyal/Loyal Customers/Golf\",\"All/New Customers/New Customers/Golf\",\"All/Big spenders/Occasional Customers- Big Spenders/Golf\",\"All/Bargain/Occasional Customers-Bargain/Golf\",\"All/Unsatisfied/Unsatisfied Customers/Golf\",\"All/Bargain/Bargain Customers/Outdoors\",\"All/Big spenders/Big Spenders/Outdoors\",\"All/Loyal/Lost/Almost Lost Customers - Loyal/Outdoors\",\"All/Loyal/Loyal Customers/Outdoors\",\"All/New Customers/New Customers/Outdoors\",\"All/Big spenders/Occasional Customers- Big Spenders/Outdoors\",\"All/Bargain/Occasional Customers-Bargain/Outdoors\",\"All/Unsatisfied/Unsatisfied Customers/Outdoors\",\"All/Bargain/Bargain Customers/Outdoors\",\"All/Big spenders/Big Spenders/Outdoors\",\"All/Loyal/Loyal Customers/Outdoors\",\"All/New Customers/New Customers/Outdoors\",\"All/Big spenders/Occasional Customers- Big Spenders/Outdoors\",\"All/Bargain/Occasional Customers-Bargain/Outdoors\",\"All/Unsatisfied/Unsatisfied Customers/Outdoors\",\"All/Bargain/Bargain Customers/Outdoors\",\"All/Big spenders/Big Spenders/Outdoors\",\"All/Loyal/Lost/Almost Lost Customers - Loyal/Outdoors\",\"All/Loyal/Loyal Customers/Outdoors\",\"All/New Customers/New Customers/Outdoors\",\"All/Big spenders/Occasional Customers- Big Spenders/Outdoors\",\"All/Bargain/Occasional Customers-Bargain/Outdoors\",\"All/Unsatisfied/Unsatisfied Customers/Outdoors\",\"All/Bargain/Bargain Customers/Outdoors\",\"All/Big spenders/Big Spenders/Outdoors\",\"All/Bargain/Lost Customers - Bargain/Outdoors\",\"All/Big spenders/Lost Customers - Big Spenders/Outdoors\",\"All/Loyal/Lost/Almost Lost Customers - Loyal/Outdoors\",\"All/Loyal/Loyal Customers/Outdoors\",\"All/New Customers/New Customers/Outdoors\",\"All/Big spenders/Occasional Customers- Big Spenders/Outdoors\",\"All/Bargain/Occasional Customers-Bargain/Outdoors\",\"All/Unsatisfied/Unsatisfied Customers/Outdoors\",\"All/Bargain/Bargain Customers/Outdoors\",\"All/Big spenders/Big Spenders/Outdoors\",\"All/Bargain/Lost Customers - Bargain/Outdoors\",\"All/Big spenders/Lost Customers - Big Spenders/Outdoors\",\"All/Loyal/Lost/Almost Lost Customers - Loyal/Outdoors\",\"All/Loyal/Loyal Customers/Outdoors\",\"All/New Customers/New Customers/Outdoors\",\"All/Big spenders/Occasional Customers- Big Spenders/Outdoors\",\"All/Bargain/Occasional Customers-Bargain/Outdoors\",\"All/Unsatisfied/Unsatisfied Customers/Outdoors\",\"All/Bargain/Bargain Customers/Outdoors\",\"All/Big spenders/Big Spenders/Outdoors\",\"All/Bargain/Lost Customers - Bargain/Outdoors\",\"All/Big spenders/Lost Customers - Big Spenders/Outdoors\",\"All/Loyal/Lost/Almost Lost Customers - Loyal/Outdoors\",\"All/Loyal/Loyal Customers/Outdoors\",\"All/New Customers/New Customers/Outdoors\",\"All/Big spenders/Occasional Customers- Big Spenders/Outdoors\",\"All/Bargain/Occasional Customers-Bargain/Outdoors\",\"All/Unsatisfied/Unsatisfied Customers/Outdoors\",\"All/Bargain/Bargain Customers/Outdoors\",\"All/Big spenders/Big Spenders/Outdoors\",\"All/Bargain/Lost Customers - Bargain/Outdoors\",\"All/Big spenders/Lost Customers - Big Spenders/Outdoors\",\"All/Loyal/Lost/Almost Lost Customers - Loyal/Outdoors\",\"All/Loyal/Loyal Customers/Outdoors\",\"All/New Customers/New Customers/Outdoors\",\"All/Big spenders/Occasional Customers- Big Spenders/Outdoors\",\"All/Bargain/Occasional Customers-Bargain/Outdoors\",\"All/Unsatisfied/Unsatisfied Customers/Outdoors\",\"All/Bargain/Bargain Customers/Outdoors\",\"All/Big spenders/Big Spenders/Outdoors\",\"All/Bargain/Lost Customers - Bargain/Outdoors\",\"All/Big spenders/Lost Customers - Big Spenders/Outdoors\",\"All/Loyal/Lost/Almost Lost Customers - Loyal/Outdoors\",\"All/Loyal/Loyal Customers/Outdoors\",\"All/New Customers/New Customers/Outdoors\",\"All/Big spenders/Occasional Customers- Big Spenders/Outdoors\",\"All/Bargain/Occasional Customers-Bargain/Outdoors\",\"All/Unsatisfied/Unsatisfied Customers/Outdoors\",\"All/Bargain/Bargain Customers/Outdoors\",\"All/Big spenders/Big Spenders/Outdoors\",\"All/Bargain/Lost Customers - Bargain/Outdoors\",\"All/Big spenders/Lost Customers - Big Spenders/Outdoors\",\"All/Loyal/Lost/Almost Lost Customers - Loyal/Outdoors\",\"All/Loyal/Loyal Customers/Outdoors\",\"All/New Customers/New Customers/Outdoors\",\"All/Big spenders/Occasional Customers- Big Spenders/Outdoors\",\"All/Bargain/Occasional Customers-Bargain/Outdoors\",\"All/Unsatisfied/Unsatisfied Customers/Outdoors\",\"All/Bargain/Bargain Customers/Fan Shop\",\"All/Big spenders/Big Spenders/Fan Shop\",\"All/Loyal/Loyal Customers/Fan Shop\",\"All/New Customers/New Customers/Fan Shop\",\"All/Big spenders/Occasional Customers- Big Spenders/Fan Shop\",\"All/Bargain/Occasional Customers-Bargain/Fan Shop\",\"All/Unsatisfied/Unsatisfied Customers/Fan Shop\",\"All/Bargain/Bargain Customers/Outdoors\",\"All/Big spenders/Big Spenders/Outdoors\",\"All/Loyal/Loyal Customers/Outdoors\",\"All/New Customers/New Customers/Outdoors\",\"All/Bargain/Bargain Customers/Outdoors\",\"All/Big spenders/Big Spenders/Outdoors\",\"All/Bargain/Lost Customers - Bargain/Outdoors\",\"All/Big spenders/Lost Customers - Big Spenders/Outdoors\",\"All/Loyal/Lost/Almost Lost Customers - Loyal/Outdoors\",\"All/Loyal/Loyal Customers/Outdoors\",\"All/New Customers/New Customers/Outdoors\",\"All/Big spenders/Occasional Customers- Big Spenders/Outdoors\",\"All/Bargain/Occasional Customers-Bargain/Outdoors\",\"All/Unsatisfied/Unsatisfied Customers/Outdoors\",\"All/Bargain/Bargain Customers/Outdoors\",\"All/Big spenders/Big Spenders/Outdoors\",\"All/Bargain/Lost Customers - Bargain/Outdoors\",\"All/Big spenders/Lost Customers - Big Spenders/Outdoors\",\"All/Loyal/Lost/Almost Lost Customers - Loyal/Outdoors\",\"All/Loyal/Loyal Customers/Outdoors\",\"All/New Customers/New Customers/Outdoors\",\"All/Big spenders/Occasional Customers- Big Spenders/Outdoors\",\"All/Bargain/Occasional Customers-Bargain/Outdoors\",\"All/Unsatisfied/Unsatisfied Customers/Outdoors\",\"All/Bargain/Bargain Customers/Outdoors\",\"All/Big spenders/Big Spenders/Outdoors\",\"All/Bargain/Lost Customers - Bargain/Outdoors\",\"All/Big spenders/Lost Customers - Big Spenders/Outdoors\",\"All/Loyal/Lost/Almost Lost Customers - Loyal/Outdoors\",\"All/Loyal/Loyal Customers/Outdoors\",\"All/New Customers/New Customers/Outdoors\",\"All/Big spenders/Occasional Customers- Big Spenders/Outdoors\",\"All/Bargain/Occasional Customers-Bargain/Outdoors\",\"All/Unsatisfied/Unsatisfied Customers/Outdoors\",\"All/Bargain/Bargain Customers/Outdoors\",\"All/Big spenders/Big Spenders/Outdoors\",\"All/Bargain/Lost Customers - Bargain/Outdoors\",\"All/Big spenders/Lost Customers - Big Spenders/Outdoors\",\"All/Loyal/Lost/Almost Lost Customers - Loyal/Outdoors\",\"All/Loyal/Loyal Customers/Outdoors\",\"All/New Customers/New Customers/Outdoors\",\"All/Big spenders/Occasional Customers- Big Spenders/Outdoors\",\"All/Bargain/Occasional Customers-Bargain/Outdoors\",\"All/Unsatisfied/Unsatisfied Customers/Outdoors\",\"All/Bargain/Bargain Customers/Outdoors\",\"All/Big spenders/Big Spenders/Outdoors\",\"All/Loyal/Loyal Customers/Outdoors\",\"All/New Customers/New Customers/Outdoors\",\"All/Big spenders/Occasional Customers- Big Spenders/Outdoors\",\"All/Bargain/Occasional Customers-Bargain/Outdoors\",\"All/Unsatisfied/Unsatisfied Customers/Outdoors\",\"All/Bargain/Bargain Customers/Outdoors\",\"All/Big spenders/Big Spenders/Outdoors\",\"All/Bargain/Lost Customers - Bargain/Outdoors\",\"All/Big spenders/Lost Customers - Big Spenders/Outdoors\",\"All/Loyal/Lost/Almost Lost Customers - Loyal/Outdoors\",\"All/Loyal/Loyal Customers/Outdoors\",\"All/New Customers/New Customers/Outdoors\",\"All/Big spenders/Occasional Customers- Big Spenders/Outdoors\",\"All/Bargain/Occasional Customers-Bargain/Outdoors\",\"All/Unsatisfied/Unsatisfied Customers/Outdoors\",\"All/Bargain/Bargain Customers/Apparel\",\"All/Big spenders/Big Spenders/Apparel\",\"All/New Customers/New Customers/Apparel\",\"All/Bargain/Bargain Customers/Golf\",\"All/Big spenders/Big Spenders/Golf\",\"All/Bargain/Lost Customers - Bargain/Golf\",\"All/Big spenders/Lost Customers - Big Spenders/Golf\",\"All/Loyal/Lost/Almost Lost Customers - Loyal/Golf\",\"All/Loyal/Loyal Customers/Golf\",\"All/New Customers/New Customers/Golf\",\"All/Big spenders/Occasional Customers- Big Spenders/Golf\",\"All/Bargain/Occasional Customers-Bargain/Golf\",\"All/Unsatisfied/Unsatisfied Customers/Golf\",\"All/Bargain/Bargain Customers/Footwear\",\"All/Big spenders/Big Spenders/Footwear\",\"All/Bargain/Lost Customers - Bargain/Footwear\",\"All/Big spenders/Lost Customers - Big Spenders/Footwear\",\"All/Loyal/Lost/Almost Lost Customers - Loyal/Footwear\",\"All/Loyal/Loyal Customers/Footwear\",\"All/New Customers/New Customers/Footwear\",\"All/Big spenders/Occasional Customers- Big Spenders/Footwear\",\"All/Bargain/Occasional Customers-Bargain/Footwear\",\"All/Unsatisfied/Unsatisfied Customers/Footwear\",\"All/Bargain/Bargain Customers/Footwear\",\"All/Big spenders/Big Spenders/Footwear\",\"All/Bargain/Lost Customers - Bargain/Footwear\",\"All/Big spenders/Lost Customers - Big Spenders/Footwear\",\"All/Loyal/Lost/Almost Lost Customers - Loyal/Footwear\",\"All/Loyal/Loyal Customers/Footwear\",\"All/New Customers/New Customers/Footwear\",\"All/Big spenders/Occasional Customers- Big Spenders/Footwear\",\"All/Bargain/Occasional Customers-Bargain/Footwear\",\"All/Unsatisfied/Unsatisfied Customers/Footwear\",\"All/Bargain/Bargain Customers/Footwear\",\"All/Big spenders/Big Spenders/Footwear\",\"All/Bargain/Lost Customers - Bargain/Footwear\",\"All/Big spenders/Lost Customers - Big Spenders/Footwear\",\"All/Loyal/Lost/Almost Lost Customers - Loyal/Footwear\",\"All/Loyal/Loyal Customers/Footwear\",\"All/New Customers/New Customers/Footwear\",\"All/Big spenders/Occasional Customers- Big Spenders/Footwear\",\"All/Bargain/Occasional Customers-Bargain/Footwear\",\"All/Unsatisfied/Unsatisfied Customers/Footwear\",\"All/Bargain/Bargain Customers/Fitness\",\"All/Big spenders/Big Spenders/Fitness\",\"All/Bargain/Lost Customers - Bargain/Fitness\",\"All/Big spenders/Lost Customers - Big Spenders/Fitness\",\"All/Loyal/Lost/Almost Lost Customers - Loyal/Fitness\",\"All/Loyal/Loyal Customers/Fitness\",\"All/New Customers/New Customers/Fitness\",\"All/Big spenders/Occasional Customers- Big Spenders/Fitness\",\"All/Bargain/Occasional Customers-Bargain/Fitness\",\"All/Unsatisfied/Unsatisfied Customers/Fitness\",\"All/Bargain/Bargain Customers/Footwear\",\"All/Big spenders/Big Spenders/Footwear\",\"All/Bargain/Lost Customers - Bargain/Footwear\",\"All/Big spenders/Lost Customers - Big Spenders/Footwear\",\"All/Loyal/Lost/Almost Lost Customers - Loyal/Footwear\",\"All/Loyal/Loyal Customers/Footwear\",\"All/New Customers/New Customers/Footwear\",\"All/Big spenders/Occasional Customers- Big Spenders/Footwear\",\"All/Bargain/Occasional Customers-Bargain/Footwear\",\"All/Unsatisfied/Unsatisfied Customers/Footwear\",\"All/Bargain/Bargain Customers/Footwear\",\"All/Big spenders/Big Spenders/Footwear\",\"All/Bargain/Lost Customers - Bargain/Footwear\",\"All/Big spenders/Lost Customers - Big Spenders/Footwear\",\"All/Loyal/Lost/Almost Lost Customers - Loyal/Footwear\",\"All/Loyal/Loyal Customers/Footwear\",\"All/New Customers/New Customers/Footwear\",\"All/Big spenders/Occasional Customers- Big Spenders/Footwear\",\"All/Bargain/Occasional Customers-Bargain/Footwear\",\"All/Unsatisfied/Unsatisfied Customers/Footwear\",\"All/Bargain/Bargain Customers/Footwear\",\"All/Big spenders/Big Spenders/Footwear\",\"All/Bargain/Lost Customers - Bargain/Footwear\",\"All/Big spenders/Lost Customers - Big Spenders/Footwear\",\"All/Loyal/Lost/Almost Lost Customers - Loyal/Footwear\",\"All/Loyal/Loyal Customers/Footwear\",\"All/New Customers/New Customers/Footwear\",\"All/Big spenders/Occasional Customers- Big Spenders/Footwear\",\"All/Bargain/Occasional Customers-Bargain/Footwear\",\"All/Unsatisfied/Unsatisfied Customers/Footwear\",\"All/Bargain/Bargain Customers/Footwear\",\"All/Big spenders/Big Spenders/Footwear\",\"All/Loyal/Lost/Almost Lost Customers - Loyal/Footwear\",\"All/Loyal/Loyal Customers/Footwear\",\"All/New Customers/New Customers/Footwear\",\"All/Big spenders/Occasional Customers- Big Spenders/Footwear\",\"All/Bargain/Occasional Customers-Bargain/Footwear\",\"All/Unsatisfied/Unsatisfied Customers/Footwear\",\"All/Bargain/Bargain Customers/Fitness\",\"All/Big spenders/Big Spenders/Fitness\",\"All/Loyal/Lost/Almost Lost Customers - Loyal/Fitness\",\"All/Loyal/Loyal Customers/Fitness\",\"All/New Customers/New Customers/Fitness\",\"All/Big spenders/Occasional Customers- Big Spenders/Fitness\",\"All/Bargain/Occasional Customers-Bargain/Fitness\",\"All/Unsatisfied/Unsatisfied Customers/Fitness\",\"All/Bargain/Bargain Customers/Fitness\",\"All/Big spenders/Big Spenders/Fitness\",\"All/Bargain/Lost Customers - Bargain/Fitness\",\"All/Big spenders/Lost Customers - Big Spenders/Fitness\",\"All/Loyal/Lost/Almost Lost Customers - Loyal/Fitness\",\"All/Loyal/Loyal Customers/Fitness\",\"All/New Customers/New Customers/Fitness\",\"All/Big spenders/Occasional Customers- Big Spenders/Fitness\",\"All/Bargain/Occasional Customers-Bargain/Fitness\",\"All/Unsatisfied/Unsatisfied Customers/Fitness\",\"All/Bargain/Bargain Customers/Fitness\",\"All/Big spenders/Big Spenders/Fitness\",\"All/Bargain/Lost Customers - Bargain/Fitness\",\"All/Big spenders/Lost Customers - Big Spenders/Fitness\",\"All/Loyal/Lost/Almost Lost Customers - Loyal/Fitness\",\"All/Loyal/Loyal Customers/Fitness\",\"All/New Customers/New Customers/Fitness\",\"All/Big spenders/Occasional Customers- Big Spenders/Fitness\",\"All/Bargain/Occasional Customers-Bargain/Fitness\",\"All/Unsatisfied/Unsatisfied Customers/Fitness\",\"All/Bargain/Bargain Customers/Golf\",\"All/Big spenders/Big Spenders/Golf\",\"All/Bargain/Lost Customers - Bargain/Golf\",\"All/Big spenders/Lost Customers - Big Spenders/Golf\",\"All/Loyal/Lost/Almost Lost Customers - Loyal/Golf\",\"All/Loyal/Loyal Customers/Golf\",\"All/New Customers/New Customers/Golf\",\"All/Big spenders/Occasional Customers- Big Spenders/Golf\",\"All/Bargain/Occasional Customers-Bargain/Golf\",\"All/Unsatisfied/Unsatisfied Customers/Golf\",\"All/Bargain/Bargain Customers/Golf\",\"All/Big spenders/Big Spenders/Golf\",\"All/Bargain/Lost Customers - Bargain/Golf\",\"All/Big spenders/Lost Customers - Big Spenders/Golf\",\"All/Loyal/Lost/Almost Lost Customers - Loyal/Golf\",\"All/Loyal/Loyal Customers/Golf\",\"All/New Customers/New Customers/Golf\",\"All/Big spenders/Occasional Customers- Big Spenders/Golf\",\"All/Bargain/Occasional Customers-Bargain/Golf\",\"All/Unsatisfied/Unsatisfied Customers/Golf\",\"All/Bargain/Bargain Customers/Fan Shop\",\"All/Big spenders/Big Spenders/Fan Shop\",\"All/Loyal/Loyal Customers/Fan Shop\",\"All/New Customers/New Customers/Fan Shop\",\"All/Big spenders/Occasional Customers- Big Spenders/Fan Shop\",\"All/Bargain/Occasional Customers-Bargain/Fan Shop\",\"All/Unsatisfied/Unsatisfied Customers/Fan Shop\",\"All/Bargain/Bargain Customers\",\"All/Big spenders/Big Spenders\",\"All/Bargain/Lost Customers - Bargain\",\"All/Big spenders/Lost Customers - Big Spenders\",\"All/Loyal/Lost/Almost Lost Customers - Loyal\",\"All/Loyal/Loyal Customers\",\"All/New Customers/New Customers\",\"All/Big spenders/Occasional Customers- Big Spenders\",\"All/Bargain/Occasional Customers-Bargain\",\"All/Unsatisfied/Unsatisfied Customers\",\"All/Bargain/Bargain Customers\",\"All/Big spenders/Big Spenders\",\"All/Bargain/Lost Customers - Bargain\",\"All/Big spenders/Lost Customers - Big Spenders\",\"All/Loyal/Lost/Almost Lost Customers - Loyal\",\"All/Loyal/Loyal Customers\",\"All/New Customers/New Customers\",\"All/Big spenders/Occasional Customers- Big Spenders\",\"All/Bargain/Occasional Customers-Bargain\",\"All/Unsatisfied/Unsatisfied Customers\",\"All/Bargain/Bargain Customers\",\"All/Big spenders/Big Spenders\",\"All/Bargain/Lost Customers - Bargain\",\"All/Big spenders/Lost Customers - Big Spenders\",\"All/Loyal/Lost/Almost Lost Customers - Loyal\",\"All/Loyal/Loyal Customers\",\"All/New Customers/New Customers\",\"All/Big spenders/Occasional Customers- Big Spenders\",\"All/Bargain/Occasional Customers-Bargain\",\"All/Unsatisfied/Unsatisfied Customers\",\"All/Bargain/Bargain Customers\",\"All/Big spenders/Big Spenders\",\"All/Bargain/Lost Customers - Bargain\",\"All/Big spenders/Lost Customers - Big Spenders\",\"All/Loyal/Lost/Almost Lost Customers - Loyal\",\"All/Loyal/Loyal Customers\",\"All/New Customers/New Customers\",\"All/Big spenders/Occasional Customers- Big Spenders\",\"All/Bargain/Occasional Customers-Bargain\",\"All/Unsatisfied/Unsatisfied Customers\",\"All/Bargain/Bargain Customers\",\"All/Big spenders/Big Spenders\",\"All/Bargain/Lost Customers - Bargain\",\"All/Big spenders/Lost Customers - Big Spenders\",\"All/Loyal/Lost/Almost Lost Customers - Loyal\",\"All/Loyal/Loyal Customers\",\"All/New Customers/New Customers\",\"All/Big spenders/Occasional Customers- Big Spenders\",\"All/Bargain/Occasional Customers-Bargain\",\"All/Unsatisfied/Unsatisfied Customers\",\"All/Bargain/Bargain Customers\",\"All/Big spenders/Big Spenders\",\"All/Bargain/Lost Customers - Bargain\",\"All/Big spenders/Lost Customers - Big Spenders\",\"All/Loyal/Lost/Almost Lost Customers - Loyal\",\"All/Loyal/Loyal Customers\",\"All/New Customers/New Customers\",\"All/Big spenders/Occasional Customers- Big Spenders\",\"All/Bargain/Occasional Customers-Bargain\",\"All/Unsatisfied/Unsatisfied Customers\",\"All/Bargain\",\"All/Big spenders\",\"All/Bargain\",\"All/Big spenders\",\"All/Loyal\",\"All/Loyal\",\"All/New Customers\",\"All/Big spenders\",\"All/Bargain\",\"All/Unsatisfied\",\"All\",\"All\",\"All\",\"All\",\"All\",\"\"],\"values\":[1425.429981,3812.58998072,3662.14998023,1994.30998789,604.0100002300001,259.90000152,504.0400009,3434.999996,1809.76999454,641.36999704,2582.06005489,4374.23999036,310.3599854,748.7100067,1380.6199952,1914.15000155,2335.69997788,951.86999894,2747.9499509999996,1973.9599608,449.9899902,1693.54001617,5967.69996635,4912.35001566,2099.949993,963.20999514,852.0399991300001,932.6800079,4473.76999266,2043.17997908,1475.69999321,1695.28002171,4816.70001599,4408.35000799,2955.52999873,944.66000747,873.159996,161.8700027,5456.03001204,2497.59999471,1161.2199935200001,1193.86999506,3783.10998531,4801.70001211,2251.10999872,1048.95999532,709.85001005,514.06999594,4073.39998834,2274.81001468,1234.96000677,1091.58000184,6369.93006875,71.98999786,255.1199951,1707.55001832,3510.4900057,1544.2299805,2009.4700318,1145.9799804,2606.949951,545.9899902,2261.5800016,4298.4700164,1112.9399872,382.17999269999996,1717.7100067,1125.5400238,698.2100067,1145.28999324,1988.21997054,512.3499908,329.96999356,1156.08998868,1434.46997843,464.36000060000003,307.16999816,594.589992506,1424.3899917210001,1697.429993579,652.4499978700001,225.130000106,205.379999155,168.720000261,1578.1699895020001,753.679985001,262.8299999,1819.3300208,7187.95005959,5201.24001649,3146.0100152600003,652.63001437,992.35000806,924.56001273,5345.64002925,2776.89003551,1550.21002754,1946.70000843,4942.20001783,3827.85000995,2285.69999701,930.1499958,1010.6999988800001,855.60000233,4411.80001835,2948.09999257,978.29999545,1817.9299773,3754.3599393000004,1820.9299773,2432.9099577,3581.8699185,269.9899902,776.9699859,268474.5160071,891204.2717664,542120.8429296,347225.0387916,89968.0419159,76593.46179239999,130816.0931712,717680.2568705999,298436.4269424,183909.3244644,1538.1699962100001,4351.7000022,5271.56996877,2664.30002203,1485.23997869,1045.73000532,952.16999818,4983.6899795,2449.2900255600002,1244.2800084,1750.96997078,5930.41992236,513.52999498,1023.86999518,3474.77999889,2554.0699922,1326.23997516,403939.98124439997,1571805.1627672,898169.3746308,589446.136157,122575.38333499999,106128.2928192,238879.1564096,1248176.4245692,469726.6427754,315918.8887428,1786.62995154,6459.27995332,357.81999210000004,486.24998475,2447.77995315,1888.0599823,1864.0699769,707.65000158,1369.9400329999999,7320.930176,459.980011,1088.7000275,1972.4100495,1332.4400329999999,1717.420044,1337.4400329999999,1928.9299620000002,5704.2898707,293.9899902,593.9799804,2087.9399412000002,6775.8098138000005,1075.9699706000001,1909.949951,1108.82000255,2896.29999829,2110.7999964,1178.1299944,578.42000293,363.92999839,290.51999759,2616.58999347,1021.42999648,503.82999992,921.00001048,2110.86998653,2273.55999852,1213.95999432,455.06000519,333.94000055,368.40999602,2427.95999623,1401.66999817,425.97000313,1207.37998961,3852.11996271,3887.68997002,1342.70999145,533.3199978,322.64000129,396.98999596,2337.29998968,1707.5399914,638.36999894,1539.38002213,3338.82001104,2928.61001202,1788.09001345,818.7899971,425.27999496,301.47999573,3178.9599971000002,2056.37001045,1315.44001396,1706.01999091,2547.77996446,2684.14997669,987.20999529,77.55999756,344.83000183,307.85000036,2963.07997132,1012.27999686,657.47000122,2943.9199216,7969.779784400001,687.9799804,1684.9100495,4247.760131999999,169.9900055,329.980011,720.960022,1227.9300385,961.9500275,732.960022,739.44999598,2699.12997721,2365.26996513,650.24998663,398.6600027,220.34999657,347.45999527000004,2027.31998056,1147.75998114,531.21999549,1330.3599843700001,1950.98997685,2412.36998457,685.60998725,644.55000018,420.76999473,216.29999542,2191.71996969,945.68999001,512.93999098,958.04000091,2465.68001176,2798.95000266,1444.6700000600001,140.22999955,412.50000477,284.95000269,3070.92000293,1694.53000161,601.84000397,3112.79997255,4877.99998474,291.2000122,658.40000148,364.79999542999997,2589.60001373,601.6000061,912.79999537,578.8799972099999,2808.53999337,184.68000030000002,180.36000061,568.61999508,808.91999812,1566.53998561,290.52000427,2925.980011,10669.11001219,10053.23999405,7721.68001173,1138.1500015,1385.79998777,1760.84999848,10392.84999468,5161.01000228,1468.3500137400001,3406.0,6471.5,286.0,636.0,1921.0,2478.5,2555.0,1813.0,1455.819992,3355.17996238,237.56999204,494.33998879,1186.24997724,1791.36000068,861.49001312,72.79000092,1790.06999954,3069.23998242,109.9899979,403.66000364,587.8899917800001,1035.53999324,594.4899978,568.63999169,1937.79997242,8001.6799542,169.9799957,180.97999572,2488.7599945,3331.6599655600003,1564.83999632,988.9000091,1132.84999076,2502.2899859,237.8800048,477.0599975,980.7699888999999,578.45000456,488.7600022,839.6299971999999,2333.2900009,237.5799942,396.20000459999994,1052.9099884,2102.4599912,359.0700073,843.0100022,2135.2699891,3935.2300112,188.0599976,551.2299957,1259.6699829,1818.8599854,748.239975,1027.8400116,1033.56000705,3527.69998741,2684.99001513,1779.58001527,1014.64000143,775.27999306,395.55999756,2523.18000593,1744.04999155,1276.88000683,1685.81999204,6217.37995904,97.98999786,847.90998076,491.9499969,2934.68000026,895.40998832,3120.67997752,220102.36832528,581833.45562184,400408.0270445,200870.44852686,90029.58927626,76308.02952336,95889.50924207999,451401.40691936,236688.21801572,130321.64907278,4041.41003783,8774.83005463,6228.84004178,3765.43002293,1359.14000686,1203.9200285900001,986.63001252,7754.66007197,2777.24003979,1693.86001582,1438.3499985,4191.60000243,5420.39999013,2209.49999226,1235.54999156,235.50000195,764.9999961999999,4354.5000153,2380.35000216,671.39999962,218386.75,661063.75,439425.75,219314.5,88183.25,77561.75,102573.5,509579.0,247461.25,143219.0,689.9399874000001,2484.78996336,119.9899979,441.2099916,1164.27998376,1013.65998102,547.4499895,686.81999212,225255.26829198,811603.4140055,493868.72671752,304481.83834734,71011.63932548,63369.429556,121085.55938600001,639529.60649314,254786.79834398002,166678.87886002,3312.13999944,5437.95999132,843.91000362,2406.75998666,3088.17996214,887.9100037000001,1940.8099976,1288.9300385,3561.80011,563.9700164999999,195.9900055,1057.9400329999999,2192.8800659999997,517.9700164999999,1218.9300385,4866.32998677,5498.01995856,91.19000244,469.24999242,1883.64998626,2429.84999084,712.4199982,779.39000693,829.8799973,3601.25999641,3396.0,1120.25,474.1299973,732.25,491.25,3806.76999287,1812.5,1011.1299973,1379.25000195,6206.09999069,3517.49999616,2666.6999837,624.4499988599999,785.10000038,821.10000227,3780.29999726,2268.90000155,1188.59999659,196796.93812510002,596017.56470072,414914.68632352,217468.52792522,78926.39926076001,73157.04935446,94375.39905568,459276.96583024,222868.80785826,131773.2387085,964.6900025,3679.4100264,628.9599914,883.9399794999999,1682.0400009,798.0999908,766.6500091,2491.9199216,7568.509764800001,2465.6699216,217161.8966605,643788.199701,441423.493486,223453.52686399998,82908.382541,75525.78232099999,102467.303135,501853.19530099997,233655.967172,144492.9344385,325527.3943768,927003.99221887,597942.96761023,332209.68463537,116554.14128289,99935.04134932,153126.19209894,723684.26018551,327753.3041436,202240.29285955,1361.54002374,4876.09000416,930.49001316,1452.44000239,2824.32998669,3144.24996206,859.4000244,772.39000696,1944.47000895,212.1999969,394.7200089,489.83000948,905.98999776,1949.9799804,5604.9399412,1859.9799804,26409.84985,1478.3500212,2430.3699948,1466.8000181,2144.9300229,2422.5499935,6497.77009167,5396.22001258,3093.18001154,1014.5500087,918.56002038,930.1600035600001,5182.30004459,2743.29002379,1769.96000469,958.4400023999999,3572.7800445,172.7899933,1015.1399839999999,1409.3100127999999,1620.8000029,820.75,658.7599945,1774.82000722,8211.14991772,472.4499969,1790.8199921,2485.24997708,1337.85997766,592.9399872,1731.44998922,2655.66995222,230.0799942,480.9599914,471.8599931,1295.9899902,557.6499863,123.4899979,1251.23999776,3131.57997292,3568.02998147,1758.0199889,346.10999680000003,485.68000217,316.60999864999997,4000.98998805,1826.71999151,891.38999357,1273.98000133,4695.1899791900005,3048.61998343,2145.62000078,941.62999724,858.88999743,430.82999987,3488.20997575,1995.4299926600002,628.01000403,1633.34999444,3830.40997481,3207.68998515,1515.3699912,704.20999908,642.85999297,455.32000729000004,3608.11998714,1686.43999272,1277.35999291,1944.70998933,3615.74998456,3470.31997258,2447.38999167,791.53999512,436.57000541,576.27000235,4296.12998544,2259.5899905,946.23999776,1356.43998708,3365.7499806,4621.82996338,1933.08999436,573.77000428,579.76999853,448.56999584000005,3167.20997972,2485.7499998,899.99999413,836.90999793,4059.82998248,4034.85998323,2179.52999493,733.45999522,429.81999779,625.24999419,3506.3299997100003,1856.61999111,583.74999998,2522.51999661,5999.89994819,380.1600037,1683.50000007,2904.6600036,1056.32999424,633.6000061,1370.9499663000001,4642.3199766,548.9799957,2261.9199522,2283.3900376,9297.08002876,6437.90002439,4072.85002518,1235.27000444,1328.0800019600001,576.5700074,7818.47000523,3181.52000429,1887.75001152,2283.09999458,6851.01994701,6491.59002695,4960.69003672,1833.44999698,1362.90999604,1055.29999925,7765.18997586,2521.61999901,1563.01998515,1681.33002472,7008.17002475,6701.77000044,2326.06997675,880.13998797,1203.34001159,1228.76998907,6997.61000067,3337.70001605,2091.86999118,2900.2400474300002,10016.88001643,7627.93001582,4354.11002745,2162.78001395,892.15000146,1072.02998356,7102.83008186,3639.81003977,1304.68001178,1531.1800385,4442.30011,237.4900055,1059.9500275,1871.170044,1601.1800385,702.4700164999999,1170.81999776,3415.43997196,2700.08998111,1181.77998922,678.1499939,609.69999314,395.09000206,2824.80999562,1819.25998498,783.68999482,1879.4299773,6299.7698664,1496.9400024000001,92295.34071718,253379.61141187,182264.08099528,91753.28038263001,37961.88024631,34968.19018123,40782.15029665,197161.76124781,103943.32062954,57541.030435450004,1942.97002396,6188.84002607,5919.9100396,2612.5200001900002,475.86001013000003,262.24999809999997,492.65000719,4560.95001784,2246.32000341,864.59000196,1237.8399963,3908.07001891,3716.07000937,1265.13999943,923.38000111,467.84000012,845.29999361,3376.9800033,2137.02998736,1224.95999529,2747.74003196,6952.280089700001,6024.35002867,2806.9100114000003,1028.02001952,163.54000092,916.2300033,5963.6500471,3293.4700088,1343.18001932,1762.41999624,3402.2199800400003,3862.19998146,1593.35998904,1023.32999406,543.91000364,326.36999506,2981.88997235,1172.90000149,1227.24999417,1025.89999767,5697.51000411,3798.60000232,2040.62000844,1306.4600239,833.01000782,583.16999815,4268.38002394,2549.11999524,1480.63999944,1918.41998684,6433.59003852,3633.38000665,1639.95999907,317.33000183,687.79000082,872.8300055999999,4892.34001723,3030.42001728,1588.30002012,3864.10996622,7737.57001892,7271.6799851,3634.6099892800003,1433.05999747,1337.41000756,1199.9999848,8410.67003258,3189.06995404,1656.2599831,1865.4299927,3705.3600004,166.3200073,332.6399993,1895.6700134,1115.0999755,1016.8199920000001,347.76000980000003,1595.0899734999998,3985.3200147,119.9899979,151.9900055,1177.5199889,916.7399902,716.7500076,270.3800049,1835.91001877,4753.92008768,4752.46001591,2303.7400209,982.50000193,294.26000211,455.91000742,4722.74002028,2458.7400206,776.0700111,3425.71007928,9295.100147430001,7026.3200306,5977.7001189600005,1714.7900505,1879.1800156499999,1043.22999955,11744.220108290001,4731.38006966,2060.6300393,1552.87999725,3689.12999916,3317.38999557,1759.37999725,439.25,786.75,384.0,4041.50999646,1495.5,917.3799973,3461.8499909,12818.05000321,9161.24999611,6798.39999392,1664.24999223,733.6000061,312.199997,13012.29999924,5807.55001822,3436.30001067,969.6800309,3512.7400669999997,134.9900055,782.1900026,382.47000130000004,998.9200060000001,944.9300233,547509.1926793801,1515137.2177071099,998350.99465473,533080.13316223,206583.73055915,176243.07087268,250512.64134341996,1175085.66710487,564441.52215932,332561.94193233,1093895.62198242,3724248.04871751,2301899.96733869,1380257.52975985,375863.44703135,332965.46630157996,572421.48169393,2935257.66255544,1229192.38477386,778917.1963920001,26329.87999679,67344.47990686,27950.810084880002,16540.0601671,6906.50004574,9120.23002419,14159.37994335,41873.32014206,19410.490100709998,13449.94001422,256198.84815023,912092.23380665,527750.2167853899,321148.29833885,77449.6993859,69807.28956216,135848.43935616,684926.49656657,277662.50828606,181102.83892197,322793.35074426,950143.91163617,648812.94099962,327213.94037461,131992.8502511,116411.04021404,147660.55032874,739936.0513877501,367297.33068278,209752.30048168,82321.820020136,233965.429553971,108108.489844069,58986.18998321,24260.159969166,30446.839930275,45403.239791631,148866.449867062,81979.209963891,41284.75012349,2329048.713573216,7402931.321328271,4612873.419707379,2637226.15178585,823056.387242406,734993.936904925,1166005.732457231,5725945.647623752,2539983.445966621,1557068.96786569,9481905.579247216,15766103.120737873,1558050.324147331,1166005.732457231,1557068.96786569,29529133.72445534],\"visible\":false,\"type\":\"treemap\"}],                        {\"updatemenus\":[{\"active\":0,\"buttons\":[{\"args\":[{\"visible\":[true,false,false,false,false,false]},{\"title\":\"Bargain\"}],\"label\":\"Bargain\",\"method\":\"update\"},{\"args\":[{\"visible\":[false,true,false,false,false,false]},{\"title\":\"Big spenders\"}],\"label\":\"Big spenders\",\"method\":\"update\"},{\"args\":[{\"visible\":[false,false,true,false,false,false]},{\"title\":\"Loyal\"}],\"label\":\"Loyal\",\"method\":\"update\"},{\"args\":[{\"visible\":[false,false,false,true,false,false]},{\"title\":\"New Customers\"}],\"label\":\"New Customers\",\"method\":\"update\"},{\"args\":[{\"visible\":[false,false,false,false,true,false]},{\"title\":\"Unsatisfied\"}],\"label\":\"Unsatisfied\",\"method\":\"update\"},{\"args\":[{\"visible\":[false,false,false,false,false,true]},{\"title\":\"All\"}],\"label\":\"All\",\"method\":\"update\"}]}],\"template\":{\"data\":{\"histogram2dcontour\":[{\"type\":\"histogram2dcontour\",\"colorbar\":{\"outlinewidth\":0,\"ticks\":\"\"},\"colorscale\":[[0.0,\"#0d0887\"],[0.1111111111111111,\"#46039f\"],[0.2222222222222222,\"#7201a8\"],[0.3333333333333333,\"#9c179e\"],[0.4444444444444444,\"#bd3786\"],[0.5555555555555556,\"#d8576b\"],[0.6666666666666666,\"#ed7953\"],[0.7777777777777778,\"#fb9f3a\"],[0.8888888888888888,\"#fdca26\"],[1.0,\"#f0f921\"]]}],\"choropleth\":[{\"type\":\"choropleth\",\"colorbar\":{\"outlinewidth\":0,\"ticks\":\"\"}}],\"histogram2d\":[{\"type\":\"histogram2d\",\"colorbar\":{\"outlinewidth\":0,\"ticks\":\"\"},\"colorscale\":[[0.0,\"#0d0887\"],[0.1111111111111111,\"#46039f\"],[0.2222222222222222,\"#7201a8\"],[0.3333333333333333,\"#9c179e\"],[0.4444444444444444,\"#bd3786\"],[0.5555555555555556,\"#d8576b\"],[0.6666666666666666,\"#ed7953\"],[0.7777777777777778,\"#fb9f3a\"],[0.8888888888888888,\"#fdca26\"],[1.0,\"#f0f921\"]]}],\"heatmap\":[{\"type\":\"heatmap\",\"colorbar\":{\"outlinewidth\":0,\"ticks\":\"\"},\"colorscale\":[[0.0,\"#0d0887\"],[0.1111111111111111,\"#46039f\"],[0.2222222222222222,\"#7201a8\"],[0.3333333333333333,\"#9c179e\"],[0.4444444444444444,\"#bd3786\"],[0.5555555555555556,\"#d8576b\"],[0.6666666666666666,\"#ed7953\"],[0.7777777777777778,\"#fb9f3a\"],[0.8888888888888888,\"#fdca26\"],[1.0,\"#f0f921\"]]}],\"heatmapgl\":[{\"type\":\"heatmapgl\",\"colorbar\":{\"outlinewidth\":0,\"ticks\":\"\"},\"colorscale\":[[0.0,\"#0d0887\"],[0.1111111111111111,\"#46039f\"],[0.2222222222222222,\"#7201a8\"],[0.3333333333333333,\"#9c179e\"],[0.4444444444444444,\"#bd3786\"],[0.5555555555555556,\"#d8576b\"],[0.6666666666666666,\"#ed7953\"],[0.7777777777777778,\"#fb9f3a\"],[0.8888888888888888,\"#fdca26\"],[1.0,\"#f0f921\"]]}],\"contourcarpet\":[{\"type\":\"contourcarpet\",\"colorbar\":{\"outlinewidth\":0,\"ticks\":\"\"}}],\"contour\":[{\"type\":\"contour\",\"colorbar\":{\"outlinewidth\":0,\"ticks\":\"\"},\"colorscale\":[[0.0,\"#0d0887\"],[0.1111111111111111,\"#46039f\"],[0.2222222222222222,\"#7201a8\"],[0.3333333333333333,\"#9c179e\"],[0.4444444444444444,\"#bd3786\"],[0.5555555555555556,\"#d8576b\"],[0.6666666666666666,\"#ed7953\"],[0.7777777777777778,\"#fb9f3a\"],[0.8888888888888888,\"#fdca26\"],[1.0,\"#f0f921\"]]}],\"surface\":[{\"type\":\"surface\",\"colorbar\":{\"outlinewidth\":0,\"ticks\":\"\"},\"colorscale\":[[0.0,\"#0d0887\"],[0.1111111111111111,\"#46039f\"],[0.2222222222222222,\"#7201a8\"],[0.3333333333333333,\"#9c179e\"],[0.4444444444444444,\"#bd3786\"],[0.5555555555555556,\"#d8576b\"],[0.6666666666666666,\"#ed7953\"],[0.7777777777777778,\"#fb9f3a\"],[0.8888888888888888,\"#fdca26\"],[1.0,\"#f0f921\"]]}],\"mesh3d\":[{\"type\":\"mesh3d\",\"colorbar\":{\"outlinewidth\":0,\"ticks\":\"\"}}],\"scatter\":[{\"fillpattern\":{\"fillmode\":\"overlay\",\"size\":10,\"solidity\":0.2},\"type\":\"scatter\"}],\"parcoords\":[{\"type\":\"parcoords\",\"line\":{\"colorbar\":{\"outlinewidth\":0,\"ticks\":\"\"}}}],\"scatterpolargl\":[{\"type\":\"scatterpolargl\",\"marker\":{\"colorbar\":{\"outlinewidth\":0,\"ticks\":\"\"}}}],\"bar\":[{\"error_x\":{\"color\":\"#2a3f5f\"},\"error_y\":{\"color\":\"#2a3f5f\"},\"marker\":{\"line\":{\"color\":\"#E5ECF6\",\"width\":0.5},\"pattern\":{\"fillmode\":\"overlay\",\"size\":10,\"solidity\":0.2}},\"type\":\"bar\"}],\"scattergeo\":[{\"type\":\"scattergeo\",\"marker\":{\"colorbar\":{\"outlinewidth\":0,\"ticks\":\"\"}}}],\"scatterpolar\":[{\"type\":\"scatterpolar\",\"marker\":{\"colorbar\":{\"outlinewidth\":0,\"ticks\":\"\"}}}],\"histogram\":[{\"marker\":{\"pattern\":{\"fillmode\":\"overlay\",\"size\":10,\"solidity\":0.2}},\"type\":\"histogram\"}],\"scattergl\":[{\"type\":\"scattergl\",\"marker\":{\"colorbar\":{\"outlinewidth\":0,\"ticks\":\"\"}}}],\"scatter3d\":[{\"type\":\"scatter3d\",\"line\":{\"colorbar\":{\"outlinewidth\":0,\"ticks\":\"\"}},\"marker\":{\"colorbar\":{\"outlinewidth\":0,\"ticks\":\"\"}}}],\"scattermapbox\":[{\"type\":\"scattermapbox\",\"marker\":{\"colorbar\":{\"outlinewidth\":0,\"ticks\":\"\"}}}],\"scatterternary\":[{\"type\":\"scatterternary\",\"marker\":{\"colorbar\":{\"outlinewidth\":0,\"ticks\":\"\"}}}],\"scattercarpet\":[{\"type\":\"scattercarpet\",\"marker\":{\"colorbar\":{\"outlinewidth\":0,\"ticks\":\"\"}}}],\"carpet\":[{\"aaxis\":{\"endlinecolor\":\"#2a3f5f\",\"gridcolor\":\"white\",\"linecolor\":\"white\",\"minorgridcolor\":\"white\",\"startlinecolor\":\"#2a3f5f\"},\"baxis\":{\"endlinecolor\":\"#2a3f5f\",\"gridcolor\":\"white\",\"linecolor\":\"white\",\"minorgridcolor\":\"white\",\"startlinecolor\":\"#2a3f5f\"},\"type\":\"carpet\"}],\"table\":[{\"cells\":{\"fill\":{\"color\":\"#EBF0F8\"},\"line\":{\"color\":\"white\"}},\"header\":{\"fill\":{\"color\":\"#C8D4E3\"},\"line\":{\"color\":\"white\"}},\"type\":\"table\"}],\"barpolar\":[{\"marker\":{\"line\":{\"color\":\"#E5ECF6\",\"width\":0.5},\"pattern\":{\"fillmode\":\"overlay\",\"size\":10,\"solidity\":0.2}},\"type\":\"barpolar\"}],\"pie\":[{\"automargin\":true,\"type\":\"pie\"}]},\"layout\":{\"autotypenumbers\":\"strict\",\"colorway\":[\"#636efa\",\"#EF553B\",\"#00cc96\",\"#ab63fa\",\"#FFA15A\",\"#19d3f3\",\"#FF6692\",\"#B6E880\",\"#FF97FF\",\"#FECB52\"],\"font\":{\"color\":\"#2a3f5f\"},\"hovermode\":\"closest\",\"hoverlabel\":{\"align\":\"left\"},\"paper_bgcolor\":\"white\",\"plot_bgcolor\":\"#E5ECF6\",\"polar\":{\"bgcolor\":\"#E5ECF6\",\"angularaxis\":{\"gridcolor\":\"white\",\"linecolor\":\"white\",\"ticks\":\"\"},\"radialaxis\":{\"gridcolor\":\"white\",\"linecolor\":\"white\",\"ticks\":\"\"}},\"ternary\":{\"bgcolor\":\"#E5ECF6\",\"aaxis\":{\"gridcolor\":\"white\",\"linecolor\":\"white\",\"ticks\":\"\"},\"baxis\":{\"gridcolor\":\"white\",\"linecolor\":\"white\",\"ticks\":\"\"},\"caxis\":{\"gridcolor\":\"white\",\"linecolor\":\"white\",\"ticks\":\"\"}},\"coloraxis\":{\"colorbar\":{\"outlinewidth\":0,\"ticks\":\"\"}},\"colorscale\":{\"sequential\":[[0.0,\"#0d0887\"],[0.1111111111111111,\"#46039f\"],[0.2222222222222222,\"#7201a8\"],[0.3333333333333333,\"#9c179e\"],[0.4444444444444444,\"#bd3786\"],[0.5555555555555556,\"#d8576b\"],[0.6666666666666666,\"#ed7953\"],[0.7777777777777778,\"#fb9f3a\"],[0.8888888888888888,\"#fdca26\"],[1.0,\"#f0f921\"]],\"sequentialminus\":[[0.0,\"#0d0887\"],[0.1111111111111111,\"#46039f\"],[0.2222222222222222,\"#7201a8\"],[0.3333333333333333,\"#9c179e\"],[0.4444444444444444,\"#bd3786\"],[0.5555555555555556,\"#d8576b\"],[0.6666666666666666,\"#ed7953\"],[0.7777777777777778,\"#fb9f3a\"],[0.8888888888888888,\"#fdca26\"],[1.0,\"#f0f921\"]],\"diverging\":[[0,\"#8e0152\"],[0.1,\"#c51b7d\"],[0.2,\"#de77ae\"],[0.3,\"#f1b6da\"],[0.4,\"#fde0ef\"],[0.5,\"#f7f7f7\"],[0.6,\"#e6f5d0\"],[0.7,\"#b8e186\"],[0.8,\"#7fbc41\"],[0.9,\"#4d9221\"],[1,\"#276419\"]]},\"xaxis\":{\"gridcolor\":\"white\",\"linecolor\":\"white\",\"ticks\":\"\",\"title\":{\"standoff\":15},\"zerolinecolor\":\"white\",\"automargin\":true,\"zerolinewidth\":2},\"yaxis\":{\"gridcolor\":\"white\",\"linecolor\":\"white\",\"ticks\":\"\",\"title\":{\"standoff\":15},\"zerolinecolor\":\"white\",\"automargin\":true,\"zerolinewidth\":2},\"scene\":{\"xaxis\":{\"backgroundcolor\":\"#E5ECF6\",\"gridcolor\":\"white\",\"linecolor\":\"white\",\"showbackground\":true,\"ticks\":\"\",\"zerolinecolor\":\"white\",\"gridwidth\":2},\"yaxis\":{\"backgroundcolor\":\"#E5ECF6\",\"gridcolor\":\"white\",\"linecolor\":\"white\",\"showbackground\":true,\"ticks\":\"\",\"zerolinecolor\":\"white\",\"gridwidth\":2},\"zaxis\":{\"backgroundcolor\":\"#E5ECF6\",\"gridcolor\":\"white\",\"linecolor\":\"white\",\"showbackground\":true,\"ticks\":\"\",\"zerolinecolor\":\"white\",\"gridwidth\":2}},\"shapedefaults\":{\"line\":{\"color\":\"#2a3f5f\"}},\"annotationdefaults\":{\"arrowcolor\":\"#2a3f5f\",\"arrowhead\":0,\"arrowwidth\":1},\"geo\":{\"bgcolor\":\"white\",\"landcolor\":\"#E5ECF6\",\"subunitcolor\":\"white\",\"showland\":true,\"showlakes\":true,\"lakecolor\":\"white\"},\"title\":{\"x\":0.05},\"mapbox\":{\"style\":\"light\"}}},\"title\":{\"text\":\"Bargain\",\"x\":0.6},\"coloraxis\":{\"colorbar\":{\"title\":{\"text\":\"Total<br>Quantity\"}}}},                        {\"responsive\": true}                    ).then(function(){\n",
       "                            \n",
       "var gd = document.getElementById('7a4d8ec6-366d-48e1-a8ef-0c65b13ab09b');\n",
       "var x = new MutationObserver(function (mutations, observer) {{\n",
       "        var display = window.getComputedStyle(gd).display;\n",
       "        if (!display || display === 'none') {{\n",
       "            console.log([gd, 'removed!']);\n",
       "            Plotly.purge(gd);\n",
       "            observer.disconnect();\n",
       "        }}\n",
       "}});\n",
       "\n",
       "// Listen for the removal of the full notebook cells\n",
       "var notebookContainer = gd.closest('#notebook-container');\n",
       "if (notebookContainer) {{\n",
       "    x.observe(notebookContainer, {childList: true});\n",
       "}}\n",
       "\n",
       "// Listen for the clearing of the current output cell\n",
       "var outputEl = gd.closest('.output');\n",
       "if (outputEl) {{\n",
       "    x.observe(outputEl, {childList: true});\n",
       "}}\n",
       "\n",
       "                        })                };                });            </script>        </div>"
      ]
     },
     "metadata": {},
     "output_type": "display_data"
    }
   ],
   "source": [
    "data_tm=list(Df1.groupby(\"Customer Type\"))+[('All',Df1)]\n",
    "\n",
    "traces=[]\n",
    "buttons=[]\n",
    "visible=[]\n",
    "for i,d in enumerate(data_tm):\n",
    "     visible=[False]*len(data_tm)\n",
    "     visible[i]=True\n",
    "     title=d[0]\n",
    "     traces.append((px.treemap(d[1],\n",
    "                               path=[px.Constant(\"All\"),\"Customer Type\",\"Segment\",\"Department Name\",\"Product Name\"],\n",
    "                             values=\"Total_Revenue\").update_traces(visible= True if i==0 else False)).data[0])\n",
    "     buttons.append(dict(label=title,\n",
    "                        method=\"update\",\n",
    "                        args=[{\n",
    "                            \"visible\":visible},\n",
    "                            {\"title\":f\"{title}\"}\n",
    "                        ]))     \n",
    "        \n",
    "updatemenus=[{\"active\":0,\"buttons\":buttons}]\n",
    "fig11=go.Figure(data=traces,layout=dict(updatemenus=updatemenus))\n",
    "fig11.update_layout(title=data_tm[0][0],title_x=0.6)\n",
    "fig11.update_coloraxes(colorbar_title_text=\"Total<br>Quantity\")\n",
    "fig11.show()"
   ]
  },
  {
   "cell_type": "markdown",
   "id": "b70b9547",
   "metadata": {
    "papermill": {
     "duration": 0.030332,
     "end_time": "2022-12-05T08:02:30.490583",
     "exception": false,
     "start_time": "2022-12-05T08:02:30.460251",
     "status": "completed"
    },
    "tags": []
   },
   "source": [
    "## ABC Analysis\n",
    "\n",
    "ABC analysis is used for product segmentations. It is a type of supply side segmentation while RFM analysis is demand side segmentation. \n",
    "\n",
    "ABC analysis has its basis in the pareto rule which states that 80% of outcome comes from 20% of causes. \n",
    "\n",
    "Similarly here, 80% of the revenue is generated by 20% of all products. High care should be taken that these 20% of the products are always instock.\n",
    "\n",
    "Here's how we segment product based on their revenue generating capacity.\n",
    "- We find percentage of total revenue generated by each product. \n",
    "- Then we arrange them in decreasing order of percentage and we find cumulative percentage of revenue for each of the products.\n",
    "    - Products generating 75% of revenue would be Class A products\n",
    "    - Procucts generating next 20% of revenue would be class B products. Products having their cumulative percentage between 75%-95%.\n",
    "    - Products generating remaining 5% of revenue would be class C products. Long list of products each contribuling very less to total revenue. Also called as long tail. They have their cumulative percentage between 95%-100%\n"
   ]
  },
  {
   "cell_type": "code",
   "execution_count": 48,
   "id": "226d2792",
   "metadata": {
    "execution": {
     "iopub.execute_input": "2022-12-05T08:02:30.553979Z",
     "iopub.status.busy": "2022-12-05T08:02:30.553590Z",
     "iopub.status.idle": "2022-12-05T08:02:30.576975Z",
     "shell.execute_reply": "2022-12-05T08:02:30.575632Z"
    },
    "papermill": {
     "duration": 0.057644,
     "end_time": "2022-12-05T08:02:30.579081",
     "exception": false,
     "start_time": "2022-12-05T08:02:30.521437",
     "status": "completed"
    },
    "tags": []
   },
   "outputs": [
    {
     "name": "stdout",
     "output_type": "stream",
     "text": [
      "Total Number of products: 100\n"
     ]
    }
   ],
   "source": [
    "Total_Products=dF_clean[\"Product Name\"].nunique()\n",
    "print(\"Total Number of products: \"+f\"{Total_Products}\")"
   ]
  },
  {
   "cell_type": "code",
   "execution_count": 49,
   "id": "be1abd8b",
   "metadata": {
    "execution": {
     "iopub.execute_input": "2022-12-05T08:02:30.643196Z",
     "iopub.status.busy": "2022-12-05T08:02:30.642568Z",
     "iopub.status.idle": "2022-12-05T08:02:30.698759Z",
     "shell.execute_reply": "2022-12-05T08:02:30.697408Z"
    },
    "papermill": {
     "duration": 0.091982,
     "end_time": "2022-12-05T08:02:30.702222",
     "exception": false,
     "start_time": "2022-12-05T08:02:30.610240",
     "status": "completed"
    },
    "tags": []
   },
   "outputs": [],
   "source": [
    "Revenue_ABC=dF_clean.groupby([\"Department Name\",\"Product Name\"]).agg(Total_Revenue=(\"Order Item Total\",\"sum\")).sort_values(by=\"Total_Revenue\",ascending=False).reset_index()\n",
    "Revenue_ABC[\"cum_sum\"]=Revenue_ABC[\"Total_Revenue\"].cumsum()\n",
    "Revenue_ABC[\"cum_per\"]=Revenue_ABC[\"cum_sum\"]/Revenue_ABC[\"Total_Revenue\"].sum()*100\n",
    "Revenue_ABC[\"per\"]=Revenue_ABC[\"cum_per\"]-Revenue_ABC[\"cum_per\"].shift(1)\n",
    "Revenue_ABC.loc[0,\"per\"]=Revenue_ABC[\"cum_per\"][0]"
   ]
  },
  {
   "cell_type": "code",
   "execution_count": 50,
   "id": "125612a6",
   "metadata": {
    "execution": {
     "iopub.execute_input": "2022-12-05T08:02:30.768512Z",
     "iopub.status.busy": "2022-12-05T08:02:30.768146Z",
     "iopub.status.idle": "2022-12-05T08:02:30.778902Z",
     "shell.execute_reply": "2022-12-05T08:02:30.777765Z"
    },
    "papermill": {
     "duration": 0.045583,
     "end_time": "2022-12-05T08:02:30.780901",
     "exception": false,
     "start_time": "2022-12-05T08:02:30.735318",
     "status": "completed"
    },
    "tags": []
   },
   "outputs": [],
   "source": [
    "def ABC(data):\n",
    "    if data[\"cum_per\"]<=75:\n",
    "        return \"A\"\n",
    "    elif data[\"cum_per\"]>75 and data[\"cum_per\"]<=95:\n",
    "        return \"B\"\n",
    "    elif data[\"cum_per\"]>95:\n",
    "        return \"C\"\n",
    "\n",
    "Revenue_ABC[\"ABC_Revenue\"]=Revenue_ABC.apply(ABC,axis=1)"
   ]
  },
  {
   "cell_type": "code",
   "execution_count": 51,
   "id": "b5b86eb9",
   "metadata": {
    "execution": {
     "iopub.execute_input": "2022-12-05T08:02:30.846893Z",
     "iopub.status.busy": "2022-12-05T08:02:30.845851Z",
     "iopub.status.idle": "2022-12-05T08:02:30.859017Z",
     "shell.execute_reply": "2022-12-05T08:02:30.857950Z"
    },
    "papermill": {
     "duration": 0.048968,
     "end_time": "2022-12-05T08:02:30.861546",
     "exception": false,
     "start_time": "2022-12-05T08:02:30.812578",
     "status": "completed"
    },
    "tags": []
   },
   "outputs": [],
   "source": [
    "Bar_graph_Abc=Revenue_ABC[[\"ABC_Revenue\",\"Product Name\",\"Total_Revenue\"]].groupby(\"ABC_Revenue\").agg(Revenue=(\"Total_Revenue\",\"sum\"),count=(\"Product Name\",\"count\"))"
   ]
  },
  {
   "cell_type": "code",
   "execution_count": 52,
   "id": "dcb9fa8a",
   "metadata": {
    "_kg_hide-input": true,
    "execution": {
     "iopub.execute_input": "2022-12-05T08:02:30.930419Z",
     "iopub.status.busy": "2022-12-05T08:02:30.929290Z",
     "iopub.status.idle": "2022-12-05T08:02:30.986815Z",
     "shell.execute_reply": "2022-12-05T08:02:30.985748Z"
    },
    "papermill": {
     "duration": 0.093308,
     "end_time": "2022-12-05T08:02:30.989418",
     "exception": false,
     "start_time": "2022-12-05T08:02:30.896110",
     "status": "completed"
    },
    "tags": []
   },
   "outputs": [
    {
     "data": {
      "text/html": [
       "<div>                            <div id=\"bee85ccb-3359-4564-bee0-dc59c75f6749\" class=\"plotly-graph-div\" style=\"height:525px; width:100%;\"></div>            <script type=\"text/javascript\">                require([\"plotly\"], function(Plotly) {                    window.PLOTLYENV=window.PLOTLYENV || {};                                    if (document.getElementById(\"bee85ccb-3359-4564-bee0-dc59c75f6749\")) {                    Plotly.newPlot(                        \"bee85ccb-3359-4564-bee0-dc59c75f6749\",                        [{\"hovertemplate\":\"%{label}<br>Revenue:%{value}\",\"marker\":{\"color\":[\"orange\",\"lightgreen\",\"red\"]},\"showlegend\":false,\"texttemplate\":\"Revenue<br>%{value}\",\"x\":[\"A\",\"B\",\"C\"],\"y\":[21842341.32981024,6171361.69528947,1515430.699355631],\"type\":\"bar\"},{\"line\":{\"color\":\"blue\",\"width\":3},\"marker\":{\"line\":{\"width\":0}},\"mode\":\"lines\",\"name\":\"Number Of Products\",\"x\":[\"A\",\"B\",\"C\"],\"y\":[6,5,89],\"yaxis\":\"y2\",\"type\":\"scatter\"}],                        {\"template\":{\"data\":{\"histogram2dcontour\":[{\"type\":\"histogram2dcontour\",\"colorbar\":{\"outlinewidth\":0,\"ticks\":\"\"},\"colorscale\":[[0.0,\"#0d0887\"],[0.1111111111111111,\"#46039f\"],[0.2222222222222222,\"#7201a8\"],[0.3333333333333333,\"#9c179e\"],[0.4444444444444444,\"#bd3786\"],[0.5555555555555556,\"#d8576b\"],[0.6666666666666666,\"#ed7953\"],[0.7777777777777778,\"#fb9f3a\"],[0.8888888888888888,\"#fdca26\"],[1.0,\"#f0f921\"]]}],\"choropleth\":[{\"type\":\"choropleth\",\"colorbar\":{\"outlinewidth\":0,\"ticks\":\"\"}}],\"histogram2d\":[{\"type\":\"histogram2d\",\"colorbar\":{\"outlinewidth\":0,\"ticks\":\"\"},\"colorscale\":[[0.0,\"#0d0887\"],[0.1111111111111111,\"#46039f\"],[0.2222222222222222,\"#7201a8\"],[0.3333333333333333,\"#9c179e\"],[0.4444444444444444,\"#bd3786\"],[0.5555555555555556,\"#d8576b\"],[0.6666666666666666,\"#ed7953\"],[0.7777777777777778,\"#fb9f3a\"],[0.8888888888888888,\"#fdca26\"],[1.0,\"#f0f921\"]]}],\"heatmap\":[{\"type\":\"heatmap\",\"colorbar\":{\"outlinewidth\":0,\"ticks\":\"\"},\"colorscale\":[[0.0,\"#0d0887\"],[0.1111111111111111,\"#46039f\"],[0.2222222222222222,\"#7201a8\"],[0.3333333333333333,\"#9c179e\"],[0.4444444444444444,\"#bd3786\"],[0.5555555555555556,\"#d8576b\"],[0.6666666666666666,\"#ed7953\"],[0.7777777777777778,\"#fb9f3a\"],[0.8888888888888888,\"#fdca26\"],[1.0,\"#f0f921\"]]}],\"heatmapgl\":[{\"type\":\"heatmapgl\",\"colorbar\":{\"outlinewidth\":0,\"ticks\":\"\"},\"colorscale\":[[0.0,\"#0d0887\"],[0.1111111111111111,\"#46039f\"],[0.2222222222222222,\"#7201a8\"],[0.3333333333333333,\"#9c179e\"],[0.4444444444444444,\"#bd3786\"],[0.5555555555555556,\"#d8576b\"],[0.6666666666666666,\"#ed7953\"],[0.7777777777777778,\"#fb9f3a\"],[0.8888888888888888,\"#fdca26\"],[1.0,\"#f0f921\"]]}],\"contourcarpet\":[{\"type\":\"contourcarpet\",\"colorbar\":{\"outlinewidth\":0,\"ticks\":\"\"}}],\"contour\":[{\"type\":\"contour\",\"colorbar\":{\"outlinewidth\":0,\"ticks\":\"\"},\"colorscale\":[[0.0,\"#0d0887\"],[0.1111111111111111,\"#46039f\"],[0.2222222222222222,\"#7201a8\"],[0.3333333333333333,\"#9c179e\"],[0.4444444444444444,\"#bd3786\"],[0.5555555555555556,\"#d8576b\"],[0.6666666666666666,\"#ed7953\"],[0.7777777777777778,\"#fb9f3a\"],[0.8888888888888888,\"#fdca26\"],[1.0,\"#f0f921\"]]}],\"surface\":[{\"type\":\"surface\",\"colorbar\":{\"outlinewidth\":0,\"ticks\":\"\"},\"colorscale\":[[0.0,\"#0d0887\"],[0.1111111111111111,\"#46039f\"],[0.2222222222222222,\"#7201a8\"],[0.3333333333333333,\"#9c179e\"],[0.4444444444444444,\"#bd3786\"],[0.5555555555555556,\"#d8576b\"],[0.6666666666666666,\"#ed7953\"],[0.7777777777777778,\"#fb9f3a\"],[0.8888888888888888,\"#fdca26\"],[1.0,\"#f0f921\"]]}],\"mesh3d\":[{\"type\":\"mesh3d\",\"colorbar\":{\"outlinewidth\":0,\"ticks\":\"\"}}],\"scatter\":[{\"fillpattern\":{\"fillmode\":\"overlay\",\"size\":10,\"solidity\":0.2},\"type\":\"scatter\"}],\"parcoords\":[{\"type\":\"parcoords\",\"line\":{\"colorbar\":{\"outlinewidth\":0,\"ticks\":\"\"}}}],\"scatterpolargl\":[{\"type\":\"scatterpolargl\",\"marker\":{\"colorbar\":{\"outlinewidth\":0,\"ticks\":\"\"}}}],\"bar\":[{\"error_x\":{\"color\":\"#2a3f5f\"},\"error_y\":{\"color\":\"#2a3f5f\"},\"marker\":{\"line\":{\"color\":\"#E5ECF6\",\"width\":0.5},\"pattern\":{\"fillmode\":\"overlay\",\"size\":10,\"solidity\":0.2}},\"type\":\"bar\"}],\"scattergeo\":[{\"type\":\"scattergeo\",\"marker\":{\"colorbar\":{\"outlinewidth\":0,\"ticks\":\"\"}}}],\"scatterpolar\":[{\"type\":\"scatterpolar\",\"marker\":{\"colorbar\":{\"outlinewidth\":0,\"ticks\":\"\"}}}],\"histogram\":[{\"marker\":{\"pattern\":{\"fillmode\":\"overlay\",\"size\":10,\"solidity\":0.2}},\"type\":\"histogram\"}],\"scattergl\":[{\"type\":\"scattergl\",\"marker\":{\"colorbar\":{\"outlinewidth\":0,\"ticks\":\"\"}}}],\"scatter3d\":[{\"type\":\"scatter3d\",\"line\":{\"colorbar\":{\"outlinewidth\":0,\"ticks\":\"\"}},\"marker\":{\"colorbar\":{\"outlinewidth\":0,\"ticks\":\"\"}}}],\"scattermapbox\":[{\"type\":\"scattermapbox\",\"marker\":{\"colorbar\":{\"outlinewidth\":0,\"ticks\":\"\"}}}],\"scatterternary\":[{\"type\":\"scatterternary\",\"marker\":{\"colorbar\":{\"outlinewidth\":0,\"ticks\":\"\"}}}],\"scattercarpet\":[{\"type\":\"scattercarpet\",\"marker\":{\"colorbar\":{\"outlinewidth\":0,\"ticks\":\"\"}}}],\"carpet\":[{\"aaxis\":{\"endlinecolor\":\"#2a3f5f\",\"gridcolor\":\"white\",\"linecolor\":\"white\",\"minorgridcolor\":\"white\",\"startlinecolor\":\"#2a3f5f\"},\"baxis\":{\"endlinecolor\":\"#2a3f5f\",\"gridcolor\":\"white\",\"linecolor\":\"white\",\"minorgridcolor\":\"white\",\"startlinecolor\":\"#2a3f5f\"},\"type\":\"carpet\"}],\"table\":[{\"cells\":{\"fill\":{\"color\":\"#EBF0F8\"},\"line\":{\"color\":\"white\"}},\"header\":{\"fill\":{\"color\":\"#C8D4E3\"},\"line\":{\"color\":\"white\"}},\"type\":\"table\"}],\"barpolar\":[{\"marker\":{\"line\":{\"color\":\"#E5ECF6\",\"width\":0.5},\"pattern\":{\"fillmode\":\"overlay\",\"size\":10,\"solidity\":0.2}},\"type\":\"barpolar\"}],\"pie\":[{\"automargin\":true,\"type\":\"pie\"}]},\"layout\":{\"autotypenumbers\":\"strict\",\"colorway\":[\"#636efa\",\"#EF553B\",\"#00cc96\",\"#ab63fa\",\"#FFA15A\",\"#19d3f3\",\"#FF6692\",\"#B6E880\",\"#FF97FF\",\"#FECB52\"],\"font\":{\"color\":\"#2a3f5f\"},\"hovermode\":\"closest\",\"hoverlabel\":{\"align\":\"left\"},\"paper_bgcolor\":\"white\",\"plot_bgcolor\":\"#E5ECF6\",\"polar\":{\"bgcolor\":\"#E5ECF6\",\"angularaxis\":{\"gridcolor\":\"white\",\"linecolor\":\"white\",\"ticks\":\"\"},\"radialaxis\":{\"gridcolor\":\"white\",\"linecolor\":\"white\",\"ticks\":\"\"}},\"ternary\":{\"bgcolor\":\"#E5ECF6\",\"aaxis\":{\"gridcolor\":\"white\",\"linecolor\":\"white\",\"ticks\":\"\"},\"baxis\":{\"gridcolor\":\"white\",\"linecolor\":\"white\",\"ticks\":\"\"},\"caxis\":{\"gridcolor\":\"white\",\"linecolor\":\"white\",\"ticks\":\"\"}},\"coloraxis\":{\"colorbar\":{\"outlinewidth\":0,\"ticks\":\"\"}},\"colorscale\":{\"sequential\":[[0.0,\"#0d0887\"],[0.1111111111111111,\"#46039f\"],[0.2222222222222222,\"#7201a8\"],[0.3333333333333333,\"#9c179e\"],[0.4444444444444444,\"#bd3786\"],[0.5555555555555556,\"#d8576b\"],[0.6666666666666666,\"#ed7953\"],[0.7777777777777778,\"#fb9f3a\"],[0.8888888888888888,\"#fdca26\"],[1.0,\"#f0f921\"]],\"sequentialminus\":[[0.0,\"#0d0887\"],[0.1111111111111111,\"#46039f\"],[0.2222222222222222,\"#7201a8\"],[0.3333333333333333,\"#9c179e\"],[0.4444444444444444,\"#bd3786\"],[0.5555555555555556,\"#d8576b\"],[0.6666666666666666,\"#ed7953\"],[0.7777777777777778,\"#fb9f3a\"],[0.8888888888888888,\"#fdca26\"],[1.0,\"#f0f921\"]],\"diverging\":[[0,\"#8e0152\"],[0.1,\"#c51b7d\"],[0.2,\"#de77ae\"],[0.3,\"#f1b6da\"],[0.4,\"#fde0ef\"],[0.5,\"#f7f7f7\"],[0.6,\"#e6f5d0\"],[0.7,\"#b8e186\"],[0.8,\"#7fbc41\"],[0.9,\"#4d9221\"],[1,\"#276419\"]]},\"xaxis\":{\"gridcolor\":\"white\",\"linecolor\":\"white\",\"ticks\":\"\",\"title\":{\"standoff\":15},\"zerolinecolor\":\"white\",\"automargin\":true,\"zerolinewidth\":2},\"yaxis\":{\"gridcolor\":\"white\",\"linecolor\":\"white\",\"ticks\":\"\",\"title\":{\"standoff\":15},\"zerolinecolor\":\"white\",\"automargin\":true,\"zerolinewidth\":2},\"scene\":{\"xaxis\":{\"backgroundcolor\":\"#E5ECF6\",\"gridcolor\":\"white\",\"linecolor\":\"white\",\"showbackground\":true,\"ticks\":\"\",\"zerolinecolor\":\"white\",\"gridwidth\":2},\"yaxis\":{\"backgroundcolor\":\"#E5ECF6\",\"gridcolor\":\"white\",\"linecolor\":\"white\",\"showbackground\":true,\"ticks\":\"\",\"zerolinecolor\":\"white\",\"gridwidth\":2},\"zaxis\":{\"backgroundcolor\":\"#E5ECF6\",\"gridcolor\":\"white\",\"linecolor\":\"white\",\"showbackground\":true,\"ticks\":\"\",\"zerolinecolor\":\"white\",\"gridwidth\":2}},\"shapedefaults\":{\"line\":{\"color\":\"#2a3f5f\"}},\"annotationdefaults\":{\"arrowcolor\":\"#2a3f5f\",\"arrowhead\":0,\"arrowwidth\":1},\"geo\":{\"bgcolor\":\"white\",\"landcolor\":\"#E5ECF6\",\"subunitcolor\":\"white\",\"showland\":true,\"showlakes\":true,\"lakecolor\":\"white\"},\"title\":{\"x\":0.05},\"mapbox\":{\"style\":\"light\"}}},\"yaxis\":{\"title\":{\"text\":\"Revenue\"},\"showgrid\":false},\"yaxis2\":{\"title\":{\"text\":\"Number Of Products\"},\"anchor\":\"x\",\"overlaying\":\"y\",\"side\":\"right\",\"dtick\":10},\"legend\":{\"x\":1.05,\"y\":1},\"title\":{\"text\":\"Revenue Generated By Products in Different ABC Segments\"},\"xaxis\":{\"title\":{\"text\":\"Segment\"}}},                        {\"responsive\": true}                    ).then(function(){\n",
       "                            \n",
       "var gd = document.getElementById('bee85ccb-3359-4564-bee0-dc59c75f6749');\n",
       "var x = new MutationObserver(function (mutations, observer) {{\n",
       "        var display = window.getComputedStyle(gd).display;\n",
       "        if (!display || display === 'none') {{\n",
       "            console.log([gd, 'removed!']);\n",
       "            Plotly.purge(gd);\n",
       "            observer.disconnect();\n",
       "        }}\n",
       "}});\n",
       "\n",
       "// Listen for the removal of the full notebook cells\n",
       "var notebookContainer = gd.closest('#notebook-container');\n",
       "if (notebookContainer) {{\n",
       "    x.observe(notebookContainer, {childList: true});\n",
       "}}\n",
       "\n",
       "// Listen for the clearing of the current output cell\n",
       "var outputEl = gd.closest('.output');\n",
       "if (outputEl) {{\n",
       "    x.observe(outputEl, {childList: true});\n",
       "}}\n",
       "\n",
       "                        })                };                });            </script>        </div>"
      ]
     },
     "metadata": {},
     "output_type": "display_data"
    }
   ],
   "source": [
    "Bar_graph_Abc\n",
    "fig2=go.Figure(go.Bar(x=Bar_graph_Abc.index,\n",
    "                      y=Bar_graph_Abc[\"Revenue\"],\n",
    "                     hovertemplate =\"%{label}<br>Revenue:%{value}\",\n",
    "                     texttemplate = \"Revenue<br>%{value}\",\n",
    "                     marker_color=[\"orange\",\"lightgreen\",\"red\"],\n",
    "                     showlegend=False))\n",
    "fig2.add_trace(                          \n",
    "    go.Scatter(                          \n",
    "    x=Bar_graph_Abc.index,\n",
    "    y=Bar_graph_Abc[\"count\"],\n",
    "    name=\"Number Of Products\",\n",
    "    mode='lines',                                                       \n",
    "    line = dict(color='blue', width=3),   \n",
    "    yaxis=\"y2\",\n",
    "    marker_line_width = 0\n",
    "    ))\n",
    "\n",
    "fig2.update_layout(\n",
    "                   title=\"Revenue Generated By Products in Different ABC Segments\",\n",
    "                   xaxis=dict(title=\"Segment\" ),\n",
    "                   yaxis=dict(title=\"Revenue\",showgrid=False),\n",
    "                   yaxis2=dict(title=\"Number Of Products\", anchor=\"x\", overlaying=\"y\",side=\"right\",dtick=10),\n",
    "                   legend = dict(x = 1.05, y = 1))\n",
    "fig2.show()"
   ]
  },
  {
   "cell_type": "markdown",
   "id": "ce740edd",
   "metadata": {
    "papermill": {
     "duration": 0.031439,
     "end_time": "2022-12-05T08:02:31.052600",
     "exception": false,
     "start_time": "2022-12-05T08:02:31.021161",
     "status": "completed"
    },
    "tags": []
   },
   "source": [
    "**Inference**-\n",
    "- As we can see just **6 products contribute to 75% of our revenue**. They are critical for our store, and we should provide high service level for them. We should have safety stock for them and **never be out of stock** for these products.\n",
    "\n",
    "- In this case, the ratio is even starker than pareto hypothesis. Only 6% of products are generating 75% of revenue. And just 11% of products generating 95% of revenue. So now its become more important for store to keep inventory of these products.\n",
    "\n",
    "- We should find **multiple suppliers for A class products**, incase there is shortage of products at one supplier. Since they are driving our revenue, not having these products in stock even for one day would result in considerable revenue loss for the organization and it will also drive our customers to competitors.Research shows that **37% of customer will head to competitor stores for the product they couldn't buy at one store**.\n",
    "\n",
    "- **B category products** here contribute to around 20% of revenue. They are also important to our business. Since there are only **5 products** in this case which are in B category, they are more important to our business than usual B category. Becuase ideally number of individual products in B category are more than the number of products in A category. We should have them in stock, and have a **procedure in place to order them**. \n",
    "\n",
    "- Maximum proportion of money and stocking space should go to class A products. After that class B products should  be allocated money and stocking space afterwards. Inventory of **class C products should be minimum** as they generate the least revenue. There are 89 products in Class C and if we have inventory of such products more than its needed, **a lot of stocking space will be utilized also lot of capital will get blocked**.\n",
    "\n",
    "ABC analysis is just one of many reports you should consider when analyzing inventory performance. While ABC analysis is valuable for seeing which products account for the greatest percentage of store revenue, you also want to look at metrics like your inventory turnover rate, days on hand, stock to sales ratio, sell through rate, rate of return, and profit margin."
   ]
  },
  {
   "cell_type": "markdown",
   "id": "089ad253",
   "metadata": {
    "papermill": {
     "duration": 0.031274,
     "end_time": "2022-12-05T08:02:31.116357",
     "exception": false,
     "start_time": "2022-12-05T08:02:31.085083",
     "status": "completed"
    },
    "tags": []
   },
   "source": [
    "### ABC Analysis Store/City/Region Wise.\n",
    "\n",
    "_**Will do ABC Analysis for each of our top 6 Cities(Order City). This is neccessary as customer preferences change according to regions and we need to priortize different products in our inventory according to market.**_ "
   ]
  },
  {
   "cell_type": "code",
   "execution_count": 53,
   "id": "6e7ca385",
   "metadata": {
    "execution": {
     "iopub.execute_input": "2022-12-05T08:02:31.180702Z",
     "iopub.status.busy": "2022-12-05T08:02:31.180325Z",
     "iopub.status.idle": "2022-12-05T08:02:31.388535Z",
     "shell.execute_reply": "2022-12-05T08:02:31.387136Z"
    },
    "papermill": {
     "duration": 0.243693,
     "end_time": "2022-12-05T08:02:31.391271",
     "exception": false,
     "start_time": "2022-12-05T08:02:31.147578",
     "status": "completed"
    },
    "tags": []
   },
   "outputs": [],
   "source": [
    "Top6Cities=dF_clean[[\"Order City\",\"Order Item Total\"]].groupby(\"Order City\").sum().sort_values(by=\"Order Item Total\",ascending=False).head(6)"
   ]
  },
  {
   "cell_type": "code",
   "execution_count": 54,
   "id": "2f5d712b",
   "metadata": {
    "execution": {
     "iopub.execute_input": "2022-12-05T08:02:31.457602Z",
     "iopub.status.busy": "2022-12-05T08:02:31.456909Z",
     "iopub.status.idle": "2022-12-05T08:02:31.512493Z",
     "shell.execute_reply": "2022-12-05T08:02:31.511279Z"
    },
    "papermill": {
     "duration": 0.09209,
     "end_time": "2022-12-05T08:02:31.515243",
     "exception": false,
     "start_time": "2022-12-05T08:02:31.423153",
     "status": "completed"
    },
    "tags": []
   },
   "outputs": [],
   "source": [
    "data=dF_clean[dF_clean[\"Order City\"].isin(Top6Cities.index.tolist())].groupby([\"Order City\",\"Product Name\"],as_index=False).agg(Total_Revenue=(\"Order Item Total\",\"sum\")).sort_values(by=[\"Order City\",\"Total_Revenue\"],ascending=False)\n",
    "data[\"sum\"]=data.groupby(\"Order City\")[\"Total_Revenue\"].transform('sum')\n",
    "data[\"cum_per\"]=data.groupby(\"Order City\")[\"Total_Revenue\"].cumsum()/data[\"sum\"]*100\n",
    "data[\"segment\"]=data.apply(ABC,axis=1)\n",
    "data[\"Product Name\"]=data[\"Product Name\"].apply(wrap)\n",
    "data.sort_values(by=[\"sum\",\"Total_Revenue\"],inplace=True,ascending=False)"
   ]
  },
  {
   "cell_type": "code",
   "execution_count": 55,
   "id": "75d39a5f",
   "metadata": {
    "_kg_hide-input": true,
    "execution": {
     "iopub.execute_input": "2022-12-05T08:02:31.580537Z",
     "iopub.status.busy": "2022-12-05T08:02:31.580156Z",
     "iopub.status.idle": "2022-12-05T08:02:31.777300Z",
     "shell.execute_reply": "2022-12-05T08:02:31.776140Z"
    },
    "papermill": {
     "duration": 0.232641,
     "end_time": "2022-12-05T08:02:31.779594",
     "exception": false,
     "start_time": "2022-12-05T08:02:31.546953",
     "status": "completed"
    },
    "tags": []
   },
   "outputs": [
    {
     "data": {
      "text/html": [
       "<div>                            <div id=\"8443ef20-876e-4987-bce0-417b39e5dad5\" class=\"plotly-graph-div\" style=\"height:1500px; width:950px;\"></div>            <script type=\"text/javascript\">                require([\"plotly\"], function(Plotly) {                    window.PLOTLYENV=window.PLOTLYENV || {};                                    if (document.getElementById(\"8443ef20-876e-4987-bce0-417b39e5dad5\")) {                    Plotly.newPlot(                        \"8443ef20-876e-4987-bce0-417b39e5dad5\",                        [{\"alignmentgroup\":\"True\",\"hovertemplate\":\"Order City=New York City<br>Product Name=%{x}<br>Total_Revenue=%{y}<extra></extra>\",\"legendgroup\":\"\",\"marker\":{\"color\":\"#636efa\",\"pattern\":{\"shape\":\"\"}},\"name\":\"\",\"offsetgroup\":\"\",\"orientation\":\"v\",\"showlegend\":false,\"textposition\":\"auto\",\"x\":[\"Field<br>&<br>Stream<br>Sportsman<br>16<br>Gun<br>Fire<br>Safe<br>\",\"Diamondback<br>Women's<br>Serene<br>Classic<br>Comfort<br>Bi<br>\",\"Perfect<br>Fitness<br>Perfect<br>Rip<br>Deck<br>\",\"Nike<br>Men's<br>Free<br>5.0+<br>Running<br>Shoe<br>\",\"Nike<br>Men's<br>Dri-FIT<br>Victory<br>Golf<br>Polo<br>\"],\"xaxis\":\"x5\",\"y\":[73666.062014,46487.661117899996,44274.85055193,42334.18975012,38868.75],\"yaxis\":\"y5\",\"type\":\"bar\"},{\"alignmentgroup\":\"True\",\"hovertemplate\":\"Order City=Santo Domingo<br>Product Name=%{x}<br>Total_Revenue=%{y}<extra></extra>\",\"legendgroup\":\"\",\"marker\":{\"color\":\"#636efa\",\"pattern\":{\"shape\":\"\"}},\"name\":\"\",\"offsetgroup\":\"\",\"orientation\":\"v\",\"showlegend\":false,\"textposition\":\"auto\",\"x\":[\"Field<br>&<br>Stream<br>Sportsman<br>16<br>Gun<br>Fire<br>Safe<br>\",\"Perfect<br>Fitness<br>Perfect<br>Rip<br>Deck<br>\",\"Nike<br>Men's<br>Free<br>5.0+<br>Running<br>Shoe<br>\",\"Diamondback<br>Women's<br>Serene<br>Classic<br>Comfort<br>Bi<br>\",\"Pelican<br>Sunstream<br>100<br>Kayak<br>\",\"Nike<br>Men's<br>Dri-FIT<br>Victory<br>Golf<br>Polo<br>\"],\"xaxis\":\"x6\",\"y\":[69860.231844,51960.420754470004,40940.7896726,40444.6110387,37778.881166,34281.0],\"yaxis\":\"y6\",\"type\":\"bar\"},{\"alignmentgroup\":\"True\",\"hovertemplate\":\"Order City=Los Angeles<br>Product Name=%{x}<br>Total_Revenue=%{y}<extra></extra>\",\"legendgroup\":\"\",\"marker\":{\"color\":\"#636efa\",\"pattern\":{\"shape\":\"\"}},\"name\":\"\",\"offsetgroup\":\"\",\"orientation\":\"v\",\"showlegend\":false,\"textposition\":\"auto\",\"x\":[\"Field<br>&<br>Stream<br>Sportsman<br>16<br>Gun<br>Fire<br>Safe<br>\",\"Perfect<br>Fitness<br>Perfect<br>Rip<br>Deck<br>\",\"Diamondback<br>Women's<br>Serene<br>Classic<br>Comfort<br>Bi<br>\",\"Nike<br>Men's<br>Free<br>5.0+<br>Running<br>Shoe<br>\",\"Pelican<br>Sunstream<br>100<br>Kayak<br>\"],\"xaxis\":\"x3\",\"y\":[68518.3318196,46441.95050837,40402.6310889,30451.40987352,29100.3708965],\"yaxis\":\"y3\",\"type\":\"bar\"},{\"alignmentgroup\":\"True\",\"hovertemplate\":\"Order City=Tegucigalpa<br>Product Name=%{x}<br>Total_Revenue=%{y}<extra></extra>\",\"legendgroup\":\"\",\"marker\":{\"color\":\"#636efa\",\"pattern\":{\"shape\":\"\"}},\"name\":\"\",\"offsetgroup\":\"\",\"orientation\":\"v\",\"showlegend\":false,\"textposition\":\"auto\",\"x\":[\"Field<br>&<br>Stream<br>Sportsman<br>16<br>Gun<br>Fire<br>Safe<br>\",\"Perfect<br>Fitness<br>Perfect<br>Rip<br>Deck<br>\",\"Diamondback<br>Women's<br>Serene<br>Classic<br>Comfort<br>Bi<br>\",\"Nike<br>Men's<br>Free<br>5.0+<br>Running<br>Shoe<br>\",\"Nike<br>Men's<br>Dri-FIT<br>Victory<br>Golf<br>Polo<br>\",\"Pelican<br>Sunstream<br>100<br>Kayak<br>\"],\"xaxis\":\"x4\",\"y\":[68206.3418294,37706.55052201,36865.8709875,35899.2798079,29433.5,27958.440857999998],\"yaxis\":\"y4\",\"type\":\"bar\"},{\"alignmentgroup\":\"True\",\"hovertemplate\":\"Order City=Managua<br>Product Name=%{x}<br>Total_Revenue=%{y}<extra></extra>\",\"legendgroup\":\"\",\"marker\":{\"color\":\"#636efa\",\"pattern\":{\"shape\":\"\"}},\"name\":\"\",\"offsetgroup\":\"\",\"orientation\":\"v\",\"showlegend\":false,\"textposition\":\"auto\",\"x\":[\"Field<br>&<br>Stream<br>Sportsman<br>16<br>Gun<br>Fire<br>Safe<br>\",\"Perfect<br>Fitness<br>Perfect<br>Rip<br>Deck<br>\",\"Nike<br>Men's<br>Free<br>5.0+<br>Running<br>Shoe<br>\",\"Diamondback<br>Women's<br>Serene<br>Classic<br>Comfort<br>Bi<br>\",\"Nike<br>Men's<br>Dri-FIT<br>Victory<br>Golf<br>Polo<br>\"],\"xaxis\":\"x\",\"y\":[52943.1215534,42938.29059958,34444.44989742,34326.5106963,27704.5],\"yaxis\":\"y\",\"type\":\"bar\"},{\"alignmentgroup\":\"True\",\"hovertemplate\":\"Order City=Mexico City<br>Product Name=%{x}<br>Total_Revenue=%{y}<extra></extra>\",\"legendgroup\":\"\",\"marker\":{\"color\":\"#636efa\",\"pattern\":{\"shape\":\"\"}},\"name\":\"\",\"offsetgroup\":\"\",\"orientation\":\"v\",\"showlegend\":false,\"textposition\":\"auto\",\"x\":[\"Field<br>&<br>Stream<br>Sportsman<br>16<br>Gun<br>Fire<br>Safe<br>\",\"Diamondback<br>Women's<br>Serene<br>Classic<br>Comfort<br>Bi<br>\",\"Perfect<br>Fitness<br>Perfect<br>Rip<br>Deck<br>\",\"Nike<br>Men's<br>Free<br>5.0+<br>Running<br>Shoe<br>\",\"Nike<br>Men's<br>Dri-FIT<br>Victory<br>Golf<br>Polo<br>\",\"Pelican<br>Sunstream<br>100<br>Kayak<br>\"],\"xaxis\":\"x2\",\"y\":[48225.401277,33516.5907288,33382.78051438,26853.27982328,24168.25,23545.680726],\"yaxis\":\"y2\",\"type\":\"bar\"}],                        {\"template\":{\"data\":{\"histogram2dcontour\":[{\"type\":\"histogram2dcontour\",\"colorbar\":{\"outlinewidth\":0,\"ticks\":\"\"},\"colorscale\":[[0.0,\"#0d0887\"],[0.1111111111111111,\"#46039f\"],[0.2222222222222222,\"#7201a8\"],[0.3333333333333333,\"#9c179e\"],[0.4444444444444444,\"#bd3786\"],[0.5555555555555556,\"#d8576b\"],[0.6666666666666666,\"#ed7953\"],[0.7777777777777778,\"#fb9f3a\"],[0.8888888888888888,\"#fdca26\"],[1.0,\"#f0f921\"]]}],\"choropleth\":[{\"type\":\"choropleth\",\"colorbar\":{\"outlinewidth\":0,\"ticks\":\"\"}}],\"histogram2d\":[{\"type\":\"histogram2d\",\"colorbar\":{\"outlinewidth\":0,\"ticks\":\"\"},\"colorscale\":[[0.0,\"#0d0887\"],[0.1111111111111111,\"#46039f\"],[0.2222222222222222,\"#7201a8\"],[0.3333333333333333,\"#9c179e\"],[0.4444444444444444,\"#bd3786\"],[0.5555555555555556,\"#d8576b\"],[0.6666666666666666,\"#ed7953\"],[0.7777777777777778,\"#fb9f3a\"],[0.8888888888888888,\"#fdca26\"],[1.0,\"#f0f921\"]]}],\"heatmap\":[{\"type\":\"heatmap\",\"colorbar\":{\"outlinewidth\":0,\"ticks\":\"\"},\"colorscale\":[[0.0,\"#0d0887\"],[0.1111111111111111,\"#46039f\"],[0.2222222222222222,\"#7201a8\"],[0.3333333333333333,\"#9c179e\"],[0.4444444444444444,\"#bd3786\"],[0.5555555555555556,\"#d8576b\"],[0.6666666666666666,\"#ed7953\"],[0.7777777777777778,\"#fb9f3a\"],[0.8888888888888888,\"#fdca26\"],[1.0,\"#f0f921\"]]}],\"heatmapgl\":[{\"type\":\"heatmapgl\",\"colorbar\":{\"outlinewidth\":0,\"ticks\":\"\"},\"colorscale\":[[0.0,\"#0d0887\"],[0.1111111111111111,\"#46039f\"],[0.2222222222222222,\"#7201a8\"],[0.3333333333333333,\"#9c179e\"],[0.4444444444444444,\"#bd3786\"],[0.5555555555555556,\"#d8576b\"],[0.6666666666666666,\"#ed7953\"],[0.7777777777777778,\"#fb9f3a\"],[0.8888888888888888,\"#fdca26\"],[1.0,\"#f0f921\"]]}],\"contourcarpet\":[{\"type\":\"contourcarpet\",\"colorbar\":{\"outlinewidth\":0,\"ticks\":\"\"}}],\"contour\":[{\"type\":\"contour\",\"colorbar\":{\"outlinewidth\":0,\"ticks\":\"\"},\"colorscale\":[[0.0,\"#0d0887\"],[0.1111111111111111,\"#46039f\"],[0.2222222222222222,\"#7201a8\"],[0.3333333333333333,\"#9c179e\"],[0.4444444444444444,\"#bd3786\"],[0.5555555555555556,\"#d8576b\"],[0.6666666666666666,\"#ed7953\"],[0.7777777777777778,\"#fb9f3a\"],[0.8888888888888888,\"#fdca26\"],[1.0,\"#f0f921\"]]}],\"surface\":[{\"type\":\"surface\",\"colorbar\":{\"outlinewidth\":0,\"ticks\":\"\"},\"colorscale\":[[0.0,\"#0d0887\"],[0.1111111111111111,\"#46039f\"],[0.2222222222222222,\"#7201a8\"],[0.3333333333333333,\"#9c179e\"],[0.4444444444444444,\"#bd3786\"],[0.5555555555555556,\"#d8576b\"],[0.6666666666666666,\"#ed7953\"],[0.7777777777777778,\"#fb9f3a\"],[0.8888888888888888,\"#fdca26\"],[1.0,\"#f0f921\"]]}],\"mesh3d\":[{\"type\":\"mesh3d\",\"colorbar\":{\"outlinewidth\":0,\"ticks\":\"\"}}],\"scatter\":[{\"fillpattern\":{\"fillmode\":\"overlay\",\"size\":10,\"solidity\":0.2},\"type\":\"scatter\"}],\"parcoords\":[{\"type\":\"parcoords\",\"line\":{\"colorbar\":{\"outlinewidth\":0,\"ticks\":\"\"}}}],\"scatterpolargl\":[{\"type\":\"scatterpolargl\",\"marker\":{\"colorbar\":{\"outlinewidth\":0,\"ticks\":\"\"}}}],\"bar\":[{\"error_x\":{\"color\":\"#2a3f5f\"},\"error_y\":{\"color\":\"#2a3f5f\"},\"marker\":{\"line\":{\"color\":\"#E5ECF6\",\"width\":0.5},\"pattern\":{\"fillmode\":\"overlay\",\"size\":10,\"solidity\":0.2}},\"type\":\"bar\"}],\"scattergeo\":[{\"type\":\"scattergeo\",\"marker\":{\"colorbar\":{\"outlinewidth\":0,\"ticks\":\"\"}}}],\"scatterpolar\":[{\"type\":\"scatterpolar\",\"marker\":{\"colorbar\":{\"outlinewidth\":0,\"ticks\":\"\"}}}],\"histogram\":[{\"marker\":{\"pattern\":{\"fillmode\":\"overlay\",\"size\":10,\"solidity\":0.2}},\"type\":\"histogram\"}],\"scattergl\":[{\"type\":\"scattergl\",\"marker\":{\"colorbar\":{\"outlinewidth\":0,\"ticks\":\"\"}}}],\"scatter3d\":[{\"type\":\"scatter3d\",\"line\":{\"colorbar\":{\"outlinewidth\":0,\"ticks\":\"\"}},\"marker\":{\"colorbar\":{\"outlinewidth\":0,\"ticks\":\"\"}}}],\"scattermapbox\":[{\"type\":\"scattermapbox\",\"marker\":{\"colorbar\":{\"outlinewidth\":0,\"ticks\":\"\"}}}],\"scatterternary\":[{\"type\":\"scatterternary\",\"marker\":{\"colorbar\":{\"outlinewidth\":0,\"ticks\":\"\"}}}],\"scattercarpet\":[{\"type\":\"scattercarpet\",\"marker\":{\"colorbar\":{\"outlinewidth\":0,\"ticks\":\"\"}}}],\"carpet\":[{\"aaxis\":{\"endlinecolor\":\"#2a3f5f\",\"gridcolor\":\"white\",\"linecolor\":\"white\",\"minorgridcolor\":\"white\",\"startlinecolor\":\"#2a3f5f\"},\"baxis\":{\"endlinecolor\":\"#2a3f5f\",\"gridcolor\":\"white\",\"linecolor\":\"white\",\"minorgridcolor\":\"white\",\"startlinecolor\":\"#2a3f5f\"},\"type\":\"carpet\"}],\"table\":[{\"cells\":{\"fill\":{\"color\":\"#EBF0F8\"},\"line\":{\"color\":\"white\"}},\"header\":{\"fill\":{\"color\":\"#C8D4E3\"},\"line\":{\"color\":\"white\"}},\"type\":\"table\"}],\"barpolar\":[{\"marker\":{\"line\":{\"color\":\"#E5ECF6\",\"width\":0.5},\"pattern\":{\"fillmode\":\"overlay\",\"size\":10,\"solidity\":0.2}},\"type\":\"barpolar\"}],\"pie\":[{\"automargin\":true,\"type\":\"pie\"}]},\"layout\":{\"autotypenumbers\":\"strict\",\"colorway\":[\"#636efa\",\"#EF553B\",\"#00cc96\",\"#ab63fa\",\"#FFA15A\",\"#19d3f3\",\"#FF6692\",\"#B6E880\",\"#FF97FF\",\"#FECB52\"],\"font\":{\"color\":\"#2a3f5f\"},\"hovermode\":\"closest\",\"hoverlabel\":{\"align\":\"left\"},\"paper_bgcolor\":\"white\",\"plot_bgcolor\":\"#E5ECF6\",\"polar\":{\"bgcolor\":\"#E5ECF6\",\"angularaxis\":{\"gridcolor\":\"white\",\"linecolor\":\"white\",\"ticks\":\"\"},\"radialaxis\":{\"gridcolor\":\"white\",\"linecolor\":\"white\",\"ticks\":\"\"}},\"ternary\":{\"bgcolor\":\"#E5ECF6\",\"aaxis\":{\"gridcolor\":\"white\",\"linecolor\":\"white\",\"ticks\":\"\"},\"baxis\":{\"gridcolor\":\"white\",\"linecolor\":\"white\",\"ticks\":\"\"},\"caxis\":{\"gridcolor\":\"white\",\"linecolor\":\"white\",\"ticks\":\"\"}},\"coloraxis\":{\"colorbar\":{\"outlinewidth\":0,\"ticks\":\"\"}},\"colorscale\":{\"sequential\":[[0.0,\"#0d0887\"],[0.1111111111111111,\"#46039f\"],[0.2222222222222222,\"#7201a8\"],[0.3333333333333333,\"#9c179e\"],[0.4444444444444444,\"#bd3786\"],[0.5555555555555556,\"#d8576b\"],[0.6666666666666666,\"#ed7953\"],[0.7777777777777778,\"#fb9f3a\"],[0.8888888888888888,\"#fdca26\"],[1.0,\"#f0f921\"]],\"sequentialminus\":[[0.0,\"#0d0887\"],[0.1111111111111111,\"#46039f\"],[0.2222222222222222,\"#7201a8\"],[0.3333333333333333,\"#9c179e\"],[0.4444444444444444,\"#bd3786\"],[0.5555555555555556,\"#d8576b\"],[0.6666666666666666,\"#ed7953\"],[0.7777777777777778,\"#fb9f3a\"],[0.8888888888888888,\"#fdca26\"],[1.0,\"#f0f921\"]],\"diverging\":[[0,\"#8e0152\"],[0.1,\"#c51b7d\"],[0.2,\"#de77ae\"],[0.3,\"#f1b6da\"],[0.4,\"#fde0ef\"],[0.5,\"#f7f7f7\"],[0.6,\"#e6f5d0\"],[0.7,\"#b8e186\"],[0.8,\"#7fbc41\"],[0.9,\"#4d9221\"],[1,\"#276419\"]]},\"xaxis\":{\"gridcolor\":\"white\",\"linecolor\":\"white\",\"ticks\":\"\",\"title\":{\"standoff\":15},\"zerolinecolor\":\"white\",\"automargin\":true,\"zerolinewidth\":2},\"yaxis\":{\"gridcolor\":\"white\",\"linecolor\":\"white\",\"ticks\":\"\",\"title\":{\"standoff\":15},\"zerolinecolor\":\"white\",\"automargin\":true,\"zerolinewidth\":2},\"scene\":{\"xaxis\":{\"backgroundcolor\":\"#E5ECF6\",\"gridcolor\":\"white\",\"linecolor\":\"white\",\"showbackground\":true,\"ticks\":\"\",\"zerolinecolor\":\"white\",\"gridwidth\":2},\"yaxis\":{\"backgroundcolor\":\"#E5ECF6\",\"gridcolor\":\"white\",\"linecolor\":\"white\",\"showbackground\":true,\"ticks\":\"\",\"zerolinecolor\":\"white\",\"gridwidth\":2},\"zaxis\":{\"backgroundcolor\":\"#E5ECF6\",\"gridcolor\":\"white\",\"linecolor\":\"white\",\"showbackground\":true,\"ticks\":\"\",\"zerolinecolor\":\"white\",\"gridwidth\":2}},\"shapedefaults\":{\"line\":{\"color\":\"#2a3f5f\"}},\"annotationdefaults\":{\"arrowcolor\":\"#2a3f5f\",\"arrowhead\":0,\"arrowwidth\":1},\"geo\":{\"bgcolor\":\"white\",\"landcolor\":\"#E5ECF6\",\"subunitcolor\":\"white\",\"showland\":true,\"showlakes\":true,\"lakecolor\":\"white\"},\"title\":{\"x\":0.05},\"mapbox\":{\"style\":\"light\"}}},\"xaxis\":{\"anchor\":\"y\",\"domain\":[0.0,0.49],\"title\":{\"text\":\"Product Name\"},\"showticklabels\":true,\"tickangle\":0},\"yaxis\":{\"anchor\":\"x\",\"domain\":[0.0,0.2533333333333333],\"title\":{\"text\":\"Total_Revenue\"}},\"xaxis2\":{\"anchor\":\"y2\",\"domain\":[0.51,1.0],\"matches\":\"x\",\"title\":{\"text\":\"Product Name\"},\"showticklabels\":true,\"tickangle\":0},\"yaxis2\":{\"anchor\":\"x2\",\"domain\":[0.0,0.2533333333333333],\"matches\":\"y\",\"showticklabels\":false},\"xaxis3\":{\"anchor\":\"y3\",\"domain\":[0.0,0.49],\"matches\":\"x\",\"showticklabels\":true,\"tickangle\":0},\"yaxis3\":{\"anchor\":\"x3\",\"domain\":[0.3733333333333333,0.6266666666666666],\"matches\":\"y\",\"title\":{\"text\":\"Total_Revenue\"}},\"xaxis4\":{\"anchor\":\"y4\",\"domain\":[0.51,1.0],\"matches\":\"x\",\"showticklabels\":true,\"tickangle\":0},\"yaxis4\":{\"anchor\":\"x4\",\"domain\":[0.3733333333333333,0.6266666666666666],\"matches\":\"y\",\"showticklabels\":false},\"xaxis5\":{\"anchor\":\"y5\",\"domain\":[0.0,0.49],\"matches\":\"x\",\"showticklabels\":true,\"tickangle\":0},\"yaxis5\":{\"anchor\":\"x5\",\"domain\":[0.7466666666666666,0.9999999999999999],\"matches\":\"y\",\"title\":{\"text\":\"Total_Revenue\"}},\"xaxis6\":{\"anchor\":\"y6\",\"domain\":[0.51,1.0],\"matches\":\"x\",\"showticklabels\":true,\"tickangle\":0},\"yaxis6\":{\"anchor\":\"x6\",\"domain\":[0.7466666666666666,0.9999999999999999],\"matches\":\"y\",\"showticklabels\":false},\"annotations\":[{\"font\":{},\"showarrow\":false,\"text\":\"Managua\",\"x\":0.245,\"xanchor\":\"center\",\"xref\":\"paper\",\"y\":0.2533333333333333,\"yanchor\":\"bottom\",\"yref\":\"paper\"},{\"font\":{},\"showarrow\":false,\"text\":\"Mexico City\",\"x\":0.755,\"xanchor\":\"center\",\"xref\":\"paper\",\"y\":0.2533333333333333,\"yanchor\":\"bottom\",\"yref\":\"paper\"},{\"font\":{},\"showarrow\":false,\"text\":\"Los Angeles\",\"x\":0.245,\"xanchor\":\"center\",\"xref\":\"paper\",\"y\":0.6266666666666666,\"yanchor\":\"bottom\",\"yref\":\"paper\"},{\"font\":{},\"showarrow\":false,\"text\":\"Tegucigalpa\",\"x\":0.755,\"xanchor\":\"center\",\"xref\":\"paper\",\"y\":0.6266666666666666,\"yanchor\":\"bottom\",\"yref\":\"paper\"},{\"font\":{},\"showarrow\":false,\"text\":\"New York City\",\"x\":0.245,\"xanchor\":\"center\",\"xref\":\"paper\",\"y\":0.9999999999999999,\"yanchor\":\"bottom\",\"yref\":\"paper\"},{\"font\":{},\"showarrow\":false,\"text\":\"Santo Domingo\",\"x\":0.755,\"xanchor\":\"center\",\"xref\":\"paper\",\"y\":0.9999999999999999,\"yanchor\":\"bottom\",\"yref\":\"paper\"}],\"legend\":{\"tracegroupgap\":0},\"title\":{\"text\":\"A Segment Products in Top 6 Cities\"},\"barmode\":\"relative\",\"height\":1500,\"width\":950},                        {\"responsive\": true}                    ).then(function(){\n",
       "                            \n",
       "var gd = document.getElementById('8443ef20-876e-4987-bce0-417b39e5dad5');\n",
       "var x = new MutationObserver(function (mutations, observer) {{\n",
       "        var display = window.getComputedStyle(gd).display;\n",
       "        if (!display || display === 'none') {{\n",
       "            console.log([gd, 'removed!']);\n",
       "            Plotly.purge(gd);\n",
       "            observer.disconnect();\n",
       "        }}\n",
       "}});\n",
       "\n",
       "// Listen for the removal of the full notebook cells\n",
       "var notebookContainer = gd.closest('#notebook-container');\n",
       "if (notebookContainer) {{\n",
       "    x.observe(notebookContainer, {childList: true});\n",
       "}}\n",
       "\n",
       "// Listen for the clearing of the current output cell\n",
       "var outputEl = gd.closest('.output');\n",
       "if (outputEl) {{\n",
       "    x.observe(outputEl, {childList: true});\n",
       "}}\n",
       "\n",
       "                        })                };                });            </script>        </div>"
      ]
     },
     "metadata": {},
     "output_type": "display_data"
    }
   ],
   "source": [
    "fig = px.bar(data[data[\"segment\"]==\"A\"], x='Product Name', y='Total_Revenue',\n",
    "             facet_col='Order City',facet_col_wrap=2,facet_row_spacing=0.12,\n",
    "             height=1500,title=\"A Segment Products in Top 6 Cities\")\n",
    "fig.for_each_annotation(lambda a: a.update(text=a.text.split(\"=\")[-1]))\n",
    "fig.update_xaxes(showticklabels=True,tickangle=0)\n",
    "fig.update_layout(width=950)\n",
    "fig.show()"
   ]
  },
  {
   "cell_type": "markdown",
   "id": "17ba6a7f",
   "metadata": {
    "papermill": {
     "duration": 0.032752,
     "end_time": "2022-12-05T08:02:31.844974",
     "exception": false,
     "start_time": "2022-12-05T08:02:31.812222",
     "status": "completed"
    },
    "tags": []
   },
   "source": [
    "We can note here that in some city A class products differ from others. For. eg Pelican Sunstream 100 Kayak is not an Class A Product in Managua and New york, while Nike Men Drifit Victory Golf polo is not an class A product in Los Angles. So while managing inventory for these cities we could invest a little less capital and stocking space for these products. "
   ]
  },
  {
   "cell_type": "code",
   "execution_count": null,
   "id": "aaef1d22",
   "metadata": {
    "papermill": {
     "duration": 0.031493,
     "end_time": "2022-12-05T08:02:31.910044",
     "exception": false,
     "start_time": "2022-12-05T08:02:31.878551",
     "status": "completed"
    },
    "tags": []
   },
   "outputs": [],
   "source": []
  }
 ],
 "metadata": {
  "kernelspec": {
   "display_name": "Python 3",
   "language": "python",
   "name": "python3"
  },
  "language_info": {
   "codemirror_mode": {
    "name": "ipython",
    "version": 3
   },
   "file_extension": ".py",
   "mimetype": "text/x-python",
   "name": "python",
   "nbconvert_exporter": "python",
   "pygments_lexer": "ipython3",
   "version": "3.7.12"
  },
  "papermill": {
   "default_parameters": {},
   "duration": 82.227539,
   "end_time": "2022-12-05T08:02:32.864867",
   "environment_variables": {},
   "exception": null,
   "input_path": "__notebook__.ipynb",
   "output_path": "__notebook__.ipynb",
   "parameters": {},
   "start_time": "2022-12-05T08:01:10.637328",
   "version": "2.3.4"
  }
 },
 "nbformat": 4,
 "nbformat_minor": 5
}
